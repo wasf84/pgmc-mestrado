{
  "nbformat": 4,
  "nbformat_minor": 0,
  "metadata": {
    "colab": {
      "provenance": []
    },
    "kernelspec": {
      "name": "python3",
      "display_name": "Python 3"
    },
    "language_info": {
      "name": "python"
    }
  },
  "cells": [
    {
      "cell_type": "markdown",
      "source": [
        "## **Simulações numéricas 3D em GPUs de hipertermia com nanopartículas por um modelo de bioaquecimento não linear**\n",
        "\n",
        "Nome: Lucas Martins Oliveira"
      ],
      "metadata": {
        "id": "AcrPiutW-dDf"
      }
    },
    {
      "cell_type": "markdown",
      "source": [
        "# **Motivação**\n",
        "\n",
        "Temos que o câncer de um modo geral é um problema de saúde mundial e afeta milhares de pessoas todos anos, dessa forma uma forma menos invasiva que vem sendo adotada são as terapias térmicas, já que essas vem apresentando ótimos resultados devido a sua  capacidade de aquecimento de diferentes tecidos e em áreas localizadas, assim temos vários “métodos”, como a terapia baseada em radiação eletromagnética, as baseadas em campos magnéticos alternados  de baixa frequência e a hipertermia por meio de nanopartículas que vai ser o nosso alvo de estudo\n",
        "\n",
        "De um modo geral, a hipertermia com nanopartículas pode ser usada como um tratamento minimamente invasivo para destruir tumores em tecidos vivos.O objetivo é aquecer o tumor até um limiar de temperatura acima do fisiológico normal, a fim de destruir suas células por necrose,mantendo o mínimo possível o dano do tecido saudável, na qual esse tratamento não só destroi as celulas tumorais por conta do aquecimento provocado como também gera uma indução da resposta imune"
      ],
      "metadata": {
        "id": "KTgUFWGAUBHj"
      }
    },
    {
      "cell_type": "markdown",
      "source": [
        "Equação a ser modelada:\n",
        "\n",
        "\\begin{equation*}\n",
        "  \\begin{cases}\n",
        "    \\displaystyle \\nabla \\cdot k \\nabla T + w_b c_b(T_a - T) + Q_m = 0 \\text{ para } \\Omega\\\\\\\\\n",
        "    \\displaystyle k \\nabla T \\cdot\\vec{n} = 0 \\text{ para } \\partial \\Omega_N\\\\\\\\\n",
        "    \\displaystyle T  = 37 \\text{ para } \\partial \\Omega_D\\\\\\\\\n",
        "    \\displaystyle T(.,0) = 37\n",
        "  \\end{cases}\n",
        "\\end{equation*}\n",
        "\n",
        "\\begin{equation*}\n",
        "  \\text { onde } T : \\Omega \\times  I \\rightarrow \\mathbb{R^+} \\text { representa o campo de temperatura do tecido } \\\\\n",
        "  c_b : \\Omega \\times  I \\rightarrow \\mathbb{R^+} \\text { representa o calor específico do sangue } \\\\\n",
        "  k : \\Omega \\times  I \\rightarrow \\mathbb{R^+} \\text { na qual a condutividade térmica é considerada isotrópica, mas não homogênea } \\\\\n",
        "  w_b:  \\Omega \\times {R^+} \\times  I \\rightarrow \\mathbb{R^+} \\text { taxa de perfusão sanguínea } \\\\\n",
        "  T_a \\text { temperatura arterial } \\\\\n",
        "  Q_m : \\Omega \\times  I \\rightarrow \\mathbb{R^+} \\text { representa a geração de calor metabólico } \\\\\n",
        "  f : \\Omega \\times  I \\rightarrow \\mathbb{R^+} \\text { temperaturaprescrita(Dirichelet) ou fluxo (Neumann ou Robin} \\\\\n",
        "  \\alpha , \\beta : \\Omega \\times  I \\rightarrow \\mathbb{R^+} \\text { sendo o vetor normal unitário } \\\\\n",
        "\\end{equation*}"
      ],
      "metadata": {
        "id": "5Tr73TudMbgi"
      }
    },
    {
      "cell_type": "code",
      "execution_count": 1,
      "metadata": {
        "id": "6h1WoVMjCxgq"
      },
      "outputs": [],
      "source": [
        "# DOLFIN is the computational backend of the FEniCS project\n",
        "import numpy as np\n",
        "try:\n",
        "    from dolfin import *\n",
        "except ImportError:\n",
        "    !wget \"https://fem-on-colab.github.io/releases/fenics-install.sh\" -O \"/tmp/fenics-install.sh\" && bash \"/tmp/fenics-install.sh\"\n",
        "    from dolfin import *"
      ]
    },
    {
      "cell_type": "code",
      "source": [
        "mesh = RectangleMesh(Point(0.0, 0.0), Point(50.0, 100.0), 50, 100)\n",
        "V = FunctionSpace(mesh, 'P', 1)\n",
        "materials = MeshFunction('size_t',mesh,mesh.topology().dim())"
      ],
      "metadata": {
        "id": "ZQ3hw2ugeT85"
      },
      "execution_count": 60,
      "outputs": []
    },
    {
      "cell_type": "markdown",
      "source": [
        "Definindo as 4 possibilidades de tecido, que vão ser utilizados em algumas das variáveis:\n",
        "\n",
        "\n",
        "\n",
        "---\n",
        "\n",
        "\n",
        "\n",
        "0. Derme\n",
        "1. Gordura\n",
        "2. Musculo\n",
        "3. Tumor\n"
      ],
      "metadata": {
        "id": "N9UgVaD9RgYc"
      }
    },
    {
      "cell_type": "code",
      "source": [
        "tol = 1E-14\n",
        "\n",
        "class Dermis(SubDomain):\n",
        "    def inside(self, x, on_boundary):\n",
        "        return x[0] <= 2 + tol\n",
        "\n",
        "class Fat(SubDomain):\n",
        "    def inside(self, x, on_boundary):\n",
        "        return x[0] > 2 - tol and x[0] <= 12 + tol\n",
        "\n",
        "class Muscle(SubDomain):\n",
        "    def inside(self, x, on_boundary):\n",
        "        return x[0] > 12 - tol and x[0] <= 50 + tol\n",
        "\n",
        "class Tumor(SubDomain):\n",
        "    def inside(self, x, on_boundary):\n",
        "        return (x[0]-32)**2 + (x[1]-50)**2 <= 12**2"
      ],
      "metadata": {
        "id": "GscqgoTzcZqp"
      },
      "execution_count": 61,
      "outputs": []
    },
    {
      "cell_type": "code",
      "source": [
        "subdomain_0 = Dermis()\n",
        "subdomain_1 = Fat()\n",
        "subdomain_2 = Muscle()\n",
        "subdomain_3 = Tumor()\n",
        "subdomain_0.mark(materials, 0)\n",
        "subdomain_1.mark(materials, 1)\n",
        "subdomain_2.mark(materials, 2)\n",
        "subdomain_3.mark(materials, 3)\n",
        "\n",
        "plot(materials)"
      ],
      "metadata": {
        "colab": {
          "base_uri": "https://localhost:8080/",
          "height": 447
        },
        "id": "Z2PVM8mZdWB-",
        "outputId": "45f3a23f-b36e-4df6-fe31-b348d25cd2b4"
      },
      "execution_count": 62,
      "outputs": [
        {
          "output_type": "execute_result",
          "data": {
            "text/plain": [
              "<matplotlib.collections.PolyCollection at 0x7ff3303a6fe0>"
            ]
          },
          "metadata": {},
          "execution_count": 62
        },
        {
          "output_type": "display_data",
          "data": {
            "text/plain": [
              "<Figure size 640x480 with 1 Axes>"
            ],
            "image/png": "[encoded data removed]"
          },
          "metadata": {}
        }
      ]
    },
    {
      "cell_type": "code",
      "source": [
        "V0 = FunctionSpace(mesh, 'DG', 0)\n",
        "scale=0.01"
      ],
      "metadata": {
        "id": "mxU5AP_hRwlt"
      },
      "execution_count": 63,
      "outputs": []
    },
    {
      "cell_type": "markdown",
      "source": [
        "A geração de calor metabólico varia de acordo com a região tratada, temos assim então:\n",
        "\n",
        "\\begin{equation*}\n",
        "  Q_{m_{muscle}} = Q_{m_{fat}} = Q_{m_{dermis}} = 420.0 \\\\\n",
        "  Q_{m_{tumor}} = 4200.0\n",
        "\\end{equation*}"
      ],
      "metadata": {
        "id": "gH1ZOmv2PSA1"
      }
    },
    {
      "cell_type": "code",
      "source": [
        "qm_values = [420, 420, 420, 4200]  # values of qm in the two subdomains"
      ],
      "metadata": {
        "id": "RvVYK96BSQfl"
      },
      "execution_count": 64,
      "outputs": []
    },
    {
      "cell_type": "markdown",
      "source": [
        "Temos que a condutividade térmica varia de acordo com o tecido, assim obtemos a seguintes relações:\n",
        "\n",
        "\\begin{equation*}\n",
        "  k_{dermis} = 0.40\\\\\n",
        "  k_{fat} = 0.21\\\\\n",
        "  k_{muscle} = 0.45\\\\\n",
        "  k_{tumor} = 0.55\\\\\n",
        "\\end{equation*}"
      ],
      "metadata": {
        "id": "fe-hntH2VXff"
      }
    },
    {
      "cell_type": "code",
      "source": [
        "k_values = [0.4, 0.21, 0.45, 0.55]  # values of k in the two subdomains"
      ],
      "metadata": {
        "id": "KBf0fp6nR-29"
      },
      "execution_count": 65,
      "outputs": []
    },
    {
      "cell_type": "code",
      "source": [
        "elem = FiniteElement(\"CG\", triangle, 1) # here interval is a FEniCS builtin representing a single interval\n",
        "W = FunctionSpace(mesh, elem)\n",
        "\n",
        "V = TestFunction(W) # the test function\n",
        "T = TrialFunction(W) # the TrialFunction is basically a symbol representing the unknown"
      ],
      "metadata": {
        "id": "0U54VHCrB1N4"
      },
      "execution_count": 66,
      "outputs": []
    },
    {
      "cell_type": "markdown",
      "source": [
        "A taxa de perfusão sanguínea varia de acordo com o tecido e com a temperatura que esse se encontra, dessa forma temos que:\n",
        "\n",
        "\\begin{equation*}\n",
        "  W_{dermis} = 0.5 \\\\\n",
        "  W_{muscle} =\n",
        "    \\begin{cases}\n",
        "      \\displaystyle 0.45 + 3.55exp(-\\frac{(T-45.0)^2}{12.0}) \\text { para } T \\leq 45.0 \\\\\\\\\n",
        "      4.0 \\text { para } T>45.0\n",
        "    \\end{cases} \\\\\n",
        "    W_{fat} =\n",
        "    \\begin{cases}\n",
        "      \\displaystyle 0.36 + 0.36exp(-\\frac{(T-45.0)^2}{12.0}) \\text { para } T \\leq 45.0 \\\\\\\\\n",
        "      0.72 \\text { para } T>45.0\n",
        "    \\end{cases} \\\\\n",
        "    W_{tumor} =\n",
        "    \\begin{cases}\n",
        "      \\displaystyle 0.833 + -\\frac{(T-37.0)^{4.8}}{5.438E+3} \\text { para } 37.0 \\leq T \\leq 42.0 \\\\\\\\\n",
        "      0.416 \\text { para } T>42.0\n",
        "    \\end{cases} \\\\\n",
        "\\end{equation*}"
      ],
      "metadata": {
        "id": "ZjRrOiDB6f6s"
      }
    },
    {
      "cell_type": "code",
      "source": [
        "import numpy as np\n",
        "U_sol = Function(W)  # place to store the solution\n",
        "\n",
        "\n",
        "fat = (0.36 + 0.36*np.exp((-(40-45.0)**2)/12)) * 1\n",
        "muscle = 0.45 + 3.55*np.exp((-(40-45.0)**2)/12) * 1\n",
        "tumor =0.833 - ((40-37)**4.8)/(5438)\n",
        "\n",
        "w_values = [0.5, fat, muscle, tumor]  # values of wb in the two subdomains\n"
      ],
      "metadata": {
        "id": "VvzN2d44Bulv"
      },
      "execution_count": 98,
      "outputs": []
    },
    {
      "cell_type": "code",
      "source": [
        "#declarando os vetores\n",
        "qm  = Function(V0)\n",
        "k  = Function(V0)\n",
        "w  = Function(V0)\n",
        "\n",
        "# a  = Function(V0)\n",
        "# b  = Function(V0)\n",
        "# c  = Function(V0)\n",
        "# d  = Function(V0)\n",
        "# e  = Function(V0)\n",
        "\n",
        "\n",
        "# a_values = [0.5, 0.36, 0.45, 0.833]\n",
        "# b_values = [0, 0.36, 3.55, 0]\n",
        "# c_values = [0, 45, 45, 0]\n",
        "# d_values = [1, 12, 12, 1]\n",
        "# e_values = [1, 2, 2, 1]\n",
        "\n",
        "#Percorremos o dominio diferenciando os respectivos tecidos e os valores das variaveis de acordo com cada regiao\n",
        "for cell_no in range(len(materials.array())):\n",
        "    subdomain_no = materials.array()[cell_no]\n",
        "\n",
        "    qm.vector()[cell_no] = qm_values[subdomain_no] #valores de qm\n",
        "    k.vector()[cell_no] = k_values[subdomain_no] #valores de k\n",
        "    w.vector()[cell_no] = k_values[subdomain_no] #valores de w\n",
        "    # a.vector()[cell_no] = a_values[subdomain_no]\n",
        "    # b.vector()[cell_no] = b_values[subdomain_no]\n",
        "    # c.vector()[cell_no] = c_values[subdomain_no]\n",
        "    # d.vector()[cell_no] = d_values[subdomain_no]\n",
        "    # e.vector()[cell_no] = e_values[subdomain_no]\n"
      ],
      "metadata": {
        "id": "58Nix2D8KrdE"
      },
      "execution_count": 99,
      "outputs": []
    },
    {
      "cell_type": "markdown",
      "source": [
        "Reorganizando a equação para o método :\n",
        "\n",
        "\\begin{equation*}\n",
        "  \\int_{\\Omega}^{} \\nabla k \\nabla T V dx - \\int_{\\Omega}^{} w_b c_b T V dx  = - \\int_{\\Omega}^{} Q_m V dx - \\int_{\\Omega}^{} w_b c_b T_a V dx\n",
        "\\end{equation*}\n",
        "\n",
        "No qual denominamos $a(u,v)$ igual a:\n",
        "\n",
        "\\begin{equation*}\n",
        "  \\int_{\\Omega}^{} \\nabla k \\nabla T V dx - \\int_{\\Omega}^{} w_b c_b T V dx\n",
        "\\end{equation*}\n",
        "\n",
        "Já a outra expressão que não trabalha com a variação da temperatura diretamente, isolamos a no lado direito como mostrado anteriormente e denominamos esse lado como $f$:\n",
        "\n",
        "\\begin{equation*}\n",
        "  - \\int_{\\Omega}^{} Q_m V dx - \\int_{\\Omega}^{} w_b c_b T_a V dx\n",
        "\\end{equation*}"
      ],
      "metadata": {
        "id": "aU1Xk0F2EAgk"
      }
    },
    {
      "cell_type": "code",
      "execution_count": 100,
      "metadata": {
        "colab": {
          "base_uri": "https://localhost:8080/",
          "height": 435
        },
        "id": "_uzIPQD9-9qd",
        "outputId": "c792e0d6-eb69-4510-8313-eb515d87829e"
      },
      "outputs": [
        {
          "output_type": "display_data",
          "data": {
            "text/plain": [
              "<Figure size 640x480 with 1 Axes>"
            ],
            "image/png": "[encoded data removed]"
          },
          "metadata": {}
        }
      ],
      "source": [
        "cb = Constant(4200.0) # calor especifico do sangue\n",
        "Ta = Constant(37.0) # temperatura arterial\n",
        "\n",
        "#a = (U*V)/dt * dx + kappa * dot( grad(U), grad(V) ) * dx  # left hand side of our equation\n",
        "a = (dot( k* grad(T), grad(V) ) * dx) - (w * cb * T)*V*dx\n",
        "\n",
        "#é o que chamamos de f, isolamos do lado direito\n",
        "L = (-qm - w*cb*Ta)*V*dx # right hand side of our equation\n",
        "\n",
        "\n",
        "value_left = Constant(37.0)\n",
        "\n",
        "bc_l = DirichletBC(W, value_left, \"on_boundary && near(x[0], 0)\") # Imposing Dirichlet BC to the left boundary node\n",
        "\n",
        "\n",
        "bcs = [bc_l]   # list of boundary conditions to apply to the problem\n",
        "\n",
        "f = File(\"results.pvd\")\n",
        "\n",
        "\n",
        "solve(a == L, U_sol, bcs)\n",
        "plot(U_sol);\n",
        "f<<U_sol\n",
        "\n"
      ]
    },
    {
      "cell_type": "code",
      "source": [],
      "metadata": {
        "id": "urHxJOND4UYD"
      },
      "execution_count": 82,
      "outputs": []
    }
  ]
}