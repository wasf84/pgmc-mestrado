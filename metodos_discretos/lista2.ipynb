{
  "nbformat": 4,
  "nbformat_minor": 0,
  "metadata": {
    "colab": {
      "provenance": []
    },
    "kernelspec": {
      "name": "python3",
      "display_name": "Python 3"
    },
    "language_info": {
      "name": "python"
    }
  },
  "cells": [
    {
      "cell_type": "markdown",
      "source": [
        "#Introdução aos métodos discretos\n",
        "\n",
        "Nome: WELSON DE AVELAR SOARES FILHO"
      ],
      "metadata": {
        "id": "-AfXf3hw_QZ1"
      }
    },
    {
      "cell_type": "code",
      "source": [
        "import math, numpy as np, matplotlib.pyplot as plt\n",
        "\n",
        "plt.rcParams['figure.figsize'] = [10, 10]"
      ],
      "metadata": {
        "id": "K4PSEY6naQTi"
      },
      "execution_count": 12,
      "outputs": []
    },
    {
      "cell_type": "markdown",
      "source": [
        "## 1) Demostre a fórmula da diferença unilateral à esquerda.\n",
        "\n",
        "\n"
      ],
      "metadata": {
        "id": "awtEbIYq_XZC"
      }
    },
    {
      "cell_type": "markdown",
      "source": [
        "*Digite seu raciocínio aqui ...*"
      ],
      "metadata": {
        "id": "JALWJGAq_rRf"
      }
    },
    {
      "cell_type": "markdown",
      "source": [
        "## 2) Aproxime a derivada de primeira ordem da função  $f(x)=sen(x)$ utilizando a diferenças finitas $O(h^2)$ utilizando $h=0.1$ e $h=0.01$ para $x\\in[0,1]$. Plote a derivada analítica e as aproximadas para comparar os resultados. \n",
        "\n"
      ],
      "metadata": {
        "id": "uN1XZefM_v0e"
      }
    },
    {
      "cell_type": "code",
      "source": [
        "#Inclua seu código aqui...\n",
        "\n",
        "def f(x): # função primitiva\n",
        "  return np.sin(x)\n",
        "\n",
        "def f1(x): # primeira derivada\n",
        "  return np.cos(x)\n",
        "\n",
        "def centrada(x, h):\n",
        "  return (f(x + h) - f(x - h)) / 2*h\n",
        "\n",
        "def progressiva(x, h):\n",
        "  return (f(x + h) - f(x)) / h\n",
        "\n",
        "def regressiva(x, h):\n",
        "  return (f(x) - f(x - h)) / h\n",
        "\n",
        "def aproximada(x, h):\n",
        "  apx = np.zeros(len(x))\n",
        "\n",
        "  # calcula a diferença progressiva no ponto 0\n",
        "  apx[0] = progressiva(x[0], h)\n",
        "\n",
        "  for i in range(1, len(x) - 1): # diferença centrada\n",
        "    apx[i] = centrada(x[i], h)\n",
        "\n",
        "  # calcula a diferença regressiva no ponto 1\n",
        "  apx[-1] = regressiva(x[-1], h)\n",
        "  \n",
        "  return apx\n",
        " \n",
        "h = 0.01;\n",
        "x = np.arange(0, 1.01, h)\n",
        "apx = aproximada(x, h)\n",
        "\n",
        "plt.plot(x, f1(x), label='Sol. analítica')\n",
        "plt.plot(x, apx, label='Sol. aproximada')\n",
        "plt.legend()\n",
        "\n",
        "plt.show()"
      ],
      "metadata": {
        "id": "z4UEN7iq_xTL",
        "colab": {
          "base_uri": "https://localhost:8080/",
          "height": 592
        },
        "outputId": "79280b7d-d8dc-4ced-c9ad-b25386bb3b64"
      },
      "execution_count": 28,
      "outputs": [
        {
          "output_type": "display_data",
          "data": {
            "text/plain": [
              "<Figure size 720x720 with 1 Axes>"
            ],
            "image/png": "[encoded data removed]"
          },
          "metadata": {
            "needs_background": "light"
          }
        }
      ]
    },
    {
      "cell_type": "markdown",
      "source": [
        "## 3) Utilizando a função  $f(x)=sen(x)$ , mostre que o erro diferença progressiva e diferença centrada decrescem em $O(h)$ e $O(h^2)$, respectivamente. Para isso faça o que se pede:\n",
        "\n",
        "\n"
      ],
      "metadata": {
        "id": "XilA0i6OARLm"
      }
    },
    {
      "cell_type": "markdown",
      "source": [
        "### a) Tomando $h\\in[10^{-6}, 10^{0}]$, plote, em escala log-log, o gráfico de $h$ versus erro absoluto e calcule a inclinação destas retas."
      ],
      "metadata": {
        "id": "qbRMN_spBBKX"
      }
    },
    {
      "cell_type": "code",
      "source": [
        "#Inclua seu código aqui..."
      ],
      "metadata": {
        "id": "PTT6pw20AgAz"
      },
      "execution_count": null,
      "outputs": []
    },
    {
      "cell_type": "markdown",
      "source": [
        "### b) Tomando $h\\in[10^{-20}, 10^{0}]$, plote, em escala log-log, o gráfico de $h$ versus erro absoluto. O que aconteceu e por que?"
      ],
      "metadata": {
        "id": "Py_xcBhWAiCB"
      }
    },
    {
      "cell_type": "markdown",
      "source": [
        "*Digite seu raciocínio aqui ...*"
      ],
      "metadata": {
        "id": "fx-PdPnjBORD"
      }
    },
    {
      "cell_type": "code",
      "source": [
        "#Inclua seu código aqui..."
      ],
      "metadata": {
        "id": "YWMczPKiBFHL"
      },
      "execution_count": null,
      "outputs": []
    }
  ]
}