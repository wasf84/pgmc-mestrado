{
 "cells": [
  {
   "cell_type": "markdown",
   "metadata": {
    "colab_type": "text",
    "id": "X0uiTOAeVs1n"
   },
   "source": [
    "## Deep SARSA in Cartpole using Keras-RL.\n",
    "#### This is a step-by-step guide to using a neural network-based SARSA in Cartpole, a simple OpenAI gym environment.\n"
   ]
  },
  {
   "cell_type": "code",
   "execution_count": 1,
   "metadata": {
    "colab": {},
    "colab_type": "code",
    "id": "klTUy1NnyF-s"
   },
   "outputs": [
    {
     "name": "stderr",
     "output_type": "stream",
     "text": [
      "/home/wasf84/Documentos/pgmc-mestrado/agentes_inteligentes/notebooks/deep-learning/dl-env/lib/python3.10/site-packages/tensorflow/__init__.py:29: DeprecationWarning: The distutils package is deprecated and slated for removal in Python 3.12. Use setuptools or check PEP 632 for potential alternatives\n",
      "  import distutils as _distutils\n",
      "/home/wasf84/Documentos/pgmc-mestrado/agentes_inteligentes/notebooks/deep-learning/dl-env/lib/python3.10/site-packages/flatbuffers/compat.py:19: DeprecationWarning: the imp module is deprecated in favour of importlib and slated for removal in Python 3.12; see the module's documentation for alternative uses\n",
      "  import imp\n",
      "/home/wasf84/Documentos/pgmc-mestrado/agentes_inteligentes/notebooks/deep-learning/dl-env/lib/python3.10/site-packages/keras/utils/image_utils.py:36: DeprecationWarning: NEAREST is deprecated and will be removed in Pillow 10 (2023-07-01). Use Resampling.NEAREST or Dither.NONE instead.\n",
      "  'nearest': pil_image.NEAREST,\n",
      "/home/wasf84/Documentos/pgmc-mestrado/agentes_inteligentes/notebooks/deep-learning/dl-env/lib/python3.10/site-packages/keras/utils/image_utils.py:37: DeprecationWarning: BILINEAR is deprecated and will be removed in Pillow 10 (2023-07-01). Use Resampling.BILINEAR instead.\n",
      "  'bilinear': pil_image.BILINEAR,\n",
      "/home/wasf84/Documentos/pgmc-mestrado/agentes_inteligentes/notebooks/deep-learning/dl-env/lib/python3.10/site-packages/keras/utils/image_utils.py:38: DeprecationWarning: BICUBIC is deprecated and will be removed in Pillow 10 (2023-07-01). Use Resampling.BICUBIC instead.\n",
      "  'bicubic': pil_image.BICUBIC,\n",
      "/home/wasf84/Documentos/pgmc-mestrado/agentes_inteligentes/notebooks/deep-learning/dl-env/lib/python3.10/site-packages/keras/utils/image_utils.py:39: DeprecationWarning: HAMMING is deprecated and will be removed in Pillow 10 (2023-07-01). Use Resampling.HAMMING instead.\n",
      "  'hamming': pil_image.HAMMING,\n",
      "/home/wasf84/Documentos/pgmc-mestrado/agentes_inteligentes/notebooks/deep-learning/dl-env/lib/python3.10/site-packages/keras/utils/image_utils.py:40: DeprecationWarning: BOX is deprecated and will be removed in Pillow 10 (2023-07-01). Use Resampling.BOX instead.\n",
      "  'box': pil_image.BOX,\n",
      "/home/wasf84/Documentos/pgmc-mestrado/agentes_inteligentes/notebooks/deep-learning/dl-env/lib/python3.10/site-packages/keras/utils/image_utils.py:41: DeprecationWarning: LANCZOS is deprecated and will be removed in Pillow 10 (2023-07-01). Use Resampling.LANCZOS instead.\n",
      "  'lanczos': pil_image.LANCZOS,\n"
     ]
    }
   ],
   "source": [
    "import collections\n",
    "import numpy as np\n",
    "import gym\n",
    "\n",
    "from keras.layers import Dense, Flatten, Activation, Input, Lambda\n",
    "from keras.models import Sequential, Model\n",
    "from keras.optimizers import Adam\n",
    "\n",
    "from rl.agents import SARSAAgent\n",
    "from rl.agents.dqn import mean_q\n",
    "\n",
    "from rl.callbacks import TrainEpisodeLogger\n",
    "from rl.policy import EpsGreedyQPolicy, GreedyQPolicy, BoltzmannQPolicy, MaxBoltzmannQPolicy\n",
    "\n",
    "from keras.utils import plot_model\n",
    "import keras.backend as K"
   ]
  },
  {
   "cell_type": "markdown",
   "metadata": {
    "colab_type": "text",
    "id": "xT_nhQ0aXw5D"
   },
   "source": [
    "## Deep SARSA in Cartpole"
   ]
  },
  {
   "cell_type": "code",
   "execution_count": 2,
   "metadata": {
    "colab": {},
    "colab_type": "code",
    "id": "E6WpQd6gEjoT"
   },
   "outputs": [
    {
     "name": "stderr",
     "output_type": "stream",
     "text": [
      "/home/wasf84/Documentos/pgmc-mestrado/agentes_inteligentes/notebooks/deep-learning/dl-env/lib/python3.10/site-packages/gym/core.py:317: DeprecationWarning: \u001b[33mWARN: Initializing wrapper in old step API which returns one bool instead of two. It is recommended to set `new_step_api=True` to use new step API. This will be the default behaviour in future.\u001b[0m\n",
      "  deprecation(\n",
      "/home/wasf84/Documentos/pgmc-mestrado/agentes_inteligentes/notebooks/deep-learning/dl-env/lib/python3.10/site-packages/gym/wrappers/step_api_compatibility.py:39: DeprecationWarning: \u001b[33mWARN: Initializing environment in old step API which returns one bool instead of two. It is recommended to set `new_step_api=True` to use new step API. This will be the default behaviour in future.\u001b[0m\n",
      "  deprecation(\n",
      "/home/wasf84/Documentos/pgmc-mestrado/agentes_inteligentes/notebooks/deep-learning/dl-env/lib/python3.10/site-packages/gym/core.py:256: DeprecationWarning: \u001b[33mWARN: Function `env.seed(seed)` is marked as deprecated and will be removed in the future. Please use `env.reset(seed=seed)` instead.\u001b[0m\n",
      "  deprecation(\n"
     ]
    }
   ],
   "source": [
    "#Setting up the environment\n",
    "env = gym.make('CartPole-v1')\n",
    "seed_val = 261\n",
    "env.seed(seed_val)\n",
    "np.random.seed(seed_val)\n",
    "\n",
    "# tive de fazer essa mutreta para poder rodar em multithread\n",
    "# se colocar um '_max_episode_steps' MENOR que 'max_steps', dá problema com truncamento no método 'sarsa.fit'\n",
    "# pesquisando na internet descobri que é por causa exatamente da otimização do código para rodar em multithread\n",
    "# não entendi bem porque isso, não achei alguém explicando exatamente o problema, apenas falando como resolveu\n",
    "max_steps=50000\n",
    "env._max_episode_steps = max_steps\n",
    "\n",
    "#Getting the state and action space\n",
    "states = env.observation_space.shape[0]\n",
    "actions = env.action_space.n\n",
    "\n",
    "#Defining a Neural Network function for our Cartpole agent \n",
    "def agent(states, actions):\n",
    "    \"\"\"Creating a simple Deep Neural Network.\"\"\"\n",
    "    model = Sequential()\n",
    "    model.add(Flatten(input_shape = (1, states)))\n",
    "    model.add(Dense(30, activation='swish'))\n",
    "    model.add(Dense(30, activation='swish'))\n",
    "    model.add(Dense(actions, activation='linear'))\n",
    "    return model"
   ]
  },
  {
   "cell_type": "code",
   "execution_count": 3,
   "metadata": {
    "colab": {
     "base_uri": "https://localhost:8080/",
     "height": 374
    },
    "colab_type": "code",
    "id": "2M-A8mMOFVq5",
    "outputId": "08b82211-c1e3-4367-85fb-1f79fe37ab53"
   },
   "outputs": [
    {
     "name": "stderr",
     "output_type": "stream",
     "text": [
      "/home/wasf84/Documentos/pgmc-mestrado/agentes_inteligentes/notebooks/deep-learning/dl-env/lib/python3.10/site-packages/keras/engine/training_v1.py:2067: UserWarning: `Model.state_updates` will be removed in a future version. This property should not be used in TensorFlow 2.0, as `updates` are applied automatically.\n",
      "  updates=self.state_updates,\n",
      "2022-09-01 17:43:12.907809: I tensorflow/core/platform/cpu_feature_guard.cc:193] This TensorFlow binary is optimized with oneAPI Deep Neural Network Library (oneDNN) to use the following CPU instructions in performance-critical operations:  AVX2 FMA\n",
      "To enable them in other operations, rebuild TensorFlow with the appropriate compiler flags.\n",
      "2022-09-01 17:43:12.913904: I tensorflow/compiler/mlir/mlir_graph_optimization_pass.cc:354] MLIR V1 optimization pass is not enabled\n"
     ]
    },
    {
     "name": "stdout",
     "output_type": "stream",
     "text": [
      "Training for 50000 steps ...\n",
      "Interval 1 (0 steps performed)\n",
      "10000/10000 [==============================] - 34s 3ms/step - reward: 1.0000\n",
      "262 episodes - episode_reward: 37.718 [8.000, 212.000] - loss: 7.560 - mse: 577.563 - mean_q: 31.455\n",
      "\n",
      "Interval 2 (10000 steps performed)\n",
      "10000/10000 [==============================] - 35s 3ms/step - reward: 1.0000\n",
      "90 episodes - episode_reward: 111.067 [15.000, 377.000] - loss: 6.462 - mse: 1308.064 - mean_q: 49.056\n",
      "\n",
      "Interval 3 (20000 steps performed)\n",
      "10000/10000 [==============================] - 35s 4ms/step - reward: 1.0000\n",
      "52 episodes - episode_reward: 182.250 [11.000, 1209.000] - loss: 6.373 - mse: 2303.101 - mean_q: 66.765\n",
      "\n",
      "Interval 4 (30000 steps performed)\n",
      "10000/10000 [==============================] - 34s 3ms/step - reward: 1.0000\n",
      "2 episodes - episode_reward: 5248.000 [27.000, 10469.000] - loss: 0.925 - mse: 4925.528 - mean_q: 99.956\n",
      "\n",
      "Interval 5 (40000 steps performed)\n",
      "10000/10000 [==============================] - 34s 3ms/step - reward: 1.0000\n",
      "done, took 172.912 seconds\n"
     ]
    },
    {
     "data": {
      "text/plain": [
       "<keras.callbacks.History at 0x7fc32dca8700>"
      ]
     },
     "execution_count": 3,
     "metadata": {},
     "output_type": "execute_result"
    }
   ],
   "source": [
    "#Getting our neural network\n",
    "model = agent(states, actions)\n",
    "\n",
    "#Defining SARSA Keras-RL agent: inputing the policy and the model\n",
    "sarsa = SARSAAgent(model=model, nb_actions=actions, policy=MaxBoltzmannQPolicy())\n",
    "\n",
    "#Compiling SARSA with mean squared error loss\n",
    "sarsa.compile('adam', metrics=[\"mse\"])\n",
    "\n",
    "#Training the agent for max_steps steps\n",
    "sarsa.fit(env, nb_steps=max_steps, visualize=False, verbose=1)"
   ]
  },
  {
   "cell_type": "code",
   "execution_count": 4,
   "metadata": {
    "colab": {
     "base_uri": "https://localhost:8080/",
     "height": 1000
    },
    "colab_type": "code",
    "id": "ikHuz4zZFh9s",
    "outputId": "1f516314-83b1-4203-81a2-c957ffde9032"
   },
   "outputs": [
    {
     "name": "stdout",
     "output_type": "stream",
     "text": [
      "Testing for 200 episodes ...\n",
      "Episode 1: reward: 2899.000, steps: 2899\n",
      "Episode 2: reward: 2955.000, steps: 2955\n",
      "Episode 3: reward: 2181.000, steps: 2181\n",
      "Episode 4: reward: 2602.000, steps: 2602\n",
      "Episode 5: reward: 2018.000, steps: 2018\n",
      "Episode 6: reward: 2827.000, steps: 2827\n",
      "Episode 7: reward: 2284.000, steps: 2284\n",
      "Episode 8: reward: 2208.000, steps: 2208\n",
      "Episode 9: reward: 2130.000, steps: 2130\n",
      "Episode 10: reward: 2096.000, steps: 2096\n",
      "Episode 11: reward: 2709.000, steps: 2709\n",
      "Episode 12: reward: 2270.000, steps: 2270\n",
      "Episode 13: reward: 2876.000, steps: 2876\n",
      "Episode 14: reward: 2727.000, steps: 2727\n",
      "Episode 15: reward: 2738.000, steps: 2738\n",
      "Episode 16: reward: 2957.000, steps: 2957\n",
      "Episode 17: reward: 2136.000, steps: 2136\n",
      "Episode 18: reward: 2480.000, steps: 2480\n",
      "Episode 19: reward: 2080.000, steps: 2080\n",
      "Episode 20: reward: 2487.000, steps: 2487\n",
      "Episode 21: reward: 2015.000, steps: 2015\n",
      "Episode 22: reward: 2504.000, steps: 2504\n",
      "Episode 23: reward: 2591.000, steps: 2591\n",
      "Episode 24: reward: 2715.000, steps: 2715\n",
      "Episode 25: reward: 2291.000, steps: 2291\n",
      "Episode 26: reward: 2467.000, steps: 2467\n",
      "Episode 27: reward: 2613.000, steps: 2613\n",
      "Episode 28: reward: 2445.000, steps: 2445\n",
      "Episode 29: reward: 2693.000, steps: 2693\n",
      "Episode 30: reward: 2302.000, steps: 2302\n",
      "Episode 31: reward: 2481.000, steps: 2481\n",
      "Episode 32: reward: 2271.000, steps: 2271\n",
      "Episode 33: reward: 2741.000, steps: 2741\n",
      "Episode 34: reward: 2933.000, steps: 2933\n",
      "Episode 35: reward: 2107.000, steps: 2107\n",
      "Episode 36: reward: 2851.000, steps: 2851\n",
      "Episode 37: reward: 2441.000, steps: 2441\n",
      "Episode 38: reward: 2366.000, steps: 2366\n",
      "Episode 39: reward: 2367.000, steps: 2367\n",
      "Episode 40: reward: 2903.000, steps: 2903\n",
      "Episode 41: reward: 2923.000, steps: 2923\n",
      "Episode 42: reward: 2957.000, steps: 2957\n",
      "Episode 43: reward: 2354.000, steps: 2354\n",
      "Episode 44: reward: 2395.000, steps: 2395\n",
      "Episode 45: reward: 2747.000, steps: 2747\n",
      "Episode 46: reward: 2226.000, steps: 2226\n",
      "Episode 47: reward: 2875.000, steps: 2875\n",
      "Episode 48: reward: 2697.000, steps: 2697\n",
      "Episode 49: reward: 2125.000, steps: 2125\n",
      "Episode 50: reward: 2272.000, steps: 2272\n",
      "Episode 51: reward: 2185.000, steps: 2185\n",
      "Episode 52: reward: 2783.000, steps: 2783\n",
      "Episode 53: reward: 2943.000, steps: 2943\n",
      "Episode 54: reward: 2057.000, steps: 2057\n",
      "Episode 55: reward: 2980.000, steps: 2980\n",
      "Episode 56: reward: 2791.000, steps: 2791\n",
      "Episode 57: reward: 2579.000, steps: 2579\n",
      "Episode 58: reward: 2568.000, steps: 2568\n",
      "Episode 59: reward: 2281.000, steps: 2281\n",
      "Episode 60: reward: 2886.000, steps: 2886\n",
      "Episode 61: reward: 2193.000, steps: 2193\n",
      "Episode 62: reward: 2923.000, steps: 2923\n",
      "Episode 63: reward: 2409.000, steps: 2409\n",
      "Episode 64: reward: 2759.000, steps: 2759\n",
      "Episode 65: reward: 2715.000, steps: 2715\n",
      "Episode 66: reward: 2090.000, steps: 2090\n",
      "Episode 67: reward: 2018.000, steps: 2018\n",
      "Episode 68: reward: 2378.000, steps: 2378\n",
      "Episode 69: reward: 2503.000, steps: 2503\n",
      "Episode 70: reward: 2118.000, steps: 2118\n",
      "Episode 71: reward: 2511.000, steps: 2511\n",
      "Episode 72: reward: 2296.000, steps: 2296\n",
      "Episode 73: reward: 1977.000, steps: 1977\n",
      "Episode 74: reward: 3013.000, steps: 3013\n",
      "Episode 75: reward: 2694.000, steps: 2694\n",
      "Episode 76: reward: 2915.000, steps: 2915\n",
      "Episode 77: reward: 2414.000, steps: 2414\n",
      "Episode 78: reward: 2673.000, steps: 2673\n",
      "Episode 79: reward: 2437.000, steps: 2437\n",
      "Episode 80: reward: 2811.000, steps: 2811\n",
      "Episode 81: reward: 2809.000, steps: 2809\n",
      "Episode 82: reward: 2805.000, steps: 2805\n",
      "Episode 83: reward: 2249.000, steps: 2249\n",
      "Episode 84: reward: 2271.000, steps: 2271\n",
      "Episode 85: reward: 2317.000, steps: 2317\n",
      "Episode 86: reward: 2072.000, steps: 2072\n",
      "Episode 87: reward: 2086.000, steps: 2086\n",
      "Episode 88: reward: 2002.000, steps: 2002\n",
      "Episode 89: reward: 2586.000, steps: 2586\n",
      "Episode 90: reward: 2205.000, steps: 2205\n",
      "Episode 91: reward: 2555.000, steps: 2555\n",
      "Episode 92: reward: 2692.000, steps: 2692\n",
      "Episode 93: reward: 2200.000, steps: 2200\n",
      "Episode 94: reward: 2986.000, steps: 2986\n",
      "Episode 95: reward: 2069.000, steps: 2069\n",
      "Episode 96: reward: 2577.000, steps: 2577\n",
      "Episode 97: reward: 2864.000, steps: 2864\n",
      "Episode 98: reward: 2805.000, steps: 2805\n",
      "Episode 99: reward: 2911.000, steps: 2911\n",
      "Episode 100: reward: 2247.000, steps: 2247\n",
      "Episode 101: reward: 2910.000, steps: 2910\n",
      "Episode 102: reward: 2157.000, steps: 2157\n",
      "Episode 103: reward: 2116.000, steps: 2116\n",
      "Episode 104: reward: 2665.000, steps: 2665\n",
      "Episode 105: reward: 2630.000, steps: 2630\n",
      "Episode 106: reward: 2101.000, steps: 2101\n",
      "Episode 107: reward: 2186.000, steps: 2186\n",
      "Episode 108: reward: 2200.000, steps: 2200\n",
      "Episode 109: reward: 2879.000, steps: 2879\n",
      "Episode 110: reward: 2539.000, steps: 2539\n",
      "Episode 111: reward: 2845.000, steps: 2845\n",
      "Episode 112: reward: 2271.000, steps: 2271\n",
      "Episode 113: reward: 2913.000, steps: 2913\n",
      "Episode 114: reward: 2691.000, steps: 2691\n",
      "Episode 115: reward: 2381.000, steps: 2381\n",
      "Episode 116: reward: 2069.000, steps: 2069\n",
      "Episode 117: reward: 2779.000, steps: 2779\n",
      "Episode 118: reward: 2625.000, steps: 2625\n",
      "Episode 119: reward: 2635.000, steps: 2635\n",
      "Episode 120: reward: 2725.000, steps: 2725\n",
      "Episode 121: reward: 2136.000, steps: 2136\n",
      "Episode 122: reward: 2786.000, steps: 2786\n",
      "Episode 123: reward: 2280.000, steps: 2280\n",
      "Episode 124: reward: 2011.000, steps: 2011\n",
      "Episode 125: reward: 2480.000, steps: 2480\n",
      "Episode 126: reward: 2916.000, steps: 2916\n",
      "Episode 127: reward: 2104.000, steps: 2104\n",
      "Episode 128: reward: 2080.000, steps: 2080\n",
      "Episode 129: reward: 2474.000, steps: 2474\n",
      "Episode 130: reward: 2845.000, steps: 2845\n",
      "Episode 131: reward: 2081.000, steps: 2081\n",
      "Episode 132: reward: 2328.000, steps: 2328\n",
      "Episode 133: reward: 2701.000, steps: 2701\n",
      "Episode 134: reward: 2189.000, steps: 2189\n",
      "Episode 135: reward: 2642.000, steps: 2642\n",
      "Episode 136: reward: 2113.000, steps: 2113\n",
      "Episode 137: reward: 2086.000, steps: 2086\n",
      "Episode 138: reward: 2613.000, steps: 2613\n",
      "Episode 139: reward: 2799.000, steps: 2799\n",
      "Episode 140: reward: 2380.000, steps: 2380\n",
      "Episode 141: reward: 2912.000, steps: 2912\n",
      "Episode 142: reward: 2819.000, steps: 2819\n",
      "Episode 143: reward: 2296.000, steps: 2296\n",
      "Episode 144: reward: 2577.000, steps: 2577\n",
      "Episode 145: reward: 2335.000, steps: 2335\n",
      "Episode 146: reward: 2082.000, steps: 2082\n",
      "Episode 147: reward: 2475.000, steps: 2475\n",
      "Episode 148: reward: 2599.000, steps: 2599\n",
      "Episode 149: reward: 2445.000, steps: 2445\n",
      "Episode 150: reward: 2619.000, steps: 2619\n",
      "Episode 151: reward: 2455.000, steps: 2455\n",
      "Episode 152: reward: 2942.000, steps: 2942\n",
      "Episode 153: reward: 2824.000, steps: 2824\n",
      "Episode 154: reward: 2910.000, steps: 2910\n",
      "Episode 155: reward: 2046.000, steps: 2046\n",
      "Episode 156: reward: 2413.000, steps: 2413\n",
      "Episode 157: reward: 2453.000, steps: 2453\n",
      "Episode 158: reward: 2938.000, steps: 2938\n",
      "Episode 159: reward: 2896.000, steps: 2896\n",
      "Episode 160: reward: 2196.000, steps: 2196\n",
      "Episode 161: reward: 2203.000, steps: 2203\n",
      "Episode 162: reward: 2311.000, steps: 2311\n",
      "Episode 163: reward: 2152.000, steps: 2152\n",
      "Episode 164: reward: 2615.000, steps: 2615\n",
      "Episode 165: reward: 2453.000, steps: 2453\n",
      "Episode 166: reward: 2813.000, steps: 2813\n",
      "Episode 167: reward: 2824.000, steps: 2824\n",
      "Episode 168: reward: 2674.000, steps: 2674\n",
      "Episode 169: reward: 2988.000, steps: 2988\n",
      "Episode 170: reward: 2903.000, steps: 2903\n",
      "Episode 171: reward: 2243.000, steps: 2243\n",
      "Episode 172: reward: 2727.000, steps: 2727\n",
      "Episode 173: reward: 2594.000, steps: 2594\n",
      "Episode 174: reward: 2096.000, steps: 2096\n",
      "Episode 175: reward: 2762.000, steps: 2762\n",
      "Episode 176: reward: 2239.000, steps: 2239\n",
      "Episode 177: reward: 2336.000, steps: 2336\n",
      "Episode 178: reward: 2161.000, steps: 2161\n",
      "Episode 179: reward: 2644.000, steps: 2644\n",
      "Episode 180: reward: 2265.000, steps: 2265\n",
      "Episode 181: reward: 2233.000, steps: 2233\n",
      "Episode 182: reward: 2665.000, steps: 2665\n",
      "Episode 183: reward: 2798.000, steps: 2798\n",
      "Episode 184: reward: 1939.000, steps: 1939\n",
      "Episode 185: reward: 2435.000, steps: 2435\n",
      "Episode 186: reward: 2525.000, steps: 2525\n",
      "Episode 187: reward: 2200.000, steps: 2200\n",
      "Episode 188: reward: 2888.000, steps: 2888\n",
      "Episode 189: reward: 3033.000, steps: 3033\n",
      "Episode 190: reward: 2656.000, steps: 2656\n",
      "Episode 191: reward: 2798.000, steps: 2798\n",
      "Episode 192: reward: 2676.000, steps: 2676\n",
      "Episode 193: reward: 2588.000, steps: 2588\n",
      "Episode 194: reward: 2471.000, steps: 2471\n",
      "Episode 195: reward: 2079.000, steps: 2079\n",
      "Episode 196: reward: 2635.000, steps: 2635\n",
      "Episode 197: reward: 2423.000, steps: 2423\n",
      "Episode 198: reward: 2416.000, steps: 2416\n",
      "Episode 199: reward: 2960.000, steps: 2960\n",
      "Episode 200: reward: 2515.000, steps: 2515\n"
     ]
    }
   ],
   "source": [
    "#Fitting and testing our agent model for 200 episodes\n",
    "scores = sarsa.test(env, nb_episodes = 200, visualize = False)"
   ]
  },
  {
   "cell_type": "code",
   "execution_count": 5,
   "metadata": {
    "colab": {
     "base_uri": "https://localhost:8080/",
     "height": 71
    },
    "colab_type": "code",
    "id": "dsfmG3H5fpLy",
    "outputId": "d88dbea1-d881-469a-e969-a1b7a605eaf8"
   },
   "outputs": [],
   "source": [
    "#Importing the necessary plotting libraries\n",
    "import matplotlib.pyplot as plt\n",
    "%matplotlib inline\n",
    "import seaborn as sns\n",
    "sns.set()"
   ]
  },
  {
   "cell_type": "code",
   "execution_count": 6,
   "metadata": {
    "colab": {
     "base_uri": "https://localhost:8080/",
     "height": 301
    },
    "colab_type": "code",
    "id": "pENuEDkAFjRv",
    "outputId": "64b7bec8-efb0-4831-c900-4222e3a04c29"
   },
   "outputs": [
    {
     "data": {
      "image/png": "[encoded data removed]",
      "text/plain": [
       "<Figure size 640x480 with 1 Axes>"
      ]
     },
     "metadata": {},
     "output_type": "display_data"
    }
   ],
   "source": [
    "#Visualizing our resulted rewards\n",
    "#plt.plot(scores.history['episode_reward'])\n",
    "plt.hist(scores.history['episode_reward'])\n",
    "plt.xlabel('Total reward')\n",
    "plt.ylabel('Num. episodes')\n",
    "plt.title('Total rewards over all episodes in testing') \n",
    "plt.show()"
   ]
  },
  {
   "cell_type": "code",
   "execution_count": 7,
   "metadata": {
    "colab": {
     "base_uri": "https://localhost:8080/",
     "height": 136
    },
    "colab_type": "code",
    "id": "wDnK16YvFqzH",
    "outputId": "ea210503-b0a1-4bff-bb20-2988fb488061"
   },
   "outputs": [],
   "source": [
    "#Getting the action probabilities vector\n",
    "#np.array(sarsa.q_values)"
   ]
  },
  {
   "cell_type": "code",
   "execution_count": 8,
   "metadata": {
    "colab": {},
    "colab_type": "code",
    "id": "WzCQjTRo03DK"
   },
   "outputs": [],
   "source": [
    "#Saving our model\n",
    "#sarsa.save_weights('sarsa_{}_weights.h5f'.format(env), overwrite=True)"
   ]
  }
 ],
 "metadata": {
  "colab": {
   "name": "deepSARSA-final_version.ipynb",
   "provenance": []
  },
  "kernelspec": {
   "display_name": "dl-env",
   "language": "python",
   "name": "dl-env"
  },
  "language_info": {
   "codemirror_mode": {
    "name": "ipython",
    "version": 3
   },
   "file_extension": ".py",
   "mimetype": "text/x-python",
   "name": "python",
   "nbconvert_exporter": "python",
   "pygments_lexer": "ipython3",
   "version": "3.10.5"
  }
 },
 "nbformat": 4,
 "nbformat_minor": 4
}
