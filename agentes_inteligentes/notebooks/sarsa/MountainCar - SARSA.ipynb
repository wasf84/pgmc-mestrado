{
 "cells": [
  {
   "cell_type": "code",
   "execution_count": 5,
   "id": "c3968c02-632b-4b57-bbea-eabdbf4de747",
   "metadata": {},
   "outputs": [],
   "source": [
    "import gym, math, tqdm, numpy as np, matplotlib.pyplot as plt"
   ]
  },
  {
   "cell_type": "code",
   "execution_count": 6,
   "id": "b2bac183-0c4a-41db-a573-3159bb303d99",
   "metadata": {},
   "outputs": [],
   "source": [
    "# Criando o ambiente\n",
    "env_name = \"MountainCar-v0\"\n",
    "env = gym.make(env_name)"
   ]
  },
  {
   "cell_type": "code",
   "execution_count": 7,
   "id": "250ea0c3-c538-4f02-8619-c7c3cbed3d80",
   "metadata": {},
   "outputs": [],
   "source": [
    "# Definição de parâmetros\n",
    "discrete = (10, 100)\n",
    "num_eps = 3000\n",
    "epsilon, min_epsilon = 0.0, 0.1\n",
    "\n",
    "# Alpha corresponde à TAXA DE APRENDIZADO\n",
    "learning_rate, min_learning_rate = 0.0, 0.3\n",
    "\n",
    "discount_factor = 0.95\n",
    "dec = 15\n",
    "\n",
    "# Pode retornar os valores low[] e high[] direto do 'env', mas preferi colocar fixos aqui.\n",
    "lower = [-1.2, -0.07]\n",
    "upper = [0.6, 0.07]\n",
    "\n",
    "# Inicializando a QTable\n",
    "qtable = np.zeros(discrete + (env.action_space.n, ))"
   ]
  },
  {
   "cell_type": "code",
   "execution_count": 8,
   "id": "27bd985d-548f-4b03-b2d6-77336cd5db41",
   "metadata": {},
   "outputs": [],
   "source": [
    "def choose_action(state):\n",
    "    \"\"\"\n",
    "        O fator aleatório para melhorar o aprendizado\n",
    "    \"\"\"\n",
    "    if (np.random.random() < epsilon):\n",
    "        return env.action_space.sample()\n",
    "    else:\n",
    "        return np.argmax(qtable[state])\n",
    "# ---------------------------------------------------------------------#\n",
    "def discrete_state(state):\n",
    "    \"\"\"\n",
    "        Recebe um espaço de observação (observation space) e o discretiza\n",
    "    \"\"\"\n",
    "    d = list()\n",
    "\n",
    "    for i in range(len(state)):\n",
    "        stepsize = (state[i] + abs(lower[i])) / (upper[i] - lower[i])\n",
    "        new_state = int(round((discrete[i] - 1) * stepsize))\n",
    "        new_state = min(discrete[i] - 1, max(0, new_state))\n",
    "        d.append(new_state)\n",
    "\n",
    "    return tuple(d)\n",
    "# ---------------------------------------------------------------------#\n",
    "def get_epsilon(ep):\n",
    "    # vai reduzindo o epsilon para diminuir a ganância do algoritmo\n",
    "    # entretando, existe um valor mínimo que não reduz para garantir alguma aleatoriedade\n",
    "    # reduz à medida que aumenta a quantidade de episódios\n",
    "    # https://web.stanford.edu/class/psych209/Readings/SuttonBartoIPRLBook2ndEd.pdf\n",
    "    return max(min_epsilon, min(1., 1. - math.log10((ep + 1) / dec)))\n",
    "# ---------------------------------------------------------------------#\n",
    "def get_learning_rate(ep):\n",
    "    # vai reduzindo a taxa de aprendizagem para diminuir a ganância do algoritmo\n",
    "    # entretando, existe um valor mínimo que não reduz para garantir algum aprendizado\n",
    "    # reduz à medida que aumenta a quantidade de episódios\n",
    "    # https://web.stanford.edu/class/psych209/Readings/SuttonBartoIPRLBook2ndEd.pdf\n",
    "    return max(min_learning_rate, min(1., 1. - math.log10((ep + 1) / dec)))\n",
    "# ---------------------------------------------------------------------#\n",
    "def update_qtable(state1, action1, reward, state2, action2):\n",
    "    qtable[state1][action1] += learning_rate * (reward + discount_factor * qtable[state2][action2] - qtable[state1][action1])"
   ]
  },
  {
   "cell_type": "code",
   "execution_count": 9,
   "id": "f1e7dcf6-f581-43c1-8bea-b8d9bfaadf74",
   "metadata": {},
   "outputs": [
    {
     "name": "stderr",
     "output_type": "stream",
     "text": [
      "100%|███████████████████████████████████████████████████████████████████████████████████████████████████████████████████████████████████████████████████████████████████████████████████████████████████| 3000/3000 [00:26<00:00, 111.64it/s]\n"
     ]
    }
   ],
   "source": [
    "# Treinamento\n",
    "\n",
    "# usado para plotar o gráfico de aprendizado\n",
    "tr = []\n",
    "\n",
    "# Treinamento SARSA\n",
    "for ep in tqdm.tqdm(range(num_eps)):\n",
    "    state1 = discrete_state(env.reset())\n",
    "    action1 = choose_action(state1)\n",
    "\n",
    "    learning_rate = get_learning_rate(ep)\n",
    "    epsilon = get_epsilon(ep)\n",
    "    done = False\n",
    "    \n",
    "    # usado para plotar o gráfico de aprendizado\n",
    "    r = []\n",
    "\n",
    "    while not done:\n",
    "        # Pega o próximo estado, aka, S'\n",
    "        obs, reward, done, _ = env.step(action1)\n",
    "        state2 = discrete_state(obs)\n",
    "        \n",
    "        # Escolhe a ação futura baseada no estado futuro observado\n",
    "        action2 = choose_action(state2)\n",
    "\n",
    "        # Atualiza a QTable\n",
    "        update_qtable(state1, action1, reward, state2, action2)\n",
    "\n",
    "        state1 = state2\n",
    "        action1 = action2\n",
    "\n",
    "        r.append(reward)\n",
    "        # fim WHILE\n",
    "\n",
    "    env.close()\n",
    "    tr.append(sum(r))\n",
    "# fim FOR"
   ]
  },
  {
   "cell_type": "code",
   "execution_count": 10,
   "id": "7f96e828-5236-4f75-87cf-d04b69de418c",
   "metadata": {},
   "outputs": [
    {
     "data": {
      "text/plain": [
       "[<matplotlib.lines.Line2D at 0x7f611c089900>]"
      ]
     },
     "execution_count": 10,
     "metadata": {},
     "output_type": "execute_result"
    },
    {
     "data": {
      "image/png": "[encoded data removed]",
      "text/plain": [
       "<Figure size 640x480 with 1 Axes>"
      ]
     },
     "metadata": {},
     "output_type": "display_data"
    }
   ],
   "source": [
    "plt.plot(tr)"
   ]
  },
  {
   "cell_type": "code",
   "execution_count": 13,
   "id": "e6e93752-f22d-4e83-9f11-e3d7fc8bae9a",
   "metadata": {},
   "outputs": [
    {
     "name": "stderr",
     "output_type": "stream",
     "text": [
      "100%|██████████████████████████████████████████████████████████████████████████████████████████████████████████████████████████████████████████████████████████████████████████████████████████████████████| 300/300 [00:18<00:00, 15.96it/s]\n"
     ]
    }
   ],
   "source": [
    "# Avaliando o treinamento dado\n",
    "\n",
    "tr = []     # usado para plotar o histograma\n",
    "i = 0       # macete para renderizar alguns episodios\n",
    "\n",
    "# executando sempre para 10% de passos sobre o número total de episódios usados para treinamento\n",
    "for _ in tqdm.tqdm(range(int(num_eps * 0.1))):\n",
    "    \n",
    "    # ambiente a ser avaliado\n",
    "    env_t = gym.make(env_name)\n",
    "    \n",
    "    # usado para plotar o gráfico de aprendizado\n",
    "    r = []\n",
    "\n",
    "    done = False\n",
    "\n",
    "    # estado atual\n",
    "    cs = discrete_state(env_t.reset())\n",
    "\n",
    "    while not done:\n",
    "        \n",
    "        # Renderizar os ultimos 5 episodios\n",
    "        #if i >= (int(num_eps * 0.1) - 5):\n",
    "            #env_t.render()\n",
    "\n",
    "        action = np.argmax(qtable[cs])\n",
    "        obs, reward, done, _ = env_t.step(action)\n",
    "        new_state = discrete_state(obs)\n",
    "        cs = new_state\n",
    "        r.append(reward)\n",
    "        # fim WHILE\n",
    "        \n",
    "    i += 1\n",
    "    env_t.close()\n",
    "    tr.append(sum(r))\n",
    "# fim FOR"
   ]
  },
  {
   "cell_type": "code",
   "execution_count": 12,
   "id": "c311a929-454d-46e6-a88d-3e88d212fd5f",
   "metadata": {},
   "outputs": [
    {
     "data": {
      "text/plain": [
       "(array([220.,  11.,   6.,   1.,   7.,   5.,   4.,  28.,  14.,   4.]),\n",
       " array([-200. , -195.3, -190.6, -185.9, -181.2, -176.5, -171.8, -167.1,\n",
       "        -162.4, -157.7, -153. ]),\n",
       " <BarContainer object of 10 artists>)"
      ]
     },
     "execution_count": 12,
     "metadata": {},
     "output_type": "execute_result"
    },
    {
     "data": {
      "image/png": "[encoded data removed]",
      "text/plain": [
       "<Figure size 640x480 with 1 Axes>"
      ]
     },
     "metadata": {},
     "output_type": "display_data"
    }
   ],
   "source": [
    "plt.hist(tr)"
   ]
  },
  {
   "cell_type": "code",
   "execution_count": null,
   "id": "3e57b0e2-c7bb-49f6-be78-2855d240238c",
   "metadata": {},
   "outputs": [],
   "source": []
  }
 ],
 "metadata": {
  "kernelspec": {
   "display_name": "dl-env",
   "language": "python",
   "name": "dl-env"
  },
  "language_info": {
   "codemirror_mode": {
    "name": "ipython",
    "version": 3
   },
   "file_extension": ".py",
   "mimetype": "text/x-python",
   "name": "python",
   "nbconvert_exporter": "python",
   "pygments_lexer": "ipython3",
   "version": "3.10.6"
  }
 },
 "nbformat": 4,
 "nbformat_minor": 5
}
