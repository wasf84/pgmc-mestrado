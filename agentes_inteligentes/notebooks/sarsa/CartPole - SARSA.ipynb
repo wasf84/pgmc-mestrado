{
 "cells": [
  {
   "cell_type": "code",
   "execution_count": 1,
   "id": "5b21b901-aba1-49ca-8b2c-1f81db99ac9b",
   "metadata": {},
   "outputs": [],
   "source": [
    "import gym, math, tqdm, numpy as np, matplotlib.pyplot as plt"
   ]
  },
  {
   "cell_type": "code",
   "execution_count": 2,
   "id": "bc94c8a7-58e1-4298-bcdf-58a122b29299",
   "metadata": {},
   "outputs": [],
   "source": [
    "# Criando o ambiente\n",
    "env_name = 'CartPole-v0'\n",
    "env = gym.make(env_name)"
   ]
  },
  {
   "cell_type": "code",
   "execution_count": 3,
   "id": "0d7e9304-18d9-41ee-875f-0df9bf74a627",
   "metadata": {},
   "outputs": [],
   "source": [
    "# Isso é para garantir o mesmo ambiente de execução toda vez.\n",
    "seed_val = 369\n",
    "env.seed(seed_val)\n",
    "np.random.seed(seed_val)"
   ]
  },
  {
   "cell_type": "code",
   "execution_count": 4,
   "id": "87a5bbe8-edfa-473c-815a-613c5536fa9d",
   "metadata": {},
   "outputs": [],
   "source": [
    "# Definição de parâmetros\n",
    "discrete = (1, 1, 50, 50)\n",
    "num_eps = 3000\n",
    "epsilon, min_epsilon = 0.0, 0.1\n",
    "\n",
    "# Alpha corresponde à TAXA DE APRENDIZADO\n",
    "alpha, min_alpha = 0.0, 0.3\n",
    "\n",
    "gamma = 0.95\n",
    "decay = 15\n",
    "lower = [env.observation_space.low[0], -0.05, env.observation_space.low[2], -math.radians(50) / 1.]\n",
    "upper = [env.observation_space.high[0], 0.05, env.observation_space.high[2], math.radians(50) / 1.]\n",
    "\n",
    "# Inicializando a QTable\n",
    "qtable = np.zeros(discrete + (env.action_space.n, ))"
   ]
  },
  {
   "cell_type": "code",
   "execution_count": 5,
   "id": "8580a4ea-3c5d-4608-bc05-b6fe073346a5",
   "metadata": {},
   "outputs": [],
   "source": [
    "def choose_action(state):\n",
    "    \"\"\"\n",
    "        O fator aleatório para melhorar o aprendizado\n",
    "    \"\"\"\n",
    "    if (np.random.random() < epsilon):\n",
    "        return env.action_space.sample()\n",
    "    else:\n",
    "        return np.argmax(qtable[state])\n",
    "# ---------------------------------------------------------------------#\n",
    "def discrete_state(state):\n",
    "    \"\"\"\n",
    "        Recebe um espaço de observação (observation space) e o discretiza\n",
    "    \"\"\"\n",
    "    d = list()\n",
    "\n",
    "    for i in range(len(state)):\n",
    "        stepsize = (state[i] + abs(lower[i])) / (upper[i] - lower[i])\n",
    "        new_state = int(round((discrete[i] - 1) * stepsize))\n",
    "        new_state = min(discrete[i] - 1, max(0, new_state))\n",
    "        d.append(new_state)\n",
    "\n",
    "    return tuple(d)\n",
    "# ---------------------------------------------------------------------#\n",
    "def get_epsilon(ep):\n",
    "    # vai reduzindo o epsilon para diminuir a ganância do algoritmo\n",
    "    # entretando, existe um valor mínimo que não reduz para garantir alguma aleatoriedade\n",
    "    # reduz à medida que aumenta a quantidade de episódios\n",
    "    # https://web.stanford.edu/class/psych209/Readings/SuttonBartoIPRLBook2ndEd.pdf\n",
    "    return max(min_epsilon, min(1., 1. - math.log10((ep + 1) / decay)))\n",
    "# ---------------------------------------------------------------------#\n",
    "def get_alpha(ep):\n",
    "    # vai reduzindo a taxa de aprendizagem para diminuir a ganância do algoritmo\n",
    "    # entretando, existe um valor mínimo que não reduz para garantir algum aprendizado\n",
    "    # reduz à medida que aumenta a quantidade de episódios\n",
    "    # https://web.stanford.edu/class/psych209/Readings/SuttonBartoIPRLBook2ndEd.pdf\n",
    "    return max(min_alpha, min(1., 1. - math.log10((ep + 1) / decay)))\n",
    "# ---------------------------------------------------------------------#\n",
    "def update_qtable(state1, action1, reward, state2, action2):\n",
    "    qtable[state1][action1] += alpha * (reward + gamma * qtable[state2][action2] - qtable[state1][action1])"
   ]
  },
  {
   "cell_type": "code",
   "execution_count": 6,
   "id": "b2dc8ef6-ccb7-46e3-ae82-33fc6340fc07",
   "metadata": {},
   "outputs": [
    {
     "name": "stderr",
     "output_type": "stream",
     "text": [
      "100%|███████████████████████████████████████████████████████████████████████████████████████████████████████████████████████████████████████████████████████████████████████████████████████████████████| 3000/3000 [00:05<00:00, 539.22it/s]\n"
     ]
    }
   ],
   "source": [
    "# Treinamento\n",
    "\n",
    "# usado para plotar o gráfico de aprendizado\n",
    "tr = []\n",
    "\n",
    "# Treinamento SARSA\n",
    "for ep in tqdm.tqdm(range(num_eps)):\n",
    "    state1 = discrete_state(env.reset())\n",
    "    action1 = choose_action(state1)\n",
    "\n",
    "    alpha = get_alpha(ep)\n",
    "    epsilon = get_epsilon(ep)\n",
    "    done = False\n",
    "\n",
    "    # usado para plotar o gráfico de aprendizado\n",
    "    r = []\n",
    "\n",
    "    while not done:\n",
    "        # Pega o próximo estado, aka, S'\n",
    "        obs, reward, done, _ = env.step(action1)\n",
    "        state2 = discrete_state(obs)\n",
    "\n",
    "        # Escolhe a ação futura baseada no estado futuro observado\n",
    "        action2 = choose_action(state2)\n",
    "\n",
    "        # Atualiza a QTable\n",
    "        update_qtable(state1, action1, reward, state2, action2)\n",
    "\n",
    "        state1 = state2\n",
    "        action1 = action2\n",
    "\n",
    "        r.append(reward)\n",
    "\n",
    "    env.close()\n",
    "    tr.append(sum(r))"
   ]
  },
  {
   "cell_type": "code",
   "execution_count": 7,
   "id": "b214561f-9525-4eb7-9fa0-020739e67f2c",
   "metadata": {},
   "outputs": [
    {
     "data": {
      "text/plain": [
       "[<matplotlib.lines.Line2D at 0x7f40e128cfd0>]"
      ]
     },
     "execution_count": 7,
     "metadata": {},
     "output_type": "execute_result"
    },
    {
     "data": {
      "image/png": "[encoded data removed]",
      "text/plain": [
       "<Figure size 640x480 with 1 Axes>"
      ]
     },
     "metadata": {},
     "output_type": "display_data"
    }
   ],
   "source": [
    "plt.plot(tr)"
   ]
  },
  {
   "cell_type": "code",
   "execution_count": 8,
   "id": "bda76b8c-2509-4c20-8821-f86102d3e2fb",
   "metadata": {},
   "outputs": [
    {
     "name": "stderr",
     "output_type": "stream",
     "text": [
      "100%|█████████████████████████████████████████████████████████████████████████████████████████████████████████████████████████████████████████████████████████████████████████████████████████████████████| 300/300 [00:01<00:00, 159.73it/s]\n"
     ]
    }
   ],
   "source": [
    "# Avaliando o treinamento dado\n",
    "\n",
    "tr = []     # usado para plotar o histograma\n",
    "i = 0       # macete para renderizar alguns episodios\n",
    "\n",
    "# executando sempre para 10% de passos sobre o número total de episódios usados para treinamento\n",
    "for _ in tqdm.tqdm(range(int(num_eps * 0.1))):\n",
    "\n",
    "    # ambiente a ser avaliado\n",
    "    env_t = gym.make(env_name)\n",
    "\n",
    "    # usado para plotar o gráfico de aprendizado\n",
    "    r = []\n",
    "\n",
    "    done = False\n",
    "\n",
    "    # estado atual\n",
    "    cs = discrete_state(env_t.reset())\n",
    "\n",
    "    while not done:\n",
    "\n",
    "        # Renderizar os ultimos 5 episodios\n",
    "        #if i >= (int(num_eps * 0.1) - 5):\n",
    "            #env_t.render()\n",
    "\n",
    "        action = np.argmax(qtable[cs])\n",
    "        obs, reward, done, _ = env_t.step(action)\n",
    "        new_state = discrete_state(obs)\n",
    "        cs = new_state\n",
    "        r.append(reward)\n",
    "\n",
    "    i += 1\n",
    "    env_t.close()\n",
    "    tr.append(sum(r))"
   ]
  },
  {
   "cell_type": "code",
   "execution_count": 9,
   "id": "dad8262c-947b-4c2b-905f-d17b47adc66e",
   "metadata": {},
   "outputs": [
    {
     "data": {
      "text/plain": [
       "(array([  3.,   6.,   1.,   0.,   0.,   0.,   0.,   0.,   0., 290.]),\n",
       " array([ 11. ,  29.9,  48.8,  67.7,  86.6, 105.5, 124.4, 143.3, 162.2,\n",
       "        181.1, 200. ]),\n",
       " <BarContainer object of 10 artists>)"
      ]
     },
     "execution_count": 9,
     "metadata": {},
     "output_type": "execute_result"
    },
    {
     "data": {
      "image/png": "[encoded data removed]",
      "text/plain": [
       "<Figure size 640x480 with 1 Axes>"
      ]
     },
     "metadata": {},
     "output_type": "display_data"
    }
   ],
   "source": [
    "plt.hist(tr)"
   ]
  }
 ],
 "metadata": {
  "kernelspec": {
   "display_name": "dl-env",
   "language": "python",
   "name": "dl-env"
  },
  "language_info": {
   "codemirror_mode": {
    "name": "ipython",
    "version": 3
   },
   "file_extension": ".py",
   "mimetype": "text/x-python",
   "name": "python",
   "nbconvert_exporter": "python",
   "pygments_lexer": "ipython3",
   "version": "3.10.6"
  }
 },
 "nbformat": 4,
 "nbformat_minor": 5
}
