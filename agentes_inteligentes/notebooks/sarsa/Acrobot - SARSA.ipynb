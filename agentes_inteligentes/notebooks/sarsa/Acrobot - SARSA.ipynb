{
 "cells": [
  {
   "cell_type": "code",
   "execution_count": 1,
   "id": "716eb4de-527e-442a-99aa-afcad1720a08",
   "metadata": {},
   "outputs": [],
   "source": [
    "import gym, math, tqdm, numpy as np, matplotlib.pyplot as plt"
   ]
  },
  {
   "cell_type": "code",
   "execution_count": 2,
   "id": "2a8c82ad-9851-4557-b087-a9f5c8d04994",
   "metadata": {},
   "outputs": [],
   "source": [
    "# Criando o ambiente\n",
    "env_name = 'Acrobot-v1'\n",
    "env = gym.make(env_name)"
   ]
  },
  {
   "cell_type": "code",
   "execution_count": 3,
   "id": "36593bb5-f597-4c7c-871b-7741231ee5c7",
   "metadata": {},
   "outputs": [],
   "source": [
    "# Isso é para garantir o mesmo ambiente de execução toda vez.\n",
    "#seed_val = 369\n",
    "#env.seed(seed_val)\n",
    "#np.random.seed(seed_val)"
   ]
  },
  {
   "cell_type": "code",
   "execution_count": 4,
   "id": "60643e3d-cf07-47ba-9dc5-c17913c8b278",
   "metadata": {},
   "outputs": [],
   "source": [
    "num_eps = 3000\n",
    "epsilon, min_epsilon = 0.0, 0.1\n",
    "learning_rate, min_learning_rate = 0.0, 0.53\n",
    "discount_factor = 0.95\n",
    "dec = 15\n",
    "\n",
    "# Essa variável é apenas para discretizar a observação do ambiente.\n",
    "discrete_st = (20, 20, 1, 1, 100, 1)\n",
    "lower_st = [-1.0, -1.0, -1.0, -1.0, -12.57, -28.27]\n",
    "upper_st = [1.0, 1.0, 1.0, 1.0, 12.57, 28.27]\n",
    "\n",
    "# Estas variáveis são usadas para discretização do torque.\n",
    "#size_ac = 20\n",
    "#discrete_ac = [size_ac]\n",
    "#lower_ac = [-2.0]\n",
    "#upper_ac = [2.0]\n",
    "\n",
    "qtable = np.zeros(discrete_st + (env.action_space.n, ))"
   ]
  },
  {
   "cell_type": "code",
   "execution_count": 5,
   "id": "8089404d-8645-44b4-8b47-da18f0d8e4db",
   "metadata": {},
   "outputs": [],
   "source": [
    "def choose_action(state):\n",
    "    \"\"\"\n",
    "        O fator aleatório para melhorar o aprendizado\n",
    "    \"\"\"\n",
    "    if (np.random.random() < epsilon):\n",
    "        return env.action_space.sample()\n",
    "    else:\n",
    "        return np.argmax(qtable[state])\n",
    "# ---------------------------------------------------------------------#\n",
    "def discrete_state(state):\n",
    "    \"\"\"\n",
    "        Recebe um espaço de observação (observation space) e o discretiza\n",
    "    \"\"\"\n",
    "    d = list()\n",
    "\n",
    "    for i in range(len(state)):\n",
    "        stepsize = (state[i] + abs(lower_st[i])) / (upper_st[i] - lower_st[i])\n",
    "        new_state = int(round((discrete_st[i] - 1) * stepsize))\n",
    "        new_state = min(discrete_st[i] - 1, max(0, new_state))\n",
    "        d.append(new_state)\n",
    "\n",
    "    return tuple(d)\n",
    "# ---------------------------------------------------------------------#\n",
    "def get_epsilon(ep):\n",
    "    # vai reduzindo o epsilon para diminuir a ganância do algoritmo\n",
    "    # entretando, existe um valor mínimo que não reduz para garantir alguma aleatoriedade\n",
    "    # reduz à medida que aumenta a quantidade de episódios\n",
    "    # https://web.stanford.edu/class/psych209/Readings/SuttonBartoIPRLBook2ndEd.pdf\n",
    "    return max(min_epsilon, min(1., 1. - math.log10((ep + 1) / dec)))\n",
    "# ---------------------------------------------------------------------#\n",
    "def get_learning_rate(ep):\n",
    "    # vai reduzindo a taxa de aprendizagem para diminuir a ganância do algoritmo\n",
    "    # entretando, existe um valor mínimo que não reduz para garantir algum aprendizado\n",
    "    # reduz à medida que aumenta a quantidade de episódios\n",
    "    # https://web.stanford.edu/class/psych209/Readings/SuttonBartoIPRLBook2ndEd.pdf\n",
    "    return max(min_learning_rate, min(1., 1. - math.log10((ep + 1) / dec)))\n",
    "# ---------------------------------------------------------------------#\n",
    "def update_qtable(state1, action1, reward, state2, action2):\n",
    "    qtable[state1][action1] += learning_rate * (reward + discount_factor * qtable[state2][action2] - qtable[state1][action1])"
   ]
  },
  {
   "cell_type": "code",
   "execution_count": 6,
   "id": "93101fb9-5911-4577-b4e3-917d5533e826",
   "metadata": {},
   "outputs": [
    {
     "name": "stderr",
     "output_type": "stream",
     "text": [
      "100%|████████████████████████████████████████████████████████████████████████████████████████████████████████████████████████████████████████████████████████████████████████████████████████████████████| 3000/3000 [01:22<00:00, 36.53it/s]\n"
     ]
    }
   ],
   "source": [
    "# TREINAMENTO\n",
    "\n",
    "# usado para plotar o gráfico de aprendizado\n",
    "tr = []\n",
    "\n",
    "# SARSA\n",
    "for ep in tqdm.tqdm(range(num_eps)):\n",
    "    state1 = discrete_state(env.reset())\n",
    "    action1 = choose_action(state1)\n",
    "\n",
    "    learning_rate = get_learning_rate(ep)\n",
    "    epsilon = get_epsilon(ep)\n",
    "    done = False\n",
    "\n",
    "    # usado para plotar o gráfico de aprendizado\n",
    "    r = []\n",
    "\n",
    "    while not done:\n",
    "        # Pega o próximo estado, aka, S'\n",
    "        obs, reward, done, _ = env.step(action1)\n",
    "        state2 = discrete_state(obs)\n",
    "\n",
    "        # Escolhe a ação futura baseada no estado futuro observado\n",
    "        action2 = choose_action(state2)\n",
    "\n",
    "        # Atualiza a QTable\n",
    "        update_qtable(state1, action1, reward, state2, action2)\n",
    "\n",
    "        state1 = state2\n",
    "        action1 = action2\n",
    "\n",
    "        r.append(reward)\n",
    "        # fim WHILE\n",
    "\n",
    "    env.close()\n",
    "    tr.append(sum(r))\n",
    "    # fim FOR"
   ]
  },
  {
   "cell_type": "code",
   "execution_count": 7,
   "id": "5434477e-66fd-4bcb-bdae-68ea705c4a86",
   "metadata": {},
   "outputs": [
    {
     "data": {
      "text/plain": [
       "[<matplotlib.lines.Line2D at 0x7fb9f5f70f10>]"
      ]
     },
     "execution_count": 7,
     "metadata": {},
     "output_type": "execute_result"
    },
    {
     "data": {
      "image/png": "[encoded data removed]",
      "text/plain": [
       "<Figure size 640x480 with 1 Axes>"
      ]
     },
     "metadata": {},
     "output_type": "display_data"
    }
   ],
   "source": [
    "plt.plot(tr)"
   ]
  },
  {
   "cell_type": "code",
   "execution_count": 8,
   "id": "18ef3d1f-1254-4b5d-a5c5-dcf292e5504a",
   "metadata": {},
   "outputs": [
    {
     "name": "stderr",
     "output_type": "stream",
     "text": [
      "100%|██████████████████████████████████████████████████████████████████████████████████████████████████████████████████████████████████████████████████████████████████████████████████████████████████████| 300/300 [00:20<00:00, 14.74it/s]\n"
     ]
    }
   ],
   "source": [
    "# Avaliando o treinamento dado\n",
    "\n",
    "tr = []     # usado para plotar o histograma\n",
    "i = 0       # macete para renderizar alguns episodios\n",
    "\n",
    "# executando sempre para 10% de passos sobre o número total de episódios usados para treinamento\n",
    "for _ in tqdm.tqdm(range(int(num_eps * 0.1))):\n",
    "\n",
    "    # ambiente a ser avaliado\n",
    "    env_t = gym.make(env_name)\n",
    "\n",
    "    # usado para plotar o gráfico de aprendizado\n",
    "    r = []\n",
    "\n",
    "    done = False\n",
    "\n",
    "    # estado atual\n",
    "    cs = discrete_state(env_t.reset())\n",
    "\n",
    "    while not done:\n",
    "\n",
    "        # Renderizar os ultimos 5 episodios\n",
    "        if i >= (int(num_eps * 0.1) - 5):\n",
    "            env_t.render()\n",
    "\n",
    "        action = np.argmax(qtable[cs])\n",
    "        obs, reward, done, _ = env_t.step(action)\n",
    "        new_state = discrete_state(obs)\n",
    "        cs = new_state\n",
    "        r.append(reward)\n",
    "        # fim WHILE\n",
    "\n",
    "    i += 1\n",
    "    env_t.close()\n",
    "    tr.append(sum(r))\n",
    "    # fim FOR"
   ]
  },
  {
   "cell_type": "code",
   "execution_count": 9,
   "id": "d29d5c95-bac0-41a9-90a2-4a211b4f1bc1",
   "metadata": {},
   "outputs": [
    {
     "data": {
      "text/plain": [
       "(array([ 1.,  1.,  1.,  5., 13., 39., 73., 89., 61., 17.]),\n",
       " array([-356. , -330.1, -304.2, -278.3, -252.4, -226.5, -200.6, -174.7,\n",
       "        -148.8, -122.9,  -97. ]),\n",
       " <BarContainer object of 10 artists>)"
      ]
     },
     "execution_count": 9,
     "metadata": {},
     "output_type": "execute_result"
    },
    {
     "data": {
      "image/png": "[encoded data removed]",
      "text/plain": [
       "<Figure size 640x480 with 1 Axes>"
      ]
     },
     "metadata": {},
     "output_type": "display_data"
    }
   ],
   "source": [
    "plt.hist(tr)"
   ]
  }
 ],
 "metadata": {
  "kernelspec": {
   "display_name": "dl-env",
   "language": "python",
   "name": "dl-env"
  },
  "language_info": {
   "codemirror_mode": {
    "name": "ipython",
    "version": 3
   },
   "file_extension": ".py",
   "mimetype": "text/x-python",
   "name": "python",
   "nbconvert_exporter": "python",
   "pygments_lexer": "ipython3",
   "version": "3.10.6"
  }
 },
 "nbformat": 4,
 "nbformat_minor": 5
}
