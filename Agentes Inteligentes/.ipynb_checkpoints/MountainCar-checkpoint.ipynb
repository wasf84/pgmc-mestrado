{
 "cells": [
  {
   "cell_type": "markdown",
   "id": "d8687974",
   "metadata": {},
   "source": [
    "**Preparação do ambiente**"
   ]
  },
  {
   "cell_type": "markdown",
   "id": "c6b067b4",
   "metadata": {},
   "source": [
    "**Preâmbulo do projeto**"
   ]
  },
  {
   "cell_type": "code",
   "execution_count": 1,
   "id": "7d5430ad",
   "metadata": {},
   "outputs": [],
   "source": [
    "import gym\n",
    "import numpy as np\n",
    "import matplotlib.pyplot as plt\n",
    "\n",
    "from tqdm import tqdm\n",
    "from pyvirtualdisplay import Display"
   ]
  },
  {
   "cell_type": "markdown",
   "id": "46e00bc6",
   "metadata": {},
   "source": [
    "**Inicialização do projeto**"
   ]
  },
  {
   "cell_type": "code",
   "execution_count": 15,
   "id": "c57b08dd",
   "metadata": {},
   "outputs": [
    {
     "name": "stderr",
     "output_type": "stream",
     "text": [
      "/home/wasf84/.local/lib/python3.10/site-packages/gym/core.py:329: DeprecationWarning: \u001b[33mWARN: Initializing wrapper in old step API which returns one bool instead of two. It is recommended to set `new_step_api=True` to use new step API. This will be the default behaviour in future.\u001b[0m\n",
      "  deprecation(\n",
      "/home/wasf84/.local/lib/python3.10/site-packages/gym/wrappers/step_api_compatibility.py:39: DeprecationWarning: \u001b[33mWARN: Initializing environment in old step API which returns one bool instead of two. It is recommended to set `new_step_api=True` to use new step API. This will be the default behaviour in future.\u001b[0m\n",
      "  deprecation(\n"
     ]
    }
   ],
   "source": [
    "#----------------------------#\n",
    "class Agent(object):\n",
    "  def __init__(self):\n",
    "    self.nome = \"Agente Lex\"\n",
    "\n",
    "  def __repr__(self):\n",
    "    return f\"Nome: {self.nome}\"\n",
    "    \n",
    "  def action(self, state):\n",
    "    if (state[2] > 0 and state[3] > -1) or state[3] > 1:\n",
    "      return 1\n",
    "    return 0\n",
    "#----------------------------#\n",
    "def imprimirState(st):\n",
    "    print(f\"\"\"\n",
    "        Posição do carrinho no eixo-x:\\n {state[0]}\n",
    "        \\n\n",
    "        Velocidade do carrinho:\\n {state[1]}\n",
    "        \"\"\")\n",
    "    \n",
    "     plt.imshow(env.render('rgb_array'))\n",
    "#----------------------------#\n",
    "def imprimirAction(ac):\n",
    "    print(ac)\n",
    "#----------------------------#    \n",
    "Display().start()\n",
    "env = gym.make('MountainCar-v0')\n",
    "state = env.reset()\n",
    "#----------------------------#"
   ]
  },
  {
   "cell_type": "markdown",
   "id": "293009c8",
   "metadata": {},
   "source": [
    "**Demonstração da inicialização do projeto**"
   ]
  },
  {
   "cell_type": "code",
   "execution_count": 16,
   "id": "235763a5",
   "metadata": {},
   "outputs": [
    {
     "name": "stdout",
     "output_type": "stream",
     "text": [
      "\n",
      "        Posição do carrinho no eixo-x:\n",
      " -0.5752919912338257\n",
      "        \n",
      "\n",
      "        Velocidade do carrinho:\n",
      " 0.0\n",
      "        \n"
     ]
    },
    {
     "name": "stderr",
     "output_type": "stream",
     "text": [
      "/home/wasf84/.local/lib/python3.10/site-packages/gym/core.py:51: DeprecationWarning: \u001b[33mWARN: The argument mode in render method is deprecated; use render_mode during environment initialization instead.\n",
      "See here for more information: https://www.gymlibrary.ml/content/api/\u001b[0m\n",
      "  deprecation(\n"
     ]
    },
    {
     "data": {
      "text/plain": [
       "Box([-1.2  -0.07], [0.6  0.07], (2,), float32)"
      ]
     },
     "execution_count": 16,
     "metadata": {},
     "output_type": "execute_result"
    }
   ],
   "source": [
    "imprimirState(state)\n",
    "\n",
    "#env.action_space\n",
    "env.observation_space"
   ]
  },
  {
   "cell_type": "markdown",
   "id": "0c687000",
   "metadata": {},
   "source": [
    "**Código do projeto**"
   ]
  },
  {
   "cell_type": "code",
   "execution_count": null,
   "id": "e112ab7b",
   "metadata": {},
   "outputs": [
    {
     "name": "stderr",
     "output_type": "stream",
     "text": [
      " 74%|████████████████████████████████████████████████████████████████████████████████████████████████████████████████████▉                                        | 745/1000 [06:42<02:16,  1.87it/s]"
     ]
    }
   ],
   "source": [
    "#for _ in range(episode):\n",
    "#    env.reset()\n",
    "#    while not done:\n",
    "#        env.render()\n",
    "#        action = env.action_space.sample()\n",
    "#        state, reward, done, info = env.step(action)\n",
    "        \n",
    "#        if done:\n",
    "#            print(\"Episode finished after {} timesteps\".format(t+1))\n",
    "#            break\n",
    "        \n",
    "#        print(\"Starting next episode\")\n",
    "\n",
    "#----------------------------#\n",
    "qtd_episodios = 1000\n",
    "rewards = []\n",
    "#----------------------------#\n",
    "for _ in tqdm(range(qtd_episodios)):\n",
    "    done = False\n",
    "    state = env.reset()\n",
    "    reward = []\n",
    "    while not done:\n",
    "        env.render('rgb_array')\n",
    "        action = env.action_space.sample()\n",
    "        state, r, done, info = env.step(action)\n",
    "        reward.append(r)\n",
    "    env.close()\n",
    "    rewards.append(sum(reward))\n",
    "#----------------------------#"
   ]
  },
  {
   "cell_type": "markdown",
   "id": "7dc8e51e",
   "metadata": {},
   "source": [
    "**Saída de dados**"
   ]
  },
  {
   "cell_type": "code",
   "execution_count": 41,
   "id": "916230c7",
   "metadata": {},
   "outputs": [
    {
     "data": {
      "text/plain": [
       "(array([   0.,    0.,    0.,    0.,    0., 1000.,    0.,    0.,    0.,\n",
       "           0.]),\n",
       " array([-200.5, -200.4, -200.3, -200.2, -200.1, -200. , -199.9, -199.8,\n",
       "        -199.7, -199.6, -199.5]),\n",
       " <BarContainer object of 10 artists>)"
      ]
     },
     "execution_count": 41,
     "metadata": {},
     "output_type": "execute_result"
    },
    {
     "data": {
      "image/png": "[encoded data removed]",
      "text/plain": [
       "<Figure size 432x288 with 1 Axes>"
      ]
     },
     "metadata": {
      "needs_background": "light"
     },
     "output_type": "display_data"
    }
   ],
   "source": [
    "rewards = np.array(rewards)\n",
    "plt.hist(rewards)"
   ]
  },
  {
   "cell_type": "code",
   "execution_count": null,
   "id": "657070f4",
   "metadata": {},
   "outputs": [],
   "source": []
  }
 ],
 "metadata": {
  "kernelspec": {
   "display_name": "Python 3 (ipykernel)",
   "language": "python",
   "name": "python3"
  },
  "language_info": {
   "codemirror_mode": {
    "name": "ipython",
    "version": 3
   },
   "file_extension": ".py",
   "mimetype": "text/x-python",
   "name": "python",
   "nbconvert_exporter": "python",
   "pygments_lexer": "ipython3",
   "version": "3.10.5"
  }
 },
 "nbformat": 4,
 "nbformat_minor": 5
}
