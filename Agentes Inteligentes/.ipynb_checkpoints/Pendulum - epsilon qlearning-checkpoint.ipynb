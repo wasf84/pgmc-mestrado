{
 "cells": [
  {
   "cell_type": "markdown",
   "id": "df37755d-bdc2-4602-9863-5b7bc0444b91",
   "metadata": {},
   "source": [
    "### Preparação do ambiente\n",
    "\n",
    "Este projeto demanda a instalação dos pacotes **numpy, matplotlib e gym[all]**"
   ]
  },
  {
   "cell_type": "markdown",
   "id": "5fc999fe-5d11-408c-a7a6-ee6ff5eab0df",
   "metadata": {},
   "source": [
    "### Preâmbulo do projeto\n",
    "\n",
    "Importação de todos pacotes necessários"
   ]
  },
  {
   "cell_type": "code",
   "execution_count": null,
   "id": "b68d5797-5aa7-49c0-b01b-70a3ba2c2c9f",
   "metadata": {},
   "outputs": [],
   "source": [
    "import gym, math, tqdm, numpy as np, matplotlib.pyplot as plt"
   ]
  },
  {
   "cell_type": "markdown",
   "id": "48e7c93e-a9f3-4013-9eb1-c9dce7083e9e",
   "metadata": {},
   "source": [
    "### Inicialização do ambiente e das variáveis"
   ]
  },
  {
   "cell_type": "code",
   "execution_count": null,
   "id": "6a793aa3-57aa-4c2c-a7d7-7729d9d059ec",
   "metadata": {},
   "outputs": [],
   "source": [
    "env_name = \"Pendulum-v1\"\n",
    "env = gym.make(env_name)\n",
    "discrete = (20, 20, 20, 20)\n",
    "num_eps = 3000\n",
    "epsilon, min_epsilon = 0.0, 0.1\n",
    "learning_rate, min_learning_rate = 0.0, 0.3\n",
    "discount_factor = 0.95\n",
    "dec = 15\n",
    "lower = [-1.0, -1.0, -8.0, -2.0]\n",
    "upper = [1.0, 1.0, 8.0, 2.0]\n",
    "#qtable = np.zeros(discrete + (env.action_space.n, ))\n",
    "qtable = np.zeros(discrete)"
   ]
  }
 ],
 "metadata": {
  "kernelspec": {
   "display_name": "Python 3 (ipykernel)",
   "language": "python",
   "name": "python3"
  },
  "language_info": {
   "codemirror_mode": {
    "name": "ipython",
    "version": 3
   },
   "file_extension": ".py",
   "mimetype": "text/x-python",
   "name": "python",
   "nbconvert_exporter": "python",
   "pygments_lexer": "ipython3",
   "version": "3.10.5"
  }
 },
 "nbformat": 4,
 "nbformat_minor": 5
}
