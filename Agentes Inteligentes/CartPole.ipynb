{
 "cells": [
  {
   "cell_type": "markdown",
   "id": "4be12872",
   "metadata": {},
   "source": [
    "**Preparação do ambiente com instalação de pacotes necessários ao projeto**"
   ]
  },
  {
   "cell_type": "code",
   "execution_count": 11,
   "id": "728b2e27",
   "metadata": {},
   "outputs": [],
   "source": [
    "!pip install gym[all] box2d-py numpy tqdm pyvirtualdisplay 1>/dev/null"
   ]
  },
  {
   "cell_type": "markdown",
   "id": "9a56b5b3",
   "metadata": {},
   "source": [
    "**Preâmbulo do projeto**"
   ]
  },
  {
   "cell_type": "code",
   "execution_count": 2,
   "id": "65698d18",
   "metadata": {},
   "outputs": [],
   "source": [
    "import gym\n",
    "import numpy as np\n",
    "import matplotlib.pyplot as plt\n",
    "\n",
    "from pyvirtualdisplay import Display\n",
    "from tqdm import tqdm"
   ]
  },
  {
   "cell_type": "markdown",
   "id": "305d9e8f",
   "metadata": {},
   "source": [
    "**Inicialização do projeto**"
   ]
  },
  {
   "cell_type": "code",
   "execution_count": 12,
   "id": "675755b8",
   "metadata": {},
   "outputs": [
    {
     "name": "stderr",
     "output_type": "stream",
     "text": [
      "/home/wasf84/.local/lib/python3.10/site-packages/gym/envs/registration.py:593: UserWarning: \u001b[33mWARN: The environment CartPole-v0 is out of date. You should consider upgrading to version `v1`.\u001b[0m\n",
      "  logger.warn(\n",
      "/home/wasf84/.local/lib/python3.10/site-packages/gym/core.py:329: DeprecationWarning: \u001b[33mWARN: Initializing wrapper in old step API which returns one bool instead of two. It is recommended to set `new_step_api=True` to use new step API. This will be the default behaviour in future.\u001b[0m\n",
      "  deprecation(\n",
      "/home/wasf84/.local/lib/python3.10/site-packages/gym/wrappers/step_api_compatibility.py:39: DeprecationWarning: \u001b[33mWARN: Initializing environment in old step API which returns one bool instead of two. It is recommended to set `new_step_api=True` to use new step API. This will be the default behaviour in future.\u001b[0m\n",
      "  deprecation(\n"
     ]
    }
   ],
   "source": [
    "Display().start()\n",
    "env = gym.make('CartPole-v0')\n",
    "state = env.reset()"
   ]
  },
  {
   "cell_type": "markdown",
   "id": "c99fc04f",
   "metadata": {},
   "source": [
    "**Demonstração da inicialização do projeto**"
   ]
  },
  {
   "cell_type": "code",
   "execution_count": 13,
   "id": "35e06031",
   "metadata": {},
   "outputs": [
    {
     "name": "stdout",
     "output_type": "stream",
     "text": [
      "\n",
      "Posição do carrinho:\t\t 0.037675641477108\n",
      "Velocidade do carrinho:\t\t 0.02902727946639061\n",
      "Ângulo do mastro:\t\t -0.03398006409406662\n",
      "Velocidade angular do mastro:\t -0.02730596996843815\n",
      "\n"
     ]
    }
   ],
   "source": [
    "print(f\"\"\"\n",
    "Posição do carrinho:\\t\\t {state[0]}\n",
    "Velocidade do carrinho:\\t\\t {state[1]}\n",
    "Ângulo do mastro:\\t\\t {state[2]}\n",
    "Velocidade angular do mastro:\\t {state[3]}\n",
    "\"\"\")"
   ]
  },
  {
   "cell_type": "code",
   "execution_count": 14,
   "id": "e180832c",
   "metadata": {},
   "outputs": [
    {
     "name": "stderr",
     "output_type": "stream",
     "text": [
      "/home/wasf84/.local/lib/python3.10/site-packages/gym/core.py:51: DeprecationWarning: \u001b[33mWARN: The argument mode in render method is deprecated; use render_mode during environment initialization instead.\n",
      "See here for more information: https://www.gymlibrary.ml/content/api/\u001b[0m\n",
      "  deprecation(\n"
     ]
    },
    {
     "data": {
      "image/png": "[encoded data removed]",
      "text/plain": [
       "<Figure size 432x288 with 1 Axes>"
      ]
     },
     "metadata": {
      "needs_background": "light"
     },
     "output_type": "display_data"
    }
   ],
   "source": [
    "img = plt.imshow(env.render(\"rgb_array\"))"
   ]
  },
  {
   "cell_type": "code",
   "execution_count": 6,
   "id": "0c1dfc24",
   "metadata": {},
   "outputs": [
    {
     "name": "stderr",
     "output_type": "stream",
     "text": [
      "100%|██████████████████████████████████████████████████████████████████████████████████████████████████████████████████████████████████████████████████████████| 1000/1000 [00:00<00:00, 1341.81it/s]\n"
     ]
    }
   ],
   "source": [
    "qtd_episodios = 1000\n",
    "rewards = []\n",
    "#----------------------------#\n",
    "for _ in tqdm(range(qtd_episodios)):\n",
    "    done = False\n",
    "    state = env.reset()\n",
    "    reward = []\n",
    "    while not done:\n",
    "        action = env.action_space.sample()\n",
    "        state, r, done, info = env.step(action)\n",
    "        reward.append(r)\n",
    "    env.close()\n",
    "    rewards.append(sum(reward))"
   ]
  },
  {
   "cell_type": "markdown",
   "id": "d568a057",
   "metadata": {},
   "source": [
    "**Plotando o histograma**\n",
    "\n",
    "Explicando o gráfico:\n",
    "- o eixo y é a quantidade de episódios\n",
    "- o eixo x mostra a quantidade de movimentos feita antes do episódio encerrar (por erro ou por atingir o limite - explicado na página do CartPole)"
   ]
  },
  {
   "cell_type": "code",
   "execution_count": 7,
   "id": "426e1efb",
   "metadata": {},
   "outputs": [
    {
     "data": {
      "text/plain": [
       "(array([475., 302., 132.,  59.,  16.,   8.,   5.,   2.,   0.,   1.]),\n",
       " array([  8. ,  18.5,  29. ,  39.5,  50. ,  60.5,  71. ,  81.5,  92. ,\n",
       "        102.5, 113. ]),\n",
       " <BarContainer object of 10 artists>)"
      ]
     },
     "execution_count": 7,
     "metadata": {},
     "output_type": "execute_result"
    },
    {
     "data": {
      "image/png": "[encoded data removed]",
      "text/plain": [
       "<Figure size 432x288 with 1 Axes>"
      ]
     },
     "metadata": {
      "needs_background": "light"
     },
     "output_type": "display_data"
    }
   ],
   "source": [
    "rewards = np.array(rewards)\n",
    "plt.hist(rewards)"
   ]
  },
  {
   "cell_type": "code",
   "execution_count": null,
   "id": "538ca3c5",
   "metadata": {},
   "outputs": [],
   "source": []
  }
 ],
 "metadata": {
  "kernelspec": {
   "display_name": "Python 3 (ipykernel)",
   "language": "python",
   "name": "python3"
  },
  "language_info": {
   "codemirror_mode": {
    "name": "ipython",
    "version": 3
   },
   "file_extension": ".py",
   "mimetype": "text/x-python",
   "name": "python",
   "nbconvert_exporter": "python",
   "pygments_lexer": "ipython3",
   "version": "3.10.5"
  }
 },
 "nbformat": 4,
 "nbformat_minor": 5
}
