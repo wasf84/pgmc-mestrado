{
 "cells": [
  {
   "cell_type": "markdown",
   "id": "4be12872",
   "metadata": {
    "tags": []
   },
   "source": [
    "\n",
    "# **Preparação do ambiente com instalação de pacotes necessários ao projeto**\n",
    "\n",
    "Tem que instalar estes pacotes para este projeto <br>\n",
    "**gym box2d-py numpy tqdm pyvirtualdisplay**\n",
    "\n",
    "Se estiver numa distro Linux, instale pelo pip mesmo <br>\n",
    "*$ pip install gym[all] box2d-py numpy tqdm pyvirtualdisplay*\n",
    "\n",
    "No Windows é ideal ter o Anaconda instalado e usá-lo para instalar estes pacotes <br>\n",
    "*conda install gym[all] box2d-py numpy tqdm pyvirtualdisplay*"
   ]
  },
  {
   "cell_type": "markdown",
   "id": "9a56b5b3",
   "metadata": {},
   "source": [
    "**Preâmbulo do projeto**"
   ]
  },
  {
   "cell_type": "code",
   "execution_count": 2,
   "id": "65698d18",
   "metadata": {},
   "outputs": [
    {
     "ename": "ModuleNotFoundError",
     "evalue": "No module named 'gym'",
     "output_type": "error",
     "traceback": [
      "\u001b[1;31m---------------------------------------------------------------------------\u001b[0m",
      "\u001b[1;31mModuleNotFoundError\u001b[0m                       Traceback (most recent call last)",
      "Input \u001b[1;32mIn [2]\u001b[0m, in \u001b[0;36m<cell line: 1>\u001b[1;34m()\u001b[0m\n\u001b[1;32m----> 1\u001b[0m \u001b[38;5;28;01mimport\u001b[39;00m \u001b[38;5;21;01mgym\u001b[39;00m\n\u001b[0;32m      2\u001b[0m \u001b[38;5;28;01mimport\u001b[39;00m \u001b[38;5;21;01mnumpy\u001b[39;00m \u001b[38;5;28;01mas\u001b[39;00m \u001b[38;5;21;01mnp\u001b[39;00m\n\u001b[0;32m      3\u001b[0m \u001b[38;5;28;01mimport\u001b[39;00m \u001b[38;5;21;01mmatplotlib\u001b[39;00m\u001b[38;5;21;01m.\u001b[39;00m\u001b[38;5;21;01mpyplot\u001b[39;00m \u001b[38;5;28;01mas\u001b[39;00m \u001b[38;5;21;01mplt\u001b[39;00m\n",
      "\u001b[1;31mModuleNotFoundError\u001b[0m: No module named 'gym'"
     ]
    }
   ],
   "source": [
    "import gym\n",
    "import numpy as np\n",
    "import matplotlib.pyplot as plt\n",
    "\n",
    "from pyvirtualdisplay import Display\n",
    "from tqdm import tqdm"
   ]
  },
  {
   "cell_type": "markdown",
   "id": "305d9e8f",
   "metadata": {},
   "source": [
    "**Inicialização do projeto**"
   ]
  },
  {
   "cell_type": "code",
   "execution_count": null,
   "id": "675755b8",
   "metadata": {},
   "outputs": [],
   "source": [
    "Display().start()\n",
    "env = gym.make('CartPole-v0')\n",
    "state = env.reset()"
   ]
  },
  {
   "cell_type": "markdown",
   "id": "c99fc04f",
   "metadata": {},
   "source": [
    "**Demonstração da inicialização do projeto**"
   ]
  },
  {
   "cell_type": "code",
   "execution_count": null,
   "id": "35e06031",
   "metadata": {},
   "outputs": [],
   "source": [
    "print(f\"\"\"\n",
    "Posição do carrinho:\\t\\t {state[0]}\n",
    "Velocidade do carrinho:\\t\\t {state[1]}\n",
    "Ângulo do mastro:\\t\\t {state[2]}\n",
    "Velocidade angular do mastro:\\t {state[3]}\n",
    "\"\"\")"
   ]
  },
  {
   "cell_type": "code",
   "execution_count": null,
   "id": "e180832c",
   "metadata": {},
   "outputs": [],
   "source": [
    "img = plt.imshow(env.render(\"rgb_array\"))"
   ]
  },
  {
   "cell_type": "code",
   "execution_count": null,
   "id": "0c1dfc24",
   "metadata": {},
   "outputs": [],
   "source": [
    "qtd_episodios = 1000\n",
    "rewards = []\n",
    "#----------------------------#\n",
    "for _ in tqdm(range(qtd_episodios)):\n",
    "    done = False\n",
    "    state = env.reset()\n",
    "    reward = []\n",
    "    while not done:\n",
    "        action = env.action_space.sample()\n",
    "        state, r, done, info = env.step(action)\n",
    "        reward.append(r)\n",
    "    env.close()\n",
    "    rewards.append(sum(reward))"
   ]
  },
  {
   "cell_type": "markdown",
   "id": "d568a057",
   "metadata": {},
   "source": [
    "**Plotando o histograma**\n",
    "\n",
    "Explicando o gráfico:\n",
    "- o eixo y é a quantidade de episódios\n",
    "- o eixo x mostra a quantidade de movimentos feita antes do episódio encerrar (por erro ou por atingir o limite - explicado na página do CartPole)"
   ]
  },
  {
   "cell_type": "code",
   "execution_count": 7,
   "id": "426e1efb",
   "metadata": {},
   "outputs": [
    {
     "data": {
      "text/plain": [
       "(array([475., 302., 132.,  59.,  16.,   8.,   5.,   2.,   0.,   1.]),\n",
       " array([  8. ,  18.5,  29. ,  39.5,  50. ,  60.5,  71. ,  81.5,  92. ,\n",
       "        102.5, 113. ]),\n",
       " <BarContainer object of 10 artists>)"
      ]
     },
     "execution_count": 7,
     "metadata": {},
     "output_type": "execute_result"
    },
    {
     "data": {
      "image/png": "[encoded data removed]",
      "text/plain": [
       "<Figure size 432x288 with 1 Axes>"
      ]
     },
     "metadata": {
      "needs_background": "light"
     },
     "output_type": "display_data"
    }
   ],
   "source": [
    "rewards = np.array(rewards)\n",
    "plt.hist(rewards)"
   ]
  },
  {
   "cell_type": "code",
   "execution_count": null,
   "id": "538ca3c5",
   "metadata": {},
   "outputs": [],
   "source": []
  }
 ],
 "metadata": {
  "kernelspec": {
   "display_name": "Python 3 (ipykernel)",
   "language": "python",
   "name": "python3"
  },
  "language_info": {
   "codemirror_mode": {
    "name": "ipython",
    "version": 3
   },
   "file_extension": ".py",
   "mimetype": "text/x-python",
   "name": "python",
   "nbconvert_exporter": "python",
   "pygments_lexer": "ipython3",
   "version": "3.9.12"
  }
 },
 "nbformat": 4,
 "nbformat_minor": 5
}
