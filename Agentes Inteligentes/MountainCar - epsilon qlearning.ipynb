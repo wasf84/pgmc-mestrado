{
 "cells": [
  {
   "cell_type": "markdown",
   "id": "96d6ba70-fe43-425f-9477-e23f9f28a8d8",
   "metadata": {},
   "source": [
    "### Preparação do ambiente\n",
    "\n",
    "Este projeto demanda a instalação dos pacotes **numpy, matplotlib e gym[all]**"
   ]
  },
  {
   "cell_type": "markdown",
   "id": "2d7e8b0d-c601-4f11-b7c7-388d6484bc09",
   "metadata": {},
   "source": [
    "### Preâmbulo do projeto\n",
    "\n",
    "Importação de todos pacotes necessários"
   ]
  },
  {
   "cell_type": "code",
   "execution_count": 1,
   "id": "d7f3185a-2d1d-49bd-af55-adb5a274497a",
   "metadata": {},
   "outputs": [],
   "source": [
    "import gym, math, tqdm, numpy as np, matplotlib.pyplot as plt"
   ]
  },
  {
   "cell_type": "markdown",
   "id": "02de47f5-481a-417a-b82e-152dcef33cdb",
   "metadata": {},
   "source": [
    "### Inicialização do ambiente e das variáveis"
   ]
  },
  {
   "cell_type": "code",
   "execution_count": 2,
   "id": "60549156-c447-4a35-96d6-29048d275b97",
   "metadata": {},
   "outputs": [
    {
     "name": "stderr",
     "output_type": "stream",
     "text": [
      "/home/wasf84/.local/lib/python3.10/site-packages/gym/core.py:329: DeprecationWarning: \u001b[33mWARN: Initializing wrapper in old step API which returns one bool instead of two. It is recommended to set `new_step_api=True` to use new step API. This will be the default behaviour in future.\u001b[0m\n",
      "  deprecation(\n",
      "/home/wasf84/.local/lib/python3.10/site-packages/gym/wrappers/step_api_compatibility.py:39: DeprecationWarning: \u001b[33mWARN: Initializing environment in old step API which returns one bool instead of two. It is recommended to set `new_step_api=True` to use new step API. This will be the default behaviour in future.\u001b[0m\n",
      "  deprecation(\n"
     ]
    }
   ],
   "source": [
    "env_name = \"MountainCar-v0\"\n",
    "env = gym.make(env_name)\n",
    "discrete = (10, 100)\n",
    "num_eps = 3000\n",
    "epsilon, min_epsilon = 0.0, 0.1\n",
    "learning_rate, min_learning_rate = 0.0, 0.3\n",
    "discount_factor = 0.95\n",
    "dec = 15\n",
    "# Pode retornar os valores low[] e high[] direto do 'env', mas preferi colocar fixos aqui.\n",
    "lower = [-1.2, -0.07]\n",
    "upper = [0.6, 0.07]\n",
    "qtable = np.zeros(discrete + (env.action_space.n, ))"
   ]
  },
  {
   "cell_type": "markdown",
   "id": "eb435f02-c5c3-4709-84fd-b0de57d26233",
   "metadata": {},
   "source": [
    "### Métodos que serão empregados na geração da QTable"
   ]
  },
  {
   "cell_type": "code",
   "execution_count": 3,
   "id": "bd4d39c9-0614-4ef5-9db9-8e819ab4e111",
   "metadata": {},
   "outputs": [],
   "source": [
    "def choose_action(state):\n",
    "    \"\"\"\n",
    "        O fator aleatório para melhorar o aprendizado\n",
    "    \"\"\"\n",
    "    if (np.random.random() < epsilon):\n",
    "        return env.action_space.sample()\n",
    "    else:\n",
    "        return np.argmax(qtable[state])\n",
    "# ---------------------------------------------------------------------#\n",
    "def discrete_state(state):\n",
    "    \"\"\"\n",
    "        Recebe um espaço de observação (observation space) e o discretiza\n",
    "    \"\"\"\n",
    "    d = list()\n",
    "\n",
    "    for i in range(len(state)):\n",
    "        stepsize = (state[i] + abs(lower[i])) / (upper[i] - lower[i])\n",
    "        new_state = int(round((discrete[i] - 1) * stepsize))\n",
    "        new_state = min(discrete[i] - 1, max(0, new_state))\n",
    "        d.append(new_state)\n",
    "\n",
    "    return tuple(d)\n",
    "# ---------------------------------------------------------------------#\n",
    "def get_epsilon(ep):\n",
    "    # vai reduzindo o epsilon para diminuir a ganância do algoritmo\n",
    "    # entretando, existe um valor mínimo que não reduz para garantir alguma aleatoriedade\n",
    "    # reduz à medida que aumenta a quantidade de episódios\n",
    "    # https://web.stanford.edu/class/psych209/Readings/SuttonBartoIPRLBook2ndEd.pdf\n",
    "    return max(min_epsilon, min(1., 1. - math.log10((ep + 1) / dec)))\n",
    "# ---------------------------------------------------------------------#\n",
    "def get_learning_rate(ep):\n",
    "    # vai reduzindo a taxa de aprendizagem para diminuir a ganância do algoritmo\n",
    "    # entretando, existe um valor mínimo que não reduz para garantir algum aprendizado\n",
    "    # reduz à medida que aumenta a quantidade de episódios\n",
    "    # https://web.stanford.edu/class/psych209/Readings/SuttonBartoIPRLBook2ndEd.pdf\n",
    "    return max(min_learning_rate, min(1., 1. - math.log10((ep + 1) / dec)))\n",
    "# ---------------------------------------------------------------------#\n",
    "def update_qtable(state, action, reward, new_state):\n",
    "    # isso está no Google Colab da disciplina\n",
    "    qtable[state][action] += learning_rate * (reward + discount_factor * np.max(qtable[new_state]) - qtable[state][action])"
   ]
  },
  {
   "cell_type": "markdown",
   "id": "40cef496-c4ac-4090-9cac-e37b0946589c",
   "metadata": {},
   "source": [
    "### Treinamento"
   ]
  },
  {
   "cell_type": "code",
   "execution_count": 4,
   "id": "11965e16-2d53-48db-912c-a25d24e99ff6",
   "metadata": {},
   "outputs": [
    {
     "name": "stderr",
     "output_type": "stream",
     "text": [
      "100%|████████████████████████████████████████████████████████████████████████████████████████████████████████████████████████████████████████████████████████████████████████████████████████████████████| 3000/3000 [00:33<00:00, 89.52it/s]\n"
     ]
    }
   ],
   "source": [
    "# usado para plotar o gráfico de aprendizado\n",
    "tr = []\n",
    "\n",
    "for ep in tqdm.tqdm(range(num_eps)):\n",
    "    current_state = discrete_state(env.reset())\n",
    "\n",
    "    learning_rate = get_learning_rate(ep)\n",
    "    epsilon = get_epsilon(ep)\n",
    "    done = False\n",
    "    \n",
    "    # usado para plotar o gráfico de aprendizado\n",
    "    r = []\n",
    "\n",
    "    while not done:\n",
    "        action = choose_action(current_state)\n",
    "        observation, reward, done, _ = env.step(action)\n",
    "        new_state = discrete_state(observation)\n",
    "        update_qtable(current_state, action, reward, new_state)\n",
    "        current_state = new_state\n",
    "        r.append(reward)\n",
    "        \n",
    "    env.close()\n",
    "    tr.append(sum(r))"
   ]
  },
  {
   "cell_type": "markdown",
   "id": "b976a471-e86b-452e-b450-b69ad997adf5",
   "metadata": {},
   "source": [
    "### Gráfico da aprendizagem"
   ]
  },
  {
   "cell_type": "code",
   "execution_count": 5,
   "id": "48f7df08-1bf5-4cbb-8e44-e794457f6530",
   "metadata": {},
   "outputs": [
    {
     "data": {
      "text/plain": [
       "[<matplotlib.lines.Line2D at 0x7fddff0dc0d0>]"
      ]
     },
     "execution_count": 5,
     "metadata": {},
     "output_type": "execute_result"
    },
    {
     "data": {
      "image/png": "[encoded data removed]",
      "text/plain": [
       "<Figure size 432x288 with 1 Axes>"
      ]
     },
     "metadata": {
      "needs_background": "light"
     },
     "output_type": "display_data"
    }
   ],
   "source": [
    "plt.plot(tr)"
   ]
  },
  {
   "cell_type": "markdown",
   "id": "764a0ca4-87c6-4a16-8957-44283aa3db59",
   "metadata": {},
   "source": [
    "### Execução"
   ]
  },
  {
   "cell_type": "code",
   "execution_count": 6,
   "id": "8c99037c-e8f4-4537-8735-37211b4332c6",
   "metadata": {},
   "outputs": [
    {
     "name": "stderr",
     "output_type": "stream",
     "text": [
      " 97%|██████████████████████████████████████████████████████████████████████████████████████████████████████████████████████████████████████████████████████████████████████████████████████████████▍      | 290/300 [00:02<00:00, 112.39it/s]/home/wasf84/.local/lib/python3.10/site-packages/gym/core.py:57: DeprecationWarning: \u001b[33mWARN: You are calling render method, but you didn't specified the argument render_mode at environment initialization. To maintain backward compatibility, the environment will render in human mode.\n",
      "If you want to render in human mode, initialize the environment in this way: gym.make('EnvName', render_mode='human') and don't call the render method.\n",
      "See here for more information: https://www.gymlibrary.ml/content/api/\u001b[0m\n",
      "  deprecation(\n",
      "100%|██████████████████████████████████████████████████████████████████████████████████████████████████████████████████████████████████████████████████████████████████████████████████████████████████████| 300/300 [00:35<00:00,  8.52it/s]\n"
     ]
    }
   ],
   "source": [
    "tr = []     # usado para plotar o histograma\n",
    "i = 0       # macete para renderizar alguns episodios\n",
    "\n",
    "# executando sempre para 10% de passos sobre o número total de episódios usados para treinamento\n",
    "for _ in tqdm.tqdm(range(int(num_eps * 0.1))):\n",
    "    \n",
    "    # ambiente a ser avaliado\n",
    "    env_t = gym.make(env_name)\n",
    "    \n",
    "    # usado para plotar o gráfico de aprendizado\n",
    "    r = []\n",
    "\n",
    "    done = False\n",
    "\n",
    "    # estado atual\n",
    "    cs = discrete_state(env_t.reset())\n",
    "\n",
    "    while not done:\n",
    "        \n",
    "        # Renderizar os ultimos 5 episodios\n",
    "        if i >= (int(num_eps * 0.1) - 5):\n",
    "            env_t.render()\n",
    "\n",
    "        action = np.argmax(qtable[cs])\n",
    "        obs, reward, done, _ = env_t.step(action)\n",
    "        new_state = discrete_state(obs)\n",
    "        cs = new_state\n",
    "        r.append(reward)\n",
    "        \n",
    "    i += 1\n",
    "    env_t.close()\n",
    "    tr.append(sum(r))"
   ]
  },
  {
   "cell_type": "markdown",
   "id": "fdc8e526-3cec-46f8-8e04-3373c427aecd",
   "metadata": {},
   "source": [
    "### Histograma da execução"
   ]
  },
  {
   "cell_type": "code",
   "execution_count": 7,
   "id": "d3584f96-90a0-4fc1-ad8a-921b5393ace6",
   "metadata": {},
   "outputs": [
    {
     "data": {
      "text/plain": [
       "(array([147.,  32.,  17.,  10.,  19.,  19.,  24.,  17.,   2.,  13.]),\n",
       " array([-200. , -195.9, -191.8, -187.7, -183.6, -179.5, -175.4, -171.3,\n",
       "        -167.2, -163.1, -159. ]),\n",
       " <BarContainer object of 10 artists>)"
      ]
     },
     "execution_count": 7,
     "metadata": {},
     "output_type": "execute_result"
    },
    {
     "data": {
      "image/png": "[encoded data removed]",
      "text/plain": [
       "<Figure size 432x288 with 1 Axes>"
      ]
     },
     "metadata": {
      "needs_background": "light"
     },
     "output_type": "display_data"
    }
   ],
   "source": [
    "plt.hist(tr)"
   ]
  }
 ],
 "metadata": {
  "kernelspec": {
   "display_name": "Python 3 (ipykernel)",
   "language": "python",
   "name": "python3"
  },
  "language_info": {
   "codemirror_mode": {
    "name": "ipython",
    "version": 3
   },
   "file_extension": ".py",
   "mimetype": "text/x-python",
   "name": "python",
   "nbconvert_exporter": "python",
   "pygments_lexer": "ipython3",
   "version": "3.10.5"
  }
 },
 "nbformat": 4,
 "nbformat_minor": 5
}
