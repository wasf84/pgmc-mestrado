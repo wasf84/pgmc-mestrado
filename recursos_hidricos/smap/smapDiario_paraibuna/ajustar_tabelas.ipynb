{
 "cells": [
  {
   "cell_type": "code",
   "execution_count": 193,
   "metadata": {},
   "outputs": [],
   "source": [
    "import numpy as np, pandas as pd\n",
    "from tqdm import tqdm"
   ]
  },
  {
   "cell_type": "code",
   "execution_count": 198,
   "metadata": {},
   "outputs": [],
   "source": [
    "arq = \"plu_Sobragi.xls\"\n",
    "tab = pd.read_excel(arq, header=0, index_col=0)\n",
    "\n",
    "tab_t = tab.to_numpy()"
   ]
  },
  {
   "cell_type": "code",
   "execution_count": 199,
   "metadata": {},
   "outputs": [
    {
     "name": "stderr",
     "output_type": "stream",
     "text": [
      "100%|██████████| 31/31 [00:00<00:00, 12544.47it/s]\n",
      "100%|██████████| 31/31 [00:00<?, ?it/s]\n",
      "100%|██████████| 31/31 [00:00<?, ?it/s]\n",
      "100%|██████████| 31/31 [00:00<?, ?it/s]\n",
      "100%|██████████| 31/31 [00:00<?, ?it/s]\n",
      "100%|██████████| 31/31 [00:00<?, ?it/s]\n",
      "100%|██████████| 31/31 [00:00<00:00, 30336.78it/s]\n",
      "100%|██████████| 31/31 [00:00<?, ?it/s]\n",
      "100%|██████████| 31/31 [00:00<?, ?it/s]\n",
      "100%|██████████| 31/31 [00:00<?, ?it/s]\n",
      "100%|██████████| 31/31 [00:00<?, ?it/s]\n",
      "100%|██████████| 31/31 [00:00<?, ?it/s]\n",
      "100%|██████████| 31/31 [00:00<00:00, 29631.59it/s]\n",
      "100%|██████████| 31/31 [00:00<?, ?it/s]\n",
      "100%|██████████| 31/31 [00:00<?, ?it/s]\n",
      "100%|██████████| 31/31 [00:00<00:00, 4067.55it/s]\n",
      "100%|██████████| 31/31 [00:00<00:00, 4418.51it/s]\n",
      "100%|██████████| 31/31 [00:00<?, ?it/s]\n",
      "100%|██████████| 31/31 [00:00<?, ?it/s]\n",
      "100%|██████████| 31/31 [00:00<?, ?it/s]\n",
      "100%|██████████| 31/31 [00:00<?, ?it/s]\n",
      "100%|██████████| 31/31 [00:00<?, ?it/s]\n",
      "100%|██████████| 31/31 [00:00<?, ?it/s]\n",
      "100%|██████████| 31/31 [00:00<00:00, 11056.41it/s]\n",
      "100%|██████████| 24/24 [00:00<00:00, 116.25it/s]\n"
     ]
    }
   ],
   "source": [
    "arq = \"chuvas_serializado.csv\"\n",
    "with open(arq, 'w') as a:\n",
    "    for i in tqdm(range(tab_t.shape[0])):\n",
    "        for j in tqdm(range(tab_t.shape[1])):\n",
    "            a.write(str(tab_t[i][j]) + \"\\n\")"
   ]
  }
 ],
 "metadata": {
  "kernelspec": {
   "display_name": "Python 3",
   "language": "python",
   "name": "python3"
  },
  "language_info": {
   "codemirror_mode": {
    "name": "ipython",
    "version": 3
   },
   "file_extension": ".py",
   "mimetype": "text/x-python",
   "name": "python",
   "nbconvert_exporter": "python",
   "pygments_lexer": "ipython3",
   "version": "3.10.8 (tags/v3.10.8:aaaf517, Oct 11 2022, 16:50:30) [MSC v.1933 64 bit (AMD64)]"
  },
  "orig_nbformat": 4,
  "vscode": {
   "interpreter": {
    "hash": "93797f18362c3e404440fef49b46fd3ac03bfe90f3f1c8a995f4af079be3dabf"
   }
  }
 },
 "nbformat": 4,
 "nbformat_minor": 2
}
