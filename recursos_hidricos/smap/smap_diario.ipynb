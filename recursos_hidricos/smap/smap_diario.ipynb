{
 "cells": [
  {
   "cell_type": "code",
   "execution_count": 10,
   "metadata": {},
   "outputs": [],
   "source": [
    "import numpy as np, tqdm"
   ]
  },
  {
   "cell_type": "code",
   "execution_count": 11,
   "metadata": {},
   "outputs": [],
   "source": [
    "# SMAP Diário\n",
    "def smap_diario(ndias, Ad, Tuin, Ebin, Supin, Str, Crec, Ai, K2t, Kkt, Ep, Pr, Pcof, Capc):\n",
    "     # Incialização dos reservatórios\n",
    "     # Já cria os reservatórios com a quantidade de dias necessária\n",
    "     Rsolo, Rsub, Rsup = np.zeros(ndias), np.zeros(ndias), np.zeros(ndias)\n",
    "     Rsolo[0]  = Tuin  / 100 * Str\n",
    "     Rsub[0]   = Ebin  / (1 - .5 ^ (1 / Kkt)) / Ad * 86.4\n",
    "     Rsup[0]   = Supin / (1 - .5 ^ (1 / K2t)) / Ad * 86.4\n",
    "\n",
    "     # Inicialização de outros vetores que serão usados no algoritmo\n",
    "     P   = np.zeros(ndias)\n",
    "     Tu  = np.zeros(ndias)\n",
    "     Es  = np.zeros(ndias)\n",
    "     Er  = np.zeros(ndias)\n",
    "     Ed  = np.zeros(ndias)\n",
    "     Eb  = np.zeros(ndias)\n",
    "     Rec = np.zeros(ndias)\n",
    "\n",
    "     # Vetor que representa a função-objetivo\n",
    "     Q = np.zeros(ndias)\n",
    "\n",
    "     for i in tqdm.tqdm(range(1, ndias+1)):\n",
    "          P[i] = Pr[i] * Pcof\n",
    "          Tu[i] = Rsolo[i-1] / Str\n",
    "\n",
    "          if P[i] > Ai:\n",
    "               Es[i] = (P[i] - Ai) ^ 2 / (P[i] - Ai + Str - Rsolo[i-1])\n",
    "          else:\n",
    "               Es[i] = 0\n",
    "\n",
    "          if (P[i] - Es[i]) > Ep[i]:\n",
    "               Er[i] = Ep[i]\n",
    "          else:\n",
    "               Er[i] = (P[i] - Es[i]) + (Ep[i] - (P[i] - Es[i])) * Tu[i]\n",
    "          \n",
    "          if Rsolo[i-1] > (Capc/100 * Str):\n",
    "               Rec[i] = Crec/100 * Tu[i] * (Rsolo[i-1] - (Capc/100 * Str))\n",
    "          else:\n",
    "               Rec[i] = 0\n",
    "          \n",
    "          Rsolo[i] = Rsolo[i-1] + P[i] - Es[i] - Er[i] - Rec[i]\n",
    "          if Rsolo[i] > Str:\n",
    "               Es[i] = Es[i] + Rsolo[i] - Str\n",
    "               Rsolo[i] = Str\n",
    "          \n",
    "          Ed[i] = Rsup[i-1] * (1 - np.power(0.5, (1 / K2t))) \n",
    "          Rsup[i] = Rsup[i-1] + Es[i] - Ed[i]\n",
    "\n",
    "          Eb[i] = Rsub[i-1] * (1 - np.power(0.5, (1 / Kkt)))\n",
    "          Rsub[i] = Rsub[i-1] + Rec[i] - Eb[i]\n",
    "          \n",
    "          # Função-objetivo\n",
    "          Q[i] = (Ed[i] + Eb[i]) * Ad / 86.4\n",
    "     # fim FOR\n",
    "\n",
    "# fim DEF"
   ]
  },
  {
   "cell_type": "code",
   "execution_count": 12,
   "metadata": {},
   "outputs": [
    {
     "ename": "TypeError",
     "evalue": "smap_diario() missing 14 required positional arguments: 'ndias', 'Ad', 'Tuin', 'Ebin', 'Supin', 'Str', 'Crec', 'Ai', 'K2t', 'Kkt', 'Ep', 'Pr', 'Pcof', and 'Capc'",
     "output_type": "error",
     "traceback": [
      "\u001b[1;31m---------------------------------------------------------------------------\u001b[0m",
      "\u001b[1;31mTypeError\u001b[0m                                 Traceback (most recent call last)",
      "\u001b[1;32m~\\AppData\\Local\\Temp\\ipykernel_15956\\2328466648.py\u001b[0m in \u001b[0;36m<cell line: 15>\u001b[1;34m()\u001b[0m\n\u001b[0;32m     13\u001b[0m \u001b[1;31m# Ep[], Pr[], Pcof\u001b[0m\u001b[1;33m\u001b[0m\u001b[1;33m\u001b[0m\u001b[0m\n\u001b[0;32m     14\u001b[0m \u001b[1;33m\u001b[0m\u001b[0m\n\u001b[1;32m---> 15\u001b[1;33m \u001b[0msmap_diario\u001b[0m\u001b[1;33m(\u001b[0m\u001b[1;33m)\u001b[0m\u001b[1;33m\u001b[0m\u001b[1;33m\u001b[0m\u001b[0m\n\u001b[0m",
      "\u001b[1;31mTypeError\u001b[0m: smap_diario() missing 14 required positional arguments: 'ndias', 'Ad', 'Tuin', 'Ebin', 'Supin', 'Str', 'Crec', 'Ai', 'K2t', 'Kkt', 'Ep', 'Pr', 'Pcof', and 'Capc'"
     ]
    }
   ],
   "source": [
    "# Tuin  = teor de umidade inicial (%)\n",
    "# Supin = vazão superficial inicial (m3/s)\n",
    "# Ebin  = vazão básica inicial (m3/s)\n",
    "# Ad    = área de drenagem (km2)\n",
    "# Str   = capacidade de saturação do solo (mm)\n",
    "# Kkt   = constante de recessão do escoamento básico (dias)\n",
    "# K2t   = constante de recessão do escoamento superficial (dias)\n",
    "\n",
    "# Entrada de dados\n",
    "# ndias, Ad\n",
    "# Tuin, Ebin, Supin\n",
    "# Str, Crec, Capc, Ai, K2t, Kkt\n",
    "# Ep[], Pr[], Pcof\n",
    "\n",
    "smap_diario()"
   ]
  }
 ],
 "metadata": {
  "kernelspec": {
   "display_name": "Python 3",
   "language": "python",
   "name": "python3"
  },
  "language_info": {
   "codemirror_mode": {
    "name": "ipython",
    "version": 3
   },
   "file_extension": ".py",
   "mimetype": "text/x-python",
   "name": "python",
   "nbconvert_exporter": "python",
   "pygments_lexer": "ipython3",
   "version": "3.10.8"
  },
  "orig_nbformat": 4,
  "vscode": {
   "interpreter": {
    "hash": "93797f18362c3e404440fef49b46fd3ac03bfe90f3f1c8a995f4af079be3dabf"
   }
  }
 },
 "nbformat": 4,
 "nbformat_minor": 2
}
