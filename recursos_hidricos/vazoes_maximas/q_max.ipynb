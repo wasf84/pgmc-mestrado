{
 "cells": [
  {
   "cell_type": "code",
   "execution_count": 2,
   "id": "27e42c9d-71d5-4d8f-a8ca-18bf1b92bf74",
   "metadata": {},
   "outputs": [],
   "source": [
    "import tqdm, numpy as np, matplotlib.pyplot as plt, pandas as pd, statistics as st\n",
    "\n",
    "# Estilo mais agradável para plotar gráficos e tabelas\n",
    "plt.style.use('seaborn-whitegrid')"
   ]
  },
  {
   "cell_type": "code",
   "execution_count": 3,
   "id": "dabc0b84-5133-4be0-83be-3eb23cc378a3",
   "metadata": {},
   "outputs": [],
   "source": [
    "def imprimirTabela(dataFrame, posicao):\n",
    "    fig, ax = plt.subplots()\n",
    "    fig.patch.set_visible(False)\n",
    "    ax.axis('off')\n",
    "    ax.axis('tight')\n",
    "\n",
    "    ax.table(cellText=dataFrame.values, colLabels=dataFrame.columns, rowLabels=(dataFrame.index + 1), loc=posicao)\n",
    "    \n",
    "    plt.show()"
   ]
  },
  {
   "cell_type": "code",
   "execution_count": 4,
   "id": "28961cbf-59aa-4f83-91ca-f57b3c810f17",
   "metadata": {},
   "outputs": [],
   "source": [
    "# Carregando os dados do arquivo CSV\n",
    "# a primeira linha corresponde aos meses do ano\n",
    "# a primeira coluna corresponde aos anos observados\n",
    "#dados_csv = pd.read_csv('vazoes_maximas_teste.csv', delimiter=';', header=0, index_col=0, on_bad_lines='warn')\n",
    "dados_csv = pd.read_csv('vazoes_maximas_trabalho.csv', delimiter=';', header=0, index_col=0, on_bad_lines='warn')\n",
    "#dados_csv.T.plot(legend=False)"
   ]
  },
  {
   "cell_type": "code",
   "execution_count": 5,
   "id": "fb1e0944-ebb4-40d1-8609-091aae458268",
   "metadata": {},
   "outputs": [],
   "source": [
    "# Gerar o vetor para o ano hidrologico. Começa em SETEMBRO de um ano e termina em AGOSTO do ano seguinte\n",
    "# Desta forma, precisa cortar parte do primeiro ano registrado e parte do último.\n",
    "# Isso vai gerar um vetor com duas linhas a menos que a matriz original do CSV\n",
    "#ano_hidrologico_inicio, ano_hidrologico_fim = 0, 11\n",
    "\n",
    "# estou considerando que o ano hidrologico começa em Janeiro e termina em Dezembro\n",
    "ano_hidrologico = dados_csv.to_numpy()\n",
    "#plt.plot(ano_hidrologico.T)\n",
    "\n",
    "#for i in tqdm.tqdm(range(len(dados_csv.to_numpy()) - 1)):\n",
    "#    ano_hidrologico.append(np.concatenate((dados_csv.to_numpy()[i][ano_hidrologico_inicio:], dados_csv.to_numpy()[i+1][:ano_hidrologico_fim+1]), axis=None))"
   ]
  },
  {
   "cell_type": "code",
   "execution_count": 6,
   "id": "2cb7676b-4281-40c3-a804-04f287297e8c",
   "metadata": {},
   "outputs": [],
   "source": [
    "# Imprimir a matriz com os dados do ano hidrológico\n",
    "#imprimirTabela(pd.DataFrame(ano_hidrologico, columns=('Set', 'Out', 'Nov', 'Dez', 'Jan', 'Fev', 'Mar', 'Abr', 'Mai', 'Jun', 'Jul', 'Ago')), 'center')"
   ]
  },
  {
   "cell_type": "code",
   "execution_count": 7,
   "id": "bd61f81b-e00c-48d2-be37-dd62b1a30db8",
   "metadata": {},
   "outputs": [
    {
     "name": "stderr",
     "output_type": "stream",
     "text": [
      "100%|██████████| 31/31 [00:00<00:00, 28265.96it/s]\n"
     ]
    }
   ],
   "source": [
    "# Cria o vetor com as vazões máximas para cada ano hidrológico\n",
    "q_max = [np.amax(ano_hidrologico[x]) for x in tqdm.tqdm(range(len(ano_hidrologico)))]"
   ]
  },
  {
   "cell_type": "code",
   "execution_count": 8,
   "id": "e5b09f19-2678-4630-a57c-25fc440a4d08",
   "metadata": {},
   "outputs": [],
   "source": [
    "# Imprimir o vetor com as vazões máximas\n",
    "#imprimirTabela(pd.DataFrame(data={'Vazoes Maximas (m3/s)': q_max}), 'center')"
   ]
  },
  {
   "cell_type": "code",
   "execution_count": 9,
   "id": "e68c09df-ecd0-4713-8783-5c0d9f0f7701",
   "metadata": {},
   "outputs": [
    {
     "name": "stderr",
     "output_type": "stream",
     "text": [
      "100%|██████████| 31/31 [00:00<00:00, 539516.28it/s]\n",
      "100%|██████████| 31/31 [00:00<00:00, 562871.97it/s]\n"
     ]
    }
   ],
   "source": [
    "# Calcular a distribuição das probabilidades\n",
    "\n",
    "# Primeiro ordena do maior para o menor\n",
    "q_max_sort = q_max.copy()\n",
    "q_max_sort.sort(reverse=True)\n",
    "\n",
    "# Calcular a PROBABILIDADE EMPIRICA\n",
    "# P = index / (tamanho + 1)\n",
    "prob_empirica = [(x+1)/(len(q_max_sort)+1) for x in tqdm.tqdm(range(len(q_max_sort)))]\n",
    "\n",
    "# Calcular o TEMPO DE RETORNO\n",
    "# t = 1 / P\n",
    "tempo_retorno = [1/prob_empirica[x] for x in tqdm.tqdm(range(len(prob_empirica)))]"
   ]
  },
  {
   "cell_type": "code",
   "execution_count": 10,
   "id": "f143d665-d547-4133-be6a-7f91df231df8",
   "metadata": {},
   "outputs": [],
   "source": [
    "#imprimirTabela(pd.DataFrame(data={'Q Max ordenada' : q_max_sort}), 'center')\n",
    "#imprimirTabela(pd.DataFrame(data={'Prob Empirica' : prob_empirica}), 'center')\n",
    "#imprimirTabela(pd.DataFrame(data={'Tempo de retorno (anos)' : tempo_retorno}), 'center')"
   ]
  },
  {
   "cell_type": "code",
   "execution_count": 11,
   "id": "c47f07dc-7860-4b25-95b3-e880b400cb0e",
   "metadata": {},
   "outputs": [
    {
     "data": {
      "text/plain": [
       "<AxesSubplot:xlabel='Tempo de Retorno', ylabel='QMax Empírica (m3/s)'>"
      ]
     },
     "execution_count": 11,
     "metadata": {},
     "output_type": "execute_result"
    },
    {
     "data": {
      "image/png": "[encoded data removed]",
      "text/plain": [
       "<Figure size 640x480 with 1 Axes>"
      ]
     },
     "metadata": {},
     "output_type": "display_data"
    }
   ],
   "source": [
    "df_plot = pd.DataFrame({'QMax Empírica (m3/s)': q_max_sort, 'Tempo de Retorno': tempo_retorno})\n",
    "df_plot.plot.scatter(x='Tempo de Retorno', y='QMax Empírica (m3/s)', grid=True)"
   ]
  },
  {
   "cell_type": "code",
   "execution_count": 12,
   "id": "b1073d09-fa0b-4a24-94e0-f4985a5caa5f",
   "metadata": {},
   "outputs": [],
   "source": [
    "#len(tempo_retorno), tempo_retorno\n",
    "#len(q_max_sort), q_max_sort"
   ]
  },
  {
   "cell_type": "code",
   "execution_count": 13,
   "id": "ee3ee181-2ea2-4067-a425-4a3950e0b205",
   "metadata": {},
   "outputs": [
    {
     "name": "stderr",
     "output_type": "stream",
     "text": [
      "100%|██████████| 31/31 [00:00<00:00, 174762.67it/s]\n",
      "100%|██████████| 31/31 [00:00<00:00, 107724.46it/s]\n"
     ]
    }
   ],
   "source": [
    "# Gumbel\n",
    "\n",
    "# Cálculo da vazão máxima q, para o tempo de retorno TR\n",
    "# q(TR) = u - ln(-ln(1 - 1/TR))*a\n",
    "\n",
    "# a = 0.78*s, sendo 's' o DESVIO-PADRÃO da série de vazões máximas\n",
    "# u = m - 0.5772 * a, sendo 'm' a MÉDIA da série de vazões máximas\n",
    "\n",
    "# Calculando MÉDIA e DESVIO-PADRÃO da série de vazões máximas\n",
    "m, s  = st.mean(q_max), st.stdev(q_max)\n",
    "\n",
    "# calcula o 'a'\n",
    "a = 0.78 * s\n",
    "\n",
    "# calcula o 'u'\n",
    "u = m - (0.5772 * a)\n",
    "\n",
    "# Gumbel TR\n",
    "q_tr = []\n",
    "gumbel_tr = [(i+1.) for i in tqdm.tqdm(range(len(q_max)))]\n",
    "gumbel_tr[0] = 1.01 # essa manha tem que ser feita porque senão retorna 0 para o 'ln' e isso é matematicamente errado.\n",
    "   \n",
    "q_tr = [u - (np.log(-np.log(1 - 1/gumbel_tr[i])) * a) for i in tqdm.tqdm(range(len(gumbel_tr)))]\n",
    "\n",
    "#m, s, a, u, q_tr"
   ]
  },
  {
   "cell_type": "code",
   "execution_count": 14,
   "id": "fb8fae9a-617d-45c9-a506-400d8d7bcb24",
   "metadata": {},
   "outputs": [],
   "source": [
    "#len(q_max_sort), len(gumbel_tr), len(q_tr)"
   ]
  },
  {
   "cell_type": "code",
   "execution_count": 15,
   "id": "9a3ce16d-a768-4b68-a384-d3e39ae4ddec",
   "metadata": {},
   "outputs": [
    {
     "name": "stderr",
     "output_type": "stream",
     "text": [
      "100%|██████████| 62/62 [00:00<00:00, 197304.13it/s]\n"
     ]
    },
    {
     "data": {
      "text/plain": [
       "<AxesSubplot:title={'center':'Gumbel'}, xlabel='TR', ylabel='Vazão (m3/2)'>"
      ]
     },
     "execution_count": 15,
     "metadata": {},
     "output_type": "execute_result"
    },
    {
     "data": {
      "image/png": "[encoded data removed]",
      "text/plain": [
       "<Figure size 640x480 with 2 Axes>"
      ]
     },
     "metadata": {},
     "output_type": "display_data"
    }
   ],
   "source": [
    "# Esse passo é importante para desenhar o mesmo gráfico com cores diferentes para os pontos\n",
    "n_vazoes = len(q_max_sort) + len(q_tr)\n",
    "\n",
    "#vetor_final_plot[0] = [q_max_sort[0], tempo_retorno[0], 1] <<< ISSO FUNCIONA\n",
    "vetor_final_plot = []\n",
    "for i in tqdm.tqdm(range(n_vazoes)):\n",
    "    if (i < int(n_vazoes/2)):\n",
    "        vetor_final_plot.insert(i, [q_max_sort[i], tempo_retorno[i], 1]) # Empirico\n",
    "    else:\n",
    "        vetor_final_plot.insert(i, [q_tr[i-int(n_vazoes/2)], gumbel_tr[i-int(n_vazoes/2)], 2]) # Gumbel\n",
    "\n",
    "gumbel_plot = pd.DataFrame(vetor_final_plot, columns=['Vazão (m3/2)', 'TR', 'Tipo'])\n",
    "#gumbel_plot = pd.DataFrame({'QMax Gumbel (m3/s)': q_tr, 'QMax Empírica (m3/s)' : q_max_sort, 'TR Gumbel': gumbel_tr, 'TR Empírico': tempo_retorno})\n",
    "#imprimirTabela(gumbel_plot, 'center')\n",
    "#gumbel_plot.plot(x='TR Gumbel', y=['QMax Gumbelc (m3/s)', 'QMax Empírica (m3/s)'])\n",
    "gumbel_plot.plot.scatter(x='TR', y='Vazão (m3/2)', c='Tipo', colormap='Set1', title='Gumbel', grid=True)"
   ]
  },
  {
   "cell_type": "code",
   "execution_count": 15,
   "id": "f123a511-3451-47e6-a20c-9602a2d2c2f8",
   "metadata": {},
   "outputs": [
    {
     "data": {
      "text/plain": [
       "(5, 2)"
      ]
     },
     "execution_count": 15,
     "metadata": {},
     "output_type": "execute_result"
    }
   ],
   "source": [
    "(5, 2)"
   ]
  },
  {
   "cell_type": "code",
   "execution_count": 16,
   "id": "30293b1a-eb1c-4aae-a2e3-f13bd587bba3",
   "metadata": {},
   "outputs": [
    {
     "name": "stderr",
     "output_type": "stream",
     "text": [
      "100%|██████████| 31/31 [00:00<00:00, 212804.29it/s]\n",
      "100%|██████████| 31/31 [00:00<00:00, 229723.36it/s]\n",
      "100%|██████████| 31/31 [00:00<00:00, 228512.17it/s]\n",
      "100%|██████████| 31/31 [00:00<00:00, 27635.16it/s]\n",
      "100%|██████████| 31/31 [00:00<00:00, 210734.88it/s]\n",
      "100%|██████████| 31/31 [00:00<00:00, 268643.44it/s]\n"
     ]
    },
    {
     "data": {
      "text/plain": [
       "(2.1250528257818857,\n",
       " 2,\n",
       " 0.3996129254848828,\n",
       " 0.3129348872540821,\n",
       " array([3.02060033, 2.23330077, 2.19461978, 1.50222222, 2.3417055 ,\n",
       "        2.17188143, 2.28627454, 2.26010957, 1.46980729, 1.36632955,\n",
       "        2.43125276, 1.7230039 , 2.01783437, 2.21689132, 2.49280926,\n",
       "        2.54700386, 1.91369202, 1.74023633, 2.04399851, 1.93533593,\n",
       "        2.60249081, 2.84708195, 2.10677546, 2.0568477 , 1.89160993,\n",
       "        2.48422721, 2.41988474, 2.11285961, 1.85363738, 2.21273612,\n",
       "        1.37957743]),\n",
       " [3,\n",
       "  2,\n",
       "  2,\n",
       "  1,\n",
       "  2,\n",
       "  2,\n",
       "  2,\n",
       "  2,\n",
       "  1,\n",
       "  1,\n",
       "  2,\n",
       "  1,\n",
       "  2,\n",
       "  2,\n",
       "  2,\n",
       "  2,\n",
       "  1,\n",
       "  1,\n",
       "  2,\n",
       "  1,\n",
       "  2,\n",
       "  2,\n",
       "  2,\n",
       "  2,\n",
       "  1,\n",
       "  2,\n",
       "  2,\n",
       "  2,\n",
       "  1,\n",
       "  2,\n",
       "  1],\n",
       " [0.14106970513308725,\n",
       "  2.4477468306808166,\n",
       "  2.608140096567727,\n",
       "  2.716203031481239,\n",
       "  2.797149622536537,\n",
       "  2.8615885665909766,\n",
       "  2.9149597740103927,\n",
       "  2.9604143746015965,\n",
       "  2.9999365561059004,\n",
       "  3.034854258770293,\n",
       "  3.0660986173939078,\n",
       "  3.094347020869523,\n",
       "  3.120107193817412,\n",
       "  3.143769209916435,\n",
       "  3.1656390489429636,\n",
       "  3.1859610214922047,\n",
       "  3.204933208992119,\n",
       "  3.222718371465372,\n",
       "  3.239451827751259,\n",
       "  3.2552472614374586,\n",
       "  3.270201073548068,\n",
       "  3.284395696730941,\n",
       "  3.29790215407407,\n",
       "  3.3107820596777406,\n",
       "  3.32308920068729,\n",
       "  3.3348708014001165,\n",
       "  3.3461685429751964,\n",
       "  3.3570193932026218,\n",
       "  3.367456287164102,\n",
       "  3.377508689746394,\n",
       "  3.3872030637324335],\n",
       " [-2.115464936894265,\n",
       "  1.5303579600789936,\n",
       "  1.7239251178086974,\n",
       "  1.852879568189163,\n",
       "  1.948772710016041,\n",
       "  2.0247064790442137,\n",
       "  2.0873402590814862,\n",
       "  2.140506362553245,\n",
       "  2.1866054628892355,\n",
       "  2.227237451295478,\n",
       "  2.2635201594902776,\n",
       "  2.2962643077680998,\n",
       "  2.3260759319090605,\n",
       "  2.353419533466952,\n",
       "  2.378658702499611,\n",
       "  2.4020831932236133,\n",
       "  2.4239275226747052,\n",
       "  2.4443840820674607,\n",
       "  2.4636125906633586,\n",
       "  2.4817470487515934,\n",
       "  2.4989009417311365,\n",
       "  2.5151711965351753,\n",
       "  2.5306412319802263,\n",
       "  2.545383340478576,\n",
       "  2.5594605691340013,\n",
       "  2.572928221055458,\n",
       "  2.5858350650772035,\n",
       "  2.5982243191189953,\n",
       "  2.6101344560391557,\n",
       "  2.621599868983976,\n",
       "  2.6326514245574315],\n",
       " [-1.931797439519984,\n",
       "  1.5950956282267652,\n",
       "  1.8217715899960412,\n",
       "  1.9751390192997371,\n",
       "  2.0904156654994765,\n",
       "  2.1824460010079387,\n",
       "  2.258856119644225,\n",
       "  2.324071275661861,\n",
       "  2.3808824642652526,\n",
       "  2.431160387278668,\n",
       "  2.47621857208026,\n",
       "  2.5170138199881262,\n",
       "  2.554264141600359,\n",
       "  2.5885217854449567,\n",
       "  2.620220398337331,\n",
       "  2.649706569286369,\n",
       "  2.6772615671368,\n",
       "  2.703116710058858,\n",
       "  2.727464477881982,\n",
       "  2.7504667055480505,\n",
       "  2.7722607301667637,\n",
       "  2.792964074709371,\n",
       "  2.8126780666092452,\n",
       "  2.831490668729571,\n",
       "  2.8494787194517994,\n",
       "  2.8667097236652306,\n",
       "  2.8832432983277956,\n",
       "  2.8991323494208054,\n",
       "  2.914424037927325,\n",
       "  2.9291605785568975,\n",
       "  2.9433799047353815],\n",
       " [22.54662800643953,\n",
       "  578.7268823899833,\n",
       "  712.9454479031112,\n",
       "  821.0014185820206,\n",
       "  912.8721238800578,\n",
       "  993.5425174660585,\n",
       "  1065.9109605666397,\n",
       "  1131.8314235573334,\n",
       "  1192.5709677476625,\n",
       "  1249.0388316561434,\n",
       "  1301.9124302018354,\n",
       "  1351.7117278378198,\n",
       "  1398.8456345757336,\n",
       "  1443.642267947027,\n",
       "  1486.3694297366533,\n",
       "  1527.2488951016098,\n",
       "  1566.4666489404644,\n",
       "  1604.1803867860015,\n",
       "  1640.525120681304,\n",
       "  1675.6174420835355,\n",
       "  1709.5588137471643,\n",
       "  1742.4381469006707,\n",
       "  1774.333843920051,\n",
       "  1805.3154354892401,\n",
       "  1835.4449060873608,\n",
       "  1864.7777770812202,\n",
       "  1893.3639992575909,\n",
       "  1921.2486940558294,\n",
       "  1948.4727735734866,\n",
       "  1975.0734626202488,\n",
       "  2001.0847410070228])"
      ]
     },
     "execution_count": 16,
     "metadata": {},
     "output_type": "execute_result"
    }
   ],
   "source": [
    "# Log-Pearson T3\n",
    "\n",
    "# Gera o vetor com LN de cada uma das vazões máximas\n",
    "#log_qmax = [np.log(q_max[i]) for i in tqdm.tqdm(range(len(q_max)))]\n",
    "log_qmax = np.log10(q_max)\n",
    "\n",
    "# Para calcula a MODA\n",
    "log_qmax_discreto = [int(log_qmax[i]) for i in tqdm.tqdm(range(len(log_qmax)))]\n",
    "\n",
    "# Tira a MÉDIA, MODA e DESVIO-PADRÃO para calcular o COEFICIENTE DE ASSIMESTRIA DE PEARSON\n",
    "#me, mo, sd = st.mean(log_qmax), min(st.multimode(log_qmax_discreto)), st.stdev(log_qmax)\n",
    "me, mo, sd = st.mean(log_qmax), st.mode(log_qmax_discreto), st.stdev(log_qmax)\n",
    "g = (me - mo) / sd\n",
    "\n",
    "vetor_tr_pearson = [(i+1.) for i in tqdm.tqdm(range(len(q_max)))]\n",
    "vetor_tr_pearson[0] = 1.01\n",
    "\n",
    "vetor_t = [np.sqrt(2 * np.log(vetor_tr_pearson[i])) for i in tqdm.tqdm(range(len(vetor_tr_pearson)))]\n",
    "vetor_k1 = [vetor_t[i] - ((2.515517+0.802853*vetor_t[i]+0.010328*np.power(vetor_t[i], 2)) / (1+1.1432788*vetor_t[i]+0.189269*np.power(vetor_t[i],2)+0.001308*np.power(vetor_t[i],3))) \\\n",
    "            for i in tqdm.tqdm(range(len(vetor_t)))]\n",
    "vetor_k = [2/g*(np.power(((vetor_k1[i]-(g/6))*(g/6)+1),3)-1) for i in tqdm.tqdm(range(len(vetor_k1)))]\n",
    "\n",
    "# 10^((media dos log10 das vazoes) + K*S_log10_Q)\n",
    "pearson_tr = [np.power(10, (me+vetor_k[i]*sd)) for i in tqdm.tqdm(range(len(vetor_k)))]\n",
    "\n",
    "me, mo, sd, g, log_qmax, log_qmax_discreto, vetor_t, vetor_k1, vetor_k, pearson_tr"
   ]
  }
 ],
 "metadata": {
  "kernelspec": {
   "display_name": "Python 3 (ipykernel)",
   "language": "python",
   "name": "python3"
  },
  "language_info": {
   "codemirror_mode": {
    "name": "ipython",
    "version": 3
   },
   "file_extension": ".py",
   "mimetype": "text/x-python",
   "name": "python",
   "nbconvert_exporter": "python",
   "pygments_lexer": "ipython3",
   "version": "3.10.7"
  }
 },
 "nbformat": 4,
 "nbformat_minor": 5
}
