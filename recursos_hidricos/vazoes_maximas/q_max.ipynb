{
 "cells": [
  {
   "cell_type": "code",
   "execution_count": 1,
   "id": "27e42c9d-71d5-4d8f-a8ca-18bf1b92bf74",
   "metadata": {},
   "outputs": [],
   "source": [
    "import tqdm, numpy as np, matplotlib.pyplot as plt, pandas as pd, statistics as st\n",
    "\n",
    "# Estilo mais agradável para plotar gráficos e tabelas\n",
    "plt.style.use('seaborn-whitegrid')"
   ]
  },
  {
   "cell_type": "code",
   "execution_count": 2,
   "id": "dabc0b84-5133-4be0-83be-3eb23cc378a3",
   "metadata": {},
   "outputs": [],
   "source": [
    "def imprimirTabela(dataFrame, posicao):\n",
    "    fig, ax = plt.subplots()\n",
    "    fig.patch.set_visible(False)\n",
    "    ax.axis('off')\n",
    "    ax.axis('tight')\n",
    "\n",
    "    ax.table(cellText=dataFrame.values, colLabels=dataFrame.columns, rowLabels=(dataFrame.index + 1), loc=posicao)\n",
    "    \n",
    "    plt.show()"
   ]
  },
  {
   "cell_type": "code",
   "execution_count": 3,
   "id": "28961cbf-59aa-4f83-91ca-f57b3c810f17",
   "metadata": {},
   "outputs": [],
   "source": [
    "# Carregando os dados do arquivo CSV\n",
    "# a primeira linha corresponde aos meses do ano\n",
    "# a primeira coluna corresponde aos anos observados\n",
    "#dados_csv = pd.read_csv('vazoes_maximas_teste.csv', delimiter=';', header=0, index_col=0, on_bad_lines='warn')\n",
    "dados_csv = pd.read_csv('vazoes_maximas_capibaribe.csv', delimiter=';', header=0, index_col=0, on_bad_lines='warn')\n",
    "#dados_csv.T.plot(legend=False)"
   ]
  },
  {
   "cell_type": "code",
   "execution_count": 4,
   "id": "fb1e0944-ebb4-40d1-8609-091aae458268",
   "metadata": {},
   "outputs": [],
   "source": [
    "# Gerar o vetor para o ano hidrologico. Começa em SETEMBRO de um ano e termina em AGOSTO do ano seguinte\n",
    "# Desta forma, precisa cortar parte do primeiro ano registrado e parte do último.\n",
    "# Isso vai gerar um vetor com duas linhas a menos que a matriz original do CSV\n",
    "#ano_hidrologico_inicio, ano_hidrologico_fim = 0, 11\n",
    "\n",
    "# estou considerando que o ano hidrologico começa em Janeiro e termina em Dezembro\n",
    "ano_hidrologico = dados_csv.to_numpy()\n",
    "#plt.plot(ano_hidrologico.T)\n",
    "\n",
    "#for i in tqdm.tqdm(range(len(dados_csv.to_numpy()) - 1)):\n",
    "#    ano_hidrologico.append(np.concatenate((dados_csv.to_numpy()[i][ano_hidrologico_inicio:], dados_csv.to_numpy()[i+1][:ano_hidrologico_fim+1]), axis=None))"
   ]
  },
  {
   "cell_type": "code",
   "execution_count": 5,
   "id": "2cb7676b-4281-40c3-a804-04f287297e8c",
   "metadata": {},
   "outputs": [],
   "source": [
    "# Imprimir a matriz com os dados do ano hidrológico\n",
    "#imprimirTabela(pd.DataFrame(ano_hidrologico, columns=('Set', 'Out', 'Nov', 'Dez', 'Jan', 'Fev', 'Mar', 'Abr', 'Mai', 'Jun', 'Jul', 'Ago')), 'center')"
   ]
  },
  {
   "cell_type": "code",
   "execution_count": 6,
   "id": "bd61f81b-e00c-48d2-be37-dd62b1a30db8",
   "metadata": {},
   "outputs": [
    {
     "name": "stderr",
     "output_type": "stream",
     "text": [
      "  0%|          | 0/31 [00:00<?, ?it/s]\r100%|██████████| 31/31 [00:00<00:00, 158565.15it/s]\n"
     ]
    }
   ],
   "source": [
    "# Cria o vetor com as vazões máximas para cada ano hidrológico\n",
    "q_max = [np.amax(ano_hidrologico[x]) for x in tqdm.tqdm(range(len(ano_hidrologico)))]"
   ]
  },
  {
   "cell_type": "code",
   "execution_count": 7,
   "id": "e5b09f19-2678-4630-a57c-25fc440a4d08",
   "metadata": {},
   "outputs": [],
   "source": [
    "# Imprimir o vetor com as vazões máximas\n",
    "#imprimirTabela(pd.DataFrame(data={'Vazoes Maximas (m3/s)': q_max}), 'center')"
   ]
  },
  {
   "cell_type": "code",
   "execution_count": 8,
   "id": "e68c09df-ecd0-4713-8783-5c0d9f0f7701",
   "metadata": {},
   "outputs": [
    {
     "name": "stderr",
     "output_type": "stream",
     "text": [
      "  0%|          | 0/31 [00:00<?, ?it/s]\r100%|██████████| 31/31 [00:00<00:00, 147586.18it/s]\n",
      "\r  0%|          | 0/31 [00:00<?, ?it/s]\r100%|██████████| 31/31 [00:00<00:00, 588341.29it/s]\n"
     ]
    }
   ],
   "source": [
    "# Calcular a distribuição das probabilidades\n",
    "\n",
    "# Primeiro ordena do maior para o menor\n",
    "q_max_sort = q_max.copy()\n",
    "q_max_sort.sort(reverse=True)\n",
    "\n",
    "# Calcular a PROBABILIDADE EMPIRICA\n",
    "# P = index / (tamanho + 1)\n",
    "prob_empirica = [(x+1)/(len(q_max_sort)+1) for x in tqdm.tqdm(range(len(q_max_sort)))]\n",
    "\n",
    "# Calcular o TEMPO DE RETORNO\n",
    "# t = 1 / P\n",
    "tempo_retorno = [1/prob_empirica[x] for x in tqdm.tqdm(range(len(prob_empirica)))]"
   ]
  },
  {
   "cell_type": "code",
   "execution_count": 9,
   "id": "f143d665-d547-4133-be6a-7f91df231df8",
   "metadata": {},
   "outputs": [],
   "source": [
    "#imprimirTabela(pd.DataFrame(data={'Q Max ordenada' : q_max_sort}), 'center')\n",
    "#imprimirTabela(pd.DataFrame(data={'Prob Empirica' : prob_empirica}), 'center')\n",
    "#imprimirTabela(pd.DataFrame(data={'Tempo de retorno (anos)' : tempo_retorno}), 'center')"
   ]
  },
  {
   "cell_type": "code",
   "execution_count": 10,
   "id": "c47f07dc-7860-4b25-95b3-e880b400cb0e",
   "metadata": {},
   "outputs": [],
   "source": [
    "#df_plot = pd.DataFrame({'QMax Empírica (m3/s)': q_max_sort, 'Tempo de Retorno': tempo_retorno})\n",
    "#df_plot.plot.scatter(x='Tempo de Retorno', y='QMax Empírica (m3/s)', grid=True)"
   ]
  },
  {
   "cell_type": "code",
   "execution_count": 11,
   "id": "ee3ee181-2ea2-4067-a425-4a3950e0b205",
   "metadata": {},
   "outputs": [
    {
     "name": "stderr",
     "output_type": "stream",
     "text": [
      "  0%|          | 0/31 [00:00<?, ?it/s]\r100%|██████████| 31/31 [00:00<00:00, 572790.41it/s]\n",
      "\r  0%|          | 0/31 [00:00<?, ?it/s]\r100%|██████████| 31/31 [00:00<00:00, 145602.94it/s]\n"
     ]
    }
   ],
   "source": [
    "# Gumbel\n",
    "\n",
    "# Cálculo da vazão máxima q, para o tempo de retorno TR\n",
    "# q(TR) = u - ln(-ln(1 - 1/TR))*a\n",
    "\n",
    "# a = 0.78*s, sendo 's' o DESVIO-PADRÃO da série de vazões máximas\n",
    "# u = m - 0.5772 * a, sendo 'm' a MÉDIA da série de vazões máximas\n",
    "\n",
    "# Calculando MÉDIA e DESVIO-PADRÃO da série de vazões máximas\n",
    "m, s  = st.mean(q_max), st.stdev(q_max)\n",
    "\n",
    "# calcula o 'a'\n",
    "a = 0.78 * s\n",
    "\n",
    "# calcula o 'u'\n",
    "u = m - (0.5772 * a)\n",
    "\n",
    "# Gumbel TR\n",
    "q_tr = []\n",
    "gumbel_tr = [(i+1.) for i in tqdm.tqdm(range(len(q_max)))]\n",
    "gumbel_tr[0] = 1.01 # essa manha tem que ser feita porque senão retorna 0 para o 'ln' e isso é matematicamente errado.\n",
    "   \n",
    "q_tr = [u - (np.log(-np.log(1 - 1/gumbel_tr[i])) * a) for i in tqdm.tqdm(range(len(gumbel_tr)))]\n",
    "\n",
    "#m, s, a, u, q_tr"
   ]
  },
  {
   "cell_type": "code",
   "execution_count": 12,
   "id": "96932359-7fa7-464d-b2e0-6ca5f5bef61b",
   "metadata": {},
   "outputs": [
    {
     "name": "stderr",
     "output_type": "stream",
     "text": [
      "  0%|          | 0/31 [00:00<?, ?it/s]\r100%|██████████| 31/31 [00:00<00:00, 422153.97it/s]\n",
      "\r  0%|          | 0/31 [00:00<?, ?it/s]\r100%|██████████| 31/31 [00:00<00:00, 427708.63it/s]\n",
      "\r  0%|          | 0/31 [00:00<?, ?it/s]\r100%|██████████| 31/31 [00:00<00:00, 257982.98it/s]\n",
      "\r  0%|          | 0/31 [00:00<?, ?it/s]\r100%|██████████| 31/31 [00:00<00:00, 149624.19it/s]\n",
      "\r  0%|          | 0/31 [00:00<?, ?it/s]\r100%|██████████| 31/31 [00:00<00:00, 228111.27it/s]\n",
      "\r  0%|          | 0/31 [00:00<?, ?it/s]\r100%|██████████| 31/31 [00:00<00:00, 200344.26it/s]\n"
     ]
    }
   ],
   "source": [
    "# Log-Pearson T3\n",
    "\n",
    "# Gera o vetor com LOG de cada uma das vazões máximas\n",
    "log_qmax = np.log10(q_max)\n",
    "\n",
    "# Para calcula a MODA\n",
    "log_qmax_discreto = [int(log_qmax[i]) for i in tqdm.tqdm(range(len(log_qmax)))]\n",
    "\n",
    "# Tira a MÉDIA, MODA e DESVIO-PADRÃO para calcular o COEFICIENTE DE ASSIMESTRIA DE PEARSON\n",
    "#me, mo, sd = st.mean(log_qmax), min(st.multimode(log_qmax_discreto)), st.stdev(log_qmax)\n",
    "me, mo, sd = st.mean(log_qmax), st.mode(log_qmax_discreto), st.stdev(log_qmax)\n",
    "g = (me - mo) / sd\n",
    "\n",
    "vetor_tr_pearson = [(i+1.) for i in tqdm.tqdm(range(len(q_max)))]\n",
    "vetor_tr_pearson[0] = 1.01\n",
    "\n",
    "vetor_t = [np.sqrt(2 * np.log(vetor_tr_pearson[i])) for i in tqdm.tqdm(range(len(vetor_tr_pearson)))]\n",
    "vetor_k1 = [vetor_t[i] - ((2.515517+0.802853*vetor_t[i]+0.010328*np.power(vetor_t[i], 2)) / (1+1.1432788*vetor_t[i]+0.189269*np.power(vetor_t[i],2)+0.001308*np.power(vetor_t[i],3))) \\\n",
    "            for i in tqdm.tqdm(range(len(vetor_t)))]\n",
    "vetor_k = [2/g*(np.power(((vetor_k1[i]-(g/6))*(g/6)+1),3)-1) for i in tqdm.tqdm(range(len(vetor_k1)))]\n",
    "\n",
    "# 10^((media dos log10 das vazoes) + K*S_log10_Q)\n",
    "pearson_tr = [np.power(10, (me+vetor_k[i]*sd)) for i in tqdm.tqdm(range(len(vetor_k)))]\n",
    "\n",
    "#print(\"\\n me: %s \\n mo: %s \\n sd: %s \\n g: %s \\n log_qmax: %s \\n log_qmax_discreto: %s \\\n",
    "#      \\n vetor_t: %s \\n vetor_k1: %s \\n vetor_k: %s \\n pearson_tr: %s\" % \\\n",
    "#      (me, mo, sd, g, log_qmax, log_qmax_discreto, vetor_t, vetor_k1, vetor_k, pearson_tr))"
   ]
  },
  {
   "cell_type": "code",
   "execution_count": 13,
   "id": "53b26cf6-345b-4bca-bb66-25174959581e",
   "metadata": {},
   "outputs": [
    {
     "name": "stderr",
     "output_type": "stream",
     "text": [
      "  0%|          | 0/93 [00:00<?, ?it/s]\r100%|██████████| 93/93 [00:00<00:00, 587455.23it/s]\n"
     ]
    },
    {
     "data": {
      "text/plain": [
       "<AxesSubplot:title={'center':'Dados empíricos + Gumbel + Log-Pearson'}, xlabel='TR', ylabel='Vazão (m3/s)'>"
      ]
     },
     "execution_count": 13,
     "metadata": {},
     "output_type": "execute_result"
    },
    {
     "data": {
      "image/png": "[encoded data removed]",
      "text/plain": [
       "<Figure size 640x480 with 2 Axes>"
      ]
     },
     "metadata": {},
     "output_type": "display_data"
    }
   ],
   "source": [
    "# Esse passo é importante para desenhar o mesmo gráfico com cores diferentes para os pontos\n",
    "n_vazoes = len(q_max_sort) + len(q_tr) + len(vetor_tr_pearson)\n",
    "\n",
    "#vetor_final_plot[0] = [q_max_sort[0], tempo_retorno[0], 1] <<< ISSO FUNCIONA\n",
    "vetor_final_plot = []\n",
    "for i in tqdm.tqdm(range(n_vazoes)):\n",
    "    if (i < int(n_vazoes/3)): # de 0 a 30\n",
    "        vetor_final_plot.insert(i, [q_max_sort[i], tempo_retorno[i], 1]) # Empirico\n",
    "    elif (i >= int(n_vazoes/3) and i < 2*int(n_vazoes/3)): # de 31 a 61\n",
    "        vetor_final_plot.insert(i, [q_tr[i-2*int(n_vazoes/3)], gumbel_tr[i-2*int(n_vazoes/3)], 2]) # Gumbel\n",
    "    else:  # de 62 a 92\n",
    "        vetor_final_plot.insert(i, [pearson_tr[i-3*int(n_vazoes/3)], vetor_tr_pearson[i-3*int(n_vazoes/3)], 3]) # Pearson\n",
    "        \n",
    "final_plot = pd.DataFrame(vetor_final_plot, columns=['Vazão (m3/s)', 'TR', 'Tipo'])\n",
    "#imprimirTabela(final_plot, 'center')\n",
    "final_plot.plot.scatter(x='TR', y='Vazão (m3/s)', c='Tipo', colormap='Set1', title='Dados empíricos + Gumbel + Log-Pearson', grid=True)"
   ]
  },
  {
   "cell_type": "code",
   "execution_count": 14,
   "id": "9a3ce16d-a768-4b68-a384-d3e39ae4ddec",
   "metadata": {},
   "outputs": [],
   "source": [
    "# Esse passo é importante para desenhar o mesmo gráfico com cores diferentes para os pontos\n",
    "#n_vazoes = len(q_max_sort) + len(q_tr)\n",
    "\n",
    "#vetor_final_plot[0] = [q_max_sort[0], tempo_retorno[0], 1] <<< ISSO FUNCIONA\n",
    "#vetor_final_plot = []\n",
    "#for i in tqdm.tqdm(range(n_vazoes)):\n",
    "#    if (i < int(n_vazoes/2)):\n",
    "#        vetor_final_plot.insert(i, [q_max_sort[i], tempo_retorno[i], 1]) # Empirico\n",
    "#    else:\n",
    "#        vetor_final_plot.insert(i, [q_tr[i-int(n_vazoes/2)], gumbel_tr[i-int(n_vazoes/2)], 2]) # Gumbel\n",
    "\n",
    "#gumbel_plot = pd.DataFrame(vetor_final_plot, columns=['Vazão (m3/s)', 'TR', 'Tipo'])\n",
    "#gumbel_plot.plot.scatter(x='TR', y='Vazão (m3/s)', c='Tipo', colormap='Set1', title='Gumbel', grid=True)"
   ]
  }
 ],
 "metadata": {
  "kernelspec": {
   "display_name": "Python 3",
   "language": "python",
   "name": "python3"
  },
  "language_info": {
   "codemirror_mode": {
    "name": "ipython",
    "version": 3
   },
   "file_extension": ".py",
   "mimetype": "text/x-python",
   "name": "python",
   "nbconvert_exporter": "python",
   "pygments_lexer": "ipython3",
   "version": "3.10.7 (main, Sep  6 2022, 21:22:27) [GCC 12.2.0]"
  },
  "vscode": {
   "interpreter": {
    "hash": "e7370f93d1d0cde622a1f8e1c04877d8463912d04d973331ad4851f04de6915a"
   }
  }
 },
 "nbformat": 4,
 "nbformat_minor": 5
}
