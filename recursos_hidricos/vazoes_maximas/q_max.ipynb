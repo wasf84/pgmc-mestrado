{
 "cells": [
  {
   "cell_type": "code",
   "execution_count": 3,
   "id": "27e42c9d-71d5-4d8f-a8ca-18bf1b92bf74",
   "metadata": {},
   "outputs": [],
   "source": [
    "import math, tqdm, numpy as np, matplotlib as plt"
   ]
  },
  {
   "cell_type": "code",
   "execution_count": 4,
   "id": "e8500577-630c-4df2-bfb8-7ae1948bf580",
   "metadata": {},
   "outputs": [],
   "source": [
    "# Classe criada para manipulação das Q_MAX\n",
    "\n",
    "class QMax(object):\n",
    "    def __init__(self):\n",
    "        # Aqui vai ser colocado parâmetros de inicialização, tais como 'ano hidrológico inicio/fim', 'alpha', 'mi', etc.\n",
    "        # Tudo que for parâmetro fixo para calcular os modelos Log Pearson, Gumbel, por aí vai, já serão colocados aqui na inicialização\n",
    "        pass\n",
    "\n",
    "    def __str__(self):\n",
    "        # Pensar num output bacaninha pra quando chamar 'print(q)'.\n",
    "        pass"
   ]
  }
 ],
 "metadata": {
  "kernelspec": {
   "display_name": "Python 3 (ipykernel)",
   "language": "python",
   "name": "python3"
  },
  "language_info": {
   "codemirror_mode": {
    "name": "ipython",
    "version": 3
   },
   "file_extension": ".py",
   "mimetype": "text/x-python",
   "name": "python",
   "nbconvert_exporter": "python",
   "pygments_lexer": "ipython3",
   "version": "3.10.7"
  }
 },
 "nbformat": 4,
 "nbformat_minor": 5
}
