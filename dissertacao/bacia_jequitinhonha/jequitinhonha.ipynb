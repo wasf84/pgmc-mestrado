{
 "cells": [
  {
   "cell_type": "markdown",
   "metadata": {},
   "source": [
    "# Imports básicos para todas as análises"
   ]
  },
  {
   "cell_type": "code",
   "execution_count": 3,
   "metadata": {},
   "outputs": [],
   "source": [
    "# Desativar as mensagens de 'warning' que ficam poluindo o output aqui no Colab\n",
    "\n",
    "import warnings\n",
    "warnings.filterwarnings(\"ignore\")"
   ]
  },
  {
   "cell_type": "code",
   "execution_count": 4,
   "metadata": {},
   "outputs": [],
   "source": [
    "# Importações dos módulos necessários para autenticar na minha conta Google e acessar o Drive\n",
    "import  pandas as pd,               \\\n",
    "        numpy as np,                \\\n",
    "        matplotlib.pyplot as plt,   \\\n",
    "        requests as rt,             \\\n",
    "        seaborn as sns,             \\\n",
    "        xml.etree.ElementTree as ET\n",
    "\n",
    "from io               import BytesIO\n",
    "from tqdm             import tqdm\n",
    "from matplotlib.pylab import rcParams\n",
    "from pandas.plotting  import register_matplotlib_converters\n",
    "\n",
    "from sktime.utils.plotting import plot_series\n",
    "from sktime.forecasting.compose import make_reduction\n",
    "from sktime.forecasting.model_selection import temporal_train_test_split\n",
    "from sktime.performance_metrics.forecasting import MeanAbsolutePercentageError\n",
    "\n",
    "# Ajustes feitos para geração e criação de gráfico\n",
    "rcParams['figure.figsize'] = 15, 6\n",
    "\n",
    "# Tratar conversões de DateTime entre o Pandas e o Matplotlib\n",
    "register_matplotlib_converters()"
   ]
  },
  {
   "cell_type": "markdown",
   "metadata": {},
   "source": [
    "### Funções úteis"
   ]
  },
  {
   "cell_type": "code",
   "execution_count": 3,
   "metadata": {},
   "outputs": [],
   "source": [
    "# import calendar\n",
    "# import datetime\n",
    "# import json\n",
    "# import os\n",
    "# import requests\n",
    "# import xml.etree.ElementTree as ET\n",
    "# from tqdm import tqdm\n",
    "\n",
    "# def get_data_telemetrica(codEstacao, dataInicio, dataFim): #, save=False\n",
    "\n",
    "#     # 1. Fazer a requisião ao servidor e pegar a árvore e a raiz dos dados\n",
    "#     params = {'codEstacao':codEstacao, 'dataInicio':dataInicio, 'dataFim':dataFim}\n",
    "#     server = 'http://telemetriaws1.ana.gov.br/ServiceANA.asmx/DadosHidrometeorologicos'\n",
    "#     response = requests.get(server, params)\n",
    "#     tree = ET.ElementTree(ET.fromstring(response.content))\n",
    "#     root = tree.getroot()\n",
    "\n",
    "#     # 2. Iteração dentro dos elementos do XML procurando os dados que são disponibilizados para a estação\n",
    "#     list_vazao = []\n",
    "#     list_data = []\n",
    "#     list_nivel = []\n",
    "#     list_chuva = []\n",
    "\n",
    "#     for i in tqdm(root.iter('DadosHidrometereologicos')):\n",
    "\n",
    "#         data = i.find('DataHora').text\n",
    "#         try:\n",
    "#             vazao = float(i.find('Vazao').text)\n",
    "#         except TypeError:\n",
    "#             vazao = i.find('Vazao').text\n",
    "\n",
    "#         try:\n",
    "#             nivel = float(i.find('Nivel').text)\n",
    "#         except TypeError:\n",
    "#             nivel = i.find('Nivel').text\n",
    "\n",
    "#         try:\n",
    "#             chuva = float(i.find('Chuva').text)\n",
    "#         except TypeError:\n",
    "#             chuva = i.find('Chuva').text\n",
    "\n",
    "#         list_vazao.append(vazao)\n",
    "#         list_data.append(data)\n",
    "#         list_nivel.append(nivel)\n",
    "#         list_chuva.append(chuva)\n",
    "\n",
    "#     df = pd.DataFrame([list_data, list_nivel, list_chuva, list_vazao]).transpose()\n",
    "#     df.columns = ['Data', 'Nivel', 'Chuva', 'Vazao']\n",
    "\n",
    "#     df = df.sort_values(by='Data')\n",
    "#     df = df.set_index('Data')\n",
    "#     df.index = pd.to_datetime(df.index)\n",
    "\n",
    "#     # if save == True:\n",
    "#     #     df.to_excel(codEstacao+'_dados.xlsx')\n",
    "\n",
    "#     return df"
   ]
  },
  {
   "cell_type": "code",
   "execution_count": 35,
   "metadata": {},
   "outputs": [],
   "source": [
    "def sliding_window(data, n_lags=1, n_targets=1, dropnan=True):\n",
    "\t\"\"\"\n",
    "\tRearranja a série temporal como um dataset para aprendizado supervisionado.\n",
    "\tArgumentos:\n",
    "\t\tdata: Sequência de observações. Pode ser list ou NumPy array\n",
    "\t\tn_lags: Número de lags das observações que serão usadas como input (X).\n",
    "\t\tn_targets: Número de observações que serão usadas como output (y).\n",
    "\t\tdropnan: Booleano pra dropar as linhas que ficarem com NaN .\n",
    "\tRetorna:\n",
    "\t\tUm DataFrame como uma série ajustada para aprendizado supervisionado.\n",
    "\t\"\"\"\n",
    "\tn_vars = 1 if type(data) is list else data.shape[1]\n",
    "\n",
    "\tdf = pd.DataFrame(data)\n",
    "\tcols, names = list(), list()\n",
    "\n",
    "\t# As lags (t-n, ... t-1)\n",
    "\tfor i in range(n_lags, 0, -1):\n",
    "\t\tcols.append(df.shift(i))\n",
    "\t\tnames += [('X_%d(t-%d)' % (j+1, i)) for j in range(n_vars)]\n",
    "\n",
    "\t# Prever uma sequência (t, t+1, ... t+n)\n",
    "\tfor i in range(0, n_targets):\n",
    "\t\tcols.append(df.shift(-i))\n",
    "\t\tif i == 0:\n",
    "\t\t\tnames += [('y_%d(t)' % (j+1)) for j in range(n_vars)]\n",
    "\t\telse:\n",
    "\t\t\tnames += [('y_%d(t+%d)' % (j+1, i)) for j in range(n_vars)]\n",
    "\n",
    "\t# Junta tudo\n",
    "\tagg = pd.concat(cols, axis=1)\n",
    "\tagg.columns = names\n",
    "\n",
    "\t# Dropa as linhas com NaN\n",
    "\tif dropnan:\n",
    "\t\tagg.dropna(inplace=True)\n",
    "\n",
    "\treturn agg # IMPORTANTE!!!! O retorno sai com as colunas com nome zuado. Tem que renomear o DataFrame resultante depois."
   ]
  },
  {
   "cell_type": "code",
   "execution_count": 34,
   "metadata": {},
   "outputs": [],
   "source": [
    "# O corte realizado por esse método é simples: pega do início da série até train_size e coloca num dataframe para treino\n",
    "# O que resta do corte anterior, é colocado no dataframe para teste\n",
    "def split_train_test(df, train_size=0.7):\n",
    "\n",
    "  # Tamanho total da série\n",
    "  size = df.shape[0]\n",
    "\n",
    "  # Tamanho do treino\n",
    "  t_size = int(size * train_size)\n",
    "\n",
    "  train_data = df.iloc[0:t_size]\n",
    "  validation_data = df.iloc[t_size:]\n",
    "\n",
    "  return train_data, validation_data"
   ]
  },
  {
   "cell_type": "markdown",
   "metadata": {},
   "source": [
    "#### Ajustando as planilhas das estações CONVENCIONAIS\n",
    "\n",
    "Deixando todas elas com a mesma 'cara' padrão, com um campo 'data' no formato 'yyyy-mm-dd'"
   ]
  },
  {
   "cell_type": "code",
   "execution_count": 1,
   "metadata": {},
   "outputs": [
    {
     "data": {
      "text/plain": [
       "(['./estacoes_baixo/chuva_1640000.csv',\n",
       "  './estacoes_baixo/cota_54780000.csv',\n",
       "  './estacoes_baixo/telemetric_54790000.csv',\n",
       "  './estacoes_baixo/vazao_54780000.csv'],\n",
       " ['./estacoes_medio/chuva_1642007.csv',\n",
       "  './estacoes_medio/chuva_1642008.csv',\n",
       "  './estacoes_medio/chuva_1642027.csv',\n",
       "  './estacoes_medio/cota_54150000.csv',\n",
       "  './estacoes_medio/cota_54193000.csv',\n",
       "  './estacoes_medio/cota_54195000.csv',\n",
       "  './estacoes_medio/telemetric_1642041.csv',\n",
       "  './estacoes_medio/telemetric_54140000.csv',\n",
       "  './estacoes_medio/telemetric_54150001.csv',\n",
       "  './estacoes_medio/vazao_54140000.csv',\n",
       "  './estacoes_medio/vazao_54150000.csv',\n",
       "  './estacoes_medio/vazao_54193000.csv',\n",
       "  './estacoes_medio/vazao_54195000.csv'])"
      ]
     },
     "execution_count": 1,
     "metadata": {},
     "output_type": "execute_result"
    }
   ],
   "source": [
    "# Primeiro listo os arquivos CSV\n",
    "# Mais adiante separo os nomes das estações convencionais das telemétricas\n",
    "\n",
    "import glob\n",
    "\n",
    "p_baixo = \"./estacoes_baixo/\"\n",
    "p_medio = \"./estacoes_medio/\"\n",
    "csv_str = \"*.csv\"\n",
    "\n",
    "fls_baixo = glob.glob(p_baixo+csv_str)\n",
    "fls_medio = glob.glob(p_medio+csv_str)\n",
    "\n",
    "fls_baixo, fls_medio"
   ]
  },
  {
   "cell_type": "code",
   "execution_count": null,
   "metadata": {},
   "outputs": [],
   "source": [
    "# Pego os nomes apenas das estações CONVENCIONAIS\n",
    "\n",
    "csv_baixo = ['chuva_1640000.csv',\n",
    "             'cota_54780000.csv',\n",
    "             'vazao_54780000.csv']\n",
    "\n",
    "p_ajust_baixo = p_baixo + \"planilhas_ajustadas/\" # Salvo os arquivos ajustados em outra pasta para não interferir com os arquivos baixados originais\n",
    "\n",
    "for f in csv_baixo:\n",
    "\n",
    "        # Carrega o arquivo\n",
    "        df = pd.read_csv(p_baixo+f, sep='\\t', header=0)\n",
    "\n",
    "        # Renomeia as colunas 'ano', 'mes' e 'dia' para poder fazer o parse da data posteriormente\n",
    "        df.rename(columns={'ano': 'year', 'mes': 'month', 'dia': 'day'}, inplace=True)\n",
    "\n",
    "        # Criar uma coluna extra de datetime, combinando as 3 colunas\n",
    "        df[\"data\"] = pd.to_datetime(df[['year', 'month', 'day']])\n",
    "\n",
    "        # Formatar a coluna de datetime como YYYY-mm-dd\n",
    "        df[\"data\"] = df[\"data\"].dt.strftime(\"%Y-%m-%d\")\n",
    "\n",
    "        # Limpa o DataFrame\n",
    "        df.drop(columns=['year', 'month', 'day'], inplace=True)\n",
    "\n",
    "        df.set_index('data', inplace=True)\n",
    "\n",
    "        # Salvar para o arquivo\n",
    "        df.to_csv(p_ajust_baixo+f, sep='\\t')\n",
    "\n",
    "# =================================================================== #\n",
    "\n",
    "csv_medio = ['chuva_1642007.csv',\n",
    "             'chuva_1642008.csv',\n",
    "             'chuva_1642027.csv',\n",
    "             'cota_54150000.csv',\n",
    "             'cota_54193000.csv',\n",
    "             'cota_54195000.csv',\n",
    "             'vazao_54140000.csv',\n",
    "             'vazao_54150000.csv',\n",
    "             'vazao_54193000.csv',\n",
    "             'vazao_54195000.csv']\n",
    "\n",
    "p_ajust_medio = p_medio + \"planilhas_ajustadas/\"\n",
    "\n",
    "for f in csv_medio:\n",
    "\n",
    "        # Carrega o arquivo\n",
    "        df = pd.read_csv(p_medio+f, sep='\\t', header=0)\n",
    "\n",
    "        # Renomeia as colunas 'ano', 'mes' e 'dia' para poder fazer o parse da data posteriormente\n",
    "        df.rename(columns={'ano': 'year', 'mes': 'month', 'dia': 'day'}, inplace=True)\n",
    "\n",
    "        # Criar uma coluna extra de datetime, combinando as 3 colunas\n",
    "        df[\"data\"] = pd.to_datetime(df[['year', 'month', 'day']])\n",
    "\n",
    "        # Formatar a coluna de datetime como YYYY-mm-dd\n",
    "        df[\"data\"] = df[\"data\"].dt.strftime(\"%Y-%m-%d\")\n",
    "\n",
    "        # Limpa o DataFrame\n",
    "        df.drop(columns=['year', 'month', 'day'], inplace=True)\n",
    "\n",
    "        df.set_index('data', inplace=True)\n",
    "\n",
    "        # Salvar para o arquivo\n",
    "        df.to_csv(p_ajust_medio+f, sep='\\t')"
   ]
  },
  {
   "cell_type": "markdown",
   "metadata": {},
   "source": [
    "#### Ajustando as planilhas das estações TELEMÉTRICAS\n",
    "\n",
    "Deixando todas elas com um campo 'data' no formato 'yyyy-mm-dd'.\n",
    "\n",
    "Os dados telemétricos (que vieram num medição horária ou 15/15 minutos) já foram agregados para o padrão diário\n",
    "\n",
    "-> chuva: foi agregado realizando o somatório do dia </br>\n",
    "-> cota/nível e vazão: foi agregado calculando a média do dia"
   ]
  },
  {
   "cell_type": "code",
   "execution_count": null,
   "metadata": {},
   "outputs": [],
   "source": [
    "# Ajuste apenas da estações TELEMÉTRICAS\n",
    "\n",
    "csv_baixo = ['telemetric_54790000.csv']\n",
    "\n",
    "p_ajust_baixo = p_baixo + \"planilhas_ajustadas/\"\n",
    "\n",
    "for f in csv_baixo:\n",
    "\n",
    "    df = pd.read_csv(p_baixo+f, sep='\\t', index_col=0, header=0, parse_dates=['dataHora'])\n",
    "\n",
    "    # Os campos numéricos são carregados como do tipo \"object\" e por isso precisam ser convertidos para \"float\"\n",
    "    # \"coerce\" força onde não tiver número para converter colocar \"NaN\" no lugar\n",
    "    df.chuva = pd.to_numeric(df.chuva, errors='coerce')\n",
    "    df.nivel = pd.to_numeric(df.nivel, errors='coerce')\n",
    "    df.vazao = pd.to_numeric(df.vazao, errors='coerce')\n",
    "\n",
    "    df = df.resample('D').agg({'chuva': 'sum', 'nivel': 'mean', 'vazao': 'mean'})\n",
    "\n",
    "    # Mesmo após fazer a agregação por dia, alguns ficam com \"NaN\", por isso a necessidade de executar o \"fillna\"\n",
    "    df.fillna({'chuva': df['chuva'].sum(), 'nivel': df['nivel'].mean(), 'vazao': df['vazao'].mean()}, inplace=True)\n",
    "\n",
    "    # Renomeia a coluna de índice 'dataHora' para padronizar com as estações convencionais\n",
    "    df.index.name = \"data\"\n",
    "\n",
    "    # Salvar para o arquivo\n",
    "    df.to_csv(p_ajust_baixo+f, sep='\\t')\n",
    "\n",
    "# =================================================================== #\n",
    "    \n",
    "csv_medio = ['telemetric_1642041.csv',\n",
    "             'telemetric_54140000.csv',\n",
    "             'telemetric_54150001.csv']\n",
    "\n",
    "p_ajust_medio = p_medio + \"planilhas_ajustadas/\"\n",
    "\n",
    "for f in csv_medio:\n",
    "\n",
    "    df = pd.read_csv(p_medio+f, sep='\\t', index_col=0, header=0, parse_dates=['dataHora'])\n",
    "\n",
    "    # Os campos numéricos são carregados como do tipo \"object\" e por isso precisam ser convertidos para \"float\"\n",
    "    # \"coerce\" força onde não tiver número para converter colocar \"NaN\" no lugar\n",
    "    df.chuva = pd.to_numeric(df.chuva, errors='coerce')\n",
    "    df.nivel = pd.to_numeric(df.nivel, errors='coerce')\n",
    "    df.vazao = pd.to_numeric(df.vazao, errors='coerce')\n",
    "\n",
    "    df = df.resample('D').agg({'chuva': 'sum', 'nivel': 'mean', 'vazao': 'mean'})\n",
    "\n",
    "    # Mesmo após fazer a agregação por dia, alguns ficam com \"NaN\", por isso a necessidade de executar o \"fillna\"\n",
    "    df.fillna({'chuva': df['chuva'].sum(), 'nivel': df['nivel'].mean(), 'vazao': df['vazao'].mean()}, inplace=True)\n",
    "\n",
    "    # Renomeia a coluna de índice 'dataHora' para padronizar com as estações convencionais\n",
    "    df.index.name = \"data\"\n",
    "\n",
    "    # Salvar para o arquivo\n",
    "    df.to_csv(p_ajust_medio+f, sep='\\t')"
   ]
  },
  {
   "cell_type": "markdown",
   "metadata": {},
   "source": [
    "# Médio Jequitinhonha"
   ]
  },
  {
   "cell_type": "markdown",
   "metadata": {},
   "source": [
    "#### Gerando a planilha com os dados do MÉDIO Jequitinhonha"
   ]
  },
  {
   "cell_type": "code",
   "execution_count": null,
   "metadata": {},
   "outputs": [],
   "source": [
    "# Série Temporal com os dados endógenos (variável alvo 'y')\n",
    "st_endogena = \"./estacoes_medio/planilhas_ajustadas/principal_vazao_54195000.csv\"\n",
    "df_left = pd.read_csv(st_endogena, sep='\\t', index_col=0, header=0, parse_dates=['data'])\n",
    "\n",
    "# Séries Temporais com os dados exógenos (as outras informações que usarei para aprimorar o treinamento da rede)\n",
    "st_exogena = [\"./estacoes_medio/planilhas_ajustadas/chuva_1642007.csv\",\n",
    "              \"./estacoes_medio/planilhas_ajustadas/chuva_1642008.csv\",\n",
    "              \"./estacoes_medio/planilhas_ajustadas/chuva_1642027.csv\",\n",
    "              \"./estacoes_medio/planilhas_ajustadas/cota_54150000.csv\",\n",
    "              \"./estacoes_medio/planilhas_ajustadas/cota_54193000.csv\",\n",
    "              \"./estacoes_medio/planilhas_ajustadas/cota_54195000.csv\",\n",
    "              \"./estacoes_medio/planilhas_ajustadas/telemetric_1642041.csv\",\n",
    "              \"./estacoes_medio/planilhas_ajustadas/telemetric_54140000.csv\",\n",
    "              \"./estacoes_medio/planilhas_ajustadas/telemetric_54150001.csv\",\n",
    "              \"./estacoes_medio/planilhas_ajustadas/vazao_54140000.csv\",\n",
    "              \"./estacoes_medio/planilhas_ajustadas/vazao_54150000.csv\",\n",
    "              \"./estacoes_medio/planilhas_ajustadas/vazao_54193000.csv\"]\n",
    "\n",
    "df_list = []\n",
    "for f in st_exogena:\n",
    "    df_list.append(pd.read_csv(f, sep='\\t', index_col=0, header=0, parse_dates=['data']))\n",
    "  \n",
    "for df in df_list:\n",
    "    df_result = df_left.merge(df, how='left', on='data', suffixes=(None, '_r'))\n",
    "    df_left = df_result\n",
    "\n",
    "# Tem que alterar os nomes das colunas para algo compreensível\n",
    "# Vejo como ficaram os nomes das colunas depois do merge\n",
    "# print('Nomes das colunas depois do merge...:\\n%s\\n' % str(df_left.columns.values))\n",
    "\n",
    "# Eu já sei que a primeira coluna chamada 'y' corresponde à estação principal a ser analisada para o trecho da bacia em questão\n",
    "# Deixo desta forma pois o NeuralForecast demanda que a coluna alvo (target) tenha o nome 'y'\n",
    "# As demais colunas comporão o que chamam de 'variáveis exógenas' da série temporal\n",
    "novas_colunas = ['y', 'chuva1', 'chuva2', 'chuva3', 'cota1', 'cota2', 'cota3',\n",
    "                 'chuva4', 'chuva5', 'cota4', 'vazao1', 'chuva6', 'cota5',\n",
    "                 'vazao2', 'vazao3', 'vazao4', 'vazao5']\n",
    "\n",
    "df_left.columns = novas_colunas\n",
    "# print('Colunas ajustadas...:\\n%s\\n' % str(df_left.columns.values))\n",
    "\n",
    "# A coluna index, neste caso, 'data' precisa ter o nome 'ds'\n",
    "# Novamente, o NeuralForecast demanda que a coluna contendo as datas tenha este nome\n",
    "df_left.index.name = 'ds'\n",
    "\n",
    "# Confere se ficou tudo conforme o desejado\n",
    "# df_left\n",
    "\n",
    "# Estando tudo ajustado, de acordo com o padrão deseja, salva para uma planilha externa\n",
    "df_left.to_csv('medio_jequitinhonha.csv', sep='\\t')"
   ]
  },
  {
   "cell_type": "markdown",
   "metadata": {},
   "source": [
    "#### Carregando os dados para análise"
   ]
  },
  {
   "cell_type": "code",
   "execution_count": 38,
   "metadata": {},
   "outputs": [
    {
     "name": "stdout",
     "output_type": "stream",
     "text": [
      "<class 'pandas.core.frame.DataFrame'>\n",
      "DatetimeIndex: 3683 entries, 2013-01-01 to 2023-01-31\n",
      "Freq: D\n",
      "Data columns (total 17 columns):\n",
      " #   Column  Non-Null Count  Dtype  \n",
      "---  ------  --------------  -----  \n",
      " 0   y       3673 non-null   float64\n",
      " 1   chuva1  3683 non-null   float64\n",
      " 2   chuva2  3682 non-null   float64\n",
      " 3   chuva3  3653 non-null   float64\n",
      " 4   cota1   3683 non-null   float64\n",
      " 5   cota2   3262 non-null   float64\n",
      " 6   cota3   3349 non-null   float64\n",
      " 7   chuva4  54 non-null     float64\n",
      " 8   chuva5  2819 non-null   float64\n",
      " 9   cota4   2819 non-null   float64\n",
      " 10  vazao1  2819 non-null   float64\n",
      " 11  chuva6  2810 non-null   float64\n",
      " 12  cota5   2810 non-null   float64\n",
      " 13  vazao2  2810 non-null   float64\n",
      " 14  vazao3  210 non-null    float64\n",
      " 15  vazao4  3683 non-null   float64\n",
      " 16  vazao5  2542 non-null   float64\n",
      "dtypes: float64(17)\n",
      "memory usage: 517.9 KB\n"
     ]
    }
   ],
   "source": [
    "df_medio_jeq = pd.read_csv('medio_jequitinhonha.csv', sep='\\t', index_col=0, header=0, parse_dates=['ds'])\n",
    "df_medio_jeq = df_medio_jeq.resample('D').first() # deixando a série contínua numa base diária\n",
    "df_medio_jeq.info()"
   ]
  },
  {
   "cell_type": "code",
   "execution_count": 39,
   "metadata": {},
   "outputs": [
    {
     "name": "stdout",
     "output_type": "stream",
     "text": [
      "<class 'pandas.core.frame.DataFrame'>\n",
      "DatetimeIndex: 3683 entries, 2013-01-01 to 2023-01-31\n",
      "Freq: D\n",
      "Data columns (total 17 columns):\n",
      " #   Column  Non-Null Count  Dtype  \n",
      "---  ------  --------------  -----  \n",
      " 0   y       3683 non-null   float64\n",
      " 1   chuva1  3683 non-null   float64\n",
      " 2   chuva2  3683 non-null   float64\n",
      " 3   chuva3  3683 non-null   float64\n",
      " 4   cota1   3683 non-null   float64\n",
      " 5   cota2   3683 non-null   float64\n",
      " 6   cota3   3683 non-null   float64\n",
      " 7   chuva4  3683 non-null   float64\n",
      " 8   chuva5  3683 non-null   float64\n",
      " 9   cota4   3683 non-null   float64\n",
      " 10  vazao1  3683 non-null   float64\n",
      " 11  chuva6  3683 non-null   float64\n",
      " 12  cota5   3683 non-null   float64\n",
      " 13  vazao2  3683 non-null   float64\n",
      " 14  vazao3  3683 non-null   float64\n",
      " 15  vazao4  3683 non-null   float64\n",
      " 16  vazao5  3683 non-null   float64\n",
      "dtypes: float64(17)\n",
      "memory usage: 517.9 KB\n"
     ]
    }
   ],
   "source": [
    "# Ajustando os valores NaN do DataFrame\n",
    "\n",
    "df_medio_jeq.fillna({'y' : df_medio_jeq['y'].mean(),\n",
    "                     'chuva1' : df_medio_jeq['chuva1'].mean(),\n",
    "                     'chuva2' : df_medio_jeq['chuva2'].mean(),\n",
    "                     'chuva3' : df_medio_jeq['chuva3'].mean(),\n",
    "                     'chuva4' : df_medio_jeq['chuva4'].mean(),\n",
    "                     'chuva5' : df_medio_jeq['chuva5'].mean(),\n",
    "                     'chuva6' : df_medio_jeq['chuva6'].mean(),\n",
    "                     'cota1' : df_medio_jeq['cota1'].mean(),\n",
    "                     'cota2' : df_medio_jeq['cota2'].mean(),\n",
    "                     'cota3' : df_medio_jeq['cota3'].mean(),\n",
    "                     'cota4' : df_medio_jeq['cota4'].mean(),\n",
    "                     'cota5' : df_medio_jeq['cota5'].mean(),\n",
    "                     'vazao1' : df_medio_jeq['vazao1'].mean(),\n",
    "                     'vazao2' : df_medio_jeq['vazao2'].mean(),\n",
    "                     'vazao3' : df_medio_jeq['vazao3'].mean(),\n",
    "                     'vazao4' : df_medio_jeq['vazao4'].mean(),\n",
    "                     'vazao5' : df_medio_jeq['vazao5'].mean()}, inplace=True)\n",
    "\n",
    "df_medio_jeq.info()"
   ]
  },
  {
   "cell_type": "code",
   "execution_count": 40,
   "metadata": {},
   "outputs": [
    {
     "name": "stdout",
     "output_type": "stream",
     "text": [
      "<class 'pandas.core.frame.DataFrame'>\n",
      "DatetimeIndex: 2946 entries, 2013-01-01 to 2021-01-24\n",
      "Freq: D\n",
      "Data columns (total 17 columns):\n",
      " #   Column  Non-Null Count  Dtype  \n",
      "---  ------  --------------  -----  \n",
      " 0   y       2946 non-null   float64\n",
      " 1   chuva1  2946 non-null   float64\n",
      " 2   chuva2  2946 non-null   float64\n",
      " 3   chuva3  2946 non-null   float64\n",
      " 4   cota1   2946 non-null   float64\n",
      " 5   cota2   2946 non-null   float64\n",
      " 6   cota3   2946 non-null   float64\n",
      " 7   chuva4  2946 non-null   float64\n",
      " 8   chuva5  2946 non-null   float64\n",
      " 9   cota4   2946 non-null   float64\n",
      " 10  vazao1  2946 non-null   float64\n",
      " 11  chuva6  2946 non-null   float64\n",
      " 12  cota5   2946 non-null   float64\n",
      " 13  vazao2  2946 non-null   float64\n",
      " 14  vazao3  2946 non-null   float64\n",
      " 15  vazao4  2946 non-null   float64\n",
      " 16  vazao5  2946 non-null   float64\n",
      "dtypes: float64(17)\n",
      "memory usage: 414.3 KB\n",
      "<class 'pandas.core.frame.DataFrame'>\n",
      "DatetimeIndex: 737 entries, 2021-01-25 to 2023-01-31\n",
      "Freq: D\n",
      "Data columns (total 17 columns):\n",
      " #   Column  Non-Null Count  Dtype  \n",
      "---  ------  --------------  -----  \n",
      " 0   y       737 non-null    float64\n",
      " 1   chuva1  737 non-null    float64\n",
      " 2   chuva2  737 non-null    float64\n",
      " 3   chuva3  737 non-null    float64\n",
      " 4   cota1   737 non-null    float64\n",
      " 5   cota2   737 non-null    float64\n",
      " 6   cota3   737 non-null    float64\n",
      " 7   chuva4  737 non-null    float64\n",
      " 8   chuva5  737 non-null    float64\n",
      " 9   cota4   737 non-null    float64\n",
      " 10  vazao1  737 non-null    float64\n",
      " 11  chuva6  737 non-null    float64\n",
      " 12  cota5   737 non-null    float64\n",
      " 13  vazao2  737 non-null    float64\n",
      " 14  vazao3  737 non-null    float64\n",
      " 15  vazao4  737 non-null    float64\n",
      " 16  vazao5  737 non-null    float64\n",
      "dtypes: float64(17)\n",
      "memory usage: 103.6 KB\n"
     ]
    },
    {
     "data": {
      "text/plain": [
       "(None, None)"
      ]
     },
     "execution_count": 40,
     "metadata": {},
     "output_type": "execute_result"
    }
   ],
   "source": [
    "# Separando em TREINO e VALIDAÇÃO\n",
    "df_medio_treino, df_medio_valid = split_train_test(df_medio_jeq, 0.8)\n",
    "\n",
    "df_medio_treino.info(), df_medio_valid.info()"
   ]
  },
  {
   "cell_type": "markdown",
   "metadata": {},
   "source": [
    "#### Análise exploratória dos dados"
   ]
  },
  {
   "cell_type": "code",
   "execution_count": 43,
   "metadata": {},
   "outputs": [
    {
     "data": {
      "text/plain": [
       "<Axes: xlabel='ds'>"
      ]
     },
     "execution_count": 43,
     "metadata": {},
     "output_type": "execute_result"
    },
    {
     "data": {
      "image/png": "[encoded data removed]",
      "text/plain": [
       "<Figure size 1500x600 with 1 Axes>"
      ]
     },
     "metadata": {},
     "output_type": "display_data"
    }
   ],
   "source": [
    "df_medio_jeq['y'].plot()"
   ]
  },
  {
   "cell_type": "markdown",
   "metadata": {},
   "source": [
    "# Baixo Jequitinhonha"
   ]
  },
  {
   "cell_type": "code",
   "execution_count": null,
   "metadata": {},
   "outputs": [],
   "source": []
  }
 ],
 "metadata": {
  "kernelspec": {
   "display_name": "neuralFC_py39",
   "language": "python",
   "name": "python3"
  },
  "language_info": {
   "codemirror_mode": {
    "name": "ipython",
    "version": 3
   },
   "file_extension": ".py",
   "mimetype": "text/x-python",
   "name": "python",
   "nbconvert_exporter": "python",
   "pygments_lexer": "ipython3",
   "version": "3.9.18"
  }
 },
 "nbformat": 4,
 "nbformat_minor": 2
}
