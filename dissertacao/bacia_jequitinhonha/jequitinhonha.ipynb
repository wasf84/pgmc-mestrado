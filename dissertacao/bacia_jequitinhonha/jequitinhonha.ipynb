{
 "cells": [
  {
   "cell_type": "markdown",
   "metadata": {},
   "source": [
    "# Imports básicos para todas as análises"
   ]
  },
  {
   "cell_type": "code",
   "execution_count": 1,
   "metadata": {},
   "outputs": [],
   "source": [
    "# Importações dos módulos necessários para autenticar na minha conta Google e acessar o Drive\n",
    "import  pandas as pd,               \\\n",
    "        numpy as np,                \\\n",
    "        matplotlib.pyplot as plt,   \\\n",
    "        requests as rt,             \\\n",
    "        xml.etree.ElementTree as ET\n",
    "\n",
    "from io               import BytesIO\n",
    "from tqdm             import tqdm\n",
    "from matplotlib.pylab import rcParams\n",
    "from pandas.plotting  import register_matplotlib_converters\n",
    "\n",
    "from sktime.utils.plotting import plot_series\n",
    "from sktime.forecasting.compose import make_reduction\n",
    "from sktime.forecasting.model_selection import temporal_train_test_split\n",
    "from sktime.performance_metrics.forecasting import MeanAbsolutePercentageError\n",
    "\n",
    "# Ajustes feitos para geração e criação de gráfico\n",
    "rcParams['figure.figsize'] = 15, 6\n",
    "\n",
    "# Tratar conversões de DateTime entre o Pandas e o Matplotlib\n",
    "register_matplotlib_converters()"
   ]
  },
  {
   "cell_type": "code",
   "execution_count": 2,
   "metadata": {},
   "outputs": [],
   "source": [
    "# Desativar as mensagens de 'warning' que ficam poluindo o output aqui no Colab\n",
    "\n",
    "import warnings\n",
    "warnings.filterwarnings(\"ignore\")"
   ]
  },
  {
   "cell_type": "markdown",
   "metadata": {},
   "source": [
    "### Funções úteis"
   ]
  },
  {
   "cell_type": "code",
   "execution_count": null,
   "metadata": {},
   "outputs": [],
   "source": [
    "import calendar\n",
    "import datetime\n",
    "import json\n",
    "import os\n",
    "import requests\n",
    "import xml.etree.ElementTree as ET\n",
    "from tqdm import tqdm\n",
    "\n",
    "def get_data_telemetrica(codEstacao, dataInicio, dataFim): #, save=False\n",
    "\n",
    "    # 1. Fazer a requisião ao servidor e pegar a árvore e a raiz dos dados\n",
    "    params = {'codEstacao':codEstacao, 'dataInicio':dataInicio, 'dataFim':dataFim}\n",
    "    server = 'http://telemetriaws1.ana.gov.br/ServiceANA.asmx/DadosHidrometeorologicos'\n",
    "    response = requests.get(server, params)\n",
    "    tree = ET.ElementTree(ET.fromstring(response.content))\n",
    "    root = tree.getroot()\n",
    "\n",
    "    # 2. Iteração dentro dos elementos do XML procurando os dados que são disponibilizados para a estação\n",
    "    list_vazao = []\n",
    "    list_data = []\n",
    "    list_nivel = []\n",
    "    list_chuva = []\n",
    "\n",
    "    for i in tqdm(root.iter('DadosHidrometereologicos')):\n",
    "\n",
    "        data = i.find('DataHora').text\n",
    "        try:\n",
    "            vazao = float(i.find('Vazao').text)\n",
    "        except TypeError:\n",
    "            vazao = i.find('Vazao').text\n",
    "\n",
    "        try:\n",
    "            nivel = float(i.find('Nivel').text)\n",
    "        except TypeError:\n",
    "            nivel = i.find('Nivel').text\n",
    "\n",
    "        try:\n",
    "            chuva = float(i.find('Chuva').text)\n",
    "        except TypeError:\n",
    "            chuva = i.find('Chuva').text\n",
    "\n",
    "        list_vazao.append(vazao)\n",
    "        list_data.append(data)\n",
    "        list_nivel.append(nivel)\n",
    "        list_chuva.append(chuva)\n",
    "\n",
    "    df = pd.DataFrame([list_data, list_nivel, list_chuva, list_vazao]).transpose()\n",
    "    df.columns = ['Data', 'Nivel', 'Chuva', 'Vazao']\n",
    "\n",
    "    df = df.sort_values(by='Data')\n",
    "    df = df.set_index('Data')\n",
    "    df.index = pd.to_datetime(df.index)\n",
    "\n",
    "    # if save == True:\n",
    "    #     df.to_excel(codEstacao+'_dados.xlsx')\n",
    "\n",
    "    return df"
   ]
  },
  {
   "cell_type": "markdown",
   "metadata": {},
   "source": [
    "# Médio Jequitinhonha"
   ]
  },
  {
   "cell_type": "code",
   "execution_count": null,
   "metadata": {},
   "outputs": [],
   "source": []
  },
  {
   "cell_type": "markdown",
   "metadata": {},
   "source": [
    "# Baixo Jequitinhonha"
   ]
  },
  {
   "cell_type": "code",
   "execution_count": null,
   "metadata": {},
   "outputs": [],
   "source": []
  }
 ],
 "metadata": {
  "kernelspec": {
   "display_name": "neuralFC_py39",
   "language": "python",
   "name": "python3"
  },
  "language_info": {
   "codemirror_mode": {
    "name": "ipython",
    "version": 3
   },
   "file_extension": ".py",
   "mimetype": "text/x-python",
   "name": "python",
   "nbconvert_exporter": "python",
   "pygments_lexer": "ipython3",
   "version": "3.9.18"
  }
 },
 "nbformat": 4,
 "nbformat_minor": 2
}
