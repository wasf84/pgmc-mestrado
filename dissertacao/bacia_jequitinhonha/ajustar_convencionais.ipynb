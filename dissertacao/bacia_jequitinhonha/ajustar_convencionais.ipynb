{
 "cells": [
  {
   "cell_type": "code",
   "execution_count": 2,
   "metadata": {},
   "outputs": [
    {
     "data": {
      "text/plain": [
       "(['./estacoes_baixo/chuva_1640000.csv',\n",
       "  './estacoes_baixo/cota_54780000.csv',\n",
       "  './estacoes_baixo/telemetric_54790000.csv',\n",
       "  './estacoes_baixo/vazao_54780000.csv'],\n",
       " ['./estacoes_medio/chuva_1642007.csv',\n",
       "  './estacoes_medio/chuva_1642008.csv',\n",
       "  './estacoes_medio/chuva_1642027.csv',\n",
       "  './estacoes_medio/cota_54150000.csv',\n",
       "  './estacoes_medio/cota_54193000.csv',\n",
       "  './estacoes_medio/cota_54195000.csv',\n",
       "  './estacoes_medio/telemetric_1642041.csv',\n",
       "  './estacoes_medio/telemetric_54140000.csv',\n",
       "  './estacoes_medio/telemetric_54150001.csv',\n",
       "  './estacoes_medio/vazao_54140000.csv',\n",
       "  './estacoes_medio/vazao_54150000.csv',\n",
       "  './estacoes_medio/vazao_54193000.csv',\n",
       "  './estacoes_medio/vazao_54195000.csv'])"
      ]
     },
     "execution_count": 2,
     "metadata": {},
     "output_type": "execute_result"
    }
   ],
   "source": [
    "# Primeiro listo os arquivos CSV\n",
    "import glob\n",
    "\n",
    "p_baixo = \"./estacoes_baixo/\"\n",
    "p_medio = \"./estacoes_medio/\"\n",
    "csv_str = \"*.csv\"\n",
    "\n",
    "fls_baixo = glob.glob(p_baixo+csv_str)\n",
    "fls_medio = glob.glob(p_medio+csv_str)\n",
    "\n",
    "fls_baixo, fls_medio"
   ]
  },
  {
   "cell_type": "code",
   "execution_count": 3,
   "metadata": {},
   "outputs": [],
   "source": [
    "# Primeiro tem de ajustar os arquivos das estações CONVENCIONAIS\n",
    "\n",
    "# Importar a biblioteca PANDAS\n",
    "import pandas as pd\n",
    "\n",
    "csv_baixo = ['chuva_1640000.csv',\n",
    "             'cota_54780000.csv',\n",
    "             'vazao_54780000.csv']\n",
    "\n",
    "p_ajust_baixo = p_baixo + \"planilhas_ajustadas/\"\n",
    "\n",
    "for f in csv_baixo:\n",
    "\n",
    "        # Carrega o arquivo\n",
    "        df = pd.read_csv(p_baixo+f, sep='\\t', header=0)\n",
    "\n",
    "        # Renomeia as colunas 'ano', 'mes' e 'dia' para poder fazer o parse da data posteriormente\n",
    "        df.rename(columns={'ano': 'year', 'mes': 'month', 'dia': 'day'}, inplace=True)\n",
    "\n",
    "        # Criar uma coluna extra de datetime, combinando as 3 colunas\n",
    "        df[\"data\"] = pd.to_datetime(df[['year', 'month', 'day']])\n",
    "\n",
    "        # Formatar a coluna de datetime como YYYY-mm-dd\n",
    "        df[\"data\"] = df[\"data\"].dt.strftime(\"%Y-%m-%d\")\n",
    "\n",
    "        # Limpa o DataFrame\n",
    "        df.drop(columns=['year', 'month', 'day'], inplace=True)\n",
    "\n",
    "        df.set_index('data', inplace=True)\n",
    "\n",
    "        # Salvar para o arquivo\n",
    "        df.to_csv(p_ajust_baixo+f, sep='\\t')\n",
    "\n",
    "# =================================================================== #\n",
    "\n",
    "csv_medio = ['chuva_1642007.csv',\n",
    "             'chuva_1642008.csv',\n",
    "             'chuva_1642027.csv',\n",
    "             'cota_54150000.csv',\n",
    "             'cota_54193000.csv',\n",
    "             'cota_54195000.csv',\n",
    "             'vazao_54140000.csv',\n",
    "             'vazao_54150000.csv',\n",
    "             'vazao_54193000.csv',\n",
    "             'vazao_54195000.csv']\n",
    "\n",
    "p_ajust_medio = p_medio + \"planilhas_ajustadas/\"\n",
    "\n",
    "for f in csv_medio:\n",
    "\n",
    "        # Carrega o arquivo\n",
    "        df = pd.read_csv(p_medio+f, sep='\\t', header=0)\n",
    "\n",
    "        # Renomeia as colunas 'ano', 'mes' e 'dia' para poder fazer o parse da data posteriormente\n",
    "        df.rename(columns={'ano': 'year', 'mes': 'month', 'dia': 'day'}, inplace=True)\n",
    "\n",
    "        # Criar uma coluna extra de datetime, combinando as 3 colunas\n",
    "        df[\"data\"] = pd.to_datetime(df[['year', 'month', 'day']])\n",
    "\n",
    "        # Formatar a coluna de datetime como YYYY-mm-dd\n",
    "        df[\"data\"] = df[\"data\"].dt.strftime(\"%Y-%m-%d\")\n",
    "\n",
    "        # Limpa o DataFrame\n",
    "        df.drop(columns=['year', 'month', 'day'], inplace=True)\n",
    "\n",
    "        df.set_index('data', inplace=True)\n",
    "\n",
    "        # Salvar para o arquivo\n",
    "        df.to_csv(p_ajust_medio+f, sep='\\t')"
   ]
  }
 ],
 "metadata": {
  "kernelspec": {
   "display_name": "neuralFC_py39",
   "language": "python",
   "name": "python3"
  },
  "language_info": {
   "codemirror_mode": {
    "name": "ipython",
    "version": 3
   },
   "file_extension": ".py",
   "mimetype": "text/x-python",
   "name": "python",
   "nbconvert_exporter": "python",
   "pygments_lexer": "ipython3",
   "version": "3.9.18"
  }
 },
 "nbformat": 4,
 "nbformat_minor": 2
}
