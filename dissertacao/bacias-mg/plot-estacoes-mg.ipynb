{
 "cells": [
  {
   "cell_type": "code",
   "execution_count": 1,
   "metadata": {},
   "outputs": [],
   "source": [
    "import hydrobr"
   ]
  },
  {
   "cell_type": "code",
   "execution_count": 2,
   "metadata": {},
   "outputs": [
    {
     "data": {
      "text/html": [
       "<div>\n",
       "<style scoped>\n",
       "    .dataframe tbody tr th:only-of-type {\n",
       "        vertical-align: middle;\n",
       "    }\n",
       "\n",
       "    .dataframe tbody tr th {\n",
       "        vertical-align: top;\n",
       "    }\n",
       "\n",
       "    .dataframe thead th {\n",
       "        text-align: right;\n",
       "    }\n",
       "</style>\n",
       "<table border=\"1\" class=\"dataframe\">\n",
       "  <thead>\n",
       "    <tr style=\"text-align: right;\">\n",
       "      <th></th>\n",
       "      <th>Name</th>\n",
       "      <th>Code</th>\n",
       "      <th>Type</th>\n",
       "      <th>SubBasin</th>\n",
       "      <th>City</th>\n",
       "      <th>State</th>\n",
       "      <th>Responsible</th>\n",
       "      <th>Latitude</th>\n",
       "      <th>Longitude</th>\n",
       "      <th>StartDate</th>\n",
       "      <th>EndDate</th>\n",
       "      <th>NYD</th>\n",
       "      <th>MD</th>\n",
       "      <th>N_YWOMD</th>\n",
       "      <th>YWMD</th>\n",
       "    </tr>\n",
       "  </thead>\n",
       "  <tbody>\n",
       "    <tr>\n",
       "      <th>4833</th>\n",
       "      <td>AÇUDE DO ESTREITO</td>\n",
       "      <td>01442019</td>\n",
       "      <td>2</td>\n",
       "      <td>44</td>\n",
       "      <td>ESPINOSA</td>\n",
       "      <td>MINAS GERAIS</td>\n",
       "      <td>DNOCS</td>\n",
       "      <td>-14.8167</td>\n",
       "      <td>-42.8000</td>\n",
       "      <td>1955/01/01</td>\n",
       "      <td>1987/05/31</td>\n",
       "      <td>33</td>\n",
       "      <td>29.9</td>\n",
       "      <td>17</td>\n",
       "      <td>48.5</td>\n",
       "    </tr>\n",
       "    <tr>\n",
       "      <th>4834</th>\n",
       "      <td>ESPIGÃO</td>\n",
       "      <td>01442020</td>\n",
       "      <td>2</td>\n",
       "      <td>44</td>\n",
       "      <td>ESPINOSA</td>\n",
       "      <td>MINAS GERAIS</td>\n",
       "      <td>SUDENE</td>\n",
       "      <td>-14.9833</td>\n",
       "      <td>-42.5667</td>\n",
       "      <td>1964/11/01</td>\n",
       "      <td>1991/12/31</td>\n",
       "      <td>28</td>\n",
       "      <td>42.0</td>\n",
       "      <td>11</td>\n",
       "      <td>60.7</td>\n",
       "    </tr>\n",
       "    <tr>\n",
       "      <th>4835</th>\n",
       "      <td>ITAMIRIM</td>\n",
       "      <td>01442021</td>\n",
       "      <td>2</td>\n",
       "      <td>44</td>\n",
       "      <td>ESPINOSA</td>\n",
       "      <td>MINAS GERAIS</td>\n",
       "      <td>SUDENE</td>\n",
       "      <td>-14.7667</td>\n",
       "      <td>-42.8833</td>\n",
       "      <td>1964/10/01</td>\n",
       "      <td>2001/01/31</td>\n",
       "      <td>38</td>\n",
       "      <td>9.4</td>\n",
       "      <td>28</td>\n",
       "      <td>26.3</td>\n",
       "    </tr>\n",
       "    <tr>\n",
       "      <th>4836</th>\n",
       "      <td>ESPINOSA</td>\n",
       "      <td>01442022</td>\n",
       "      <td>2</td>\n",
       "      <td>44</td>\n",
       "      <td>ESPINOSA</td>\n",
       "      <td>MINAS GERAIS</td>\n",
       "      <td>SUDENE</td>\n",
       "      <td>-14.9333</td>\n",
       "      <td>-42.8167</td>\n",
       "      <td>1964/11/01</td>\n",
       "      <td>1985/12/31</td>\n",
       "      <td>22</td>\n",
       "      <td>17.7</td>\n",
       "      <td>14</td>\n",
       "      <td>36.4</td>\n",
       "    </tr>\n",
       "    <tr>\n",
       "      <th>4839</th>\n",
       "      <td>ESPINOSA</td>\n",
       "      <td>01442025</td>\n",
       "      <td>2</td>\n",
       "      <td>44</td>\n",
       "      <td>ESPINOSA</td>\n",
       "      <td>MINAS GERAIS</td>\n",
       "      <td>INMET</td>\n",
       "      <td>-14.9333</td>\n",
       "      <td>-42.8167</td>\n",
       "      <td>1975/01/01</td>\n",
       "      <td>1998/12/31</td>\n",
       "      <td>24</td>\n",
       "      <td>21.9</td>\n",
       "      <td>16</td>\n",
       "      <td>33.3</td>\n",
       "    </tr>\n",
       "  </tbody>\n",
       "</table>\n",
       "</div>"
      ],
      "text/plain": [
       "                   Name      Code  Type  SubBasin      City         State  \\\n",
       "4833  AÇUDE DO ESTREITO  01442019     2        44  ESPINOSA  MINAS GERAIS   \n",
       "4834            ESPIGÃO  01442020     2        44  ESPINOSA  MINAS GERAIS   \n",
       "4835           ITAMIRIM  01442021     2        44  ESPINOSA  MINAS GERAIS   \n",
       "4836           ESPINOSA  01442022     2        44  ESPINOSA  MINAS GERAIS   \n",
       "4839           ESPINOSA  01442025     2        44  ESPINOSA  MINAS GERAIS   \n",
       "\n",
       "     Responsible  Latitude  Longitude   StartDate     EndDate  NYD    MD  \\\n",
       "4833       DNOCS  -14.8167   -42.8000  1955/01/01  1987/05/31   33  29.9   \n",
       "4834      SUDENE  -14.9833   -42.5667  1964/11/01  1991/12/31   28  42.0   \n",
       "4835      SUDENE  -14.7667   -42.8833  1964/10/01  2001/01/31   38   9.4   \n",
       "4836      SUDENE  -14.9333   -42.8167  1964/11/01  1985/12/31   22  17.7   \n",
       "4839       INMET  -14.9333   -42.8167  1975/01/01  1998/12/31   24  21.9   \n",
       "\n",
       "      N_YWOMD  YWMD  \n",
       "4833       17  48.5  \n",
       "4834       11  60.7  \n",
       "4835       28  26.3  \n",
       "4836       14  36.4  \n",
       "4839       16  33.3  "
      ]
     },
     "execution_count": 2,
     "metadata": {},
     "output_type": "execute_result"
    }
   ],
   "source": [
    "# To get the list of prec stations - source='ANAF' is the standart\n",
    "list_stations = hydrobr.get_data.ANA.list_prec_stations(state=\"MINAS GERAIS\") \n",
    "# To show the first five rows of the data\n",
    "list_stations.head()"
   ]
  },
  {
   "cell_type": "code",
   "execution_count": 4,
   "metadata": {},
   "outputs": [],
   "source": [
    "# Export data to Excel\n",
    "list_stations.to_excel(\"all-stations-mg.xlsx\")"
   ]
  },
  {
   "cell_type": "code",
   "execution_count": 15,
   "metadata": {},
   "outputs": [],
   "source": [
    "# Getting the first five stations code as a list\n",
    "# stations_code = list_stations.Code.to_list()[:10]"
   ]
  },
  {
   "cell_type": "code",
   "execution_count": 16,
   "metadata": {},
   "outputs": [
    {
     "data": {
      "text/plain": [
       "[-14.8167,\n",
       " -14.9833,\n",
       " -14.7667,\n",
       " -14.9333,\n",
       " -14.9333,\n",
       " -14.7711,\n",
       " -14.7864,\n",
       " -14.7567,\n",
       " -14.2833,\n",
       " -14.7667]"
      ]
     },
     "execution_count": 16,
     "metadata": {},
     "output_type": "execute_result"
    }
   ],
   "source": [
    "list_stations.Latitude.to_list()[:10]"
   ]
  }
 ],
 "metadata": {
  "kernelspec": {
   "display_name": "dissertacao_py38",
   "language": "python",
   "name": "python3"
  },
  "language_info": {
   "codemirror_mode": {
    "name": "ipython",
    "version": 3
   },
   "file_extension": ".py",
   "mimetype": "text/x-python",
   "name": "python",
   "nbconvert_exporter": "python",
   "pygments_lexer": "ipython3",
   "version": "3.8.18"
  },
  "orig_nbformat": 4
 },
 "nbformat": 4,
 "nbformat_minor": 2
}
