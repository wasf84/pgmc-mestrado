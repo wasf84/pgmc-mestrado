{
 "cells": [
  {
   "cell_type": "code",
   "execution_count": 8,
   "metadata": {},
   "outputs": [
    {
     "data": {
      "text/plain": [
       "(['.\\\\estacoes_baixo\\\\chuva_1640000.csv',\n",
       "  '.\\\\estacoes_baixo\\\\cota_54780000.csv',\n",
       "  '.\\\\estacoes_baixo\\\\telemetric_54790000.csv',\n",
       "  '.\\\\estacoes_baixo\\\\vazao_54780000.csv'],\n",
       " ['.\\\\estacoes_medio\\\\chuva_1642007.csv',\n",
       "  '.\\\\estacoes_medio\\\\chuva_1642008.csv',\n",
       "  '.\\\\estacoes_medio\\\\chuva_1642027.csv',\n",
       "  '.\\\\estacoes_medio\\\\cota_54150000.csv',\n",
       "  '.\\\\estacoes_medio\\\\cota_54193000.csv',\n",
       "  '.\\\\estacoes_medio\\\\cota_54195000.csv',\n",
       "  '.\\\\estacoes_medio\\\\telemetric_1642041.csv',\n",
       "  '.\\\\estacoes_medio\\\\telemetric_54140000.csv',\n",
       "  '.\\\\estacoes_medio\\\\telemetric_54150001.csv',\n",
       "  '.\\\\estacoes_medio\\\\vazao_54140000.csv',\n",
       "  '.\\\\estacoes_medio\\\\vazao_54150000.csv',\n",
       "  '.\\\\estacoes_medio\\\\vazao_54193000.csv',\n",
       "  '.\\\\estacoes_medio\\\\vazao_54195000.csv'])"
      ]
     },
     "execution_count": 8,
     "metadata": {},
     "output_type": "execute_result"
    }
   ],
   "source": [
    "# Primeiro listo os arquivos CSV\n",
    "import glob\n",
    "\n",
    "p_baixo = \".\\\\estacoes_baixo\\\\\"\n",
    "p_medio = \".\\\\estacoes_medio\\\\\"\n",
    "csv_str = \"*.csv\"\n",
    "\n",
    "fls_baixo = glob.glob(p_baixo+csv_str)\n",
    "fls_medio = glob.glob(p_medio+csv_str)\n",
    "\n",
    "fls_baixo, fls_medio"
   ]
  },
  {
   "cell_type": "code",
   "execution_count": 9,
   "metadata": {},
   "outputs": [],
   "source": [
    "# Ajuste apenas da estações telemétricas\n",
    "\n",
    "# Importar a biblioteca pandas\n",
    "import pandas as pd, numpy as np\n",
    "\n",
    "csv_baixo = ['telemetric_54790000.csv']\n",
    "\n",
    "p_ajust_baixo = p_baixo + \"planilhas_ajustadas\\\\\"\n",
    "\n",
    "for f in csv_baixo:\n",
    "\n",
    "    df = pd.read_csv(p_baixo+f, sep='\\t', index_col=0, header=0, parse_dates=['dataHora'])\n",
    "\n",
    "    # Os campos numéricos são carregados como do tipo \"object\" e por isso precisam ser convertidos para \"float\"\n",
    "    # \"coerce\" força onde não tiver número para converter colocar \"NaN\" no lugar\n",
    "    df.chuva = pd.to_numeric(df.chuva, errors='coerce')\n",
    "    df.nivel = pd.to_numeric(df.nivel, errors='coerce')\n",
    "    df.vazao = pd.to_numeric(df.vazao, errors='coerce')\n",
    "\n",
    "    df = df.resample('D').agg({'chuva': 'sum', 'nivel': 'mean', 'vazao': 'mean'})\n",
    "\n",
    "    # Mesmo após fazer a agregação por dia, alguns ficam com \"NaN\", por isso a necessidade de executar o \"fillna\"\n",
    "    df.fillna({'chuva': df['chuva'].sum(), 'nivel': df['nivel'].mean(), 'vazao': df['vazao'].mean()}, inplace=True)\n",
    "\n",
    "    # Salvar para o arquivo\n",
    "    df.to_csv(p_ajust_baixo+f, sep='\\t')\n",
    "\n",
    "# =================================================================== #\n",
    "    \n",
    "csv_medio = ['telemetric_1642041.csv',\n",
    "             'telemetric_54140000.csv',\n",
    "             'telemetric_54150001.csv']\n",
    "\n",
    "p_ajust_medio = p_medio + \"planilhas_ajustadas\\\\\"\n",
    "\n",
    "for f in csv_medio:\n",
    "\n",
    "    df = pd.read_csv(p_medio+f, sep='\\t', index_col=0, header=0, parse_dates=['dataHora'])\n",
    "\n",
    "    # Os campos numéricos são carregados como do tipo \"object\" e por isso precisam ser convertidos para \"float\"\n",
    "    # \"coerce\" força onde não tiver número para converter colocar \"NaN\" no lugar\n",
    "    df.chuva = pd.to_numeric(df.chuva, errors='coerce')\n",
    "    df.nivel = pd.to_numeric(df.nivel, errors='coerce')\n",
    "    df.vazao = pd.to_numeric(df.vazao, errors='coerce')\n",
    "\n",
    "    df = df.resample('D').agg({'chuva': 'sum', 'nivel': 'mean', 'vazao': 'mean'})\n",
    "\n",
    "    # Mesmo após fazer a agregação por dia, alguns ficam com \"NaN\", por isso a necessidade de executar o \"fillna\"\n",
    "    df.fillna({'chuva': df['chuva'].sum(), 'nivel': df['nivel'].mean(), 'vazao': df['vazao'].mean()}, inplace=True)\n",
    "\n",
    "    # Salvar para o arquivo\n",
    "    df.to_csv(p_ajust_medio+f, sep='\\t')"
   ]
  }
 ],
 "metadata": {
  "kernelspec": {
   "display_name": "neuralFC_py39",
   "language": "python",
   "name": "python3"
  },
  "language_info": {
   "codemirror_mode": {
    "name": "ipython",
    "version": 3
   },
   "file_extension": ".py",
   "mimetype": "text/x-python",
   "name": "python",
   "nbconvert_exporter": "python",
   "pygments_lexer": "ipython3",
   "version": "3.9.18"
  }
 },
 "nbformat": 4,
 "nbformat_minor": 2
}
