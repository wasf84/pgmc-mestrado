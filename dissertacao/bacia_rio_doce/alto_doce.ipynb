{
 "cells": [
  {
   "cell_type": "markdown",
   "metadata": {},
   "source": [
    "# Imports básicos para todas as análises"
   ]
  },
  {
   "cell_type": "code",
   "execution_count": 1,
   "metadata": {
    "notebookRunGroups": {
     "groupValue": "12"
    }
   },
   "outputs": [
    {
     "name": "stderr",
     "output_type": "stream",
     "text": [
      "c:\\Users\\welson\\anaconda3\\envs\\dissertacao_py39\\lib\\site-packages\\dask\\dataframe\\_pyarrow_compat.py:17: FutureWarning: Minimal version of pyarrow will soon be increased to 14.0.1. You are using 11.0.0. Please consider upgrading.\n",
      "  warnings.warn(\n"
     ]
    }
   ],
   "source": [
    "import  warnings,                   \\\n",
    "        calendar,                   \\\n",
    "        pandas as pd,               \\\n",
    "        numpy as np,                \\\n",
    "        plotly.graph_objects as go, \\\n",
    "        requests as rt,             \\\n",
    "        mlforecast as mlf,          \\\n",
    "        optuna as opt,              \\\n",
    "        hydrobr as hbr,             \\\n",
    "        xml.etree.ElementTree as ET,\\\n",
    "        utilsforecast.processing as ufp\n",
    "\n",
    "from typing import List\n",
    "\n",
    "from datetime import datetime, timedelta\n",
    "\n",
    "from io import BytesIO\n",
    "\n",
    "from functools import partial\n",
    "\n",
    "from plotly.subplots import make_subplots\n",
    "\n",
    "from lightgbm import LGBMRegressor\n",
    "from sklearn.linear_model import LinearRegression\n",
    "from sklearn.svm import LinearSVR\n",
    "\n",
    "# A ser usado apenas para a análise de imputação de dados (ao invés de sempre aplicar o valor médio)\n",
    "from sklearn.impute import KNNImputer\n",
    "\n",
    "from neuralforecast import NeuralForecast\n",
    "from neuralforecast.models import LSTM, NBEATSx\n",
    "\n",
    "from statsmodels.tsa.stattools import acf, pacf\n",
    "from statsmodels.tsa.seasonal import seasonal_decompose\n",
    "\n",
    "from sktime.split import temporal_train_test_split\n",
    "from sktime.param_est.seasonality import SeasonalityACF\n",
    "from sktime.param_est.stationarity import StationarityADF\n",
    "from sktime.performance_metrics.forecasting import MeanSquaredError, MeanAbsolutePercentageError, MeanAbsoluteError\n",
    "\n",
    "# Desativar as mensagens de 'warning' que ficam poluindo o output de alguns trechos de código.\n",
    "warnings.filterwarnings(\"ignore\")\n",
    "\n",
    "# Para com a verborragia do log do Optuna\n",
    "opt.logging.set_verbosity(opt.logging.WARNING)\n",
    "\n",
    "# Wraper pra usar a engine do Plotly ao invocar a função \"[DataFrame|Series].plot\" do Pandas\n",
    "pd.options.plotting.backend = \"plotly\"\n",
    "\n",
    "# Métricas utilizadas\n",
    "smape = MeanAbsolutePercentageError(symmetric=True) # Melhor valor possível é 0.0 (SYMMETRIC Mean Absolute Percentage Error)\n",
    "rmse = MeanSquaredError(square_root=True) # Quanto menor, melhor\n",
    "mae = MeanAbsoluteError() # Quanto menor, melhor"
   ]
  },
  {
   "cell_type": "markdown",
   "metadata": {},
   "source": [
    "# Utilidades"
   ]
  },
  {
   "cell_type": "code",
   "execution_count": 2,
   "metadata": {
    "notebookRunGroups": {
     "groupValue": "12"
    }
   },
   "outputs": [],
   "source": [
    "def carregar_dados(file_name : str,\n",
    "                   separator : str = \"\\t\",\n",
    "                   adjust : bool = True,\n",
    "                   date_column : str = \"ds\"\n",
    "                   ) -> pd.DataFrame:\n",
    "    \n",
    "    df = pd.read_csv(file_name, sep=separator, index_col=date_column, header=0, parse_dates=[date_column])\n",
    "\n",
    "    if adjust:\n",
    "        df = df.resample('D').first() # deixando a série contínua numa base diária\n",
    "\n",
    "    # Deixando ajustado para usar com as libs Nixtla\n",
    "    df['unique_id'] = 1\n",
    "    df.reset_index(inplace=True)\n",
    "\n",
    "    return df\n",
    "# ============================================================================================ #\n",
    "def decomp_series(df) -> None:\n",
    "    # A decomposição das séries temporais ajuda a detectar padrões (tendência, sazonalidade)\n",
    "    #   e identificar outras informações que podem ajudar na interpretação do que está acontecendo.\n",
    "\n",
    "    cols = df.drop(columns=['ds', 'unique_id']).columns.to_list()\n",
    "    for c in cols:\n",
    "        # Utilizei modelo do tipo \"add\" (aditivo) pois tem séries com valores 0 (zero).\n",
    "        # Período de 365 dias porque o que me interessa é capturar padrões anuais.\n",
    "        decomp = seasonal_decompose(df[c], period=365, model=\"add\")\n",
    "        fig_decomp = make_subplots(specs=[[{\"secondary_y\": True}]])\n",
    "        fig_decomp.add_trace(go.Scatter(x=df.ds, y=decomp.observed, name='observado', mode='lines', showlegend=True), secondary_y=False)\n",
    "        fig_decomp.add_trace(go.Scatter(x=df.ds, y=decomp.trend, name='tendência', mode='lines', showlegend=True), secondary_y=True)\n",
    "        fig_decomp.add_trace(go.Scatter(x=df.ds, y=decomp.seasonal, name='sazonalidade', mode='lines', showlegend=True), secondary_y=True)\n",
    "        fig_decomp.add_trace(go.Scatter(x=df.ds, y=decomp.resid, name='resíduo', mode='lines', showlegend=True), secondary_y=False)\n",
    "\n",
    "        fig_decomp.update_yaxes(title=dict(text=\"observado/resíduo\", font=dict(family=\"system-ui\", size=18)), secondary_y=False)\n",
    "        fig_decomp.update_yaxes(title=dict(text=\"tendência/sazonalidade\", font=dict(family=\"system-ui\", size=18)), secondary_y=True)\n",
    "\n",
    "        fig_decomp.update_xaxes(title=dict(text=\"Período\", font=dict(family=\"system-ui\", size=18)))\n",
    "\n",
    "        # fig_decomp.update_traces(hovertemplate=None)\n",
    "\n",
    "        fig_decomp.update_layout(width=1500, height=700, #hovermode='x unified',\n",
    "                                title=dict(text=\"Decomposição da série temporal: {col}\".format(col=c), font=dict(family=\"system-ui\", size=24)))\n",
    "        \n",
    "        fig_decomp.write_image(\"./resultados/trecho_alto/aed/decomposicao_serie_{}.png\".format(c))\n",
    "        # fig_decomp.show()\n",
    "# ============================================================================================ #\n",
    "def estacionariedade(df, sp) -> None:\n",
    "    # Avaliar a estacionariedade de cada uma das séries e a sazonalidade (se houver)\n",
    "    # Existindo sazonalidade, qual a lag (ou quais lags) se encaixam nesta sazonalidade\n",
    "\n",
    "    cols = df.drop(columns=['ds', 'unique_id']).columns.to_list()\n",
    "    for c in cols:\n",
    "        ts = df[c]\n",
    "        sty_est = StationarityADF()\n",
    "        sty_est.fit(ts)\n",
    "        print(c, sty_est.get_fitted_params()[\"stationary\"])\n",
    "\n",
    "        # Este teste de sazonalidade deve ser aplicado a séries estacionárias.\n",
    "        # Se precisar tornar uma série em estacionária, tem de aplicar diferenciação antes.\n",
    "        if sty_est.get_fitted_params()[\"stationary\"]:\n",
    "            sp_est = SeasonalityACF(candidate_sp=sp, nlags=len(df[c])) # Minha intenção é ter certeza de que existe sazonalidade anual (365 dias)\n",
    "            sp_est.fit(ts)\n",
    "            sp_est.get_fitted_params()\n",
    "            print(c, sp_est.get_fitted_params()[\"sp_significant\"])\n",
    "# ============================================================================================ #\n",
    "def mapa_correlacao(df) -> None:\n",
    "    corr = df.drop(columns=['ds', 'unique_id']).corr()\n",
    "    fig = go.Figure()\n",
    "    fig.add_trace(go.Heatmap(x=corr.columns, y=corr.columns, z=corr, text=corr.values,\n",
    "                            texttemplate = \"%{text:.7f}\",\n",
    "                            textfont = {\"size\": 14},\n",
    "                            colorscale=\"rainbow\",\n",
    "                            hovertemplate = \"%{y}<br>%{x}</br><extra></extra>\"))\n",
    "    fig.update_layout(width=1500, height=700,\n",
    "                        yaxis=dict(tickfont=dict(family=\"system-ui\", size=14)),\n",
    "                        xaxis=dict(tickfont=dict(family=\"system-ui\", size=14)),\n",
    "                        title=dict(text=\"Mapa de correlação\", font=dict(family=\"system-ui\", size=24)))\n",
    "    \n",
    "    fig.write_image(\"./resultados/trecho_alto/aed/mapa_correlacao.png\")\n",
    "    # fig.show()\n",
    "# ============================================================================================ #\n",
    "def plot_linha_tabela(df_merged,\n",
    "                      regressor : str,\n",
    "                      plot_title : str,\n",
    "                      line_color : str,\n",
    "                      short_name : str\n",
    "                      ) -> None:\n",
    "\n",
    "    fig = make_subplots(rows=2, cols=1, vertical_spacing=0.2, specs=[[{\"type\": \"scatter\"}], [{\"type\": \"table\"}]])\n",
    "\n",
    "    fig.add_trace(go.Scatter(x=df_merged.ds, y=df_merged.y, mode='lines', name='observado', line=dict(color=\"#000000\", width=4)), row=1, col=1)\n",
    "    fig.add_trace(go.Scatter(x=df_merged.ds, y=df_merged[regressor], mode='lines', name=short_name, line=dict(color=line_color)), row=1, col=1)\n",
    "\n",
    "    fig.append_trace(go.Table(header=dict(values=[\"sMAPE\", \"RMSE\", \"MAE\"], font=dict(size=14), align=\"left\"),\n",
    "                                cells=dict(values=[smape(df_merged.y, df_merged[regressor]),\n",
    "                                                   rmse(df_merged.y, df_merged[regressor]),\n",
    "                                                   mae(df_merged.y, df_merged[regressor])],\n",
    "                                        font=dict(size=14),\n",
    "                                        height=24,\n",
    "                                        align=\"left\")),\n",
    "                    row=2, col=1)\n",
    "\n",
    "    fig.update_yaxes(title=dict(text=\"Vazão (m³/s)\", font=dict(family=\"system-ui\", size=18)))\n",
    "    fig.update_xaxes(title=dict(text=\"Período\", font=dict(family=\"system-ui\", size=18)))\n",
    "\n",
    "    fig.update_layout(width=1500, height=1000, hovermode='x unified',\n",
    "                        title=dict(text=plot_title, font=dict(family=\"system-ui\", size=24)))\n",
    "    \n",
    "    fig.show()\n",
    "# ============================================================================================ #\n",
    "def cria_plot_correlacao(serie : pd.Series,\n",
    "                         n_lags : int,\n",
    "                         plot_pacf : bool = False\n",
    "                         ) -> None:\n",
    "    corr_array = pacf(serie.dropna(), nlags=n_lags, alpha=0.05) if plot_pacf else acf(serie.dropna(), nlags=n_lags, alpha=0.05)\n",
    "    lower_y = corr_array[1][:, 0] - corr_array[0]\n",
    "    upper_y = corr_array[1][:, 1] - corr_array[0]\n",
    "\n",
    "    fig = go.Figure()\n",
    "    \n",
    "    # Desenha as linhas verticais pretas\n",
    "    [fig.add_scatter(x=(x, x), y=(0, corr_array[0][x]), mode='lines', line_color='black', hovertemplate = \"<extra></extra>\")\n",
    "        for x in range(len(corr_array[0]))]\n",
    "    \n",
    "    # Desenha as bolinhas vermelhas\n",
    "    fig.add_scatter(x=np.arange(len(corr_array[0])), y=corr_array[0],\n",
    "                    mode='markers', marker_color='red', marker_size=12,\n",
    "                    hovertemplate = \"x = %{x}<br>y = %{y}<extra></extra>\")\n",
    "    \n",
    "    # Desenha a 'nuvem' clarinha acima do eixo x\n",
    "    fig.add_scatter(x=np.arange(len(corr_array[0])), y=upper_y,\n",
    "                    mode='lines', line_color='rgba(255,255,255,0)',\n",
    "                    hovertemplate = \"<extra></extra>\")\n",
    "\n",
    "    # Desenha a 'nuvem' clarinha abaixo do eixo x\n",
    "    fig.add_scatter(x=np.arange(len(corr_array[0])), y=lower_y,\n",
    "                    mode='lines', fillcolor='rgba(32, 146, 230,0.3)', fill='tonexty', line_color='rgba(255,255,255,0)',\n",
    "                    hovertemplate = \"<extra></extra>\")\n",
    "    \n",
    "    fig.update_traces(showlegend=False)\n",
    "\n",
    "    fig.update_xaxes(range=[-1, n_lags+1])\n",
    "    fig.update_yaxes(zerolinecolor='black') # Quando 'y=0' a linha é preta\n",
    "    \n",
    "    title = 'Autocorrelação Parcial (PACF) para n_lags={n}'.format(n=n_lags) if plot_pacf else 'Autocorrelação (ACF) para n_lags={n}'.format(n=n_lags)\n",
    "    fig.update_layout(width=1500, height=700,\n",
    "                      title=dict(text=title, font=dict(family=\"system-ui\", size=24)))\n",
    "\n",
    "    fig.write_image(\"./resultados/trecho_alto/aed/plot_pacf.png\") if plot_pacf else fig.write_image(\"./resultados/trecho_alto/aed/plot_acf.png\")\n",
    "    # fig.show()\n",
    "# ============================================================================================ #\n",
    "def cria_dataframe_futuro(df_futr, df_train, df_test, tp_valor, n_lags, cols) -> pd.DataFrame:\n",
    "    if tp_valor == 'ultimo': # Usa o último valor conhecido\n",
    "        for c in cols:\n",
    "            df_futr[c] = df_train[c].iat[-1]\n",
    "    elif tp_valor == 'media': # Usa o valor médio de cada coluna vazão\n",
    "        for c in cols:\n",
    "            df_futr[c] = df_train[c].mean()\n",
    "    elif tp_valor == 'ml':\n",
    "        from mlforecast import MLForecast\n",
    "        from xgboost import XGBRegressor\n",
    "\n",
    "        fcst = MLForecast(\n",
    "            models=XGBRegressor(random_state=5),\n",
    "            freq='D',\n",
    "            lags=[i+1 for i in range(n_lags)],\n",
    "            # target_transforms=[Differences([1])], # aplica uma diferenciação pra certificar de lidar com dados sem tendência\n",
    "            date_features=['year', 'month', 'quarter', 'dayofyear', 'week']\n",
    "        )\n",
    "\n",
    "        for c in cols:\n",
    "            df_temp = df_train[['ds', 'unique_id', c]]\n",
    "            fcst.fit(df_temp, id_col='unique_id', time_col='ds', target_col=c, static_features=[])\n",
    "            df_preds = fcst.predict(h=len(df_futr))\n",
    "            df_futr[c] = df_preds['XGBRegressor']\n",
    "    else:\n",
    "        raise Exception(\"Opção inválida! (ultimo | media | ml)\")\n",
    "            \n",
    "    df_futr = pd.merge(left=df_futr, right=df_test.drop(columns=cols+['y']),\n",
    "                    on=['ds', 'unique_id'], how='left')\n",
    "    \n",
    "    return df_futr\n",
    "# ============================================================================================ #\n",
    "def distribuicao_dados(df_original, df_media, df_knn) -> None:\n",
    "    cols = np.asarray(df_original.drop(columns=['ds', 'unique_id']).columns)\n",
    "\n",
    "    for c in cols:\n",
    "        fig = go.Figure()\n",
    "\n",
    "        fig.add_trace(go.Box(\n",
    "            y=df_original[c].values,\n",
    "            name='original',\n",
    "            marker_color='darkblue',\n",
    "            jitter=0.5,\n",
    "            pointpos=-2,\n",
    "            boxpoints='all',\n",
    "            boxmean='sd')\n",
    "            )\n",
    "        fig.add_trace(go.Box(\n",
    "            y=df_media[c].values,\n",
    "            name='média',\n",
    "            marker_color='coral',\n",
    "            jitter=0.5,\n",
    "            pointpos=-2,\n",
    "            boxpoints='all',\n",
    "            boxmean='sd')\n",
    "            )\n",
    "        fig.add_trace(go.Box(\n",
    "            y=df_knn[c].values,\n",
    "            name='kNN',\n",
    "            marker_color='olive',\n",
    "            jitter=0.5,\n",
    "            pointpos=-2,\n",
    "            boxpoints='all',\n",
    "            boxmean='sd')\n",
    "            )\n",
    "\n",
    "        fig.update_layout(width=1500, height=1000,\n",
    "                          title=dict(text=\"Distribuição {c}\".format(c=c), font=dict(family=\"system-ui\", size=24)))\n",
    "        \n",
    "        fig.write_image(\"./resultados/trecho_alto/aed/distribuicao_dados_{}.png\".format(c))\n",
    "        # fig.show()\n",
    "# ============================================================================================ #\n",
    "def get_telemetrica(codEstacao : str,\n",
    "                    dataInicio : str,\n",
    "                    dataFim : str,\n",
    "                    save : bool = False) -> pd.DataFrame:\n",
    "    # 1. Fazer a requisião ao servidor e pegar a árvore e a raiz dos dados \n",
    "    params = {'codEstacao':codEstacao, 'dataInicio':dataInicio, 'dataFim':dataFim}\n",
    "    server = 'http://telemetriaws1.ana.gov.br/ServiceANA.asmx/DadosHidrometeorologicos'\n",
    "    response = rt.get(server, params)\n",
    "    tree = ET.ElementTree(ET.fromstring(response.content))\n",
    "    root = tree.getroot()\n",
    "\n",
    "    # 2. Iteração dentro dos elementos do XML procurando os dados que são disponibilizados para a estação\n",
    "    list_vazao = []\n",
    "    list_data = []\n",
    "    list_cota = []\n",
    "    list_chuva = []\n",
    "\n",
    "    for i in root.iter('DadosHidrometereologicos'):\n",
    "\n",
    "        data = i.find('DataHora').text\n",
    "        try:\n",
    "            vazao = float(i.find('Vazao').text)\n",
    "        except TypeError:\n",
    "            vazao = i.find('Vazao').text\n",
    "\n",
    "        try:\n",
    "            cota = float(i.find('Nivel').text)\n",
    "        except TypeError:\n",
    "            cota = i.find('Nivel').text\n",
    "\n",
    "        try:\n",
    "            chuva = float(i.find('Chuva').text)\n",
    "        except TypeError:\n",
    "            chuva = i.find('Chuva').text\n",
    "\n",
    "        list_vazao.append(vazao)\n",
    "        list_data.append(data)\n",
    "        list_cota.append(cota)\n",
    "        list_chuva.append(chuva)\n",
    "\n",
    "    df = pd.DataFrame([list_data, list_cota, list_chuva, list_vazao]).transpose()\n",
    "    df.columns = ['Data', 'Cota', 'Chuva', 'Vazao']\n",
    "    df = df.sort_values(by='Data')\n",
    "    df = df.set_index('Data')\n",
    "    \n",
    "    if save == True:\n",
    "        df.to_excel(codEstacao+'_dados_tele.xlsx')\n",
    "    \n",
    "    return df\n",
    "# ============================================================================================ #\n",
    "def get_convencional(codEstacao : str,\n",
    "                     dataInicio : str,\n",
    "                     dataFim : str,\n",
    "                     tipoDados : int,\n",
    "                     nivelConsistencia : int,\n",
    "                     save : bool = False) -> pd.DataFrame:\n",
    "    \"\"\"\n",
    "        Série Histórica estação - HIDRO.\n",
    "        codEstacao : Código Plu ou Flu\n",
    "        dataInicio : <YYYY-mm-dd>\n",
    "        dataFim : Caso não preenchido, trará até o último dado mais recente armazenado\n",
    "        tipoDados : 1-Cotas, 2-Chuvas ou 3-Vazões\n",
    "        nivelConsistencia : 1-Bruto ou 2-Consistido\n",
    "    \"\"\"\n",
    "\n",
    "    # 1. Fazer a requisião ao servidor e pegar a árvore e a raiz dos dados \n",
    "    params = {'codEstacao':codEstacao, 'dataInicio':dataInicio, 'dataFim':dataFim,\n",
    "              'tipoDados':tipoDados, 'nivelConsistencia':nivelConsistencia}\n",
    "    \n",
    "    server = 'http://telemetriaws1.ana.gov.br/ServiceANA.asmx/HidroSerieHistorica'\n",
    "    response = rt.get(server, params)\n",
    "    tree = ET.ElementTree(ET.fromstring(response.content))\n",
    "    root = tree.getroot()\n",
    "    \n",
    "    # 2. Iteração dentro dos elementos do XML procurando os dados que são disponibilizados para a estação\n",
    "    list_data = []\n",
    "    list_consistenciaF = []\n",
    "    list_month_dates = []\n",
    "\n",
    "    for i in root.iter('SerieHistorica'):\n",
    "\n",
    "        consistencia = i.find('NivelConsistencia').text\n",
    "        date = i.find('DataHora').text\n",
    "        date = datetime.strptime(date, '%Y-%m-%d %H:%M:%S')\n",
    "        last_day = calendar.monthrange(date.year, date.month)[1]\n",
    "        month_dates = [date + timedelta(days=i) for i in range(last_day)]\n",
    "        content = []\n",
    "        list_consistencia = []\n",
    "\n",
    "        for day in range(last_day):\n",
    "            if tipoDados == 1:\n",
    "                value = f'Cota{day+1:02d}'\n",
    "            if tipoDados == 2:\n",
    "                value = f'Chuva{day+1:02d}'\n",
    "            if tipoDados == 3:\n",
    "                value = f'Vazao{day+1:02d}'\n",
    "            \n",
    "            try:\n",
    "                content.append(float(i.find(value).text))\n",
    "                list_consistencia.append(int(consistencia))\n",
    "            except TypeError:\n",
    "                content.append(i.find(value).text)\n",
    "                list_consistencia.append(int(consistencia))\n",
    "            except AttributeError:\n",
    "                content.append(None)\n",
    "                list_consistencia.append(int(consistencia))\n",
    "        \n",
    "        list_data += content\n",
    "        list_consistenciaF += list_consistencia\n",
    "        list_month_dates += month_dates\n",
    "    df = pd.DataFrame([list_month_dates, list_consistenciaF, list_data]).transpose()\n",
    "\n",
    "    if tipoDados == 1:\n",
    "        df.columns = ['Data','Consistencia','Cota']\n",
    "    elif tipoDados == 2:\n",
    "        df.columns = ['Data','Consistencia','Chuva']\n",
    "    else: # Vazão\n",
    "        df.columns = ['Data','Consistencia','Vazao']\n",
    "    \n",
    "    df = df.sort_values(by='Data')\n",
    "    df = df.set_index('Data')\n",
    "\n",
    "    if save == True:\n",
    "        df.to_excel(codEstacao + '_dados_conv.xlsx')\n",
    "    \n",
    "    return df\n",
    "# ============================================================================================ #\n",
    "def gerar_dados_tele(estacao_principal : str,\n",
    "                    outras_estacoes : List[str],\n",
    "                    nome_arq : str,\n",
    "                    dt_inicio : str,\n",
    "                    dt_fim : str,\n",
    "                    salvar : bool = False) -> None:\n",
    "    \"\"\"\n",
    "            Este método vai pegar o código da 'estacao_principal' (que o usuário já sabe previamente que é uma telemétrica), baixar os dados da estação\n",
    "        e concatenar (outer join) com os dados das outras estações telemétricas. Neste método já será realizada a conversão dos dados de 'object' para\n",
    "        os tipos de acordo, ou seja, 'float' para os campos numéricos e 'datetime' para os campos de datahora.\n",
    "            Como o desejo do trabalho é lidar com dados diários, já aproveita pra fazer a agregação dos dados desta maneira também.\n",
    "            Após tudo isso, salvar num arquivo xlsx para usos posteriores.\n",
    "\n",
    "        Parâmetros:\n",
    "            estacao_principal : str,\n",
    "            outras_estacoes : List[str],\n",
    "            nome_arq : str,\n",
    "            dt_inicio : str = 'YYYY-mm-dd',\n",
    "            dt_fim : str = 'YYYY-mm-dd',\n",
    "            salvar : bool = True|False\n",
    "    \"\"\"\n",
    "\n",
    "    df_result = get_telemetrica(codEstacao=estacao_principal, dataInicio=dt_inicio, dataFim=dt_fim)\n",
    "\n",
    "    df_result.index = pd.to_datetime(df_result.index)\n",
    "    df_result.Cota = pd.to_numeric(df_result.Cota, errors='coerce')\n",
    "    df_result.Chuva = pd.to_numeric(df_result.Chuva, errors='coerce')\n",
    "    df_result.Vazao = pd.to_numeric(df_result.Vazao, errors='coerce')\n",
    "\n",
    "    df_result = df_result.resample('D').agg({'Cota': 'mean', 'Chuva': 'sum', 'Vazao': 'mean'})\n",
    "\n",
    "    df_result.columns = ['t_ct_'+str(estacao_principal), 't_cv_'+str(estacao_principal), 't_vz_'+str(estacao_principal)]\n",
    "\n",
    "    # Agora que já tenho os dados da estação que considero principal na análise (target)\n",
    "    #   vou agregar com os dados das demais estações\n",
    "\n",
    "    for e in outras_estacoes:\n",
    "        df_temp = get_telemetrica(codEstacao=e, dataInicio=dt_inicio, dataFim=dt_fim)\n",
    "\n",
    "        # Convertendo os dados\n",
    "        df_temp.index = pd.to_datetime(df_temp.index)\n",
    "        df_temp.Cota = pd.to_numeric(df_temp.Cota, errors='coerce')\n",
    "        df_temp.Chuva = pd.to_numeric(df_temp.Chuva, errors='coerce')\n",
    "        df_temp.Vazao = pd.to_numeric(df_temp.Vazao, errors='coerce')\n",
    "\n",
    "        # Para as telemétricas já agrego aqui mesmo\n",
    "        df_temp = df_temp.resample('D').agg({'Cota': 'mean', 'Chuva': 'sum', 'Vazao': 'mean'})\n",
    "\n",
    "        # Ajeito os nomes das colunas pra conter de qual estacao os dado veio\n",
    "        df_temp.columns = ['t_ct_'+e, 't_cv_'+e, 't_vz_'+e]\n",
    "\n",
    "        df_result = pd.concat([df_result, df_temp], axis=1)\n",
    "\n",
    "    if salvar:\n",
    "        df_result.to_excel(nome_arq+'_dados_tele.xlsx')\n",
    "# ============================================================================================ #\n",
    "def gerar_dados_conv(estacao_principal : str,\n",
    "                    outras_estacoes : List[str],\n",
    "                    nome_arq : str,\n",
    "                    dt_inicio : str,\n",
    "                    dt_fim : str,\n",
    "                    tp_dados : int,\n",
    "                    nvl_consistencia : str,\n",
    "                    drop_consistencia : bool = True, # Remover a coluna \"NivelConsistência\". Ela será irrelevante, até segunda ordem.\n",
    "                    salvar : bool = False) -> None:\n",
    "    \"\"\"\n",
    "            Este método vai pegar o código da 'estacao_principal' (que o usuário já sabe previamente que é uma convencional), baixar os dados da estação\n",
    "        e concatenar (outer join) com os dados das outras estações convencionais. Neste método já será realizada a conversão dos dados de 'object' para\n",
    "        os tipos de acordo, ou seja, 'float' para os campos numéricos e 'datetime' para os campos de datahora.\n",
    "            Como o desejo do trabalho é lidar com dados diários, já aproveita pra fazer a agregação dos dados desta maneira também.\n",
    "            Após tudo isso, salvar num arquivo xlsx para usos posteriores.\n",
    "\n",
    "        Parâmetros:\n",
    "            estacao_principal : str,\n",
    "            outras_estacoes : List[str],\n",
    "            nome_arq : str,\n",
    "            dt_inicio : str = 'YYYY-mm-dd',\n",
    "            dt_fim : str = 'YYYY-mm-dd',\n",
    "            tp_dados : int (1-cota | 2-chuva | 3-vazao),\n",
    "            nvl_consistencia : int (1-bruto | 2-consistido),\n",
    "            drop_consistencia : bool = True, (Remover a coluna \"NivelConsistência\". Ela será irrelevante, até segunda ordem)\n",
    "            salvar : bool = False\n",
    "    \"\"\"\n",
    "\n",
    "    df_result = get_convencional(codEstacao=estacao_principal, dataInicio=dt_inicio, dataFim=dt_fim, tipoDados=tp_dados, nivelConsistencia=nvl_consistencia)\n",
    "\n",
    "    df_result.index = pd.to_datetime(df_result.index)\n",
    "\n",
    "    if drop_consistencia:\n",
    "        df_result.drop(columns=['Consistencia'], inplace=True)\n",
    "\n",
    "    if tp_dados == 1:\n",
    "        df_result.Cota = pd.to_numeric(df_result.Cota, errors='coerce')\n",
    "        df_result = df_result.resample('D').agg({'Cota': 'mean'})\n",
    "        df_result.columns = ['c_ct_'+str(estacao_principal)]\n",
    "    elif tp_dados == 2:\n",
    "        df_result.Chuva = pd.to_numeric(df_result.Chuva, errors='coerce')\n",
    "        df_result = df_result.resample('D').agg({'Chuva': 'sum'})\n",
    "        df_result.columns = ['c_cv_'+str(estacao_principal)]\n",
    "    else: # Vazão\n",
    "        df_result.Vazao = pd.to_numeric(df_result.Vazao, errors='coerce')\n",
    "        df_result = df_result.resample('D').agg({'Vazao': 'mean'})\n",
    "        df_result.columns = ['c_vz_'+str(estacao_principal)]\n",
    "\n",
    "    # Agora que já tenho os dados da estação que considero principal na análise (target)\n",
    "    #   vou agregar com os dados das demais estações\n",
    "\n",
    "    for e in outras_estacoes:\n",
    "        df_temp = get_convencional(codEstacao=e, dataInicio=dt_inicio, dataFim=dt_fim, tipoDados=tp_dados, nivelConsistencia=nvl_consistencia)\n",
    "\n",
    "        # Convertendo os dados\n",
    "        df_temp.index = pd.to_datetime(df_temp.index)\n",
    "\n",
    "        if drop_consistencia:\n",
    "            df_temp.drop(columns=['Consistencia'], inplace=True)\n",
    "\n",
    "        if tp_dados == 1:\n",
    "            df_temp.Cota = pd.to_numeric(df_temp.Cota, errors='coerce')\n",
    "            df_temp = df_temp.resample('D').agg({'Cota': 'mean'})\n",
    "            df_temp.columns = ['c_ct_'+str(e)]\n",
    "        elif tp_dados == 2:\n",
    "            df_temp.Chuva = pd.to_numeric(df_temp.Chuva, errors='coerce')\n",
    "            df_temp = df_temp.resample('D').agg({'Chuva': 'sum'})\n",
    "            df_temp.columns = ['c_cv_'+str(e)]\n",
    "        else: # Vazão\n",
    "            df_temp.Vazao = pd.to_numeric(df_temp.Vazao, errors='coerce')\n",
    "            df_temp = df_temp.resample('D').agg({'Vazao': 'mean'})\n",
    "            df_temp.columns = ['c_vz_'+str(e)]\n",
    "\n",
    "        df_result = pd.concat([df_result, df_temp], axis=1)\n",
    "\n",
    "    if salvar:\n",
    "        if tp_dados == 1:\n",
    "            df_result.to_excel(nome_arq + '_dados_cota_conv.xlsx')\n",
    "        elif tp_dados == 2:\n",
    "            df_result.to_excel(nome_arq + '_dados_chuva_conv.xlsx')\n",
    "        else:\n",
    "            df_result.to_excel(nome_arq + '_dados_vazao_conv.xlsx')"
   ]
  },
  {
   "cell_type": "markdown",
   "metadata": {},
   "source": [
    "# Download dos dados"
   ]
  },
  {
   "cell_type": "code",
   "execution_count": 3,
   "metadata": {},
   "outputs": [],
   "source": [
    "# Baixando os dados das estações que serão utilizadas no trabalho\n",
    "# As estações foram selecionadas a partir do sistema Data Rhama\n",
    "# Aqui eu baixo os dados e salvo localmente\n",
    "# >>>>>>>>>>>>> SÓ PRECISA FAZER ISSO UMA VEZ, POR ISSO O CÓDIGO FICA COMENTADO DEPOIS DE RODAR!!!! <<<<<<<<<<<<<\n",
    "\n",
    "# estacao_principal = '56425000'\n",
    "# outras_estacoes = ['56338500', '56338080', '56110005', '56337200', '56337500']"
   ]
  },
  {
   "cell_type": "markdown",
   "metadata": {},
   "source": [
    "## Telemétricos"
   ]
  },
  {
   "cell_type": "code",
   "execution_count": 4,
   "metadata": {},
   "outputs": [],
   "source": [
    "# Aplicando a lib HydroBR eu desejo saber se as estações em questão são do tipo convencional ou telemétrica\n",
    "# O código não exclui o fato, eventual, de uma dada estação ser convencional E telemétrica, como é o caso aqui\n",
    "\n",
    "# lista_estacoes = hbr.get_data.ANA.list_telemetric() # Vendo primeiro se tem telemétrica\n",
    "# lista_estacoes.head()"
   ]
  },
  {
   "cell_type": "code",
   "execution_count": 5,
   "metadata": {},
   "outputs": [],
   "source": [
    "# Averiguando se as estações que tenho em mãos estão presentes neste conjunto de estações telemétricas\n",
    "\n",
    "# print(\"Estação {e} -> {p}\".format(\n",
    "#                                 e=estacao_principal,\n",
    "#                                 p=(lista_estacoes['Code'] == estacao_principal).any()\n",
    "#                             )\n",
    "#     )\n",
    "\n",
    "# A estação principal tem dados telemétricos"
   ]
  },
  {
   "cell_type": "code",
   "execution_count": 6,
   "metadata": {},
   "outputs": [],
   "source": [
    "# Verificando as outras estações\n",
    "\n",
    "# for e in outras_estacoes:\n",
    "#     print(\"Estação {e} -> {p}\".format(\n",
    "#                                         e=e,\n",
    "#                                         p=(lista_estacoes['Code'] == e).any()\n",
    "#                                     )\n",
    "#     )\n",
    "\n",
    "# Estas estações também têm dados telemétricos"
   ]
  },
  {
   "cell_type": "code",
   "execution_count": 7,
   "metadata": {},
   "outputs": [],
   "source": [
    "# Gerando um arquivo Excel com os dados das estações telemétricas\n",
    "\n",
    "# gerar_dados_tele(estacao_principal=estacao_principal,\n",
    "#                  outras_estacoes=outras_estacoes,\n",
    "#                  nome_arq=\"alto_rio_doce\",\n",
    "#                  dt_inicio='2013-01-01',\n",
    "#                  dt_fim='2023-12-31',\n",
    "#                  salvar=True)"
   ]
  },
  {
   "cell_type": "markdown",
   "metadata": {},
   "source": [
    "## Convencionais"
   ]
  },
  {
   "cell_type": "markdown",
   "metadata": {},
   "source": [
    "### Cota/Vazão"
   ]
  },
  {
   "cell_type": "code",
   "execution_count": 8,
   "metadata": {},
   "outputs": [],
   "source": [
    "# Aplicando a lib HydroBR eu desejo saber se as estações em questão são do tipo convencional ou telemétrica\n",
    "# O código não exclui o fato, eventual, de uma dada estação ser convencional E telemétrica, como é o caso aqui\n",
    "\n",
    "# lista_estacoes = hbr.get_data.ANA.list_flow(state='MINAS GERAIS', source='ANA') # Verificando se tem estações de cota/vazão primeiro\n",
    "# lista_estacoes.head()"
   ]
  },
  {
   "cell_type": "code",
   "execution_count": 9,
   "metadata": {},
   "outputs": [],
   "source": [
    "# Averiguando se as estações que tenho em mãos estão presentes neste conjunto de estações convencionais de cota/vazão\n",
    "\n",
    "# print(\"Estação {e} -> {p}\".format(\n",
    "#                                 e=estacao_principal,\n",
    "#                                 p=(lista_estacoes['Code'] == estacao_principal).any()\n",
    "#                             )\n",
    "#     )\n",
    "\n",
    "# A estação principal tem dados convencionais de cota/vazão"
   ]
  },
  {
   "cell_type": "code",
   "execution_count": 10,
   "metadata": {},
   "outputs": [],
   "source": [
    "# Verificando as outras estações\n",
    "\n",
    "# for e in outras_estacoes:\n",
    "#     print(\"Estação {e} -> {p}\".format(\n",
    "#                                         e=e,\n",
    "#                                         p=(lista_estacoes['Code'] == e).any()\n",
    "#                                     )\n",
    "#     )\n",
    "\n",
    "# Estas estações também têm dados convencionais de cota/vazão"
   ]
  },
  {
   "cell_type": "code",
   "execution_count": 11,
   "metadata": {},
   "outputs": [],
   "source": [
    "# Gerando um arquivo Excel com os dados das estações convencionais\n",
    "\n",
    "# gerar_dados_conv(estacao_principal=estacao_principal,\n",
    "#                 outras_estacoes=outras_estacoes,\n",
    "#                 nome_arq=\"alto_rio_doce\",\n",
    "#                 dt_inicio='2013-01-01',\n",
    "#                 dt_fim='2023-12-31',\n",
    "#                 tp_dados=1, # Cota\n",
    "#                 nvl_consistencia='2', # dados consistidos\n",
    "#                 salvar=True)"
   ]
  },
  {
   "cell_type": "code",
   "execution_count": 12,
   "metadata": {},
   "outputs": [],
   "source": [
    "# Gerando um arquivo Excel com os dados das estações convencionais\n",
    "\n",
    "# gerar_dados_conv(estacao_principal=estacao_principal,\n",
    "#                 outras_estacoes=outras_estacoes,\n",
    "#                 nome_arq=\"alto_rio_doce\",\n",
    "#                 dt_inicio='2013-01-01',\n",
    "#                 dt_fim='2023-12-31',\n",
    "#                 tp_dados=3, # Vazão\n",
    "#                 nvl_consistencia='2', # dados consistidos\n",
    "#                 salvar=True)"
   ]
  },
  {
   "cell_type": "markdown",
   "metadata": {},
   "source": [
    "### Chuva"
   ]
  },
  {
   "cell_type": "code",
   "execution_count": 13,
   "metadata": {},
   "outputs": [],
   "source": [
    "# lista_estacoes = hbr.get_data.ANA.list_prec(state='MINAS GERAIS', source='ANA')\n",
    "# lista_estacoes.head()"
   ]
  },
  {
   "cell_type": "code",
   "execution_count": 14,
   "metadata": {},
   "outputs": [],
   "source": [
    "# print(\"Estação {e} -> {p}\".format(\n",
    "#                                 e=estacao_principal,\n",
    "#                                 p=(lista_estacoes['Code'] == estacao_principal).any()\n",
    "#                             )\n",
    "#     )\n",
    "\n",
    "# A estação principal NÃO tem dados convencionais de chuva"
   ]
  },
  {
   "cell_type": "code",
   "execution_count": 15,
   "metadata": {},
   "outputs": [],
   "source": [
    "# Verificando as outras estações\n",
    "\n",
    "# for e in outras_estacoes:\n",
    "#     print(\"Estação {e} -> {p}\".format(\n",
    "#                                         e=e,\n",
    "#                                         p=(lista_estacoes['Code'] == e).any()\n",
    "#                                     )\n",
    "#     )\n",
    "\n",
    "# Estas estações também NÃO têm dados convencionais de chuva"
   ]
  },
  {
   "cell_type": "markdown",
   "metadata": {},
   "source": [
    "Já tenho todos os dados de que preciso. Estão salvos localmente, agora é carregar em memória, juntar tudo e mandar ver nos experimentos."
   ]
  },
  {
   "cell_type": "markdown",
   "metadata": {},
   "source": [
    "## Juntando os dados"
   ]
  },
  {
   "cell_type": "code",
   "execution_count": 16,
   "metadata": {},
   "outputs": [],
   "source": [
    "# Como estou em dúvida com o arquivo de cotas, deixei apenas estes dois arquivos pra trabalhar.\n",
    "\n",
    "# arquivos = ['alto_rio_doce_dados_tele.xlsx', 'alto_rio_doce_dados_vazao_conv.xlsx']"
   ]
  },
  {
   "cell_type": "code",
   "execution_count": 17,
   "metadata": {},
   "outputs": [],
   "source": [
    "# Vou fazer a carga primeiro dos dados telemétricos, porque é onde tem mais informação de uma única vez.\n",
    "# Depois concateno os outros arquivos. Mas a ordem tanto faz aqui, só estipulei assim porque acho melhor\n",
    "\n",
    "# df = pd.read_excel(arquivos[0], sheet_name=0, index_col=0, header=0, parse_dates=['Data'])\n",
    "\n",
    "# for a in range(1, len(arquivos)):\n",
    "#     df_temp = pd.read_excel(arquivos[a], sheet_name=0, index_col=0, header=0, parse_dates=['Data'])\n",
    "#     df = pd.concat([df, df_temp], axis=1)\n",
    "\n",
    "# df"
   ]
  },
  {
   "cell_type": "code",
   "execution_count": 18,
   "metadata": {},
   "outputs": [],
   "source": [
    "# df.columns"
   ]
  },
  {
   "cell_type": "code",
   "execution_count": 19,
   "metadata": {},
   "outputs": [],
   "source": [
    "# Vou remover as colunas das cotas\n",
    "\n",
    "# df.drop(columns=['t_ct_56425000', 't_ct_56338500', 't_ct_56338080', 't_ct_56110005', 't_ct_56337200', 't_ct_56337500'], inplace=True)\n",
    "# df"
   ]
  },
  {
   "cell_type": "code",
   "execution_count": 20,
   "metadata": {},
   "outputs": [],
   "source": [
    "# df.columns"
   ]
  },
  {
   "cell_type": "code",
   "execution_count": 21,
   "metadata": {},
   "outputs": [],
   "source": [
    "# Fazendo o merge das colunas de vazão que são correspondentes à mesma estação\n",
    "# Acontece que existem gaps entre os dados, o que é estranho, porque a estação telemétrica tem dados que a convencional não tem\n",
    "# E vice-versa. Vou contar qual coluna tem mais dados e depois executar um 'fillna'\n",
    "# colunas_esquerda = ['t_vz_56425000', 't_vz_56338500', 't_vz_56338080', 't_vz_56110005', 't_vz_56337200', 't_vz_56337500']\n",
    "# colunas_direita = ['c_vz_56425000', 'c_vz_56338500', 'c_vz_56338080', 'c_vz_56110005', 'c_vz_56337200', 'c_vz_56337500']\n",
    "\n",
    "# for i, j in zip(colunas_esquerda, colunas_direita):\n",
    "#     print(i, j, df[i].isna().sum(), df[j].isna().sum())\n",
    "\n",
    "# A coluna que tiver menos buracos será preenchida com os dados da coluna que tem mais dados faltantes"
   ]
  },
  {
   "cell_type": "code",
   "execution_count": 22,
   "metadata": {},
   "outputs": [],
   "source": [
    "# Preenchendo a coluna que tem menos dados faltantes com a outra correspondente\n",
    "# Fazer isso para cada coluna, contudo, tem colunas que tem dados faltando demais. Neste caso, darei drop nelas inteiramente.\n",
    "# df['c_vz_56425000'].fillna(df['t_vz_56425000'], inplace=True)\n",
    "# df['t_vz_56110005'].fillna(df['c_vz_56110005'], inplace=True)\n",
    "\n",
    "# df['c_vz_56425000'].isna().sum(), df['t_vz_56110005'].isna().sum()"
   ]
  },
  {
   "cell_type": "code",
   "execution_count": 23,
   "metadata": {},
   "outputs": [],
   "source": [
    "# Uma vez que as colunas estejam ajustadas, eu dropo as que não vou precisar mais\n",
    "# df = df.drop(columns=['t_vz_56425000', 'c_vz_56110005'])\n",
    "# df"
   ]
  },
  {
   "cell_type": "code",
   "execution_count": 24,
   "metadata": {},
   "outputs": [],
   "source": [
    "# As colunas que, nesta análise, resolvi remover também porque não farão diferença pro trabalho\n",
    "# df = df.drop(columns=['c_vz_56338500', 't_vz_56338080', 'c_vz_56338080', 'c_vz_56337200', 'c_vz_56337500'])\n",
    "# df"
   ]
  },
  {
   "cell_type": "code",
   "execution_count": 25,
   "metadata": {},
   "outputs": [],
   "source": [
    "# Deixando os dados contínuos, numa base diária.\n",
    "# df = df.resample('D').first()\n",
    "# df"
   ]
  },
  {
   "cell_type": "markdown",
   "metadata": {},
   "source": [
    "## Exportando os dados finais"
   ]
  },
  {
   "cell_type": "code",
   "execution_count": 26,
   "metadata": {},
   "outputs": [],
   "source": [
    "# Neste momento, tenho o DataFrame com os dados EXATAMENTE da forma que preciso.\n",
    "# Posso, inclusive, exportar isso para um arquivo de Excel\n",
    "# É o que farei, pois se precisar retornar aos dados originais, será mais fácil que fazer toda engenharia até aqui\n",
    "\n",
    "# df.to_excel('alto_rio_doce_final.xlsx')"
   ]
  },
  {
   "cell_type": "markdown",
   "metadata": {},
   "source": [
    "# Carregando e imputando dados"
   ]
  },
  {
   "cell_type": "code",
   "execution_count": 27,
   "metadata": {
    "notebookRunGroups": {
     "groupValue": "12"
    }
   },
   "outputs": [],
   "source": [
    "df = pd.read_excel('alto_rio_doce_final.xlsx', sheet_name=0, index_col=0, header=0, parse_dates=['Data'])"
   ]
  },
  {
   "cell_type": "code",
   "execution_count": 28,
   "metadata": {
    "notebookRunGroups": {
     "groupValue": "12"
    }
   },
   "outputs": [
    {
     "data": {
      "text/html": [
       "<div>\n",
       "<style scoped>\n",
       "    .dataframe tbody tr th:only-of-type {\n",
       "        vertical-align: middle;\n",
       "    }\n",
       "\n",
       "    .dataframe tbody tr th {\n",
       "        vertical-align: top;\n",
       "    }\n",
       "\n",
       "    .dataframe thead th {\n",
       "        text-align: right;\n",
       "    }\n",
       "</style>\n",
       "<table border=\"1\" class=\"dataframe\">\n",
       "  <thead>\n",
       "    <tr style=\"text-align: right;\">\n",
       "      <th></th>\n",
       "      <th>ds</th>\n",
       "      <th>y</th>\n",
       "      <th>t_cv_56425000</th>\n",
       "      <th>t_cv_56338500</th>\n",
       "      <th>t_cv_56338080</th>\n",
       "      <th>t_cv_56110005</th>\n",
       "      <th>t_cv_56337200</th>\n",
       "      <th>t_cv_56337500</th>\n",
       "      <th>t_vz_56338500</th>\n",
       "      <th>t_vz_56110005</th>\n",
       "      <th>t_vz_56337200</th>\n",
       "      <th>t_vz_56337500</th>\n",
       "      <th>unique_id</th>\n",
       "    </tr>\n",
       "  </thead>\n",
       "  <tbody>\n",
       "    <tr>\n",
       "      <th>0</th>\n",
       "      <td>2013-01-01</td>\n",
       "      <td>82.787100</td>\n",
       "      <td>NaN</td>\n",
       "      <td>NaN</td>\n",
       "      <td>NaN</td>\n",
       "      <td>0.0</td>\n",
       "      <td>NaN</td>\n",
       "      <td>NaN</td>\n",
       "      <td>NaN</td>\n",
       "      <td>60.056100</td>\n",
       "      <td>NaN</td>\n",
       "      <td>NaN</td>\n",
       "      <td>1</td>\n",
       "    </tr>\n",
       "    <tr>\n",
       "      <th>1</th>\n",
       "      <td>2013-01-02</td>\n",
       "      <td>80.489300</td>\n",
       "      <td>NaN</td>\n",
       "      <td>NaN</td>\n",
       "      <td>NaN</td>\n",
       "      <td>0.0</td>\n",
       "      <td>NaN</td>\n",
       "      <td>NaN</td>\n",
       "      <td>NaN</td>\n",
       "      <td>46.950000</td>\n",
       "      <td>NaN</td>\n",
       "      <td>NaN</td>\n",
       "      <td>1</td>\n",
       "    </tr>\n",
       "    <tr>\n",
       "      <th>2</th>\n",
       "      <td>2013-01-03</td>\n",
       "      <td>78.214200</td>\n",
       "      <td>NaN</td>\n",
       "      <td>NaN</td>\n",
       "      <td>NaN</td>\n",
       "      <td>0.0</td>\n",
       "      <td>NaN</td>\n",
       "      <td>NaN</td>\n",
       "      <td>NaN</td>\n",
       "      <td>46.703125</td>\n",
       "      <td>NaN</td>\n",
       "      <td>NaN</td>\n",
       "      <td>1</td>\n",
       "    </tr>\n",
       "    <tr>\n",
       "      <th>3</th>\n",
       "      <td>2013-01-04</td>\n",
       "      <td>79.348900</td>\n",
       "      <td>NaN</td>\n",
       "      <td>NaN</td>\n",
       "      <td>NaN</td>\n",
       "      <td>0.0</td>\n",
       "      <td>NaN</td>\n",
       "      <td>NaN</td>\n",
       "      <td>NaN</td>\n",
       "      <td>49.239583</td>\n",
       "      <td>NaN</td>\n",
       "      <td>NaN</td>\n",
       "      <td>1</td>\n",
       "    </tr>\n",
       "    <tr>\n",
       "      <th>4</th>\n",
       "      <td>2013-01-05</td>\n",
       "      <td>129.161000</td>\n",
       "      <td>NaN</td>\n",
       "      <td>NaN</td>\n",
       "      <td>NaN</td>\n",
       "      <td>0.0</td>\n",
       "      <td>NaN</td>\n",
       "      <td>NaN</td>\n",
       "      <td>NaN</td>\n",
       "      <td>49.780208</td>\n",
       "      <td>NaN</td>\n",
       "      <td>NaN</td>\n",
       "      <td>1</td>\n",
       "    </tr>\n",
       "    <tr>\n",
       "      <th>...</th>\n",
       "      <td>...</td>\n",
       "      <td>...</td>\n",
       "      <td>...</td>\n",
       "      <td>...</td>\n",
       "      <td>...</td>\n",
       "      <td>...</td>\n",
       "      <td>...</td>\n",
       "      <td>...</td>\n",
       "      <td>...</td>\n",
       "      <td>...</td>\n",
       "      <td>...</td>\n",
       "      <td>...</td>\n",
       "      <td>...</td>\n",
       "    </tr>\n",
       "    <tr>\n",
       "      <th>4012</th>\n",
       "      <td>2023-12-27</td>\n",
       "      <td>88.370937</td>\n",
       "      <td>8.2</td>\n",
       "      <td>0.2</td>\n",
       "      <td>0.0</td>\n",
       "      <td>0.0</td>\n",
       "      <td>2.2</td>\n",
       "      <td>8.6</td>\n",
       "      <td>99.451667</td>\n",
       "      <td>70.568804</td>\n",
       "      <td>0.610000</td>\n",
       "      <td>28.053750</td>\n",
       "      <td>1</td>\n",
       "    </tr>\n",
       "    <tr>\n",
       "      <th>4013</th>\n",
       "      <td>2023-12-28</td>\n",
       "      <td>87.519375</td>\n",
       "      <td>2.0</td>\n",
       "      <td>1.2</td>\n",
       "      <td>0.0</td>\n",
       "      <td>0.0</td>\n",
       "      <td>0.0</td>\n",
       "      <td>0.8</td>\n",
       "      <td>93.551667</td>\n",
       "      <td>60.014457</td>\n",
       "      <td>33.753333</td>\n",
       "      <td>21.705417</td>\n",
       "      <td>1</td>\n",
       "    </tr>\n",
       "    <tr>\n",
       "      <th>4014</th>\n",
       "      <td>2023-12-29</td>\n",
       "      <td>76.317813</td>\n",
       "      <td>0.0</td>\n",
       "      <td>0.0</td>\n",
       "      <td>0.0</td>\n",
       "      <td>0.0</td>\n",
       "      <td>0.0</td>\n",
       "      <td>0.0</td>\n",
       "      <td>77.745652</td>\n",
       "      <td>49.910909</td>\n",
       "      <td>61.942917</td>\n",
       "      <td>21.022917</td>\n",
       "      <td>1</td>\n",
       "    </tr>\n",
       "    <tr>\n",
       "      <th>4015</th>\n",
       "      <td>2023-12-30</td>\n",
       "      <td>67.118542</td>\n",
       "      <td>14.8</td>\n",
       "      <td>3.4</td>\n",
       "      <td>0.0</td>\n",
       "      <td>3.0</td>\n",
       "      <td>4.8</td>\n",
       "      <td>19.8</td>\n",
       "      <td>70.258261</td>\n",
       "      <td>47.746848</td>\n",
       "      <td>58.080000</td>\n",
       "      <td>22.252500</td>\n",
       "      <td>1</td>\n",
       "    </tr>\n",
       "    <tr>\n",
       "      <th>4016</th>\n",
       "      <td>2023-12-31</td>\n",
       "      <td>78.308542</td>\n",
       "      <td>0.2</td>\n",
       "      <td>1.0</td>\n",
       "      <td>0.0</td>\n",
       "      <td>1.2</td>\n",
       "      <td>1.0</td>\n",
       "      <td>0.2</td>\n",
       "      <td>89.831667</td>\n",
       "      <td>46.504688</td>\n",
       "      <td>58.267500</td>\n",
       "      <td>39.221905</td>\n",
       "      <td>1</td>\n",
       "    </tr>\n",
       "  </tbody>\n",
       "</table>\n",
       "<p>4017 rows × 13 columns</p>\n",
       "</div>"
      ],
      "text/plain": [
       "             ds           y  t_cv_56425000  t_cv_56338500  t_cv_56338080  \\\n",
       "0    2013-01-01   82.787100            NaN            NaN            NaN   \n",
       "1    2013-01-02   80.489300            NaN            NaN            NaN   \n",
       "2    2013-01-03   78.214200            NaN            NaN            NaN   \n",
       "3    2013-01-04   79.348900            NaN            NaN            NaN   \n",
       "4    2013-01-05  129.161000            NaN            NaN            NaN   \n",
       "...         ...         ...            ...            ...            ...   \n",
       "4012 2023-12-27   88.370937            8.2            0.2            0.0   \n",
       "4013 2023-12-28   87.519375            2.0            1.2            0.0   \n",
       "4014 2023-12-29   76.317813            0.0            0.0            0.0   \n",
       "4015 2023-12-30   67.118542           14.8            3.4            0.0   \n",
       "4016 2023-12-31   78.308542            0.2            1.0            0.0   \n",
       "\n",
       "      t_cv_56110005  t_cv_56337200  t_cv_56337500  t_vz_56338500  \\\n",
       "0               0.0            NaN            NaN            NaN   \n",
       "1               0.0            NaN            NaN            NaN   \n",
       "2               0.0            NaN            NaN            NaN   \n",
       "3               0.0            NaN            NaN            NaN   \n",
       "4               0.0            NaN            NaN            NaN   \n",
       "...             ...            ...            ...            ...   \n",
       "4012            0.0            2.2            8.6      99.451667   \n",
       "4013            0.0            0.0            0.8      93.551667   \n",
       "4014            0.0            0.0            0.0      77.745652   \n",
       "4015            3.0            4.8           19.8      70.258261   \n",
       "4016            1.2            1.0            0.2      89.831667   \n",
       "\n",
       "      t_vz_56110005  t_vz_56337200  t_vz_56337500  unique_id  \n",
       "0         60.056100            NaN            NaN          1  \n",
       "1         46.950000            NaN            NaN          1  \n",
       "2         46.703125            NaN            NaN          1  \n",
       "3         49.239583            NaN            NaN          1  \n",
       "4         49.780208            NaN            NaN          1  \n",
       "...             ...            ...            ...        ...  \n",
       "4012      70.568804       0.610000      28.053750          1  \n",
       "4013      60.014457      33.753333      21.705417          1  \n",
       "4014      49.910909      61.942917      21.022917          1  \n",
       "4015      47.746848      58.080000      22.252500          1  \n",
       "4016      46.504688      58.267500      39.221905          1  \n",
       "\n",
       "[4017 rows x 13 columns]"
      ]
     },
     "execution_count": 28,
     "metadata": {},
     "output_type": "execute_result"
    }
   ],
   "source": [
    "# Só reordenando a posição das colunas pra ficar mais fácil de ler e entender\n",
    "df = df[['c_vz_56425000', 't_cv_56425000', 't_cv_56338500', 't_cv_56338080', 't_cv_56110005', 't_cv_56337200', 't_cv_56337500', 't_vz_56338500', 't_vz_56110005', 't_vz_56337200', 't_vz_56337500']]\n",
    "\n",
    "# Deixando o DataFrame no padrão que a lib MLForecast entende\n",
    "df['unique_id'] = 1\n",
    "df = df.reset_index()\n",
    "df = df.rename(columns={'Data' : 'ds',\n",
    "                        'c_vz_56425000' : 'y'})\n",
    "\n",
    "df"
   ]
  },
  {
   "cell_type": "code",
   "execution_count": 29,
   "metadata": {},
   "outputs": [],
   "source": [
    "# Percentual de dados faltantes, por coluna\n",
    "\n",
    "# print(100*df.drop(columns=['ds', 'unique_id']).isna().sum() / len(df))"
   ]
  },
  {
   "cell_type": "markdown",
   "metadata": {},
   "source": [
    "##### Preenchendo com a média"
   ]
  },
  {
   "cell_type": "code",
   "execution_count": 30,
   "metadata": {},
   "outputs": [],
   "source": [
    "# df_media = df.fillna(df.mean())\n",
    "# df_media"
   ]
  },
  {
   "cell_type": "markdown",
   "metadata": {},
   "source": [
    "##### Preenchendo com o KNNImputer"
   ]
  },
  {
   "cell_type": "code",
   "execution_count": 31,
   "metadata": {
    "notebookRunGroups": {
     "groupValue": "12"
    }
   },
   "outputs": [
    {
     "data": {
      "text/html": [
       "<div>\n",
       "<style scoped>\n",
       "    .dataframe tbody tr th:only-of-type {\n",
       "        vertical-align: middle;\n",
       "    }\n",
       "\n",
       "    .dataframe tbody tr th {\n",
       "        vertical-align: top;\n",
       "    }\n",
       "\n",
       "    .dataframe thead th {\n",
       "        text-align: right;\n",
       "    }\n",
       "</style>\n",
       "<table border=\"1\" class=\"dataframe\">\n",
       "  <thead>\n",
       "    <tr style=\"text-align: right;\">\n",
       "      <th></th>\n",
       "      <th>ds</th>\n",
       "      <th>unique_id</th>\n",
       "      <th>y</th>\n",
       "      <th>t_cv_56425000</th>\n",
       "      <th>t_cv_56338500</th>\n",
       "      <th>t_cv_56338080</th>\n",
       "      <th>t_cv_56110005</th>\n",
       "      <th>t_cv_56337200</th>\n",
       "      <th>t_cv_56337500</th>\n",
       "      <th>t_vz_56338500</th>\n",
       "      <th>t_vz_56110005</th>\n",
       "      <th>t_vz_56337200</th>\n",
       "      <th>t_vz_56337500</th>\n",
       "    </tr>\n",
       "  </thead>\n",
       "  <tbody>\n",
       "    <tr>\n",
       "      <th>0</th>\n",
       "      <td>2013-01-01</td>\n",
       "      <td>1</td>\n",
       "      <td>82.787100</td>\n",
       "      <td>0.241148</td>\n",
       "      <td>0.202105</td>\n",
       "      <td>0.0</td>\n",
       "      <td>0.0</td>\n",
       "      <td>0.437702</td>\n",
       "      <td>0.551181</td>\n",
       "      <td>79.298366</td>\n",
       "      <td>60.056100</td>\n",
       "      <td>49.154342</td>\n",
       "      <td>29.104130</td>\n",
       "    </tr>\n",
       "    <tr>\n",
       "      <th>1</th>\n",
       "      <td>2013-01-02</td>\n",
       "      <td>1</td>\n",
       "      <td>80.489300</td>\n",
       "      <td>0.174561</td>\n",
       "      <td>0.024937</td>\n",
       "      <td>0.0</td>\n",
       "      <td>0.0</td>\n",
       "      <td>0.168651</td>\n",
       "      <td>0.000000</td>\n",
       "      <td>80.660440</td>\n",
       "      <td>46.950000</td>\n",
       "      <td>34.521715</td>\n",
       "      <td>41.121955</td>\n",
       "    </tr>\n",
       "    <tr>\n",
       "      <th>2</th>\n",
       "      <td>2013-01-03</td>\n",
       "      <td>1</td>\n",
       "      <td>78.214200</td>\n",
       "      <td>0.588994</td>\n",
       "      <td>0.848283</td>\n",
       "      <td>0.0</td>\n",
       "      <td>0.0</td>\n",
       "      <td>0.322936</td>\n",
       "      <td>0.566388</td>\n",
       "      <td>82.201442</td>\n",
       "      <td>46.703125</td>\n",
       "      <td>38.586211</td>\n",
       "      <td>51.963603</td>\n",
       "    </tr>\n",
       "    <tr>\n",
       "      <th>3</th>\n",
       "      <td>2013-01-04</td>\n",
       "      <td>1</td>\n",
       "      <td>79.348900</td>\n",
       "      <td>0.317681</td>\n",
       "      <td>0.425111</td>\n",
       "      <td>0.0</td>\n",
       "      <td>0.0</td>\n",
       "      <td>0.093011</td>\n",
       "      <td>0.288712</td>\n",
       "      <td>76.099995</td>\n",
       "      <td>49.239583</td>\n",
       "      <td>48.206779</td>\n",
       "      <td>17.611111</td>\n",
       "    </tr>\n",
       "    <tr>\n",
       "      <th>4</th>\n",
       "      <td>2013-01-05</td>\n",
       "      <td>1</td>\n",
       "      <td>129.161000</td>\n",
       "      <td>2.034343</td>\n",
       "      <td>0.869555</td>\n",
       "      <td>0.0</td>\n",
       "      <td>0.0</td>\n",
       "      <td>1.522630</td>\n",
       "      <td>1.933175</td>\n",
       "      <td>108.219680</td>\n",
       "      <td>49.780208</td>\n",
       "      <td>63.708133</td>\n",
       "      <td>22.068745</td>\n",
       "    </tr>\n",
       "    <tr>\n",
       "      <th>...</th>\n",
       "      <td>...</td>\n",
       "      <td>...</td>\n",
       "      <td>...</td>\n",
       "      <td>...</td>\n",
       "      <td>...</td>\n",
       "      <td>...</td>\n",
       "      <td>...</td>\n",
       "      <td>...</td>\n",
       "      <td>...</td>\n",
       "      <td>...</td>\n",
       "      <td>...</td>\n",
       "      <td>...</td>\n",
       "      <td>...</td>\n",
       "    </tr>\n",
       "    <tr>\n",
       "      <th>4012</th>\n",
       "      <td>2023-12-27</td>\n",
       "      <td>1</td>\n",
       "      <td>88.370937</td>\n",
       "      <td>8.200000</td>\n",
       "      <td>0.200000</td>\n",
       "      <td>0.0</td>\n",
       "      <td>0.0</td>\n",
       "      <td>2.200000</td>\n",
       "      <td>8.600000</td>\n",
       "      <td>99.451667</td>\n",
       "      <td>70.568804</td>\n",
       "      <td>0.610000</td>\n",
       "      <td>28.053750</td>\n",
       "    </tr>\n",
       "    <tr>\n",
       "      <th>4013</th>\n",
       "      <td>2023-12-28</td>\n",
       "      <td>1</td>\n",
       "      <td>87.519375</td>\n",
       "      <td>2.000000</td>\n",
       "      <td>1.200000</td>\n",
       "      <td>0.0</td>\n",
       "      <td>0.0</td>\n",
       "      <td>0.000000</td>\n",
       "      <td>0.800000</td>\n",
       "      <td>93.551667</td>\n",
       "      <td>60.014457</td>\n",
       "      <td>33.753333</td>\n",
       "      <td>21.705417</td>\n",
       "    </tr>\n",
       "    <tr>\n",
       "      <th>4014</th>\n",
       "      <td>2023-12-29</td>\n",
       "      <td>1</td>\n",
       "      <td>76.317813</td>\n",
       "      <td>0.000000</td>\n",
       "      <td>0.000000</td>\n",
       "      <td>0.0</td>\n",
       "      <td>0.0</td>\n",
       "      <td>0.000000</td>\n",
       "      <td>0.000000</td>\n",
       "      <td>77.745652</td>\n",
       "      <td>49.910909</td>\n",
       "      <td>61.942917</td>\n",
       "      <td>21.022917</td>\n",
       "    </tr>\n",
       "    <tr>\n",
       "      <th>4015</th>\n",
       "      <td>2023-12-30</td>\n",
       "      <td>1</td>\n",
       "      <td>67.118542</td>\n",
       "      <td>14.800000</td>\n",
       "      <td>3.400000</td>\n",
       "      <td>0.0</td>\n",
       "      <td>3.0</td>\n",
       "      <td>4.800000</td>\n",
       "      <td>19.800000</td>\n",
       "      <td>70.258261</td>\n",
       "      <td>47.746848</td>\n",
       "      <td>58.080000</td>\n",
       "      <td>22.252500</td>\n",
       "    </tr>\n",
       "    <tr>\n",
       "      <th>4016</th>\n",
       "      <td>2023-12-31</td>\n",
       "      <td>1</td>\n",
       "      <td>78.308542</td>\n",
       "      <td>0.200000</td>\n",
       "      <td>1.000000</td>\n",
       "      <td>0.0</td>\n",
       "      <td>1.2</td>\n",
       "      <td>1.000000</td>\n",
       "      <td>0.200000</td>\n",
       "      <td>89.831667</td>\n",
       "      <td>46.504688</td>\n",
       "      <td>58.267500</td>\n",
       "      <td>39.221905</td>\n",
       "    </tr>\n",
       "  </tbody>\n",
       "</table>\n",
       "<p>4017 rows × 13 columns</p>\n",
       "</div>"
      ],
      "text/plain": [
       "             ds  unique_id           y  t_cv_56425000  t_cv_56338500  \\\n",
       "0    2013-01-01          1   82.787100       0.241148       0.202105   \n",
       "1    2013-01-02          1   80.489300       0.174561       0.024937   \n",
       "2    2013-01-03          1   78.214200       0.588994       0.848283   \n",
       "3    2013-01-04          1   79.348900       0.317681       0.425111   \n",
       "4    2013-01-05          1  129.161000       2.034343       0.869555   \n",
       "...         ...        ...         ...            ...            ...   \n",
       "4012 2023-12-27          1   88.370937       8.200000       0.200000   \n",
       "4013 2023-12-28          1   87.519375       2.000000       1.200000   \n",
       "4014 2023-12-29          1   76.317813       0.000000       0.000000   \n",
       "4015 2023-12-30          1   67.118542      14.800000       3.400000   \n",
       "4016 2023-12-31          1   78.308542       0.200000       1.000000   \n",
       "\n",
       "      t_cv_56338080  t_cv_56110005  t_cv_56337200  t_cv_56337500  \\\n",
       "0               0.0            0.0       0.437702       0.551181   \n",
       "1               0.0            0.0       0.168651       0.000000   \n",
       "2               0.0            0.0       0.322936       0.566388   \n",
       "3               0.0            0.0       0.093011       0.288712   \n",
       "4               0.0            0.0       1.522630       1.933175   \n",
       "...             ...            ...            ...            ...   \n",
       "4012            0.0            0.0       2.200000       8.600000   \n",
       "4013            0.0            0.0       0.000000       0.800000   \n",
       "4014            0.0            0.0       0.000000       0.000000   \n",
       "4015            0.0            3.0       4.800000      19.800000   \n",
       "4016            0.0            1.2       1.000000       0.200000   \n",
       "\n",
       "      t_vz_56338500  t_vz_56110005  t_vz_56337200  t_vz_56337500  \n",
       "0         79.298366      60.056100      49.154342      29.104130  \n",
       "1         80.660440      46.950000      34.521715      41.121955  \n",
       "2         82.201442      46.703125      38.586211      51.963603  \n",
       "3         76.099995      49.239583      48.206779      17.611111  \n",
       "4        108.219680      49.780208      63.708133      22.068745  \n",
       "...             ...            ...            ...            ...  \n",
       "4012      99.451667      70.568804       0.610000      28.053750  \n",
       "4013      93.551667      60.014457      33.753333      21.705417  \n",
       "4014      77.745652      49.910909      61.942917      21.022917  \n",
       "4015      70.258261      47.746848      58.080000      22.252500  \n",
       "4016      89.831667      46.504688      58.267500      39.221905  \n",
       "\n",
       "[4017 rows x 13 columns]"
      ]
     },
     "execution_count": 31,
     "metadata": {},
     "output_type": "execute_result"
    }
   ],
   "source": [
    "# Recomendam aplicar um scaling antes de imputar com o KNNImputer, mas nos testes que realizei deu nenhuma diferença nos resultados\n",
    "# Então vou reduzir a engenharia de programação e não usar scaling\n",
    "\n",
    "imputer = KNNImputer(n_neighbors=7, weights='distance')\n",
    "df_knn = pd.DataFrame(imputer.fit_transform(df.drop(columns=['ds', 'unique_id'])), columns=df.drop(columns=['ds', 'unique_id']).columns)\n",
    "df_knn = pd.DataFrame(df_knn, columns=df.drop(columns=['ds', 'unique_id']).columns)\n",
    "df_knn = pd.concat([df[['ds', 'unique_id']], df_knn], axis=1)\n",
    "df_knn"
   ]
  },
  {
   "cell_type": "markdown",
   "metadata": {},
   "source": [
    "##### Distribuição comparada"
   ]
  },
  {
   "cell_type": "code",
   "execution_count": 32,
   "metadata": {},
   "outputs": [],
   "source": [
    "# distribuicao_dados(df_original=df, df_media=df_media, df_knn=df_knn)"
   ]
  },
  {
   "cell_type": "markdown",
   "metadata": {},
   "source": [
    "Vou utilizar os dados advindos do KNNImputer. Os dados ficaram melhor distribuídos utilizando essa técnica.\n",
    "\n",
    "Aproveito para remover também a coluna 't_cv_56338080'. A distribuição dos dados nesta coluna continua muito ruim."
   ]
  },
  {
   "cell_type": "code",
   "execution_count": 33,
   "metadata": {
    "notebookRunGroups": {
     "groupValue": "12"
    }
   },
   "outputs": [],
   "source": [
    "df_knn = df_knn.drop(columns=['t_cv_56338080'])"
   ]
  },
  {
   "cell_type": "markdown",
   "metadata": {},
   "source": [
    "##### Separando dados para 'X' e 'y'\n",
    "\n",
    "Não sei se vai ser necessário usá-los, mas já deixo aqui pra caso precise"
   ]
  },
  {
   "cell_type": "code",
   "execution_count": 34,
   "metadata": {
    "notebookRunGroups": {
     "groupValue": ""
    }
   },
   "outputs": [
    {
     "data": {
      "text/plain": [
       "Index(['ds', 'unique_id', 'y', 't_cv_56425000', 't_cv_56338500',\n",
       "       't_cv_56110005', 't_cv_56337200', 't_cv_56337500', 't_vz_56338500',\n",
       "       't_vz_56110005', 't_vz_56337200', 't_vz_56337500'],\n",
       "      dtype='object')"
      ]
     },
     "execution_count": 34,
     "metadata": {},
     "output_type": "execute_result"
    }
   ],
   "source": [
    "df_knn.columns"
   ]
  },
  {
   "cell_type": "code",
   "execution_count": 35,
   "metadata": {
    "notebookRunGroups": {
     "groupValue": "12"
    }
   },
   "outputs": [],
   "source": [
    "df_X = df_knn.drop(columns=['y'])\n",
    "df_y = df_knn[['ds', 'y', 'unique_id']]"
   ]
  },
  {
   "cell_type": "code",
   "execution_count": 36,
   "metadata": {},
   "outputs": [
    {
     "data": {
      "text/html": [
       "<div>\n",
       "<style scoped>\n",
       "    .dataframe tbody tr th:only-of-type {\n",
       "        vertical-align: middle;\n",
       "    }\n",
       "\n",
       "    .dataframe tbody tr th {\n",
       "        vertical-align: top;\n",
       "    }\n",
       "\n",
       "    .dataframe thead th {\n",
       "        text-align: right;\n",
       "    }\n",
       "</style>\n",
       "<table border=\"1\" class=\"dataframe\">\n",
       "  <thead>\n",
       "    <tr style=\"text-align: right;\">\n",
       "      <th></th>\n",
       "      <th>ds</th>\n",
       "      <th>unique_id</th>\n",
       "      <th>t_cv_56425000</th>\n",
       "      <th>t_cv_56338500</th>\n",
       "      <th>t_cv_56110005</th>\n",
       "      <th>t_cv_56337200</th>\n",
       "      <th>t_cv_56337500</th>\n",
       "      <th>t_vz_56338500</th>\n",
       "      <th>t_vz_56110005</th>\n",
       "      <th>t_vz_56337200</th>\n",
       "      <th>t_vz_56337500</th>\n",
       "    </tr>\n",
       "  </thead>\n",
       "  <tbody>\n",
       "    <tr>\n",
       "      <th>0</th>\n",
       "      <td>2013-01-01</td>\n",
       "      <td>1</td>\n",
       "      <td>0.241148</td>\n",
       "      <td>0.202105</td>\n",
       "      <td>0.0</td>\n",
       "      <td>0.437702</td>\n",
       "      <td>0.551181</td>\n",
       "      <td>79.298366</td>\n",
       "      <td>60.056100</td>\n",
       "      <td>49.154342</td>\n",
       "      <td>29.104130</td>\n",
       "    </tr>\n",
       "    <tr>\n",
       "      <th>1</th>\n",
       "      <td>2013-01-02</td>\n",
       "      <td>1</td>\n",
       "      <td>0.174561</td>\n",
       "      <td>0.024937</td>\n",
       "      <td>0.0</td>\n",
       "      <td>0.168651</td>\n",
       "      <td>0.000000</td>\n",
       "      <td>80.660440</td>\n",
       "      <td>46.950000</td>\n",
       "      <td>34.521715</td>\n",
       "      <td>41.121955</td>\n",
       "    </tr>\n",
       "    <tr>\n",
       "      <th>2</th>\n",
       "      <td>2013-01-03</td>\n",
       "      <td>1</td>\n",
       "      <td>0.588994</td>\n",
       "      <td>0.848283</td>\n",
       "      <td>0.0</td>\n",
       "      <td>0.322936</td>\n",
       "      <td>0.566388</td>\n",
       "      <td>82.201442</td>\n",
       "      <td>46.703125</td>\n",
       "      <td>38.586211</td>\n",
       "      <td>51.963603</td>\n",
       "    </tr>\n",
       "    <tr>\n",
       "      <th>3</th>\n",
       "      <td>2013-01-04</td>\n",
       "      <td>1</td>\n",
       "      <td>0.317681</td>\n",
       "      <td>0.425111</td>\n",
       "      <td>0.0</td>\n",
       "      <td>0.093011</td>\n",
       "      <td>0.288712</td>\n",
       "      <td>76.099995</td>\n",
       "      <td>49.239583</td>\n",
       "      <td>48.206779</td>\n",
       "      <td>17.611111</td>\n",
       "    </tr>\n",
       "    <tr>\n",
       "      <th>4</th>\n",
       "      <td>2013-01-05</td>\n",
       "      <td>1</td>\n",
       "      <td>2.034343</td>\n",
       "      <td>0.869555</td>\n",
       "      <td>0.0</td>\n",
       "      <td>1.522630</td>\n",
       "      <td>1.933175</td>\n",
       "      <td>108.219680</td>\n",
       "      <td>49.780208</td>\n",
       "      <td>63.708133</td>\n",
       "      <td>22.068745</td>\n",
       "    </tr>\n",
       "    <tr>\n",
       "      <th>...</th>\n",
       "      <td>...</td>\n",
       "      <td>...</td>\n",
       "      <td>...</td>\n",
       "      <td>...</td>\n",
       "      <td>...</td>\n",
       "      <td>...</td>\n",
       "      <td>...</td>\n",
       "      <td>...</td>\n",
       "      <td>...</td>\n",
       "      <td>...</td>\n",
       "      <td>...</td>\n",
       "    </tr>\n",
       "    <tr>\n",
       "      <th>4012</th>\n",
       "      <td>2023-12-27</td>\n",
       "      <td>1</td>\n",
       "      <td>8.200000</td>\n",
       "      <td>0.200000</td>\n",
       "      <td>0.0</td>\n",
       "      <td>2.200000</td>\n",
       "      <td>8.600000</td>\n",
       "      <td>99.451667</td>\n",
       "      <td>70.568804</td>\n",
       "      <td>0.610000</td>\n",
       "      <td>28.053750</td>\n",
       "    </tr>\n",
       "    <tr>\n",
       "      <th>4013</th>\n",
       "      <td>2023-12-28</td>\n",
       "      <td>1</td>\n",
       "      <td>2.000000</td>\n",
       "      <td>1.200000</td>\n",
       "      <td>0.0</td>\n",
       "      <td>0.000000</td>\n",
       "      <td>0.800000</td>\n",
       "      <td>93.551667</td>\n",
       "      <td>60.014457</td>\n",
       "      <td>33.753333</td>\n",
       "      <td>21.705417</td>\n",
       "    </tr>\n",
       "    <tr>\n",
       "      <th>4014</th>\n",
       "      <td>2023-12-29</td>\n",
       "      <td>1</td>\n",
       "      <td>0.000000</td>\n",
       "      <td>0.000000</td>\n",
       "      <td>0.0</td>\n",
       "      <td>0.000000</td>\n",
       "      <td>0.000000</td>\n",
       "      <td>77.745652</td>\n",
       "      <td>49.910909</td>\n",
       "      <td>61.942917</td>\n",
       "      <td>21.022917</td>\n",
       "    </tr>\n",
       "    <tr>\n",
       "      <th>4015</th>\n",
       "      <td>2023-12-30</td>\n",
       "      <td>1</td>\n",
       "      <td>14.800000</td>\n",
       "      <td>3.400000</td>\n",
       "      <td>3.0</td>\n",
       "      <td>4.800000</td>\n",
       "      <td>19.800000</td>\n",
       "      <td>70.258261</td>\n",
       "      <td>47.746848</td>\n",
       "      <td>58.080000</td>\n",
       "      <td>22.252500</td>\n",
       "    </tr>\n",
       "    <tr>\n",
       "      <th>4016</th>\n",
       "      <td>2023-12-31</td>\n",
       "      <td>1</td>\n",
       "      <td>0.200000</td>\n",
       "      <td>1.000000</td>\n",
       "      <td>1.2</td>\n",
       "      <td>1.000000</td>\n",
       "      <td>0.200000</td>\n",
       "      <td>89.831667</td>\n",
       "      <td>46.504688</td>\n",
       "      <td>58.267500</td>\n",
       "      <td>39.221905</td>\n",
       "    </tr>\n",
       "  </tbody>\n",
       "</table>\n",
       "<p>4017 rows × 11 columns</p>\n",
       "</div>"
      ],
      "text/plain": [
       "             ds  unique_id  t_cv_56425000  t_cv_56338500  t_cv_56110005  \\\n",
       "0    2013-01-01          1       0.241148       0.202105            0.0   \n",
       "1    2013-01-02          1       0.174561       0.024937            0.0   \n",
       "2    2013-01-03          1       0.588994       0.848283            0.0   \n",
       "3    2013-01-04          1       0.317681       0.425111            0.0   \n",
       "4    2013-01-05          1       2.034343       0.869555            0.0   \n",
       "...         ...        ...            ...            ...            ...   \n",
       "4012 2023-12-27          1       8.200000       0.200000            0.0   \n",
       "4013 2023-12-28          1       2.000000       1.200000            0.0   \n",
       "4014 2023-12-29          1       0.000000       0.000000            0.0   \n",
       "4015 2023-12-30          1      14.800000       3.400000            3.0   \n",
       "4016 2023-12-31          1       0.200000       1.000000            1.2   \n",
       "\n",
       "      t_cv_56337200  t_cv_56337500  t_vz_56338500  t_vz_56110005  \\\n",
       "0          0.437702       0.551181      79.298366      60.056100   \n",
       "1          0.168651       0.000000      80.660440      46.950000   \n",
       "2          0.322936       0.566388      82.201442      46.703125   \n",
       "3          0.093011       0.288712      76.099995      49.239583   \n",
       "4          1.522630       1.933175     108.219680      49.780208   \n",
       "...             ...            ...            ...            ...   \n",
       "4012       2.200000       8.600000      99.451667      70.568804   \n",
       "4013       0.000000       0.800000      93.551667      60.014457   \n",
       "4014       0.000000       0.000000      77.745652      49.910909   \n",
       "4015       4.800000      19.800000      70.258261      47.746848   \n",
       "4016       1.000000       0.200000      89.831667      46.504688   \n",
       "\n",
       "      t_vz_56337200  t_vz_56337500  \n",
       "0         49.154342      29.104130  \n",
       "1         34.521715      41.121955  \n",
       "2         38.586211      51.963603  \n",
       "3         48.206779      17.611111  \n",
       "4         63.708133      22.068745  \n",
       "...             ...            ...  \n",
       "4012       0.610000      28.053750  \n",
       "4013      33.753333      21.705417  \n",
       "4014      61.942917      21.022917  \n",
       "4015      58.080000      22.252500  \n",
       "4016      58.267500      39.221905  \n",
       "\n",
       "[4017 rows x 11 columns]"
      ]
     },
     "execution_count": 36,
     "metadata": {},
     "output_type": "execute_result"
    }
   ],
   "source": [
    "df_X"
   ]
  },
  {
   "cell_type": "code",
   "execution_count": 37,
   "metadata": {},
   "outputs": [
    {
     "data": {
      "text/html": [
       "<div>\n",
       "<style scoped>\n",
       "    .dataframe tbody tr th:only-of-type {\n",
       "        vertical-align: middle;\n",
       "    }\n",
       "\n",
       "    .dataframe tbody tr th {\n",
       "        vertical-align: top;\n",
       "    }\n",
       "\n",
       "    .dataframe thead th {\n",
       "        text-align: right;\n",
       "    }\n",
       "</style>\n",
       "<table border=\"1\" class=\"dataframe\">\n",
       "  <thead>\n",
       "    <tr style=\"text-align: right;\">\n",
       "      <th></th>\n",
       "      <th>ds</th>\n",
       "      <th>y</th>\n",
       "      <th>unique_id</th>\n",
       "    </tr>\n",
       "  </thead>\n",
       "  <tbody>\n",
       "    <tr>\n",
       "      <th>0</th>\n",
       "      <td>2013-01-01</td>\n",
       "      <td>82.787100</td>\n",
       "      <td>1</td>\n",
       "    </tr>\n",
       "    <tr>\n",
       "      <th>1</th>\n",
       "      <td>2013-01-02</td>\n",
       "      <td>80.489300</td>\n",
       "      <td>1</td>\n",
       "    </tr>\n",
       "    <tr>\n",
       "      <th>2</th>\n",
       "      <td>2013-01-03</td>\n",
       "      <td>78.214200</td>\n",
       "      <td>1</td>\n",
       "    </tr>\n",
       "    <tr>\n",
       "      <th>3</th>\n",
       "      <td>2013-01-04</td>\n",
       "      <td>79.348900</td>\n",
       "      <td>1</td>\n",
       "    </tr>\n",
       "    <tr>\n",
       "      <th>4</th>\n",
       "      <td>2013-01-05</td>\n",
       "      <td>129.161000</td>\n",
       "      <td>1</td>\n",
       "    </tr>\n",
       "    <tr>\n",
       "      <th>...</th>\n",
       "      <td>...</td>\n",
       "      <td>...</td>\n",
       "      <td>...</td>\n",
       "    </tr>\n",
       "    <tr>\n",
       "      <th>4012</th>\n",
       "      <td>2023-12-27</td>\n",
       "      <td>88.370937</td>\n",
       "      <td>1</td>\n",
       "    </tr>\n",
       "    <tr>\n",
       "      <th>4013</th>\n",
       "      <td>2023-12-28</td>\n",
       "      <td>87.519375</td>\n",
       "      <td>1</td>\n",
       "    </tr>\n",
       "    <tr>\n",
       "      <th>4014</th>\n",
       "      <td>2023-12-29</td>\n",
       "      <td>76.317813</td>\n",
       "      <td>1</td>\n",
       "    </tr>\n",
       "    <tr>\n",
       "      <th>4015</th>\n",
       "      <td>2023-12-30</td>\n",
       "      <td>67.118542</td>\n",
       "      <td>1</td>\n",
       "    </tr>\n",
       "    <tr>\n",
       "      <th>4016</th>\n",
       "      <td>2023-12-31</td>\n",
       "      <td>78.308542</td>\n",
       "      <td>1</td>\n",
       "    </tr>\n",
       "  </tbody>\n",
       "</table>\n",
       "<p>4017 rows × 3 columns</p>\n",
       "</div>"
      ],
      "text/plain": [
       "             ds           y  unique_id\n",
       "0    2013-01-01   82.787100          1\n",
       "1    2013-01-02   80.489300          1\n",
       "2    2013-01-03   78.214200          1\n",
       "3    2013-01-04   79.348900          1\n",
       "4    2013-01-05  129.161000          1\n",
       "...         ...         ...        ...\n",
       "4012 2023-12-27   88.370937          1\n",
       "4013 2023-12-28   87.519375          1\n",
       "4014 2023-12-29   76.317813          1\n",
       "4015 2023-12-30   67.118542          1\n",
       "4016 2023-12-31   78.308542          1\n",
       "\n",
       "[4017 rows x 3 columns]"
      ]
     },
     "execution_count": 37,
     "metadata": {},
     "output_type": "execute_result"
    }
   ],
   "source": [
    "df_y"
   ]
  },
  {
   "cell_type": "markdown",
   "metadata": {},
   "source": [
    "## Análise exploratória dos dados"
   ]
  },
  {
   "cell_type": "markdown",
   "metadata": {},
   "source": [
    "### Decomposição das Séries Temporais\n",
    "\n",
    "A decomposição das séries temporais ajuda a detectar padrões (tendência, sazonalidade) e identificar outras informações que podem ajudar na interpretação do que está acontecendo.\n",
    "\n",
    "Executei a tarefa no atributo \"df\" pois isso me garante que estou tratando dos dados originais, sem alteração nenhuma, vindos do arquivo CSV."
   ]
  },
  {
   "cell_type": "code",
   "execution_count": 38,
   "metadata": {},
   "outputs": [],
   "source": [
    "decomp_series(df=df_knn)"
   ]
  },
  {
   "cell_type": "markdown",
   "metadata": {},
   "source": [
    "### Estacionariedade"
   ]
  },
  {
   "cell_type": "code",
   "execution_count": 39,
   "metadata": {
    "scrolled": true
   },
   "outputs": [
    {
     "name": "stdout",
     "output_type": "stream",
     "text": [
      "y True\n",
      "y [365]\n",
      "t_cv_56425000 True\n",
      "t_cv_56425000 [365]\n",
      "t_cv_56338500 True\n",
      "t_cv_56338500 [365]\n",
      "t_cv_56110005 True\n",
      "t_cv_56110005 [365]\n",
      "t_cv_56337200 True\n",
      "t_cv_56337200 [365]\n",
      "t_cv_56337500 True\n",
      "t_cv_56337500 [365]\n",
      "t_vz_56338500 True\n",
      "t_vz_56338500 [365]\n",
      "t_vz_56110005 True\n",
      "t_vz_56110005 [365]\n",
      "t_vz_56337200 True\n",
      "t_vz_56337200 [365]\n",
      "t_vz_56337500 True\n",
      "t_vz_56337500 []\n"
     ]
    }
   ],
   "source": [
    "estacionariedade(df=df_knn, sp=365)"
   ]
  },
  {
   "cell_type": "markdown",
   "metadata": {},
   "source": [
    "A série 't_vz_56337500' é estacionária, contudo, na lag 365 ela não apresenta sazonalidade."
   ]
  },
  {
   "cell_type": "markdown",
   "metadata": {},
   "source": [
    "### Correlação entre as séries"
   ]
  },
  {
   "cell_type": "code",
   "execution_count": 40,
   "metadata": {},
   "outputs": [],
   "source": [
    "mapa_correlacao(df=df_knn)"
   ]
  },
  {
   "cell_type": "code",
   "execution_count": 41,
   "metadata": {},
   "outputs": [],
   "source": [
    "# Usando o sweetviz para avaliar\n",
    "# import sweetviz as sv\n",
    "# analyze_report = sv.analyze(df_knn)\n",
    "# analyze_report.show_html('analyze.html', open_browser=True)\n",
    "\n",
    "# Apresentando os resultados (serve apenas para usar no Google Colab)\n",
    "# import IPython\n",
    "# IPython.display.HTML('analyze.html')"
   ]
  },
  {
   "cell_type": "code",
   "execution_count": 42,
   "metadata": {
    "notebookRunGroups": {
     "groupValue": "12"
    }
   },
   "outputs": [],
   "source": [
    "# Preferi jogar os dados alterados para um novo DataFrame porque se precisar voltar no DataFrame inicial, não precisará regarregar o arquivo\n",
    "df_aux = df_knn.copy()"
   ]
  },
  {
   "cell_type": "code",
   "execution_count": 43,
   "metadata": {},
   "outputs": [
    {
     "data": {
      "text/html": [
       "<div>\n",
       "<style scoped>\n",
       "    .dataframe tbody tr th:only-of-type {\n",
       "        vertical-align: middle;\n",
       "    }\n",
       "\n",
       "    .dataframe tbody tr th {\n",
       "        vertical-align: top;\n",
       "    }\n",
       "\n",
       "    .dataframe thead th {\n",
       "        text-align: right;\n",
       "    }\n",
       "</style>\n",
       "<table border=\"1\" class=\"dataframe\">\n",
       "  <thead>\n",
       "    <tr style=\"text-align: right;\">\n",
       "      <th></th>\n",
       "      <th>y</th>\n",
       "      <th>t_cv_56425000</th>\n",
       "      <th>t_cv_56338500</th>\n",
       "      <th>t_cv_56110005</th>\n",
       "      <th>t_cv_56337200</th>\n",
       "      <th>t_cv_56337500</th>\n",
       "      <th>t_vz_56338500</th>\n",
       "      <th>t_vz_56110005</th>\n",
       "      <th>t_vz_56337200</th>\n",
       "      <th>t_vz_56337500</th>\n",
       "    </tr>\n",
       "  </thead>\n",
       "  <tbody>\n",
       "    <tr>\n",
       "      <th>count</th>\n",
       "      <td>4017.000000</td>\n",
       "      <td>4017.000000</td>\n",
       "      <td>4017.000000</td>\n",
       "      <td>4017.000000</td>\n",
       "      <td>4017.000000</td>\n",
       "      <td>4017.000000</td>\n",
       "      <td>4017.000000</td>\n",
       "      <td>4017.000000</td>\n",
       "      <td>4017.000000</td>\n",
       "      <td>4017.000000</td>\n",
       "    </tr>\n",
       "    <tr>\n",
       "      <th>mean</th>\n",
       "      <td>118.023065</td>\n",
       "      <td>2.991348</td>\n",
       "      <td>2.596121</td>\n",
       "      <td>2.870451</td>\n",
       "      <td>2.303570</td>\n",
       "      <td>1.996776</td>\n",
       "      <td>103.375251</td>\n",
       "      <td>68.911155</td>\n",
       "      <td>66.202400</td>\n",
       "      <td>26.261579</td>\n",
       "    </tr>\n",
       "    <tr>\n",
       "      <th>std</th>\n",
       "      <td>120.338238</td>\n",
       "      <td>8.676786</td>\n",
       "      <td>8.403539</td>\n",
       "      <td>9.691323</td>\n",
       "      <td>7.527579</td>\n",
       "      <td>6.136959</td>\n",
       "      <td>112.261359</td>\n",
       "      <td>64.780970</td>\n",
       "      <td>61.985264</td>\n",
       "      <td>35.889518</td>\n",
       "    </tr>\n",
       "    <tr>\n",
       "      <th>min</th>\n",
       "      <td>21.358300</td>\n",
       "      <td>0.000000</td>\n",
       "      <td>0.000000</td>\n",
       "      <td>0.000000</td>\n",
       "      <td>0.000000</td>\n",
       "      <td>0.000000</td>\n",
       "      <td>21.195000</td>\n",
       "      <td>9.619672</td>\n",
       "      <td>0.000000</td>\n",
       "      <td>0.000000</td>\n",
       "    </tr>\n",
       "    <tr>\n",
       "      <th>25%</th>\n",
       "      <td>58.098100</td>\n",
       "      <td>0.000000</td>\n",
       "      <td>0.000000</td>\n",
       "      <td>0.000000</td>\n",
       "      <td>0.000000</td>\n",
       "      <td>0.000000</td>\n",
       "      <td>50.425000</td>\n",
       "      <td>31.555208</td>\n",
       "      <td>29.016667</td>\n",
       "      <td>4.688275</td>\n",
       "    </tr>\n",
       "    <tr>\n",
       "      <th>50%</th>\n",
       "      <td>82.441400</td>\n",
       "      <td>0.017697</td>\n",
       "      <td>0.000000</td>\n",
       "      <td>0.000000</td>\n",
       "      <td>0.000000</td>\n",
       "      <td>0.000000</td>\n",
       "      <td>78.962500</td>\n",
       "      <td>50.025937</td>\n",
       "      <td>51.087384</td>\n",
       "      <td>12.270833</td>\n",
       "    </tr>\n",
       "    <tr>\n",
       "      <th>75%</th>\n",
       "      <td>133.011000</td>\n",
       "      <td>1.239609</td>\n",
       "      <td>1.074228</td>\n",
       "      <td>0.200000</td>\n",
       "      <td>0.822984</td>\n",
       "      <td>0.600000</td>\n",
       "      <td>115.950208</td>\n",
       "      <td>77.045208</td>\n",
       "      <td>82.987500</td>\n",
       "      <td>31.631458</td>\n",
       "    </tr>\n",
       "    <tr>\n",
       "      <th>max</th>\n",
       "      <td>2000.470000</td>\n",
       "      <td>172.400000</td>\n",
       "      <td>181.200000</td>\n",
       "      <td>197.000000</td>\n",
       "      <td>110.900000</td>\n",
       "      <td>97.400000</td>\n",
       "      <td>1936.280000</td>\n",
       "      <td>819.429375</td>\n",
       "      <td>928.774167</td>\n",
       "      <td>258.637500</td>\n",
       "    </tr>\n",
       "  </tbody>\n",
       "</table>\n",
       "</div>"
      ],
      "text/plain": [
       "                 y  t_cv_56425000  t_cv_56338500  t_cv_56110005  \\\n",
       "count  4017.000000    4017.000000    4017.000000    4017.000000   \n",
       "mean    118.023065       2.991348       2.596121       2.870451   \n",
       "std     120.338238       8.676786       8.403539       9.691323   \n",
       "min      21.358300       0.000000       0.000000       0.000000   \n",
       "25%      58.098100       0.000000       0.000000       0.000000   \n",
       "50%      82.441400       0.017697       0.000000       0.000000   \n",
       "75%     133.011000       1.239609       1.074228       0.200000   \n",
       "max    2000.470000     172.400000     181.200000     197.000000   \n",
       "\n",
       "       t_cv_56337200  t_cv_56337500  t_vz_56338500  t_vz_56110005  \\\n",
       "count    4017.000000    4017.000000    4017.000000    4017.000000   \n",
       "mean        2.303570       1.996776     103.375251      68.911155   \n",
       "std         7.527579       6.136959     112.261359      64.780970   \n",
       "min         0.000000       0.000000      21.195000       9.619672   \n",
       "25%         0.000000       0.000000      50.425000      31.555208   \n",
       "50%         0.000000       0.000000      78.962500      50.025937   \n",
       "75%         0.822984       0.600000     115.950208      77.045208   \n",
       "max       110.900000      97.400000    1936.280000     819.429375   \n",
       "\n",
       "       t_vz_56337200  t_vz_56337500  \n",
       "count    4017.000000    4017.000000  \n",
       "mean       66.202400      26.261579  \n",
       "std        61.985264      35.889518  \n",
       "min         0.000000       0.000000  \n",
       "25%        29.016667       4.688275  \n",
       "50%        51.087384      12.270833  \n",
       "75%        82.987500      31.631458  \n",
       "max       928.774167     258.637500  "
      ]
     },
     "execution_count": 43,
     "metadata": {},
     "output_type": "execute_result"
    }
   ],
   "source": [
    "df_aux.drop(columns=['ds', 'unique_id']).describe()"
   ]
  },
  {
   "cell_type": "code",
   "execution_count": 44,
   "metadata": {},
   "outputs": [],
   "source": [
    "mapa_correlacao(df=df_aux)"
   ]
  },
  {
   "cell_type": "markdown",
   "metadata": {},
   "source": [
    "### Análise de Autocorrelação"
   ]
  },
  {
   "cell_type": "code",
   "execution_count": 45,
   "metadata": {},
   "outputs": [],
   "source": [
    "# Me interessa saber a sazonalidade da variável-alvo, a vazão\n",
    "cria_plot_correlacao(serie=df_aux.y, n_lags=90, plot_pacf=False)\n",
    "\n",
    "# É possível plotar para mais lags, mas aí o gráfico fico horroroso demais!!!"
   ]
  },
  {
   "cell_type": "code",
   "execution_count": 46,
   "metadata": {},
   "outputs": [],
   "source": [
    "cria_plot_correlacao(serie=df_aux['y'], n_lags=90, plot_pacf=True)"
   ]
  },
  {
   "cell_type": "markdown",
   "metadata": {},
   "source": [
    "### Gerando os gráficos das features em contraste com a vazão y (target).\n",
    "\n",
    "Gerando os gráficos de vazão em conjunto com a vazão y (target) e desta com as chuvas também.\n",
    "\n",
    "Minha intenção aqui é verificar, visualmente, as influências que eventualmente possam ter, de acordo com o período do ano.<br/>\n",
    "Não é, digamos, muito científico, mas ajuda a compreender o funcionamento do comportamento das séries temporais."
   ]
  },
  {
   "cell_type": "code",
   "execution_count": 47,
   "metadata": {
    "scrolled": true
   },
   "outputs": [],
   "source": [
    "fig_vazoes = make_subplots(rows=2, cols=1, subplot_titles=(\"variável endógena (vazão)\", \"variáveis exógenas (vazão)\"))\n",
    "\n",
    "fig_vazoes.add_trace(go.Scatter(x=df_aux['ds'], y=df_aux['y'], name='vazao_y', mode='lines', showlegend=True, line=dict(color=\"#000000\", width=2)), row=1, col=1)\n",
    "fig_vazoes.add_trace(go.Scatter(x=df_aux['ds'], y=df_aux['t_vz_56338500'], name='t_vz_56338500', mode='lines', showlegend=True, line=dict(width=1)), row=2, col=1)\n",
    "fig_vazoes.add_trace(go.Scatter(x=df_aux['ds'], y=df_aux['t_vz_56110005'], name='t_vz_56110005', mode='lines', showlegend=True, line=dict(width=1)), row=2, col=1)\n",
    "fig_vazoes.add_trace(go.Scatter(x=df_aux['ds'], y=df_aux['t_vz_56337200'], name='t_vz_56337200', mode='lines', showlegend=True, line=dict(width=1)), row=2, col=1)\n",
    "fig_vazoes.add_trace(go.Scatter(x=df_aux['ds'], y=df_aux['t_vz_56337500'], name='t_vz_56337500', mode='lines', showlegend=True, line=dict(width=1)), row=2, col=1)\n",
    "\n",
    "fig_vazoes.update_yaxes(title=dict(text=\"m³/s\", font=dict(family=\"system-ui\", size=18)), row=1, col=1)\n",
    "fig_vazoes.update_yaxes(title=dict(text=\"m³/s\", font=dict(family=\"system-ui\", size=18)), row=2, col=1)\n",
    "\n",
    "fig_vazoes.update_xaxes(title=dict(text=\"Período\", font=dict(family=\"system-ui\", size=18)), row=1, col=1)\n",
    "fig_vazoes.update_xaxes(title=dict(text=\"Período\", font=dict(family=\"system-ui\", size=18)), row=2, col=1)\n",
    "\n",
    "fig_vazoes.update_layout(width=1500, height=1000,\n",
    "                         title=dict(text=\"Vazões\", font=dict(family=\"system-ui\", size=24)))\n",
    "\n",
    "fig_vazoes.write_image(\"./resultados/trecho_alto/aed/target_com_vazoes.png\")\n",
    "# fig_vazoes.show()\n",
    "\n",
    "##########\n",
    "\n",
    "fig_chuvas = make_subplots(rows=2, cols=1, subplot_titles=(\"variável endógena (vazão)\", \"variáveis exógenas (chuva)\"))\n",
    "\n",
    "fig_chuvas.add_trace(go.Scatter(x=df_aux['ds'], y=df_aux['y'], name='vazao_y', mode='lines', showlegend=True, line=dict(color=\"#000000\", width=2)), row=1, col=1)\n",
    "fig_chuvas.add_trace(go.Scatter(x=df_aux['ds'], y=df_aux['t_cv_56425000'], name='t_cv_56425000', mode='lines', showlegend=True, line=dict(width=1)), row=2, col=1)\n",
    "fig_chuvas.add_trace(go.Scatter(x=df_aux['ds'], y=df_aux['t_cv_56338500'], name='t_cv_56338500', mode='lines', showlegend=True, line=dict(width=1)), row=2, col=1)\n",
    "fig_chuvas.add_trace(go.Scatter(x=df_aux['ds'], y=df_aux['t_cv_56110005'], name='t_cv_56110005', mode='lines', showlegend=True, line=dict(width=1)), row=2, col=1)\n",
    "fig_chuvas.add_trace(go.Scatter(x=df_aux['ds'], y=df_aux['t_cv_56337200'], name='t_cv_56337200', mode='lines', showlegend=True, line=dict(width=1)), row=2, col=1)\n",
    "fig_chuvas.add_trace(go.Scatter(x=df_aux['ds'], y=df_aux['t_cv_56337500'], name='t_cv_56337500', mode='lines', showlegend=True, line=dict(width=1)), row=2, col=1)\n",
    "\n",
    "fig_chuvas.update_yaxes(title=dict(text=\"m³/s\", font=dict(family=\"system-ui\", size=18)), row=1, col=1)\n",
    "fig_chuvas.update_yaxes(title=dict(text=\"mm/dia\", font=dict(family=\"system-ui\", size=18)), row=2, col=1)\n",
    "\n",
    "fig_chuvas.update_xaxes(title=dict(text=\"Período\", font=dict(family=\"system-ui\", size=18)), row=1, col=1)\n",
    "fig_chuvas.update_xaxes(title=dict(text=\"Período\", font=dict(family=\"system-ui\", size=18)), row=2, col=1)\n",
    "\n",
    "fig_chuvas.update_layout(width=1500, height=1000,\n",
    "                         title=dict(text=\"Chuvas\", font=dict(family=\"system-ui\", size=24)))\n",
    "\n",
    "fig_chuvas.write_image(\"./resultados/trecho_alto/aed/target_com_chuvas.png\")\n",
    "# fig_chuvas.show()"
   ]
  },
  {
   "cell_type": "markdown",
   "metadata": {},
   "source": [
    "### Análise de delay"
   ]
  },
  {
   "cell_type": "code",
   "execution_count": 48,
   "metadata": {},
   "outputs": [],
   "source": [
    "# PRECISA SER SÉRIES NA MESMA ESCALA\n",
    "# ISSO NÃO VAI FUNCIONAR DO JEITO QUE ESTOU PENSANDO\n",
    "\n",
    "# from scipy.spatial.distance import euclidean\n",
    "# from fastdtw import fastdtw\n",
    "\n",
    "# # Calcula a distância dinâmica entre as séries\n",
    "# distance, path = fastdtw(df_aux.y, df_aux.chuva, dist=euclidean)\n",
    "\n",
    "# print(f\"Distância dinâmica entre as séries: {distance}\")"
   ]
  },
  {
   "cell_type": "markdown",
   "metadata": {},
   "source": [
    "### Separação dos dados"
   ]
  },
  {
   "cell_type": "code",
   "execution_count": 49,
   "metadata": {
    "notebookRunGroups": {
     "groupValue": "12"
    }
   },
   "outputs": [],
   "source": [
    "df_train, df_test = temporal_train_test_split(df_aux, test_size=0.2, anchor=\"start\")"
   ]
  },
  {
   "cell_type": "code",
   "execution_count": 50,
   "metadata": {},
   "outputs": [
    {
     "data": {
      "text/html": [
       "<div>\n",
       "<style scoped>\n",
       "    .dataframe tbody tr th:only-of-type {\n",
       "        vertical-align: middle;\n",
       "    }\n",
       "\n",
       "    .dataframe tbody tr th {\n",
       "        vertical-align: top;\n",
       "    }\n",
       "\n",
       "    .dataframe thead th {\n",
       "        text-align: right;\n",
       "    }\n",
       "</style>\n",
       "<table border=\"1\" class=\"dataframe\">\n",
       "  <thead>\n",
       "    <tr style=\"text-align: right;\">\n",
       "      <th></th>\n",
       "      <th>ds</th>\n",
       "      <th>unique_id</th>\n",
       "      <th>y</th>\n",
       "      <th>t_cv_56425000</th>\n",
       "      <th>t_cv_56338500</th>\n",
       "      <th>t_cv_56110005</th>\n",
       "      <th>t_cv_56337200</th>\n",
       "      <th>t_cv_56337500</th>\n",
       "      <th>t_vz_56338500</th>\n",
       "      <th>t_vz_56110005</th>\n",
       "      <th>t_vz_56337200</th>\n",
       "      <th>t_vz_56337500</th>\n",
       "    </tr>\n",
       "  </thead>\n",
       "  <tbody>\n",
       "    <tr>\n",
       "      <th>0</th>\n",
       "      <td>2013-01-01</td>\n",
       "      <td>1</td>\n",
       "      <td>82.7871</td>\n",
       "      <td>0.241148</td>\n",
       "      <td>0.202105</td>\n",
       "      <td>0.0</td>\n",
       "      <td>0.437702</td>\n",
       "      <td>0.551181</td>\n",
       "      <td>79.298366</td>\n",
       "      <td>60.056100</td>\n",
       "      <td>49.154342</td>\n",
       "      <td>29.104130</td>\n",
       "    </tr>\n",
       "    <tr>\n",
       "      <th>1</th>\n",
       "      <td>2013-01-02</td>\n",
       "      <td>1</td>\n",
       "      <td>80.4893</td>\n",
       "      <td>0.174561</td>\n",
       "      <td>0.024937</td>\n",
       "      <td>0.0</td>\n",
       "      <td>0.168651</td>\n",
       "      <td>0.000000</td>\n",
       "      <td>80.660440</td>\n",
       "      <td>46.950000</td>\n",
       "      <td>34.521715</td>\n",
       "      <td>41.121955</td>\n",
       "    </tr>\n",
       "    <tr>\n",
       "      <th>2</th>\n",
       "      <td>2013-01-03</td>\n",
       "      <td>1</td>\n",
       "      <td>78.2142</td>\n",
       "      <td>0.588994</td>\n",
       "      <td>0.848283</td>\n",
       "      <td>0.0</td>\n",
       "      <td>0.322936</td>\n",
       "      <td>0.566388</td>\n",
       "      <td>82.201442</td>\n",
       "      <td>46.703125</td>\n",
       "      <td>38.586211</td>\n",
       "      <td>51.963603</td>\n",
       "    </tr>\n",
       "    <tr>\n",
       "      <th>3</th>\n",
       "      <td>2013-01-04</td>\n",
       "      <td>1</td>\n",
       "      <td>79.3489</td>\n",
       "      <td>0.317681</td>\n",
       "      <td>0.425111</td>\n",
       "      <td>0.0</td>\n",
       "      <td>0.093011</td>\n",
       "      <td>0.288712</td>\n",
       "      <td>76.099995</td>\n",
       "      <td>49.239583</td>\n",
       "      <td>48.206779</td>\n",
       "      <td>17.611111</td>\n",
       "    </tr>\n",
       "    <tr>\n",
       "      <th>4</th>\n",
       "      <td>2013-01-05</td>\n",
       "      <td>1</td>\n",
       "      <td>129.1610</td>\n",
       "      <td>2.034343</td>\n",
       "      <td>0.869555</td>\n",
       "      <td>0.0</td>\n",
       "      <td>1.522630</td>\n",
       "      <td>1.933175</td>\n",
       "      <td>108.219680</td>\n",
       "      <td>49.780208</td>\n",
       "      <td>63.708133</td>\n",
       "      <td>22.068745</td>\n",
       "    </tr>\n",
       "    <tr>\n",
       "      <th>...</th>\n",
       "      <td>...</td>\n",
       "      <td>...</td>\n",
       "      <td>...</td>\n",
       "      <td>...</td>\n",
       "      <td>...</td>\n",
       "      <td>...</td>\n",
       "      <td>...</td>\n",
       "      <td>...</td>\n",
       "      <td>...</td>\n",
       "      <td>...</td>\n",
       "      <td>...</td>\n",
       "      <td>...</td>\n",
       "    </tr>\n",
       "    <tr>\n",
       "      <th>3208</th>\n",
       "      <td>2021-10-14</td>\n",
       "      <td>1</td>\n",
       "      <td>296.9940</td>\n",
       "      <td>0.000000</td>\n",
       "      <td>0.000000</td>\n",
       "      <td>0.0</td>\n",
       "      <td>0.000000</td>\n",
       "      <td>0.000000</td>\n",
       "      <td>136.637391</td>\n",
       "      <td>205.243929</td>\n",
       "      <td>152.212917</td>\n",
       "      <td>0.019167</td>\n",
       "    </tr>\n",
       "    <tr>\n",
       "      <th>3209</th>\n",
       "      <td>2021-10-15</td>\n",
       "      <td>1</td>\n",
       "      <td>196.4810</td>\n",
       "      <td>1.200000</td>\n",
       "      <td>0.200000</td>\n",
       "      <td>0.0</td>\n",
       "      <td>0.000000</td>\n",
       "      <td>27.000000</td>\n",
       "      <td>133.948333</td>\n",
       "      <td>115.983158</td>\n",
       "      <td>88.515417</td>\n",
       "      <td>0.243415</td>\n",
       "    </tr>\n",
       "    <tr>\n",
       "      <th>3210</th>\n",
       "      <td>2021-10-16</td>\n",
       "      <td>1</td>\n",
       "      <td>153.3710</td>\n",
       "      <td>3.200000</td>\n",
       "      <td>0.000000</td>\n",
       "      <td>0.0</td>\n",
       "      <td>0.000000</td>\n",
       "      <td>0.400000</td>\n",
       "      <td>115.950208</td>\n",
       "      <td>98.104000</td>\n",
       "      <td>63.722083</td>\n",
       "      <td>2.511458</td>\n",
       "    </tr>\n",
       "    <tr>\n",
       "      <th>3211</th>\n",
       "      <td>2021-10-17</td>\n",
       "      <td>1</td>\n",
       "      <td>132.3440</td>\n",
       "      <td>0.400000</td>\n",
       "      <td>0.200000</td>\n",
       "      <td>0.2</td>\n",
       "      <td>11.400000</td>\n",
       "      <td>59.400000</td>\n",
       "      <td>103.382500</td>\n",
       "      <td>76.855357</td>\n",
       "      <td>56.900000</td>\n",
       "      <td>0.674255</td>\n",
       "    </tr>\n",
       "    <tr>\n",
       "      <th>3212</th>\n",
       "      <td>2021-10-18</td>\n",
       "      <td>1</td>\n",
       "      <td>130.9540</td>\n",
       "      <td>27.200000</td>\n",
       "      <td>0.000000</td>\n",
       "      <td>0.0</td>\n",
       "      <td>5.000000</td>\n",
       "      <td>24.000000</td>\n",
       "      <td>107.544167</td>\n",
       "      <td>70.550000</td>\n",
       "      <td>48.162083</td>\n",
       "      <td>3.913333</td>\n",
       "    </tr>\n",
       "  </tbody>\n",
       "</table>\n",
       "<p>3213 rows × 12 columns</p>\n",
       "</div>"
      ],
      "text/plain": [
       "             ds  unique_id         y  t_cv_56425000  t_cv_56338500  \\\n",
       "0    2013-01-01          1   82.7871       0.241148       0.202105   \n",
       "1    2013-01-02          1   80.4893       0.174561       0.024937   \n",
       "2    2013-01-03          1   78.2142       0.588994       0.848283   \n",
       "3    2013-01-04          1   79.3489       0.317681       0.425111   \n",
       "4    2013-01-05          1  129.1610       2.034343       0.869555   \n",
       "...         ...        ...       ...            ...            ...   \n",
       "3208 2021-10-14          1  296.9940       0.000000       0.000000   \n",
       "3209 2021-10-15          1  196.4810       1.200000       0.200000   \n",
       "3210 2021-10-16          1  153.3710       3.200000       0.000000   \n",
       "3211 2021-10-17          1  132.3440       0.400000       0.200000   \n",
       "3212 2021-10-18          1  130.9540      27.200000       0.000000   \n",
       "\n",
       "      t_cv_56110005  t_cv_56337200  t_cv_56337500  t_vz_56338500  \\\n",
       "0               0.0       0.437702       0.551181      79.298366   \n",
       "1               0.0       0.168651       0.000000      80.660440   \n",
       "2               0.0       0.322936       0.566388      82.201442   \n",
       "3               0.0       0.093011       0.288712      76.099995   \n",
       "4               0.0       1.522630       1.933175     108.219680   \n",
       "...             ...            ...            ...            ...   \n",
       "3208            0.0       0.000000       0.000000     136.637391   \n",
       "3209            0.0       0.000000      27.000000     133.948333   \n",
       "3210            0.0       0.000000       0.400000     115.950208   \n",
       "3211            0.2      11.400000      59.400000     103.382500   \n",
       "3212            0.0       5.000000      24.000000     107.544167   \n",
       "\n",
       "      t_vz_56110005  t_vz_56337200  t_vz_56337500  \n",
       "0         60.056100      49.154342      29.104130  \n",
       "1         46.950000      34.521715      41.121955  \n",
       "2         46.703125      38.586211      51.963603  \n",
       "3         49.239583      48.206779      17.611111  \n",
       "4         49.780208      63.708133      22.068745  \n",
       "...             ...            ...            ...  \n",
       "3208     205.243929     152.212917       0.019167  \n",
       "3209     115.983158      88.515417       0.243415  \n",
       "3210      98.104000      63.722083       2.511458  \n",
       "3211      76.855357      56.900000       0.674255  \n",
       "3212      70.550000      48.162083       3.913333  \n",
       "\n",
       "[3213 rows x 12 columns]"
      ]
     },
     "execution_count": 50,
     "metadata": {},
     "output_type": "execute_result"
    }
   ],
   "source": [
    "df_train"
   ]
  },
  {
   "cell_type": "code",
   "execution_count": 51,
   "metadata": {},
   "outputs": [
    {
     "data": {
      "text/html": [
       "<div>\n",
       "<style scoped>\n",
       "    .dataframe tbody tr th:only-of-type {\n",
       "        vertical-align: middle;\n",
       "    }\n",
       "\n",
       "    .dataframe tbody tr th {\n",
       "        vertical-align: top;\n",
       "    }\n",
       "\n",
       "    .dataframe thead th {\n",
       "        text-align: right;\n",
       "    }\n",
       "</style>\n",
       "<table border=\"1\" class=\"dataframe\">\n",
       "  <thead>\n",
       "    <tr style=\"text-align: right;\">\n",
       "      <th></th>\n",
       "      <th>ds</th>\n",
       "      <th>unique_id</th>\n",
       "      <th>y</th>\n",
       "      <th>t_cv_56425000</th>\n",
       "      <th>t_cv_56338500</th>\n",
       "      <th>t_cv_56110005</th>\n",
       "      <th>t_cv_56337200</th>\n",
       "      <th>t_cv_56337500</th>\n",
       "      <th>t_vz_56338500</th>\n",
       "      <th>t_vz_56110005</th>\n",
       "      <th>t_vz_56337200</th>\n",
       "      <th>t_vz_56337500</th>\n",
       "    </tr>\n",
       "  </thead>\n",
       "  <tbody>\n",
       "    <tr>\n",
       "      <th>3213</th>\n",
       "      <td>2021-10-19</td>\n",
       "      <td>1</td>\n",
       "      <td>169.278000</td>\n",
       "      <td>65.6</td>\n",
       "      <td>0.2</td>\n",
       "      <td>0.0</td>\n",
       "      <td>32.0</td>\n",
       "      <td>10.0</td>\n",
       "      <td>139.491875</td>\n",
       "      <td>88.814000</td>\n",
       "      <td>72.926667</td>\n",
       "      <td>84.633333</td>\n",
       "    </tr>\n",
       "    <tr>\n",
       "      <th>3214</th>\n",
       "      <td>2021-10-20</td>\n",
       "      <td>1</td>\n",
       "      <td>231.629000</td>\n",
       "      <td>17.6</td>\n",
       "      <td>0.0</td>\n",
       "      <td>3.8</td>\n",
       "      <td>19.6</td>\n",
       "      <td>12.8</td>\n",
       "      <td>143.208958</td>\n",
       "      <td>132.886857</td>\n",
       "      <td>79.814583</td>\n",
       "      <td>83.641875</td>\n",
       "    </tr>\n",
       "    <tr>\n",
       "      <th>3215</th>\n",
       "      <td>2021-10-21</td>\n",
       "      <td>1</td>\n",
       "      <td>251.648000</td>\n",
       "      <td>1.8</td>\n",
       "      <td>0.2</td>\n",
       "      <td>0.0</td>\n",
       "      <td>0.6</td>\n",
       "      <td>0.0</td>\n",
       "      <td>145.313750</td>\n",
       "      <td>127.408229</td>\n",
       "      <td>93.158333</td>\n",
       "      <td>89.416667</td>\n",
       "    </tr>\n",
       "    <tr>\n",
       "      <th>3216</th>\n",
       "      <td>2021-10-22</td>\n",
       "      <td>1</td>\n",
       "      <td>226.717000</td>\n",
       "      <td>0.2</td>\n",
       "      <td>0.0</td>\n",
       "      <td>0.0</td>\n",
       "      <td>0.0</td>\n",
       "      <td>0.0</td>\n",
       "      <td>137.791250</td>\n",
       "      <td>136.881383</td>\n",
       "      <td>101.487500</td>\n",
       "      <td>11.988542</td>\n",
       "    </tr>\n",
       "    <tr>\n",
       "      <th>3217</th>\n",
       "      <td>2021-10-23</td>\n",
       "      <td>1</td>\n",
       "      <td>179.687000</td>\n",
       "      <td>0.0</td>\n",
       "      <td>0.2</td>\n",
       "      <td>0.0</td>\n",
       "      <td>0.0</td>\n",
       "      <td>0.0</td>\n",
       "      <td>123.374375</td>\n",
       "      <td>112.325937</td>\n",
       "      <td>84.465000</td>\n",
       "      <td>1.180208</td>\n",
       "    </tr>\n",
       "    <tr>\n",
       "      <th>...</th>\n",
       "      <td>...</td>\n",
       "      <td>...</td>\n",
       "      <td>...</td>\n",
       "      <td>...</td>\n",
       "      <td>...</td>\n",
       "      <td>...</td>\n",
       "      <td>...</td>\n",
       "      <td>...</td>\n",
       "      <td>...</td>\n",
       "      <td>...</td>\n",
       "      <td>...</td>\n",
       "      <td>...</td>\n",
       "    </tr>\n",
       "    <tr>\n",
       "      <th>4012</th>\n",
       "      <td>2023-12-27</td>\n",
       "      <td>1</td>\n",
       "      <td>88.370937</td>\n",
       "      <td>8.2</td>\n",
       "      <td>0.2</td>\n",
       "      <td>0.0</td>\n",
       "      <td>2.2</td>\n",
       "      <td>8.6</td>\n",
       "      <td>99.451667</td>\n",
       "      <td>70.568804</td>\n",
       "      <td>0.610000</td>\n",
       "      <td>28.053750</td>\n",
       "    </tr>\n",
       "    <tr>\n",
       "      <th>4013</th>\n",
       "      <td>2023-12-28</td>\n",
       "      <td>1</td>\n",
       "      <td>87.519375</td>\n",
       "      <td>2.0</td>\n",
       "      <td>1.2</td>\n",
       "      <td>0.0</td>\n",
       "      <td>0.0</td>\n",
       "      <td>0.8</td>\n",
       "      <td>93.551667</td>\n",
       "      <td>60.014457</td>\n",
       "      <td>33.753333</td>\n",
       "      <td>21.705417</td>\n",
       "    </tr>\n",
       "    <tr>\n",
       "      <th>4014</th>\n",
       "      <td>2023-12-29</td>\n",
       "      <td>1</td>\n",
       "      <td>76.317813</td>\n",
       "      <td>0.0</td>\n",
       "      <td>0.0</td>\n",
       "      <td>0.0</td>\n",
       "      <td>0.0</td>\n",
       "      <td>0.0</td>\n",
       "      <td>77.745652</td>\n",
       "      <td>49.910909</td>\n",
       "      <td>61.942917</td>\n",
       "      <td>21.022917</td>\n",
       "    </tr>\n",
       "    <tr>\n",
       "      <th>4015</th>\n",
       "      <td>2023-12-30</td>\n",
       "      <td>1</td>\n",
       "      <td>67.118542</td>\n",
       "      <td>14.8</td>\n",
       "      <td>3.4</td>\n",
       "      <td>3.0</td>\n",
       "      <td>4.8</td>\n",
       "      <td>19.8</td>\n",
       "      <td>70.258261</td>\n",
       "      <td>47.746848</td>\n",
       "      <td>58.080000</td>\n",
       "      <td>22.252500</td>\n",
       "    </tr>\n",
       "    <tr>\n",
       "      <th>4016</th>\n",
       "      <td>2023-12-31</td>\n",
       "      <td>1</td>\n",
       "      <td>78.308542</td>\n",
       "      <td>0.2</td>\n",
       "      <td>1.0</td>\n",
       "      <td>1.2</td>\n",
       "      <td>1.0</td>\n",
       "      <td>0.2</td>\n",
       "      <td>89.831667</td>\n",
       "      <td>46.504688</td>\n",
       "      <td>58.267500</td>\n",
       "      <td>39.221905</td>\n",
       "    </tr>\n",
       "  </tbody>\n",
       "</table>\n",
       "<p>804 rows × 12 columns</p>\n",
       "</div>"
      ],
      "text/plain": [
       "             ds  unique_id           y  t_cv_56425000  t_cv_56338500  \\\n",
       "3213 2021-10-19          1  169.278000           65.6            0.2   \n",
       "3214 2021-10-20          1  231.629000           17.6            0.0   \n",
       "3215 2021-10-21          1  251.648000            1.8            0.2   \n",
       "3216 2021-10-22          1  226.717000            0.2            0.0   \n",
       "3217 2021-10-23          1  179.687000            0.0            0.2   \n",
       "...         ...        ...         ...            ...            ...   \n",
       "4012 2023-12-27          1   88.370937            8.2            0.2   \n",
       "4013 2023-12-28          1   87.519375            2.0            1.2   \n",
       "4014 2023-12-29          1   76.317813            0.0            0.0   \n",
       "4015 2023-12-30          1   67.118542           14.8            3.4   \n",
       "4016 2023-12-31          1   78.308542            0.2            1.0   \n",
       "\n",
       "      t_cv_56110005  t_cv_56337200  t_cv_56337500  t_vz_56338500  \\\n",
       "3213            0.0           32.0           10.0     139.491875   \n",
       "3214            3.8           19.6           12.8     143.208958   \n",
       "3215            0.0            0.6            0.0     145.313750   \n",
       "3216            0.0            0.0            0.0     137.791250   \n",
       "3217            0.0            0.0            0.0     123.374375   \n",
       "...             ...            ...            ...            ...   \n",
       "4012            0.0            2.2            8.6      99.451667   \n",
       "4013            0.0            0.0            0.8      93.551667   \n",
       "4014            0.0            0.0            0.0      77.745652   \n",
       "4015            3.0            4.8           19.8      70.258261   \n",
       "4016            1.2            1.0            0.2      89.831667   \n",
       "\n",
       "      t_vz_56110005  t_vz_56337200  t_vz_56337500  \n",
       "3213      88.814000      72.926667      84.633333  \n",
       "3214     132.886857      79.814583      83.641875  \n",
       "3215     127.408229      93.158333      89.416667  \n",
       "3216     136.881383     101.487500      11.988542  \n",
       "3217     112.325937      84.465000       1.180208  \n",
       "...             ...            ...            ...  \n",
       "4012      70.568804       0.610000      28.053750  \n",
       "4013      60.014457      33.753333      21.705417  \n",
       "4014      49.910909      61.942917      21.022917  \n",
       "4015      47.746848      58.080000      22.252500  \n",
       "4016      46.504688      58.267500      39.221905  \n",
       "\n",
       "[804 rows x 12 columns]"
      ]
     },
     "execution_count": 51,
     "metadata": {},
     "output_type": "execute_result"
    }
   ],
   "source": [
    "df_test"
   ]
  },
  {
   "cell_type": "code",
   "execution_count": 52,
   "metadata": {
    "notebookRunGroups": {
     "groupValue": "12"
    }
   },
   "outputs": [],
   "source": [
    "# Só precisa apresentar o gráfico para a coluna alvo, a vazão y.\n",
    "\n",
    "fig = go.Figure()\n",
    "\n",
    "fig.add_trace(go.Scatter(x=df_train['ds'], y=df_train['y'], mode='lines', name='treino'))\n",
    "fig.add_trace(go.Scatter(x=df_test['ds'], y=df_test['y'], mode='lines', name='teste'))\n",
    "\n",
    "fig.update_yaxes(title=dict(text=\"Vazão (m³/s)\", font=dict(family=\"system-ui\", size=18)))\n",
    "fig.update_xaxes(title=dict(text=\"Período\", font=dict(family=\"system-ui\", size=18)))\n",
    "\n",
    "fig.update_layout(width=1500, height=700, hovermode=\"x unified\",\n",
    "                  title=dict(text=\"Vazão 'y' (target)\", font=dict(family=\"system-ui\", size=24)))\n",
    "\n",
    "fig.write_image(\"./resultados/trecho_alto/aed/separacao_dados.png\")\n",
    "# fig.show()"
   ]
  },
  {
   "cell_type": "markdown",
   "metadata": {},
   "source": [
    "# Variáveis globais\n",
    "\n",
    "Estas variáveis serão utilizadas tanto pelos modelos de ML quanto pelas Redes Neurais"
   ]
  },
  {
   "cell_type": "code",
   "execution_count": 53,
   "metadata": {
    "notebookRunGroups": {
     "groupValue": "12"
    }
   },
   "outputs": [],
   "source": [
    "look_back = 7 # Lags a serem utilizadas.\n",
    "fch_v = [3, 5, 7, 10, 15, 30, 60, 90] # Horizonte de Previsão (como a frequência dos dados é diária, isso significa \"fch\" dias)"
   ]
  },
  {
   "cell_type": "markdown",
   "metadata": {},
   "source": [
    "# MLForecast"
   ]
  },
  {
   "cell_type": "markdown",
   "metadata": {},
   "source": [
    "#### Vazões exógenas calculadas no fch"
   ]
  },
  {
   "cell_type": "markdown",
   "metadata": {},
   "source": [
    "##### Não otimizados"
   ]
  },
  {
   "cell_type": "code",
   "execution_count": 54,
   "metadata": {
    "notebookRunGroups": {
     "groupValue": "1"
    }
   },
   "outputs": [
    {
     "name": "stdout",
     "output_type": "stream",
     "text": [
      "[LightGBM] [Info] Auto-choosing row-wise multi-threading, the overhead of testing was 0.001032 seconds.\n",
      "You can set `force_row_wise=true` to remove the overhead.\n",
      "And if memory is not enough, you can set `force_col_wise=true`.\n",
      "[LightGBM] [Info] Total Bins 4275\n",
      "[LightGBM] [Info] Number of data points in the train set: 3206, number of used features: 21\n",
      "[LightGBM] [Info] Start training from score 101.885109\n"
     ]
    }
   ],
   "source": [
    "models = [LGBMRegressor(random_state=5), # usando 'gbdt' - Gradient Boosting Decision Tree\n",
    "          LinearRegression(),\n",
    "          LinearSVR(random_state=5)]\n",
    "\n",
    "fcst = mlf.MLForecast(models=models, freq='D',\n",
    "                      lags=[i+1 for i in range(look_back)],\n",
    "                      date_features=['year', 'month', 'quarter', 'dayofyear', 'week'])\n",
    "\n",
    "fcst.fit(df_train, static_features=[])\n",
    "\n",
    "# Mostrando que as features que serão usadas de input são as que realmente escolhi usar.\n",
    "# fcst.ts.features_order_\n",
    "\n",
    "for f in fch_v:\n",
    "    df_test_futr = cria_dataframe_futuro(df_futr=fcst.make_future_dataframe(h=f),\n",
    "                                        df_train=df_train,\n",
    "                                        df_test=df_test,\n",
    "                                        tp_valor='ml',\n",
    "                                        n_lags=look_back,\n",
    "                                        cols=['t_vz_56338500', 't_vz_56110005', 't_vz_56337200', 't_vz_56337500'])\n",
    "    \n",
    "    df_preds = fcst.predict(h=f, X_df=df_test_futr)\n",
    "    df_joined = pd.merge(left=df_preds, right=df_test[['ds', 'y']], on=['ds'], how='left')\n",
    "\n",
    "    metrics = {}\n",
    "    metrics['LGBMRegressor'] = {'sMAPE': smape(df_joined.y, df_joined.LGBMRegressor),\n",
    "                                'RMSE': rmse(df_joined.y, df_joined.LGBMRegressor),\n",
    "                                'MAE' : mae(df_joined.y, df_joined.LGBMRegressor)}\n",
    "    metrics['LinearRegression'] = {'sMAPE': smape(df_joined.y, df_joined.LinearRegression),\n",
    "                                   'RMSE': rmse(df_joined.y, df_joined.LinearRegression),\n",
    "                                   'MAE' : mae(df_joined.y, df_joined.LinearRegression)}\n",
    "    metrics['LinearSVR'] = {'sMAPE': smape(df_joined.y, df_joined.LinearSVR),\n",
    "                            'RMSE': rmse(df_joined.y, df_joined.LinearSVR),\n",
    "                            'MAE' : mae(df_joined.y, df_joined.LinearSVR)}\n",
    "    \n",
    "    df_tbl_v = pd.DataFrame(metrics).T.reset_index(names=\"Modelo\")\n",
    "\n",
    "    # ============================================================================ #\n",
    "\n",
    "    fig = make_subplots(rows=2, cols=1, vertical_spacing=0.2, specs=[[{\"type\": \"scatter\"}], [{\"type\": \"table\"}]])\n",
    "\n",
    "    fig.add_trace(go.Scatter(x=df_joined.ds, y=df_joined.y, mode='lines', name='observado', line=dict(color=\"black\", width=4)), row=1, col=1)\n",
    "    fig.add_trace(go.Scatter(x=df_joined.ds, y=df_joined.LGBMRegressor, mode='lines', name='LGBM', line=dict(color=\"red\")), row=1, col=1)\n",
    "    fig.add_trace(go.Scatter(x=df_joined.ds, y=df_joined.LinearRegression, mode='lines', name='LR', line=dict(color=\"darkviolet\")), row=1, col=1)\n",
    "    fig.add_trace(go.Scatter(x=df_joined.ds, y=df_joined.LinearSVR, mode='lines', name='LinearSVR', line=dict(color=\"green\")), row=1, col=1)\n",
    "    fig.append_trace(go.Table(header=dict(values=df_tbl_v.columns.to_list(), font=dict(size=14), align=\"center\"),\n",
    "                                    cells=dict(values=df_tbl_v.T, font=dict(size=14), height=24, align=\"left\")),\n",
    "                            row=2, col=1)\n",
    "\n",
    "    fig.update_yaxes(title=dict(text=\"Vazão (m³/s)\", font=dict(family=\"system-ui\", size=18)))\n",
    "    fig.update_xaxes(title=dict(text=\"Período\", font=dict(family=\"system-ui\", size=18)))\n",
    "    \n",
    "    fig.update_traces(hovertemplate=None, row=1, col=1)\n",
    "\n",
    "    fig.update_layout(width=1500, height=1000, hovermode='x unified',\n",
    "                                 title=dict(text=\"Modelos de ML não otimizados (fch = {f})\".format(f=f),\n",
    "                                            font=dict(family=\"system-ui\", size=24)))\n",
    "    \n",
    "    fig.write_image(\"./resultados/trecho_alto/fch{fh}/naoopt/ml.png\".format(fh=f))\n",
    "    # fig.show()"
   ]
  },
  {
   "cell_type": "markdown",
   "metadata": {},
   "source": [
    "##### Otimizados"
   ]
  },
  {
   "cell_type": "code",
   "execution_count": 55,
   "metadata": {
    "notebookRunGroups": {
     "groupValue": "1"
    }
   },
   "outputs": [],
   "source": [
    "def opt_lgbm(trial, fh):\n",
    "\n",
    "    # Parâmetros para o LGBMRegressor\n",
    "    params = {\n",
    "        'num_leaves' : trial.suggest_int('num_leaves', 4, 256),\n",
    "        'n_estimators' : trial.suggest_int('n_estimators', 1, 100),\n",
    "        'learning_rate' : trial.suggest_loguniform('learning_rate', 0.001, 0.5),\n",
    "        'min_data_in_leaf' : trial.suggest_int('min_data_in_leaf', 1, 50),\n",
    "        'bagging_fraction' : trial.suggest_loguniform('bagging_fraction', 0.01, 0.99),\n",
    "        'colsample_bytree' : trial.suggest_loguniform('colsample_bytree', 0.01, 0.99)\n",
    "    }\n",
    "\n",
    "    # Parâmetro para o Forecaster\n",
    "    n_lags = trial.suggest_int('n_lags', 1, look_back, step=1)\n",
    "\n",
    "    modelo = [LGBMRegressor(verbosity=-1, bagging_freq=1, random_state=5, **params)]\n",
    "    \n",
    "    fcst = mlf.MLForecast(models=modelo, freq='D',\n",
    "                               lags=[i+1 for i in range(n_lags)],\n",
    "                               date_features=['year', 'month', 'quarter', 'dayofyear', 'week'])\n",
    "\n",
    "    fcst.fit(df_train, id_col='unique_id', time_col='ds', target_col='y', static_features=[])\n",
    "\n",
    "    _df_futr = cria_dataframe_futuro(df_futr=fcst.make_future_dataframe(h=fh),\n",
    "                                    df_train=df_train,\n",
    "                                    df_test=df_test,\n",
    "                                    tp_valor='ml',\n",
    "                                    n_lags=look_back,\n",
    "                                    cols=['t_vz_56338500', 't_vz_56110005', 't_vz_56337200', 't_vz_56337500'])\n",
    "    \n",
    "    p = fcst.predict(h=fh, X_df=_df_futr)\n",
    "    df_result = pd.merge(left=p, right=df_test[['ds', 'y']], on=['ds'], how='left')\n",
    "\n",
    "    loss = smape(df_result['y'], df_result['LGBMRegressor'])\n",
    "    \n",
    "    return loss\n",
    "\n",
    "def opt_lsvr(trial, fh):\n",
    "\n",
    "    # Parâmetros para o LinearSVR\n",
    "    params = {\n",
    "        'loss' : trial.suggest_categorical('loss', ['epsilon_insensitive', 'squared_epsilon_insensitive']),\n",
    "        'intercept_scaling' : trial.suggest_loguniform('intercept_scaling', 0.00001, 2.0),\n",
    "        'tol' : trial.suggest_loguniform('tol', 0.00001, 2.0),\n",
    "        'C' : trial.suggest_loguniform('C', 0.00001, 2.0),\n",
    "        'epsilon' : trial.suggest_loguniform('epsilon', 0.00001, 2.0)\n",
    "    }\n",
    "\n",
    "    # Parâmetro para o Forecaster\n",
    "    n_lags = trial.suggest_int('n_lags', 1, look_back, step=1)\n",
    "\n",
    "    model = [LinearSVR(random_state=5, **params)]\n",
    "\n",
    "    fcst = mlf.MLForecast(models=model, freq='D',\n",
    "                            lags=[i+1 for i in range(n_lags)],\n",
    "                            date_features=['year', 'month', 'quarter', 'dayofyear', 'week'])\n",
    "\n",
    "    fcst.fit(df_train, id_col='unique_id', time_col='ds', target_col='y', static_features=[])\n",
    "\n",
    "    _df_futr = cria_dataframe_futuro(df_futr=fcst.make_future_dataframe(h=fh),\n",
    "                                    df_train=df_train,\n",
    "                                    df_test=df_test,\n",
    "                                    tp_valor='ml',\n",
    "                                    n_lags=look_back,\n",
    "                                    cols=['t_vz_56338500', 't_vz_56110005', 't_vz_56337200', 't_vz_56337500'])\n",
    "\n",
    "    p = fcst.predict(h=fh, X_df=_df_futr)\n",
    "    df_result = pd.merge(left=p, right=df_test[['ds', 'y']], on=['ds'], how='left')\n",
    "\n",
    "    loss = smape(df_result['y'], df_result['LinearSVR'])\n",
    "\n",
    "    return loss\n",
    "\n",
    "############################\n",
    "\n",
    "# Guardar os parâmetros apenas das melhores trials\n",
    "lgbm_best_trial = {}\n",
    "lsvr_best_trial = {}\n",
    "\n",
    "for f in fch_v:\n",
    "    study_lgbm = opt.create_study(direction='minimize', sampler=opt.samplers.TPESampler(seed=5))\n",
    "    study_lsvr = opt.create_study(direction='minimize', sampler=opt.samplers.TPESampler(seed=5))\n",
    "\n",
    "    opt_lgbm = partial(opt_lgbm, fh=f)\n",
    "    study_lgbm.optimize(opt_lgbm, n_trials=100, timeout=1000, catch=(FloatingPointError, ValueError, ))\n",
    "\n",
    "    opt_lsvr = partial(opt_lsvr, fh=f)\n",
    "    study_lsvr.optimize(opt_lsvr, n_trials=100, timeout=1000, catch=(FloatingPointError, ValueError, ))\n",
    "\n",
    "    lgbm_best_trial[fch_v.index(f)] = {'modelo' : 'LGBM',\n",
    "                                    'fch' : f,\n",
    "                                    'best_value' : study_lgbm.best_value,\n",
    "                                    'best_params' : study_lgbm.best_params}\n",
    "    \n",
    "    lsvr_best_trial[fch_v.index(f)] = {'modelo' : 'LinearSVR',\n",
    "                                        'fch' : f,\n",
    "                                        'best_value' : study_lsvr.best_value,\n",
    "                                        'best_params' : study_lsvr.best_params}\n",
    "  \n",
    "# Reproduzindo os modelos\n",
    "for f, i, _ in zip(fch_v, lgbm_best_trial, lsvr_best_trial):\n",
    "    m_lgbm = [LGBMRegressor(verbosity=-1, bagging_freq=1, random_state=5,\n",
    "                            n_estimators=lgbm_best_trial[i]['best_params']['n_estimators'],\n",
    "                            learning_rate=lgbm_best_trial[i]['best_params']['learning_rate'],\n",
    "                            num_leaves=lgbm_best_trial[i]['best_params']['num_leaves'],\n",
    "                            min_data_in_leaf=lgbm_best_trial[i]['best_params']['min_data_in_leaf'],\n",
    "                            bagging_fraction=lgbm_best_trial[i]['best_params']['bagging_fraction'],\n",
    "                            colsample_bytree=lgbm_best_trial[i]['best_params']['colsample_bytree'])]\n",
    "\n",
    "    fcst_lgbm = mlf.MLForecast(models=m_lgbm, freq='D',\n",
    "                                lags=[i+1 for i in range(lgbm_best_trial[i]['best_params']['n_lags'])],\n",
    "                                date_features=['year', 'month', 'quarter', 'dayofyear', 'week'])\n",
    "\n",
    "    fcst_lgbm.fit(df_train, id_col='unique_id', time_col='ds', target_col='y', static_features=[])\n",
    "\n",
    "    df_futr_gbm = cria_dataframe_futuro(df_futr=fcst_lgbm.make_future_dataframe(h=f),\n",
    "                                        df_train=df_train,\n",
    "                                        df_test=df_test,\n",
    "                                        tp_valor='ml',\n",
    "                                        n_lags=look_back,\n",
    "                                        cols=['t_vz_56338500', 't_vz_56110005', 't_vz_56337200', 't_vz_56337500'])\n",
    "\n",
    "    p = fcst_lgbm.predict(h=f, X_df=df_futr_gbm)\n",
    "    df_merged = pd.merge(left=p, right=df_test[['ds', 'y']], on=['ds'], how='left')\n",
    "\n",
    "    # ##################################################### #\n",
    "\n",
    "    m_lsvr = [LinearSVR(random_state=5,\n",
    "                    loss=lsvr_best_trial[i]['best_params']['loss'],\n",
    "                    intercept_scaling=lsvr_best_trial[i]['best_params']['intercept_scaling'],\n",
    "                    tol=lsvr_best_trial[i]['best_params']['tol'],\n",
    "                    C=lsvr_best_trial[i]['best_params']['C'],\n",
    "                    epsilon=lsvr_best_trial[i]['best_params']['epsilon'])]\n",
    "\n",
    "    fcst_lsvr = mlf.MLForecast(models=m_lsvr, freq='D',\n",
    "                            lags=[i+1 for i in range(lsvr_best_trial[i]['best_params']['n_lags'])],\n",
    "                            date_features=['year', 'month', 'quarter', 'dayofyear', 'week'])\n",
    "\n",
    "    fcst_lsvr.fit(df_train, id_col='unique_id', time_col='ds', target_col='y', static_features=[])\n",
    "\n",
    "    df_futr_svr = cria_dataframe_futuro(df_futr=fcst_lsvr.make_future_dataframe(h=f),\n",
    "                                        df_train=df_train,\n",
    "                                        df_test=df_test,\n",
    "                                        tp_valor='ml',\n",
    "                                        n_lags=look_back,\n",
    "                                        cols=['t_vz_56338500', 't_vz_56110005', 't_vz_56337200', 't_vz_56337500'])\n",
    "\n",
    "    p = fcst_lsvr.predict(h=f, X_df=df_futr_svr)\n",
    "    df_merged = pd.merge(left=p, right=df_merged, on=['ds'], how='left')\n",
    "\n",
    "    # ##################################################### #\n",
    "\n",
    "    metrics = {}\n",
    "    metrics['LGBMRegressor'] = {'sMAPE': smape(df_merged.y, df_merged.LGBMRegressor),\n",
    "                                'RMSE': rmse(df_merged.y, df_merged.LGBMRegressor),\n",
    "                                'MAE' : mae(df_merged.y, df_merged.LGBMRegressor)}\n",
    "    metrics['LinearSVR'] = {'sMAPE': smape(df_merged.y, df_merged.LinearSVR),\n",
    "                            'RMSE': rmse(df_merged.y, df_merged.LinearSVR),\n",
    "                            'MAE' : mae(df_merged.y, df_merged.LinearSVR)}\n",
    "\n",
    "    df_tbl = pd.DataFrame(metrics).T.reset_index(names=\"Modelo\") # Usado para preencher a tabela com as métricas\n",
    "\n",
    "    fig = make_subplots(rows=2, cols=1, vertical_spacing=0.2, specs=[[{\"type\": \"scatter\"}], [{\"type\": \"table\"}]])\n",
    "\n",
    "    fig.add_trace(go.Scatter(x=df_merged.ds, y=df_merged.y, mode='lines', name='observado', line=dict(color=\"black\", width=4)), row=1, col=1)\n",
    "    fig.add_trace(go.Scatter(x=df_merged.ds, y=df_merged.LGBMRegressor, mode='lines', name='LGBM', line=dict(color=\"red\")), row=1, col=1)\n",
    "    fig.add_trace(go.Scatter(x=df_merged.ds, y=df_merged.LinearSVR, mode='lines', name='LinearSVR', line=dict(color=\"green\")), row=1, col=1)\n",
    "    \n",
    "    fig.append_trace(go.Table(header=dict(values=df_tbl.columns.to_list(), font=dict(size=14), align=\"center\"),\n",
    "                                cells=dict(values=df_tbl.T, font=dict(size=14), height=24, align=\"left\")),\n",
    "                            row=2, col=1)\n",
    "\n",
    "    fig.update_yaxes(title=dict(text=\"Vazão (m³/s)\", font=dict(family=\"system-ui\", size=18)))\n",
    "    fig.update_xaxes(title=dict(text=\"Período\", font=dict(family=\"system-ui\", size=18)))\n",
    "\n",
    "    fig.update_traces(hovertemplate=None, row=1, col=1)\n",
    "\n",
    "    fig.update_layout(width=1500, height=1000, hovermode='x unified',\n",
    "                            title=dict(text=\"Modelos de ML otimizados (fch = {f})\".format(f=f),\n",
    "                                    font=dict(family=\"system-ui\", size=24)))\n",
    "\n",
    "    fig.write_image(\"./resultados/trecho_alto/fch{fh}/opt/ml.png\".format(fh=f))\n",
    "    # fig.show()"
   ]
  },
  {
   "cell_type": "markdown",
   "metadata": {},
   "source": [
    "# Redes Neurais\n",
    "\n",
    "LSTM (RNN) e NBEATSx (MLP)"
   ]
  },
  {
   "cell_type": "code",
   "execution_count": 56,
   "metadata": {
    "notebookRunGroups": {
     "groupValue": "2"
    }
   },
   "outputs": [],
   "source": [
    "# Este DataFrame será utilizado por ambas as redes\n",
    "df_futr = df_test[['ds', 'unique_id', 't_cv_56425000', 't_cv_56338500', 't_cv_56110005','t_cv_56337200', 't_cv_56337500']]"
   ]
  },
  {
   "cell_type": "markdown",
   "metadata": {},
   "source": [
    "#### Não otimizado"
   ]
  },
  {
   "cell_type": "code",
   "execution_count": 57,
   "metadata": {
    "notebookRunGroups": {
     "groupValue": "2"
    }
   },
   "outputs": [
    {
     "name": "stderr",
     "output_type": "stream",
     "text": [
      "Global seed set to 5\n",
      "Global seed set to 5\n"
     ]
    },
    {
     "data": {
      "application/vnd.jupyter.widget-view+json": {
       "model_id": "3058529b8b1a4d558762e40dcebed0df",
       "version_major": 2,
       "version_minor": 0
      },
      "text/plain": [
       "Sanity Checking: 0it [00:00, ?it/s]"
      ]
     },
     "metadata": {},
     "output_type": "display_data"
    },
    {
     "data": {
      "application/vnd.jupyter.widget-view+json": {
       "model_id": "76ff6ddb63664923af4dde9c6c835305",
       "version_major": 2,
       "version_minor": 0
      },
      "text/plain": [
       "Training: 0it [00:00, ?it/s]"
      ]
     },
     "metadata": {},
     "output_type": "display_data"
    },
    {
     "data": {
      "application/vnd.jupyter.widget-view+json": {
       "model_id": "56002c07c7b645e9b1cf26d61b9b4720",
       "version_major": 2,
       "version_minor": 0
      },
      "text/plain": [
       "Validation: 0it [00:00, ?it/s]"
      ]
     },
     "metadata": {},
     "output_type": "display_data"
    },
    {
     "data": {
      "application/vnd.jupyter.widget-view+json": {
       "model_id": "f65ae663d3f547828178a25ce373c35c",
       "version_major": 2,
       "version_minor": 0
      },
      "text/plain": [
       "Validation: 0it [00:00, ?it/s]"
      ]
     },
     "metadata": {},
     "output_type": "display_data"
    },
    {
     "data": {
      "application/vnd.jupyter.widget-view+json": {
       "model_id": "f6989b45742b46f4ae2777a9bde572ef",
       "version_major": 2,
       "version_minor": 0
      },
      "text/plain": [
       "Validation: 0it [00:00, ?it/s]"
      ]
     },
     "metadata": {},
     "output_type": "display_data"
    },
    {
     "data": {
      "application/vnd.jupyter.widget-view+json": {
       "model_id": "353fb33145224806b8f42b2a881706d8",
       "version_major": 2,
       "version_minor": 0
      },
      "text/plain": [
       "Validation: 0it [00:00, ?it/s]"
      ]
     },
     "metadata": {},
     "output_type": "display_data"
    },
    {
     "data": {
      "application/vnd.jupyter.widget-view+json": {
       "model_id": "b1e0af8645ef4d7191a1452023226521",
       "version_major": 2,
       "version_minor": 0
      },
      "text/plain": [
       "Validation: 0it [00:00, ?it/s]"
      ]
     },
     "metadata": {},
     "output_type": "display_data"
    },
    {
     "data": {
      "application/vnd.jupyter.widget-view+json": {
       "model_id": "d6d74c91591746b1b004d24799f105c4",
       "version_major": 2,
       "version_minor": 0
      },
      "text/plain": [
       "Validation: 0it [00:00, ?it/s]"
      ]
     },
     "metadata": {},
     "output_type": "display_data"
    },
    {
     "data": {
      "application/vnd.jupyter.widget-view+json": {
       "model_id": "2a7690989e2640f78cf46f2ff2109779",
       "version_major": 2,
       "version_minor": 0
      },
      "text/plain": [
       "Validation: 0it [00:00, ?it/s]"
      ]
     },
     "metadata": {},
     "output_type": "display_data"
    },
    {
     "data": {
      "application/vnd.jupyter.widget-view+json": {
       "model_id": "4e5e374843534b23b28b22876a72ade9",
       "version_major": 2,
       "version_minor": 0
      },
      "text/plain": [
       "Validation: 0it [00:00, ?it/s]"
      ]
     },
     "metadata": {},
     "output_type": "display_data"
    },
    {
     "data": {
      "application/vnd.jupyter.widget-view+json": {
       "model_id": "8ad9967f428a4d8bb776bfe69e0f43cd",
       "version_major": 2,
       "version_minor": 0
      },
      "text/plain": [
       "Validation: 0it [00:00, ?it/s]"
      ]
     },
     "metadata": {},
     "output_type": "display_data"
    },
    {
     "data": {
      "application/vnd.jupyter.widget-view+json": {
       "model_id": "7e4dacd6667648188b584ce5229c2336",
       "version_major": 2,
       "version_minor": 0
      },
      "text/plain": [
       "Validation: 0it [00:00, ?it/s]"
      ]
     },
     "metadata": {},
     "output_type": "display_data"
    },
    {
     "data": {
      "application/vnd.jupyter.widget-view+json": {
       "model_id": "2d1898ba3f344d47ad7c19c10e24966f",
       "version_major": 2,
       "version_minor": 0
      },
      "text/plain": [
       "Sanity Checking: 0it [00:00, ?it/s]"
      ]
     },
     "metadata": {},
     "output_type": "display_data"
    },
    {
     "data": {
      "application/vnd.jupyter.widget-view+json": {
       "model_id": "b6466938803747dd9cc97653eb2ca9a0",
       "version_major": 2,
       "version_minor": 0
      },
      "text/plain": [
       "Training: 0it [00:00, ?it/s]"
      ]
     },
     "metadata": {},
     "output_type": "display_data"
    },
    {
     "data": {
      "application/vnd.jupyter.widget-view+json": {
       "model_id": "5691bfd7c70043e08db776858d813ad0",
       "version_major": 2,
       "version_minor": 0
      },
      "text/plain": [
       "Validation: 0it [00:00, ?it/s]"
      ]
     },
     "metadata": {},
     "output_type": "display_data"
    },
    {
     "data": {
      "application/vnd.jupyter.widget-view+json": {
       "model_id": "e3a42cbc77d04550a7ad23e47537421a",
       "version_major": 2,
       "version_minor": 0
      },
      "text/plain": [
       "Validation: 0it [00:00, ?it/s]"
      ]
     },
     "metadata": {},
     "output_type": "display_data"
    },
    {
     "data": {
      "application/vnd.jupyter.widget-view+json": {
       "model_id": "c219278a591d45769f4038f4c118a4c1",
       "version_major": 2,
       "version_minor": 0
      },
      "text/plain": [
       "Validation: 0it [00:00, ?it/s]"
      ]
     },
     "metadata": {},
     "output_type": "display_data"
    },
    {
     "data": {
      "application/vnd.jupyter.widget-view+json": {
       "model_id": "b603dae3bb5a401b851d433364434eb1",
       "version_major": 2,
       "version_minor": 0
      },
      "text/plain": [
       "Validation: 0it [00:00, ?it/s]"
      ]
     },
     "metadata": {},
     "output_type": "display_data"
    },
    {
     "data": {
      "application/vnd.jupyter.widget-view+json": {
       "model_id": "425f62f2c0d648a78ec9e8b77fbe3602",
       "version_major": 2,
       "version_minor": 0
      },
      "text/plain": [
       "Validation: 0it [00:00, ?it/s]"
      ]
     },
     "metadata": {},
     "output_type": "display_data"
    },
    {
     "data": {
      "application/vnd.jupyter.widget-view+json": {
       "model_id": "8c8d533e3b9641ccb29a715495e131b0",
       "version_major": 2,
       "version_minor": 0
      },
      "text/plain": [
       "Validation: 0it [00:00, ?it/s]"
      ]
     },
     "metadata": {},
     "output_type": "display_data"
    },
    {
     "data": {
      "application/vnd.jupyter.widget-view+json": {
       "model_id": "7db687424dda4e4faedccdbedc87e1bb",
       "version_major": 2,
       "version_minor": 0
      },
      "text/plain": [
       "Validation: 0it [00:00, ?it/s]"
      ]
     },
     "metadata": {},
     "output_type": "display_data"
    },
    {
     "data": {
      "application/vnd.jupyter.widget-view+json": {
       "model_id": "19b0e3264cff4a6dbcf0425096affaee",
       "version_major": 2,
       "version_minor": 0
      },
      "text/plain": [
       "Validation: 0it [00:00, ?it/s]"
      ]
     },
     "metadata": {},
     "output_type": "display_data"
    },
    {
     "data": {
      "application/vnd.jupyter.widget-view+json": {
       "model_id": "f4d47ed8dded42778cf689fe2639c4a5",
       "version_major": 2,
       "version_minor": 0
      },
      "text/plain": [
       "Validation: 0it [00:00, ?it/s]"
      ]
     },
     "metadata": {},
     "output_type": "display_data"
    },
    {
     "data": {
      "application/vnd.jupyter.widget-view+json": {
       "model_id": "878806b8281646b48e3450f547129140",
       "version_major": 2,
       "version_minor": 0
      },
      "text/plain": [
       "Validation: 0it [00:00, ?it/s]"
      ]
     },
     "metadata": {},
     "output_type": "display_data"
    },
    {
     "data": {
      "application/vnd.jupyter.widget-view+json": {
       "model_id": "90ae480223714bb9b429a10590594375",
       "version_major": 2,
       "version_minor": 0
      },
      "text/plain": [
       "Predicting: 0it [00:00, ?it/s]"
      ]
     },
     "metadata": {},
     "output_type": "display_data"
    },
    {
     "data": {
      "application/vnd.jupyter.widget-view+json": {
       "model_id": "129468342b864a249ebe1cc869627434",
       "version_major": 2,
       "version_minor": 0
      },
      "text/plain": [
       "Predicting: 0it [00:00, ?it/s]"
      ]
     },
     "metadata": {},
     "output_type": "display_data"
    },
    {
     "name": "stderr",
     "output_type": "stream",
     "text": [
      "Global seed set to 5\n",
      "Global seed set to 5\n"
     ]
    },
    {
     "data": {
      "application/vnd.jupyter.widget-view+json": {
       "model_id": "dcd235ebab134fc98049508c37178753",
       "version_major": 2,
       "version_minor": 0
      },
      "text/plain": [
       "Sanity Checking: 0it [00:00, ?it/s]"
      ]
     },
     "metadata": {},
     "output_type": "display_data"
    },
    {
     "data": {
      "application/vnd.jupyter.widget-view+json": {
       "model_id": "85747767b9524ecd998058007726689c",
       "version_major": 2,
       "version_minor": 0
      },
      "text/plain": [
       "Training: 0it [00:00, ?it/s]"
      ]
     },
     "metadata": {},
     "output_type": "display_data"
    },
    {
     "data": {
      "application/vnd.jupyter.widget-view+json": {
       "model_id": "ee3dcc0971394aff8262e72403a189e4",
       "version_major": 2,
       "version_minor": 0
      },
      "text/plain": [
       "Validation: 0it [00:00, ?it/s]"
      ]
     },
     "metadata": {},
     "output_type": "display_data"
    },
    {
     "data": {
      "application/vnd.jupyter.widget-view+json": {
       "model_id": "dd4a6b2001334ed38974ccfc864d5684",
       "version_major": 2,
       "version_minor": 0
      },
      "text/plain": [
       "Validation: 0it [00:00, ?it/s]"
      ]
     },
     "metadata": {},
     "output_type": "display_data"
    },
    {
     "data": {
      "application/vnd.jupyter.widget-view+json": {
       "model_id": "d2497e066b12408f9834fa27da19db3b",
       "version_major": 2,
       "version_minor": 0
      },
      "text/plain": [
       "Validation: 0it [00:00, ?it/s]"
      ]
     },
     "metadata": {},
     "output_type": "display_data"
    },
    {
     "data": {
      "application/vnd.jupyter.widget-view+json": {
       "model_id": "8bcdcbe2cbdc4ccfb427427c453ce97a",
       "version_major": 2,
       "version_minor": 0
      },
      "text/plain": [
       "Validation: 0it [00:00, ?it/s]"
      ]
     },
     "metadata": {},
     "output_type": "display_data"
    },
    {
     "data": {
      "application/vnd.jupyter.widget-view+json": {
       "model_id": "6bb698d437a04563a57b2f70a4f119a7",
       "version_major": 2,
       "version_minor": 0
      },
      "text/plain": [
       "Validation: 0it [00:00, ?it/s]"
      ]
     },
     "metadata": {},
     "output_type": "display_data"
    },
    {
     "data": {
      "application/vnd.jupyter.widget-view+json": {
       "model_id": "6ecfbe84777c40fabc30b94d2b148962",
       "version_major": 2,
       "version_minor": 0
      },
      "text/plain": [
       "Validation: 0it [00:00, ?it/s]"
      ]
     },
     "metadata": {},
     "output_type": "display_data"
    },
    {
     "data": {
      "application/vnd.jupyter.widget-view+json": {
       "model_id": "d7d734d0291449ccb9a1c6ac168ec678",
       "version_major": 2,
       "version_minor": 0
      },
      "text/plain": [
       "Validation: 0it [00:00, ?it/s]"
      ]
     },
     "metadata": {},
     "output_type": "display_data"
    },
    {
     "data": {
      "application/vnd.jupyter.widget-view+json": {
       "model_id": "1d29fde6c95940cca29022259fade4e8",
       "version_major": 2,
       "version_minor": 0
      },
      "text/plain": [
       "Validation: 0it [00:00, ?it/s]"
      ]
     },
     "metadata": {},
     "output_type": "display_data"
    },
    {
     "data": {
      "application/vnd.jupyter.widget-view+json": {
       "model_id": "55d38dd0d2374781833a9706661ad575",
       "version_major": 2,
       "version_minor": 0
      },
      "text/plain": [
       "Validation: 0it [00:00, ?it/s]"
      ]
     },
     "metadata": {},
     "output_type": "display_data"
    },
    {
     "data": {
      "application/vnd.jupyter.widget-view+json": {
       "model_id": "9de558302eb14e748d4ba9e5fc96930a",
       "version_major": 2,
       "version_minor": 0
      },
      "text/plain": [
       "Validation: 0it [00:00, ?it/s]"
      ]
     },
     "metadata": {},
     "output_type": "display_data"
    },
    {
     "data": {
      "application/vnd.jupyter.widget-view+json": {
       "model_id": "af354307c41b442eb8f70f8c875ce91e",
       "version_major": 2,
       "version_minor": 0
      },
      "text/plain": [
       "Sanity Checking: 0it [00:00, ?it/s]"
      ]
     },
     "metadata": {},
     "output_type": "display_data"
    },
    {
     "data": {
      "application/vnd.jupyter.widget-view+json": {
       "model_id": "442551f3137e49f8a6166dbb64f1b005",
       "version_major": 2,
       "version_minor": 0
      },
      "text/plain": [
       "Training: 0it [00:00, ?it/s]"
      ]
     },
     "metadata": {},
     "output_type": "display_data"
    },
    {
     "data": {
      "application/vnd.jupyter.widget-view+json": {
       "model_id": "fd7fbcfd6e8344a98f950444677731c8",
       "version_major": 2,
       "version_minor": 0
      },
      "text/plain": [
       "Validation: 0it [00:00, ?it/s]"
      ]
     },
     "metadata": {},
     "output_type": "display_data"
    },
    {
     "data": {
      "application/vnd.jupyter.widget-view+json": {
       "model_id": "eb0b2ebb85d74d13ad6a2ad61681239f",
       "version_major": 2,
       "version_minor": 0
      },
      "text/plain": [
       "Validation: 0it [00:00, ?it/s]"
      ]
     },
     "metadata": {},
     "output_type": "display_data"
    },
    {
     "data": {
      "application/vnd.jupyter.widget-view+json": {
       "model_id": "eae519872d264384a6c0214edc96067d",
       "version_major": 2,
       "version_minor": 0
      },
      "text/plain": [
       "Validation: 0it [00:00, ?it/s]"
      ]
     },
     "metadata": {},
     "output_type": "display_data"
    },
    {
     "data": {
      "application/vnd.jupyter.widget-view+json": {
       "model_id": "5da6e73dcbab4b61864e72c0d09baabf",
       "version_major": 2,
       "version_minor": 0
      },
      "text/plain": [
       "Validation: 0it [00:00, ?it/s]"
      ]
     },
     "metadata": {},
     "output_type": "display_data"
    },
    {
     "data": {
      "application/vnd.jupyter.widget-view+json": {
       "model_id": "a0f1e71db85a4d79aef3f234077bd423",
       "version_major": 2,
       "version_minor": 0
      },
      "text/plain": [
       "Validation: 0it [00:00, ?it/s]"
      ]
     },
     "metadata": {},
     "output_type": "display_data"
    },
    {
     "data": {
      "application/vnd.jupyter.widget-view+json": {
       "model_id": "e013f0a1804546ca98b67859f4111f14",
       "version_major": 2,
       "version_minor": 0
      },
      "text/plain": [
       "Validation: 0it [00:00, ?it/s]"
      ]
     },
     "metadata": {},
     "output_type": "display_data"
    },
    {
     "data": {
      "application/vnd.jupyter.widget-view+json": {
       "model_id": "0eb7e144f8414d0ea455edbfedad1fea",
       "version_major": 2,
       "version_minor": 0
      },
      "text/plain": [
       "Validation: 0it [00:00, ?it/s]"
      ]
     },
     "metadata": {},
     "output_type": "display_data"
    },
    {
     "data": {
      "application/vnd.jupyter.widget-view+json": {
       "model_id": "21ce53c4758245928fa668dbf912ad5c",
       "version_major": 2,
       "version_minor": 0
      },
      "text/plain": [
       "Validation: 0it [00:00, ?it/s]"
      ]
     },
     "metadata": {},
     "output_type": "display_data"
    },
    {
     "data": {
      "application/vnd.jupyter.widget-view+json": {
       "model_id": "e3730e8f11a84c1c828aec82aee772e4",
       "version_major": 2,
       "version_minor": 0
      },
      "text/plain": [
       "Validation: 0it [00:00, ?it/s]"
      ]
     },
     "metadata": {},
     "output_type": "display_data"
    },
    {
     "data": {
      "application/vnd.jupyter.widget-view+json": {
       "model_id": "d94b8fa20fe048a38188c26e759bee8f",
       "version_major": 2,
       "version_minor": 0
      },
      "text/plain": [
       "Validation: 0it [00:00, ?it/s]"
      ]
     },
     "metadata": {},
     "output_type": "display_data"
    },
    {
     "data": {
      "application/vnd.jupyter.widget-view+json": {
       "model_id": "e1377918967545b381c20011132e1cca",
       "version_major": 2,
       "version_minor": 0
      },
      "text/plain": [
       "Predicting: 0it [00:00, ?it/s]"
      ]
     },
     "metadata": {},
     "output_type": "display_data"
    },
    {
     "data": {
      "application/vnd.jupyter.widget-view+json": {
       "model_id": "c549cd4592d54ecb9f3ae3472a28bccb",
       "version_major": 2,
       "version_minor": 0
      },
      "text/plain": [
       "Predicting: 0it [00:00, ?it/s]"
      ]
     },
     "metadata": {},
     "output_type": "display_data"
    },
    {
     "name": "stderr",
     "output_type": "stream",
     "text": [
      "Global seed set to 5\n",
      "Global seed set to 5\n"
     ]
    },
    {
     "data": {
      "application/vnd.jupyter.widget-view+json": {
       "model_id": "89ca1219b2d24d52934197b345e6e763",
       "version_major": 2,
       "version_minor": 0
      },
      "text/plain": [
       "Sanity Checking: 0it [00:00, ?it/s]"
      ]
     },
     "metadata": {},
     "output_type": "display_data"
    },
    {
     "data": {
      "application/vnd.jupyter.widget-view+json": {
       "model_id": "a6a84f42e06a45e28add18739e705796",
       "version_major": 2,
       "version_minor": 0
      },
      "text/plain": [
       "Training: 0it [00:00, ?it/s]"
      ]
     },
     "metadata": {},
     "output_type": "display_data"
    },
    {
     "data": {
      "application/vnd.jupyter.widget-view+json": {
       "model_id": "6673fefa4bfc4862a857cb73aa964554",
       "version_major": 2,
       "version_minor": 0
      },
      "text/plain": [
       "Validation: 0it [00:00, ?it/s]"
      ]
     },
     "metadata": {},
     "output_type": "display_data"
    },
    {
     "data": {
      "application/vnd.jupyter.widget-view+json": {
       "model_id": "5421b97e1a7b483b9abed911195fa17e",
       "version_major": 2,
       "version_minor": 0
      },
      "text/plain": [
       "Validation: 0it [00:00, ?it/s]"
      ]
     },
     "metadata": {},
     "output_type": "display_data"
    },
    {
     "data": {
      "application/vnd.jupyter.widget-view+json": {
       "model_id": "f64d8420c56247ff8e08f8fb61f090bc",
       "version_major": 2,
       "version_minor": 0
      },
      "text/plain": [
       "Validation: 0it [00:00, ?it/s]"
      ]
     },
     "metadata": {},
     "output_type": "display_data"
    },
    {
     "data": {
      "application/vnd.jupyter.widget-view+json": {
       "model_id": "e8e3a26a0aea4d51a29b2e54f19a0b17",
       "version_major": 2,
       "version_minor": 0
      },
      "text/plain": [
       "Validation: 0it [00:00, ?it/s]"
      ]
     },
     "metadata": {},
     "output_type": "display_data"
    },
    {
     "data": {
      "application/vnd.jupyter.widget-view+json": {
       "model_id": "6bc380c315be4e1b8a869ee46327060d",
       "version_major": 2,
       "version_minor": 0
      },
      "text/plain": [
       "Validation: 0it [00:00, ?it/s]"
      ]
     },
     "metadata": {},
     "output_type": "display_data"
    },
    {
     "data": {
      "application/vnd.jupyter.widget-view+json": {
       "model_id": "7ece3e003cd4459db85dd729b6136fd2",
       "version_major": 2,
       "version_minor": 0
      },
      "text/plain": [
       "Validation: 0it [00:00, ?it/s]"
      ]
     },
     "metadata": {},
     "output_type": "display_data"
    },
    {
     "data": {
      "application/vnd.jupyter.widget-view+json": {
       "model_id": "68958899fcca4de592fff1793ae318f9",
       "version_major": 2,
       "version_minor": 0
      },
      "text/plain": [
       "Validation: 0it [00:00, ?it/s]"
      ]
     },
     "metadata": {},
     "output_type": "display_data"
    },
    {
     "data": {
      "application/vnd.jupyter.widget-view+json": {
       "model_id": "cac1bc9b086f4a83a5e6e3f8d249d496",
       "version_major": 2,
       "version_minor": 0
      },
      "text/plain": [
       "Validation: 0it [00:00, ?it/s]"
      ]
     },
     "metadata": {},
     "output_type": "display_data"
    },
    {
     "data": {
      "application/vnd.jupyter.widget-view+json": {
       "model_id": "52574a2b0cd94195904c4bbcb67076fc",
       "version_major": 2,
       "version_minor": 0
      },
      "text/plain": [
       "Validation: 0it [00:00, ?it/s]"
      ]
     },
     "metadata": {},
     "output_type": "display_data"
    },
    {
     "data": {
      "application/vnd.jupyter.widget-view+json": {
       "model_id": "7ff97ef6d88e427f88d837c9107b218b",
       "version_major": 2,
       "version_minor": 0
      },
      "text/plain": [
       "Validation: 0it [00:00, ?it/s]"
      ]
     },
     "metadata": {},
     "output_type": "display_data"
    },
    {
     "data": {
      "application/vnd.jupyter.widget-view+json": {
       "model_id": "7f9f5ee2e67142fea2c6819725e2300b",
       "version_major": 2,
       "version_minor": 0
      },
      "text/plain": [
       "Sanity Checking: 0it [00:00, ?it/s]"
      ]
     },
     "metadata": {},
     "output_type": "display_data"
    },
    {
     "data": {
      "application/vnd.jupyter.widget-view+json": {
       "model_id": "5d232ab0fd1d4e3587d8fc7c9dfc8efc",
       "version_major": 2,
       "version_minor": 0
      },
      "text/plain": [
       "Training: 0it [00:00, ?it/s]"
      ]
     },
     "metadata": {},
     "output_type": "display_data"
    },
    {
     "data": {
      "application/vnd.jupyter.widget-view+json": {
       "model_id": "c7548474a6e64c1da0b4b074c503a5fa",
       "version_major": 2,
       "version_minor": 0
      },
      "text/plain": [
       "Validation: 0it [00:00, ?it/s]"
      ]
     },
     "metadata": {},
     "output_type": "display_data"
    },
    {
     "data": {
      "application/vnd.jupyter.widget-view+json": {
       "model_id": "4e0e7bef8ab44867bd760299bbdb83b4",
       "version_major": 2,
       "version_minor": 0
      },
      "text/plain": [
       "Validation: 0it [00:00, ?it/s]"
      ]
     },
     "metadata": {},
     "output_type": "display_data"
    },
    {
     "data": {
      "application/vnd.jupyter.widget-view+json": {
       "model_id": "2e414034eb5b4f28929ddbd3c69c8e41",
       "version_major": 2,
       "version_minor": 0
      },
      "text/plain": [
       "Validation: 0it [00:00, ?it/s]"
      ]
     },
     "metadata": {},
     "output_type": "display_data"
    },
    {
     "data": {
      "application/vnd.jupyter.widget-view+json": {
       "model_id": "74973b5b0c9c490ca8c48fb4f7d80694",
       "version_major": 2,
       "version_minor": 0
      },
      "text/plain": [
       "Validation: 0it [00:00, ?it/s]"
      ]
     },
     "metadata": {},
     "output_type": "display_data"
    },
    {
     "data": {
      "application/vnd.jupyter.widget-view+json": {
       "model_id": "191cfee0efcc41c9a58f9086f8d623cb",
       "version_major": 2,
       "version_minor": 0
      },
      "text/plain": [
       "Validation: 0it [00:00, ?it/s]"
      ]
     },
     "metadata": {},
     "output_type": "display_data"
    },
    {
     "data": {
      "application/vnd.jupyter.widget-view+json": {
       "model_id": "f09ca40e679b44bb9c38bfedacbeb285",
       "version_major": 2,
       "version_minor": 0
      },
      "text/plain": [
       "Validation: 0it [00:00, ?it/s]"
      ]
     },
     "metadata": {},
     "output_type": "display_data"
    },
    {
     "data": {
      "application/vnd.jupyter.widget-view+json": {
       "model_id": "ecd9f00781df4156a8aeedad55f16387",
       "version_major": 2,
       "version_minor": 0
      },
      "text/plain": [
       "Validation: 0it [00:00, ?it/s]"
      ]
     },
     "metadata": {},
     "output_type": "display_data"
    },
    {
     "data": {
      "application/vnd.jupyter.widget-view+json": {
       "model_id": "0f88824ee53340288865cfaafc2d3c9b",
       "version_major": 2,
       "version_minor": 0
      },
      "text/plain": [
       "Validation: 0it [00:00, ?it/s]"
      ]
     },
     "metadata": {},
     "output_type": "display_data"
    },
    {
     "data": {
      "application/vnd.jupyter.widget-view+json": {
       "model_id": "50783f4340834161b994dddad4b6ac6c",
       "version_major": 2,
       "version_minor": 0
      },
      "text/plain": [
       "Validation: 0it [00:00, ?it/s]"
      ]
     },
     "metadata": {},
     "output_type": "display_data"
    },
    {
     "data": {
      "application/vnd.jupyter.widget-view+json": {
       "model_id": "55a4bdc3f4464fef85039f1df9c29d0b",
       "version_major": 2,
       "version_minor": 0
      },
      "text/plain": [
       "Validation: 0it [00:00, ?it/s]"
      ]
     },
     "metadata": {},
     "output_type": "display_data"
    },
    {
     "data": {
      "application/vnd.jupyter.widget-view+json": {
       "model_id": "2c0ce8719b04459c9c3735e840d0e8e7",
       "version_major": 2,
       "version_minor": 0
      },
      "text/plain": [
       "Predicting: 0it [00:00, ?it/s]"
      ]
     },
     "metadata": {},
     "output_type": "display_data"
    },
    {
     "data": {
      "application/vnd.jupyter.widget-view+json": {
       "model_id": "5ffdbd0e2c2b4e7db9a2362a02b604ab",
       "version_major": 2,
       "version_minor": 0
      },
      "text/plain": [
       "Predicting: 0it [00:00, ?it/s]"
      ]
     },
     "metadata": {},
     "output_type": "display_data"
    },
    {
     "name": "stderr",
     "output_type": "stream",
     "text": [
      "Global seed set to 5\n",
      "Global seed set to 5\n"
     ]
    },
    {
     "data": {
      "application/vnd.jupyter.widget-view+json": {
       "model_id": "d57c3356a0234e348900bf1685b12af9",
       "version_major": 2,
       "version_minor": 0
      },
      "text/plain": [
       "Sanity Checking: 0it [00:00, ?it/s]"
      ]
     },
     "metadata": {},
     "output_type": "display_data"
    },
    {
     "data": {
      "application/vnd.jupyter.widget-view+json": {
       "model_id": "98801512f1cf495d875a55ce3a38ce52",
       "version_major": 2,
       "version_minor": 0
      },
      "text/plain": [
       "Training: 0it [00:00, ?it/s]"
      ]
     },
     "metadata": {},
     "output_type": "display_data"
    },
    {
     "data": {
      "application/vnd.jupyter.widget-view+json": {
       "model_id": "aed919616e6746859f4e426bbfd18322",
       "version_major": 2,
       "version_minor": 0
      },
      "text/plain": [
       "Validation: 0it [00:00, ?it/s]"
      ]
     },
     "metadata": {},
     "output_type": "display_data"
    },
    {
     "data": {
      "application/vnd.jupyter.widget-view+json": {
       "model_id": "39f48de2ff0c4b66a22efbd07fb94711",
       "version_major": 2,
       "version_minor": 0
      },
      "text/plain": [
       "Validation: 0it [00:00, ?it/s]"
      ]
     },
     "metadata": {},
     "output_type": "display_data"
    },
    {
     "data": {
      "application/vnd.jupyter.widget-view+json": {
       "model_id": "6bfe48ae171c4f8abf6f9015e17444b5",
       "version_major": 2,
       "version_minor": 0
      },
      "text/plain": [
       "Validation: 0it [00:00, ?it/s]"
      ]
     },
     "metadata": {},
     "output_type": "display_data"
    },
    {
     "data": {
      "application/vnd.jupyter.widget-view+json": {
       "model_id": "8b7f28e234f9468a845e9423640c6749",
       "version_major": 2,
       "version_minor": 0
      },
      "text/plain": [
       "Validation: 0it [00:00, ?it/s]"
      ]
     },
     "metadata": {},
     "output_type": "display_data"
    },
    {
     "data": {
      "application/vnd.jupyter.widget-view+json": {
       "model_id": "02b3ed99765e4ec1b694097dd3b20048",
       "version_major": 2,
       "version_minor": 0
      },
      "text/plain": [
       "Validation: 0it [00:00, ?it/s]"
      ]
     },
     "metadata": {},
     "output_type": "display_data"
    },
    {
     "data": {
      "application/vnd.jupyter.widget-view+json": {
       "model_id": "fe42d73668294646a4869742752461a5",
       "version_major": 2,
       "version_minor": 0
      },
      "text/plain": [
       "Validation: 0it [00:00, ?it/s]"
      ]
     },
     "metadata": {},
     "output_type": "display_data"
    },
    {
     "data": {
      "application/vnd.jupyter.widget-view+json": {
       "model_id": "3c3ac41617c845ab80ec54721138e14a",
       "version_major": 2,
       "version_minor": 0
      },
      "text/plain": [
       "Validation: 0it [00:00, ?it/s]"
      ]
     },
     "metadata": {},
     "output_type": "display_data"
    },
    {
     "data": {
      "application/vnd.jupyter.widget-view+json": {
       "model_id": "caecb602e73c4201bbc82959f1373b70",
       "version_major": 2,
       "version_minor": 0
      },
      "text/plain": [
       "Validation: 0it [00:00, ?it/s]"
      ]
     },
     "metadata": {},
     "output_type": "display_data"
    },
    {
     "data": {
      "application/vnd.jupyter.widget-view+json": {
       "model_id": "adb45ebfc42a425789a4c0c925760ad7",
       "version_major": 2,
       "version_minor": 0
      },
      "text/plain": [
       "Validation: 0it [00:00, ?it/s]"
      ]
     },
     "metadata": {},
     "output_type": "display_data"
    },
    {
     "data": {
      "application/vnd.jupyter.widget-view+json": {
       "model_id": "741b47c883ac43eabd6382f15ab4187a",
       "version_major": 2,
       "version_minor": 0
      },
      "text/plain": [
       "Validation: 0it [00:00, ?it/s]"
      ]
     },
     "metadata": {},
     "output_type": "display_data"
    },
    {
     "data": {
      "application/vnd.jupyter.widget-view+json": {
       "model_id": "fccfbf1bfe6a4be59fb3fd25dba3bf30",
       "version_major": 2,
       "version_minor": 0
      },
      "text/plain": [
       "Sanity Checking: 0it [00:00, ?it/s]"
      ]
     },
     "metadata": {},
     "output_type": "display_data"
    },
    {
     "data": {
      "application/vnd.jupyter.widget-view+json": {
       "model_id": "60484746f7834764b208d18b64d88af9",
       "version_major": 2,
       "version_minor": 0
      },
      "text/plain": [
       "Training: 0it [00:00, ?it/s]"
      ]
     },
     "metadata": {},
     "output_type": "display_data"
    },
    {
     "data": {
      "application/vnd.jupyter.widget-view+json": {
       "model_id": "4d512e08fef94e139ece6fdf057f4a6a",
       "version_major": 2,
       "version_minor": 0
      },
      "text/plain": [
       "Validation: 0it [00:00, ?it/s]"
      ]
     },
     "metadata": {},
     "output_type": "display_data"
    },
    {
     "data": {
      "application/vnd.jupyter.widget-view+json": {
       "model_id": "b647e42a05be474289b451e89ea7c2b8",
       "version_major": 2,
       "version_minor": 0
      },
      "text/plain": [
       "Validation: 0it [00:00, ?it/s]"
      ]
     },
     "metadata": {},
     "output_type": "display_data"
    },
    {
     "data": {
      "application/vnd.jupyter.widget-view+json": {
       "model_id": "ec9fee4a700f4110b7d1f188abd6f174",
       "version_major": 2,
       "version_minor": 0
      },
      "text/plain": [
       "Validation: 0it [00:00, ?it/s]"
      ]
     },
     "metadata": {},
     "output_type": "display_data"
    },
    {
     "data": {
      "application/vnd.jupyter.widget-view+json": {
       "model_id": "7e5b3ef252154f09ba306828b1f74a27",
       "version_major": 2,
       "version_minor": 0
      },
      "text/plain": [
       "Validation: 0it [00:00, ?it/s]"
      ]
     },
     "metadata": {},
     "output_type": "display_data"
    },
    {
     "data": {
      "application/vnd.jupyter.widget-view+json": {
       "model_id": "88c3b7ba19d044908a94157de875193e",
       "version_major": 2,
       "version_minor": 0
      },
      "text/plain": [
       "Validation: 0it [00:00, ?it/s]"
      ]
     },
     "metadata": {},
     "output_type": "display_data"
    },
    {
     "data": {
      "application/vnd.jupyter.widget-view+json": {
       "model_id": "5f3618ca6bb94b48925c864362309849",
       "version_major": 2,
       "version_minor": 0
      },
      "text/plain": [
       "Validation: 0it [00:00, ?it/s]"
      ]
     },
     "metadata": {},
     "output_type": "display_data"
    },
    {
     "data": {
      "application/vnd.jupyter.widget-view+json": {
       "model_id": "76af4c6f882c4ee9aa62be60ade3d2b1",
       "version_major": 2,
       "version_minor": 0
      },
      "text/plain": [
       "Validation: 0it [00:00, ?it/s]"
      ]
     },
     "metadata": {},
     "output_type": "display_data"
    },
    {
     "data": {
      "application/vnd.jupyter.widget-view+json": {
       "model_id": "6550116742f4418caf6306a257cc20cd",
       "version_major": 2,
       "version_minor": 0
      },
      "text/plain": [
       "Validation: 0it [00:00, ?it/s]"
      ]
     },
     "metadata": {},
     "output_type": "display_data"
    },
    {
     "data": {
      "application/vnd.jupyter.widget-view+json": {
       "model_id": "d77b47acc2f3481d9d600bc5755bf154",
       "version_major": 2,
       "version_minor": 0
      },
      "text/plain": [
       "Validation: 0it [00:00, ?it/s]"
      ]
     },
     "metadata": {},
     "output_type": "display_data"
    },
    {
     "data": {
      "application/vnd.jupyter.widget-view+json": {
       "model_id": "278836c996fa4fa7876f5f26976ff16e",
       "version_major": 2,
       "version_minor": 0
      },
      "text/plain": [
       "Validation: 0it [00:00, ?it/s]"
      ]
     },
     "metadata": {},
     "output_type": "display_data"
    },
    {
     "data": {
      "application/vnd.jupyter.widget-view+json": {
       "model_id": "55ab5c1d6e9f4e2e9e2a42e7aeae7402",
       "version_major": 2,
       "version_minor": 0
      },
      "text/plain": [
       "Predicting: 0it [00:00, ?it/s]"
      ]
     },
     "metadata": {},
     "output_type": "display_data"
    },
    {
     "data": {
      "application/vnd.jupyter.widget-view+json": {
       "model_id": "96591e06c511477d8f7d3168dc6a69ca",
       "version_major": 2,
       "version_minor": 0
      },
      "text/plain": [
       "Predicting: 0it [00:00, ?it/s]"
      ]
     },
     "metadata": {},
     "output_type": "display_data"
    },
    {
     "name": "stderr",
     "output_type": "stream",
     "text": [
      "Global seed set to 5\n",
      "Global seed set to 5\n"
     ]
    },
    {
     "data": {
      "application/vnd.jupyter.widget-view+json": {
       "model_id": "77a36727b5cd42b5b1fe5976323cb496",
       "version_major": 2,
       "version_minor": 0
      },
      "text/plain": [
       "Sanity Checking: 0it [00:00, ?it/s]"
      ]
     },
     "metadata": {},
     "output_type": "display_data"
    },
    {
     "data": {
      "application/vnd.jupyter.widget-view+json": {
       "model_id": "e5db18c293e04af49f59d0fefa94ce1a",
       "version_major": 2,
       "version_minor": 0
      },
      "text/plain": [
       "Training: 0it [00:00, ?it/s]"
      ]
     },
     "metadata": {},
     "output_type": "display_data"
    },
    {
     "data": {
      "application/vnd.jupyter.widget-view+json": {
       "model_id": "4530b67bf1fe459b89d5642d948dd114",
       "version_major": 2,
       "version_minor": 0
      },
      "text/plain": [
       "Validation: 0it [00:00, ?it/s]"
      ]
     },
     "metadata": {},
     "output_type": "display_data"
    },
    {
     "data": {
      "application/vnd.jupyter.widget-view+json": {
       "model_id": "3c4dd26c210240caa397f7fdbad72942",
       "version_major": 2,
       "version_minor": 0
      },
      "text/plain": [
       "Validation: 0it [00:00, ?it/s]"
      ]
     },
     "metadata": {},
     "output_type": "display_data"
    },
    {
     "data": {
      "application/vnd.jupyter.widget-view+json": {
       "model_id": "90e600ffd66d42bb996a4a6461e22412",
       "version_major": 2,
       "version_minor": 0
      },
      "text/plain": [
       "Validation: 0it [00:00, ?it/s]"
      ]
     },
     "metadata": {},
     "output_type": "display_data"
    },
    {
     "data": {
      "application/vnd.jupyter.widget-view+json": {
       "model_id": "d5ab26ccb69b46daa9cdaf7a9351ad3e",
       "version_major": 2,
       "version_minor": 0
      },
      "text/plain": [
       "Validation: 0it [00:00, ?it/s]"
      ]
     },
     "metadata": {},
     "output_type": "display_data"
    },
    {
     "data": {
      "application/vnd.jupyter.widget-view+json": {
       "model_id": "0a2aa8db77d34c7292516b682979a3ea",
       "version_major": 2,
       "version_minor": 0
      },
      "text/plain": [
       "Validation: 0it [00:00, ?it/s]"
      ]
     },
     "metadata": {},
     "output_type": "display_data"
    },
    {
     "data": {
      "application/vnd.jupyter.widget-view+json": {
       "model_id": "41afb044ac4c4483b2c4a8b9c1411361",
       "version_major": 2,
       "version_minor": 0
      },
      "text/plain": [
       "Validation: 0it [00:00, ?it/s]"
      ]
     },
     "metadata": {},
     "output_type": "display_data"
    },
    {
     "data": {
      "application/vnd.jupyter.widget-view+json": {
       "model_id": "41bb302ec17d40ebb5bf0f01e8c1d882",
       "version_major": 2,
       "version_minor": 0
      },
      "text/plain": [
       "Validation: 0it [00:00, ?it/s]"
      ]
     },
     "metadata": {},
     "output_type": "display_data"
    },
    {
     "data": {
      "application/vnd.jupyter.widget-view+json": {
       "model_id": "be902f35e6784d0186a89e4064974b1a",
       "version_major": 2,
       "version_minor": 0
      },
      "text/plain": [
       "Validation: 0it [00:00, ?it/s]"
      ]
     },
     "metadata": {},
     "output_type": "display_data"
    },
    {
     "data": {
      "application/vnd.jupyter.widget-view+json": {
       "model_id": "7a9c0a9bdc484ae69c82088511c6dc41",
       "version_major": 2,
       "version_minor": 0
      },
      "text/plain": [
       "Validation: 0it [00:00, ?it/s]"
      ]
     },
     "metadata": {},
     "output_type": "display_data"
    },
    {
     "data": {
      "application/vnd.jupyter.widget-view+json": {
       "model_id": "2673821e36c543a78144662cfc138632",
       "version_major": 2,
       "version_minor": 0
      },
      "text/plain": [
       "Validation: 0it [00:00, ?it/s]"
      ]
     },
     "metadata": {},
     "output_type": "display_data"
    },
    {
     "data": {
      "application/vnd.jupyter.widget-view+json": {
       "model_id": "ad254b209c924d40beb5f051016a1eca",
       "version_major": 2,
       "version_minor": 0
      },
      "text/plain": [
       "Sanity Checking: 0it [00:00, ?it/s]"
      ]
     },
     "metadata": {},
     "output_type": "display_data"
    },
    {
     "data": {
      "application/vnd.jupyter.widget-view+json": {
       "model_id": "f59b230a8b4743289925eb4ee83db922",
       "version_major": 2,
       "version_minor": 0
      },
      "text/plain": [
       "Training: 0it [00:00, ?it/s]"
      ]
     },
     "metadata": {},
     "output_type": "display_data"
    },
    {
     "data": {
      "application/vnd.jupyter.widget-view+json": {
       "model_id": "729e5af250d94b8eb98c04129aef3b88",
       "version_major": 2,
       "version_minor": 0
      },
      "text/plain": [
       "Validation: 0it [00:00, ?it/s]"
      ]
     },
     "metadata": {},
     "output_type": "display_data"
    },
    {
     "data": {
      "application/vnd.jupyter.widget-view+json": {
       "model_id": "831aa44cb3f64ee5b54129f6a5c01178",
       "version_major": 2,
       "version_minor": 0
      },
      "text/plain": [
       "Validation: 0it [00:00, ?it/s]"
      ]
     },
     "metadata": {},
     "output_type": "display_data"
    },
    {
     "data": {
      "application/vnd.jupyter.widget-view+json": {
       "model_id": "950d90f7c39446bb903e16ce32cbcd3e",
       "version_major": 2,
       "version_minor": 0
      },
      "text/plain": [
       "Validation: 0it [00:00, ?it/s]"
      ]
     },
     "metadata": {},
     "output_type": "display_data"
    },
    {
     "data": {
      "application/vnd.jupyter.widget-view+json": {
       "model_id": "27e5433daeca44a894cceb8d6fb06240",
       "version_major": 2,
       "version_minor": 0
      },
      "text/plain": [
       "Validation: 0it [00:00, ?it/s]"
      ]
     },
     "metadata": {},
     "output_type": "display_data"
    },
    {
     "data": {
      "application/vnd.jupyter.widget-view+json": {
       "model_id": "33d66ba3b4a94493b804508c02b17011",
       "version_major": 2,
       "version_minor": 0
      },
      "text/plain": [
       "Validation: 0it [00:00, ?it/s]"
      ]
     },
     "metadata": {},
     "output_type": "display_data"
    },
    {
     "data": {
      "application/vnd.jupyter.widget-view+json": {
       "model_id": "9bc2f7264dd1426f833eb91d20f890d7",
       "version_major": 2,
       "version_minor": 0
      },
      "text/plain": [
       "Validation: 0it [00:00, ?it/s]"
      ]
     },
     "metadata": {},
     "output_type": "display_data"
    },
    {
     "data": {
      "application/vnd.jupyter.widget-view+json": {
       "model_id": "23bf3860d6a7464bbb99b66c2eb4fce9",
       "version_major": 2,
       "version_minor": 0
      },
      "text/plain": [
       "Validation: 0it [00:00, ?it/s]"
      ]
     },
     "metadata": {},
     "output_type": "display_data"
    },
    {
     "data": {
      "application/vnd.jupyter.widget-view+json": {
       "model_id": "e9336bb29c5e4a588d47423358c4347c",
       "version_major": 2,
       "version_minor": 0
      },
      "text/plain": [
       "Validation: 0it [00:00, ?it/s]"
      ]
     },
     "metadata": {},
     "output_type": "display_data"
    },
    {
     "data": {
      "application/vnd.jupyter.widget-view+json": {
       "model_id": "4da6e1fce33147f3b3dfa2f9a104499e",
       "version_major": 2,
       "version_minor": 0
      },
      "text/plain": [
       "Validation: 0it [00:00, ?it/s]"
      ]
     },
     "metadata": {},
     "output_type": "display_data"
    },
    {
     "data": {
      "application/vnd.jupyter.widget-view+json": {
       "model_id": "c26fbe3ec9f34087b799af581cd65b2c",
       "version_major": 2,
       "version_minor": 0
      },
      "text/plain": [
       "Validation: 0it [00:00, ?it/s]"
      ]
     },
     "metadata": {},
     "output_type": "display_data"
    },
    {
     "data": {
      "application/vnd.jupyter.widget-view+json": {
       "model_id": "7975dd6724de4292a79a386312350aa5",
       "version_major": 2,
       "version_minor": 0
      },
      "text/plain": [
       "Predicting: 0it [00:00, ?it/s]"
      ]
     },
     "metadata": {},
     "output_type": "display_data"
    },
    {
     "data": {
      "application/vnd.jupyter.widget-view+json": {
       "model_id": "f3fe08ba96ed40568c6c3c065fd80320",
       "version_major": 2,
       "version_minor": 0
      },
      "text/plain": [
       "Predicting: 0it [00:00, ?it/s]"
      ]
     },
     "metadata": {},
     "output_type": "display_data"
    },
    {
     "name": "stderr",
     "output_type": "stream",
     "text": [
      "Global seed set to 5\n",
      "Global seed set to 5\n"
     ]
    },
    {
     "data": {
      "application/vnd.jupyter.widget-view+json": {
       "model_id": "91ce3af252604c5ab177ba75c79ca360",
       "version_major": 2,
       "version_minor": 0
      },
      "text/plain": [
       "Sanity Checking: 0it [00:00, ?it/s]"
      ]
     },
     "metadata": {},
     "output_type": "display_data"
    },
    {
     "data": {
      "application/vnd.jupyter.widget-view+json": {
       "model_id": "6ef3b8d6ebf44a8c8c004fbb3b63b7a0",
       "version_major": 2,
       "version_minor": 0
      },
      "text/plain": [
       "Training: 0it [00:00, ?it/s]"
      ]
     },
     "metadata": {},
     "output_type": "display_data"
    },
    {
     "data": {
      "application/vnd.jupyter.widget-view+json": {
       "model_id": "5c427a5b187f4470babdba6409359da4",
       "version_major": 2,
       "version_minor": 0
      },
      "text/plain": [
       "Validation: 0it [00:00, ?it/s]"
      ]
     },
     "metadata": {},
     "output_type": "display_data"
    },
    {
     "data": {
      "application/vnd.jupyter.widget-view+json": {
       "model_id": "9d884a944175418ab2eef6b35c103ce2",
       "version_major": 2,
       "version_minor": 0
      },
      "text/plain": [
       "Validation: 0it [00:00, ?it/s]"
      ]
     },
     "metadata": {},
     "output_type": "display_data"
    },
    {
     "data": {
      "application/vnd.jupyter.widget-view+json": {
       "model_id": "2fb608e8892f45e89f655fe86a03201b",
       "version_major": 2,
       "version_minor": 0
      },
      "text/plain": [
       "Validation: 0it [00:00, ?it/s]"
      ]
     },
     "metadata": {},
     "output_type": "display_data"
    },
    {
     "data": {
      "application/vnd.jupyter.widget-view+json": {
       "model_id": "dda491f4182440b1bf7910a9749f873e",
       "version_major": 2,
       "version_minor": 0
      },
      "text/plain": [
       "Validation: 0it [00:00, ?it/s]"
      ]
     },
     "metadata": {},
     "output_type": "display_data"
    },
    {
     "data": {
      "application/vnd.jupyter.widget-view+json": {
       "model_id": "d5d752fce245440c972f32a889f1bd10",
       "version_major": 2,
       "version_minor": 0
      },
      "text/plain": [
       "Validation: 0it [00:00, ?it/s]"
      ]
     },
     "metadata": {},
     "output_type": "display_data"
    },
    {
     "data": {
      "application/vnd.jupyter.widget-view+json": {
       "model_id": "ae2ad7f6596c407aa393ff05ea77c61a",
       "version_major": 2,
       "version_minor": 0
      },
      "text/plain": [
       "Validation: 0it [00:00, ?it/s]"
      ]
     },
     "metadata": {},
     "output_type": "display_data"
    },
    {
     "data": {
      "application/vnd.jupyter.widget-view+json": {
       "model_id": "5399c9a6329f4747af9b52a1c7e81634",
       "version_major": 2,
       "version_minor": 0
      },
      "text/plain": [
       "Validation: 0it [00:00, ?it/s]"
      ]
     },
     "metadata": {},
     "output_type": "display_data"
    },
    {
     "data": {
      "application/vnd.jupyter.widget-view+json": {
       "model_id": "f44386de4ec649f08f9174db9f72931f",
       "version_major": 2,
       "version_minor": 0
      },
      "text/plain": [
       "Validation: 0it [00:00, ?it/s]"
      ]
     },
     "metadata": {},
     "output_type": "display_data"
    },
    {
     "data": {
      "application/vnd.jupyter.widget-view+json": {
       "model_id": "e59681e10aba463583552fa962a10d9e",
       "version_major": 2,
       "version_minor": 0
      },
      "text/plain": [
       "Validation: 0it [00:00, ?it/s]"
      ]
     },
     "metadata": {},
     "output_type": "display_data"
    },
    {
     "data": {
      "application/vnd.jupyter.widget-view+json": {
       "model_id": "a6482288b763419ba3927558f439d2c9",
       "version_major": 2,
       "version_minor": 0
      },
      "text/plain": [
       "Validation: 0it [00:00, ?it/s]"
      ]
     },
     "metadata": {},
     "output_type": "display_data"
    },
    {
     "data": {
      "application/vnd.jupyter.widget-view+json": {
       "model_id": "778423c812f9478c9f61f30178e8de33",
       "version_major": 2,
       "version_minor": 0
      },
      "text/plain": [
       "Sanity Checking: 0it [00:00, ?it/s]"
      ]
     },
     "metadata": {},
     "output_type": "display_data"
    },
    {
     "data": {
      "application/vnd.jupyter.widget-view+json": {
       "model_id": "47ca8d72e58749a1b86b56d7d6855b03",
       "version_major": 2,
       "version_minor": 0
      },
      "text/plain": [
       "Training: 0it [00:00, ?it/s]"
      ]
     },
     "metadata": {},
     "output_type": "display_data"
    },
    {
     "data": {
      "application/vnd.jupyter.widget-view+json": {
       "model_id": "d08dd7ff677645bfaf505050c62c39e9",
       "version_major": 2,
       "version_minor": 0
      },
      "text/plain": [
       "Validation: 0it [00:00, ?it/s]"
      ]
     },
     "metadata": {},
     "output_type": "display_data"
    },
    {
     "data": {
      "application/vnd.jupyter.widget-view+json": {
       "model_id": "e1dc896679cf46ef967aab6ed6b0cdc4",
       "version_major": 2,
       "version_minor": 0
      },
      "text/plain": [
       "Validation: 0it [00:00, ?it/s]"
      ]
     },
     "metadata": {},
     "output_type": "display_data"
    },
    {
     "data": {
      "application/vnd.jupyter.widget-view+json": {
       "model_id": "aec3befb84f04261bd2035e82f9d9e49",
       "version_major": 2,
       "version_minor": 0
      },
      "text/plain": [
       "Validation: 0it [00:00, ?it/s]"
      ]
     },
     "metadata": {},
     "output_type": "display_data"
    },
    {
     "data": {
      "application/vnd.jupyter.widget-view+json": {
       "model_id": "ac527552bf3341d29e0d6c9c6c4a8617",
       "version_major": 2,
       "version_minor": 0
      },
      "text/plain": [
       "Validation: 0it [00:00, ?it/s]"
      ]
     },
     "metadata": {},
     "output_type": "display_data"
    },
    {
     "data": {
      "application/vnd.jupyter.widget-view+json": {
       "model_id": "760aaad0551441e79e7015fc095ff731",
       "version_major": 2,
       "version_minor": 0
      },
      "text/plain": [
       "Validation: 0it [00:00, ?it/s]"
      ]
     },
     "metadata": {},
     "output_type": "display_data"
    },
    {
     "data": {
      "application/vnd.jupyter.widget-view+json": {
       "model_id": "5d9ca5e92d654a99a21983c7213285f6",
       "version_major": 2,
       "version_minor": 0
      },
      "text/plain": [
       "Validation: 0it [00:00, ?it/s]"
      ]
     },
     "metadata": {},
     "output_type": "display_data"
    },
    {
     "data": {
      "application/vnd.jupyter.widget-view+json": {
       "model_id": "9cdf2dc9bbbc4693ab36a463d4885c6b",
       "version_major": 2,
       "version_minor": 0
      },
      "text/plain": [
       "Validation: 0it [00:00, ?it/s]"
      ]
     },
     "metadata": {},
     "output_type": "display_data"
    },
    {
     "data": {
      "application/vnd.jupyter.widget-view+json": {
       "model_id": "43c1f583cf8f427882d7cd9f4cd5a7b9",
       "version_major": 2,
       "version_minor": 0
      },
      "text/plain": [
       "Validation: 0it [00:00, ?it/s]"
      ]
     },
     "metadata": {},
     "output_type": "display_data"
    },
    {
     "data": {
      "application/vnd.jupyter.widget-view+json": {
       "model_id": "803bfc59b16340b6a9d0c1ff94c1669e",
       "version_major": 2,
       "version_minor": 0
      },
      "text/plain": [
       "Validation: 0it [00:00, ?it/s]"
      ]
     },
     "metadata": {},
     "output_type": "display_data"
    },
    {
     "data": {
      "application/vnd.jupyter.widget-view+json": {
       "model_id": "288aa121285040deb2213a1bf0903275",
       "version_major": 2,
       "version_minor": 0
      },
      "text/plain": [
       "Validation: 0it [00:00, ?it/s]"
      ]
     },
     "metadata": {},
     "output_type": "display_data"
    },
    {
     "data": {
      "application/vnd.jupyter.widget-view+json": {
       "model_id": "c31e231b09ac434ab2a98eb9a2b07584",
       "version_major": 2,
       "version_minor": 0
      },
      "text/plain": [
       "Predicting: 0it [00:00, ?it/s]"
      ]
     },
     "metadata": {},
     "output_type": "display_data"
    },
    {
     "data": {
      "application/vnd.jupyter.widget-view+json": {
       "model_id": "50d702b2c8a2416580608a99232cedfd",
       "version_major": 2,
       "version_minor": 0
      },
      "text/plain": [
       "Predicting: 0it [00:00, ?it/s]"
      ]
     },
     "metadata": {},
     "output_type": "display_data"
    },
    {
     "name": "stderr",
     "output_type": "stream",
     "text": [
      "Global seed set to 5\n",
      "Global seed set to 5\n"
     ]
    },
    {
     "data": {
      "application/vnd.jupyter.widget-view+json": {
       "model_id": "3506db2c5d704171ac83b5bb2ab56a1c",
       "version_major": 2,
       "version_minor": 0
      },
      "text/plain": [
       "Sanity Checking: 0it [00:00, ?it/s]"
      ]
     },
     "metadata": {},
     "output_type": "display_data"
    },
    {
     "data": {
      "application/vnd.jupyter.widget-view+json": {
       "model_id": "1be17762fdbe478fac6a11dc7b6afff3",
       "version_major": 2,
       "version_minor": 0
      },
      "text/plain": [
       "Training: 0it [00:00, ?it/s]"
      ]
     },
     "metadata": {},
     "output_type": "display_data"
    },
    {
     "data": {
      "application/vnd.jupyter.widget-view+json": {
       "model_id": "b05e059432094611ab9a3c4a8b4fa73f",
       "version_major": 2,
       "version_minor": 0
      },
      "text/plain": [
       "Validation: 0it [00:00, ?it/s]"
      ]
     },
     "metadata": {},
     "output_type": "display_data"
    },
    {
     "data": {
      "application/vnd.jupyter.widget-view+json": {
       "model_id": "c6c4daa4913b40949d8f9a4f1e3a3441",
       "version_major": 2,
       "version_minor": 0
      },
      "text/plain": [
       "Validation: 0it [00:00, ?it/s]"
      ]
     },
     "metadata": {},
     "output_type": "display_data"
    },
    {
     "data": {
      "application/vnd.jupyter.widget-view+json": {
       "model_id": "56e562185450479583cea7a3edef080c",
       "version_major": 2,
       "version_minor": 0
      },
      "text/plain": [
       "Validation: 0it [00:00, ?it/s]"
      ]
     },
     "metadata": {},
     "output_type": "display_data"
    },
    {
     "data": {
      "application/vnd.jupyter.widget-view+json": {
       "model_id": "f9cf467af74d4995bc59be5bb400eb35",
       "version_major": 2,
       "version_minor": 0
      },
      "text/plain": [
       "Validation: 0it [00:00, ?it/s]"
      ]
     },
     "metadata": {},
     "output_type": "display_data"
    },
    {
     "data": {
      "application/vnd.jupyter.widget-view+json": {
       "model_id": "68fe4d398ecd4fe689997facab74b899",
       "version_major": 2,
       "version_minor": 0
      },
      "text/plain": [
       "Validation: 0it [00:00, ?it/s]"
      ]
     },
     "metadata": {},
     "output_type": "display_data"
    },
    {
     "data": {
      "application/vnd.jupyter.widget-view+json": {
       "model_id": "442d7577c91c4baab424c19844ae1394",
       "version_major": 2,
       "version_minor": 0
      },
      "text/plain": [
       "Validation: 0it [00:00, ?it/s]"
      ]
     },
     "metadata": {},
     "output_type": "display_data"
    },
    {
     "data": {
      "application/vnd.jupyter.widget-view+json": {
       "model_id": "a8f477510b7e43ab981207a3458799fc",
       "version_major": 2,
       "version_minor": 0
      },
      "text/plain": [
       "Validation: 0it [00:00, ?it/s]"
      ]
     },
     "metadata": {},
     "output_type": "display_data"
    },
    {
     "data": {
      "application/vnd.jupyter.widget-view+json": {
       "model_id": "e73c29969251473e8b62f66f0f654329",
       "version_major": 2,
       "version_minor": 0
      },
      "text/plain": [
       "Validation: 0it [00:00, ?it/s]"
      ]
     },
     "metadata": {},
     "output_type": "display_data"
    },
    {
     "data": {
      "application/vnd.jupyter.widget-view+json": {
       "model_id": "acea49c557a74fbb8c06d62813fd2889",
       "version_major": 2,
       "version_minor": 0
      },
      "text/plain": [
       "Validation: 0it [00:00, ?it/s]"
      ]
     },
     "metadata": {},
     "output_type": "display_data"
    },
    {
     "data": {
      "application/vnd.jupyter.widget-view+json": {
       "model_id": "8c9d5e58d6fc4efe8d4a6dcf7f9b8d49",
       "version_major": 2,
       "version_minor": 0
      },
      "text/plain": [
       "Validation: 0it [00:00, ?it/s]"
      ]
     },
     "metadata": {},
     "output_type": "display_data"
    },
    {
     "data": {
      "application/vnd.jupyter.widget-view+json": {
       "model_id": "9d694b53ed664f2f971b21db0ae5ada7",
       "version_major": 2,
       "version_minor": 0
      },
      "text/plain": [
       "Sanity Checking: 0it [00:00, ?it/s]"
      ]
     },
     "metadata": {},
     "output_type": "display_data"
    },
    {
     "data": {
      "application/vnd.jupyter.widget-view+json": {
       "model_id": "97fd2ae124084858824702eedf855573",
       "version_major": 2,
       "version_minor": 0
      },
      "text/plain": [
       "Training: 0it [00:00, ?it/s]"
      ]
     },
     "metadata": {},
     "output_type": "display_data"
    },
    {
     "data": {
      "application/vnd.jupyter.widget-view+json": {
       "model_id": "9a6f4a283c0f429c98a4dc8c023d909c",
       "version_major": 2,
       "version_minor": 0
      },
      "text/plain": [
       "Validation: 0it [00:00, ?it/s]"
      ]
     },
     "metadata": {},
     "output_type": "display_data"
    },
    {
     "data": {
      "application/vnd.jupyter.widget-view+json": {
       "model_id": "6468ffb5f5294d09a5d9cde265cd691f",
       "version_major": 2,
       "version_minor": 0
      },
      "text/plain": [
       "Validation: 0it [00:00, ?it/s]"
      ]
     },
     "metadata": {},
     "output_type": "display_data"
    },
    {
     "data": {
      "application/vnd.jupyter.widget-view+json": {
       "model_id": "3644186281ea45a99992c481470e9fb8",
       "version_major": 2,
       "version_minor": 0
      },
      "text/plain": [
       "Validation: 0it [00:00, ?it/s]"
      ]
     },
     "metadata": {},
     "output_type": "display_data"
    },
    {
     "data": {
      "application/vnd.jupyter.widget-view+json": {
       "model_id": "1b873a04b93c41f2be2468e651edd7a0",
       "version_major": 2,
       "version_minor": 0
      },
      "text/plain": [
       "Validation: 0it [00:00, ?it/s]"
      ]
     },
     "metadata": {},
     "output_type": "display_data"
    },
    {
     "data": {
      "application/vnd.jupyter.widget-view+json": {
       "model_id": "61539e3f75194119a04383f369ae692e",
       "version_major": 2,
       "version_minor": 0
      },
      "text/plain": [
       "Validation: 0it [00:00, ?it/s]"
      ]
     },
     "metadata": {},
     "output_type": "display_data"
    },
    {
     "data": {
      "application/vnd.jupyter.widget-view+json": {
       "model_id": "c9ce2d0e23df473e9b65eec98f333f96",
       "version_major": 2,
       "version_minor": 0
      },
      "text/plain": [
       "Validation: 0it [00:00, ?it/s]"
      ]
     },
     "metadata": {},
     "output_type": "display_data"
    },
    {
     "data": {
      "application/vnd.jupyter.widget-view+json": {
       "model_id": "7907bc20c38c4938bb30e43dcc1664b5",
       "version_major": 2,
       "version_minor": 0
      },
      "text/plain": [
       "Validation: 0it [00:00, ?it/s]"
      ]
     },
     "metadata": {},
     "output_type": "display_data"
    },
    {
     "data": {
      "application/vnd.jupyter.widget-view+json": {
       "model_id": "9bb0a9effe174fe59ea9a40104d07c67",
       "version_major": 2,
       "version_minor": 0
      },
      "text/plain": [
       "Validation: 0it [00:00, ?it/s]"
      ]
     },
     "metadata": {},
     "output_type": "display_data"
    },
    {
     "data": {
      "application/vnd.jupyter.widget-view+json": {
       "model_id": "a3d72d8072344a5a94b298da84a33d28",
       "version_major": 2,
       "version_minor": 0
      },
      "text/plain": [
       "Validation: 0it [00:00, ?it/s]"
      ]
     },
     "metadata": {},
     "output_type": "display_data"
    },
    {
     "data": {
      "application/vnd.jupyter.widget-view+json": {
       "model_id": "bfaa22a8f3d54d3fbfc2ed14bbe3baaf",
       "version_major": 2,
       "version_minor": 0
      },
      "text/plain": [
       "Validation: 0it [00:00, ?it/s]"
      ]
     },
     "metadata": {},
     "output_type": "display_data"
    },
    {
     "data": {
      "application/vnd.jupyter.widget-view+json": {
       "model_id": "e26b437b2a5046b287f88014e501f206",
       "version_major": 2,
       "version_minor": 0
      },
      "text/plain": [
       "Predicting: 0it [00:00, ?it/s]"
      ]
     },
     "metadata": {},
     "output_type": "display_data"
    },
    {
     "data": {
      "application/vnd.jupyter.widget-view+json": {
       "model_id": "fa45b1540d204dfe9eda3982900db0ae",
       "version_major": 2,
       "version_minor": 0
      },
      "text/plain": [
       "Predicting: 0it [00:00, ?it/s]"
      ]
     },
     "metadata": {},
     "output_type": "display_data"
    },
    {
     "name": "stderr",
     "output_type": "stream",
     "text": [
      "Global seed set to 5\n",
      "Global seed set to 5\n"
     ]
    },
    {
     "data": {
      "application/vnd.jupyter.widget-view+json": {
       "model_id": "42303061a0b34c6386f8e0ff1808c366",
       "version_major": 2,
       "version_minor": 0
      },
      "text/plain": [
       "Sanity Checking: 0it [00:00, ?it/s]"
      ]
     },
     "metadata": {},
     "output_type": "display_data"
    },
    {
     "data": {
      "application/vnd.jupyter.widget-view+json": {
       "model_id": "605ee5ef9743405a86720c76aa2b2992",
       "version_major": 2,
       "version_minor": 0
      },
      "text/plain": [
       "Training: 0it [00:00, ?it/s]"
      ]
     },
     "metadata": {},
     "output_type": "display_data"
    },
    {
     "data": {
      "application/vnd.jupyter.widget-view+json": {
       "model_id": "eec9a4d5cd72408286ace11a34000701",
       "version_major": 2,
       "version_minor": 0
      },
      "text/plain": [
       "Validation: 0it [00:00, ?it/s]"
      ]
     },
     "metadata": {},
     "output_type": "display_data"
    },
    {
     "data": {
      "application/vnd.jupyter.widget-view+json": {
       "model_id": "c7ee2d97fb0f43cd8ceaab4ea7664515",
       "version_major": 2,
       "version_minor": 0
      },
      "text/plain": [
       "Validation: 0it [00:00, ?it/s]"
      ]
     },
     "metadata": {},
     "output_type": "display_data"
    },
    {
     "data": {
      "application/vnd.jupyter.widget-view+json": {
       "model_id": "9abbee48bd56471991c1b8bffca6806b",
       "version_major": 2,
       "version_minor": 0
      },
      "text/plain": [
       "Validation: 0it [00:00, ?it/s]"
      ]
     },
     "metadata": {},
     "output_type": "display_data"
    },
    {
     "data": {
      "application/vnd.jupyter.widget-view+json": {
       "model_id": "ac4b79c714594eb3ba013cf3e31af004",
       "version_major": 2,
       "version_minor": 0
      },
      "text/plain": [
       "Validation: 0it [00:00, ?it/s]"
      ]
     },
     "metadata": {},
     "output_type": "display_data"
    },
    {
     "data": {
      "application/vnd.jupyter.widget-view+json": {
       "model_id": "f8cb22002a6d4a23a34788f0ee8aad1c",
       "version_major": 2,
       "version_minor": 0
      },
      "text/plain": [
       "Validation: 0it [00:00, ?it/s]"
      ]
     },
     "metadata": {},
     "output_type": "display_data"
    },
    {
     "data": {
      "application/vnd.jupyter.widget-view+json": {
       "model_id": "dfb2cdb701e648a2aaf36957c72872be",
       "version_major": 2,
       "version_minor": 0
      },
      "text/plain": [
       "Validation: 0it [00:00, ?it/s]"
      ]
     },
     "metadata": {},
     "output_type": "display_data"
    },
    {
     "data": {
      "application/vnd.jupyter.widget-view+json": {
       "model_id": "5309a55a47b74f43bfa1bcc82511fe0d",
       "version_major": 2,
       "version_minor": 0
      },
      "text/plain": [
       "Validation: 0it [00:00, ?it/s]"
      ]
     },
     "metadata": {},
     "output_type": "display_data"
    },
    {
     "data": {
      "application/vnd.jupyter.widget-view+json": {
       "model_id": "2cfd26351df74d7abc6d050cf15a0669",
       "version_major": 2,
       "version_minor": 0
      },
      "text/plain": [
       "Validation: 0it [00:00, ?it/s]"
      ]
     },
     "metadata": {},
     "output_type": "display_data"
    },
    {
     "data": {
      "application/vnd.jupyter.widget-view+json": {
       "model_id": "28cc6d4b25d641bc9fb551390ef4dbd8",
       "version_major": 2,
       "version_minor": 0
      },
      "text/plain": [
       "Validation: 0it [00:00, ?it/s]"
      ]
     },
     "metadata": {},
     "output_type": "display_data"
    },
    {
     "data": {
      "application/vnd.jupyter.widget-view+json": {
       "model_id": "e24526f6075c4ec69573b6cc3e6230bc",
       "version_major": 2,
       "version_minor": 0
      },
      "text/plain": [
       "Validation: 0it [00:00, ?it/s]"
      ]
     },
     "metadata": {},
     "output_type": "display_data"
    },
    {
     "data": {
      "application/vnd.jupyter.widget-view+json": {
       "model_id": "e0007330d081419f91deb1be4cafdd29",
       "version_major": 2,
       "version_minor": 0
      },
      "text/plain": [
       "Sanity Checking: 0it [00:00, ?it/s]"
      ]
     },
     "metadata": {},
     "output_type": "display_data"
    },
    {
     "data": {
      "application/vnd.jupyter.widget-view+json": {
       "model_id": "9512efaf2cfa447e8fdfb07df873ff14",
       "version_major": 2,
       "version_minor": 0
      },
      "text/plain": [
       "Training: 0it [00:00, ?it/s]"
      ]
     },
     "metadata": {},
     "output_type": "display_data"
    },
    {
     "data": {
      "application/vnd.jupyter.widget-view+json": {
       "model_id": "4d01cb05daf44375abf03a421cc9e790",
       "version_major": 2,
       "version_minor": 0
      },
      "text/plain": [
       "Validation: 0it [00:00, ?it/s]"
      ]
     },
     "metadata": {},
     "output_type": "display_data"
    },
    {
     "data": {
      "application/vnd.jupyter.widget-view+json": {
       "model_id": "45e7d784dbb94448b673e80fdcde7103",
       "version_major": 2,
       "version_minor": 0
      },
      "text/plain": [
       "Validation: 0it [00:00, ?it/s]"
      ]
     },
     "metadata": {},
     "output_type": "display_data"
    },
    {
     "data": {
      "application/vnd.jupyter.widget-view+json": {
       "model_id": "3946e6b491b949c39bde7afd044501b2",
       "version_major": 2,
       "version_minor": 0
      },
      "text/plain": [
       "Validation: 0it [00:00, ?it/s]"
      ]
     },
     "metadata": {},
     "output_type": "display_data"
    },
    {
     "data": {
      "application/vnd.jupyter.widget-view+json": {
       "model_id": "9b331f0fdec74b77a0989870cba1f2c1",
       "version_major": 2,
       "version_minor": 0
      },
      "text/plain": [
       "Validation: 0it [00:00, ?it/s]"
      ]
     },
     "metadata": {},
     "output_type": "display_data"
    },
    {
     "data": {
      "application/vnd.jupyter.widget-view+json": {
       "model_id": "bd8cbcd6ad1f428a907c835df1778448",
       "version_major": 2,
       "version_minor": 0
      },
      "text/plain": [
       "Validation: 0it [00:00, ?it/s]"
      ]
     },
     "metadata": {},
     "output_type": "display_data"
    },
    {
     "data": {
      "application/vnd.jupyter.widget-view+json": {
       "model_id": "00d7154eb9a64aadb3a743ec88486721",
       "version_major": 2,
       "version_minor": 0
      },
      "text/plain": [
       "Validation: 0it [00:00, ?it/s]"
      ]
     },
     "metadata": {},
     "output_type": "display_data"
    },
    {
     "data": {
      "application/vnd.jupyter.widget-view+json": {
       "model_id": "f6f3ab985d844abcb83972a3626170c1",
       "version_major": 2,
       "version_minor": 0
      },
      "text/plain": [
       "Validation: 0it [00:00, ?it/s]"
      ]
     },
     "metadata": {},
     "output_type": "display_data"
    },
    {
     "data": {
      "application/vnd.jupyter.widget-view+json": {
       "model_id": "b384d9e6e32e4d47a0bffc2ebb3b627f",
       "version_major": 2,
       "version_minor": 0
      },
      "text/plain": [
       "Validation: 0it [00:00, ?it/s]"
      ]
     },
     "metadata": {},
     "output_type": "display_data"
    },
    {
     "data": {
      "application/vnd.jupyter.widget-view+json": {
       "model_id": "7eb0f01044ac404f866ed5f7825e3c5e",
       "version_major": 2,
       "version_minor": 0
      },
      "text/plain": [
       "Validation: 0it [00:00, ?it/s]"
      ]
     },
     "metadata": {},
     "output_type": "display_data"
    },
    {
     "data": {
      "application/vnd.jupyter.widget-view+json": {
       "model_id": "a96ef947ee50414b9fb8e2a507e73786",
       "version_major": 2,
       "version_minor": 0
      },
      "text/plain": [
       "Validation: 0it [00:00, ?it/s]"
      ]
     },
     "metadata": {},
     "output_type": "display_data"
    },
    {
     "data": {
      "application/vnd.jupyter.widget-view+json": {
       "model_id": "12e730aa6f81498da6964174be26b55a",
       "version_major": 2,
       "version_minor": 0
      },
      "text/plain": [
       "Predicting: 0it [00:00, ?it/s]"
      ]
     },
     "metadata": {},
     "output_type": "display_data"
    },
    {
     "data": {
      "application/vnd.jupyter.widget-view+json": {
       "model_id": "3626530146794fa08e95b8f83ab79d42",
       "version_major": 2,
       "version_minor": 0
      },
      "text/plain": [
       "Predicting: 0it [00:00, ?it/s]"
      ]
     },
     "metadata": {},
     "output_type": "display_data"
    }
   ],
   "source": [
    "for f in fch_v:\n",
    "    modelos = [\n",
    "        LSTM(random_seed=5, h=f, #max_steps=100,\n",
    "            hist_exog_list=['t_vz_56338500', 't_vz_56110005', 't_vz_56337200', 't_vz_56337500'],\n",
    "            futr_exog_list=['t_cv_56425000', 't_cv_56338500', 't_cv_56110005','t_cv_56337200', 't_cv_56337500'],\n",
    "            context_size=look_back,\n",
    "            scaler_type=None,\n",
    "            logger=False),\n",
    "\n",
    "        NBEATSx(random_seed=5, h=f, #max_steps=100,\n",
    "            hist_exog_list=['t_vz_56338500', 't_vz_56110005', 't_vz_56337200', 't_vz_56337500'],\n",
    "            futr_exog_list=['t_cv_56425000', 't_cv_56338500', 't_cv_56110005', 't_cv_56337200', 't_cv_56337500'],\n",
    "            input_size=look_back,\n",
    "            scaler_type=None,\n",
    "            logger=False),\n",
    "        ]\n",
    "\n",
    "    nf = NeuralForecast(models=modelos, freq='D', local_scaler_type='minmax')\n",
    "    nf.fit(df=df_train)\n",
    "\n",
    "    df_preds = nf.predict(futr_df=df_futr)\n",
    "    df_merged = pd.merge(left=df_preds, right=df_test[['ds', 'y']], on=['ds'], how='left')\n",
    "\n",
    "    # ============================================================================ #\n",
    "\n",
    "    metrics = {}\n",
    "    metrics['LSTM'] = {'sMAPE': smape(df_merged.y, df_merged.LSTM),\n",
    "                    'RMSE': rmse(df_merged.y, df_merged.LSTM),\n",
    "                    'MAE' : mae(df_merged.y, df_merged.LSTM)}\n",
    "    metrics['NBEATSx'] = {'sMAPE': smape(df_merged.y, df_merged.NBEATSx),\n",
    "                        'RMSE': rmse(df_merged.y, df_merged.NBEATSx),\n",
    "                        'MAE' : mae(df_merged.y, df_merged.NBEATSx)}\n",
    "    df_tbl_v = pd.DataFrame(metrics).T.reset_index(names=\"Modelo\")\n",
    "\n",
    "    # ============================================================================ #\n",
    "\n",
    "    fig = make_subplots(rows=2, cols=1, vertical_spacing=0.2, specs=[[{\"type\": \"scatter\"}], [{\"type\": \"table\"}]])\n",
    "\n",
    "    fig.add_trace(go.Scatter(x=df_merged.ds, y=df_merged.y, mode='lines', name='observado', line=dict(color=\"black\", width=4)), row=1, col=1)\n",
    "    fig.add_trace(go.Scatter(x=df_merged.ds, y=df_merged.LSTM, mode='lines', name='LSTM', line=dict(color=\"darkorange\")), row=1, col=1)\n",
    "    fig.add_trace(go.Scatter(x=df_merged.ds, y=df_merged.NBEATSx, mode='lines', name='NBEATSx', line=dict(color=\"olive\")), row=1, col=1)\n",
    "    \n",
    "    fig.append_trace(go.Table(header=dict(values=df_tbl_v.columns.to_list(), font=dict(size=14), align=\"center\"),\n",
    "                                    cells=dict(values=df_tbl_v.T, font=dict(size=14), height=24, align=\"left\")),\n",
    "                            row=2, col=1)\n",
    "    \n",
    "    fig.update_yaxes(title=dict(text=\"Vazão (m³/s)\", font=dict(family=\"system-ui\", size=18)))\n",
    "    fig.update_xaxes(title=dict(text=\"Período\", font=dict(family=\"system-ui\", size=18)))\n",
    "    \n",
    "    fig.update_traces(hovertemplate=None, row=1, col=1)\n",
    "    \n",
    "    fig.update_layout(width=1500, height=1000, hovermode='x unified',\n",
    "                    title=dict(text=\"Redes Neurais não otimizadas (fch = {f})\".format(f=f),\n",
    "                    font=dict(family=\"system-ui\", size=24)))\n",
    "\n",
    "    fig.write_image(\"./resultados/trecho_alto/fch{fh}/naoopt/dl.png\".format(fh=f))\n",
    "    # fig.show()"
   ]
  },
  {
   "cell_type": "markdown",
   "metadata": {},
   "source": [
    "#### Otimizado"
   ]
  },
  {
   "cell_type": "code",
   "execution_count": 58,
   "metadata": {
    "notebookRunGroups": {
     "groupValue": "2"
    }
   },
   "outputs": [
    {
     "name": "stderr",
     "output_type": "stream",
     "text": [
      "Global seed set to 5\n"
     ]
    },
    {
     "data": {
      "application/vnd.jupyter.widget-view+json": {
       "model_id": "b95a1e9cedf549daa6a6e856431c8c79",
       "version_major": 2,
       "version_minor": 0
      },
      "text/plain": [
       "Sanity Checking: 0it [00:00, ?it/s]"
      ]
     },
     "metadata": {},
     "output_type": "display_data"
    },
    {
     "data": {
      "application/vnd.jupyter.widget-view+json": {
       "model_id": "4c45cf8add8143ca8ca553b971430e20",
       "version_major": 2,
       "version_minor": 0
      },
      "text/plain": [
       "Training: 0it [00:00, ?it/s]"
      ]
     },
     "metadata": {},
     "output_type": "display_data"
    },
    {
     "data": {
      "application/vnd.jupyter.widget-view+json": {
       "model_id": "db2aec37d39945b7ba13b7e6cc60c4d6",
       "version_major": 2,
       "version_minor": 0
      },
      "text/plain": [
       "Validation: 0it [00:00, ?it/s]"
      ]
     },
     "metadata": {},
     "output_type": "display_data"
    },
    {
     "data": {
      "application/vnd.jupyter.widget-view+json": {
       "model_id": "0342734049b8449d866e21b21c316297",
       "version_major": 2,
       "version_minor": 0
      },
      "text/plain": [
       "Validation: 0it [00:00, ?it/s]"
      ]
     },
     "metadata": {},
     "output_type": "display_data"
    },
    {
     "data": {
      "application/vnd.jupyter.widget-view+json": {
       "model_id": "c2aa8c96800f4fa19d49f24b3520e8e7",
       "version_major": 2,
       "version_minor": 0
      },
      "text/plain": [
       "Predicting: 0it [00:00, ?it/s]"
      ]
     },
     "metadata": {},
     "output_type": "display_data"
    },
    {
     "name": "stderr",
     "output_type": "stream",
     "text": [
      "Global seed set to 5\n"
     ]
    },
    {
     "data": {
      "application/vnd.jupyter.widget-view+json": {
       "model_id": "05f4b952ee9c4e5ea5208ca3a32b1178",
       "version_major": 2,
       "version_minor": 0
      },
      "text/plain": [
       "Sanity Checking: 0it [00:00, ?it/s]"
      ]
     },
     "metadata": {},
     "output_type": "display_data"
    },
    {
     "data": {
      "application/vnd.jupyter.widget-view+json": {
       "model_id": "0640f04600774d06a03cd548727b7255",
       "version_major": 2,
       "version_minor": 0
      },
      "text/plain": [
       "Training: 0it [00:00, ?it/s]"
      ]
     },
     "metadata": {},
     "output_type": "display_data"
    },
    {
     "data": {
      "application/vnd.jupyter.widget-view+json": {
       "model_id": "8fa8965685cb4057ab3f312eb1b14a56",
       "version_major": 2,
       "version_minor": 0
      },
      "text/plain": [
       "Validation: 0it [00:00, ?it/s]"
      ]
     },
     "metadata": {},
     "output_type": "display_data"
    },
    {
     "data": {
      "application/vnd.jupyter.widget-view+json": {
       "model_id": "00633f232d2b4ab0a794333f3dd6a063",
       "version_major": 2,
       "version_minor": 0
      },
      "text/plain": [
       "Validation: 0it [00:00, ?it/s]"
      ]
     },
     "metadata": {},
     "output_type": "display_data"
    },
    {
     "data": {
      "application/vnd.jupyter.widget-view+json": {
       "model_id": "41ca8bdeba3a49edb20e16d27497fb91",
       "version_major": 2,
       "version_minor": 0
      },
      "text/plain": [
       "Validation: 0it [00:00, ?it/s]"
      ]
     },
     "metadata": {},
     "output_type": "display_data"
    },
    {
     "data": {
      "application/vnd.jupyter.widget-view+json": {
       "model_id": "0cd2933bcd764dd599e3c1b1ac4ccd01",
       "version_major": 2,
       "version_minor": 0
      },
      "text/plain": [
       "Validation: 0it [00:00, ?it/s]"
      ]
     },
     "metadata": {},
     "output_type": "display_data"
    },
    {
     "data": {
      "application/vnd.jupyter.widget-view+json": {
       "model_id": "09fd727557fd40a69525218b01dd72b9",
       "version_major": 2,
       "version_minor": 0
      },
      "text/plain": [
       "Predicting: 0it [00:00, ?it/s]"
      ]
     },
     "metadata": {},
     "output_type": "display_data"
    },
    {
     "name": "stderr",
     "output_type": "stream",
     "text": [
      "Global seed set to 5\n"
     ]
    },
    {
     "data": {
      "application/vnd.jupyter.widget-view+json": {
       "model_id": "f7454d9026704d2ebf555864b8b509d7",
       "version_major": 2,
       "version_minor": 0
      },
      "text/plain": [
       "Sanity Checking: 0it [00:00, ?it/s]"
      ]
     },
     "metadata": {},
     "output_type": "display_data"
    },
    {
     "data": {
      "application/vnd.jupyter.widget-view+json": {
       "model_id": "cf7b6a1c34104a5497b2f88f6c8b1421",
       "version_major": 2,
       "version_minor": 0
      },
      "text/plain": [
       "Training: 0it [00:00, ?it/s]"
      ]
     },
     "metadata": {},
     "output_type": "display_data"
    },
    {
     "data": {
      "application/vnd.jupyter.widget-view+json": {
       "model_id": "6179a180cb404667afaf1a9c98b0c21e",
       "version_major": 2,
       "version_minor": 0
      },
      "text/plain": [
       "Validation: 0it [00:00, ?it/s]"
      ]
     },
     "metadata": {},
     "output_type": "display_data"
    },
    {
     "data": {
      "application/vnd.jupyter.widget-view+json": {
       "model_id": "0de1bad5d70847c0b53fe9d9b85583fe",
       "version_major": 2,
       "version_minor": 0
      },
      "text/plain": [
       "Validation: 0it [00:00, ?it/s]"
      ]
     },
     "metadata": {},
     "output_type": "display_data"
    },
    {
     "data": {
      "application/vnd.jupyter.widget-view+json": {
       "model_id": "8695404cd1c646b7849b57aaa27bdbe0",
       "version_major": 2,
       "version_minor": 0
      },
      "text/plain": [
       "Validation: 0it [00:00, ?it/s]"
      ]
     },
     "metadata": {},
     "output_type": "display_data"
    },
    {
     "data": {
      "application/vnd.jupyter.widget-view+json": {
       "model_id": "630f2b3c59b24ad48082ea7ae3f5b547",
       "version_major": 2,
       "version_minor": 0
      },
      "text/plain": [
       "Validation: 0it [00:00, ?it/s]"
      ]
     },
     "metadata": {},
     "output_type": "display_data"
    },
    {
     "data": {
      "application/vnd.jupyter.widget-view+json": {
       "model_id": "2fec8b6ec8ba4644ae0e49e0d4ea33a6",
       "version_major": 2,
       "version_minor": 0
      },
      "text/plain": [
       "Predicting: 0it [00:00, ?it/s]"
      ]
     },
     "metadata": {},
     "output_type": "display_data"
    },
    {
     "name": "stderr",
     "output_type": "stream",
     "text": [
      "Global seed set to 5\n"
     ]
    },
    {
     "data": {
      "application/vnd.jupyter.widget-view+json": {
       "model_id": "e3f93dad3cdb4435b59c8d16669815f3",
       "version_major": 2,
       "version_minor": 0
      },
      "text/plain": [
       "Sanity Checking: 0it [00:00, ?it/s]"
      ]
     },
     "metadata": {},
     "output_type": "display_data"
    },
    {
     "data": {
      "application/vnd.jupyter.widget-view+json": {
       "model_id": "b3b02101991d40249a7ce31d7609ce53",
       "version_major": 2,
       "version_minor": 0
      },
      "text/plain": [
       "Training: 0it [00:00, ?it/s]"
      ]
     },
     "metadata": {},
     "output_type": "display_data"
    },
    {
     "data": {
      "application/vnd.jupyter.widget-view+json": {
       "model_id": "65bfc306bc604726b360ef135c360a70",
       "version_major": 2,
       "version_minor": 0
      },
      "text/plain": [
       "Validation: 0it [00:00, ?it/s]"
      ]
     },
     "metadata": {},
     "output_type": "display_data"
    },
    {
     "data": {
      "application/vnd.jupyter.widget-view+json": {
       "model_id": "4d403890714a4b5c8f8f1fde8d18015d",
       "version_major": 2,
       "version_minor": 0
      },
      "text/plain": [
       "Validation: 0it [00:00, ?it/s]"
      ]
     },
     "metadata": {},
     "output_type": "display_data"
    },
    {
     "data": {
      "application/vnd.jupyter.widget-view+json": {
       "model_id": "6c9b98f1dec745b999593c05874c3b7c",
       "version_major": 2,
       "version_minor": 0
      },
      "text/plain": [
       "Validation: 0it [00:00, ?it/s]"
      ]
     },
     "metadata": {},
     "output_type": "display_data"
    },
    {
     "data": {
      "application/vnd.jupyter.widget-view+json": {
       "model_id": "98b8f8cf9b724d6385a68d5abd87fe76",
       "version_major": 2,
       "version_minor": 0
      },
      "text/plain": [
       "Validation: 0it [00:00, ?it/s]"
      ]
     },
     "metadata": {},
     "output_type": "display_data"
    },
    {
     "data": {
      "application/vnd.jupyter.widget-view+json": {
       "model_id": "bc9f803e718c41249abbe4c04cf50799",
       "version_major": 2,
       "version_minor": 0
      },
      "text/plain": [
       "Validation: 0it [00:00, ?it/s]"
      ]
     },
     "metadata": {},
     "output_type": "display_data"
    },
    {
     "data": {
      "application/vnd.jupyter.widget-view+json": {
       "model_id": "0e43d03d20474868a6e05d2b55dc038d",
       "version_major": 2,
       "version_minor": 0
      },
      "text/plain": [
       "Predicting: 0it [00:00, ?it/s]"
      ]
     },
     "metadata": {},
     "output_type": "display_data"
    },
    {
     "name": "stderr",
     "output_type": "stream",
     "text": [
      "Global seed set to 5\n"
     ]
    },
    {
     "data": {
      "application/vnd.jupyter.widget-view+json": {
       "model_id": "95f110fd248445c6bc05d49d0b147bfe",
       "version_major": 2,
       "version_minor": 0
      },
      "text/plain": [
       "Sanity Checking: 0it [00:00, ?it/s]"
      ]
     },
     "metadata": {},
     "output_type": "display_data"
    },
    {
     "data": {
      "application/vnd.jupyter.widget-view+json": {
       "model_id": "b98ae46fd8e4492daf421934004a8606",
       "version_major": 2,
       "version_minor": 0
      },
      "text/plain": [
       "Training: 0it [00:00, ?it/s]"
      ]
     },
     "metadata": {},
     "output_type": "display_data"
    },
    {
     "data": {
      "application/vnd.jupyter.widget-view+json": {
       "model_id": "481fb4cc5a104b3f9d8379834a44a9eb",
       "version_major": 2,
       "version_minor": 0
      },
      "text/plain": [
       "Validation: 0it [00:00, ?it/s]"
      ]
     },
     "metadata": {},
     "output_type": "display_data"
    },
    {
     "data": {
      "application/vnd.jupyter.widget-view+json": {
       "model_id": "00675862fc844899ae3459580e029a02",
       "version_major": 2,
       "version_minor": 0
      },
      "text/plain": [
       "Validation: 0it [00:00, ?it/s]"
      ]
     },
     "metadata": {},
     "output_type": "display_data"
    },
    {
     "data": {
      "application/vnd.jupyter.widget-view+json": {
       "model_id": "cf6e14a87eb6420d822f9212e0c95312",
       "version_major": 2,
       "version_minor": 0
      },
      "text/plain": [
       "Predicting: 0it [00:00, ?it/s]"
      ]
     },
     "metadata": {},
     "output_type": "display_data"
    },
    {
     "name": "stderr",
     "output_type": "stream",
     "text": [
      "Global seed set to 5\n"
     ]
    },
    {
     "data": {
      "application/vnd.jupyter.widget-view+json": {
       "model_id": "910ccf62f51f4d4abe8bd08ce2b1c09b",
       "version_major": 2,
       "version_minor": 0
      },
      "text/plain": [
       "Sanity Checking: 0it [00:00, ?it/s]"
      ]
     },
     "metadata": {},
     "output_type": "display_data"
    },
    {
     "data": {
      "application/vnd.jupyter.widget-view+json": {
       "model_id": "5c2d54b488dc41be8848a3c029b05390",
       "version_major": 2,
       "version_minor": 0
      },
      "text/plain": [
       "Training: 0it [00:00, ?it/s]"
      ]
     },
     "metadata": {},
     "output_type": "display_data"
    },
    {
     "data": {
      "application/vnd.jupyter.widget-view+json": {
       "model_id": "9ec54c12f20a4b08a9c3c65f56f6db27",
       "version_major": 2,
       "version_minor": 0
      },
      "text/plain": [
       "Validation: 0it [00:00, ?it/s]"
      ]
     },
     "metadata": {},
     "output_type": "display_data"
    },
    {
     "data": {
      "application/vnd.jupyter.widget-view+json": {
       "model_id": "3f4c283d35624114a7a3650a0865cede",
       "version_major": 2,
       "version_minor": 0
      },
      "text/plain": [
       "Validation: 0it [00:00, ?it/s]"
      ]
     },
     "metadata": {},
     "output_type": "display_data"
    },
    {
     "data": {
      "application/vnd.jupyter.widget-view+json": {
       "model_id": "5fad60b076dc485a8c7d7775166bc190",
       "version_major": 2,
       "version_minor": 0
      },
      "text/plain": [
       "Validation: 0it [00:00, ?it/s]"
      ]
     },
     "metadata": {},
     "output_type": "display_data"
    },
    {
     "data": {
      "application/vnd.jupyter.widget-view+json": {
       "model_id": "9c37af14b7f14ec48e5b0a49d058a8e1",
       "version_major": 2,
       "version_minor": 0
      },
      "text/plain": [
       "Predicting: 0it [00:00, ?it/s]"
      ]
     },
     "metadata": {},
     "output_type": "display_data"
    },
    {
     "name": "stderr",
     "output_type": "stream",
     "text": [
      "Global seed set to 5\n"
     ]
    },
    {
     "data": {
      "application/vnd.jupyter.widget-view+json": {
       "model_id": "fe52ef68f4274f128cd02b90f0ae16ba",
       "version_major": 2,
       "version_minor": 0
      },
      "text/plain": [
       "Sanity Checking: 0it [00:00, ?it/s]"
      ]
     },
     "metadata": {},
     "output_type": "display_data"
    },
    {
     "data": {
      "application/vnd.jupyter.widget-view+json": {
       "model_id": "14c94f80d3424c5cb5869d3ac02f488c",
       "version_major": 2,
       "version_minor": 0
      },
      "text/plain": [
       "Training: 0it [00:00, ?it/s]"
      ]
     },
     "metadata": {},
     "output_type": "display_data"
    },
    {
     "data": {
      "application/vnd.jupyter.widget-view+json": {
       "model_id": "5cb798d550e14d2a9b5a85e3a18e5488",
       "version_major": 2,
       "version_minor": 0
      },
      "text/plain": [
       "Validation: 0it [00:00, ?it/s]"
      ]
     },
     "metadata": {},
     "output_type": "display_data"
    },
    {
     "data": {
      "application/vnd.jupyter.widget-view+json": {
       "model_id": "05f7160803724e72a2e5117cdaad095b",
       "version_major": 2,
       "version_minor": 0
      },
      "text/plain": [
       "Validation: 0it [00:00, ?it/s]"
      ]
     },
     "metadata": {},
     "output_type": "display_data"
    },
    {
     "data": {
      "application/vnd.jupyter.widget-view+json": {
       "model_id": "33a96cf124c64891a40a9ff8aebc17ed",
       "version_major": 2,
       "version_minor": 0
      },
      "text/plain": [
       "Validation: 0it [00:00, ?it/s]"
      ]
     },
     "metadata": {},
     "output_type": "display_data"
    },
    {
     "data": {
      "application/vnd.jupyter.widget-view+json": {
       "model_id": "3e41acc2d00c4abcb775c275ce06c618",
       "version_major": 2,
       "version_minor": 0
      },
      "text/plain": [
       "Predicting: 0it [00:00, ?it/s]"
      ]
     },
     "metadata": {},
     "output_type": "display_data"
    },
    {
     "name": "stderr",
     "output_type": "stream",
     "text": [
      "Global seed set to 5\n"
     ]
    },
    {
     "data": {
      "application/vnd.jupyter.widget-view+json": {
       "model_id": "ace6134728b24552aaedcbe205629640",
       "version_major": 2,
       "version_minor": 0
      },
      "text/plain": [
       "Sanity Checking: 0it [00:00, ?it/s]"
      ]
     },
     "metadata": {},
     "output_type": "display_data"
    },
    {
     "data": {
      "application/vnd.jupyter.widget-view+json": {
       "model_id": "2c3f50e8e76a47eaa6deefb1dce80419",
       "version_major": 2,
       "version_minor": 0
      },
      "text/plain": [
       "Training: 0it [00:00, ?it/s]"
      ]
     },
     "metadata": {},
     "output_type": "display_data"
    },
    {
     "data": {
      "application/vnd.jupyter.widget-view+json": {
       "model_id": "6ba4aec541e3473392965be74ef39bbf",
       "version_major": 2,
       "version_minor": 0
      },
      "text/plain": [
       "Validation: 0it [00:00, ?it/s]"
      ]
     },
     "metadata": {},
     "output_type": "display_data"
    },
    {
     "data": {
      "application/vnd.jupyter.widget-view+json": {
       "model_id": "3f665c6af77441778ff19bd956eeb6cc",
       "version_major": 2,
       "version_minor": 0
      },
      "text/plain": [
       "Validation: 0it [00:00, ?it/s]"
      ]
     },
     "metadata": {},
     "output_type": "display_data"
    },
    {
     "data": {
      "application/vnd.jupyter.widget-view+json": {
       "model_id": "48bfc2d29e9e4fca8db88a879b7aab25",
       "version_major": 2,
       "version_minor": 0
      },
      "text/plain": [
       "Predicting: 0it [00:00, ?it/s]"
      ]
     },
     "metadata": {},
     "output_type": "display_data"
    },
    {
     "name": "stderr",
     "output_type": "stream",
     "text": [
      "Global seed set to 5\n"
     ]
    },
    {
     "data": {
      "application/vnd.jupyter.widget-view+json": {
       "model_id": "0c938d48c2e34df7b606a5283cdf1de9",
       "version_major": 2,
       "version_minor": 0
      },
      "text/plain": [
       "Sanity Checking: 0it [00:00, ?it/s]"
      ]
     },
     "metadata": {},
     "output_type": "display_data"
    },
    {
     "data": {
      "application/vnd.jupyter.widget-view+json": {
       "model_id": "0a5acaa7e8bf43acadac2b86040b4de7",
       "version_major": 2,
       "version_minor": 0
      },
      "text/plain": [
       "Training: 0it [00:00, ?it/s]"
      ]
     },
     "metadata": {},
     "output_type": "display_data"
    },
    {
     "data": {
      "application/vnd.jupyter.widget-view+json": {
       "model_id": "3403bac2ad5444f7be39bceaee1f7368",
       "version_major": 2,
       "version_minor": 0
      },
      "text/plain": [
       "Validation: 0it [00:00, ?it/s]"
      ]
     },
     "metadata": {},
     "output_type": "display_data"
    },
    {
     "data": {
      "application/vnd.jupyter.widget-view+json": {
       "model_id": "ce7011066bb043fe92714443b54fe9e5",
       "version_major": 2,
       "version_minor": 0
      },
      "text/plain": [
       "Predicting: 0it [00:00, ?it/s]"
      ]
     },
     "metadata": {},
     "output_type": "display_data"
    },
    {
     "name": "stderr",
     "output_type": "stream",
     "text": [
      "Global seed set to 5\n"
     ]
    },
    {
     "data": {
      "application/vnd.jupyter.widget-view+json": {
       "model_id": "36dc2034d38d4ceaa8b69b17d826c1e3",
       "version_major": 2,
       "version_minor": 0
      },
      "text/plain": [
       "Sanity Checking: 0it [00:00, ?it/s]"
      ]
     },
     "metadata": {},
     "output_type": "display_data"
    },
    {
     "data": {
      "application/vnd.jupyter.widget-view+json": {
       "model_id": "65888c8fc674448782258c7abd3e3861",
       "version_major": 2,
       "version_minor": 0
      },
      "text/plain": [
       "Training: 0it [00:00, ?it/s]"
      ]
     },
     "metadata": {},
     "output_type": "display_data"
    },
    {
     "data": {
      "application/vnd.jupyter.widget-view+json": {
       "model_id": "70ae0f606d45484094ebbba7117c5bc1",
       "version_major": 2,
       "version_minor": 0
      },
      "text/plain": [
       "Validation: 0it [00:00, ?it/s]"
      ]
     },
     "metadata": {},
     "output_type": "display_data"
    },
    {
     "data": {
      "application/vnd.jupyter.widget-view+json": {
       "model_id": "26188be303a64e839606513f0c92b1db",
       "version_major": 2,
       "version_minor": 0
      },
      "text/plain": [
       "Validation: 0it [00:00, ?it/s]"
      ]
     },
     "metadata": {},
     "output_type": "display_data"
    },
    {
     "data": {
      "application/vnd.jupyter.widget-view+json": {
       "model_id": "ac89bc25b63b4bd895e35e8b6fa71ff1",
       "version_major": 2,
       "version_minor": 0
      },
      "text/plain": [
       "Validation: 0it [00:00, ?it/s]"
      ]
     },
     "metadata": {},
     "output_type": "display_data"
    },
    {
     "data": {
      "application/vnd.jupyter.widget-view+json": {
       "model_id": "b85dfbcacef24b34a384d3d0c40a318a",
       "version_major": 2,
       "version_minor": 0
      },
      "text/plain": [
       "Validation: 0it [00:00, ?it/s]"
      ]
     },
     "metadata": {},
     "output_type": "display_data"
    },
    {
     "data": {
      "application/vnd.jupyter.widget-view+json": {
       "model_id": "8179083d2796440f97f340749c0d08a9",
       "version_major": 2,
       "version_minor": 0
      },
      "text/plain": [
       "Predicting: 0it [00:00, ?it/s]"
      ]
     },
     "metadata": {},
     "output_type": "display_data"
    },
    {
     "name": "stderr",
     "output_type": "stream",
     "text": [
      "Global seed set to 5\n"
     ]
    },
    {
     "data": {
      "application/vnd.jupyter.widget-view+json": {
       "model_id": "2cc8751310d6438aad2e4fc46c41e20e",
       "version_major": 2,
       "version_minor": 0
      },
      "text/plain": [
       "Sanity Checking: 0it [00:00, ?it/s]"
      ]
     },
     "metadata": {},
     "output_type": "display_data"
    },
    {
     "data": {
      "application/vnd.jupyter.widget-view+json": {
       "model_id": "574c126890354a838bfb2445b1dd8d62",
       "version_major": 2,
       "version_minor": 0
      },
      "text/plain": [
       "Training: 0it [00:00, ?it/s]"
      ]
     },
     "metadata": {},
     "output_type": "display_data"
    },
    {
     "data": {
      "application/vnd.jupyter.widget-view+json": {
       "model_id": "c12f9e421b684790b186e8b6270b79c2",
       "version_major": 2,
       "version_minor": 0
      },
      "text/plain": [
       "Validation: 0it [00:00, ?it/s]"
      ]
     },
     "metadata": {},
     "output_type": "display_data"
    },
    {
     "data": {
      "application/vnd.jupyter.widget-view+json": {
       "model_id": "78e0297b56494e49b0ecb6def7fd4aba",
       "version_major": 2,
       "version_minor": 0
      },
      "text/plain": [
       "Predicting: 0it [00:00, ?it/s]"
      ]
     },
     "metadata": {},
     "output_type": "display_data"
    },
    {
     "name": "stderr",
     "output_type": "stream",
     "text": [
      "Global seed set to 5\n"
     ]
    },
    {
     "data": {
      "application/vnd.jupyter.widget-view+json": {
       "model_id": "da675ca6ed5f4729acb44ce1ba7bf724",
       "version_major": 2,
       "version_minor": 0
      },
      "text/plain": [
       "Sanity Checking: 0it [00:00, ?it/s]"
      ]
     },
     "metadata": {},
     "output_type": "display_data"
    },
    {
     "data": {
      "application/vnd.jupyter.widget-view+json": {
       "model_id": "b65da7c900be4ceb8fc9fc0be971be5b",
       "version_major": 2,
       "version_minor": 0
      },
      "text/plain": [
       "Training: 0it [00:00, ?it/s]"
      ]
     },
     "metadata": {},
     "output_type": "display_data"
    },
    {
     "data": {
      "application/vnd.jupyter.widget-view+json": {
       "model_id": "7c44fb57509a4c1ea1cd6fe78e325cfd",
       "version_major": 2,
       "version_minor": 0
      },
      "text/plain": [
       "Validation: 0it [00:00, ?it/s]"
      ]
     },
     "metadata": {},
     "output_type": "display_data"
    },
    {
     "data": {
      "application/vnd.jupyter.widget-view+json": {
       "model_id": "5d650130c97443ddbfb3d5ec0889886a",
       "version_major": 2,
       "version_minor": 0
      },
      "text/plain": [
       "Validation: 0it [00:00, ?it/s]"
      ]
     },
     "metadata": {},
     "output_type": "display_data"
    },
    {
     "data": {
      "application/vnd.jupyter.widget-view+json": {
       "model_id": "bbcc149f6e904236a13499feee39164d",
       "version_major": 2,
       "version_minor": 0
      },
      "text/plain": [
       "Validation: 0it [00:00, ?it/s]"
      ]
     },
     "metadata": {},
     "output_type": "display_data"
    },
    {
     "data": {
      "application/vnd.jupyter.widget-view+json": {
       "model_id": "cea2fda430b04bd992a235cbaaac7195",
       "version_major": 2,
       "version_minor": 0
      },
      "text/plain": [
       "Predicting: 0it [00:00, ?it/s]"
      ]
     },
     "metadata": {},
     "output_type": "display_data"
    },
    {
     "name": "stderr",
     "output_type": "stream",
     "text": [
      "Global seed set to 5\n"
     ]
    },
    {
     "data": {
      "application/vnd.jupyter.widget-view+json": {
       "model_id": "392bf093c6054e7fb30b9105841b2f96",
       "version_major": 2,
       "version_minor": 0
      },
      "text/plain": [
       "Sanity Checking: 0it [00:00, ?it/s]"
      ]
     },
     "metadata": {},
     "output_type": "display_data"
    },
    {
     "data": {
      "application/vnd.jupyter.widget-view+json": {
       "model_id": "66e9e3833025449d8e2d780de911e2b4",
       "version_major": 2,
       "version_minor": 0
      },
      "text/plain": [
       "Training: 0it [00:00, ?it/s]"
      ]
     },
     "metadata": {},
     "output_type": "display_data"
    },
    {
     "data": {
      "application/vnd.jupyter.widget-view+json": {
       "model_id": "3ce3fa2a82274dcc8308016868a9da74",
       "version_major": 2,
       "version_minor": 0
      },
      "text/plain": [
       "Validation: 0it [00:00, ?it/s]"
      ]
     },
     "metadata": {},
     "output_type": "display_data"
    },
    {
     "data": {
      "application/vnd.jupyter.widget-view+json": {
       "model_id": "a2247ebd01b5475993251c0c5eb92437",
       "version_major": 2,
       "version_minor": 0
      },
      "text/plain": [
       "Validation: 0it [00:00, ?it/s]"
      ]
     },
     "metadata": {},
     "output_type": "display_data"
    },
    {
     "data": {
      "application/vnd.jupyter.widget-view+json": {
       "model_id": "bc94c43b840a478786791f90989b5015",
       "version_major": 2,
       "version_minor": 0
      },
      "text/plain": [
       "Predicting: 0it [00:00, ?it/s]"
      ]
     },
     "metadata": {},
     "output_type": "display_data"
    },
    {
     "name": "stderr",
     "output_type": "stream",
     "text": [
      "Global seed set to 5\n"
     ]
    },
    {
     "data": {
      "application/vnd.jupyter.widget-view+json": {
       "model_id": "be771b7be8cf4e61a389fb63486a4137",
       "version_major": 2,
       "version_minor": 0
      },
      "text/plain": [
       "Sanity Checking: 0it [00:00, ?it/s]"
      ]
     },
     "metadata": {},
     "output_type": "display_data"
    },
    {
     "data": {
      "application/vnd.jupyter.widget-view+json": {
       "model_id": "b4ea71858e5e4cc7a572cdd38d4d4b4f",
       "version_major": 2,
       "version_minor": 0
      },
      "text/plain": [
       "Training: 0it [00:00, ?it/s]"
      ]
     },
     "metadata": {},
     "output_type": "display_data"
    },
    {
     "data": {
      "application/vnd.jupyter.widget-view+json": {
       "model_id": "8d1d43930b00445384e69b95cfb90a5b",
       "version_major": 2,
       "version_minor": 0
      },
      "text/plain": [
       "Validation: 0it [00:00, ?it/s]"
      ]
     },
     "metadata": {},
     "output_type": "display_data"
    },
    {
     "data": {
      "application/vnd.jupyter.widget-view+json": {
       "model_id": "c9a11bc81557453181c7f6290dfc2328",
       "version_major": 2,
       "version_minor": 0
      },
      "text/plain": [
       "Validation: 0it [00:00, ?it/s]"
      ]
     },
     "metadata": {},
     "output_type": "display_data"
    },
    {
     "data": {
      "application/vnd.jupyter.widget-view+json": {
       "model_id": "50daf6bb0e87443d9bfd034b4aa0ce60",
       "version_major": 2,
       "version_minor": 0
      },
      "text/plain": [
       "Predicting: 0it [00:00, ?it/s]"
      ]
     },
     "metadata": {},
     "output_type": "display_data"
    },
    {
     "name": "stderr",
     "output_type": "stream",
     "text": [
      "Global seed set to 5\n"
     ]
    },
    {
     "data": {
      "application/vnd.jupyter.widget-view+json": {
       "model_id": "1839087a03f14339afecd1a2f576b4e7",
       "version_major": 2,
       "version_minor": 0
      },
      "text/plain": [
       "Sanity Checking: 0it [00:00, ?it/s]"
      ]
     },
     "metadata": {},
     "output_type": "display_data"
    },
    {
     "data": {
      "application/vnd.jupyter.widget-view+json": {
       "model_id": "3f44812dbd6945e98d6211a61b99f790",
       "version_major": 2,
       "version_minor": 0
      },
      "text/plain": [
       "Training: 0it [00:00, ?it/s]"
      ]
     },
     "metadata": {},
     "output_type": "display_data"
    },
    {
     "data": {
      "application/vnd.jupyter.widget-view+json": {
       "model_id": "55cddcb130274486a708c520f439ace9",
       "version_major": 2,
       "version_minor": 0
      },
      "text/plain": [
       "Validation: 0it [00:00, ?it/s]"
      ]
     },
     "metadata": {},
     "output_type": "display_data"
    },
    {
     "data": {
      "application/vnd.jupyter.widget-view+json": {
       "model_id": "e2a7826bb2244cb485c9a6eac3c006fe",
       "version_major": 2,
       "version_minor": 0
      },
      "text/plain": [
       "Predicting: 0it [00:00, ?it/s]"
      ]
     },
     "metadata": {},
     "output_type": "display_data"
    },
    {
     "name": "stderr",
     "output_type": "stream",
     "text": [
      "Global seed set to 5\n"
     ]
    },
    {
     "data": {
      "application/vnd.jupyter.widget-view+json": {
       "model_id": "78c14372ca2a442bac60d2e050b8c40d",
       "version_major": 2,
       "version_minor": 0
      },
      "text/plain": [
       "Sanity Checking: 0it [00:00, ?it/s]"
      ]
     },
     "metadata": {},
     "output_type": "display_data"
    },
    {
     "data": {
      "application/vnd.jupyter.widget-view+json": {
       "model_id": "39c9b1f2a393457cad5b9d75b3dc2a67",
       "version_major": 2,
       "version_minor": 0
      },
      "text/plain": [
       "Training: 0it [00:00, ?it/s]"
      ]
     },
     "metadata": {},
     "output_type": "display_data"
    },
    {
     "data": {
      "application/vnd.jupyter.widget-view+json": {
       "model_id": "c94626f9b8844afaa6392ee7ca927bcd",
       "version_major": 2,
       "version_minor": 0
      },
      "text/plain": [
       "Validation: 0it [00:00, ?it/s]"
      ]
     },
     "metadata": {},
     "output_type": "display_data"
    },
    {
     "data": {
      "application/vnd.jupyter.widget-view+json": {
       "model_id": "0653556967444ead9ad5ff08105489c3",
       "version_major": 2,
       "version_minor": 0
      },
      "text/plain": [
       "Predicting: 0it [00:00, ?it/s]"
      ]
     },
     "metadata": {},
     "output_type": "display_data"
    },
    {
     "name": "stderr",
     "output_type": "stream",
     "text": [
      "Global seed set to 5\n"
     ]
    },
    {
     "data": {
      "application/vnd.jupyter.widget-view+json": {
       "model_id": "d1713468069a46e18493141bbbe00fb3",
       "version_major": 2,
       "version_minor": 0
      },
      "text/plain": [
       "Sanity Checking: 0it [00:00, ?it/s]"
      ]
     },
     "metadata": {},
     "output_type": "display_data"
    },
    {
     "data": {
      "application/vnd.jupyter.widget-view+json": {
       "model_id": "8eb480178d4e434a961edf42b0b28d80",
       "version_major": 2,
       "version_minor": 0
      },
      "text/plain": [
       "Training: 0it [00:00, ?it/s]"
      ]
     },
     "metadata": {},
     "output_type": "display_data"
    },
    {
     "data": {
      "application/vnd.jupyter.widget-view+json": {
       "model_id": "f77d734f137d4852b17be534d5041cad",
       "version_major": 2,
       "version_minor": 0
      },
      "text/plain": [
       "Validation: 0it [00:00, ?it/s]"
      ]
     },
     "metadata": {},
     "output_type": "display_data"
    },
    {
     "data": {
      "application/vnd.jupyter.widget-view+json": {
       "model_id": "5272dfa6ffa04052a9ae2cb955eed373",
       "version_major": 2,
       "version_minor": 0
      },
      "text/plain": [
       "Predicting: 0it [00:00, ?it/s]"
      ]
     },
     "metadata": {},
     "output_type": "display_data"
    },
    {
     "name": "stderr",
     "output_type": "stream",
     "text": [
      "Global seed set to 5\n"
     ]
    },
    {
     "data": {
      "application/vnd.jupyter.widget-view+json": {
       "model_id": "07846025a7dc46398a04db8a80a12a90",
       "version_major": 2,
       "version_minor": 0
      },
      "text/plain": [
       "Sanity Checking: 0it [00:00, ?it/s]"
      ]
     },
     "metadata": {},
     "output_type": "display_data"
    },
    {
     "data": {
      "application/vnd.jupyter.widget-view+json": {
       "model_id": "ce98d338e4644530941c5918dad4cd4e",
       "version_major": 2,
       "version_minor": 0
      },
      "text/plain": [
       "Training: 0it [00:00, ?it/s]"
      ]
     },
     "metadata": {},
     "output_type": "display_data"
    },
    {
     "data": {
      "application/vnd.jupyter.widget-view+json": {
       "model_id": "798b31a05be143b1b8a31c844e6af756",
       "version_major": 2,
       "version_minor": 0
      },
      "text/plain": [
       "Validation: 0it [00:00, ?it/s]"
      ]
     },
     "metadata": {},
     "output_type": "display_data"
    },
    {
     "data": {
      "application/vnd.jupyter.widget-view+json": {
       "model_id": "d031ebf898394dbb88fdd217acb7ef02",
       "version_major": 2,
       "version_minor": 0
      },
      "text/plain": [
       "Validation: 0it [00:00, ?it/s]"
      ]
     },
     "metadata": {},
     "output_type": "display_data"
    },
    {
     "data": {
      "application/vnd.jupyter.widget-view+json": {
       "model_id": "a940e45737c047ee8713399e931ba6f8",
       "version_major": 2,
       "version_minor": 0
      },
      "text/plain": [
       "Predicting: 0it [00:00, ?it/s]"
      ]
     },
     "metadata": {},
     "output_type": "display_data"
    },
    {
     "name": "stderr",
     "output_type": "stream",
     "text": [
      "Global seed set to 5\n"
     ]
    },
    {
     "data": {
      "application/vnd.jupyter.widget-view+json": {
       "model_id": "86e2adb1a4974aa599ff8bfac5853891",
       "version_major": 2,
       "version_minor": 0
      },
      "text/plain": [
       "Sanity Checking: 0it [00:00, ?it/s]"
      ]
     },
     "metadata": {},
     "output_type": "display_data"
    },
    {
     "data": {
      "application/vnd.jupyter.widget-view+json": {
       "model_id": "0f6d430d6538458299600b5542599bbd",
       "version_major": 2,
       "version_minor": 0
      },
      "text/plain": [
       "Training: 0it [00:00, ?it/s]"
      ]
     },
     "metadata": {},
     "output_type": "display_data"
    },
    {
     "data": {
      "application/vnd.jupyter.widget-view+json": {
       "model_id": "5c7ba2b2f9724285ac2f0dcf2b9d5f3c",
       "version_major": 2,
       "version_minor": 0
      },
      "text/plain": [
       "Validation: 0it [00:00, ?it/s]"
      ]
     },
     "metadata": {},
     "output_type": "display_data"
    },
    {
     "data": {
      "application/vnd.jupyter.widget-view+json": {
       "model_id": "239a96cc2b3a4bb195e6dff1900c5f8d",
       "version_major": 2,
       "version_minor": 0
      },
      "text/plain": [
       "Predicting: 0it [00:00, ?it/s]"
      ]
     },
     "metadata": {},
     "output_type": "display_data"
    },
    {
     "name": "stderr",
     "output_type": "stream",
     "text": [
      "Global seed set to 5\n"
     ]
    },
    {
     "data": {
      "application/vnd.jupyter.widget-view+json": {
       "model_id": "593c95bce3374f809f1fa44c20e98fa1",
       "version_major": 2,
       "version_minor": 0
      },
      "text/plain": [
       "Sanity Checking: 0it [00:00, ?it/s]"
      ]
     },
     "metadata": {},
     "output_type": "display_data"
    },
    {
     "data": {
      "application/vnd.jupyter.widget-view+json": {
       "model_id": "1cfbd19f609d469283a57f4ea1eca7da",
       "version_major": 2,
       "version_minor": 0
      },
      "text/plain": [
       "Training: 0it [00:00, ?it/s]"
      ]
     },
     "metadata": {},
     "output_type": "display_data"
    },
    {
     "data": {
      "application/vnd.jupyter.widget-view+json": {
       "model_id": "adebf64c8ad646239f9e2031245aee80",
       "version_major": 2,
       "version_minor": 0
      },
      "text/plain": [
       "Validation: 0it [00:00, ?it/s]"
      ]
     },
     "metadata": {},
     "output_type": "display_data"
    },
    {
     "data": {
      "application/vnd.jupyter.widget-view+json": {
       "model_id": "3ae0ac6e0e714341bf5d5e16212f6f41",
       "version_major": 2,
       "version_minor": 0
      },
      "text/plain": [
       "Validation: 0it [00:00, ?it/s]"
      ]
     },
     "metadata": {},
     "output_type": "display_data"
    },
    {
     "data": {
      "application/vnd.jupyter.widget-view+json": {
       "model_id": "925099cb7e3046c199bfa52bc1c0112e",
       "version_major": 2,
       "version_minor": 0
      },
      "text/plain": [
       "Validation: 0it [00:00, ?it/s]"
      ]
     },
     "metadata": {},
     "output_type": "display_data"
    },
    {
     "data": {
      "application/vnd.jupyter.widget-view+json": {
       "model_id": "d7906ad412bd46bd9a63c508d7d1ba62",
       "version_major": 2,
       "version_minor": 0
      },
      "text/plain": [
       "Validation: 0it [00:00, ?it/s]"
      ]
     },
     "metadata": {},
     "output_type": "display_data"
    },
    {
     "data": {
      "application/vnd.jupyter.widget-view+json": {
       "model_id": "ff91337f59884b3ca4dae0de27d1916e",
       "version_major": 2,
       "version_minor": 0
      },
      "text/plain": [
       "Validation: 0it [00:00, ?it/s]"
      ]
     },
     "metadata": {},
     "output_type": "display_data"
    },
    {
     "data": {
      "application/vnd.jupyter.widget-view+json": {
       "model_id": "67a2dd3387d9419c8fd3ce9a5c73966b",
       "version_major": 2,
       "version_minor": 0
      },
      "text/plain": [
       "Predicting: 0it [00:00, ?it/s]"
      ]
     },
     "metadata": {},
     "output_type": "display_data"
    },
    {
     "name": "stderr",
     "output_type": "stream",
     "text": [
      "Global seed set to 5\n"
     ]
    },
    {
     "data": {
      "application/vnd.jupyter.widget-view+json": {
       "model_id": "3014fc5103084d8ab613e2eb593e8220",
       "version_major": 2,
       "version_minor": 0
      },
      "text/plain": [
       "Sanity Checking: 0it [00:00, ?it/s]"
      ]
     },
     "metadata": {},
     "output_type": "display_data"
    },
    {
     "data": {
      "application/vnd.jupyter.widget-view+json": {
       "model_id": "c8a7a4e1bbc04d239cfa9656b7664163",
       "version_major": 2,
       "version_minor": 0
      },
      "text/plain": [
       "Training: 0it [00:00, ?it/s]"
      ]
     },
     "metadata": {},
     "output_type": "display_data"
    },
    {
     "data": {
      "application/vnd.jupyter.widget-view+json": {
       "model_id": "fdabdc04596a47e0acc83d38e2c73b5a",
       "version_major": 2,
       "version_minor": 0
      },
      "text/plain": [
       "Validation: 0it [00:00, ?it/s]"
      ]
     },
     "metadata": {},
     "output_type": "display_data"
    },
    {
     "data": {
      "application/vnd.jupyter.widget-view+json": {
       "model_id": "72477795765f4618b2d9c6c14317b92c",
       "version_major": 2,
       "version_minor": 0
      },
      "text/plain": [
       "Validation: 0it [00:00, ?it/s]"
      ]
     },
     "metadata": {},
     "output_type": "display_data"
    },
    {
     "data": {
      "application/vnd.jupyter.widget-view+json": {
       "model_id": "301596a02ab1456b8fb85321b3619527",
       "version_major": 2,
       "version_minor": 0
      },
      "text/plain": [
       "Validation: 0it [00:00, ?it/s]"
      ]
     },
     "metadata": {},
     "output_type": "display_data"
    },
    {
     "data": {
      "application/vnd.jupyter.widget-view+json": {
       "model_id": "2b564da0231a463588451c0ea1baa743",
       "version_major": 2,
       "version_minor": 0
      },
      "text/plain": [
       "Predicting: 0it [00:00, ?it/s]"
      ]
     },
     "metadata": {},
     "output_type": "display_data"
    },
    {
     "name": "stderr",
     "output_type": "stream",
     "text": [
      "Global seed set to 5\n"
     ]
    },
    {
     "data": {
      "application/vnd.jupyter.widget-view+json": {
       "model_id": "fcc8fbdb77f642eca790ea6e4cc024be",
       "version_major": 2,
       "version_minor": 0
      },
      "text/plain": [
       "Sanity Checking: 0it [00:00, ?it/s]"
      ]
     },
     "metadata": {},
     "output_type": "display_data"
    },
    {
     "data": {
      "application/vnd.jupyter.widget-view+json": {
       "model_id": "1e5ac69a8b3c4f0ca231fefde1372f07",
       "version_major": 2,
       "version_minor": 0
      },
      "text/plain": [
       "Training: 0it [00:00, ?it/s]"
      ]
     },
     "metadata": {},
     "output_type": "display_data"
    },
    {
     "data": {
      "application/vnd.jupyter.widget-view+json": {
       "model_id": "afb23b1cd6fd4d74b5d618f5ebbb55b5",
       "version_major": 2,
       "version_minor": 0
      },
      "text/plain": [
       "Validation: 0it [00:00, ?it/s]"
      ]
     },
     "metadata": {},
     "output_type": "display_data"
    },
    {
     "data": {
      "application/vnd.jupyter.widget-view+json": {
       "model_id": "b4dda61dc23a4ccdac3004fef00f843b",
       "version_major": 2,
       "version_minor": 0
      },
      "text/plain": [
       "Validation: 0it [00:00, ?it/s]"
      ]
     },
     "metadata": {},
     "output_type": "display_data"
    },
    {
     "data": {
      "application/vnd.jupyter.widget-view+json": {
       "model_id": "8a5cfe532ca148c5afb165273adef6ff",
       "version_major": 2,
       "version_minor": 0
      },
      "text/plain": [
       "Validation: 0it [00:00, ?it/s]"
      ]
     },
     "metadata": {},
     "output_type": "display_data"
    },
    {
     "data": {
      "application/vnd.jupyter.widget-view+json": {
       "model_id": "b2a311686309441d89ddba0376b54a53",
       "version_major": 2,
       "version_minor": 0
      },
      "text/plain": [
       "Validation: 0it [00:00, ?it/s]"
      ]
     },
     "metadata": {},
     "output_type": "display_data"
    },
    {
     "data": {
      "application/vnd.jupyter.widget-view+json": {
       "model_id": "808555eee70c4d0fb9f34205275d3f53",
       "version_major": 2,
       "version_minor": 0
      },
      "text/plain": [
       "Predicting: 0it [00:00, ?it/s]"
      ]
     },
     "metadata": {},
     "output_type": "display_data"
    },
    {
     "name": "stderr",
     "output_type": "stream",
     "text": [
      "Global seed set to 5\n"
     ]
    },
    {
     "data": {
      "application/vnd.jupyter.widget-view+json": {
       "model_id": "15ff6917c89640fd93812e724754925f",
       "version_major": 2,
       "version_minor": 0
      },
      "text/plain": [
       "Sanity Checking: 0it [00:00, ?it/s]"
      ]
     },
     "metadata": {},
     "output_type": "display_data"
    },
    {
     "data": {
      "application/vnd.jupyter.widget-view+json": {
       "model_id": "6e05a87a5e5f4848a9e51fdeafa456f9",
       "version_major": 2,
       "version_minor": 0
      },
      "text/plain": [
       "Training: 0it [00:00, ?it/s]"
      ]
     },
     "metadata": {},
     "output_type": "display_data"
    },
    {
     "data": {
      "application/vnd.jupyter.widget-view+json": {
       "model_id": "ebcac2869f5f4bc68c3d301a6d28de95",
       "version_major": 2,
       "version_minor": 0
      },
      "text/plain": [
       "Validation: 0it [00:00, ?it/s]"
      ]
     },
     "metadata": {},
     "output_type": "display_data"
    },
    {
     "data": {
      "application/vnd.jupyter.widget-view+json": {
       "model_id": "6ad46c7ffb50444e8b4a22248d07c723",
       "version_major": 2,
       "version_minor": 0
      },
      "text/plain": [
       "Validation: 0it [00:00, ?it/s]"
      ]
     },
     "metadata": {},
     "output_type": "display_data"
    },
    {
     "data": {
      "application/vnd.jupyter.widget-view+json": {
       "model_id": "8a5195dd1ddd45be9ea6b1ac04d41632",
       "version_major": 2,
       "version_minor": 0
      },
      "text/plain": [
       "Validation: 0it [00:00, ?it/s]"
      ]
     },
     "metadata": {},
     "output_type": "display_data"
    },
    {
     "data": {
      "application/vnd.jupyter.widget-view+json": {
       "model_id": "e89a7803105740d1a80fc0b7589084b6",
       "version_major": 2,
       "version_minor": 0
      },
      "text/plain": [
       "Validation: 0it [00:00, ?it/s]"
      ]
     },
     "metadata": {},
     "output_type": "display_data"
    },
    {
     "data": {
      "application/vnd.jupyter.widget-view+json": {
       "model_id": "c463004707e54d93aead42c9a4b91395",
       "version_major": 2,
       "version_minor": 0
      },
      "text/plain": [
       "Predicting: 0it [00:00, ?it/s]"
      ]
     },
     "metadata": {},
     "output_type": "display_data"
    },
    {
     "name": "stderr",
     "output_type": "stream",
     "text": [
      "[W 2024-03-27 17:59:39,576] Trial 5 failed with parameters: {'learning_rate': 0.45588433271619744, 'activation': 'ReLU', 'n_blocks1': 5, 'n_blocks2': 5, 'n_blocks3': 3, 'mlp_units': 464, 'n_harmonics': 2, 'n_polynomials': 1, 'dropout_prob_theta': 0.04844794404603945, 'input_size': 14, 'max_steps': 475, 'local_scaler_type': 'standard'} because of the following error: ValueError('Input contains NaN.').\n",
      "Traceback (most recent call last):\n",
      "  File \"c:\\Users\\welson\\anaconda3\\envs\\dissertacao_py39\\lib\\site-packages\\optuna\\study\\_optimize.py\", line 200, in _run_trial\n",
      "    value_or_values = func(trial)\n",
      "  File \"C:\\Users\\welson\\AppData\\Local\\Temp\\ipykernel_15020\\2300118051.py\", line 69, in opt_nbeatsx\n",
      "    loss = smape(df_result['y'], df_result['NBEATSx'])\n",
      "  File \"c:\\Users\\welson\\anaconda3\\envs\\dissertacao_py39\\lib\\site-packages\\sktime\\performance_metrics\\forecasting\\_classes.py\", line 169, in __call__\n",
      "    return self.evaluate(y_true, y_pred, **kwargs)\n",
      "  File \"c:\\Users\\welson\\anaconda3\\envs\\dissertacao_py39\\lib\\site-packages\\sktime\\performance_metrics\\forecasting\\_classes.py\", line 212, in evaluate\n",
      "    out_df = self._evaluate(y_true=y_true_inner, y_pred=y_pred_inner, **kwargs)\n",
      "  File \"c:\\Users\\welson\\anaconda3\\envs\\dissertacao_py39\\lib\\site-packages\\sktime\\performance_metrics\\forecasting\\_classes.py\", line 586, in _evaluate\n",
      "    return self._evaluate_func(func=func, y_true=y_true, y_pred=y_pred, **params)\n",
      "  File \"c:\\Users\\welson\\anaconda3\\envs\\dissertacao_py39\\lib\\site-packages\\sktime\\performance_metrics\\forecasting\\_classes.py\", line 610, in _evaluate_func\n",
      "    res = func(y_true=y_true, y_pred=y_pred, **params)\n",
      "  File \"c:\\Users\\welson\\anaconda3\\envs\\dissertacao_py39\\lib\\site-packages\\sktime\\performance_metrics\\forecasting\\_functions.py\", line 1537, in mean_absolute_percentage_error\n",
      "    _, y_true, y_pred, multioutput = _check_reg_targets(y_true, y_pred, multioutput)\n",
      "  File \"c:\\Users\\welson\\anaconda3\\envs\\dissertacao_py39\\lib\\site-packages\\sklearn\\metrics\\_regression.py\", line 101, in _check_reg_targets\n",
      "    y_pred = check_array(y_pred, ensure_2d=False, dtype=dtype)\n",
      "  File \"c:\\Users\\welson\\anaconda3\\envs\\dissertacao_py39\\lib\\site-packages\\sklearn\\utils\\validation.py\", line 959, in check_array\n",
      "    _assert_all_finite(\n",
      "  File \"c:\\Users\\welson\\anaconda3\\envs\\dissertacao_py39\\lib\\site-packages\\sklearn\\utils\\validation.py\", line 124, in _assert_all_finite\n",
      "    _assert_all_finite_element_wise(\n",
      "  File \"c:\\Users\\welson\\anaconda3\\envs\\dissertacao_py39\\lib\\site-packages\\sklearn\\utils\\validation.py\", line 173, in _assert_all_finite_element_wise\n",
      "    raise ValueError(msg_err)\n",
      "ValueError: Input contains NaN.\n",
      "[W 2024-03-27 17:59:39,583] Trial 5 failed with value None.\n",
      "Global seed set to 5\n"
     ]
    },
    {
     "data": {
      "application/vnd.jupyter.widget-view+json": {
       "model_id": "1f730bf5ff5e4e309e1fa7eb0102837b",
       "version_major": 2,
       "version_minor": 0
      },
      "text/plain": [
       "Sanity Checking: 0it [00:00, ?it/s]"
      ]
     },
     "metadata": {},
     "output_type": "display_data"
    },
    {
     "data": {
      "application/vnd.jupyter.widget-view+json": {
       "model_id": "4667b554fe1e4e4ba0a3dc4a7c23f2f3",
       "version_major": 2,
       "version_minor": 0
      },
      "text/plain": [
       "Training: 0it [00:00, ?it/s]"
      ]
     },
     "metadata": {},
     "output_type": "display_data"
    },
    {
     "data": {
      "application/vnd.jupyter.widget-view+json": {
       "model_id": "af228a188caa4167916b30973b4ab820",
       "version_major": 2,
       "version_minor": 0
      },
      "text/plain": [
       "Validation: 0it [00:00, ?it/s]"
      ]
     },
     "metadata": {},
     "output_type": "display_data"
    },
    {
     "data": {
      "application/vnd.jupyter.widget-view+json": {
       "model_id": "a3ba37adf6ff4d55a516c85cdbae579a",
       "version_major": 2,
       "version_minor": 0
      },
      "text/plain": [
       "Predicting: 0it [00:00, ?it/s]"
      ]
     },
     "metadata": {},
     "output_type": "display_data"
    },
    {
     "name": "stderr",
     "output_type": "stream",
     "text": [
      "Global seed set to 5\n"
     ]
    },
    {
     "data": {
      "application/vnd.jupyter.widget-view+json": {
       "model_id": "84365be15c4046059bf97efab857c448",
       "version_major": 2,
       "version_minor": 0
      },
      "text/plain": [
       "Sanity Checking: 0it [00:00, ?it/s]"
      ]
     },
     "metadata": {},
     "output_type": "display_data"
    },
    {
     "data": {
      "application/vnd.jupyter.widget-view+json": {
       "model_id": "c42f4dc60a4e47d5bc207a60098a5992",
       "version_major": 2,
       "version_minor": 0
      },
      "text/plain": [
       "Training: 0it [00:00, ?it/s]"
      ]
     },
     "metadata": {},
     "output_type": "display_data"
    },
    {
     "data": {
      "application/vnd.jupyter.widget-view+json": {
       "model_id": "828bdc08d5a44ae996c67b5c1c4e1a95",
       "version_major": 2,
       "version_minor": 0
      },
      "text/plain": [
       "Validation: 0it [00:00, ?it/s]"
      ]
     },
     "metadata": {},
     "output_type": "display_data"
    },
    {
     "data": {
      "application/vnd.jupyter.widget-view+json": {
       "model_id": "cbbb7a90ad7d4d79ad1bda22fa6be003",
       "version_major": 2,
       "version_minor": 0
      },
      "text/plain": [
       "Predicting: 0it [00:00, ?it/s]"
      ]
     },
     "metadata": {},
     "output_type": "display_data"
    },
    {
     "name": "stderr",
     "output_type": "stream",
     "text": [
      "Global seed set to 5\n"
     ]
    },
    {
     "data": {
      "application/vnd.jupyter.widget-view+json": {
       "model_id": "7b40fd5fba924cb788cc5c9bf5061e9b",
       "version_major": 2,
       "version_minor": 0
      },
      "text/plain": [
       "Sanity Checking: 0it [00:00, ?it/s]"
      ]
     },
     "metadata": {},
     "output_type": "display_data"
    },
    {
     "data": {
      "application/vnd.jupyter.widget-view+json": {
       "model_id": "19fbd670392c46028fb93244a3192369",
       "version_major": 2,
       "version_minor": 0
      },
      "text/plain": [
       "Training: 0it [00:00, ?it/s]"
      ]
     },
     "metadata": {},
     "output_type": "display_data"
    },
    {
     "data": {
      "application/vnd.jupyter.widget-view+json": {
       "model_id": "fff0f145301242d68d0b71118d6aa95f",
       "version_major": 2,
       "version_minor": 0
      },
      "text/plain": [
       "Validation: 0it [00:00, ?it/s]"
      ]
     },
     "metadata": {},
     "output_type": "display_data"
    },
    {
     "data": {
      "application/vnd.jupyter.widget-view+json": {
       "model_id": "629af5fe3dfb4615a22b6cf310b50861",
       "version_major": 2,
       "version_minor": 0
      },
      "text/plain": [
       "Validation: 0it [00:00, ?it/s]"
      ]
     },
     "metadata": {},
     "output_type": "display_data"
    },
    {
     "data": {
      "application/vnd.jupyter.widget-view+json": {
       "model_id": "13d139be1983476d900fc90157855638",
       "version_major": 2,
       "version_minor": 0
      },
      "text/plain": [
       "Predicting: 0it [00:00, ?it/s]"
      ]
     },
     "metadata": {},
     "output_type": "display_data"
    },
    {
     "name": "stderr",
     "output_type": "stream",
     "text": [
      "Global seed set to 5\n"
     ]
    },
    {
     "data": {
      "application/vnd.jupyter.widget-view+json": {
       "model_id": "51afdf4af2bf42549165348d1b12aaac",
       "version_major": 2,
       "version_minor": 0
      },
      "text/plain": [
       "Sanity Checking: 0it [00:00, ?it/s]"
      ]
     },
     "metadata": {},
     "output_type": "display_data"
    },
    {
     "data": {
      "application/vnd.jupyter.widget-view+json": {
       "model_id": "91978d4ad88c479481e7a9c770c90aea",
       "version_major": 2,
       "version_minor": 0
      },
      "text/plain": [
       "Training: 0it [00:00, ?it/s]"
      ]
     },
     "metadata": {},
     "output_type": "display_data"
    },
    {
     "data": {
      "application/vnd.jupyter.widget-view+json": {
       "model_id": "4dd51cbf78b245479385978f56f8553b",
       "version_major": 2,
       "version_minor": 0
      },
      "text/plain": [
       "Validation: 0it [00:00, ?it/s]"
      ]
     },
     "metadata": {},
     "output_type": "display_data"
    },
    {
     "data": {
      "application/vnd.jupyter.widget-view+json": {
       "model_id": "8440f52fa59947b8acb6f6756cd34053",
       "version_major": 2,
       "version_minor": 0
      },
      "text/plain": [
       "Validation: 0it [00:00, ?it/s]"
      ]
     },
     "metadata": {},
     "output_type": "display_data"
    },
    {
     "data": {
      "application/vnd.jupyter.widget-view+json": {
       "model_id": "984c18a451c04cbc9e69fa7590c116cb",
       "version_major": 2,
       "version_minor": 0
      },
      "text/plain": [
       "Validation: 0it [00:00, ?it/s]"
      ]
     },
     "metadata": {},
     "output_type": "display_data"
    },
    {
     "data": {
      "application/vnd.jupyter.widget-view+json": {
       "model_id": "6712b35062c9414ea7cd21c5c2f2c7da",
       "version_major": 2,
       "version_minor": 0
      },
      "text/plain": [
       "Predicting: 0it [00:00, ?it/s]"
      ]
     },
     "metadata": {},
     "output_type": "display_data"
    },
    {
     "name": "stderr",
     "output_type": "stream",
     "text": [
      "Global seed set to 5\n"
     ]
    },
    {
     "data": {
      "application/vnd.jupyter.widget-view+json": {
       "model_id": "7dd468cdf36f42c6ad40a1e95bd2af34",
       "version_major": 2,
       "version_minor": 0
      },
      "text/plain": [
       "Sanity Checking: 0it [00:00, ?it/s]"
      ]
     },
     "metadata": {},
     "output_type": "display_data"
    },
    {
     "data": {
      "application/vnd.jupyter.widget-view+json": {
       "model_id": "85e2847164da49be8381976ab54e1bfc",
       "version_major": 2,
       "version_minor": 0
      },
      "text/plain": [
       "Training: 0it [00:00, ?it/s]"
      ]
     },
     "metadata": {},
     "output_type": "display_data"
    },
    {
     "data": {
      "application/vnd.jupyter.widget-view+json": {
       "model_id": "857df20654ab43db81d80626849c4e6d",
       "version_major": 2,
       "version_minor": 0
      },
      "text/plain": [
       "Validation: 0it [00:00, ?it/s]"
      ]
     },
     "metadata": {},
     "output_type": "display_data"
    },
    {
     "data": {
      "application/vnd.jupyter.widget-view+json": {
       "model_id": "3cf8ede654214e4e9763a02d2facdc0c",
       "version_major": 2,
       "version_minor": 0
      },
      "text/plain": [
       "Validation: 0it [00:00, ?it/s]"
      ]
     },
     "metadata": {},
     "output_type": "display_data"
    },
    {
     "data": {
      "application/vnd.jupyter.widget-view+json": {
       "model_id": "0b0fc35529be468abf9c62a8920107ec",
       "version_major": 2,
       "version_minor": 0
      },
      "text/plain": [
       "Validation: 0it [00:00, ?it/s]"
      ]
     },
     "metadata": {},
     "output_type": "display_data"
    },
    {
     "data": {
      "application/vnd.jupyter.widget-view+json": {
       "model_id": "c3614f64293944689d5c6ea8b08d1957",
       "version_major": 2,
       "version_minor": 0
      },
      "text/plain": [
       "Predicting: 0it [00:00, ?it/s]"
      ]
     },
     "metadata": {},
     "output_type": "display_data"
    },
    {
     "name": "stderr",
     "output_type": "stream",
     "text": [
      "Global seed set to 5\n"
     ]
    },
    {
     "data": {
      "application/vnd.jupyter.widget-view+json": {
       "model_id": "2b68c07a728e46dab2fd94a0b6c6f0b8",
       "version_major": 2,
       "version_minor": 0
      },
      "text/plain": [
       "Sanity Checking: 0it [00:00, ?it/s]"
      ]
     },
     "metadata": {},
     "output_type": "display_data"
    },
    {
     "data": {
      "application/vnd.jupyter.widget-view+json": {
       "model_id": "d11fadfc2c8449568744b43b74992e4a",
       "version_major": 2,
       "version_minor": 0
      },
      "text/plain": [
       "Training: 0it [00:00, ?it/s]"
      ]
     },
     "metadata": {},
     "output_type": "display_data"
    },
    {
     "data": {
      "application/vnd.jupyter.widget-view+json": {
       "model_id": "86f9fd0ee75d422fa7086a612feccadd",
       "version_major": 2,
       "version_minor": 0
      },
      "text/plain": [
       "Validation: 0it [00:00, ?it/s]"
      ]
     },
     "metadata": {},
     "output_type": "display_data"
    },
    {
     "data": {
      "application/vnd.jupyter.widget-view+json": {
       "model_id": "cd70f5a0aad44310ae13d8df69551d08",
       "version_major": 2,
       "version_minor": 0
      },
      "text/plain": [
       "Validation: 0it [00:00, ?it/s]"
      ]
     },
     "metadata": {},
     "output_type": "display_data"
    },
    {
     "data": {
      "application/vnd.jupyter.widget-view+json": {
       "model_id": "0d8663a9c7b74955bb8ae92f304661f7",
       "version_major": 2,
       "version_minor": 0
      },
      "text/plain": [
       "Predicting: 0it [00:00, ?it/s]"
      ]
     },
     "metadata": {},
     "output_type": "display_data"
    },
    {
     "name": "stderr",
     "output_type": "stream",
     "text": [
      "Global seed set to 5\n"
     ]
    },
    {
     "data": {
      "application/vnd.jupyter.widget-view+json": {
       "model_id": "36f04d6f13364c3e8f78ae06758880f8",
       "version_major": 2,
       "version_minor": 0
      },
      "text/plain": [
       "Sanity Checking: 0it [00:00, ?it/s]"
      ]
     },
     "metadata": {},
     "output_type": "display_data"
    },
    {
     "data": {
      "application/vnd.jupyter.widget-view+json": {
       "model_id": "7a09c0f8147a4e0ca452b1a302267769",
       "version_major": 2,
       "version_minor": 0
      },
      "text/plain": [
       "Training: 0it [00:00, ?it/s]"
      ]
     },
     "metadata": {},
     "output_type": "display_data"
    },
    {
     "data": {
      "application/vnd.jupyter.widget-view+json": {
       "model_id": "33bfde5ff045460e989f191728e020de",
       "version_major": 2,
       "version_minor": 0
      },
      "text/plain": [
       "Validation: 0it [00:00, ?it/s]"
      ]
     },
     "metadata": {},
     "output_type": "display_data"
    },
    {
     "data": {
      "application/vnd.jupyter.widget-view+json": {
       "model_id": "4a80eace34de462db04434d23cb00b3d",
       "version_major": 2,
       "version_minor": 0
      },
      "text/plain": [
       "Validation: 0it [00:00, ?it/s]"
      ]
     },
     "metadata": {},
     "output_type": "display_data"
    },
    {
     "data": {
      "application/vnd.jupyter.widget-view+json": {
       "model_id": "998e6959b5444d16863a54997cdc8da1",
       "version_major": 2,
       "version_minor": 0
      },
      "text/plain": [
       "Validation: 0it [00:00, ?it/s]"
      ]
     },
     "metadata": {},
     "output_type": "display_data"
    },
    {
     "data": {
      "application/vnd.jupyter.widget-view+json": {
       "model_id": "e3d686cd501849308f44f9d6abfde7c1",
       "version_major": 2,
       "version_minor": 0
      },
      "text/plain": [
       "Validation: 0it [00:00, ?it/s]"
      ]
     },
     "metadata": {},
     "output_type": "display_data"
    },
    {
     "data": {
      "application/vnd.jupyter.widget-view+json": {
       "model_id": "b5c237c43e4b4ae4b32e04a239dbd2c6",
       "version_major": 2,
       "version_minor": 0
      },
      "text/plain": [
       "Predicting: 0it [00:00, ?it/s]"
      ]
     },
     "metadata": {},
     "output_type": "display_data"
    },
    {
     "name": "stderr",
     "output_type": "stream",
     "text": [
      "Global seed set to 5\n"
     ]
    },
    {
     "data": {
      "application/vnd.jupyter.widget-view+json": {
       "model_id": "68b37d599a0b4aea88d8bfc792011f5e",
       "version_major": 2,
       "version_minor": 0
      },
      "text/plain": [
       "Sanity Checking: 0it [00:00, ?it/s]"
      ]
     },
     "metadata": {},
     "output_type": "display_data"
    },
    {
     "data": {
      "application/vnd.jupyter.widget-view+json": {
       "model_id": "4613ec56854a4a40ab765a4ef157a371",
       "version_major": 2,
       "version_minor": 0
      },
      "text/plain": [
       "Training: 0it [00:00, ?it/s]"
      ]
     },
     "metadata": {},
     "output_type": "display_data"
    },
    {
     "data": {
      "application/vnd.jupyter.widget-view+json": {
       "model_id": "00fb04d484d14af69590d81098a1b70c",
       "version_major": 2,
       "version_minor": 0
      },
      "text/plain": [
       "Validation: 0it [00:00, ?it/s]"
      ]
     },
     "metadata": {},
     "output_type": "display_data"
    },
    {
     "data": {
      "application/vnd.jupyter.widget-view+json": {
       "model_id": "15ae6d9ef9f245d4a7cb4e3f9a7c362d",
       "version_major": 2,
       "version_minor": 0
      },
      "text/plain": [
       "Validation: 0it [00:00, ?it/s]"
      ]
     },
     "metadata": {},
     "output_type": "display_data"
    },
    {
     "data": {
      "application/vnd.jupyter.widget-view+json": {
       "model_id": "664d657957ed4e30b8cacdc12c7dfbc2",
       "version_major": 2,
       "version_minor": 0
      },
      "text/plain": [
       "Validation: 0it [00:00, ?it/s]"
      ]
     },
     "metadata": {},
     "output_type": "display_data"
    },
    {
     "data": {
      "application/vnd.jupyter.widget-view+json": {
       "model_id": "cf671fff5e884c4c94552da36fd82e19",
       "version_major": 2,
       "version_minor": 0
      },
      "text/plain": [
       "Validation: 0it [00:00, ?it/s]"
      ]
     },
     "metadata": {},
     "output_type": "display_data"
    },
    {
     "data": {
      "application/vnd.jupyter.widget-view+json": {
       "model_id": "de3732b1f7c74df49b1db5cb7dd66b3b",
       "version_major": 2,
       "version_minor": 0
      },
      "text/plain": [
       "Predicting: 0it [00:00, ?it/s]"
      ]
     },
     "metadata": {},
     "output_type": "display_data"
    },
    {
     "name": "stderr",
     "output_type": "stream",
     "text": [
      "Global seed set to 5\n"
     ]
    },
    {
     "data": {
      "application/vnd.jupyter.widget-view+json": {
       "model_id": "f87342beb2664cb7b66fd1d0a9c5aacd",
       "version_major": 2,
       "version_minor": 0
      },
      "text/plain": [
       "Sanity Checking: 0it [00:00, ?it/s]"
      ]
     },
     "metadata": {},
     "output_type": "display_data"
    },
    {
     "data": {
      "application/vnd.jupyter.widget-view+json": {
       "model_id": "94b83a6eba8143019a9c239ab05c9e14",
       "version_major": 2,
       "version_minor": 0
      },
      "text/plain": [
       "Training: 0it [00:00, ?it/s]"
      ]
     },
     "metadata": {},
     "output_type": "display_data"
    },
    {
     "data": {
      "application/vnd.jupyter.widget-view+json": {
       "model_id": "8408c4e366e64df6a96187a23150f176",
       "version_major": 2,
       "version_minor": 0
      },
      "text/plain": [
       "Validation: 0it [00:00, ?it/s]"
      ]
     },
     "metadata": {},
     "output_type": "display_data"
    },
    {
     "data": {
      "application/vnd.jupyter.widget-view+json": {
       "model_id": "2b16ed0a24764e1387287dd454aabe61",
       "version_major": 2,
       "version_minor": 0
      },
      "text/plain": [
       "Validation: 0it [00:00, ?it/s]"
      ]
     },
     "metadata": {},
     "output_type": "display_data"
    },
    {
     "data": {
      "application/vnd.jupyter.widget-view+json": {
       "model_id": "c101386697354694b30f269d4e1992a6",
       "version_major": 2,
       "version_minor": 0
      },
      "text/plain": [
       "Validation: 0it [00:00, ?it/s]"
      ]
     },
     "metadata": {},
     "output_type": "display_data"
    },
    {
     "data": {
      "application/vnd.jupyter.widget-view+json": {
       "model_id": "91f6ece9b301487e94ed2d23e39308fd",
       "version_major": 2,
       "version_minor": 0
      },
      "text/plain": [
       "Validation: 0it [00:00, ?it/s]"
      ]
     },
     "metadata": {},
     "output_type": "display_data"
    },
    {
     "data": {
      "application/vnd.jupyter.widget-view+json": {
       "model_id": "259f85eef0c54ae0b7ac74b61c33650c",
       "version_major": 2,
       "version_minor": 0
      },
      "text/plain": [
       "Validation: 0it [00:00, ?it/s]"
      ]
     },
     "metadata": {},
     "output_type": "display_data"
    },
    {
     "data": {
      "application/vnd.jupyter.widget-view+json": {
       "model_id": "91cb02b3424642b584be4ab58d9d42f5",
       "version_major": 2,
       "version_minor": 0
      },
      "text/plain": [
       "Predicting: 0it [00:00, ?it/s]"
      ]
     },
     "metadata": {},
     "output_type": "display_data"
    },
    {
     "name": "stderr",
     "output_type": "stream",
     "text": [
      "Global seed set to 5\n"
     ]
    },
    {
     "data": {
      "application/vnd.jupyter.widget-view+json": {
       "model_id": "73b45e534e724ff8abf3092d9711df75",
       "version_major": 2,
       "version_minor": 0
      },
      "text/plain": [
       "Sanity Checking: 0it [00:00, ?it/s]"
      ]
     },
     "metadata": {},
     "output_type": "display_data"
    },
    {
     "data": {
      "application/vnd.jupyter.widget-view+json": {
       "model_id": "3c676cea97694d4b807b0dd222c37c81",
       "version_major": 2,
       "version_minor": 0
      },
      "text/plain": [
       "Training: 0it [00:00, ?it/s]"
      ]
     },
     "metadata": {},
     "output_type": "display_data"
    },
    {
     "data": {
      "application/vnd.jupyter.widget-view+json": {
       "model_id": "cd04597550454a28a7d5ffce23658c80",
       "version_major": 2,
       "version_minor": 0
      },
      "text/plain": [
       "Validation: 0it [00:00, ?it/s]"
      ]
     },
     "metadata": {},
     "output_type": "display_data"
    },
    {
     "data": {
      "application/vnd.jupyter.widget-view+json": {
       "model_id": "b74f74dfdf844eedbdbbbdec85722ea6",
       "version_major": 2,
       "version_minor": 0
      },
      "text/plain": [
       "Validation: 0it [00:00, ?it/s]"
      ]
     },
     "metadata": {},
     "output_type": "display_data"
    },
    {
     "data": {
      "application/vnd.jupyter.widget-view+json": {
       "model_id": "e2acc551c6194e8f906d5ac91abd993c",
       "version_major": 2,
       "version_minor": 0
      },
      "text/plain": [
       "Predicting: 0it [00:00, ?it/s]"
      ]
     },
     "metadata": {},
     "output_type": "display_data"
    },
    {
     "name": "stderr",
     "output_type": "stream",
     "text": [
      "Global seed set to 5\n"
     ]
    },
    {
     "data": {
      "application/vnd.jupyter.widget-view+json": {
       "model_id": "4f5e0aefc1734aeb8f53e24d5877f4c3",
       "version_major": 2,
       "version_minor": 0
      },
      "text/plain": [
       "Sanity Checking: 0it [00:00, ?it/s]"
      ]
     },
     "metadata": {},
     "output_type": "display_data"
    },
    {
     "data": {
      "application/vnd.jupyter.widget-view+json": {
       "model_id": "5fc0b9cba07b408e85c71ab4f11ff096",
       "version_major": 2,
       "version_minor": 0
      },
      "text/plain": [
       "Training: 0it [00:00, ?it/s]"
      ]
     },
     "metadata": {},
     "output_type": "display_data"
    },
    {
     "data": {
      "application/vnd.jupyter.widget-view+json": {
       "model_id": "4da6ef149de04984879426d1368d8a12",
       "version_major": 2,
       "version_minor": 0
      },
      "text/plain": [
       "Validation: 0it [00:00, ?it/s]"
      ]
     },
     "metadata": {},
     "output_type": "display_data"
    },
    {
     "data": {
      "application/vnd.jupyter.widget-view+json": {
       "model_id": "f9b3b40ab2c940a592301b224d695745",
       "version_major": 2,
       "version_minor": 0
      },
      "text/plain": [
       "Validation: 0it [00:00, ?it/s]"
      ]
     },
     "metadata": {},
     "output_type": "display_data"
    },
    {
     "data": {
      "application/vnd.jupyter.widget-view+json": {
       "model_id": "851b500bd08143ecad2d31a7c935eb48",
       "version_major": 2,
       "version_minor": 0
      },
      "text/plain": [
       "Validation: 0it [00:00, ?it/s]"
      ]
     },
     "metadata": {},
     "output_type": "display_data"
    },
    {
     "data": {
      "application/vnd.jupyter.widget-view+json": {
       "model_id": "2fc90ee24927410db42cb99b9dfdfa20",
       "version_major": 2,
       "version_minor": 0
      },
      "text/plain": [
       "Predicting: 0it [00:00, ?it/s]"
      ]
     },
     "metadata": {},
     "output_type": "display_data"
    },
    {
     "name": "stderr",
     "output_type": "stream",
     "text": [
      "[W 2024-03-27 18:16:10,067] Trial 5 failed with parameters: {'encoder_hidden_size': 32, 'decoder_hidden_size': 128, 'encoder_n_layers': 4, 'decoder_layers': 3, 'learning_rate': 0.4597670034170664, 'context_size': 3, 'max_steps': 325, 'local_scaler_type': 'robust'} because of the following error: ValueError('Input contains NaN.').\n",
      "Traceback (most recent call last):\n",
      "  File \"c:\\Users\\welson\\anaconda3\\envs\\dissertacao_py39\\lib\\site-packages\\optuna\\study\\_optimize.py\", line 200, in _run_trial\n",
      "    value_or_values = func(trial)\n",
      "  File \"C:\\Users\\welson\\AppData\\Local\\Temp\\ipykernel_15020\\2300118051.py\", line 27, in opt_lstm\n",
      "    loss = smape(df_result['y'], df_result['LSTM'])\n",
      "  File \"c:\\Users\\welson\\anaconda3\\envs\\dissertacao_py39\\lib\\site-packages\\sktime\\performance_metrics\\forecasting\\_classes.py\", line 169, in __call__\n",
      "    return self.evaluate(y_true, y_pred, **kwargs)\n",
      "  File \"c:\\Users\\welson\\anaconda3\\envs\\dissertacao_py39\\lib\\site-packages\\sktime\\performance_metrics\\forecasting\\_classes.py\", line 212, in evaluate\n",
      "    out_df = self._evaluate(y_true=y_true_inner, y_pred=y_pred_inner, **kwargs)\n",
      "  File \"c:\\Users\\welson\\anaconda3\\envs\\dissertacao_py39\\lib\\site-packages\\sktime\\performance_metrics\\forecasting\\_classes.py\", line 586, in _evaluate\n",
      "    return self._evaluate_func(func=func, y_true=y_true, y_pred=y_pred, **params)\n",
      "  File \"c:\\Users\\welson\\anaconda3\\envs\\dissertacao_py39\\lib\\site-packages\\sktime\\performance_metrics\\forecasting\\_classes.py\", line 610, in _evaluate_func\n",
      "    res = func(y_true=y_true, y_pred=y_pred, **params)\n",
      "  File \"c:\\Users\\welson\\anaconda3\\envs\\dissertacao_py39\\lib\\site-packages\\sktime\\performance_metrics\\forecasting\\_functions.py\", line 1537, in mean_absolute_percentage_error\n",
      "    _, y_true, y_pred, multioutput = _check_reg_targets(y_true, y_pred, multioutput)\n",
      "  File \"c:\\Users\\welson\\anaconda3\\envs\\dissertacao_py39\\lib\\site-packages\\sklearn\\metrics\\_regression.py\", line 101, in _check_reg_targets\n",
      "    y_pred = check_array(y_pred, ensure_2d=False, dtype=dtype)\n",
      "  File \"c:\\Users\\welson\\anaconda3\\envs\\dissertacao_py39\\lib\\site-packages\\sklearn\\utils\\validation.py\", line 959, in check_array\n",
      "    _assert_all_finite(\n",
      "  File \"c:\\Users\\welson\\anaconda3\\envs\\dissertacao_py39\\lib\\site-packages\\sklearn\\utils\\validation.py\", line 124, in _assert_all_finite\n",
      "    _assert_all_finite_element_wise(\n",
      "  File \"c:\\Users\\welson\\anaconda3\\envs\\dissertacao_py39\\lib\\site-packages\\sklearn\\utils\\validation.py\", line 173, in _assert_all_finite_element_wise\n",
      "    raise ValueError(msg_err)\n",
      "ValueError: Input contains NaN.\n",
      "[W 2024-03-27 18:16:10,068] Trial 5 failed with value None.\n",
      "Global seed set to 5\n"
     ]
    },
    {
     "data": {
      "application/vnd.jupyter.widget-view+json": {
       "model_id": "24ab3799de0142f0b8785b7cc74d1486",
       "version_major": 2,
       "version_minor": 0
      },
      "text/plain": [
       "Sanity Checking: 0it [00:00, ?it/s]"
      ]
     },
     "metadata": {},
     "output_type": "display_data"
    },
    {
     "data": {
      "application/vnd.jupyter.widget-view+json": {
       "model_id": "c3a87c7477394797b980b8c1a626f715",
       "version_major": 2,
       "version_minor": 0
      },
      "text/plain": [
       "Training: 0it [00:00, ?it/s]"
      ]
     },
     "metadata": {},
     "output_type": "display_data"
    },
    {
     "data": {
      "application/vnd.jupyter.widget-view+json": {
       "model_id": "e06c5ed17268428b8e8bce4cfa12ede9",
       "version_major": 2,
       "version_minor": 0
      },
      "text/plain": [
       "Validation: 0it [00:00, ?it/s]"
      ]
     },
     "metadata": {},
     "output_type": "display_data"
    },
    {
     "data": {
      "application/vnd.jupyter.widget-view+json": {
       "model_id": "ddfff368dc9341fea7a27ad0fe8ebe9f",
       "version_major": 2,
       "version_minor": 0
      },
      "text/plain": [
       "Validation: 0it [00:00, ?it/s]"
      ]
     },
     "metadata": {},
     "output_type": "display_data"
    },
    {
     "data": {
      "application/vnd.jupyter.widget-view+json": {
       "model_id": "b8b343320b494dd0a11eeea0a40d2192",
       "version_major": 2,
       "version_minor": 0
      },
      "text/plain": [
       "Validation: 0it [00:00, ?it/s]"
      ]
     },
     "metadata": {},
     "output_type": "display_data"
    },
    {
     "data": {
      "application/vnd.jupyter.widget-view+json": {
       "model_id": "2986853fa96c40e7931acbaf00ab7cac",
       "version_major": 2,
       "version_minor": 0
      },
      "text/plain": [
       "Predicting: 0it [00:00, ?it/s]"
      ]
     },
     "metadata": {},
     "output_type": "display_data"
    },
    {
     "name": "stderr",
     "output_type": "stream",
     "text": [
      "Global seed set to 5\n"
     ]
    },
    {
     "data": {
      "application/vnd.jupyter.widget-view+json": {
       "model_id": "6079b09034ab4ac48f883ccd2662c91c",
       "version_major": 2,
       "version_minor": 0
      },
      "text/plain": [
       "Sanity Checking: 0it [00:00, ?it/s]"
      ]
     },
     "metadata": {},
     "output_type": "display_data"
    },
    {
     "data": {
      "application/vnd.jupyter.widget-view+json": {
       "model_id": "f1d1ee7a880f4ababef27625c7414e11",
       "version_major": 2,
       "version_minor": 0
      },
      "text/plain": [
       "Training: 0it [00:00, ?it/s]"
      ]
     },
     "metadata": {},
     "output_type": "display_data"
    },
    {
     "data": {
      "application/vnd.jupyter.widget-view+json": {
       "model_id": "1b1818711f864e75b420da94ea828e1f",
       "version_major": 2,
       "version_minor": 0
      },
      "text/plain": [
       "Validation: 0it [00:00, ?it/s]"
      ]
     },
     "metadata": {},
     "output_type": "display_data"
    },
    {
     "data": {
      "application/vnd.jupyter.widget-view+json": {
       "model_id": "9d6d28507b874f6093082114880576a4",
       "version_major": 2,
       "version_minor": 0
      },
      "text/plain": [
       "Validation: 0it [00:00, ?it/s]"
      ]
     },
     "metadata": {},
     "output_type": "display_data"
    },
    {
     "data": {
      "application/vnd.jupyter.widget-view+json": {
       "model_id": "a42a4ae439fb4fe9a44650dc469f8b0e",
       "version_major": 2,
       "version_minor": 0
      },
      "text/plain": [
       "Predicting: 0it [00:00, ?it/s]"
      ]
     },
     "metadata": {},
     "output_type": "display_data"
    },
    {
     "name": "stderr",
     "output_type": "stream",
     "text": [
      "Global seed set to 5\n"
     ]
    },
    {
     "data": {
      "application/vnd.jupyter.widget-view+json": {
       "model_id": "265dfa7dd9dd474fa8f923e4cf1e3bda",
       "version_major": 2,
       "version_minor": 0
      },
      "text/plain": [
       "Sanity Checking: 0it [00:00, ?it/s]"
      ]
     },
     "metadata": {},
     "output_type": "display_data"
    },
    {
     "data": {
      "application/vnd.jupyter.widget-view+json": {
       "model_id": "e9a86cac6add4ac1a323fca0d9b24b49",
       "version_major": 2,
       "version_minor": 0
      },
      "text/plain": [
       "Training: 0it [00:00, ?it/s]"
      ]
     },
     "metadata": {},
     "output_type": "display_data"
    },
    {
     "data": {
      "application/vnd.jupyter.widget-view+json": {
       "model_id": "71af4bc8c315426e9ca5748ec5a318bd",
       "version_major": 2,
       "version_minor": 0
      },
      "text/plain": [
       "Validation: 0it [00:00, ?it/s]"
      ]
     },
     "metadata": {},
     "output_type": "display_data"
    },
    {
     "data": {
      "application/vnd.jupyter.widget-view+json": {
       "model_id": "de0bc7be92304f6b9d8aa9225d3868bd",
       "version_major": 2,
       "version_minor": 0
      },
      "text/plain": [
       "Predicting: 0it [00:00, ?it/s]"
      ]
     },
     "metadata": {},
     "output_type": "display_data"
    },
    {
     "name": "stderr",
     "output_type": "stream",
     "text": [
      "Global seed set to 5\n"
     ]
    },
    {
     "data": {
      "application/vnd.jupyter.widget-view+json": {
       "model_id": "78aae0147b7b4c97b75c0ac8fbf05286",
       "version_major": 2,
       "version_minor": 0
      },
      "text/plain": [
       "Sanity Checking: 0it [00:00, ?it/s]"
      ]
     },
     "metadata": {},
     "output_type": "display_data"
    },
    {
     "data": {
      "application/vnd.jupyter.widget-view+json": {
       "model_id": "c27a95d4d77a4d58a7b7d5efb71aae36",
       "version_major": 2,
       "version_minor": 0
      },
      "text/plain": [
       "Training: 0it [00:00, ?it/s]"
      ]
     },
     "metadata": {},
     "output_type": "display_data"
    },
    {
     "data": {
      "application/vnd.jupyter.widget-view+json": {
       "model_id": "66194a365aff43b9b057d9526dac3895",
       "version_major": 2,
       "version_minor": 0
      },
      "text/plain": [
       "Validation: 0it [00:00, ?it/s]"
      ]
     },
     "metadata": {},
     "output_type": "display_data"
    },
    {
     "data": {
      "application/vnd.jupyter.widget-view+json": {
       "model_id": "e091829768944d0c98f5a0940025de5d",
       "version_major": 2,
       "version_minor": 0
      },
      "text/plain": [
       "Validation: 0it [00:00, ?it/s]"
      ]
     },
     "metadata": {},
     "output_type": "display_data"
    },
    {
     "data": {
      "application/vnd.jupyter.widget-view+json": {
       "model_id": "a9523503afc04a1c85b4421f749c1155",
       "version_major": 2,
       "version_minor": 0
      },
      "text/plain": [
       "Validation: 0it [00:00, ?it/s]"
      ]
     },
     "metadata": {},
     "output_type": "display_data"
    },
    {
     "data": {
      "application/vnd.jupyter.widget-view+json": {
       "model_id": "9bda8cb45be6468ebef94245475430eb",
       "version_major": 2,
       "version_minor": 0
      },
      "text/plain": [
       "Validation: 0it [00:00, ?it/s]"
      ]
     },
     "metadata": {},
     "output_type": "display_data"
    },
    {
     "data": {
      "application/vnd.jupyter.widget-view+json": {
       "model_id": "d2ec0bc2e58d46ffbf82238a651b96a6",
       "version_major": 2,
       "version_minor": 0
      },
      "text/plain": [
       "Predicting: 0it [00:00, ?it/s]"
      ]
     },
     "metadata": {},
     "output_type": "display_data"
    },
    {
     "name": "stderr",
     "output_type": "stream",
     "text": [
      "Global seed set to 5\n"
     ]
    },
    {
     "data": {
      "application/vnd.jupyter.widget-view+json": {
       "model_id": "f68185f0053047639f150b14c0891c9d",
       "version_major": 2,
       "version_minor": 0
      },
      "text/plain": [
       "Sanity Checking: 0it [00:00, ?it/s]"
      ]
     },
     "metadata": {},
     "output_type": "display_data"
    },
    {
     "data": {
      "application/vnd.jupyter.widget-view+json": {
       "model_id": "55ef12d3e8f8452ba42a9d70509129c5",
       "version_major": 2,
       "version_minor": 0
      },
      "text/plain": [
       "Training: 0it [00:00, ?it/s]"
      ]
     },
     "metadata": {},
     "output_type": "display_data"
    },
    {
     "data": {
      "application/vnd.jupyter.widget-view+json": {
       "model_id": "89e4f2ffa3ba41208bcf4a7ddf6ab8e7",
       "version_major": 2,
       "version_minor": 0
      },
      "text/plain": [
       "Validation: 0it [00:00, ?it/s]"
      ]
     },
     "metadata": {},
     "output_type": "display_data"
    }
   ],
   "source": [
    "def opt_lstm(trial, fh):\n",
    "    params = {\n",
    "        'encoder_hidden_size': trial.suggest_categorical('encoder_hidden_size', [8, 16, 32, 64, 128, 256]),\n",
    "        'decoder_hidden_size': trial.suggest_categorical('decoder_hidden_size', [8, 16, 32, 64, 128, 256]),\n",
    "        'encoder_n_layers': trial.suggest_categorical('encoder_n_layers', [1, 2, 3, 4]),\n",
    "        'decoder_layers': trial.suggest_categorical('decoder_layers', [1, 2, 3, 4]),\n",
    "        'learning_rate': trial.suggest_loguniform('learning_rate', 0.001, 0.5),\n",
    "        'context_size': trial.suggest_int('context_size', 1, 3*look_back),\n",
    "        'max_steps' : trial.suggest_int('max_steps', 100, 500, step=25)\n",
    "    }\n",
    "\n",
    "    local_scaler_type = trial.suggest_categorical('local_scaler_type', [\"standard\", \"robust\", \"minmax\"])\n",
    "\n",
    "    model = [LSTM(random_seed=5, h=fh,\n",
    "                  hist_exog_list=['t_vz_56338500', 't_vz_56110005', 't_vz_56337200', 't_vz_56337500'],\n",
    "                  futr_exog_list=['t_cv_56425000', 't_cv_56338500', 't_cv_56110005','t_cv_56337200', 't_cv_56337500'],\n",
    "                  scaler_type=None,\n",
    "                  logger=False,\n",
    "                  **params)]\n",
    "\n",
    "    nfc = NeuralForecast(models=model, freq='D', local_scaler_type=local_scaler_type)\n",
    "    nfc.fit(df=df_train)\n",
    "\n",
    "    p = nfc.predict(futr_df=df_futr)\n",
    "    df_result = pd.merge(left=p, right=df_test[['ds', 'y']], on=['ds'], how='left')\n",
    "\n",
    "    loss = smape(df_result['y'], df_result['LSTM'])\n",
    "    \n",
    "    return loss\n",
    "\n",
    "# ============================ #\n",
    "\n",
    "def opt_nbeatsx(trial, fh):\n",
    "    learning_rate       = trial.suggest_loguniform('learning_rate', 0.001, 0.5)\n",
    "    activation          = trial.suggest_categorical('activation',  [\"ReLU\", \"Softplus\", \"Tanh\", \"SELU\", \"LeakyReLU\", \"PReLU\", \"Sigmoid\"])\n",
    "    n_blocks1           = trial.suggest_int('n_blocks1', 1, 5)\n",
    "    n_blocks2           = trial.suggest_int('n_blocks2', 1, 5)\n",
    "    n_blocks3           = trial.suggest_int('n_blocks3', 1, 5)\n",
    "    mlp_units           = trial.suggest_int('mlp_units', 16, 512, step=8)\n",
    "    n_harmonics         = trial.suggest_int('n_harmonics', 1, 5)\n",
    "    n_polynomials       = trial.suggest_int('n_polynomials', 1, 5)\n",
    "    dropout_prob_theta  = trial.suggest_loguniform('dropout_prob_theta', 0.01, 0.2)\n",
    "    input_size          = trial.suggest_int('input_size', 1, 3*look_back)\n",
    "    max_steps           = trial.suggest_int('max_steps', 100, 500, step=25)\n",
    "\n",
    "    local_scaler_type = trial.suggest_categorical('local_scaler_type', [\"standard\", \"robust\", \"minmax\"])\n",
    "\n",
    "    modelo = [NBEATSx(random_seed=5, h=fh, max_steps=max_steps,\n",
    "                    stack_types=['seasonality', 'trend', 'identity'],\n",
    "                    n_blocks=[n_blocks1, n_blocks2, n_blocks3],\n",
    "                    mlp_units=[[mlp_units,mlp_units], [mlp_units,mlp_units], [mlp_units,mlp_units]],\n",
    "                    n_harmonics=n_harmonics,\n",
    "                    n_polynomials=n_polynomials,\n",
    "                    dropout_prob_theta=dropout_prob_theta,\n",
    "                    activation=activation,\n",
    "                    hist_exog_list=['t_vz_56338500', 't_vz_56110005', 't_vz_56337200', 't_vz_56337500'],\n",
    "                    futr_exog_list=['t_cv_56425000', 't_cv_56338500', 't_cv_56110005', 't_cv_56337200', 't_cv_56337500'],\n",
    "                    learning_rate=learning_rate,\n",
    "                    input_size=input_size,\n",
    "                    scaler_type=None,\n",
    "                    logger=False)]\n",
    "\n",
    "    nfc_opt = NeuralForecast(models=modelo, freq='D', local_scaler_type=local_scaler_type)\n",
    "    nfc_opt.fit(df=df_train)\n",
    "\n",
    "    p = nfc_opt.predict(futr_df=df_futr)\n",
    "    df_result = pd.merge(left=p, right=df_test[['ds', 'y']], on=['ds'], how='left')\n",
    "\n",
    "    loss = smape(df_result['y'], df_result['NBEATSx'])\n",
    "    \n",
    "    return loss\n",
    "\n",
    "# ============================ #\n",
    "\n",
    "# Guardar os parâmetros apenas das melhores trials\n",
    "lstm_best_trial = {}\n",
    "nbeatsx_best_trial = {}\n",
    "\n",
    "for f in fch_v:\n",
    "    # Criando o estudo e executando a otimização\n",
    "    study_lstm = opt.create_study(direction='minimize', sampler=opt.samplers.TPESampler(seed=5))\n",
    "    study_nbeatsx = opt.create_study(direction='minimize', sampler=opt.samplers.TPESampler(seed=5))\n",
    "    \n",
    "    opt_lstm = partial(opt_lstm, fh=f)\n",
    "    study_lstm.optimize(opt_lstm, n_trials=20, timeout=1000, catch=(FloatingPointError, ValueError, ))\n",
    "\n",
    "    opt_nbeatsx = partial(opt_nbeatsx, fh=f)\n",
    "    study_nbeatsx.optimize(opt_nbeatsx, n_trials=20, timeout=1000, catch=(FloatingPointError, ValueError, ))\n",
    "\n",
    "    lstm_best_trial[fch_v.index(f)] = {'fch' : f,\n",
    "                                    'best_value': study_lstm.best_value,\n",
    "                                    'best_params': study_lstm.best_params}\n",
    "\n",
    "    nbeatsx_best_trial[fch_v.index(f)] = {'fch' : f,\n",
    "                                        'best_value': study_nbeatsx.best_value,\n",
    "                                        'best_params': study_nbeatsx.best_params}\n",
    "    \n",
    "# lstm_best_trial, nbeatsx_best_trial\n",
    "    \n",
    "# Reproduzindo as melhores trials\n",
    "for f, i, _ in zip(fch_v, lstm_best_trial, nbeatsx_best_trial):\n",
    "    m_lstm = [LSTM(random_seed=5, h=f,\n",
    "                    max_steps=lstm_best_trial[i]['best_params']['max_steps'],\n",
    "                    futr_exog_list=['t_cv_56425000', 't_cv_56338500', 't_cv_56110005','t_cv_56337200', 't_cv_56337500'],\n",
    "                    learning_rate=lstm_best_trial[i]['best_params']['learning_rate'],\n",
    "                    encoder_hidden_size=lstm_best_trial[i]['best_params']['encoder_hidden_size'],\n",
    "                    encoder_n_layers=lstm_best_trial[i]['best_params']['encoder_n_layers'],\n",
    "                    decoder_hidden_size=lstm_best_trial[i]['best_params']['decoder_hidden_size'],\n",
    "                    decoder_layers=lstm_best_trial[i]['best_params']['decoder_layers'],\n",
    "                    context_size=lstm_best_trial[i]['best_params']['context_size'],\n",
    "                    logger=False)]\n",
    "\n",
    "    nfc_lstm = NeuralForecast(models=m_lstm, freq='D', local_scaler_type=lstm_best_trial[i]['best_params']['local_scaler_type'])\n",
    "    nfc_lstm.fit(df=df_train)\n",
    "\n",
    "    p = nfc_lstm.predict(futr_df=df_futr)\n",
    "    df_result = pd.merge(left=p, right=df_test[['ds', 'y']], on=['ds'], how='left')\n",
    "\n",
    "    # ============================================================================ #\n",
    "\n",
    "    m_nbx = [NBEATSx(random_seed=5, h=f,\n",
    "                    max_steps=nbeatsx_best_trial[i]['best_params']['max_steps'],\n",
    "                    stack_types=['seasonality', 'trend', 'identity'],\n",
    "                    n_blocks=[nbeatsx_best_trial[i]['best_params']['n_blocks1'],\n",
    "                            nbeatsx_best_trial[i]['best_params']['n_blocks2'],\n",
    "                            nbeatsx_best_trial[i]['best_params']['n_blocks3']],\n",
    "                    mlp_units=[[nbeatsx_best_trial[i]['best_params']['mlp_units'], nbeatsx_best_trial[i]['best_params']['mlp_units']],\n",
    "                            [nbeatsx_best_trial[i]['best_params']['mlp_units'], nbeatsx_best_trial[i]['best_params']['mlp_units']],\n",
    "                            [nbeatsx_best_trial[i]['best_params']['mlp_units'], nbeatsx_best_trial[i]['best_params']['mlp_units']]],\n",
    "                    n_harmonics=nbeatsx_best_trial[i]['best_params']['n_harmonics'],\n",
    "                    n_polynomials=nbeatsx_best_trial[i]['best_params']['n_polynomials'],\n",
    "                    dropout_prob_theta=nbeatsx_best_trial[i]['best_params']['dropout_prob_theta'],\n",
    "                    activation=nbeatsx_best_trial[i]['best_params']['activation'],\n",
    "                    hist_exog_list=['t_vz_56338500', 't_vz_56110005', 't_vz_56337200', 't_vz_56337500'],\n",
    "                    futr_exog_list=['t_cv_56425000', 't_cv_56338500', 't_cv_56110005', 't_cv_56337200', 't_cv_56337500'],\n",
    "                    learning_rate=nbeatsx_best_trial[i]['best_params']['learning_rate'],\n",
    "                    input_size=nbeatsx_best_trial[i]['best_params']['input_size'],\n",
    "                    logger=False)]\n",
    "\n",
    "    nfc_nbx = NeuralForecast(models=m_nbx, freq='D', local_scaler_type=nbeatsx_best_trial[i]['best_params']['local_scaler_type'])\n",
    "    nfc_nbx.fit(df=df_train)\n",
    "\n",
    "    p = nfc_nbx.predict(futr_df=df_futr)\n",
    "    df_result = pd.merge(left=p, right=df_result, on=['ds'], how='left')\n",
    "\n",
    "    # ============================================================================ #\n",
    "\n",
    "    metrics = {}\n",
    "    metrics['LSTM'] = {'sMAPE': smape(df_result.y, df_result.LSTM),\n",
    "                    'RMSE': rmse(df_result.y, df_result.LSTM),\n",
    "                    'MAE' : mae(df_result.y, df_result.LSTM)}\n",
    "    metrics['NBEATSx'] = {'sMAPE': smape(df_result.y, df_result.NBEATSx),\n",
    "                        'RMSE': rmse(df_result.y, df_result.NBEATSx),\n",
    "                        'MAE' : mae(df_result.y, df_result.NBEATSx)}\n",
    "    df_tbl = pd.DataFrame(metrics).T.reset_index(names=\"Modelo\")\n",
    "\n",
    "    # ============================================================================ #\n",
    "\n",
    "    fig = make_subplots(rows=2, cols=1, vertical_spacing=0.2, specs=[[{\"type\": \"scatter\"}], [{\"type\": \"table\"}]])\n",
    "    \n",
    "    fig.add_trace(go.Scatter(x=df_result['ds'], y=df_result['y'], mode='lines', name='observado', line=dict(color='black', width=4)), row=1, col=1)\n",
    "    fig.add_trace(go.Scatter(x=df_result['ds'], y=df_result['LSTM'], mode='lines', name='LSTM', line=dict(color='darkorange')), row=1, col=1)\n",
    "    fig.add_trace(go.Scatter(x=df_result['ds'], y=df_result['NBEATSx'], mode='lines', name='NBEATSx', line=dict(color='olive')), row=1, col=1)\n",
    "\n",
    "    fig.append_trace(go.Table(header=dict(values=df_tbl.columns.to_list(), font=dict(size=14), align=\"center\"),\n",
    "                            cells=dict(values=df_tbl.T, font=dict(size=14), height=24, align=\"left\")),\n",
    "                    row=2, col=1)\n",
    "\n",
    "    fig.update_yaxes(title=dict(text=\"Vazão (m³/s)\", font=dict(family=\"system-ui\", size=18)))\n",
    "    fig.update_xaxes(title=dict(text=\"Período\", font=dict(family=\"system-ui\", size=18)))\n",
    "\n",
    "    fig.update_traces(hovertemplate=None, row=1, col=1)\n",
    "\n",
    "    fig.update_layout(width=1500, height=1000, hovermode='x unified',\n",
    "                    title=dict(text=\"Rede Neurais otimizadas (fch = {f})\".format(f=f),\n",
    "                    font=dict(family=\"system-ui\", size=24)))\n",
    "\n",
    "    fig.write_image(\"./resultados/trecho_alto/fch{fh}/opt/dl.png\".format(fh=f))\n",
    "    # fig.show()"
   ]
  },
  {
   "cell_type": "markdown",
   "metadata": {},
   "source": [
    "# HydroBR"
   ]
  },
  {
   "cell_type": "code",
   "execution_count": null,
   "metadata": {},
   "outputs": [],
   "source": [
    "# help(hbr.get_data.ANA)"
   ]
  },
  {
   "cell_type": "code",
   "execution_count": null,
   "metadata": {},
   "outputs": [],
   "source": [
    "# estacoes_inmet = hbr.get_data.INMET.list_stations(station_type='both')"
   ]
  },
  {
   "cell_type": "code",
   "execution_count": null,
   "metadata": {},
   "outputs": [],
   "source": [
    "# estacoes_inmet"
   ]
  },
  {
   "cell_type": "code",
   "execution_count": null,
   "metadata": {},
   "outputs": [],
   "source": [
    "# estacoes_inmet.query(\"Code == 'A255'\")"
   ]
  },
  {
   "cell_type": "code",
   "execution_count": null,
   "metadata": {},
   "outputs": [],
   "source": [
    "# cod = 'A255'\n",
    "# df_dados = hbr.get_data.INMET.daily_data(station_code=cod)"
   ]
  },
  {
   "cell_type": "code",
   "execution_count": null,
   "metadata": {},
   "outputs": [],
   "source": [
    "# df_dados"
   ]
  },
  {
   "cell_type": "code",
   "execution_count": null,
   "metadata": {},
   "outputs": [],
   "source": [
    "# estacoes_ana_vazao = hbr.get_data.ANA.list_flow(state='MINAS GERAIS', source='ANA')"
   ]
  },
  {
   "cell_type": "code",
   "execution_count": null,
   "metadata": {},
   "outputs": [],
   "source": [
    "# estacoes_ana_vazao"
   ]
  },
  {
   "cell_type": "code",
   "execution_count": null,
   "metadata": {},
   "outputs": [],
   "source": [
    "# estacoes de vazão tbm e cota\n",
    "# 56425000 56338500 56338080 56110005 56337200 56337500\n",
    "\n",
    "# estacoes_ana_vazao.query(\"Code == '56337500'\")"
   ]
  },
  {
   "cell_type": "code",
   "execution_count": null,
   "metadata": {},
   "outputs": [],
   "source": [
    "# estacao_principal = '56338500'\n",
    "# df_result = get_convencional(codEstacao=estacao_principal,\n",
    "#                              dataInicio='2013-01-01',\n",
    "#                              dataFim='2023-12-31',\n",
    "#                              tipoDados=1,\n",
    "#                              nivelConsistencia='')\n",
    "\n",
    "# df_result\n",
    "\n",
    "# df_result.index = pd.to_datetime(df_result.index)\n",
    "# df_result.Cota = pd.to_numeric(df_result.Cota, errors='coerce')\n",
    "# df_result.Chuva = pd.to_numeric(df_result.Chuva, errors='coerce')\n",
    "# df_result.Vazao = pd.to_numeric(df_result.Vazao, errors='coerce')\n",
    "\n",
    "# df_result = df_result.resample('D').agg({'Cota': 'sum', 'Chuva': 'mean', 'Vazao': 'mean'})\n",
    "\n",
    "# df_result.index.name\n",
    "\n",
    "# df_result.columns = ['t_ct_'+str(estacao_principal), 't_cv_'+str(estacao_principal), 't_vz_'+str(estacao_principal)]\n",
    "\n",
    "# # Agora que já tenho os dados da estação que considero principal na análise (target)\n",
    "# #   vou agregar com os dados das demais estações\n",
    "# list_estacoes_tele = ['56338500', '56338080', '56110005', '56337200', '56337500']\n",
    "\n",
    "# for e in list_estacoes_tele:\n",
    "#     df_temp = get_convencional(codEstacao=e, dataInicio=\"2013-01-01\", dataFim=\"2023-12-31\")\n",
    "\n",
    "#     # Convertendo os dados\n",
    "#     df_temp.index = pd.to_datetime(df_temp.index)\n",
    "#     df_temp.Cota = pd.to_numeric(df_temp.Cota, errors='coerce')\n",
    "#     df_temp.Chuva = pd.to_numeric(df_temp.Chuva, errors='coerce')\n",
    "#     df_temp.Vazao = pd.to_numeric(df_temp.Vazao, errors='coerce')\n",
    "\n",
    "#     # Para as telemétricas já agrego aqui mesmo\n",
    "#     df_temp = df_temp.resample('D').agg({'Cota': 'sum', 'Chuva': 'mean', 'Vazao': 'mean'})\n",
    "\n",
    "#     # Ajeito os nomes das colunas pra conter de qual estacao os dado veio\n",
    "#     df_temp.columns = ['t_ct_'+e, 't_cv_'+e, 't_vz_'+e]\n",
    "\n",
    "#     df_result = pd.concat([df_result, df_temp], axis=1)"
   ]
  },
  {
   "cell_type": "code",
   "execution_count": null,
   "metadata": {},
   "outputs": [],
   "source": [
    "# df_result"
   ]
  }
 ],
 "metadata": {
  "kernelspec": {
   "display_name": "Python 3 (ipykernel)",
   "language": "python",
   "name": "python3"
  },
  "language_info": {
   "codemirror_mode": {
    "name": "ipython",
    "version": 3
   },
   "file_extension": ".py",
   "mimetype": "text/x-python",
   "name": "python",
   "nbconvert_exporter": "python",
   "pygments_lexer": "ipython3",
   "version": "3.9.18"
  },
  "widgets": {
   "application/vnd.jupyter.widget-state+json": {
    "state": {
     "0002af17c1ab471dadbfe79cc985c2d0": {
      "model_module": "@jupyter-widgets/controls",
      "model_module_version": "2.0.0",
      "model_name": "HTMLModel",
      "state": {
       "layout": "IPY_MODEL_5d10e62ec94147e2a7c1fb1ce89256ac",
       "style": "IPY_MODEL_04f91303570d43b2a728da4e7f859901",
       "value": " 1/1 [00:00&lt;00:00, 14.79it/s, v_num=292, train_loss_step=0.317, train_loss_epoch=0.317, valid_loss=261.0]"
      }
     },
     "00486a5d2a1b4f10ad7babacf027ee76": {
      "model_module": "@jupyter-widgets/controls",
      "model_module_version": "2.0.0",
      "model_name": "HTMLModel",
      "state": {
       "layout": "IPY_MODEL_f2864451164e47918c434f3340023b16",
       "style": "IPY_MODEL_4333af84cdfb4856a664249f6d626fc8",
       "value": "Validation DataLoader 0: 100%"
      }
     },
     "00638158320846658894380d35df7233": {
      "model_module": "@jupyter-widgets/base",
      "model_module_version": "2.0.0",
      "model_name": "LayoutModel",
      "state": {}
     },
     "00d10aa853e843ddbf25e555f928164c": {
      "model_module": "@jupyter-widgets/controls",
      "model_module_version": "2.0.0",
      "model_name": "HTMLModel",
      "state": {
       "layout": "IPY_MODEL_9a36179803bf47769182b2803e11ef37",
       "style": "IPY_MODEL_81e8887118d54407a1916b64da5f1e36",
       "value": "Epoch 99: 100%"
      }
     },
     "00d8f0a5c1c04f51b3cd1ff50f679644": {
      "model_module": "@jupyter-widgets/base",
      "model_module_version": "2.0.0",
      "model_name": "LayoutModel",
      "state": {
       "flex": "2"
      }
     },
     "00e39adb54aa466fae03ea0c7078b4d6": {
      "model_module": "@jupyter-widgets/base",
      "model_module_version": "2.0.0",
      "model_name": "LayoutModel",
      "state": {
       "flex": "2"
      }
     },
     "0134da04982c4aa59c0ab25efa9e28d2": {
      "model_module": "@jupyter-widgets/controls",
      "model_module_version": "2.0.0",
      "model_name": "FloatProgressModel",
      "state": {
       "layout": "IPY_MODEL_4bae0f74a0bc43afa0ecdbe58807a5cc",
       "max": 1,
       "style": "IPY_MODEL_5ea66175d44a4fbbafe74cbac55dbad8",
       "value": 1
      }
     },
     "014634f2001a4f45bf10f7820a8046df": {
      "model_module": "@jupyter-widgets/base",
      "model_module_version": "2.0.0",
      "model_name": "LayoutModel",
      "state": {
       "flex": "2"
      }
     },
     "017f73e6d08549cf92a0ce7fb758db10": {
      "model_module": "@jupyter-widgets/base",
      "model_module_version": "2.0.0",
      "model_name": "LayoutModel",
      "state": {}
     },
     "01915c45f17f491d9e58d92100185fbe": {
      "model_module": "@jupyter-widgets/controls",
      "model_module_version": "2.0.0",
      "model_name": "HTMLStyleModel",
      "state": {
       "description_width": "",
       "font_size": null,
       "text_color": null
      }
     },
     "01a132ec7f1d4cc6b1390f9ee76c1055": {
      "model_module": "@jupyter-widgets/controls",
      "model_module_version": "2.0.0",
      "model_name": "FloatProgressModel",
      "state": {
       "layout": "IPY_MODEL_014634f2001a4f45bf10f7820a8046df",
       "max": 1,
       "style": "IPY_MODEL_d0d2a70fff13407b87b6bbf4dd40d790",
       "value": 1
      }
     },
     "01aad360f02347599e1e496d7a2f4340": {
      "model_module": "@jupyter-widgets/base",
      "model_module_version": "2.0.0",
      "model_name": "LayoutModel",
      "state": {
       "display": "inline-flex",
       "flex_flow": "row wrap",
       "visibility": "hidden",
       "width": "100%"
      }
     },
     "020650fbfd0742589d005f401d9e67ff": {
      "model_module": "@jupyter-widgets/base",
      "model_module_version": "2.0.0",
      "model_name": "LayoutModel",
      "state": {
       "display": "inline-flex",
       "flex_flow": "row wrap",
       "visibility": "hidden",
       "width": "100%"
      }
     },
     "02472e96e0a343f28afa220ed546ede5": {
      "model_module": "@jupyter-widgets/controls",
      "model_module_version": "2.0.0",
      "model_name": "FloatProgressModel",
      "state": {
       "bar_style": "success",
       "layout": "IPY_MODEL_dcbadf20becf4fa2a460b2706b08567f",
       "max": 1,
       "style": "IPY_MODEL_932113db41b94d8bb1187d5b98cfa7c8",
       "value": 1
      }
     },
     "024da066f6934045a43ad83479e0afb6": {
      "model_module": "@jupyter-widgets/controls",
      "model_module_version": "2.0.0",
      "model_name": "FloatProgressModel",
      "state": {
       "layout": "IPY_MODEL_e234e31b74bd4d049b899bd422544852",
       "max": 1,
       "style": "IPY_MODEL_23679ecefef34af6947b6e45da1e64bd",
       "value": 1
      }
     },
     "02808a99ec9a42c7bb9903070ae9e522": {
      "model_module": "@jupyter-widgets/controls",
      "model_module_version": "2.0.0",
      "model_name": "HTMLModel",
      "state": {
       "layout": "IPY_MODEL_e0837693162a4d028522100decec03ea",
       "style": "IPY_MODEL_961f74c3a9564a10b5d88f9ed85349b6",
       "value": "Validation DataLoader 0: 100%"
      }
     },
     "029ab91f5a4f439880892e39ec40d952": {
      "model_module": "@jupyter-widgets/controls",
      "model_module_version": "2.0.0",
      "model_name": "FloatProgressModel",
      "state": {
       "layout": "IPY_MODEL_21f5e9acff5a47e889d297de20e369dc",
       "max": 1,
       "style": "IPY_MODEL_0aa5ab8e987b4693aabf978042dc2fa3",
       "value": 1
      }
     },
     "02f1ff930c9f463495bb9a8ad065f957": {
      "model_module": "@jupyter-widgets/base",
      "model_module_version": "2.0.0",
      "model_name": "LayoutModel",
      "state": {
       "flex": "2"
      }
     },
     "03050c7856b14b07a23c8a04991fc582": {
      "model_module": "@jupyter-widgets/controls",
      "model_module_version": "2.0.0",
      "model_name": "HTMLStyleModel",
      "state": {
       "description_width": "",
       "font_size": null,
       "text_color": null
      }
     },
     "030911832f7f4dc5a7f13bc66a6e8c64": {
      "model_module": "@jupyter-widgets/controls",
      "model_module_version": "2.0.0",
      "model_name": "ProgressStyleModel",
      "state": {
       "description_width": ""
      }
     },
     "034eb44bf41c4d84a8be44424d8038fb": {
      "model_module": "@jupyter-widgets/controls",
      "model_module_version": "2.0.0",
      "model_name": "FloatProgressModel",
      "state": {
       "layout": "IPY_MODEL_6a79f271b5bb4edfb5c8252ecd4104a7",
       "max": 1,
       "style": "IPY_MODEL_c485d3645013482bb17a3ad36d770252",
       "value": 1
      }
     },
     "037ac922f2aa4203914ba469d8379c57": {
      "model_module": "@jupyter-widgets/controls",
      "model_module_version": "2.0.0",
      "model_name": "FloatProgressModel",
      "state": {
       "layout": "IPY_MODEL_d3253f6d04bd4a4da3877c0b3c4ef3e4",
       "max": 1,
       "style": "IPY_MODEL_bab4abc8fb2143499e9c8d14b4c60736",
       "value": 1
      }
     },
     "03dff8fb8d2849b1abf10e9c4b6b6268": {
      "model_module": "@jupyter-widgets/controls",
      "model_module_version": "2.0.0",
      "model_name": "ProgressStyleModel",
      "state": {
       "description_width": ""
      }
     },
     "03fe2072f30a47d8aa99bd75a602dc61": {
      "model_module": "@jupyter-widgets/base",
      "model_module_version": "2.0.0",
      "model_name": "LayoutModel",
      "state": {}
     },
     "040fe3f253f943fe80eb1bccad070fd6": {
      "model_module": "@jupyter-widgets/base",
      "model_module_version": "2.0.0",
      "model_name": "LayoutModel",
      "state": {}
     },
     "042f2407769d44968c9f2a55813a88bc": {
      "model_module": "@jupyter-widgets/controls",
      "model_module_version": "2.0.0",
      "model_name": "ProgressStyleModel",
      "state": {
       "description_width": ""
      }
     },
     "04816fd8baca47deb0f34887d91acc3b": {
      "model_module": "@jupyter-widgets/controls",
      "model_module_version": "2.0.0",
      "model_name": "HTMLModel",
      "state": {
       "layout": "IPY_MODEL_0ca4af0ba2d4489ca0f8bd938e568c79",
       "style": "IPY_MODEL_187854ab30b04157ba3750bdb85b63b3",
       "value": " 1/1 [00:00&lt;00:00, 76.94it/s]"
      }
     },
     "04f91303570d43b2a728da4e7f859901": {
      "model_module": "@jupyter-widgets/controls",
      "model_module_version": "2.0.0",
      "model_name": "HTMLStyleModel",
      "state": {
       "description_width": "",
       "font_size": null,
       "text_color": null
      }
     },
     "0503c6a2edb548139cd1b6f1824cabda": {
      "model_module": "@jupyter-widgets/controls",
      "model_module_version": "2.0.0",
      "model_name": "FloatProgressModel",
      "state": {
       "bar_style": "success",
       "layout": "IPY_MODEL_2eef002cea8a48a5a8f3515edfca18c1",
       "max": 1,
       "style": "IPY_MODEL_9c649d9b60d840cba0303e3d3f6086b7",
       "value": 1
      }
     },
     "051aeec64e114252914fdb813501b478": {
      "model_module": "@jupyter-widgets/controls",
      "model_module_version": "2.0.0",
      "model_name": "FloatProgressModel",
      "state": {
       "bar_style": "success",
       "layout": "IPY_MODEL_1ff03265958648d4afbe70ed4ad1fc02",
       "max": 1,
       "style": "IPY_MODEL_e7a59a519ca84865889a025002f70f62",
       "value": 1
      }
     },
     "052f38d9cc0c477788af7b9e863134ac": {
      "model_module": "@jupyter-widgets/controls",
      "model_module_version": "2.0.0",
      "model_name": "HTMLStyleModel",
      "state": {
       "description_width": "",
       "font_size": null,
       "text_color": null
      }
     },
     "052ffd08e5db4dd6b9ab41531eedd871": {
      "model_module": "@jupyter-widgets/controls",
      "model_module_version": "2.0.0",
      "model_name": "HTMLStyleModel",
      "state": {
       "description_width": "",
       "font_size": null,
       "text_color": null
      }
     },
     "055a259a6e8a4204b60bdb9f4a3cec39": {
      "model_module": "@jupyter-widgets/controls",
      "model_module_version": "2.0.0",
      "model_name": "HTMLStyleModel",
      "state": {
       "description_width": "",
       "font_size": null,
       "text_color": null
      }
     },
     "0568b27700fc416c9de0aa4f315367a6": {
      "model_module": "@jupyter-widgets/controls",
      "model_module_version": "2.0.0",
      "model_name": "HTMLStyleModel",
      "state": {
       "description_width": "",
       "font_size": null,
       "text_color": null
      }
     },
     "05733823ef5746a8af61a0d9fbf428cc": {
      "model_module": "@jupyter-widgets/controls",
      "model_module_version": "2.0.0",
      "model_name": "HTMLModel",
      "state": {
       "layout": "IPY_MODEL_44d6b09bd7814944b7b61465a8145da0",
       "style": "IPY_MODEL_7d52957cb0034ccfb244342bcaf51901",
       "value": "Epoch 99: 100%"
      }
     },
     "059b15016d7f456d81bbbb520713a4a3": {
      "model_module": "@jupyter-widgets/base",
      "model_module_version": "2.0.0",
      "model_name": "LayoutModel",
      "state": {}
     },
     "05a584e922cc4a5f9215eca862073207": {
      "model_module": "@jupyter-widgets/controls",
      "model_module_version": "2.0.0",
      "model_name": "HTMLModel",
      "state": {
       "layout": "IPY_MODEL_1c05cc0bd8d242468013801a503e0f8f",
       "style": "IPY_MODEL_a38be18aae0549a99e1b6c563dc68bf7",
       "value": "Epoch 99: 100%"
      }
     },
     "05aaaedba44c41e1b299500694b32955": {
      "model_module": "@jupyter-widgets/controls",
      "model_module_version": "2.0.0",
      "model_name": "ProgressStyleModel",
      "state": {
       "description_width": ""
      }
     },
     "05d06243c24646b583f1d730b8e2b242": {
      "model_module": "@jupyter-widgets/controls",
      "model_module_version": "2.0.0",
      "model_name": "HTMLStyleModel",
      "state": {
       "description_width": "",
       "font_size": null,
       "text_color": null
      }
     },
     "0615d047db554d52bf60b68b50f9ea03": {
      "model_module": "@jupyter-widgets/controls",
      "model_module_version": "2.0.0",
      "model_name": "HTMLModel",
      "state": {
       "layout": "IPY_MODEL_742568bb41b0444d9f480beef02c514b",
       "style": "IPY_MODEL_51c4b06c664847d69be463a5a4764a53",
       "value": "Validation DataLoader 0: 100%"
      }
     },
     "0669e970257c4a9fbc8c825fcdeb4935": {
      "model_module": "@jupyter-widgets/base",
      "model_module_version": "2.0.0",
      "model_name": "LayoutModel",
      "state": {}
     },
     "06a717d9100840c9bd67bc5c4f55b289": {
      "model_module": "@jupyter-widgets/controls",
      "model_module_version": "2.0.0",
      "model_name": "HTMLStyleModel",
      "state": {
       "description_width": "",
       "font_size": null,
       "text_color": null
      }
     },
     "06e18cf2a1874d7c9668050870dbbd48": {
      "model_module": "@jupyter-widgets/controls",
      "model_module_version": "2.0.0",
      "model_name": "HTMLModel",
      "state": {
       "layout": "IPY_MODEL_5f01ca70b05a488f87ff26e0c43b021e",
       "style": "IPY_MODEL_9a028c2656d1422d9af0e06962b1edea",
       "value": "Validation DataLoader 0: 100%"
      }
     },
     "07259e2448c540bead320a607e014847": {
      "model_module": "@jupyter-widgets/base",
      "model_module_version": "2.0.0",
      "model_name": "LayoutModel",
      "state": {
       "flex": "2"
      }
     },
     "07b1b6d60b1743b5b7bd08ce58203ca5": {
      "model_module": "@jupyter-widgets/base",
      "model_module_version": "2.0.0",
      "model_name": "LayoutModel",
      "state": {}
     },
     "07f324186c0b45b1bd8813e231f2c306": {
      "model_module": "@jupyter-widgets/controls",
      "model_module_version": "2.0.0",
      "model_name": "HTMLModel",
      "state": {
       "layout": "IPY_MODEL_ae5f1d313baf4066b20c1699745e566b",
       "style": "IPY_MODEL_5d0deece9c9e431fbe88e5b6966a402b",
       "value": "Validation DataLoader 0: 100%"
      }
     },
     "08159c3fd03c441f916666d1ab50f31e": {
      "model_module": "@jupyter-widgets/controls",
      "model_module_version": "2.0.0",
      "model_name": "HTMLModel",
      "state": {
       "layout": "IPY_MODEL_122238bdb33c43018d47b33a491cab4b",
       "style": "IPY_MODEL_d94f6f135561453881335c6dfb0933c5",
       "value": "Sanity Checking DataLoader 0: 100%"
      }
     },
     "087b9d5d3e714751a90e168f30d6bd2d": {
      "model_module": "@jupyter-widgets/base",
      "model_module_version": "2.0.0",
      "model_name": "LayoutModel",
      "state": {
       "display": "inline-flex",
       "flex_flow": "row wrap",
       "visibility": "hidden",
       "width": "100%"
      }
     },
     "089592a6d4b74994863817f7a5d9c7e2": {
      "model_module": "@jupyter-widgets/controls",
      "model_module_version": "2.0.0",
      "model_name": "HTMLModel",
      "state": {
       "layout": "IPY_MODEL_28dad17dfbfa49e09d164bb5d839d472",
       "style": "IPY_MODEL_5e495cc58fb5429fb80ef5804050b02e",
       "value": "Epoch 199: 100%"
      }
     },
     "08db1b9044d74d699d29f0c2ca4a2b1f": {
      "model_module": "@jupyter-widgets/base",
      "model_module_version": "2.0.0",
      "model_name": "LayoutModel",
      "state": {
       "display": "inline-flex",
       "flex_flow": "row wrap",
       "width": "100%"
      }
     },
     "097bebc9a84a4f8690a044a244c20d29": {
      "model_module": "@jupyter-widgets/base",
      "model_module_version": "2.0.0",
      "model_name": "LayoutModel",
      "state": {
       "display": "inline-flex",
       "flex_flow": "row wrap",
       "visibility": "hidden",
       "width": "100%"
      }
     },
     "0984a4bcf53a41bbb61c7403d9be3ef4": {
      "model_module": "@jupyter-widgets/base",
      "model_module_version": "2.0.0",
      "model_name": "LayoutModel",
      "state": {
       "flex": "2"
      }
     },
     "09d9090be4fd4cbdb9377bda967d3ae5": {
      "model_module": "@jupyter-widgets/controls",
      "model_module_version": "2.0.0",
      "model_name": "ProgressStyleModel",
      "state": {
       "description_width": ""
      }
     },
     "0a33daac24d3491f843cb5a9b5db5f4a": {
      "model_module": "@jupyter-widgets/base",
      "model_module_version": "2.0.0",
      "model_name": "LayoutModel",
      "state": {
       "display": "inline-flex",
       "flex_flow": "row wrap",
       "visibility": "hidden",
       "width": "100%"
      }
     },
     "0a4dd0afff8e4b6ab31ef7696021203b": {
      "model_module": "@jupyter-widgets/base",
      "model_module_version": "2.0.0",
      "model_name": "LayoutModel",
      "state": {
       "display": "inline-flex",
       "flex_flow": "row wrap",
       "visibility": "hidden",
       "width": "100%"
      }
     },
     "0a70b73a081f454893236050bec1fffc": {
      "model_module": "@jupyter-widgets/base",
      "model_module_version": "2.0.0",
      "model_name": "LayoutModel",
      "state": {}
     },
     "0a893799bdca42f5a69c59feb32e0686": {
      "model_module": "@jupyter-widgets/controls",
      "model_module_version": "2.0.0",
      "model_name": "HTMLModel",
      "state": {
       "layout": "IPY_MODEL_d9e2dbc27eac418b8a9f1727e402e290",
       "style": "IPY_MODEL_a5db69d53e9349f7b4ea4349c7f7d715",
       "value": "Epoch 99: 100%"
      }
     },
     "0aa5ab8e987b4693aabf978042dc2fa3": {
      "model_module": "@jupyter-widgets/controls",
      "model_module_version": "2.0.0",
      "model_name": "ProgressStyleModel",
      "state": {
       "description_width": ""
      }
     },
     "0ac6c5ca7ce24f9eae7dbee4708d7a48": {
      "model_module": "@jupyter-widgets/controls",
      "model_module_version": "2.0.0",
      "model_name": "HTMLStyleModel",
      "state": {
       "description_width": "",
       "font_size": null,
       "text_color": null
      }
     },
     "0af3ca2714514cc48656543ff4282f2a": {
      "model_module": "@jupyter-widgets/controls",
      "model_module_version": "2.0.0",
      "model_name": "HTMLStyleModel",
      "state": {
       "description_width": "",
       "font_size": null,
       "text_color": null
      }
     },
     "0b1c74cccee74540b0d5099d1a7771a1": {
      "model_module": "@jupyter-widgets/base",
      "model_module_version": "2.0.0",
      "model_name": "LayoutModel",
      "state": {}
     },
     "0bad845fca124d53a03bff71f95dd8d6": {
      "model_module": "@jupyter-widgets/controls",
      "model_module_version": "2.0.0",
      "model_name": "HTMLStyleModel",
      "state": {
       "description_width": "",
       "font_size": null,
       "text_color": null
      }
     },
     "0bcd16ff68c84347acce86d950d7e569": {
      "model_module": "@jupyter-widgets/controls",
      "model_module_version": "2.0.0",
      "model_name": "ProgressStyleModel",
      "state": {
       "description_width": ""
      }
     },
     "0c21bac42c3841169cf315aed1faaaca": {
      "model_module": "@jupyter-widgets/controls",
      "model_module_version": "2.0.0",
      "model_name": "HTMLStyleModel",
      "state": {
       "description_width": "",
       "font_size": null,
       "text_color": null
      }
     },
     "0c57779cfac541f898c6d33ebec4f8a0": {
      "model_module": "@jupyter-widgets/base",
      "model_module_version": "2.0.0",
      "model_name": "LayoutModel",
      "state": {
       "flex": "2"
      }
     },
     "0c7ea70515a14df0887bb4ab3a5623b9": {
      "model_module": "@jupyter-widgets/controls",
      "model_module_version": "2.0.0",
      "model_name": "HTMLStyleModel",
      "state": {
       "description_width": "",
       "font_size": null,
       "text_color": null
      }
     },
     "0ca4af0ba2d4489ca0f8bd938e568c79": {
      "model_module": "@jupyter-widgets/base",
      "model_module_version": "2.0.0",
      "model_name": "LayoutModel",
      "state": {}
     },
     "0ce8a1bbae144bebb9f420cf14f0c3a6": {
      "model_module": "@jupyter-widgets/controls",
      "model_module_version": "2.0.0",
      "model_name": "HTMLStyleModel",
      "state": {
       "description_width": "",
       "font_size": null,
       "text_color": null
      }
     },
     "0d04b20ad9e74ff3a6b76fc92e2d70e1": {
      "model_module": "@jupyter-widgets/controls",
      "model_module_version": "2.0.0",
      "model_name": "ProgressStyleModel",
      "state": {
       "description_width": ""
      }
     },
     "0d23d4040d05495291eca9c036fb6c56": {
      "model_module": "@jupyter-widgets/base",
      "model_module_version": "2.0.0",
      "model_name": "LayoutModel",
      "state": {}
     },
     "0d463048017244b997afc080b4073fec": {
      "model_module": "@jupyter-widgets/controls",
      "model_module_version": "2.0.0",
      "model_name": "HTMLModel",
      "state": {
       "layout": "IPY_MODEL_74111dd247484e23b22c140c93f54951",
       "style": "IPY_MODEL_d0e64ba431ed42d59c14611997bcde91",
       "value": " 1/1 [00:00&lt;00:00, 15.02it/s]"
      }
     },
     "0d9066271d6546b1a032a26ac02f4289": {
      "model_module": "@jupyter-widgets/base",
      "model_module_version": "2.0.0",
      "model_name": "LayoutModel",
      "state": {}
     },
     "0d989003a8714274bffdbc91c2f3f3ce": {
      "model_module": "@jupyter-widgets/controls",
      "model_module_version": "2.0.0",
      "model_name": "HTMLStyleModel",
      "state": {
       "description_width": "",
       "font_size": null,
       "text_color": null
      }
     },
     "0daf309d696c4d5299ae04771be6ebf3": {
      "model_module": "@jupyter-widgets/base",
      "model_module_version": "2.0.0",
      "model_name": "LayoutModel",
      "state": {
       "display": "inline-flex",
       "flex_flow": "row wrap",
       "visibility": "hidden",
       "width": "100%"
      }
     },
     "0dbfbce748064a23a2d3fb881bf3963d": {
      "model_module": "@jupyter-widgets/base",
      "model_module_version": "2.0.0",
      "model_name": "LayoutModel",
      "state": {
       "display": "inline-flex",
       "flex_flow": "row wrap",
       "visibility": "hidden",
       "width": "100%"
      }
     },
     "0df7f37e76ea40928bf338b45fa243d1": {
      "model_module": "@jupyter-widgets/controls",
      "model_module_version": "2.0.0",
      "model_name": "HTMLModel",
      "state": {
       "layout": "IPY_MODEL_641db443723142acba6336883ebc6976",
       "style": "IPY_MODEL_06a717d9100840c9bd67bc5c4f55b289",
       "value": "Validation DataLoader 0: 100%"
      }
     },
     "0df8c226b4a049c49db52814834d3dc9": {
      "model_module": "@jupyter-widgets/base",
      "model_module_version": "2.0.0",
      "model_name": "LayoutModel",
      "state": {}
     },
     "0e207b45198d49b7bbea759978b8bb90": {
      "model_module": "@jupyter-widgets/base",
      "model_module_version": "2.0.0",
      "model_name": "LayoutModel",
      "state": {
       "display": "inline-flex",
       "flex_flow": "row wrap",
       "width": "100%"
      }
     },
     "0e2bc37ef3a14f56953fd118b5923c7f": {
      "model_module": "@jupyter-widgets/controls",
      "model_module_version": "2.0.0",
      "model_name": "HTMLModel",
      "state": {
       "layout": "IPY_MODEL_3591310d13a441bd8cc721e06e5e6c28",
       "style": "IPY_MODEL_1ce4ff3798144b2681f10f9aa324d86b",
       "value": " 1/1 [00:00&lt;00:00, 1000.55it/s]"
      }
     },
     "0e2f96de6f6b49c798bf338e17db0697": {
      "model_module": "@jupyter-widgets/controls",
      "model_module_version": "2.0.0",
      "model_name": "FloatProgressModel",
      "state": {
       "layout": "IPY_MODEL_37eeb13a00234872985c837ff26449d3",
       "max": 1,
       "style": "IPY_MODEL_b850d1fb42bc48d3a8a136fb770d9c62",
       "value": 1
      }
     },
     "0eaf2318f573491d9fb8ad5cd2d15fa3": {
      "model_module": "@jupyter-widgets/controls",
      "model_module_version": "2.0.0",
      "model_name": "HTMLModel",
      "state": {
       "layout": "IPY_MODEL_7b76625095b342428c8bc08367768b7c",
       "style": "IPY_MODEL_dd4c142b35f2422791e098993501e25a",
       "value": "Sanity Checking DataLoader 0: 100%"
      }
     },
     "0ef3ab1ceb5e4867bfb6f42ff02696c4": {
      "model_module": "@jupyter-widgets/base",
      "model_module_version": "2.0.0",
      "model_name": "LayoutModel",
      "state": {
       "flex": "2"
      }
     },
     "0f74977890c14fac8d33ea3f3511729d": {
      "model_module": "@jupyter-widgets/controls",
      "model_module_version": "2.0.0",
      "model_name": "FloatProgressModel",
      "state": {
       "layout": "IPY_MODEL_38e9547d40d840a492802870c450054e",
       "max": 1,
       "style": "IPY_MODEL_2b92eccc1ad24fe996bb69703b245367",
       "value": 1
      }
     },
     "0fa1f61bf36946d28b666ad9823ee062": {
      "model_module": "@jupyter-widgets/controls",
      "model_module_version": "2.0.0",
      "model_name": "HTMLModel",
      "state": {
       "layout": "IPY_MODEL_c738836c9fa241998aa3dbf0eaff096d",
       "style": "IPY_MODEL_56819cf83767474c869f522558567477",
       "value": " 1/1 [00:00&lt;00:00, 26.03it/s]"
      }
     },
     "0fab9a1c07174a699aff4a1f32ee3f14": {
      "model_module": "@jupyter-widgets/controls",
      "model_module_version": "2.0.0",
      "model_name": "HTMLStyleModel",
      "state": {
       "description_width": "",
       "font_size": null,
       "text_color": null
      }
     },
     "0fe37facfef94061adf03c417eb0faf8": {
      "model_module": "@jupyter-widgets/controls",
      "model_module_version": "2.0.0",
      "model_name": "HTMLStyleModel",
      "state": {
       "description_width": "",
       "font_size": null,
       "text_color": null
      }
     },
     "101e259b714b49a99039ebafd1175955": {
      "model_module": "@jupyter-widgets/base",
      "model_module_version": "2.0.0",
      "model_name": "LayoutModel",
      "state": {
       "flex": "2"
      }
     },
     "102bd61f8edc4eb298919f8dcc073bd2": {
      "model_module": "@jupyter-widgets/controls",
      "model_module_version": "2.0.0",
      "model_name": "HTMLModel",
      "state": {
       "layout": "IPY_MODEL_d1c5911031094d459f8488014b1e6523",
       "style": "IPY_MODEL_4cb38461a866429190534106ac57ba99",
       "value": " 1/1 [00:00&lt;00:00, 1000.31it/s]"
      }
     },
     "106cd5fc581e483d80e05a1c6b21323b": {
      "model_module": "@jupyter-widgets/controls",
      "model_module_version": "2.0.0",
      "model_name": "HTMLStyleModel",
      "state": {
       "description_width": "",
       "font_size": null,
       "text_color": null
      }
     },
     "10ab877dab564b7d8960b953703b46dd": {
      "model_module": "@jupyter-widgets/controls",
      "model_module_version": "2.0.0",
      "model_name": "HTMLModel",
      "state": {
       "layout": "IPY_MODEL_804311f3263149bea6e213fcece7f704",
       "style": "IPY_MODEL_c10df38808db4822a43a5401618cce8a",
       "value": "Validation DataLoader 0: 100%"
      }
     },
     "10ae75e5fa264a5bbeabe18a3b1a4ced": {
      "model_module": "@jupyter-widgets/controls",
      "model_module_version": "2.0.0",
      "model_name": "HTMLModel",
      "state": {
       "layout": "IPY_MODEL_eefa8dbcd28940b0aeccdb583f513bec",
       "style": "IPY_MODEL_c7e7a4552a034d7e94450bab51171576",
       "value": "Sanity Checking DataLoader 0: 100%"
      }
     },
     "10c7491f752c466181b74dcd30aabd8b": {
      "model_module": "@jupyter-widgets/controls",
      "model_module_version": "2.0.0",
      "model_name": "HTMLStyleModel",
      "state": {
       "description_width": "",
       "font_size": null,
       "text_color": null
      }
     },
     "10dec19a12f2447f882eeb81a41dc1d0": {
      "model_module": "@jupyter-widgets/controls",
      "model_module_version": "2.0.0",
      "model_name": "ProgressStyleModel",
      "state": {
       "description_width": ""
      }
     },
     "10e5a294db3d4a8e92e39ab0276c17f4": {
      "model_module": "@jupyter-widgets/controls",
      "model_module_version": "2.0.0",
      "model_name": "HTMLStyleModel",
      "state": {
       "description_width": "",
       "font_size": null,
       "text_color": null
      }
     },
     "10e68718d5d54fd4bd03ec66a57962b5": {
      "model_module": "@jupyter-widgets/base",
      "model_module_version": "2.0.0",
      "model_name": "LayoutModel",
      "state": {}
     },
     "111ab3dd24c04b34ba470c812226c0f2": {
      "model_module": "@jupyter-widgets/controls",
      "model_module_version": "2.0.0",
      "model_name": "HTMLStyleModel",
      "state": {
       "description_width": "",
       "font_size": null,
       "text_color": null
      }
     },
     "11863552a665475e9c84385accb0c647": {
      "model_module": "@jupyter-widgets/controls",
      "model_module_version": "2.0.0",
      "model_name": "ProgressStyleModel",
      "state": {
       "description_width": ""
      }
     },
     "1191bba742d94825bf8380f9d17a3a0b": {
      "model_module": "@jupyter-widgets/controls",
      "model_module_version": "2.0.0",
      "model_name": "HTMLModel",
      "state": {
       "layout": "IPY_MODEL_68e61413ba9b42c489aa7cf5183da910",
       "style": "IPY_MODEL_111ab3dd24c04b34ba470c812226c0f2",
       "value": "Sanity Checking DataLoader 0: 100%"
      }
     },
     "1196a0b9cbc642b9b56759344e28f1aa": {
      "model_module": "@jupyter-widgets/controls",
      "model_module_version": "2.0.0",
      "model_name": "FloatProgressModel",
      "state": {
       "bar_style": "success",
       "layout": "IPY_MODEL_34c719f1ba8b419eac74295f905e6c57",
       "max": 1,
       "style": "IPY_MODEL_200ce2771be54904b703aad34a20c197",
       "value": 1
      }
     },
     "11d1c0dc17c84e46a85b0d47b5d447f2": {
      "model_module": "@jupyter-widgets/controls",
      "model_module_version": "2.0.0",
      "model_name": "HTMLModel",
      "state": {
       "layout": "IPY_MODEL_2142d6d191964070bfc1a7306cb78498",
       "style": "IPY_MODEL_0ac6c5ca7ce24f9eae7dbee4708d7a48",
       "value": "Validation DataLoader 0: 100%"
      }
     },
     "11d2330834a646a5b7eae1a9b3b03d36": {
      "model_module": "@jupyter-widgets/controls",
      "model_module_version": "2.0.0",
      "model_name": "HTMLStyleModel",
      "state": {
       "description_width": "",
       "font_size": null,
       "text_color": null
      }
     },
     "11e88c3a91624d7393192a6a883388af": {
      "model_module": "@jupyter-widgets/controls",
      "model_module_version": "2.0.0",
      "model_name": "HTMLModel",
      "state": {
       "layout": "IPY_MODEL_f879d53c77474c4c8841a4347913872b",
       "style": "IPY_MODEL_b60d416558b9437caa1ed153848f2d94",
       "value": "Epoch 99: 100%"
      }
     },
     "1212d9a9deaa476089b171f51e71cef2": {
      "model_module": "@jupyter-widgets/controls",
      "model_module_version": "2.0.0",
      "model_name": "HTMLModel",
      "state": {
       "layout": "IPY_MODEL_85326bd725dc4bc5a96bfd8b8b9d3907",
       "style": "IPY_MODEL_72b8a87da0494fa8b3d8e88132b42bd5",
       "value": " 1/1 [00:00&lt;00:00,  5.59it/s]"
      }
     },
     "122238bdb33c43018d47b33a491cab4b": {
      "model_module": "@jupyter-widgets/base",
      "model_module_version": "2.0.0",
      "model_name": "LayoutModel",
      "state": {}
     },
     "1233de829df249acbbdfc2580f68b17e": {
      "model_module": "@jupyter-widgets/controls",
      "model_module_version": "2.0.0",
      "model_name": "HTMLStyleModel",
      "state": {
       "description_width": "",
       "font_size": null,
       "text_color": null
      }
     },
     "1252f9f320b849cf954283928748e00d": {
      "model_module": "@jupyter-widgets/base",
      "model_module_version": "2.0.0",
      "model_name": "LayoutModel",
      "state": {
       "flex": "2"
      }
     },
     "126bc52f1a824766b9f879609129a2a5": {
      "model_module": "@jupyter-widgets/base",
      "model_module_version": "2.0.0",
      "model_name": "LayoutModel",
      "state": {
       "flex": "2"
      }
     },
     "128e390b8b064c99b9dca4567e283705": {
      "model_module": "@jupyter-widgets/base",
      "model_module_version": "2.0.0",
      "model_name": "LayoutModel",
      "state": {}
     },
     "12bca9a44aaa494ca717d3479650fc72": {
      "model_module": "@jupyter-widgets/controls",
      "model_module_version": "2.0.0",
      "model_name": "HTMLStyleModel",
      "state": {
       "description_width": "",
       "font_size": null,
       "text_color": null
      }
     },
     "130af6bb35f34390b8a983b6f7b34963": {
      "model_module": "@jupyter-widgets/controls",
      "model_module_version": "2.0.0",
      "model_name": "HTMLStyleModel",
      "state": {
       "description_width": "",
       "font_size": null,
       "text_color": null
      }
     },
     "13155862b0d14d09be21dc2a9cf69279": {
      "model_module": "@jupyter-widgets/base",
      "model_module_version": "2.0.0",
      "model_name": "LayoutModel",
      "state": {}
     },
     "13381fa395f2422b955bfebc6a16cceb": {
      "model_module": "@jupyter-widgets/controls",
      "model_module_version": "2.0.0",
      "model_name": "ProgressStyleModel",
      "state": {
       "description_width": ""
      }
     },
     "1396be16a8a742fd8913c9afd2d0d1d2": {
      "model_module": "@jupyter-widgets/base",
      "model_module_version": "2.0.0",
      "model_name": "LayoutModel",
      "state": {
       "flex": "2"
      }
     },
     "13b07eedcfd141d1a78261eb905a24db": {
      "model_module": "@jupyter-widgets/base",
      "model_module_version": "2.0.0",
      "model_name": "LayoutModel",
      "state": {}
     },
     "13d8acbce0304899abc8723962b0330c": {
      "model_module": "@jupyter-widgets/controls",
      "model_module_version": "2.0.0",
      "model_name": "ProgressStyleModel",
      "state": {
       "description_width": ""
      }
     },
     "13dfb19472304bae99eed41ca2e3d728": {
      "model_module": "@jupyter-widgets/base",
      "model_module_version": "2.0.0",
      "model_name": "LayoutModel",
      "state": {}
     },
     "13fd82bb13a64c9bb0290031097cdd57": {
      "model_module": "@jupyter-widgets/controls",
      "model_module_version": "2.0.0",
      "model_name": "HBoxModel",
      "state": {
       "children": [
        "IPY_MODEL_633ca1ccef434bfabbc3bd3ccc68dfba",
        "IPY_MODEL_e33cbed4fbfa4a2b8312e181785fedd3",
        "IPY_MODEL_6ef082e4091c442683292876bff23b66"
       ],
       "layout": "IPY_MODEL_ab537119ab924958a0ce92e904e07730"
      }
     },
     "142ee926e0f54537b00868b2c54e4a7c": {
      "model_module": "@jupyter-widgets/base",
      "model_module_version": "2.0.0",
      "model_name": "LayoutModel",
      "state": {
       "display": "inline-flex",
       "flex_flow": "row wrap",
       "visibility": "hidden",
       "width": "100%"
      }
     },
     "14f7fb33fd7a45a0a3c6b045dfcb8cd7": {
      "model_module": "@jupyter-widgets/controls",
      "model_module_version": "2.0.0",
      "model_name": "HTMLStyleModel",
      "state": {
       "description_width": "",
       "font_size": null,
       "text_color": null
      }
     },
     "1546f42762d94761aaff5d1e048b36ae": {
      "model_module": "@jupyter-widgets/controls",
      "model_module_version": "2.0.0",
      "model_name": "HTMLStyleModel",
      "state": {
       "description_width": "",
       "font_size": null,
       "text_color": null
      }
     },
     "15540565d6074effb5dd28ace21f6b64": {
      "model_module": "@jupyter-widgets/base",
      "model_module_version": "2.0.0",
      "model_name": "LayoutModel",
      "state": {}
     },
     "15557fe7d5f64da89c0c917da345f98c": {
      "model_module": "@jupyter-widgets/base",
      "model_module_version": "2.0.0",
      "model_name": "LayoutModel",
      "state": {}
     },
     "15566ae4096d4e4899e338948d403ad4": {
      "model_module": "@jupyter-widgets/controls",
      "model_module_version": "2.0.0",
      "model_name": "HTMLStyleModel",
      "state": {
       "description_width": "",
       "font_size": null,
       "text_color": null
      }
     },
     "155cb3e32ad6487b8419f8046c54fa5f": {
      "model_module": "@jupyter-widgets/base",
      "model_module_version": "2.0.0",
      "model_name": "LayoutModel",
      "state": {
       "flex": "2"
      }
     },
     "1566f45341d649c3bac135563c3e78ea": {
      "model_module": "@jupyter-widgets/base",
      "model_module_version": "2.0.0",
      "model_name": "LayoutModel",
      "state": {}
     },
     "1568b16efd624b4a948fd50de07b4171": {
      "model_module": "@jupyter-widgets/base",
      "model_module_version": "2.0.0",
      "model_name": "LayoutModel",
      "state": {
       "display": "inline-flex",
       "flex_flow": "row wrap",
       "width": "100%"
      }
     },
     "15cddded46704bc5bfd55fb9cdf52ca9": {
      "model_module": "@jupyter-widgets/base",
      "model_module_version": "2.0.0",
      "model_name": "LayoutModel",
      "state": {
       "display": "inline-flex",
       "flex_flow": "row wrap",
       "visibility": "hidden",
       "width": "100%"
      }
     },
     "15d3defc8f93431a944d3d512bde410f": {
      "model_module": "@jupyter-widgets/base",
      "model_module_version": "2.0.0",
      "model_name": "LayoutModel",
      "state": {
       "flex": "2"
      }
     },
     "15da75c706684e63896270f7664d41ed": {
      "model_module": "@jupyter-widgets/base",
      "model_module_version": "2.0.0",
      "model_name": "LayoutModel",
      "state": {}
     },
     "15e3fef868944c1e98771d6b7cdbe99e": {
      "model_module": "@jupyter-widgets/controls",
      "model_module_version": "2.0.0",
      "model_name": "FloatProgressModel",
      "state": {
       "layout": "IPY_MODEL_e14168be1ad4426da9278b4564add012",
       "max": 1,
       "style": "IPY_MODEL_13381fa395f2422b955bfebc6a16cceb",
       "value": 1
      }
     },
     "15e5788777fa4aea8c5f888c40b6670a": {
      "model_module": "@jupyter-widgets/controls",
      "model_module_version": "2.0.0",
      "model_name": "HTMLStyleModel",
      "state": {
       "description_width": "",
       "font_size": null,
       "text_color": null
      }
     },
     "15edfe33ec0543498662fa025ac9b58c": {
      "model_module": "@jupyter-widgets/controls",
      "model_module_version": "2.0.0",
      "model_name": "ProgressStyleModel",
      "state": {
       "description_width": ""
      }
     },
     "16357dc6fb5944489bd424c2833845c2": {
      "model_module": "@jupyter-widgets/base",
      "model_module_version": "2.0.0",
      "model_name": "LayoutModel",
      "state": {
       "flex": "2"
      }
     },
     "1642d07c3e454671a6e9ef05cac50de9": {
      "model_module": "@jupyter-widgets/controls",
      "model_module_version": "2.0.0",
      "model_name": "HTMLStyleModel",
      "state": {
       "description_width": "",
       "font_size": null,
       "text_color": null
      }
     },
     "16442c3ee14a4f048c6486e52b914f53": {
      "model_module": "@jupyter-widgets/controls",
      "model_module_version": "2.0.0",
      "model_name": "FloatProgressModel",
      "state": {
       "layout": "IPY_MODEL_02f1ff930c9f463495bb9a8ad065f957",
       "max": 1,
       "style": "IPY_MODEL_b3edeb82224f49e6b6c1196792f96989",
       "value": 1
      }
     },
     "1653a13ad46a4d00b70af6ebbd36a10c": {
      "model_module": "@jupyter-widgets/controls",
      "model_module_version": "2.0.0",
      "model_name": "ProgressStyleModel",
      "state": {
       "description_width": ""
      }
     },
     "16f42178e09c47d39ddbbf3458842a48": {
      "model_module": "@jupyter-widgets/controls",
      "model_module_version": "2.0.0",
      "model_name": "HTMLStyleModel",
      "state": {
       "description_width": "",
       "font_size": null,
       "text_color": null
      }
     },
     "1745ae34a02b4b5faabed73a6575d397": {
      "model_module": "@jupyter-widgets/controls",
      "model_module_version": "2.0.0",
      "model_name": "HTMLModel",
      "state": {
       "layout": "IPY_MODEL_b35fc9b98def42e9a20570e2062cf52f",
       "style": "IPY_MODEL_2cabc62f2cd24f4e97874b72901c1573",
       "value": "Epoch 99: 100%"
      }
     },
     "17b231c481754681acc104223db61f7d": {
      "model_module": "@jupyter-widgets/base",
      "model_module_version": "2.0.0",
      "model_name": "LayoutModel",
      "state": {}
     },
     "17f15c9b13314f788ce3511abb8c1a28": {
      "model_module": "@jupyter-widgets/controls",
      "model_module_version": "2.0.0",
      "model_name": "HTMLModel",
      "state": {
       "layout": "IPY_MODEL_f625e42e987945fcb6338dbe5475f388",
       "style": "IPY_MODEL_1546f42762d94761aaff5d1e048b36ae",
       "value": "Validation DataLoader 0: 100%"
      }
     },
     "182ce139071d487eb928ea758918f08b": {
      "model_module": "@jupyter-widgets/base",
      "model_module_version": "2.0.0",
      "model_name": "LayoutModel",
      "state": {
       "flex": "2"
      }
     },
     "187854ab30b04157ba3750bdb85b63b3": {
      "model_module": "@jupyter-widgets/controls",
      "model_module_version": "2.0.0",
      "model_name": "HTMLStyleModel",
      "state": {
       "description_width": "",
       "font_size": null,
       "text_color": null
      }
     },
     "18ce7979a6974df2af25a1edec2b4912": {
      "model_module": "@jupyter-widgets/controls",
      "model_module_version": "2.0.0",
      "model_name": "FloatProgressModel",
      "state": {
       "layout": "IPY_MODEL_61ee87a920d14d5ab80c12da083eccc0",
       "max": 1,
       "style": "IPY_MODEL_eb5f9194ef85418588baf970e4aa10f9",
       "value": 1
      }
     },
     "18d6349c98594751ac8bc2957a7d7f7d": {
      "model_module": "@jupyter-widgets/controls",
      "model_module_version": "2.0.0",
      "model_name": "HTMLModel",
      "state": {
       "layout": "IPY_MODEL_059b15016d7f456d81bbbb520713a4a3",
       "style": "IPY_MODEL_1c7d95b97fe8479093b5522cfa1d9148",
       "value": "Validation DataLoader 0: 100%"
      }
     },
     "193ea6b5109446a0b3707d414e86ffe3": {
      "model_module": "@jupyter-widgets/base",
      "model_module_version": "2.0.0",
      "model_name": "LayoutModel",
      "state": {}
     },
     "196e67553d164ccda81aacc7861ddd25": {
      "model_module": "@jupyter-widgets/base",
      "model_module_version": "2.0.0",
      "model_name": "LayoutModel",
      "state": {
       "display": "inline-flex",
       "flex_flow": "row wrap",
       "visibility": "hidden",
       "width": "100%"
      }
     },
     "19741d5b63d04651bddb3bb68599049b": {
      "model_module": "@jupyter-widgets/controls",
      "model_module_version": "2.0.0",
      "model_name": "HTMLModel",
      "state": {
       "layout": "IPY_MODEL_b3f2da3c5e89459fa842ff39c2ec1702",
       "style": "IPY_MODEL_c1225856f0d242e58c0eec2a6d5a2379",
       "value": "Validation DataLoader 0: 100%"
      }
     },
     "197d4e9f0c8c47259f2082693557473b": {
      "model_module": "@jupyter-widgets/controls",
      "model_module_version": "2.0.0",
      "model_name": "HTMLModel",
      "state": {
       "layout": "IPY_MODEL_db40295d8003485db6dec1dc2b3fc7c3",
       "style": "IPY_MODEL_696a1becc8bd45a08ef1b15efe2fba3f",
       "value": "Sanity Checking DataLoader 0: 100%"
      }
     },
     "199ad55497d34b0285b0bc660f1afe60": {
      "model_module": "@jupyter-widgets/controls",
      "model_module_version": "2.0.0",
      "model_name": "HTMLModel",
      "state": {
       "layout": "IPY_MODEL_27a2d6afd2294fdd88d4d25ac6205566",
       "style": "IPY_MODEL_1642d07c3e454671a6e9ef05cac50de9",
       "value": " 1/1 [00:00&lt;00:00, 12.24it/s]"
      }
     },
     "199c25faf2ee401ca98f7bf4399d1d1e": {
      "model_module": "@jupyter-widgets/controls",
      "model_module_version": "2.0.0",
      "model_name": "ProgressStyleModel",
      "state": {
       "description_width": ""
      }
     },
     "19b77b824f544b9182ec47f4b9a9439a": {
      "model_module": "@jupyter-widgets/controls",
      "model_module_version": "2.0.0",
      "model_name": "HTMLStyleModel",
      "state": {
       "description_width": "",
       "font_size": null,
       "text_color": null
      }
     },
     "19ee22275bb14940a00ac6d1e5cac1d2": {
      "model_module": "@jupyter-widgets/controls",
      "model_module_version": "2.0.0",
      "model_name": "HTMLStyleModel",
      "state": {
       "description_width": "",
       "font_size": null,
       "text_color": null
      }
     },
     "19f5a6c605ff4bdaa9819b369a63ee18": {
      "model_module": "@jupyter-widgets/controls",
      "model_module_version": "2.0.0",
      "model_name": "ProgressStyleModel",
      "state": {
       "description_width": ""
      }
     },
     "19f5c14973804be9ba4e685236673626": {
      "model_module": "@jupyter-widgets/controls",
      "model_module_version": "2.0.0",
      "model_name": "HTMLStyleModel",
      "state": {
       "description_width": "",
       "font_size": null,
       "text_color": null
      }
     },
     "1a6cb184e33642b0aac4355d362f0812": {
      "model_module": "@jupyter-widgets/base",
      "model_module_version": "2.0.0",
      "model_name": "LayoutModel",
      "state": {
       "flex": "2"
      }
     },
     "1ab010161b1f49f5af72f1abb92d120c": {
      "model_module": "@jupyter-widgets/controls",
      "model_module_version": "2.0.0",
      "model_name": "HTMLStyleModel",
      "state": {
       "description_width": "",
       "font_size": null,
       "text_color": null
      }
     },
     "1ab758123c234c759deafab47a386200": {
      "model_module": "@jupyter-widgets/base",
      "model_module_version": "2.0.0",
      "model_name": "LayoutModel",
      "state": {}
     },
     "1af3bc21b89e4c23a24447d2510f969f": {
      "model_module": "@jupyter-widgets/controls",
      "model_module_version": "2.0.0",
      "model_name": "HTMLStyleModel",
      "state": {
       "description_width": "",
       "font_size": null,
       "text_color": null
      }
     },
     "1b03c756ea2c4bb3a09011d2b61cb816": {
      "model_module": "@jupyter-widgets/base",
      "model_module_version": "2.0.0",
      "model_name": "LayoutModel",
      "state": {}
     },
     "1b1d4fb6dd904377b0c91d354c44dffa": {
      "model_module": "@jupyter-widgets/base",
      "model_module_version": "2.0.0",
      "model_name": "LayoutModel",
      "state": {}
     },
     "1b5621aaa90c4313be326ff0127dcf62": {
      "model_module": "@jupyter-widgets/controls",
      "model_module_version": "2.0.0",
      "model_name": "HTMLModel",
      "state": {
       "layout": "IPY_MODEL_d519c337d1db4bb5a1c29a50fc9ce6d7",
       "style": "IPY_MODEL_4a0bb66bd57a4b9785685553c3afc138",
       "value": " 1/1 [00:00&lt;00:00, 62.09it/s]"
      }
     },
     "1b86e602050d43079b585d410882164a": {
      "model_module": "@jupyter-widgets/controls",
      "model_module_version": "2.0.0",
      "model_name": "HTMLModel",
      "state": {
       "layout": "IPY_MODEL_bf10d913deea414090dee0fd59bc2e19",
       "style": "IPY_MODEL_3a62611214ba4fd394d5c78c4dff44d9",
       "value": " 500/500 [01:44&lt;00:00,  5.27it/s]"
      }
     },
     "1b8bd3d0d11f4d08b5378cb7202d96d5": {
      "model_module": "@jupyter-widgets/base",
      "model_module_version": "2.0.0",
      "model_name": "LayoutModel",
      "state": {}
     },
     "1c05cc0bd8d242468013801a503e0f8f": {
      "model_module": "@jupyter-widgets/base",
      "model_module_version": "2.0.0",
      "model_name": "LayoutModel",
      "state": {}
     },
     "1c7d95b97fe8479093b5522cfa1d9148": {
      "model_module": "@jupyter-widgets/controls",
      "model_module_version": "2.0.0",
      "model_name": "HTMLStyleModel",
      "state": {
       "description_width": "",
       "font_size": null,
       "text_color": null
      }
     },
     "1c8f0f2f31ff4dda86bb3aa26487a579": {
      "model_module": "@jupyter-widgets/controls",
      "model_module_version": "2.0.0",
      "model_name": "ProgressStyleModel",
      "state": {
       "description_width": ""
      }
     },
     "1ca7782613014bda882c8f39df481c26": {
      "model_module": "@jupyter-widgets/base",
      "model_module_version": "2.0.0",
      "model_name": "LayoutModel",
      "state": {
       "flex": "2"
      }
     },
     "1ce4ff3798144b2681f10f9aa324d86b": {
      "model_module": "@jupyter-widgets/controls",
      "model_module_version": "2.0.0",
      "model_name": "HTMLStyleModel",
      "state": {
       "description_width": "",
       "font_size": null,
       "text_color": null
      }
     },
     "1d1e3cced1c145078caedc0f3d0a725f": {
      "model_module": "@jupyter-widgets/controls",
      "model_module_version": "2.0.0",
      "model_name": "HTMLStyleModel",
      "state": {
       "description_width": "",
       "font_size": null,
       "text_color": null
      }
     },
     "1d39c19d08124b339ee1b896ec21a278": {
      "model_module": "@jupyter-widgets/controls",
      "model_module_version": "2.0.0",
      "model_name": "HBoxModel",
      "state": {
       "children": [
        "IPY_MODEL_23c4d46b220e402683cb8a8f6d75e917",
        "IPY_MODEL_a08f300db9f344eaa66b05a94366c0a4",
        "IPY_MODEL_3d9c1710f2524a23bf606e739871bc2c"
       ],
       "layout": "IPY_MODEL_30b9ef8b39424522b58114bf96c2bfef"
      }
     },
     "1d4573721fd8450997fbb580acbd601a": {
      "model_module": "@jupyter-widgets/controls",
      "model_module_version": "2.0.0",
      "model_name": "HBoxModel",
      "state": {
       "children": [
        "IPY_MODEL_e2b83989bb304b029db4cbd52fcae762",
        "IPY_MODEL_650454a6a53242da8a327fc0c07e0a48",
        "IPY_MODEL_67eebb665bf842118504ea46a4106005"
       ],
       "layout": "IPY_MODEL_d4a155cfb92b4fbab7ee253d1d741021"
      }
     },
     "1d80d1c9f4ad46a3a587c43d9b528ed2": {
      "model_module": "@jupyter-widgets/controls",
      "model_module_version": "2.0.0",
      "model_name": "HTMLModel",
      "state": {
       "layout": "IPY_MODEL_2d4a4f0bad1e4578b8f06e5412fbdacc",
       "style": "IPY_MODEL_a880691c5cc9465baa5d010f24d59bac",
       "value": "Validation DataLoader 0: 100%"
      }
     },
     "1da769194da14b678dbfbba3fa1567d6": {
      "model_module": "@jupyter-widgets/controls",
      "model_module_version": "2.0.0",
      "model_name": "FloatProgressModel",
      "state": {
       "layout": "IPY_MODEL_b9ad51f6b3d34bfebdb616158d49e570",
       "max": 1,
       "style": "IPY_MODEL_cb1ea36a9e10493dad189a2d32a67c46",
       "value": 1
      }
     },
     "1e0cbae8ce1841ce90afde9cf4802f11": {
      "model_module": "@jupyter-widgets/controls",
      "model_module_version": "2.0.0",
      "model_name": "HTMLModel",
      "state": {
       "layout": "IPY_MODEL_4bbebcf5edf749ba9b4bc2a818267b9b",
       "style": "IPY_MODEL_7c83a411f4d44085aae96bac5e5d328e",
       "value": " 1/1 [00:00&lt;00:00, 11.21it/s, v_num=285, train_loss_step=0.248, train_loss_epoch=0.248, valid_loss=805.0]"
      }
     },
     "1e385048b5874a4392a10478204b139f": {
      "model_module": "@jupyter-widgets/base",
      "model_module_version": "2.0.0",
      "model_name": "LayoutModel",
      "state": {
       "display": "inline-flex",
       "flex_flow": "row wrap",
       "visibility": "hidden",
       "width": "100%"
      }
     },
     "1e52aab655b44a46b361636c997e1deb": {
      "model_module": "@jupyter-widgets/base",
      "model_module_version": "2.0.0",
      "model_name": "LayoutModel",
      "state": {}
     },
     "1e583101c18b474f8669294b6fe48d2e": {
      "model_module": "@jupyter-widgets/base",
      "model_module_version": "2.0.0",
      "model_name": "LayoutModel",
      "state": {
       "display": "inline-flex",
       "flex_flow": "row wrap",
       "visibility": "hidden",
       "width": "100%"
      }
     },
     "1ec9235503cf41d1949a009f148aa543": {
      "model_module": "@jupyter-widgets/controls",
      "model_module_version": "2.0.0",
      "model_name": "HTMLModel",
      "state": {
       "layout": "IPY_MODEL_13155862b0d14d09be21dc2a9cf69279",
       "style": "IPY_MODEL_10e5a294db3d4a8e92e39ab0276c17f4",
       "value": "Epoch 99: 100%"
      }
     },
     "1f2985f14e9e4f4587e37662f8f9243b": {
      "model_module": "@jupyter-widgets/base",
      "model_module_version": "2.0.0",
      "model_name": "LayoutModel",
      "state": {}
     },
     "1f7606849fa74e64bb0d94f56779d7c5": {
      "model_module": "@jupyter-widgets/controls",
      "model_module_version": "2.0.0",
      "model_name": "FloatProgressModel",
      "state": {
       "bar_style": "success",
       "layout": "IPY_MODEL_33766a07e0334b0a9592c58c428a544f",
       "max": 1,
       "style": "IPY_MODEL_ba46a3b0c312477b9773c26da5461380",
       "value": 1
      }
     },
     "1fd06737a7c3469f9f437de101a0bb19": {
      "model_module": "@jupyter-widgets/base",
      "model_module_version": "2.0.0",
      "model_name": "LayoutModel",
      "state": {
       "flex": "2"
      }
     },
     "1ff03265958648d4afbe70ed4ad1fc02": {
      "model_module": "@jupyter-widgets/base",
      "model_module_version": "2.0.0",
      "model_name": "LayoutModel",
      "state": {
       "flex": "2"
      }
     },
     "200ce2771be54904b703aad34a20c197": {
      "model_module": "@jupyter-widgets/controls",
      "model_module_version": "2.0.0",
      "model_name": "ProgressStyleModel",
      "state": {
       "description_width": ""
      }
     },
     "2025c3641e4f4c869302743b4d6ab8b7": {
      "model_module": "@jupyter-widgets/controls",
      "model_module_version": "2.0.0",
      "model_name": "HTMLStyleModel",
      "state": {
       "description_width": "",
       "font_size": null,
       "text_color": null
      }
     },
     "20a03e5b614745caa0fccc76e7f5a375": {
      "model_module": "@jupyter-widgets/controls",
      "model_module_version": "2.0.0",
      "model_name": "HTMLModel",
      "state": {
       "layout": "IPY_MODEL_f1f6b46dddb74decba3d134c59c3067d",
       "style": "IPY_MODEL_b3f1aee6cd0442fd902c4584723a7537",
       "value": "Validation DataLoader 0: 100%"
      }
     },
     "20a493f11c114562b0e88676d86299ea": {
      "model_module": "@jupyter-widgets/base",
      "model_module_version": "2.0.0",
      "model_name": "LayoutModel",
      "state": {}
     },
     "20dd9f30172f4c3bb841c8ec9ec56e82": {
      "model_module": "@jupyter-widgets/base",
      "model_module_version": "2.0.0",
      "model_name": "LayoutModel",
      "state": {
       "display": "inline-flex",
       "flex_flow": "row wrap",
       "visibility": "hidden",
       "width": "100%"
      }
     },
     "2104e20f2fe1447a96e90850db2b792e": {
      "model_module": "@jupyter-widgets/controls",
      "model_module_version": "2.0.0",
      "model_name": "HTMLModel",
      "state": {
       "layout": "IPY_MODEL_e5c3da9eef6f489abcd706d41b734cdc",
       "style": "IPY_MODEL_0af3ca2714514cc48656543ff4282f2a",
       "value": "Validation DataLoader 0: 100%"
      }
     },
     "2136ec1203004e8fbc45d7ed0239dbb7": {
      "model_module": "@jupyter-widgets/base",
      "model_module_version": "2.0.0",
      "model_name": "LayoutModel",
      "state": {
       "display": "inline-flex",
       "flex_flow": "row wrap",
       "width": "100%"
      }
     },
     "2142d6d191964070bfc1a7306cb78498": {
      "model_module": "@jupyter-widgets/base",
      "model_module_version": "2.0.0",
      "model_name": "LayoutModel",
      "state": {}
     },
     "21521a46d470443b8d9a570096882b9e": {
      "model_module": "@jupyter-widgets/base",
      "model_module_version": "2.0.0",
      "model_name": "LayoutModel",
      "state": {
       "flex": "2"
      }
     },
     "2162f7cb79d64d7bbdc234a1a01951b9": {
      "model_module": "@jupyter-widgets/controls",
      "model_module_version": "2.0.0",
      "model_name": "HTMLModel",
      "state": {
       "layout": "IPY_MODEL_d9c473089b074a61b44aefec2a29a388",
       "style": "IPY_MODEL_6e5176184bed48fa91072ae8d4a4bdc1",
       "value": "Epoch 99: 100%"
      }
     },
     "21f5e9acff5a47e889d297de20e369dc": {
      "model_module": "@jupyter-widgets/base",
      "model_module_version": "2.0.0",
      "model_name": "LayoutModel",
      "state": {
       "flex": "2"
      }
     },
     "21fa47aaa66a4c55b6355a866bdfa9f1": {
      "model_module": "@jupyter-widgets/controls",
      "model_module_version": "2.0.0",
      "model_name": "FloatProgressModel",
      "state": {
       "bar_style": "success",
       "layout": "IPY_MODEL_fe635e91d9c04b37a77b6a76682074ee",
       "max": 1,
       "style": "IPY_MODEL_81be4570dbfb4672acca48a7d1107580",
       "value": 1
      }
     },
     "21fd302fd51c40d0a340a562734fe453": {
      "model_module": "@jupyter-widgets/controls",
      "model_module_version": "2.0.0",
      "model_name": "HTMLStyleModel",
      "state": {
       "description_width": "",
       "font_size": null,
       "text_color": null
      }
     },
     "2265254c61fd489493c2c47493e054f9": {
      "model_module": "@jupyter-widgets/controls",
      "model_module_version": "2.0.0",
      "model_name": "FloatProgressModel",
      "state": {
       "bar_style": "success",
       "layout": "IPY_MODEL_0c57779cfac541f898c6d33ebec4f8a0",
       "max": 1,
       "style": "IPY_MODEL_b5fcf7282c7b4d689a75913533302087",
       "value": 1
      }
     },
     "226cb962a1d54d0a86627306f7f1e108": {
      "model_module": "@jupyter-widgets/controls",
      "model_module_version": "2.0.0",
      "model_name": "HTMLModel",
      "state": {
       "layout": "IPY_MODEL_a3866cb9de7f43cca40c011d4bb33696",
       "style": "IPY_MODEL_ae71f2042c594d2796911322dcf1dd83",
       "value": "Epoch 99: 100%"
      }
     },
     "22db527db3be4f3190b523966062777a": {
      "model_module": "@jupyter-widgets/controls",
      "model_module_version": "2.0.0",
      "model_name": "ProgressStyleModel",
      "state": {
       "description_width": ""
      }
     },
     "22eb7c693a2343f397f3c1c73708ca92": {
      "model_module": "@jupyter-widgets/controls",
      "model_module_version": "2.0.0",
      "model_name": "HTMLStyleModel",
      "state": {
       "description_width": "",
       "font_size": null,
       "text_color": null
      }
     },
     "22f6d97d2a2d440ea42256f4db78fc44": {
      "model_module": "@jupyter-widgets/controls",
      "model_module_version": "2.0.0",
      "model_name": "HTMLModel",
      "state": {
       "layout": "IPY_MODEL_38cbb45846e94bc5aa5a890f7cafcbde",
       "style": "IPY_MODEL_f58f0eb2d2dd4f82a1da9607e7102b26",
       "value": " 1/1 [00:00&lt;00:00, 12.83it/s]"
      }
     },
     "22f92676342846a683a3dc2110e63a85": {
      "model_module": "@jupyter-widgets/controls",
      "model_module_version": "2.0.0",
      "model_name": "HTMLStyleModel",
      "state": {
       "description_width": "",
       "font_size": null,
       "text_color": null
      }
     },
     "23679ecefef34af6947b6e45da1e64bd": {
      "model_module": "@jupyter-widgets/controls",
      "model_module_version": "2.0.0",
      "model_name": "ProgressStyleModel",
      "state": {
       "description_width": ""
      }
     },
     "237ebfdbaadf42838e0a6b5ca7868cb9": {
      "model_module": "@jupyter-widgets/base",
      "model_module_version": "2.0.0",
      "model_name": "LayoutModel",
      "state": {
       "flex": "2"
      }
     },
     "23c4d46b220e402683cb8a8f6d75e917": {
      "model_module": "@jupyter-widgets/controls",
      "model_module_version": "2.0.0",
      "model_name": "HTMLModel",
      "state": {
       "layout": "IPY_MODEL_db6b0656a8704b9e9e0ab0e152fb4721",
       "style": "IPY_MODEL_05d06243c24646b583f1d730b8e2b242",
       "value": "Epoch 99: 100%"
      }
     },
     "23d3228f69af4685821314710bd00d90": {
      "model_module": "@jupyter-widgets/controls",
      "model_module_version": "2.0.0",
      "model_name": "HTMLModel",
      "state": {
       "layout": "IPY_MODEL_512cf8bd05f44b578346c843e5986d9b",
       "style": "IPY_MODEL_3595ce83e46d4862a071dffd5fb636ba",
       "value": "Epoch 99: 100%"
      }
     },
     "23f9ecb5b1204729801757663a3457e2": {
      "model_module": "@jupyter-widgets/base",
      "model_module_version": "2.0.0",
      "model_name": "LayoutModel",
      "state": {}
     },
     "23fe68aa7c09489981484d281d71a650": {
      "model_module": "@jupyter-widgets/controls",
      "model_module_version": "2.0.0",
      "model_name": "HTMLModel",
      "state": {
       "layout": "IPY_MODEL_7c86ab7371504012b790f02b94dd2cc0",
       "style": "IPY_MODEL_d46ecf46ca5b4a8c94b6921af25d1cd3",
       "value": "Validation DataLoader 0: 100%"
      }
     },
     "246e345f74ce4347b85941b5b4745094": {
      "model_module": "@jupyter-widgets/controls",
      "model_module_version": "2.0.0",
      "model_name": "FloatProgressModel",
      "state": {
       "layout": "IPY_MODEL_c13f83ad6e4741319a91632b72aad76e",
       "max": 1,
       "style": "IPY_MODEL_e0b6cba9c8bb47489a7507f7a3a1afdb",
       "value": 1
      }
     },
     "24f8244a654747759227941482131529": {
      "model_module": "@jupyter-widgets/controls",
      "model_module_version": "2.0.0",
      "model_name": "HTMLStyleModel",
      "state": {
       "description_width": "",
       "font_size": null,
       "text_color": null
      }
     },
     "252979e5a353401384c99d895a4e4774": {
      "model_module": "@jupyter-widgets/controls",
      "model_module_version": "2.0.0",
      "model_name": "HTMLModel",
      "state": {
       "layout": "IPY_MODEL_490294e8b7c441a8904b9742f86b49e7",
       "style": "IPY_MODEL_f7f4b3522f7f4c5faa629da49e7c38ba",
       "value": "Validation DataLoader 0: 100%"
      }
     },
     "2563897fd75e4e7fb3c38aa94e53b4bc": {
      "model_module": "@jupyter-widgets/base",
      "model_module_version": "2.0.0",
      "model_name": "LayoutModel",
      "state": {}
     },
     "256bceb8e2c348bd92e42c42afcc5db2": {
      "model_module": "@jupyter-widgets/base",
      "model_module_version": "2.0.0",
      "model_name": "LayoutModel",
      "state": {}
     },
     "257746db377c47b78cc7eff83f8cbc1a": {
      "model_module": "@jupyter-widgets/base",
      "model_module_version": "2.0.0",
      "model_name": "LayoutModel",
      "state": {}
     },
     "25b3120b536b46b6abbff0861bb98433": {
      "model_module": "@jupyter-widgets/base",
      "model_module_version": "2.0.0",
      "model_name": "LayoutModel",
      "state": {
       "display": "inline-flex",
       "flex_flow": "row wrap",
       "visibility": "hidden",
       "width": "100%"
      }
     },
     "25b4ea683f3f4402aeb03245b215e0ae": {
      "model_module": "@jupyter-widgets/controls",
      "model_module_version": "2.0.0",
      "model_name": "HTMLModel",
      "state": {
       "layout": "IPY_MODEL_faa6840e5eaa4e89881bfdb4a5acd4ea",
       "style": "IPY_MODEL_a2e1f259ecc54f9e9e87377fc1f6a4dd",
       "value": " 1/1 [00:00&lt;00:00,  7.81it/s, v_num=286, train_loss_step=1.770, train_loss_epoch=1.770, valid_loss=474.0]"
      }
     },
     "25c8de20748c46918ff61c93a4a1786d": {
      "model_module": "@jupyter-widgets/base",
      "model_module_version": "2.0.0",
      "model_name": "LayoutModel",
      "state": {
       "flex": "2"
      }
     },
     "25e9271b13574e7aa70eb99a9d7622f7": {
      "model_module": "@jupyter-widgets/base",
      "model_module_version": "2.0.0",
      "model_name": "LayoutModel",
      "state": {}
     },
     "26192ec56a6949b98c5f33698d91142b": {
      "model_module": "@jupyter-widgets/controls",
      "model_module_version": "2.0.0",
      "model_name": "HBoxModel",
      "state": {
       "children": [
        "IPY_MODEL_aed4f37438904f099b85dca9ee12312d",
        "IPY_MODEL_e88ebb117f9d4a09a5d86f94cf166924",
        "IPY_MODEL_b6e3b4f5e5bc48f28310e7705e699f0f"
       ],
       "layout": "IPY_MODEL_2136ec1203004e8fbc45d7ed0239dbb7"
      }
     },
     "265359d62ebb4b49854c2cc3a8f93624": {
      "model_module": "@jupyter-widgets/controls",
      "model_module_version": "2.0.0",
      "model_name": "FloatProgressModel",
      "state": {
       "bar_style": "success",
       "layout": "IPY_MODEL_ad25d2049e44486cb55cd6f150fdfb6c",
       "style": "IPY_MODEL_639db2edd9ac425eaa8d99ade072f982",
       "value": 100
      }
     },
     "265d7bcf40114454b18eaea289d33685": {
      "model_module": "@jupyter-widgets/controls",
      "model_module_version": "2.0.0",
      "model_name": "ProgressStyleModel",
      "state": {
       "description_width": ""
      }
     },
     "26dafc4cebc5488096edb616b14b7a55": {
      "model_module": "@jupyter-widgets/controls",
      "model_module_version": "2.0.0",
      "model_name": "HTMLModel",
      "state": {
       "layout": "IPY_MODEL_d54f8e9183b14ef1a8011ac32a28a317",
       "style": "IPY_MODEL_f8d63b43c41b4e579ce6e7be77b19014",
       "value": "Epoch 99: 100%"
      }
     },
     "26e8bbc78cca40f7ab1604d201e5ea81": {
      "model_module": "@jupyter-widgets/base",
      "model_module_version": "2.0.0",
      "model_name": "LayoutModel",
      "state": {
       "display": "inline-flex",
       "flex_flow": "row wrap",
       "visibility": "hidden",
       "width": "100%"
      }
     },
     "2729149f260c435f8cebe50ee7a77dd9": {
      "model_module": "@jupyter-widgets/base",
      "model_module_version": "2.0.0",
      "model_name": "LayoutModel",
      "state": {}
     },
     "273dd6f02bc642beb3bf76542328716a": {
      "model_module": "@jupyter-widgets/controls",
      "model_module_version": "2.0.0",
      "model_name": "FloatProgressModel",
      "state": {
       "bar_style": "success",
       "layout": "IPY_MODEL_fcc42351b250439fbf4e91a99fab4360",
       "max": 1,
       "style": "IPY_MODEL_f0637496b1d34e0dbe680302122f8a2c",
       "value": 1
      }
     },
     "278070e708944c72a995320e4a9b3370": {
      "model_module": "@jupyter-widgets/controls",
      "model_module_version": "2.0.0",
      "model_name": "HTMLStyleModel",
      "state": {
       "description_width": "",
       "font_size": null,
       "text_color": null
      }
     },
     "279b6f01b01a405cbaca584404563c89": {
      "model_module": "@jupyter-widgets/base",
      "model_module_version": "2.0.0",
      "model_name": "LayoutModel",
      "state": {}
     },
     "27a2d6afd2294fdd88d4d25ac6205566": {
      "model_module": "@jupyter-widgets/base",
      "model_module_version": "2.0.0",
      "model_name": "LayoutModel",
      "state": {}
     },
     "27bb3185716940f5828d104446c896f7": {
      "model_module": "@jupyter-widgets/base",
      "model_module_version": "2.0.0",
      "model_name": "LayoutModel",
      "state": {}
     },
     "283a30e91456495f9cdff189d679bb1f": {
      "model_module": "@jupyter-widgets/controls",
      "model_module_version": "2.0.0",
      "model_name": "ProgressStyleModel",
      "state": {
       "description_width": ""
      }
     },
     "28526b4a4f3e43dbadad91a1efc95abe": {
      "model_module": "@jupyter-widgets/base",
      "model_module_version": "2.0.0",
      "model_name": "LayoutModel",
      "state": {
       "flex": "2"
      }
     },
     "2890a053dd104975bcbdf2951cb4a949": {
      "model_module": "@jupyter-widgets/base",
      "model_module_version": "2.0.0",
      "model_name": "LayoutModel",
      "state": {
       "flex": "2"
      }
     },
     "28a1d27c4f9a4031b36df9c3eb2fb1b6": {
      "model_module": "@jupyter-widgets/controls",
      "model_module_version": "2.0.0",
      "model_name": "FloatProgressModel",
      "state": {
       "bar_style": "success",
       "layout": "IPY_MODEL_0ef3ab1ceb5e4867bfb6f42ff02696c4",
       "max": 1,
       "style": "IPY_MODEL_c2dd9ecda7a640d5841662c840b2c2e9",
       "value": 1
      }
     },
     "28dad17dfbfa49e09d164bb5d839d472": {
      "model_module": "@jupyter-widgets/base",
      "model_module_version": "2.0.0",
      "model_name": "LayoutModel",
      "state": {}
     },
     "28eea74388b1485088b64618e2ebfb67": {
      "model_module": "@jupyter-widgets/controls",
      "model_module_version": "2.0.0",
      "model_name": "HTMLModel",
      "state": {
       "layout": "IPY_MODEL_8359e31a469448b6a395c6ed29239bb2",
       "style": "IPY_MODEL_bb0e98cdea9147fa9c4f863d0b7b48e9",
       "value": " 1/1 [00:00&lt;00:00, 18.30it/s, v_num=301, train_loss_step=0.331, train_loss_epoch=0.331, valid_loss=235.0]"
      }
     },
     "2916984ebd494289aa6b41c411f58b2b": {
      "model_module": "@jupyter-widgets/base",
      "model_module_version": "2.0.0",
      "model_name": "LayoutModel",
      "state": {
       "flex": "2"
      }
     },
     "296074c0bddf4876b31c0a54479f81e7": {
      "model_module": "@jupyter-widgets/base",
      "model_module_version": "2.0.0",
      "model_name": "LayoutModel",
      "state": {}
     },
     "29b7f4162c6b4c798531fe506b986b30": {
      "model_module": "@jupyter-widgets/controls",
      "model_module_version": "2.0.0",
      "model_name": "HTMLModel",
      "state": {
       "layout": "IPY_MODEL_b89a4756fb034f29a7bd7be008393260",
       "style": "IPY_MODEL_54d4f1f6a0cc4e0db082bc3034c1eb92",
       "value": " 1/1 [00:00&lt;00:00,  2.78it/s, v_num=307, train_loss_step=0.000, train_loss_epoch=0.000, valid_loss=0.000]"
      }
     },
     "29bf3dd7ba2e401e8a8c2b129e9a0e33": {
      "model_module": "@jupyter-widgets/controls",
      "model_module_version": "2.0.0",
      "model_name": "ProgressStyleModel",
      "state": {
       "description_width": ""
      }
     },
     "2a37da80c8384cbdb9749cbc7119647d": {
      "model_module": "@jupyter-widgets/base",
      "model_module_version": "2.0.0",
      "model_name": "LayoutModel",
      "state": {}
     },
     "2a8c9a7bc7a347488233c7c957c7958b": {
      "model_module": "@jupyter-widgets/base",
      "model_module_version": "2.0.0",
      "model_name": "LayoutModel",
      "state": {
       "display": "inline-flex",
       "flex_flow": "row wrap",
       "visibility": "hidden",
       "width": "100%"
      }
     },
     "2aa10c8b55394af4973c717c6e8ae531": {
      "model_module": "@jupyter-widgets/controls",
      "model_module_version": "2.0.0",
      "model_name": "ProgressStyleModel",
      "state": {
       "description_width": ""
      }
     },
     "2ab529fb000b4750b616bd6591b9ba9f": {
      "model_module": "@jupyter-widgets/controls",
      "model_module_version": "2.0.0",
      "model_name": "HTMLStyleModel",
      "state": {
       "description_width": "",
       "font_size": null,
       "text_color": null
      }
     },
     "2abff93557e149929b839f520140e720": {
      "model_module": "@jupyter-widgets/controls",
      "model_module_version": "2.0.0",
      "model_name": "HTMLModel",
      "state": {
       "layout": "IPY_MODEL_93e63081a9874b9d87495f2de2ce9b01",
       "style": "IPY_MODEL_311735b7fb304e9085bbb1145314c2bc",
       "value": "Epoch 999: 100%"
      }
     },
     "2b61589071a749aca3e8997ef94f6257": {
      "model_module": "@jupyter-widgets/base",
      "model_module_version": "2.0.0",
      "model_name": "LayoutModel",
      "state": {
       "display": "inline-flex",
       "flex_flow": "row wrap",
       "visibility": "hidden",
       "width": "100%"
      }
     },
     "2b92eccc1ad24fe996bb69703b245367": {
      "model_module": "@jupyter-widgets/controls",
      "model_module_version": "2.0.0",
      "model_name": "ProgressStyleModel",
      "state": {
       "description_width": ""
      }
     },
     "2b93c56d548e4a93a8d2ecab44b9c6f2": {
      "model_module": "@jupyter-widgets/controls",
      "model_module_version": "2.0.0",
      "model_name": "ProgressStyleModel",
      "state": {
       "description_width": ""
      }
     },
     "2b98f99be6be41d5a79c512c5186ce17": {
      "model_module": "@jupyter-widgets/base",
      "model_module_version": "2.0.0",
      "model_name": "LayoutModel",
      "state": {}
     },
     "2bb95012734849deb3fbe44f2749a8ee": {
      "model_module": "@jupyter-widgets/controls",
      "model_module_version": "2.0.0",
      "model_name": "FloatProgressModel",
      "state": {
       "layout": "IPY_MODEL_5863c50dd7a247cd82f66c72f912f705",
       "max": 1,
       "style": "IPY_MODEL_265d7bcf40114454b18eaea289d33685",
       "value": 1
      }
     },
     "2bc186244a1947edaa9ed16f59d28fd2": {
      "model_module": "@jupyter-widgets/controls",
      "model_module_version": "2.0.0",
      "model_name": "HBoxModel",
      "state": {
       "children": [
        "IPY_MODEL_95ac12437d57471b89cb3aa7ac6387ad",
        "IPY_MODEL_982968e8dff1435183548a5751d60f1b",
        "IPY_MODEL_a5976649d9874964a10b43640d89b658"
       ],
       "layout": "IPY_MODEL_cd560a611ae245689f9d07ca0f01bfc7"
      }
     },
     "2c36fc5a6cdf4725b53522234c145041": {
      "model_module": "@jupyter-widgets/controls",
      "model_module_version": "2.0.0",
      "model_name": "HTMLStyleModel",
      "state": {
       "description_width": "",
       "font_size": null,
       "text_color": null
      }
     },
     "2c53cef6832d4d349f49dd33d99ce8f2": {
      "model_module": "@jupyter-widgets/base",
      "model_module_version": "2.0.0",
      "model_name": "LayoutModel",
      "state": {}
     },
     "2c7cfb15429b4486b88280eaa9194617": {
      "model_module": "@jupyter-widgets/controls",
      "model_module_version": "2.0.0",
      "model_name": "HTMLModel",
      "state": {
       "layout": "IPY_MODEL_e94ffe2631dd412bb0ba2b8b10df8633",
       "style": "IPY_MODEL_689a974fce174a3e9635d35a56b1bd92",
       "value": "Sanity Checking DataLoader 0: 100%"
      }
     },
     "2c98be49390341fba54fe7ae7c394daf": {
      "model_module": "@jupyter-widgets/controls",
      "model_module_version": "2.0.0",
      "model_name": "HTMLModel",
      "state": {
       "layout": "IPY_MODEL_1566f45341d649c3bac135563c3e78ea",
       "style": "IPY_MODEL_eac6a9e38de047d29e4fffc0a5b66f49",
       "value": " 1/1 [00:00&lt;00:00, 40.18it/s]"
      }
     },
     "2cabc62f2cd24f4e97874b72901c1573": {
      "model_module": "@jupyter-widgets/controls",
      "model_module_version": "2.0.0",
      "model_name": "HTMLStyleModel",
      "state": {
       "description_width": "",
       "font_size": null,
       "text_color": null
      }
     },
     "2cb1d99477da404b9e7dc09f3901fd3f": {
      "model_module": "@jupyter-widgets/base",
      "model_module_version": "2.0.0",
      "model_name": "LayoutModel",
      "state": {}
     },
     "2cdc4eef0108461bb9f8f34b91103e7d": {
      "model_module": "@jupyter-widgets/controls",
      "model_module_version": "2.0.0",
      "model_name": "HTMLModel",
      "state": {
       "layout": "IPY_MODEL_e6903b637d9047b7a55a42eadc804bdb",
       "style": "IPY_MODEL_d6c1027026e2423398765b1aa663488e",
       "value": " 1/1 [00:00&lt;?, ?it/s]"
      }
     },
     "2d4a4f0bad1e4578b8f06e5412fbdacc": {
      "model_module": "@jupyter-widgets/base",
      "model_module_version": "2.0.0",
      "model_name": "LayoutModel",
      "state": {}
     },
     "2d8709fe234c4d81bb27a21dd5b54f5d": {
      "model_module": "@jupyter-widgets/controls",
      "model_module_version": "2.0.0",
      "model_name": "FloatProgressModel",
      "state": {
       "layout": "IPY_MODEL_182ce139071d487eb928ea758918f08b",
       "max": 1,
       "style": "IPY_MODEL_09d9090be4fd4cbdb9377bda967d3ae5",
       "value": 1
      }
     },
     "2dc9ea45195641eb8975b912a3226ba4": {
      "model_module": "@jupyter-widgets/controls",
      "model_module_version": "2.0.0",
      "model_name": "HTMLStyleModel",
      "state": {
       "description_width": "",
       "font_size": null,
       "text_color": null
      }
     },
     "2dd03f193763419d9e4611f8e807890b": {
      "model_module": "@jupyter-widgets/controls",
      "model_module_version": "2.0.0",
      "model_name": "HTMLStyleModel",
      "state": {
       "description_width": "",
       "font_size": null,
       "text_color": null
      }
     },
     "2dd6e832943c4d098e3c50592ace545c": {
      "model_module": "@jupyter-widgets/base",
      "model_module_version": "2.0.0",
      "model_name": "LayoutModel",
      "state": {
       "flex": "2"
      }
     },
     "2de41242e3a9484fb26170937be5c4ac": {
      "model_module": "@jupyter-widgets/controls",
      "model_module_version": "2.0.0",
      "model_name": "HTMLStyleModel",
      "state": {
       "description_width": "",
       "font_size": null,
       "text_color": null
      }
     },
     "2e47a0ab22124d5d904c9c3b5de38d41": {
      "model_module": "@jupyter-widgets/controls",
      "model_module_version": "2.0.0",
      "model_name": "HTMLStyleModel",
      "state": {
       "description_width": "",
       "font_size": null,
       "text_color": null
      }
     },
     "2e730cb960e94fa0ab9b65e042debd44": {
      "model_module": "@jupyter-widgets/controls",
      "model_module_version": "2.0.0",
      "model_name": "ProgressStyleModel",
      "state": {
       "description_width": ""
      }
     },
     "2eef002cea8a48a5a8f3515edfca18c1": {
      "model_module": "@jupyter-widgets/base",
      "model_module_version": "2.0.0",
      "model_name": "LayoutModel",
      "state": {
       "flex": "2"
      }
     },
     "2f1bab2c574c41d7a4c5ad2e19f11209": {
      "model_module": "@jupyter-widgets/controls",
      "model_module_version": "2.0.0",
      "model_name": "ProgressStyleModel",
      "state": {
       "description_width": ""
      }
     },
     "2fa58b95bcde4af0893b7630b40bd2d0": {
      "model_module": "@jupyter-widgets/base",
      "model_module_version": "2.0.0",
      "model_name": "LayoutModel",
      "state": {}
     },
     "30b9ef8b39424522b58114bf96c2bfef": {
      "model_module": "@jupyter-widgets/base",
      "model_module_version": "2.0.0",
      "model_name": "LayoutModel",
      "state": {
       "display": "inline-flex",
       "flex_flow": "row wrap",
       "width": "100%"
      }
     },
     "30e4c548ca5f464aae27d752a7519b95": {
      "model_module": "@jupyter-widgets/base",
      "model_module_version": "2.0.0",
      "model_name": "LayoutModel",
      "state": {
       "display": "inline-flex",
       "flex_flow": "row wrap",
       "visibility": "hidden",
       "width": "100%"
      }
     },
     "311735b7fb304e9085bbb1145314c2bc": {
      "model_module": "@jupyter-widgets/controls",
      "model_module_version": "2.0.0",
      "model_name": "HTMLStyleModel",
      "state": {
       "description_width": "",
       "font_size": null,
       "text_color": null
      }
     },
     "31491d8b7c694747b806036f752a92fe": {
      "model_module": "@jupyter-widgets/controls",
      "model_module_version": "2.0.0",
      "model_name": "ProgressStyleModel",
      "state": {
       "description_width": ""
      }
     },
     "31b66b79404d459b9c72b1de3a3be81b": {
      "model_module": "@jupyter-widgets/base",
      "model_module_version": "2.0.0",
      "model_name": "LayoutModel",
      "state": {
       "display": "inline-flex",
       "flex_flow": "row wrap",
       "width": "100%"
      }
     },
     "3229d0c4b08d4fb09c8fed089303a535": {
      "model_module": "@jupyter-widgets/base",
      "model_module_version": "2.0.0",
      "model_name": "LayoutModel",
      "state": {}
     },
     "32788e43ae7643e5afc8973481a8a3c1": {
      "model_module": "@jupyter-widgets/controls",
      "model_module_version": "2.0.0",
      "model_name": "FloatProgressModel",
      "state": {
       "layout": "IPY_MODEL_1396be16a8a742fd8913c9afd2d0d1d2",
       "max": 1,
       "style": "IPY_MODEL_a48f05968d5c4d07be444a632a383254",
       "value": 1
      }
     },
     "32ac71e2b75b4d5f80b470366edf0c2d": {
      "model_module": "@jupyter-widgets/controls",
      "model_module_version": "2.0.0",
      "model_name": "HTMLStyleModel",
      "state": {
       "description_width": "",
       "font_size": null,
       "text_color": null
      }
     },
     "32b7dc9e85b94c18b51f7b1f059d56f3": {
      "model_module": "@jupyter-widgets/controls",
      "model_module_version": "2.0.0",
      "model_name": "HTMLStyleModel",
      "state": {
       "description_width": "",
       "font_size": null,
       "text_color": null
      }
     },
     "32bcb92758094a748fd69783c852b837": {
      "model_module": "@jupyter-widgets/controls",
      "model_module_version": "2.0.0",
      "model_name": "HTMLModel",
      "state": {
       "layout": "IPY_MODEL_00638158320846658894380d35df7233",
       "style": "IPY_MODEL_de02a13efbf8403c8776887c4beec1b9",
       "value": "Sanity Checking DataLoader 0: 100%"
      }
     },
     "32c04f93baa443c4bf10355efc2b52b8": {
      "model_module": "@jupyter-widgets/controls",
      "model_module_version": "2.0.0",
      "model_name": "HTMLStyleModel",
      "state": {
       "description_width": "",
       "font_size": null,
       "text_color": null
      }
     },
     "32c0f69ebf50413c9b0da92cd9c13bd5": {
      "model_module": "@jupyter-widgets/controls",
      "model_module_version": "2.0.0",
      "model_name": "HTMLStyleModel",
      "state": {
       "description_width": "",
       "font_size": null,
       "text_color": null
      }
     },
     "32f41026b3b945a3bce96a385f21b6f6": {
      "model_module": "@jupyter-widgets/base",
      "model_module_version": "2.0.0",
      "model_name": "LayoutModel",
      "state": {}
     },
     "331dc67587034ebfa87cfd3ecdaa8432": {
      "model_module": "@jupyter-widgets/base",
      "model_module_version": "2.0.0",
      "model_name": "LayoutModel",
      "state": {}
     },
     "33448fffd89a482ca1222de58e287827": {
      "model_module": "@jupyter-widgets/controls",
      "model_module_version": "2.0.0",
      "model_name": "ProgressStyleModel",
      "state": {
       "description_width": ""
      }
     },
     "335030e8b2ea41749e241f7973b0f092": {
      "model_module": "@jupyter-widgets/base",
      "model_module_version": "2.0.0",
      "model_name": "LayoutModel",
      "state": {
       "display": "inline-flex",
       "flex_flow": "row wrap",
       "visibility": "hidden",
       "width": "100%"
      }
     },
     "3355f75a55984afa88abe7c0591a2c6c": {
      "model_module": "@jupyter-widgets/controls",
      "model_module_version": "2.0.0",
      "model_name": "HTMLStyleModel",
      "state": {
       "description_width": "",
       "font_size": null,
       "text_color": null
      }
     },
     "33766a07e0334b0a9592c58c428a544f": {
      "model_module": "@jupyter-widgets/base",
      "model_module_version": "2.0.0",
      "model_name": "LayoutModel",
      "state": {
       "flex": "2"
      }
     },
     "339503ca41e540e8ada78f9b82456b11": {
      "model_module": "@jupyter-widgets/controls",
      "model_module_version": "2.0.0",
      "model_name": "HTMLModel",
      "state": {
       "layout": "IPY_MODEL_1ab758123c234c759deafab47a386200",
       "style": "IPY_MODEL_1af3bc21b89e4c23a24447d2510f969f",
       "value": "Best trial: 428. Best value: 0.0862222: 100%"
      }
     },
     "33a036b6d27148cf83f71fa8ce76449b": {
      "model_module": "@jupyter-widgets/base",
      "model_module_version": "2.0.0",
      "model_name": "LayoutModel",
      "state": {}
     },
     "33d8c0f70df44d6d8671fde7128cf544": {
      "model_module": "@jupyter-widgets/controls",
      "model_module_version": "2.0.0",
      "model_name": "HTMLModel",
      "state": {
       "layout": "IPY_MODEL_d24f0fc085154530bd7b33e301ec4e9e",
       "style": "IPY_MODEL_1233de829df249acbbdfc2580f68b17e",
       "value": " 1/1 [00:00&lt;00:00, 988.29it/s]"
      }
     },
     "33e0486493df46c381a5e59cee6ae3e4": {
      "model_module": "@jupyter-widgets/controls",
      "model_module_version": "2.0.0",
      "model_name": "HTMLStyleModel",
      "state": {
       "description_width": "",
       "font_size": null,
       "text_color": null
      }
     },
     "33eb3434788f4052a970ef8cad63ed17": {
      "model_module": "@jupyter-widgets/controls",
      "model_module_version": "2.0.0",
      "model_name": "FloatProgressModel",
      "state": {
       "bar_style": "success",
       "layout": "IPY_MODEL_a08678ad65d14e76b33c3560d7263438",
       "max": 1,
       "style": "IPY_MODEL_56c31809cd28426fac0d3c468f5c4228",
       "value": 1
      }
     },
     "33f5a6d2b95e44a3ba76644b3e561f6d": {
      "model_module": "@jupyter-widgets/controls",
      "model_module_version": "2.0.0",
      "model_name": "ProgressStyleModel",
      "state": {
       "description_width": ""
      }
     },
     "3471595da2db4a82a1083f4cf48150bb": {
      "model_module": "@jupyter-widgets/base",
      "model_module_version": "2.0.0",
      "model_name": "LayoutModel",
      "state": {}
     },
     "3491c44daf324adb9e33d3a78b965344": {
      "model_module": "@jupyter-widgets/base",
      "model_module_version": "2.0.0",
      "model_name": "LayoutModel",
      "state": {}
     },
     "3492f1730db74c43a2aefbeb7209bf8f": {
      "model_module": "@jupyter-widgets/base",
      "model_module_version": "2.0.0",
      "model_name": "LayoutModel",
      "state": {
       "display": "inline-flex",
       "flex_flow": "row wrap",
       "width": "100%"
      }
     },
     "349d26ed695a41169ecee9659d2a5c4b": {
      "model_module": "@jupyter-widgets/controls",
      "model_module_version": "2.0.0",
      "model_name": "HTMLStyleModel",
      "state": {
       "description_width": "",
       "font_size": null,
       "text_color": null
      }
     },
     "34bca2676248488db77a62288e033b84": {
      "model_module": "@jupyter-widgets/controls",
      "model_module_version": "2.0.0",
      "model_name": "HTMLStyleModel",
      "state": {
       "description_width": "",
       "font_size": null,
       "text_color": null
      }
     },
     "34bec62c34004d7db26112d1955ab76d": {
      "model_module": "@jupyter-widgets/base",
      "model_module_version": "2.0.0",
      "model_name": "LayoutModel",
      "state": {}
     },
     "34c719f1ba8b419eac74295f905e6c57": {
      "model_module": "@jupyter-widgets/base",
      "model_module_version": "2.0.0",
      "model_name": "LayoutModel",
      "state": {
       "flex": "2"
      }
     },
     "34cee47adaf247af963861f019d71828": {
      "model_module": "@jupyter-widgets/controls",
      "model_module_version": "2.0.0",
      "model_name": "HTMLStyleModel",
      "state": {
       "description_width": "",
       "font_size": null,
       "text_color": null
      }
     },
     "35045ec7784a44ac99f5855ead45dd04": {
      "model_module": "@jupyter-widgets/base",
      "model_module_version": "2.0.0",
      "model_name": "LayoutModel",
      "state": {
       "flex": "2"
      }
     },
     "355e1b943348443f8ed93a97b5ece14b": {
      "model_module": "@jupyter-widgets/base",
      "model_module_version": "2.0.0",
      "model_name": "LayoutModel",
      "state": {
       "flex": "2"
      }
     },
     "3591310d13a441bd8cc721e06e5e6c28": {
      "model_module": "@jupyter-widgets/base",
      "model_module_version": "2.0.0",
      "model_name": "LayoutModel",
      "state": {}
     },
     "3595ce83e46d4862a071dffd5fb636ba": {
      "model_module": "@jupyter-widgets/controls",
      "model_module_version": "2.0.0",
      "model_name": "HTMLStyleModel",
      "state": {
       "description_width": "",
       "font_size": null,
       "text_color": null
      }
     },
     "35dbf51d15764378aab9ba68329c3e50": {
      "model_module": "@jupyter-widgets/controls",
      "model_module_version": "2.0.0",
      "model_name": "HTMLStyleModel",
      "state": {
       "description_width": "",
       "font_size": null,
       "text_color": null
      }
     },
     "3649c680eada436d9110aeb84f42427a": {
      "model_module": "@jupyter-widgets/controls",
      "model_module_version": "2.0.0",
      "model_name": "HTMLModel",
      "state": {
       "layout": "IPY_MODEL_2c53cef6832d4d349f49dd33d99ce8f2",
       "style": "IPY_MODEL_6b6354bb6baf4ea78655ceaa1fb236f0",
       "value": " 1/1 [00:00&lt;00:00, 86.32it/s]"
      }
     },
     "3665134f297b4bbbb231834bbd5c7b48": {
      "model_module": "@jupyter-widgets/base",
      "model_module_version": "2.0.0",
      "model_name": "LayoutModel",
      "state": {}
     },
     "36fc6f2f6fd5403c9309164293446631": {
      "model_module": "@jupyter-widgets/base",
      "model_module_version": "2.0.0",
      "model_name": "LayoutModel",
      "state": {
       "flex": "2"
      }
     },
     "37301fe5d282415795737e0f5aad4383": {
      "model_module": "@jupyter-widgets/controls",
      "model_module_version": "2.0.0",
      "model_name": "HTMLModel",
      "state": {
       "layout": "IPY_MODEL_1e52aab655b44a46b361636c997e1deb",
       "style": "IPY_MODEL_7903f83dc9114274ab1dd196b59890fd",
       "value": "Sanity Checking DataLoader 0: 100%"
      }
     },
     "37abb2ce6c9f4b048ccb0c6a6cfc4d1b": {
      "model_module": "@jupyter-widgets/base",
      "model_module_version": "2.0.0",
      "model_name": "LayoutModel",
      "state": {
       "display": "inline-flex",
       "flex_flow": "row wrap",
       "visibility": "hidden",
       "width": "100%"
      }
     },
     "37d1a8a1adcf453180a64fac29283313": {
      "model_module": "@jupyter-widgets/controls",
      "model_module_version": "2.0.0",
      "model_name": "FloatProgressModel",
      "state": {
       "bar_style": "success",
       "layout": "IPY_MODEL_b4aff1e3384a444e8e69ba3c6c629ebf",
       "max": 1,
       "style": "IPY_MODEL_aee14c731af34fe7ac61321f029e6d4d",
       "value": 1
      }
     },
     "37e434b814a0411b8bb4f4175eb173e8": {
      "model_module": "@jupyter-widgets/controls",
      "model_module_version": "2.0.0",
      "model_name": "HTMLModel",
      "state": {
       "layout": "IPY_MODEL_b4a29ced80674440a93109ea87de3c5e",
       "style": "IPY_MODEL_9eb4a987470242a18bedc3612b93ea6e",
       "value": " 1/1 [00:00&lt;00:00,  7.67it/s]"
      }
     },
     "37eeb13a00234872985c837ff26449d3": {
      "model_module": "@jupyter-widgets/base",
      "model_module_version": "2.0.0",
      "model_name": "LayoutModel",
      "state": {
       "flex": "2"
      }
     },
     "37ff7497f4254decaa1030688d580e1b": {
      "model_module": "@jupyter-widgets/base",
      "model_module_version": "2.0.0",
      "model_name": "LayoutModel",
      "state": {}
     },
     "3816f7f1b16f42f4be4dc2a8ec08d32b": {
      "model_module": "@jupyter-widgets/controls",
      "model_module_version": "2.0.0",
      "model_name": "HTMLModel",
      "state": {
       "layout": "IPY_MODEL_b75849b83b394e58b86f1e8eadc8db09",
       "style": "IPY_MODEL_54f7be9aa35940808c71280df37007d6",
       "value": "Epoch 99: 100%"
      }
     },
     "388520d22afe49f68abe0eb438c9d64a": {
      "model_module": "@jupyter-widgets/base",
      "model_module_version": "2.0.0",
      "model_name": "LayoutModel",
      "state": {
       "flex": "2"
      }
     },
     "38cbb45846e94bc5aa5a890f7cafcbde": {
      "model_module": "@jupyter-widgets/base",
      "model_module_version": "2.0.0",
      "model_name": "LayoutModel",
      "state": {}
     },
     "38e9547d40d840a492802870c450054e": {
      "model_module": "@jupyter-widgets/base",
      "model_module_version": "2.0.0",
      "model_name": "LayoutModel",
      "state": {
       "flex": "2"
      }
     },
     "390b95a12f8840779b6ea4991a051f4e": {
      "model_module": "@jupyter-widgets/base",
      "model_module_version": "2.0.0",
      "model_name": "LayoutModel",
      "state": {
       "display": "inline-flex",
       "flex_flow": "row wrap",
       "width": "100%"
      }
     },
     "3924f19605064ab6902ff6ce2952799d": {
      "model_module": "@jupyter-widgets/controls",
      "model_module_version": "2.0.0",
      "model_name": "FloatProgressModel",
      "state": {
       "layout": "IPY_MODEL_9b005c36df11419794139782cedd62e9",
       "max": 1,
       "style": "IPY_MODEL_98635266a35a4785ad6e3ccc9b765f33",
       "value": 1
      }
     },
     "39aa60a71c2e44b98e7169a861c9734b": {
      "model_module": "@jupyter-widgets/controls",
      "model_module_version": "2.0.0",
      "model_name": "HTMLModel",
      "state": {
       "layout": "IPY_MODEL_d7f3acb58438467dbd3ba04dda5aa183",
       "style": "IPY_MODEL_47911ff4719a4a509d923ebad588026a",
       "value": " 1/1 [00:00&lt;00:00,  8.55it/s, v_num=295, train_loss_step=0.333, train_loss_epoch=0.333, valid_loss=308.0]"
      }
     },
     "39ae6371395546f59a75efbeef80d7fd": {
      "model_module": "@jupyter-widgets/controls",
      "model_module_version": "2.0.0",
      "model_name": "HTMLStyleModel",
      "state": {
       "description_width": "",
       "font_size": null,
       "text_color": null
      }
     },
     "39b18277da55499f8ae312608bf15cd9": {
      "model_module": "@jupyter-widgets/controls",
      "model_module_version": "2.0.0",
      "model_name": "HTMLModel",
      "state": {
       "layout": "IPY_MODEL_23f9ecb5b1204729801757663a3457e2",
       "style": "IPY_MODEL_40be06619ee44bcb8b640b1289a8b8c6",
       "value": " 1/1 [00:00&lt;?, ?it/s]"
      }
     },
     "39beee475ed94f8b829fe357c0783b5f": {
      "model_module": "@jupyter-widgets/controls",
      "model_module_version": "2.0.0",
      "model_name": "HTMLStyleModel",
      "state": {
       "description_width": "",
       "font_size": null,
       "text_color": null
      }
     },
     "39dd23c6eae74448a1b1dbfba73e21d3": {
      "model_module": "@jupyter-widgets/controls",
      "model_module_version": "2.0.0",
      "model_name": "HTMLModel",
      "state": {
       "layout": "IPY_MODEL_61610fb4287a40baa0cdfecba358362c",
       "style": "IPY_MODEL_d3d49c0e10b34dad97b084c93455b144",
       "value": "Predicting DataLoader 0: 100%"
      }
     },
     "3a06977d503046af9a703713c5d13479": {
      "model_module": "@jupyter-widgets/controls",
      "model_module_version": "2.0.0",
      "model_name": "HBoxModel",
      "state": {
       "children": [
        "IPY_MODEL_226cb962a1d54d0a86627306f7f1e108",
        "IPY_MODEL_904d4ae54897441ab0022b36ad325c75",
        "IPY_MODEL_9870c4fbfe2a426681c2849058d903e2"
       ],
       "layout": "IPY_MODEL_6d48f90520ef4ddebf51e0452dd6e50d"
      }
     },
     "3a62611214ba4fd394d5c78c4dff44d9": {
      "model_module": "@jupyter-widgets/controls",
      "model_module_version": "2.0.0",
      "model_name": "HTMLStyleModel",
      "state": {
       "description_width": "",
       "font_size": null,
       "text_color": null
      }
     },
     "3a8ab7b5c644472a80879a26dbffcd62": {
      "model_module": "@jupyter-widgets/base",
      "model_module_version": "2.0.0",
      "model_name": "LayoutModel",
      "state": {}
     },
     "3a9943adf01946209cee0562016b707f": {
      "model_module": "@jupyter-widgets/controls",
      "model_module_version": "2.0.0",
      "model_name": "ProgressStyleModel",
      "state": {
       "description_width": ""
      }
     },
     "3c2078a0e090408a9e9274c3f5d804cc": {
      "model_module": "@jupyter-widgets/controls",
      "model_module_version": "2.0.0",
      "model_name": "HTMLStyleModel",
      "state": {
       "description_width": "",
       "font_size": null,
       "text_color": null
      }
     },
     "3c6c74893ccb4a80b50e5a2e2ade558e": {
      "model_module": "@jupyter-widgets/base",
      "model_module_version": "2.0.0",
      "model_name": "LayoutModel",
      "state": {}
     },
     "3d239d710bad49eaa269e6766a2162f5": {
      "model_module": "@jupyter-widgets/controls",
      "model_module_version": "2.0.0",
      "model_name": "HTMLStyleModel",
      "state": {
       "description_width": "",
       "font_size": null,
       "text_color": null
      }
     },
     "3d51547d76734f9a9df4022c09fc4db1": {
      "model_module": "@jupyter-widgets/base",
      "model_module_version": "2.0.0",
      "model_name": "LayoutModel",
      "state": {
       "flex": "2"
      }
     },
     "3d5b4f425e1b49d88bfa7c711a1240ab": {
      "model_module": "@jupyter-widgets/controls",
      "model_module_version": "2.0.0",
      "model_name": "HTMLStyleModel",
      "state": {
       "description_width": "",
       "font_size": null,
       "text_color": null
      }
     },
     "3d7e57cd954b4f028b7176c35992a09a": {
      "model_module": "@jupyter-widgets/controls",
      "model_module_version": "2.0.0",
      "model_name": "ProgressStyleModel",
      "state": {
       "description_width": ""
      }
     },
     "3d88c500aa364537b5c92319cffd1ac0": {
      "model_module": "@jupyter-widgets/base",
      "model_module_version": "2.0.0",
      "model_name": "LayoutModel",
      "state": {}
     },
     "3d89aed552854edbaf8013712d07647e": {
      "model_module": "@jupyter-widgets/controls",
      "model_module_version": "2.0.0",
      "model_name": "HTMLModel",
      "state": {
       "layout": "IPY_MODEL_b75133fa821f4080bfd1818d16da65a9",
       "style": "IPY_MODEL_19b77b824f544b9182ec47f4b9a9439a",
       "value": "Validation DataLoader 0: 100%"
      }
     },
     "3d9c1710f2524a23bf606e739871bc2c": {
      "model_module": "@jupyter-widgets/controls",
      "model_module_version": "2.0.0",
      "model_name": "HTMLModel",
      "state": {
       "layout": "IPY_MODEL_d74111230f374641b101220ce85ef90f",
       "style": "IPY_MODEL_b3d40f650127490598c942ca2ffe0775",
       "value": " 1/1 [00:00&lt;00:00,  8.73it/s, v_num=281, train_loss_step=1.060, train_loss_epoch=1.060, valid_loss=299.0]"
      }
     },
     "3ddb205e690b4942b06a5a901c347519": {
      "model_module": "@jupyter-widgets/controls",
      "model_module_version": "2.0.0",
      "model_name": "ProgressStyleModel",
      "state": {
       "description_width": ""
      }
     },
     "3ded029c7c3e46d19cfeef39be654d7c": {
      "model_module": "@jupyter-widgets/base",
      "model_module_version": "2.0.0",
      "model_name": "LayoutModel",
      "state": {
       "flex": "2"
      }
     },
     "3df8c9ac7d4a4326b52a76adee1f7976": {
      "model_module": "@jupyter-widgets/controls",
      "model_module_version": "2.0.0",
      "model_name": "FloatProgressModel",
      "state": {
       "bar_style": "success",
       "layout": "IPY_MODEL_9fcc4b47b37340d5881d6edaa055468d",
       "max": 1,
       "style": "IPY_MODEL_eb55a0a01f184d2b85fdd0c370405b2e",
       "value": 1
      }
     },
     "3e01a89a79854742a1b13a1497ffacf5": {
      "model_module": "@jupyter-widgets/base",
      "model_module_version": "2.0.0",
      "model_name": "LayoutModel",
      "state": {}
     },
     "3e77fc9dde3e43cca37532cd896af2fc": {
      "model_module": "@jupyter-widgets/controls",
      "model_module_version": "2.0.0",
      "model_name": "HTMLModel",
      "state": {
       "layout": "IPY_MODEL_7c6a1f621bf0404f9e2f82aefbce7e48",
       "style": "IPY_MODEL_bd300ef5462c468285c9a31b27fd8cb4",
       "value": "Validation DataLoader 0: 100%"
      }
     },
     "3e87c6cab9ec406eb1beeab90d56414d": {
      "model_module": "@jupyter-widgets/base",
      "model_module_version": "2.0.0",
      "model_name": "LayoutModel",
      "state": {}
     },
     "3eb003363ba0439d92664b766cb95896": {
      "model_module": "@jupyter-widgets/controls",
      "model_module_version": "2.0.0",
      "model_name": "ProgressStyleModel",
      "state": {
       "description_width": ""
      }
     },
     "3ece12c1a50449a6b0b2bc5f2062a61a": {
      "model_module": "@jupyter-widgets/controls",
      "model_module_version": "2.0.0",
      "model_name": "HTMLModel",
      "state": {
       "layout": "IPY_MODEL_331dc67587034ebfa87cfd3ecdaa8432",
       "style": "IPY_MODEL_21fd302fd51c40d0a340a562734fe453",
       "value": " 1/1 [00:00&lt;00:00,  5.82it/s]"
      }
     },
     "3f0bdaad4bee4eea890526b2af22ce5f": {
      "model_module": "@jupyter-widgets/base",
      "model_module_version": "2.0.0",
      "model_name": "LayoutModel",
      "state": {}
     },
     "3f165a67f5004de39220e39cf13a482d": {
      "model_module": "@jupyter-widgets/base",
      "model_module_version": "2.0.0",
      "model_name": "LayoutModel",
      "state": {
       "flex": "2"
      }
     },
     "3f7bb95a3515437ab66e8574a8ed6618": {
      "model_module": "@jupyter-widgets/base",
      "model_module_version": "2.0.0",
      "model_name": "LayoutModel",
      "state": {}
     },
     "4013d78baf2745e1989ff1af04e67d42": {
      "model_module": "@jupyter-widgets/base",
      "model_module_version": "2.0.0",
      "model_name": "LayoutModel",
      "state": {}
     },
     "4029c81109bb413094f6d04b13e17564": {
      "model_module": "@jupyter-widgets/controls",
      "model_module_version": "2.0.0",
      "model_name": "ProgressStyleModel",
      "state": {
       "description_width": ""
      }
     },
     "405345e67fd3457a969dc7718dcdff74": {
      "model_module": "@jupyter-widgets/controls",
      "model_module_version": "2.0.0",
      "model_name": "FloatProgressModel",
      "state": {
       "layout": "IPY_MODEL_bc5d2cf244744352adea18c00a0294c5",
       "max": 1,
       "style": "IPY_MODEL_a097f35e185d4fa38acf9d29115b40e4",
       "value": 1
      }
     },
     "406342845b3c42808b1944b21fbbbaba": {
      "model_module": "@jupyter-widgets/controls",
      "model_module_version": "2.0.0",
      "model_name": "FloatProgressModel",
      "state": {
       "layout": "IPY_MODEL_35045ec7784a44ac99f5855ead45dd04",
       "max": 1,
       "style": "IPY_MODEL_75e4d846d4494ce6bd3bab68bc9f2314",
       "value": 1
      }
     },
     "40b5186163564c16bcacca1992ee3503": {
      "model_module": "@jupyter-widgets/controls",
      "model_module_version": "2.0.0",
      "model_name": "HTMLStyleModel",
      "state": {
       "description_width": "",
       "font_size": null,
       "text_color": null
      }
     },
     "40be06619ee44bcb8b640b1289a8b8c6": {
      "model_module": "@jupyter-widgets/controls",
      "model_module_version": "2.0.0",
      "model_name": "HTMLStyleModel",
      "state": {
       "description_width": "",
       "font_size": null,
       "text_color": null
      }
     },
     "4109619234234ed5a9c04ada9d60871b": {
      "model_module": "@jupyter-widgets/controls",
      "model_module_version": "2.0.0",
      "model_name": "HTMLStyleModel",
      "state": {
       "description_width": "",
       "font_size": null,
       "text_color": null
      }
     },
     "4196ff17e8554e758f2980abf019ce2c": {
      "model_module": "@jupyter-widgets/controls",
      "model_module_version": "2.0.0",
      "model_name": "HTMLModel",
      "state": {
       "layout": "IPY_MODEL_f56d2577ef8b4ac1a7a7d4a9a4e3e35b",
       "style": "IPY_MODEL_32b7dc9e85b94c18b51f7b1f059d56f3",
       "value": " 1/1 [00:00&lt;00:00, 14.99it/s, v_num=289, train_loss_step=0.321, train_loss_epoch=0.321, valid_loss=271.0]"
      }
     },
     "41c79e944c914577bd49baa76854ada1": {
      "model_module": "@jupyter-widgets/controls",
      "model_module_version": "2.0.0",
      "model_name": "HBoxModel",
      "state": {
       "children": [
        "IPY_MODEL_1745ae34a02b4b5faabed73a6575d397",
        "IPY_MODEL_61977f38d9ea49899becc99facfdf872",
        "IPY_MODEL_4196ff17e8554e758f2980abf019ce2c"
       ],
       "layout": "IPY_MODEL_87a6f71a424a43dd989d00c6ddafb40c"
      }
     },
     "41ed6c190882477d87ebec20b4f735bb": {
      "model_module": "@jupyter-widgets/controls",
      "model_module_version": "2.0.0",
      "model_name": "HTMLModel",
      "state": {
       "layout": "IPY_MODEL_823ece78103a43f7b73fe7f29bd13d59",
       "style": "IPY_MODEL_f81fe92f810e46de90d728934d045e99",
       "value": " 1/1 [00:00&lt;00:00, 70.65it/s]"
      }
     },
     "4273ae9f2348431f89fcd71d48201b1c": {
      "model_module": "@jupyter-widgets/controls",
      "model_module_version": "2.0.0",
      "model_name": "HTMLStyleModel",
      "state": {
       "description_width": "",
       "font_size": null,
       "text_color": null
      }
     },
     "427c87fa588b4e67ad87111088d176b1": {
      "model_module": "@jupyter-widgets/controls",
      "model_module_version": "2.0.0",
      "model_name": "HTMLStyleModel",
      "state": {
       "description_width": "",
       "font_size": null,
       "text_color": null
      }
     },
     "427cd728a35f411784fee0b5bf7244c4": {
      "model_module": "@jupyter-widgets/base",
      "model_module_version": "2.0.0",
      "model_name": "LayoutModel",
      "state": {
       "flex": "2"
      }
     },
     "42e2d0b551174a0f9ff6ad3017a4cea0": {
      "model_module": "@jupyter-widgets/base",
      "model_module_version": "2.0.0",
      "model_name": "LayoutModel",
      "state": {
       "display": "inline-flex",
       "flex_flow": "row wrap",
       "visibility": "hidden",
       "width": "100%"
      }
     },
     "4324db91e7bd49f8befbb3e3d5368a86": {
      "model_module": "@jupyter-widgets/controls",
      "model_module_version": "2.0.0",
      "model_name": "HTMLStyleModel",
      "state": {
       "description_width": "",
       "font_size": null,
       "text_color": null
      }
     },
     "4333af84cdfb4856a664249f6d626fc8": {
      "model_module": "@jupyter-widgets/controls",
      "model_module_version": "2.0.0",
      "model_name": "HTMLStyleModel",
      "state": {
       "description_width": "",
       "font_size": null,
       "text_color": null
      }
     },
     "436d42cad4f74c60a0620414e5c94a15": {
      "model_module": "@jupyter-widgets/controls",
      "model_module_version": "2.0.0",
      "model_name": "ProgressStyleModel",
      "state": {
       "description_width": ""
      }
     },
     "44043bfbb51b41cba9a2642a0261fd91": {
      "model_module": "@jupyter-widgets/controls",
      "model_module_version": "2.0.0",
      "model_name": "FloatProgressModel",
      "state": {
       "layout": "IPY_MODEL_db1b3242515f4ce98f5e8589b606b501",
       "max": 1,
       "style": "IPY_MODEL_c0ac7b2462634f9cafcc2d619edd92f5",
       "value": 1
      }
     },
     "44086433741245708a2b99b853888e6a": {
      "model_module": "@jupyter-widgets/controls",
      "model_module_version": "2.0.0",
      "model_name": "HTMLStyleModel",
      "state": {
       "description_width": "",
       "font_size": null,
       "text_color": null
      }
     },
     "44205801ea714155aaf29873253f9229": {
      "model_module": "@jupyter-widgets/base",
      "model_module_version": "2.0.0",
      "model_name": "LayoutModel",
      "state": {
       "flex": "2"
      }
     },
     "44222275792f4daa81c1a8b287b38033": {
      "model_module": "@jupyter-widgets/base",
      "model_module_version": "2.0.0",
      "model_name": "LayoutModel",
      "state": {
       "flex": "2"
      }
     },
     "44792f8b904b43e688d3d2ccbe3593e9": {
      "model_module": "@jupyter-widgets/controls",
      "model_module_version": "2.0.0",
      "model_name": "HTMLModel",
      "state": {
       "layout": "IPY_MODEL_4b1adfec3c364b6d931f9c991933e4c0",
       "style": "IPY_MODEL_15e5788777fa4aea8c5f888c40b6670a",
       "value": " 1/1 [00:00&lt;00:00, 108.15it/s]"
      }
     },
     "449403e8836b431dbc163893074af2d2": {
      "model_module": "@jupyter-widgets/controls",
      "model_module_version": "2.0.0",
      "model_name": "HTMLStyleModel",
      "state": {
       "description_width": "",
       "font_size": null,
       "text_color": null
      }
     },
     "44cf46dcf87741958981208ef4a6c5cf": {
      "model_module": "@jupyter-widgets/base",
      "model_module_version": "2.0.0",
      "model_name": "LayoutModel",
      "state": {}
     },
     "44d6b09bd7814944b7b61465a8145da0": {
      "model_module": "@jupyter-widgets/base",
      "model_module_version": "2.0.0",
      "model_name": "LayoutModel",
      "state": {}
     },
     "44f0012b46bf42918db2d0bd85aff875": {
      "model_module": "@jupyter-widgets/base",
      "model_module_version": "2.0.0",
      "model_name": "LayoutModel",
      "state": {
       "display": "inline-flex",
       "flex_flow": "row wrap",
       "width": "100%"
      }
     },
     "4500e009931e4d56a10cb10b353fc39c": {
      "model_module": "@jupyter-widgets/controls",
      "model_module_version": "2.0.0",
      "model_name": "HTMLStyleModel",
      "state": {
       "description_width": "",
       "font_size": null,
       "text_color": null
      }
     },
     "450ab4bbdc5940989606c5e0851d62eb": {
      "model_module": "@jupyter-widgets/controls",
      "model_module_version": "2.0.0",
      "model_name": "HTMLModel",
      "state": {
       "layout": "IPY_MODEL_17b231c481754681acc104223db61f7d",
       "style": "IPY_MODEL_87d7f232fa95418cb5f8ebbd257235b0",
       "value": "Validation DataLoader 0: 100%"
      }
     },
     "45213a38f94943ef9cd634f2557c8747": {
      "model_module": "@jupyter-widgets/controls",
      "model_module_version": "2.0.0",
      "model_name": "HTMLModel",
      "state": {
       "layout": "IPY_MODEL_1b1d4fb6dd904377b0c91d354c44dffa",
       "style": "IPY_MODEL_4afe630c20fe4b87b591d04ded239703",
       "value": " 1/1 [00:00&lt;00:00, 54.45it/s]"
      }
     },
     "462fd826931c481abd0a33219e8a5cca": {
      "model_module": "@jupyter-widgets/controls",
      "model_module_version": "2.0.0",
      "model_name": "HTMLStyleModel",
      "state": {
       "description_width": "",
       "font_size": null,
       "text_color": null
      }
     },
     "468bf9fd6c614008b704b77b98710ee1": {
      "model_module": "@jupyter-widgets/controls",
      "model_module_version": "2.0.0",
      "model_name": "HTMLModel",
      "state": {
       "layout": "IPY_MODEL_8d30d311c9ba43789d6035cbea24b95f",
       "style": "IPY_MODEL_76cb76b8a6b14311abe698ba0c391b64",
       "value": " 1/1 [00:00&lt;00:00, 23.86it/s]"
      }
     },
     "46d7f930fe4444e188c435fe198c1b75": {
      "model_module": "@jupyter-widgets/controls",
      "model_module_version": "2.0.0",
      "model_name": "ProgressStyleModel",
      "state": {
       "description_width": ""
      }
     },
     "47358e162425436bb758c2afb90caa9b": {
      "model_module": "@jupyter-widgets/base",
      "model_module_version": "2.0.0",
      "model_name": "LayoutModel",
      "state": {}
     },
     "4743098c00274f12a7db44683c35a35a": {
      "model_module": "@jupyter-widgets/base",
      "model_module_version": "2.0.0",
      "model_name": "LayoutModel",
      "state": {
       "flex": "2"
      }
     },
     "476ce1c6222b4752ac9a97b14c377af4": {
      "model_module": "@jupyter-widgets/controls",
      "model_module_version": "2.0.0",
      "model_name": "FloatProgressModel",
      "state": {
       "layout": "IPY_MODEL_b143f69e9fa44d1cae019aee0d8c206a",
       "max": 1,
       "style": "IPY_MODEL_436d42cad4f74c60a0620414e5c94a15",
       "value": 1
      }
     },
     "47911ff4719a4a509d923ebad588026a": {
      "model_module": "@jupyter-widgets/controls",
      "model_module_version": "2.0.0",
      "model_name": "HTMLStyleModel",
      "state": {
       "description_width": "",
       "font_size": null,
       "text_color": null
      }
     },
     "482fe342ccc04869b1d94a57ac2e7195": {
      "model_module": "@jupyter-widgets/base",
      "model_module_version": "2.0.0",
      "model_name": "LayoutModel",
      "state": {}
     },
     "486b685aed654889a2e524ba55abfef1": {
      "model_module": "@jupyter-widgets/controls",
      "model_module_version": "2.0.0",
      "model_name": "HTMLStyleModel",
      "state": {
       "description_width": "",
       "font_size": null,
       "text_color": null
      }
     },
     "48eaded1fadd4c199f161619cf460251": {
      "model_module": "@jupyter-widgets/controls",
      "model_module_version": "2.0.0",
      "model_name": "HBoxModel",
      "state": {
       "children": [
        "IPY_MODEL_11e88c3a91624d7393192a6a883388af",
        "IPY_MODEL_273dd6f02bc642beb3bf76542328716a",
        "IPY_MODEL_944e79ab10ab46859ccc0757fbe5e13d"
       ],
       "layout": "IPY_MODEL_5d73ee1c9c55401fab84fb7b359f5662"
      }
     },
     "490294e8b7c441a8904b9742f86b49e7": {
      "model_module": "@jupyter-widgets/base",
      "model_module_version": "2.0.0",
      "model_name": "LayoutModel",
      "state": {}
     },
     "49f6ade3a5b74b06ac7c52a613068874": {
      "model_module": "@jupyter-widgets/base",
      "model_module_version": "2.0.0",
      "model_name": "LayoutModel",
      "state": {
       "display": "inline-flex",
       "flex_flow": "row wrap",
       "width": "100%"
      }
     },
     "4a065d8d9c204b9893883a12d1f1d6db": {
      "model_module": "@jupyter-widgets/controls",
      "model_module_version": "2.0.0",
      "model_name": "HTMLStyleModel",
      "state": {
       "description_width": "",
       "font_size": null,
       "text_color": null
      }
     },
     "4a0bb66bd57a4b9785685553c3afc138": {
      "model_module": "@jupyter-widgets/controls",
      "model_module_version": "2.0.0",
      "model_name": "HTMLStyleModel",
      "state": {
       "description_width": "",
       "font_size": null,
       "text_color": null
      }
     },
     "4afe630c20fe4b87b591d04ded239703": {
      "model_module": "@jupyter-widgets/controls",
      "model_module_version": "2.0.0",
      "model_name": "HTMLStyleModel",
      "state": {
       "description_width": "",
       "font_size": null,
       "text_color": null
      }
     },
     "4b0811d2da7943eab37fafa638519b31": {
      "model_module": "@jupyter-widgets/controls",
      "model_module_version": "2.0.0",
      "model_name": "HTMLStyleModel",
      "state": {
       "description_width": "",
       "font_size": null,
       "text_color": null
      }
     },
     "4b1adfec3c364b6d931f9c991933e4c0": {
      "model_module": "@jupyter-widgets/base",
      "model_module_version": "2.0.0",
      "model_name": "LayoutModel",
      "state": {}
     },
     "4b574a0e450743ee814492a16573b187": {
      "model_module": "@jupyter-widgets/controls",
      "model_module_version": "2.0.0",
      "model_name": "FloatProgressModel",
      "state": {
       "layout": "IPY_MODEL_ddeb7983155b402ba3ebd2422c446369",
       "max": 1,
       "style": "IPY_MODEL_fec021a334404222b6d9b05d1dd1746a",
       "value": 1
      }
     },
     "4b8ea6c7563441f88da121166448b2eb": {
      "model_module": "@jupyter-widgets/controls",
      "model_module_version": "2.0.0",
      "model_name": "FloatProgressModel",
      "state": {
       "layout": "IPY_MODEL_8b2194b36e934a299cadd0edb6349a57",
       "max": 1,
       "style": "IPY_MODEL_8b058d2b43ef478db8611fa91365b88e",
       "value": 1
      }
     },
     "4bae0f74a0bc43afa0ecdbe58807a5cc": {
      "model_module": "@jupyter-widgets/base",
      "model_module_version": "2.0.0",
      "model_name": "LayoutModel",
      "state": {
       "flex": "2"
      }
     },
     "4bbebcf5edf749ba9b4bc2a818267b9b": {
      "model_module": "@jupyter-widgets/base",
      "model_module_version": "2.0.0",
      "model_name": "LayoutModel",
      "state": {}
     },
     "4becf41b22c046c6b479c1a5a7274161": {
      "model_module": "@jupyter-widgets/base",
      "model_module_version": "2.0.0",
      "model_name": "LayoutModel",
      "state": {
       "flex": "2"
      }
     },
     "4c1505adc41e46c7b44a7c9b60fa81db": {
      "model_module": "@jupyter-widgets/controls",
      "model_module_version": "2.0.0",
      "model_name": "HTMLModel",
      "state": {
       "layout": "IPY_MODEL_649f34c722b14a3b862bfd2602f414fa",
       "style": "IPY_MODEL_3c2078a0e090408a9e9274c3f5d804cc",
       "value": " 1/1 [00:00&lt;00:00,  3.76it/s, train_loss_step=0.000, train_loss_epoch=0.000]"
      }
     },
     "4c2649bb7fac4449a561f6c3fbd64aa7": {
      "model_module": "@jupyter-widgets/base",
      "model_module_version": "2.0.0",
      "model_name": "LayoutModel",
      "state": {}
     },
     "4c7434607f6b429e8c2613d1a715702c": {
      "model_module": "@jupyter-widgets/controls",
      "model_module_version": "2.0.0",
      "model_name": "HTMLModel",
      "state": {
       "layout": "IPY_MODEL_aeac7db0ab0d48df9abb552d7e9e8598",
       "style": "IPY_MODEL_51c0aab66b5645abbae1eb4a87d73371",
       "value": " 1/1 [00:00&lt;00:00, 83.92it/s]"
      }
     },
     "4c743d2b41c4452eb84f35373624d314": {
      "model_module": "@jupyter-widgets/controls",
      "model_module_version": "2.0.0",
      "model_name": "HTMLStyleModel",
      "state": {
       "description_width": "",
       "font_size": null,
       "text_color": null
      }
     },
     "4cb38461a866429190534106ac57ba99": {
      "model_module": "@jupyter-widgets/controls",
      "model_module_version": "2.0.0",
      "model_name": "HTMLStyleModel",
      "state": {
       "description_width": "",
       "font_size": null,
       "text_color": null
      }
     },
     "4cb82bbe89f84e23b60e6921186aa5bc": {
      "model_module": "@jupyter-widgets/base",
      "model_module_version": "2.0.0",
      "model_name": "LayoutModel",
      "state": {}
     },
     "4d423607ddc24c6db7e04e60c464ce51": {
      "model_module": "@jupyter-widgets/controls",
      "model_module_version": "2.0.0",
      "model_name": "FloatProgressModel",
      "state": {
       "layout": "IPY_MODEL_6481e15309f94f93a8b9059fa31cb3bd",
       "max": 1,
       "style": "IPY_MODEL_b17ac1c45e1141a1b7f7877dab185981",
       "value": 1
      }
     },
     "4d5d77bbe4b24df385f1af48c456b781": {
      "model_module": "@jupyter-widgets/base",
      "model_module_version": "2.0.0",
      "model_name": "LayoutModel",
      "state": {
       "display": "inline-flex",
       "flex_flow": "row wrap",
       "visibility": "hidden",
       "width": "100%"
      }
     },
     "4e4f230451cf44a5baf5cee78c223d51": {
      "model_module": "@jupyter-widgets/base",
      "model_module_version": "2.0.0",
      "model_name": "LayoutModel",
      "state": {
       "flex": "2"
      }
     },
     "4ec6678369b64f6b9be3133f2797d858": {
      "model_module": "@jupyter-widgets/controls",
      "model_module_version": "2.0.0",
      "model_name": "HBoxModel",
      "state": {
       "children": [
        "IPY_MODEL_81b83c76dd194dc1ac53dda37e587da2",
        "IPY_MODEL_0503c6a2edb548139cd1b6f1824cabda",
        "IPY_MODEL_d77d744b6f2841e495f1bfc018fe4581"
       ],
       "layout": "IPY_MODEL_e48c7f7588604c8ba7cd02f63015c8f2"
      }
     },
     "4ee68e43ba3f4d01b3fcf096b1be8a77": {
      "model_module": "@jupyter-widgets/base",
      "model_module_version": "2.0.0",
      "model_name": "LayoutModel",
      "state": {
       "display": "inline-flex",
       "flex_flow": "row wrap",
       "visibility": "hidden",
       "width": "100%"
      }
     },
     "4f4ce4b773cb4db4b8a22dcfef42e02a": {
      "model_module": "@jupyter-widgets/base",
      "model_module_version": "2.0.0",
      "model_name": "LayoutModel",
      "state": {}
     },
     "4f6036eef20546bd8809eb2e95dbf650": {
      "model_module": "@jupyter-widgets/controls",
      "model_module_version": "2.0.0",
      "model_name": "HTMLStyleModel",
      "state": {
       "description_width": "",
       "font_size": null,
       "text_color": null
      }
     },
     "4f69df92b3544226811cb2761dab7d34": {
      "model_module": "@jupyter-widgets/controls",
      "model_module_version": "2.0.0",
      "model_name": "HBoxModel",
      "state": {
       "children": [
        "IPY_MODEL_da28cde516e841f38fa6fa6dc01425c1",
        "IPY_MODEL_fe620623dfbb4e5c96bd472effe10a53",
        "IPY_MODEL_77b746b08bbf4a92bfcd13af0bd307ec"
       ],
       "layout": "IPY_MODEL_fc0afbc6c5d042f69fb1483f411f2349"
      }
     },
     "4f7377ac0015487290bd9efdb946cf2a": {
      "model_module": "@jupyter-widgets/base",
      "model_module_version": "2.0.0",
      "model_name": "LayoutModel",
      "state": {
       "flex": "2"
      }
     },
     "4fa30507b87245f18a2ea987890a9a13": {
      "model_module": "@jupyter-widgets/base",
      "model_module_version": "2.0.0",
      "model_name": "LayoutModel",
      "state": {}
     },
     "5007b86ec68243d88067f62542b9321d": {
      "model_module": "@jupyter-widgets/controls",
      "model_module_version": "2.0.0",
      "model_name": "HTMLStyleModel",
      "state": {
       "description_width": "",
       "font_size": null,
       "text_color": null
      }
     },
     "5028032cdbbd4b0fa348c0a3cb56a467": {
      "model_module": "@jupyter-widgets/controls",
      "model_module_version": "2.0.0",
      "model_name": "FloatProgressModel",
      "state": {
       "layout": "IPY_MODEL_4743098c00274f12a7db44683c35a35a",
       "max": 1,
       "style": "IPY_MODEL_e5e2b9a5009f47d9b797978f9b1e5c7b",
       "value": 1
      }
     },
     "50283c2c420d44d79b861a89ebc8e947": {
      "model_module": "@jupyter-widgets/controls",
      "model_module_version": "2.0.0",
      "model_name": "HTMLModel",
      "state": {
       "layout": "IPY_MODEL_68dab598009143999e85ee3e0aab7cbb",
       "style": "IPY_MODEL_fa5ae2d72e854eb39a80244159cf971a",
       "value": " 1/1 [00:00&lt;00:00, 12.73it/s]"
      }
     },
     "5032bfec2b82446b86e23052c75f6558": {
      "model_module": "@jupyter-widgets/controls",
      "model_module_version": "2.0.0",
      "model_name": "HBoxModel",
      "state": {
       "children": [
        "IPY_MODEL_a7818934eea049a39064e775f224b5c1",
        "IPY_MODEL_904417c9f7f54dbeab4d315f47e12978",
        "IPY_MODEL_1e0cbae8ce1841ce90afde9cf4802f11"
       ],
       "layout": "IPY_MODEL_9c6617ecdc7a46c49c5e6a4af8ec0a8e"
      }
     },
     "50331d8478fb4e32a45658e9fa00892c": {
      "model_module": "@jupyter-widgets/controls",
      "model_module_version": "2.0.0",
      "model_name": "FloatProgressModel",
      "state": {
       "layout": "IPY_MODEL_3f165a67f5004de39220e39cf13a482d",
       "max": 1,
       "style": "IPY_MODEL_d48698b9dd554c09acd23fba6daa2382",
       "value": 1
      }
     },
     "50aef5e8bf0b468f8871b4f18f5d96e1": {
      "model_module": "@jupyter-widgets/base",
      "model_module_version": "2.0.0",
      "model_name": "LayoutModel",
      "state": {}
     },
     "50f2312ba45a4fce860ec1e22161715d": {
      "model_module": "@jupyter-widgets/controls",
      "model_module_version": "2.0.0",
      "model_name": "FloatProgressModel",
      "state": {
       "layout": "IPY_MODEL_6cc5205ccfb640a088a0b0250537d274",
       "max": 1,
       "style": "IPY_MODEL_8c622f58117045c8acffca6942934a8f",
       "value": 1
      }
     },
     "510c65fe7bc849e2849b75d1b627bb50": {
      "model_module": "@jupyter-widgets/base",
      "model_module_version": "2.0.0",
      "model_name": "LayoutModel",
      "state": {
       "flex": "2"
      }
     },
     "512cf8bd05f44b578346c843e5986d9b": {
      "model_module": "@jupyter-widgets/base",
      "model_module_version": "2.0.0",
      "model_name": "LayoutModel",
      "state": {}
     },
     "514a89cfa9a4459f8d4d75bb722b2ff1": {
      "model_module": "@jupyter-widgets/base",
      "model_module_version": "2.0.0",
      "model_name": "LayoutModel",
      "state": {}
     },
     "51c0aab66b5645abbae1eb4a87d73371": {
      "model_module": "@jupyter-widgets/controls",
      "model_module_version": "2.0.0",
      "model_name": "HTMLStyleModel",
      "state": {
       "description_width": "",
       "font_size": null,
       "text_color": null
      }
     },
     "51c4b06c664847d69be463a5a4764a53": {
      "model_module": "@jupyter-widgets/controls",
      "model_module_version": "2.0.0",
      "model_name": "HTMLStyleModel",
      "state": {
       "description_width": "",
       "font_size": null,
       "text_color": null
      }
     },
     "51cc561570af40719a212ef0b8df20a8": {
      "model_module": "@jupyter-widgets/base",
      "model_module_version": "2.0.0",
      "model_name": "LayoutModel",
      "state": {}
     },
     "51d7df92f40d404e915633252ba61f9e": {
      "model_module": "@jupyter-widgets/controls",
      "model_module_version": "2.0.0",
      "model_name": "HTMLStyleModel",
      "state": {
       "description_width": "",
       "font_size": null,
       "text_color": null
      }
     },
     "520e2325560244a1bb300693e0752582": {
      "model_module": "@jupyter-widgets/controls",
      "model_module_version": "2.0.0",
      "model_name": "HTMLModel",
      "state": {
       "layout": "IPY_MODEL_3f0bdaad4bee4eea890526b2af22ce5f",
       "style": "IPY_MODEL_449403e8836b431dbc163893074af2d2",
       "value": "Sanity Checking DataLoader 0: 100%"
      }
     },
     "5228c31e7aa243659a15a1c9944cc57a": {
      "model_module": "@jupyter-widgets/base",
      "model_module_version": "2.0.0",
      "model_name": "LayoutModel",
      "state": {
       "flex": "2"
      }
     },
     "5273fbf20cd9463cb1f04bf351025ffd": {
      "model_module": "@jupyter-widgets/controls",
      "model_module_version": "2.0.0",
      "model_name": "FloatProgressModel",
      "state": {
       "bar_style": "success",
       "layout": "IPY_MODEL_5ffae714e694430b90bae20266c544e8",
       "max": 1,
       "style": "IPY_MODEL_af3900a6e96e41fda24f168c967dd22b",
       "value": 1
      }
     },
     "528664ee621f4943bff2b3fd09d5a06e": {
      "model_module": "@jupyter-widgets/controls",
      "model_module_version": "2.0.0",
      "model_name": "HTMLModel",
      "state": {
       "layout": "IPY_MODEL_c77c5c48d6f74fbf9cc5dc556610f877",
       "style": "IPY_MODEL_c96e971ccfeb43a088e7896ce0f7acd9",
       "value": " 1/1 [00:00&lt;00:00,  5.76it/s]"
      }
     },
     "52a31092b03246588e7dc48789d2a8ce": {
      "model_module": "@jupyter-widgets/base",
      "model_module_version": "2.0.0",
      "model_name": "LayoutModel",
      "state": {}
     },
     "52f16ae6709947a7b01c8ea1bd308c85": {
      "model_module": "@jupyter-widgets/base",
      "model_module_version": "2.0.0",
      "model_name": "LayoutModel",
      "state": {}
     },
     "53fd63d101174720b7168fc4b09d1f81": {
      "model_module": "@jupyter-widgets/base",
      "model_module_version": "2.0.0",
      "model_name": "LayoutModel",
      "state": {
       "flex": "2"
      }
     },
     "54881b9758c745ab8f5970bf6d982ef4": {
      "model_module": "@jupyter-widgets/controls",
      "model_module_version": "2.0.0",
      "model_name": "HTMLModel",
      "state": {
       "layout": "IPY_MODEL_d7f20e1bd36f47f0be0494044333bf39",
       "style": "IPY_MODEL_4109619234234ed5a9c04ada9d60871b",
       "value": " 1/1 [00:00&lt;00:00, 17.12it/s, v_num=298, train_loss_step=0.327, train_loss_epoch=0.327, valid_loss=251.0]"
      }
     },
     "54d4f1f6a0cc4e0db082bc3034c1eb92": {
      "model_module": "@jupyter-widgets/controls",
      "model_module_version": "2.0.0",
      "model_name": "HTMLStyleModel",
      "state": {
       "description_width": "",
       "font_size": null,
       "text_color": null
      }
     },
     "54f7be9aa35940808c71280df37007d6": {
      "model_module": "@jupyter-widgets/controls",
      "model_module_version": "2.0.0",
      "model_name": "HTMLStyleModel",
      "state": {
       "description_width": "",
       "font_size": null,
       "text_color": null
      }
     },
     "551c618eacc5407196ba5fd9aa7d9c72": {
      "model_module": "@jupyter-widgets/controls",
      "model_module_version": "2.0.0",
      "model_name": "FloatProgressModel",
      "state": {
       "layout": "IPY_MODEL_7d34e22461d54d8d893ea5d724b57b3d",
       "max": 1,
       "style": "IPY_MODEL_1c8f0f2f31ff4dda86bb3aa26487a579",
       "value": 1
      }
     },
     "5601efd7b4764a4ea95f6e4feca2a4d2": {
      "model_module": "@jupyter-widgets/controls",
      "model_module_version": "2.0.0",
      "model_name": "HTMLModel",
      "state": {
       "layout": "IPY_MODEL_44cf46dcf87741958981208ef4a6c5cf",
       "style": "IPY_MODEL_6f973a89609842b98f4c719ecfacc379",
       "value": "Sanity Checking DataLoader 0: 100%"
      }
     },
     "56083ae62193402b9553e1620f0792e9": {
      "model_module": "@jupyter-widgets/base",
      "model_module_version": "2.0.0",
      "model_name": "LayoutModel",
      "state": {
       "flex": "2"
      }
     },
     "5625be6f21e84c03b863cc39cee2ab56": {
      "model_module": "@jupyter-widgets/base",
      "model_module_version": "2.0.0",
      "model_name": "LayoutModel",
      "state": {}
     },
     "563d1055888c4199a8b103434ed7de63": {
      "model_module": "@jupyter-widgets/base",
      "model_module_version": "2.0.0",
      "model_name": "LayoutModel",
      "state": {
       "flex": "2"
      }
     },
     "5657ebc22cde4709b9d82cc0c8c9ce6c": {
      "model_module": "@jupyter-widgets/controls",
      "model_module_version": "2.0.0",
      "model_name": "FloatProgressModel",
      "state": {
       "layout": "IPY_MODEL_d00ff08752394d86a76bdac78613ca23",
       "max": 1,
       "style": "IPY_MODEL_19f5a6c605ff4bdaa9819b369a63ee18",
       "value": 1
      }
     },
     "56819cf83767474c869f522558567477": {
      "model_module": "@jupyter-widgets/controls",
      "model_module_version": "2.0.0",
      "model_name": "HTMLStyleModel",
      "state": {
       "description_width": "",
       "font_size": null,
       "text_color": null
      }
     },
     "56a8543338fc478cb7f5c5e7dabb9025": {
      "model_module": "@jupyter-widgets/controls",
      "model_module_version": "2.0.0",
      "model_name": "HTMLModel",
      "state": {
       "layout": "IPY_MODEL_3471595da2db4a82a1083f4cf48150bb",
       "style": "IPY_MODEL_f624e4bb49bc4e24a623c6e778f0fd45",
       "value": "Validation DataLoader 0: 100%"
      }
     },
     "56b0aa690b4f4b9ea2d55a78641bc0d2": {
      "model_module": "@jupyter-widgets/controls",
      "model_module_version": "2.0.0",
      "model_name": "HTMLStyleModel",
      "state": {
       "description_width": "",
       "font_size": null,
       "text_color": null
      }
     },
     "56c31809cd28426fac0d3c468f5c4228": {
      "model_module": "@jupyter-widgets/controls",
      "model_module_version": "2.0.0",
      "model_name": "ProgressStyleModel",
      "state": {
       "description_width": ""
      }
     },
     "56e44d8d22df480a802cb09d776e7202": {
      "model_module": "@jupyter-widgets/controls",
      "model_module_version": "2.0.0",
      "model_name": "HTMLStyleModel",
      "state": {
       "description_width": "",
       "font_size": null,
       "text_color": null
      }
     },
     "571bcc1232cf446c9bb516b667cf24a5": {
      "model_module": "@jupyter-widgets/controls",
      "model_module_version": "2.0.0",
      "model_name": "HTMLStyleModel",
      "state": {
       "description_width": "",
       "font_size": null,
       "text_color": null
      }
     },
     "5734dccefd9d4dc397b0869f1361416a": {
      "model_module": "@jupyter-widgets/controls",
      "model_module_version": "2.0.0",
      "model_name": "HTMLStyleModel",
      "state": {
       "description_width": "",
       "font_size": null,
       "text_color": null
      }
     },
     "57800ef06691478191989890fed9862b": {
      "model_module": "@jupyter-widgets/controls",
      "model_module_version": "2.0.0",
      "model_name": "FloatProgressModel",
      "state": {
       "bar_style": "success",
       "layout": "IPY_MODEL_427cd728a35f411784fee0b5bf7244c4",
       "max": 1,
       "style": "IPY_MODEL_13d8acbce0304899abc8723962b0330c",
       "value": 1
      }
     },
     "5863c50dd7a247cd82f66c72f912f705": {
      "model_module": "@jupyter-widgets/base",
      "model_module_version": "2.0.0",
      "model_name": "LayoutModel",
      "state": {
       "flex": "2"
      }
     },
     "5882c21c7a2d4f1fb0f7edf24aeb5a5d": {
      "model_module": "@jupyter-widgets/base",
      "model_module_version": "2.0.0",
      "model_name": "LayoutModel",
      "state": {}
     },
     "58fd902cc808455099172f35263c1172": {
      "model_module": "@jupyter-widgets/controls",
      "model_module_version": "2.0.0",
      "model_name": "ProgressStyleModel",
      "state": {
       "description_width": ""
      }
     },
     "590003e01b534994abb158a0c7b0ea50": {
      "model_module": "@jupyter-widgets/base",
      "model_module_version": "2.0.0",
      "model_name": "LayoutModel",
      "state": {}
     },
     "5932b607fd73494097912f09b802379a": {
      "model_module": "@jupyter-widgets/controls",
      "model_module_version": "2.0.0",
      "model_name": "HTMLModel",
      "state": {
       "layout": "IPY_MODEL_1b8bd3d0d11f4d08b5378cb7202d96d5",
       "style": "IPY_MODEL_32c04f93baa443c4bf10355efc2b52b8",
       "value": "Validation DataLoader 0: 100%"
      }
     },
     "5967e275fc2a4269be00d2781606f0eb": {
      "model_module": "@jupyter-widgets/controls",
      "model_module_version": "2.0.0",
      "model_name": "HTMLModel",
      "state": {
       "layout": "IPY_MODEL_66feda9f606e474da1cf098e02195340",
       "style": "IPY_MODEL_6b56620703ed4447a3a0a1d2fcc69203",
       "value": " 1/1 [00:00&lt;00:00, 13.42it/s]"
      }
     },
     "5978dc7d52494934914fd02ee79d1951": {
      "model_module": "@jupyter-widgets/base",
      "model_module_version": "2.0.0",
      "model_name": "LayoutModel",
      "state": {
       "display": "inline-flex",
       "flex_flow": "row wrap",
       "visibility": "hidden",
       "width": "100%"
      }
     },
     "59c3e6c34250476a8c475b2c6991db15": {
      "model_module": "@jupyter-widgets/controls",
      "model_module_version": "2.0.0",
      "model_name": "ProgressStyleModel",
      "state": {
       "description_width": ""
      }
     },
     "59ff1e876b444e8ca6e4dd406e6ac89d": {
      "model_module": "@jupyter-widgets/controls",
      "model_module_version": "2.0.0",
      "model_name": "FloatProgressModel",
      "state": {
       "layout": "IPY_MODEL_e166dbaa3613468b9734b2d9963d77f4",
       "max": 1,
       "style": "IPY_MODEL_7a2717a6c88f49b7b3c015917eaf9f4e",
       "value": 1
      }
     },
     "5a1d3ee78a6743ea91021aeef8f5187b": {
      "model_module": "@jupyter-widgets/base",
      "model_module_version": "2.0.0",
      "model_name": "LayoutModel",
      "state": {}
     },
     "5a31bfc5f3f3456c9beff5fb817bf3d0": {
      "model_module": "@jupyter-widgets/controls",
      "model_module_version": "2.0.0",
      "model_name": "FloatProgressModel",
      "state": {
       "layout": "IPY_MODEL_9643419a89b145ee94102111274ca28b",
       "max": 1,
       "style": "IPY_MODEL_762a133e72074b58bc5fd03347d371a6",
       "value": 1
      }
     },
     "5a5243516e03478690df9f436383071d": {
      "model_module": "@jupyter-widgets/controls",
      "model_module_version": "2.0.0",
      "model_name": "HTMLStyleModel",
      "state": {
       "description_width": "",
       "font_size": null,
       "text_color": null
      }
     },
     "5abe77bd59d6432ba840539f530aed97": {
      "model_module": "@jupyter-widgets/base",
      "model_module_version": "2.0.0",
      "model_name": "LayoutModel",
      "state": {}
     },
     "5b1991d348a145ec8b3e55370d842c4d": {
      "model_module": "@jupyter-widgets/base",
      "model_module_version": "2.0.0",
      "model_name": "LayoutModel",
      "state": {}
     },
     "5b4ee7a3bb1a4f9598ac7c6efac25ced": {
      "model_module": "@jupyter-widgets/controls",
      "model_module_version": "2.0.0",
      "model_name": "FloatProgressModel",
      "state": {
       "layout": "IPY_MODEL_bcf28afbc6dc490da2743964056e7eed",
       "max": 1,
       "style": "IPY_MODEL_fd1340ecd0224f5c9aa2785d6ea177d3",
       "value": 1
      }
     },
     "5bc783d8374f4de684d8fdcfc1c80b71": {
      "model_module": "@jupyter-widgets/controls",
      "model_module_version": "2.0.0",
      "model_name": "ProgressStyleModel",
      "state": {
       "description_width": ""
      }
     },
     "5be7f65f83f1447aa940503adaa26564": {
      "model_module": "@jupyter-widgets/base",
      "model_module_version": "2.0.0",
      "model_name": "LayoutModel",
      "state": {
       "flex": "2"
      }
     },
     "5c241d340aee43318e894df01c56adb1": {
      "model_module": "@jupyter-widgets/controls",
      "model_module_version": "2.0.0",
      "model_name": "HTMLModel",
      "state": {
       "layout": "IPY_MODEL_5abe77bd59d6432ba840539f530aed97",
       "style": "IPY_MODEL_dcc7101649bf42d3b1f25d7d0e66e006",
       "value": "Epoch 99: 100%"
      }
     },
     "5c93047fe6804d659a164c9b19a544a8": {
      "model_module": "@jupyter-widgets/controls",
      "model_module_version": "2.0.0",
      "model_name": "HTMLStyleModel",
      "state": {
       "description_width": "",
       "font_size": null,
       "text_color": null
      }
     },
     "5cdb618205374a869edf9d81b9b485fc": {
      "model_module": "@jupyter-widgets/base",
      "model_module_version": "2.0.0",
      "model_name": "LayoutModel",
      "state": {}
     },
     "5cfe1cd22cb4492bbd7801648b946600": {
      "model_module": "@jupyter-widgets/base",
      "model_module_version": "2.0.0",
      "model_name": "LayoutModel",
      "state": {}
     },
     "5d0deece9c9e431fbe88e5b6966a402b": {
      "model_module": "@jupyter-widgets/controls",
      "model_module_version": "2.0.0",
      "model_name": "HTMLStyleModel",
      "state": {
       "description_width": "",
       "font_size": null,
       "text_color": null
      }
     },
     "5d10e62ec94147e2a7c1fb1ce89256ac": {
      "model_module": "@jupyter-widgets/base",
      "model_module_version": "2.0.0",
      "model_name": "LayoutModel",
      "state": {}
     },
     "5d304f67717f497891f50ae8fa9211a1": {
      "model_module": "@jupyter-widgets/controls",
      "model_module_version": "2.0.0",
      "model_name": "HBoxModel",
      "state": {
       "children": [
        "IPY_MODEL_2162f7cb79d64d7bbdc234a1a01951b9",
        "IPY_MODEL_725ea913bd9b4a418021863d7b6fb321",
        "IPY_MODEL_b7d9657d91444e6a82f4a28b2d1a4e42"
       ],
       "layout": "IPY_MODEL_edc765e9726942709a3eb1a983d003e5"
      }
     },
     "5d3fb6bb7f814ed7a3c103af44ebc4c4": {
      "model_module": "@jupyter-widgets/base",
      "model_module_version": "2.0.0",
      "model_name": "LayoutModel",
      "state": {
       "display": "inline-flex",
       "flex_flow": "row wrap",
       "visibility": "hidden",
       "width": "100%"
      }
     },
     "5d73ee1c9c55401fab84fb7b359f5662": {
      "model_module": "@jupyter-widgets/base",
      "model_module_version": "2.0.0",
      "model_name": "LayoutModel",
      "state": {
       "display": "inline-flex",
       "flex_flow": "row wrap",
       "width": "100%"
      }
     },
     "5e495cc58fb5429fb80ef5804050b02e": {
      "model_module": "@jupyter-widgets/controls",
      "model_module_version": "2.0.0",
      "model_name": "HTMLStyleModel",
      "state": {
       "description_width": "",
       "font_size": null,
       "text_color": null
      }
     },
     "5e786b30d1ff4c65b9f3fb7cfa277ad2": {
      "model_module": "@jupyter-widgets/controls",
      "model_module_version": "2.0.0",
      "model_name": "ProgressStyleModel",
      "state": {
       "description_width": ""
      }
     },
     "5e7dc55b3d6b40a3b8c335fa0778688b": {
      "model_module": "@jupyter-widgets/controls",
      "model_module_version": "2.0.0",
      "model_name": "HTMLModel",
      "state": {
       "layout": "IPY_MODEL_a7adbb3a8150424098c06136ba70d8f9",
       "style": "IPY_MODEL_22eb7c693a2343f397f3c1c73708ca92",
       "value": " 1/1 [00:00&lt;00:00,  2.97it/s, v_num=306, train_loss_step=0.560, train_loss_epoch=0.560, valid_loss=473.0]"
      }
     },
     "5ea66175d44a4fbbafe74cbac55dbad8": {
      "model_module": "@jupyter-widgets/controls",
      "model_module_version": "2.0.0",
      "model_name": "ProgressStyleModel",
      "state": {
       "description_width": ""
      }
     },
     "5efb0bf4e00b4350b1db72677318314c": {
      "model_module": "@jupyter-widgets/controls",
      "model_module_version": "2.0.0",
      "model_name": "HTMLModel",
      "state": {
       "layout": "IPY_MODEL_0b1c74cccee74540b0d5099d1a7771a1",
       "style": "IPY_MODEL_7fbdd80ca3ce400d8e8b83df411faa59",
       "value": " 1/1 [00:00&lt;00:00, 22.93it/s]"
      }
     },
     "5f01ca70b05a488f87ff26e0c43b021e": {
      "model_module": "@jupyter-widgets/base",
      "model_module_version": "2.0.0",
      "model_name": "LayoutModel",
      "state": {}
     },
     "5f1d39f2f9b2409e9fcb6b8f8c74920a": {
      "model_module": "@jupyter-widgets/base",
      "model_module_version": "2.0.0",
      "model_name": "LayoutModel",
      "state": {}
     },
     "5f34e6aa0cab4da3b01feb4ab05aa97d": {
      "model_module": "@jupyter-widgets/controls",
      "model_module_version": "2.0.0",
      "model_name": "HTMLModel",
      "state": {
       "layout": "IPY_MODEL_e5251f9f680a4e43af5ab1fafe98fdeb",
       "style": "IPY_MODEL_7d0b14372db348e592108f030a67bcbd",
       "value": "Epoch 99: 100%"
      }
     },
     "5f46455ddbb84fd3aa8070d8e03e1727": {
      "model_module": "@jupyter-widgets/controls",
      "model_module_version": "2.0.0",
      "model_name": "HTMLStyleModel",
      "state": {
       "description_width": "",
       "font_size": null,
       "text_color": null
      }
     },
     "5f9cba0d160e42388f6f22c12f2b103d": {
      "model_module": "@jupyter-widgets/controls",
      "model_module_version": "2.0.0",
      "model_name": "HTMLModel",
      "state": {
       "layout": "IPY_MODEL_b05c6e0ce8614f9c998c86674e846065",
       "style": "IPY_MODEL_c2af0eab00a7482699fde70e3cf4d417",
       "value": " 1/1 [00:00&lt;00:00, 86.23it/s]"
      }
     },
     "5ffae714e694430b90bae20266c544e8": {
      "model_module": "@jupyter-widgets/base",
      "model_module_version": "2.0.0",
      "model_name": "LayoutModel",
      "state": {
       "flex": "2"
      }
     },
     "60cc79a7d3254e128d6e2ed5d2439d64": {
      "model_module": "@jupyter-widgets/controls",
      "model_module_version": "2.0.0",
      "model_name": "ProgressStyleModel",
      "state": {
       "description_width": ""
      }
     },
     "610f931c11174a65a442f5e4918fb372": {
      "model_module": "@jupyter-widgets/base",
      "model_module_version": "2.0.0",
      "model_name": "LayoutModel",
      "state": {}
     },
     "6145bb5b0cc64a5bb27a4797dc00466e": {
      "model_module": "@jupyter-widgets/controls",
      "model_module_version": "2.0.0",
      "model_name": "HBoxModel",
      "state": {
       "children": [
        "IPY_MODEL_1ec9235503cf41d1949a009f148aa543",
        "IPY_MODEL_e669fabf59ff4cb1a32790aa213e46c0",
        "IPY_MODEL_698ed90457354975a34850e047848296"
       ],
       "layout": "IPY_MODEL_1568b16efd624b4a948fd50de07b4171"
      }
     },
     "61610ee414734769877d14af874fe9a6": {
      "model_module": "@jupyter-widgets/controls",
      "model_module_version": "2.0.0",
      "model_name": "HBoxModel",
      "state": {
       "children": [
        "IPY_MODEL_77eeb8120259434f9108c6891cf2aec5",
        "IPY_MODEL_051aeec64e114252914fdb813501b478",
        "IPY_MODEL_669e933c0296486b9ecd717e9f650b8c"
       ],
       "layout": "IPY_MODEL_f55d062f5d11427fbfb712edf0014867"
      }
     },
     "61610fb4287a40baa0cdfecba358362c": {
      "model_module": "@jupyter-widgets/base",
      "model_module_version": "2.0.0",
      "model_name": "LayoutModel",
      "state": {}
     },
     "618e5197c44d45818ed78aa02712796b": {
      "model_module": "@jupyter-widgets/controls",
      "model_module_version": "2.0.0",
      "model_name": "ProgressStyleModel",
      "state": {
       "description_width": ""
      }
     },
     "61977f38d9ea49899becc99facfdf872": {
      "model_module": "@jupyter-widgets/controls",
      "model_module_version": "2.0.0",
      "model_name": "FloatProgressModel",
      "state": {
       "bar_style": "success",
       "layout": "IPY_MODEL_62820e7e4b284a2c83b473742e85f89d",
       "max": 1,
       "style": "IPY_MODEL_ba3e2040d6ab42008b61bfff1eda1794",
       "value": 1
      }
     },
     "61ee87a920d14d5ab80c12da083eccc0": {
      "model_module": "@jupyter-widgets/base",
      "model_module_version": "2.0.0",
      "model_name": "LayoutModel",
      "state": {
       "flex": "2"
      }
     },
     "624e19af2e0d4432b54db81e5544ffd9": {
      "model_module": "@jupyter-widgets/controls",
      "model_module_version": "2.0.0",
      "model_name": "HTMLStyleModel",
      "state": {
       "description_width": "",
       "font_size": null,
       "text_color": null
      }
     },
     "625ffcb2e16c4535ad34c19027ccf8d6": {
      "model_module": "@jupyter-widgets/base",
      "model_module_version": "2.0.0",
      "model_name": "LayoutModel",
      "state": {
       "flex": "2"
      }
     },
     "62820e7e4b284a2c83b473742e85f89d": {
      "model_module": "@jupyter-widgets/base",
      "model_module_version": "2.0.0",
      "model_name": "LayoutModel",
      "state": {
       "flex": "2"
      }
     },
     "628353f2837d4f7da0e7769fad1e922b": {
      "model_module": "@jupyter-widgets/controls",
      "model_module_version": "2.0.0",
      "model_name": "HTMLModel",
      "state": {
       "layout": "IPY_MODEL_ffd25d67a5a74c008938637c9b4a3c45",
       "style": "IPY_MODEL_5a5243516e03478690df9f436383071d",
       "value": " 1/1 [00:00&lt;00:00,  5.94it/s]"
      }
     },
     "6304731b22a34f9a8d915db3d50f9171": {
      "model_module": "@jupyter-widgets/controls",
      "model_module_version": "2.0.0",
      "model_name": "HTMLStyleModel",
      "state": {
       "description_width": "",
       "font_size": null,
       "text_color": null
      }
     },
     "633ca1ccef434bfabbc3bd3ccc68dfba": {
      "model_module": "@jupyter-widgets/controls",
      "model_module_version": "2.0.0",
      "model_name": "HTMLModel",
      "state": {
       "layout": "IPY_MODEL_ec866d6b1997474092724df4562fb82c",
       "style": "IPY_MODEL_e3f53d89e1e74742ad271156c4e9b6c7",
       "value": "Epoch 99: 100%"
      }
     },
     "63628f76ac2e4f2a856e6fefa66be3f2": {
      "model_module": "@jupyter-widgets/controls",
      "model_module_version": "2.0.0",
      "model_name": "HTMLModel",
      "state": {
       "layout": "IPY_MODEL_e520bad0e9704fc0ad19fb81f99ee864",
       "style": "IPY_MODEL_eaf670babd784f3ab790077f36d7ce25",
       "value": " 1/1 [00:00&lt;00:00, 500.75it/s]"
      }
     },
     "63644d5c631d4e7d868dda06f0b8a067": {
      "model_module": "@jupyter-widgets/base",
      "model_module_version": "2.0.0",
      "model_name": "LayoutModel",
      "state": {}
     },
     "639db2edd9ac425eaa8d99ade072f982": {
      "model_module": "@jupyter-widgets/controls",
      "model_module_version": "2.0.0",
      "model_name": "ProgressStyleModel",
      "state": {
       "description_width": ""
      }
     },
     "641db443723142acba6336883ebc6976": {
      "model_module": "@jupyter-widgets/base",
      "model_module_version": "2.0.0",
      "model_name": "LayoutModel",
      "state": {}
     },
     "6443e33669894d8d9a2f628f81f06668": {
      "model_module": "@jupyter-widgets/controls",
      "model_module_version": "2.0.0",
      "model_name": "HTMLStyleModel",
      "state": {
       "description_width": "",
       "font_size": null,
       "text_color": null
      }
     },
     "6481e15309f94f93a8b9059fa31cb3bd": {
      "model_module": "@jupyter-widgets/base",
      "model_module_version": "2.0.0",
      "model_name": "LayoutModel",
      "state": {
       "flex": "2"
      }
     },
     "649f34c722b14a3b862bfd2602f414fa": {
      "model_module": "@jupyter-widgets/base",
      "model_module_version": "2.0.0",
      "model_name": "LayoutModel",
      "state": {}
     },
     "650454a6a53242da8a327fc0c07e0a48": {
      "model_module": "@jupyter-widgets/controls",
      "model_module_version": "2.0.0",
      "model_name": "FloatProgressModel",
      "state": {
       "bar_style": "success",
       "layout": "IPY_MODEL_8cb376a0cae445fda24e99a1b6b287ce",
       "max": 1,
       "style": "IPY_MODEL_ead834609ece4fb29b7549037c95724c",
       "value": 1
      }
     },
     "656e7b2353f943ffbcad138f76dda81c": {
      "model_module": "@jupyter-widgets/controls",
      "model_module_version": "2.0.0",
      "model_name": "HBoxModel",
      "state": {
       "children": [
        "IPY_MODEL_23d3228f69af4685821314710bd00d90",
        "IPY_MODEL_f3ea454af9f74c99a5de3d0e2466fad1",
        "IPY_MODEL_cb49589120674177b4ec3a51f7660920"
       ],
       "layout": "IPY_MODEL_d5405553a4e74a0996eff3cef9f12c37"
      }
     },
     "6582ee9cbc5b42698236609419afbbc1": {
      "model_module": "@jupyter-widgets/base",
      "model_module_version": "2.0.0",
      "model_name": "LayoutModel",
      "state": {}
     },
     "65929efa90834b01a97ecb32d9429526": {
      "model_module": "@jupyter-widgets/controls",
      "model_module_version": "2.0.0",
      "model_name": "FloatProgressModel",
      "state": {
       "layout": "IPY_MODEL_36fc6f2f6fd5403c9309164293446631",
       "max": 1,
       "style": "IPY_MODEL_d9cc8ce3065d44d2a43cade2ebae6cf2",
       "value": 1
      }
     },
     "65cd5e85e4844af2bae0e243d30cc4f0": {
      "model_module": "@jupyter-widgets/controls",
      "model_module_version": "2.0.0",
      "model_name": "FloatProgressModel",
      "state": {
       "layout": "IPY_MODEL_355e1b943348443f8ed93a97b5ece14b",
       "max": 1,
       "style": "IPY_MODEL_c452882e20cc43b0a223117a33c355af",
       "value": 1
      }
     },
     "65f2f1dd39fe43dd9d10c8de299b53ca": {
      "model_module": "@jupyter-widgets/controls",
      "model_module_version": "2.0.0",
      "model_name": "ProgressStyleModel",
      "state": {
       "description_width": ""
      }
     },
     "660b20b2cb6c48fa8aef6e1cf55ad9c8": {
      "model_module": "@jupyter-widgets/base",
      "model_module_version": "2.0.0",
      "model_name": "LayoutModel",
      "state": {
       "display": "inline-flex",
       "flex_flow": "row wrap",
       "visibility": "hidden",
       "width": "100%"
      }
     },
     "66111a0e9a194793af513e919d191939": {
      "model_module": "@jupyter-widgets/controls",
      "model_module_version": "2.0.0",
      "model_name": "FloatProgressModel",
      "state": {
       "layout": "IPY_MODEL_8e482155e78c472dbf61c7cc1e0155bd",
       "max": 1,
       "style": "IPY_MODEL_caa43e2266354e5788960a5a04392851",
       "value": 1
      }
     },
     "667f96c78aac4395b5a7eb5c542813f2": {
      "model_module": "@jupyter-widgets/base",
      "model_module_version": "2.0.0",
      "model_name": "LayoutModel",
      "state": {
       "display": "inline-flex",
       "flex_flow": "row wrap",
       "visibility": "hidden",
       "width": "100%"
      }
     },
     "669b5073cbae4dec9bd7427d1f466f66": {
      "model_module": "@jupyter-widgets/controls",
      "model_module_version": "2.0.0",
      "model_name": "HTMLStyleModel",
      "state": {
       "description_width": "",
       "font_size": null,
       "text_color": null
      }
     },
     "669b6ef467e54ebf80d4df619a0cbe06": {
      "model_module": "@jupyter-widgets/controls",
      "model_module_version": "2.0.0",
      "model_name": "HTMLStyleModel",
      "state": {
       "description_width": "",
       "font_size": null,
       "text_color": null
      }
     },
     "669e933c0296486b9ecd717e9f650b8c": {
      "model_module": "@jupyter-widgets/controls",
      "model_module_version": "2.0.0",
      "model_name": "HTMLModel",
      "state": {
       "layout": "IPY_MODEL_e525d03a52b142329dba47f3d12e01fa",
       "style": "IPY_MODEL_34bca2676248488db77a62288e033b84",
       "value": " 1/1 [00:00&lt;00:00, 14.68it/s, v_num=290, train_loss_step=0.321, train_loss_epoch=0.321, valid_loss=266.0]"
      }
     },
     "66feda9f606e474da1cf098e02195340": {
      "model_module": "@jupyter-widgets/base",
      "model_module_version": "2.0.0",
      "model_name": "LayoutModel",
      "state": {}
     },
     "6756027605c84398bf5bca8f620dedbf": {
      "model_module": "@jupyter-widgets/controls",
      "model_module_version": "2.0.0",
      "model_name": "HTMLStyleModel",
      "state": {
       "description_width": "",
       "font_size": null,
       "text_color": null
      }
     },
     "6768d3830c8b4d929334ba8df4600d8f": {
      "model_module": "@jupyter-widgets/controls",
      "model_module_version": "2.0.0",
      "model_name": "HTMLModel",
      "state": {
       "layout": "IPY_MODEL_37ff7497f4254decaa1030688d580e1b",
       "style": "IPY_MODEL_69ad9404a732482f9dad2bfe0096fe5d",
       "value": "Sanity Checking DataLoader 0: 100%"
      }
     },
     "6774a3fae55d4734a5bed7b1e6816fb9": {
      "model_module": "@jupyter-widgets/base",
      "model_module_version": "2.0.0",
      "model_name": "LayoutModel",
      "state": {}
     },
     "67eebb665bf842118504ea46a4106005": {
      "model_module": "@jupyter-widgets/controls",
      "model_module_version": "2.0.0",
      "model_name": "HTMLModel",
      "state": {
       "layout": "IPY_MODEL_2563897fd75e4e7fb3c38aa94e53b4bc",
       "style": "IPY_MODEL_d8536da1445f41b4b1cdbbb19e4c0404",
       "value": " 1/1 [00:00&lt;00:00,  5.26it/s]"
      }
     },
     "6866f05d2bcd4903b4cd40621606f7e4": {
      "model_module": "@jupyter-widgets/controls",
      "model_module_version": "2.0.0",
      "model_name": "HTMLModel",
      "state": {
       "layout": "IPY_MODEL_3f7bb95a3515437ab66e8574a8ed6618",
       "style": "IPY_MODEL_1ab010161b1f49f5af72f1abb92d120c",
       "value": " 1/1 [00:00&lt;00:00, 58.16it/s]"
      }
     },
     "689a974fce174a3e9635d35a56b1bd92": {
      "model_module": "@jupyter-widgets/controls",
      "model_module_version": "2.0.0",
      "model_name": "HTMLStyleModel",
      "state": {
       "description_width": "",
       "font_size": null,
       "text_color": null
      }
     },
     "68adb216144342a69f40138a41e7868f": {
      "model_module": "@jupyter-widgets/controls",
      "model_module_version": "2.0.0",
      "model_name": "FloatProgressModel",
      "state": {
       "layout": "IPY_MODEL_c1076e5a455c4628af0d9f88ac548279",
       "max": 1,
       "style": "IPY_MODEL_03dff8fb8d2849b1abf10e9c4b6b6268",
       "value": 1
      }
     },
     "68c6ee0d3e914861bde06fbec1d3b5d6": {
      "model_module": "@jupyter-widgets/controls",
      "model_module_version": "2.0.0",
      "model_name": "HTMLModel",
      "state": {
       "layout": "IPY_MODEL_e4c0fcc73fed496e8dcbea0129b672db",
       "style": "IPY_MODEL_6dc9e56573e14423967279177e341e6d",
       "value": " 1/1 [00:00&lt;00:00,  2.44it/s, v_num=287, train_loss_step=1.030, train_loss_epoch=1.030, valid_loss=310.0]"
      }
     },
     "68dab598009143999e85ee3e0aab7cbb": {
      "model_module": "@jupyter-widgets/base",
      "model_module_version": "2.0.0",
      "model_name": "LayoutModel",
      "state": {}
     },
     "68e61413ba9b42c489aa7cf5183da910": {
      "model_module": "@jupyter-widgets/base",
      "model_module_version": "2.0.0",
      "model_name": "LayoutModel",
      "state": {}
     },
     "693a23b1f2394491a998e06ab0e536db": {
      "model_module": "@jupyter-widgets/base",
      "model_module_version": "2.0.0",
      "model_name": "LayoutModel",
      "state": {}
     },
     "696a1becc8bd45a08ef1b15efe2fba3f": {
      "model_module": "@jupyter-widgets/controls",
      "model_module_version": "2.0.0",
      "model_name": "HTMLStyleModel",
      "state": {
       "description_width": "",
       "font_size": null,
       "text_color": null
      }
     },
     "698ed90457354975a34850e047848296": {
      "model_module": "@jupyter-widgets/controls",
      "model_module_version": "2.0.0",
      "model_name": "HTMLModel",
      "state": {
       "layout": "IPY_MODEL_c5dcf01db7dd4ad9ab53759c7a8dccf8",
       "style": "IPY_MODEL_0c7ea70515a14df0887bb4ab3a5623b9",
       "value": " 1/1 [00:00&lt;00:00, 15.88it/s, v_num=302, train_loss_step=0.315, train_loss_epoch=0.315, valid_loss=262.0]"
      }
     },
     "69ad9404a732482f9dad2bfe0096fe5d": {
      "model_module": "@jupyter-widgets/controls",
      "model_module_version": "2.0.0",
      "model_name": "HTMLStyleModel",
      "state": {
       "description_width": "",
       "font_size": null,
       "text_color": null
      }
     },
     "6a0b9f6286c9439d9d8caa3aa863ff40": {
      "model_module": "@jupyter-widgets/base",
      "model_module_version": "2.0.0",
      "model_name": "LayoutModel",
      "state": {}
     },
     "6a14e4b6dbf4491a8b5a1f3933baa13d": {
      "model_module": "@jupyter-widgets/base",
      "model_module_version": "2.0.0",
      "model_name": "LayoutModel",
      "state": {}
     },
     "6a5ebd3a645e4325b29a2a001fbcb2e2": {
      "model_module": "@jupyter-widgets/controls",
      "model_module_version": "2.0.0",
      "model_name": "HTMLModel",
      "state": {
       "layout": "IPY_MODEL_db26b5a181a543b5a29075bc5c91e625",
       "style": "IPY_MODEL_19ee22275bb14940a00ac6d1e5cac1d2",
       "value": " 1/1 [00:00&lt;00:00, 90.92it/s]"
      }
     },
     "6a70909bea7e435f80f072137177610e": {
      "model_module": "@jupyter-widgets/controls",
      "model_module_version": "2.0.0",
      "model_name": "HTMLStyleModel",
      "state": {
       "description_width": "",
       "font_size": null,
       "text_color": null
      }
     },
     "6a79f271b5bb4edfb5c8252ecd4104a7": {
      "model_module": "@jupyter-widgets/base",
      "model_module_version": "2.0.0",
      "model_name": "LayoutModel",
      "state": {
       "flex": "2"
      }
     },
     "6aebb368dc9b41158669d98d044bb655": {
      "model_module": "@jupyter-widgets/controls",
      "model_module_version": "2.0.0",
      "model_name": "HTMLModel",
      "state": {
       "layout": "IPY_MODEL_c5af8041698a43a88df630c6f8fead28",
       "style": "IPY_MODEL_d08e6627375d45659bdfa7c672469421",
       "value": "Validation DataLoader 0: 100%"
      }
     },
     "6af760877ba946b4b7374e396b53a270": {
      "model_module": "@jupyter-widgets/controls",
      "model_module_version": "2.0.0",
      "model_name": "HTMLModel",
      "state": {
       "layout": "IPY_MODEL_f05e628bb128411194c6cc388e5b1b19",
       "style": "IPY_MODEL_9b849c14fea3499ea5a6c942cc0ef0e1",
       "value": "Sanity Checking DataLoader 0: 100%"
      }
     },
     "6b296f8494794875a756f597b6b5b8d6": {
      "model_module": "@jupyter-widgets/controls",
      "model_module_version": "2.0.0",
      "model_name": "HTMLModel",
      "state": {
       "layout": "IPY_MODEL_d5892a16b293424dbe3ecb493f0df7bc",
       "style": "IPY_MODEL_f5ac18f6ad574ebabbed7ef1708fbe9d",
       "value": " 1/1 [00:00&lt;00:00, 1000.55it/s]"
      }
     },
     "6b4357923ebb488c9a65c2acf088e835": {
      "model_module": "@jupyter-widgets/base",
      "model_module_version": "2.0.0",
      "model_name": "LayoutModel",
      "state": {
       "display": "inline-flex",
       "flex_flow": "row wrap",
       "width": "100%"
      }
     },
     "6b56620703ed4447a3a0a1d2fcc69203": {
      "model_module": "@jupyter-widgets/controls",
      "model_module_version": "2.0.0",
      "model_name": "HTMLStyleModel",
      "state": {
       "description_width": "",
       "font_size": null,
       "text_color": null
      }
     },
     "6b62a701e2c64656a9df0fc678fe14a4": {
      "model_module": "@jupyter-widgets/controls",
      "model_module_version": "2.0.0",
      "model_name": "HTMLStyleModel",
      "state": {
       "description_width": "",
       "font_size": null,
       "text_color": null
      }
     },
     "6b6354bb6baf4ea78655ceaa1fb236f0": {
      "model_module": "@jupyter-widgets/controls",
      "model_module_version": "2.0.0",
      "model_name": "HTMLStyleModel",
      "state": {
       "description_width": "",
       "font_size": null,
       "text_color": null
      }
     },
     "6ba629032b1048549ec8a5c0226777c7": {
      "model_module": "@jupyter-widgets/controls",
      "model_module_version": "2.0.0",
      "model_name": "HTMLStyleModel",
      "state": {
       "description_width": "",
       "font_size": null,
       "text_color": null
      }
     },
     "6bb6a225e2a046fb8c359f538c2001f1": {
      "model_module": "@jupyter-widgets/controls",
      "model_module_version": "2.0.0",
      "model_name": "ProgressStyleModel",
      "state": {
       "description_width": ""
      }
     },
     "6bf8336ef5b14d1ba6fe1af8f0adbf4d": {
      "model_module": "@jupyter-widgets/controls",
      "model_module_version": "2.0.0",
      "model_name": "HBoxModel",
      "state": {
       "children": [
        "IPY_MODEL_a1d5926da3964d18b1570fa1a601b15a",
        "IPY_MODEL_6c03030abbfe4b8cbe2994fca4981aa6",
        "IPY_MODEL_39aa60a71c2e44b98e7169a861c9734b"
       ],
       "layout": "IPY_MODEL_aa878d1ff6e042e5b1c62980a777dab1"
      }
     },
     "6bff57280061451486a39c7a07f4edaf": {
      "model_module": "@jupyter-widgets/base",
      "model_module_version": "2.0.0",
      "model_name": "LayoutModel",
      "state": {
       "display": "inline-flex",
       "flex_flow": "row wrap",
       "width": "100%"
      }
     },
     "6c03030abbfe4b8cbe2994fca4981aa6": {
      "model_module": "@jupyter-widgets/controls",
      "model_module_version": "2.0.0",
      "model_name": "FloatProgressModel",
      "state": {
       "bar_style": "success",
       "layout": "IPY_MODEL_44222275792f4daa81c1a8b287b38033",
       "max": 1,
       "style": "IPY_MODEL_58fd902cc808455099172f35263c1172",
       "value": 1
      }
     },
     "6c45a9c93fed491e9ea0eb400b195a4e": {
      "model_module": "@jupyter-widgets/controls",
      "model_module_version": "2.0.0",
      "model_name": "HTMLModel",
      "state": {
       "layout": "IPY_MODEL_f0819a26efac4b34849c3deee899ed14",
       "style": "IPY_MODEL_51d7df92f40d404e915633252ba61f9e",
       "value": "Validation DataLoader 0: 100%"
      }
     },
     "6c825c93b49f414190a1487fbe4984d1": {
      "model_module": "@jupyter-widgets/controls",
      "model_module_version": "2.0.0",
      "model_name": "FloatProgressModel",
      "state": {
       "layout": "IPY_MODEL_1a6cb184e33642b0aac4355d362f0812",
       "max": 1,
       "style": "IPY_MODEL_79fcf1202fbd43a49462877bed242c07",
       "value": 1
      }
     },
     "6ca4928320284e52a6adef718d597a4d": {
      "model_module": "@jupyter-widgets/controls",
      "model_module_version": "2.0.0",
      "model_name": "HTMLModel",
      "state": {
       "layout": "IPY_MODEL_7b3249fcaf7d4ef1bf4f5ebd2fe7bf58",
       "style": "IPY_MODEL_3d5b4f425e1b49d88bfa7c711a1240ab",
       "value": " 1/1 [00:00&lt;00:00,  9.10it/s, v_num=280, train_loss_step=0.296, train_loss_epoch=0.296, valid_loss=876.0]"
      }
     },
     "6cc5205ccfb640a088a0b0250537d274": {
      "model_module": "@jupyter-widgets/base",
      "model_module_version": "2.0.0",
      "model_name": "LayoutModel",
      "state": {
       "flex": "2"
      }
     },
     "6d48f90520ef4ddebf51e0452dd6e50d": {
      "model_module": "@jupyter-widgets/base",
      "model_module_version": "2.0.0",
      "model_name": "LayoutModel",
      "state": {
       "display": "inline-flex",
       "flex_flow": "row wrap",
       "width": "100%"
      }
     },
     "6dc9e56573e14423967279177e341e6d": {
      "model_module": "@jupyter-widgets/controls",
      "model_module_version": "2.0.0",
      "model_name": "HTMLStyleModel",
      "state": {
       "description_width": "",
       "font_size": null,
       "text_color": null
      }
     },
     "6e5176184bed48fa91072ae8d4a4bdc1": {
      "model_module": "@jupyter-widgets/controls",
      "model_module_version": "2.0.0",
      "model_name": "HTMLStyleModel",
      "state": {
       "description_width": "",
       "font_size": null,
       "text_color": null
      }
     },
     "6ef082e4091c442683292876bff23b66": {
      "model_module": "@jupyter-widgets/controls",
      "model_module_version": "2.0.0",
      "model_name": "HTMLModel",
      "state": {
       "layout": "IPY_MODEL_7895f3097cb14d5ebe694595cbd00527",
       "style": "IPY_MODEL_ac72f87a41364a47bd881a680a03d0f0",
       "value": " 1/1 [00:00&lt;00:00, 14.87it/s, v_num=291, train_loss_step=0.319, train_loss_epoch=0.319, valid_loss=241.0]"
      }
     },
     "6f4ba9d1be034783b1bdaaf6ba8e8ddd": {
      "model_module": "@jupyter-widgets/base",
      "model_module_version": "2.0.0",
      "model_name": "LayoutModel",
      "state": {}
     },
     "6f51ad3a65d84eb6940669368129895f": {
      "model_module": "@jupyter-widgets/controls",
      "model_module_version": "2.0.0",
      "model_name": "HTMLStyleModel",
      "state": {
       "description_width": "",
       "font_size": null,
       "text_color": null
      }
     },
     "6f91d1864473476190e36411c18e114a": {
      "model_module": "@jupyter-widgets/base",
      "model_module_version": "2.0.0",
      "model_name": "LayoutModel",
      "state": {
       "display": "inline-flex",
       "flex_flow": "row wrap",
       "visibility": "hidden",
       "width": "100%"
      }
     },
     "6f973a89609842b98f4c719ecfacc379": {
      "model_module": "@jupyter-widgets/controls",
      "model_module_version": "2.0.0",
      "model_name": "HTMLStyleModel",
      "state": {
       "description_width": "",
       "font_size": null,
       "text_color": null
      }
     },
     "6fd309b6dda24ddb9f4e822edc1af01b": {
      "model_module": "@jupyter-widgets/base",
      "model_module_version": "2.0.0",
      "model_name": "LayoutModel",
      "state": {
       "flex": "2"
      }
     },
     "7019cfb09c65452283e5bc9322238ac0": {
      "model_module": "@jupyter-widgets/controls",
      "model_module_version": "2.0.0",
      "model_name": "HTMLModel",
      "state": {
       "layout": "IPY_MODEL_e888963fb74c4a30bf278f7169a04711",
       "style": "IPY_MODEL_2e47a0ab22124d5d904c9c3b5de38d41",
       "value": " 1/1 [00:00&lt;00:00, 22.08it/s]"
      }
     },
     "70371b9973c6457cbb51e27460bbe281": {
      "model_module": "@jupyter-widgets/controls",
      "model_module_version": "2.0.0",
      "model_name": "ProgressStyleModel",
      "state": {
       "description_width": ""
      }
     },
     "7099e2d780e7469baa40d26ba7ca3ab2": {
      "model_module": "@jupyter-widgets/controls",
      "model_module_version": "2.0.0",
      "model_name": "HTMLModel",
      "state": {
       "layout": "IPY_MODEL_a9175fa2a614426eb7f0e7bca7da0f38",
       "style": "IPY_MODEL_4273ae9f2348431f89fcd71d48201b1c",
       "value": "Sanity Checking DataLoader 0: 100%"
      }
     },
     "712125ec29a747c8a9d3597c3a1f0e57": {
      "model_module": "@jupyter-widgets/base",
      "model_module_version": "2.0.0",
      "model_name": "LayoutModel",
      "state": {
       "display": "inline-flex",
       "flex_flow": "row wrap",
       "visibility": "hidden",
       "width": "100%"
      }
     },
     "71556fb6598947218a92283f3de662c0": {
      "model_module": "@jupyter-widgets/controls",
      "model_module_version": "2.0.0",
      "model_name": "HTMLStyleModel",
      "state": {
       "description_width": "",
       "font_size": null,
       "text_color": null
      }
     },
     "7158375c0ec247bba80a71067733fa92": {
      "model_module": "@jupyter-widgets/base",
      "model_module_version": "2.0.0",
      "model_name": "LayoutModel",
      "state": {}
     },
     "715ba6266961475e9f342b10ab0bc297": {
      "model_module": "@jupyter-widgets/base",
      "model_module_version": "2.0.0",
      "model_name": "LayoutModel",
      "state": {
       "display": "inline-flex",
       "flex_flow": "row wrap",
       "visibility": "hidden",
       "width": "100%"
      }
     },
     "7174186296ee4928be61a849496ae082": {
      "model_module": "@jupyter-widgets/controls",
      "model_module_version": "2.0.0",
      "model_name": "HBoxModel",
      "state": {
       "children": [
        "IPY_MODEL_39dd23c6eae74448a1b1dbfba73e21d3",
        "IPY_MODEL_02472e96e0a343f28afa220ed546ede5",
        "IPY_MODEL_50283c2c420d44d79b861a89ebc8e947"
       ],
       "layout": "IPY_MODEL_44f0012b46bf42918db2d0bd85aff875"
      }
     },
     "71a7ba8601c14b9383e594de840d3ae4": {
      "model_module": "@jupyter-widgets/controls",
      "model_module_version": "2.0.0",
      "model_name": "HTMLModel",
      "state": {
       "layout": "IPY_MODEL_9bd5babb4e1b4833835e89e06bb5a3e2",
       "style": "IPY_MODEL_2025c3641e4f4c869302743b4d6ab8b7",
       "value": " 1/1 [00:00&lt;00:00,  5.66it/s]"
      }
     },
     "721596a0ac774c00b0e6f9e9500997f7": {
      "model_module": "@jupyter-widgets/base",
      "model_module_version": "2.0.0",
      "model_name": "LayoutModel",
      "state": {
       "display": "inline-flex",
       "flex_flow": "row wrap",
       "visibility": "hidden",
       "width": "100%"
      }
     },
     "725ea913bd9b4a418021863d7b6fb321": {
      "model_module": "@jupyter-widgets/controls",
      "model_module_version": "2.0.0",
      "model_name": "FloatProgressModel",
      "state": {
       "bar_style": "success",
       "layout": "IPY_MODEL_a237e72793e242bd8ea0f6ea29662db8",
       "max": 1,
       "style": "IPY_MODEL_46d7f930fe4444e188c435fe198c1b75",
       "value": 1
      }
     },
     "728e2a527370472e91a0245a79bd2997": {
      "model_module": "@jupyter-widgets/controls",
      "model_module_version": "2.0.0",
      "model_name": "HTMLStyleModel",
      "state": {
       "description_width": "",
       "font_size": null,
       "text_color": null
      }
     },
     "72961de597a44486ac6ece19d90e7dec": {
      "model_module": "@jupyter-widgets/base",
      "model_module_version": "2.0.0",
      "model_name": "LayoutModel",
      "state": {
       "display": "inline-flex",
       "flex_flow": "row wrap",
       "visibility": "hidden",
       "width": "100%"
      }
     },
     "72b8363d0f2e4c5b911ed00b96fffb28": {
      "model_module": "@jupyter-widgets/controls",
      "model_module_version": "2.0.0",
      "model_name": "HTMLModel",
      "state": {
       "layout": "IPY_MODEL_840045ea7d7747e99c7793a9d087d064",
       "style": "IPY_MODEL_d926f7ae3919464d9345c76215e484d0",
       "value": " 1/1 [00:00&lt;00:00, 12.86it/s]"
      }
     },
     "72b8a87da0494fa8b3d8e88132b42bd5": {
      "model_module": "@jupyter-widgets/controls",
      "model_module_version": "2.0.0",
      "model_name": "HTMLStyleModel",
      "state": {
       "description_width": "",
       "font_size": null,
       "text_color": null
      }
     },
     "7303d2fcd2ee4cc185f0111029e29ec4": {
      "model_module": "@jupyter-widgets/base",
      "model_module_version": "2.0.0",
      "model_name": "LayoutModel",
      "state": {
       "display": "inline-flex",
       "flex_flow": "row wrap",
       "width": "100%"
      }
     },
     "735b14757d6c4b94bb9df1554f978431": {
      "model_module": "@jupyter-widgets/base",
      "model_module_version": "2.0.0",
      "model_name": "LayoutModel",
      "state": {}
     },
     "73736d7819064e77b8a304aca4cc667c": {
      "model_module": "@jupyter-widgets/controls",
      "model_module_version": "2.0.0",
      "model_name": "HTMLModel",
      "state": {
       "layout": "IPY_MODEL_256bceb8e2c348bd92e42c42afcc5db2",
       "style": "IPY_MODEL_427c87fa588b4e67ad87111088d176b1",
       "value": "Epoch 99: 100%"
      }
     },
     "737495bc6f214ba7a3047a119ddcaf6c": {
      "model_module": "@jupyter-widgets/base",
      "model_module_version": "2.0.0",
      "model_name": "LayoutModel",
      "state": {}
     },
     "739d8c4ffea14553b4e60305b60e4be0": {
      "model_module": "@jupyter-widgets/controls",
      "model_module_version": "2.0.0",
      "model_name": "ProgressStyleModel",
      "state": {
       "description_width": ""
      }
     },
     "73fc1da6efb24cd69721600b86e25e43": {
      "model_module": "@jupyter-widgets/base",
      "model_module_version": "2.0.0",
      "model_name": "LayoutModel",
      "state": {
       "display": "inline-flex",
       "flex_flow": "row wrap",
       "visibility": "hidden",
       "width": "100%"
      }
     },
     "74111dd247484e23b22c140c93f54951": {
      "model_module": "@jupyter-widgets/base",
      "model_module_version": "2.0.0",
      "model_name": "LayoutModel",
      "state": {}
     },
     "7415a424e5c14f61b6b0b04e3754bf77": {
      "model_module": "@jupyter-widgets/controls",
      "model_module_version": "2.0.0",
      "model_name": "HTMLModel",
      "state": {
       "layout": "IPY_MODEL_f3a6322de00a4c4792165e5458be46c1",
       "style": "IPY_MODEL_eacaebaf473641f1b0dcd71a5c9f5b51",
       "value": "Validation DataLoader 0: 100%"
      }
     },
     "742568bb41b0444d9f480beef02c514b": {
      "model_module": "@jupyter-widgets/base",
      "model_module_version": "2.0.0",
      "model_name": "LayoutModel",
      "state": {}
     },
     "746471ede48f4129ac5ca21b5f3f1f44": {
      "model_module": "@jupyter-widgets/controls",
      "model_module_version": "2.0.0",
      "model_name": "ProgressStyleModel",
      "state": {
       "description_width": ""
      }
     },
     "7466fbd2808c4811b2f46e941d21cc56": {
      "model_module": "@jupyter-widgets/controls",
      "model_module_version": "2.0.0",
      "model_name": "HTMLStyleModel",
      "state": {
       "description_width": "",
       "font_size": null,
       "text_color": null
      }
     },
     "750ee4a8e728490fa8dd8a057545e351": {
      "model_module": "@jupyter-widgets/base",
      "model_module_version": "2.0.0",
      "model_name": "LayoutModel",
      "state": {
       "display": "inline-flex",
       "flex_flow": "row wrap",
       "width": "100%"
      }
     },
     "7553686e8b6c4165adbc512a5b4d78e6": {
      "model_module": "@jupyter-widgets/controls",
      "model_module_version": "2.0.0",
      "model_name": "HBoxModel",
      "state": {
       "children": [
        "IPY_MODEL_8311a5a96a1d43429a28ab7e07cf4115",
        "IPY_MODEL_b3f19e5f0ac14077b3fdadc289e035d8",
        "IPY_MODEL_29b7f4162c6b4c798531fe506b986b30"
       ],
       "layout": "IPY_MODEL_c65696bdfad4470f877f25a982cf1be6"
      }
     },
     "756346e25f3c4fbaa15079638e62ccfe": {
      "model_module": "@jupyter-widgets/controls",
      "model_module_version": "2.0.0",
      "model_name": "HTMLModel",
      "state": {
       "layout": "IPY_MODEL_80ddc88b7cdb441e91016138341ea135",
       "style": "IPY_MODEL_40b5186163564c16bcacca1992ee3503",
       "value": "Validation DataLoader 0: 100%"
      }
     },
     "759808e907ea4628aa1af5e002e42bbe": {
      "model_module": "@jupyter-widgets/base",
      "model_module_version": "2.0.0",
      "model_name": "LayoutModel",
      "state": {
       "display": "inline-flex",
       "flex_flow": "row wrap",
       "visibility": "hidden",
       "width": "100%"
      }
     },
     "75d25eda0b224d8a8dc8ae18eaf1069d": {
      "model_module": "@jupyter-widgets/controls",
      "model_module_version": "2.0.0",
      "model_name": "FloatProgressModel",
      "state": {
       "layout": "IPY_MODEL_be25b3f0af904aa0bea33077e8689264",
       "max": 1,
       "style": "IPY_MODEL_33448fffd89a482ca1222de58e287827",
       "value": 1
      }
     },
     "75e4d846d4494ce6bd3bab68bc9f2314": {
      "model_module": "@jupyter-widgets/controls",
      "model_module_version": "2.0.0",
      "model_name": "ProgressStyleModel",
      "state": {
       "description_width": ""
      }
     },
     "75eb5002facf4298bfc9eca618dc6b88": {
      "model_module": "@jupyter-widgets/controls",
      "model_module_version": "2.0.0",
      "model_name": "FloatProgressModel",
      "state": {
       "layout": "IPY_MODEL_ef7896f6ac074f31a30c6b9a64064071",
       "max": 1,
       "style": "IPY_MODEL_29bf3dd7ba2e401e8a8c2b129e9a0e33",
       "value": 1
      }
     },
     "762a133e72074b58bc5fd03347d371a6": {
      "model_module": "@jupyter-widgets/controls",
      "model_module_version": "2.0.0",
      "model_name": "ProgressStyleModel",
      "state": {
       "description_width": ""
      }
     },
     "767ae468db3640f998bbf9c62372b9a0": {
      "model_module": "@jupyter-widgets/base",
      "model_module_version": "2.0.0",
      "model_name": "LayoutModel",
      "state": {}
     },
     "76cb76b8a6b14311abe698ba0c391b64": {
      "model_module": "@jupyter-widgets/controls",
      "model_module_version": "2.0.0",
      "model_name": "HTMLStyleModel",
      "state": {
       "description_width": "",
       "font_size": null,
       "text_color": null
      }
     },
     "778709a8be534cbaa335605832daba4b": {
      "model_module": "@jupyter-widgets/base",
      "model_module_version": "2.0.0",
      "model_name": "LayoutModel",
      "state": {
       "display": "inline-flex",
       "flex_flow": "row wrap",
       "visibility": "hidden",
       "width": "100%"
      }
     },
     "77a14cb345274b459df8faac833cf4f0": {
      "model_module": "@jupyter-widgets/base",
      "model_module_version": "2.0.0",
      "model_name": "LayoutModel",
      "state": {}
     },
     "77b746b08bbf4a92bfcd13af0bd307ec": {
      "model_module": "@jupyter-widgets/controls",
      "model_module_version": "2.0.0",
      "model_name": "HTMLModel",
      "state": {
       "layout": "IPY_MODEL_7e7d499de0304a6e9e40a5f68ea918f9",
       "style": "IPY_MODEL_669b6ef467e54ebf80d4df619a0cbe06",
       "value": " 1/1 [00:00&lt;00:00, 12.15it/s, v_num=297, train_loss_step=0.0348, train_loss_epoch=0.0348, valid_loss=474.0]"
      }
     },
     "77ca849a5cf84819b3f3a5986333676d": {
      "model_module": "@jupyter-widgets/base",
      "model_module_version": "2.0.0",
      "model_name": "LayoutModel",
      "state": {
       "flex": "2"
      }
     },
     "77da22d8976f473785ebc1ef81bcc790": {
      "model_module": "@jupyter-widgets/controls",
      "model_module_version": "2.0.0",
      "model_name": "HTMLModel",
      "state": {
       "layout": "IPY_MODEL_017f73e6d08549cf92a0ce7fb758db10",
       "style": "IPY_MODEL_c0150b0b0fcf4fbfb654b531f73bd769",
       "value": " 1/1 [00:00&lt;00:00, 1001.03it/s]"
      }
     },
     "77de866470044e28b5d2a929f4f76a5d": {
      "model_module": "@jupyter-widgets/controls",
      "model_module_version": "2.0.0",
      "model_name": "ProgressStyleModel",
      "state": {
       "description_width": ""
      }
     },
     "77eeb8120259434f9108c6891cf2aec5": {
      "model_module": "@jupyter-widgets/controls",
      "model_module_version": "2.0.0",
      "model_name": "HTMLModel",
      "state": {
       "layout": "IPY_MODEL_dca7fe650379455c83c1da31a389048a",
       "style": "IPY_MODEL_e09d84b646f34ed7bebc28ef10a05bd5",
       "value": "Epoch 99: 100%"
      }
     },
     "78052531b3cd4076b972f991b126534f": {
      "model_module": "@jupyter-widgets/controls",
      "model_module_version": "2.0.0",
      "model_name": "FloatProgressModel",
      "state": {
       "layout": "IPY_MODEL_15d3defc8f93431a944d3d512bde410f",
       "max": 1,
       "style": "IPY_MODEL_a427fc1c73a94d948996664025eee3c5",
       "value": 1
      }
     },
     "7859efbc02cf4261827246e3c048cc04": {
      "model_module": "@jupyter-widgets/controls",
      "model_module_version": "2.0.0",
      "model_name": "ProgressStyleModel",
      "state": {
       "description_width": ""
      }
     },
     "786da17b456947cc88dfc1c75d289c70": {
      "model_module": "@jupyter-widgets/controls",
      "model_module_version": "2.0.0",
      "model_name": "HTMLStyleModel",
      "state": {
       "description_width": "",
       "font_size": null,
       "text_color": null
      }
     },
     "7895f3097cb14d5ebe694595cbd00527": {
      "model_module": "@jupyter-widgets/base",
      "model_module_version": "2.0.0",
      "model_name": "LayoutModel",
      "state": {}
     },
     "78be4a622eb94561971314581d99476a": {
      "model_module": "@jupyter-widgets/controls",
      "model_module_version": "2.0.0",
      "model_name": "FloatProgressModel",
      "state": {
       "layout": "IPY_MODEL_4becf41b22c046c6b479c1a5a7274161",
       "max": 1,
       "style": "IPY_MODEL_e2510ce069864a35849d5762f5636d8f",
       "value": 1
      }
     },
     "7903f83dc9114274ab1dd196b59890fd": {
      "model_module": "@jupyter-widgets/controls",
      "model_module_version": "2.0.0",
      "model_name": "HTMLStyleModel",
      "state": {
       "description_width": "",
       "font_size": null,
       "text_color": null
      }
     },
     "798f5db0d28b4a5a8de5bcc4a164ec40": {
      "model_module": "@jupyter-widgets/controls",
      "model_module_version": "2.0.0",
      "model_name": "FloatProgressModel",
      "state": {
       "layout": "IPY_MODEL_0984a4bcf53a41bbb61c7403d9be3ef4",
       "max": 1,
       "style": "IPY_MODEL_e9bce989158e4eec913d756327fd82e8",
       "value": 1
      }
     },
     "79901b545a024908a315bd0c6094f926": {
      "model_module": "@jupyter-widgets/controls",
      "model_module_version": "2.0.0",
      "model_name": "FloatProgressModel",
      "state": {
       "layout": "IPY_MODEL_8625678125c448cbb122123b7517378e",
       "max": 1,
       "style": "IPY_MODEL_7859efbc02cf4261827246e3c048cc04",
       "value": 1
      }
     },
     "79ba1b04881b478ea659cd832ecea450": {
      "model_module": "@jupyter-widgets/base",
      "model_module_version": "2.0.0",
      "model_name": "LayoutModel",
      "state": {
       "display": "inline-flex",
       "flex_flow": "row wrap",
       "visibility": "hidden",
       "width": "100%"
      }
     },
     "79fcf1202fbd43a49462877bed242c07": {
      "model_module": "@jupyter-widgets/controls",
      "model_module_version": "2.0.0",
      "model_name": "ProgressStyleModel",
      "state": {
       "description_width": ""
      }
     },
     "79fd4f6d4161484f89496d81a649e95c": {
      "model_module": "@jupyter-widgets/base",
      "model_module_version": "2.0.0",
      "model_name": "LayoutModel",
      "state": {
       "flex": "2"
      }
     },
     "7a0951b755184098858f57ea9630f325": {
      "model_module": "@jupyter-widgets/controls",
      "model_module_version": "2.0.0",
      "model_name": "FloatProgressModel",
      "state": {
       "layout": "IPY_MODEL_87133d5fa62f4029bfd72872825fa518",
       "max": 1,
       "style": "IPY_MODEL_030911832f7f4dc5a7f13bc66a6e8c64",
       "value": 1
      }
     },
     "7a2717a6c88f49b7b3c015917eaf9f4e": {
      "model_module": "@jupyter-widgets/controls",
      "model_module_version": "2.0.0",
      "model_name": "ProgressStyleModel",
      "state": {
       "description_width": ""
      }
     },
     "7a4f223b92ec40af82c44a101f23da14": {
      "model_module": "@jupyter-widgets/controls",
      "model_module_version": "2.0.0",
      "model_name": "FloatProgressModel",
      "state": {
       "layout": "IPY_MODEL_ac9ff801f98f40baa2f9c3f7ca0c2ca8",
       "max": 1,
       "style": "IPY_MODEL_15edfe33ec0543498662fa025ac9b58c",
       "value": 1
      }
     },
     "7a6e589d52d04068904f9a97e2a66739": {
      "model_module": "@jupyter-widgets/controls",
      "model_module_version": "2.0.0",
      "model_name": "HTMLModel",
      "state": {
       "layout": "IPY_MODEL_25e9271b13574e7aa70eb99a9d7622f7",
       "style": "IPY_MODEL_7b7f6942b4364c678227f62c5c524e2b",
       "value": "Validation DataLoader 0: 100%"
      }
     },
     "7aba9a52feb64056a5906c8a0b9bd095": {
      "model_module": "@jupyter-widgets/controls",
      "model_module_version": "2.0.0",
      "model_name": "HTMLModel",
      "state": {
       "layout": "IPY_MODEL_e3e9ce229d8b4b76bb2224c993ac4e98",
       "style": "IPY_MODEL_a3e8f2512e9a4404adc636633d07a4c0",
       "value": " 1/1 [00:00&lt;00:00, 52.64it/s]"
      }
     },
     "7acb5942836b4700822796324e535f22": {
      "model_module": "@jupyter-widgets/controls",
      "model_module_version": "2.0.0",
      "model_name": "HTMLModel",
      "state": {
       "layout": "IPY_MODEL_5882c21c7a2d4f1fb0f7edf24aeb5a5d",
       "style": "IPY_MODEL_c87d857df859439f92e0e27d9e31b12e",
       "value": " 1/1 [00:00&lt;00:00, 14.58it/s, v_num=300, train_loss_step=0.317, train_loss_epoch=0.317, valid_loss=256.0]"
      }
     },
     "7b3249fcaf7d4ef1bf4f5ebd2fe7bf58": {
      "model_module": "@jupyter-widgets/base",
      "model_module_version": "2.0.0",
      "model_name": "LayoutModel",
      "state": {}
     },
     "7b6535529b1f4b8aad3b8011120047b0": {
      "model_module": "@jupyter-widgets/base",
      "model_module_version": "2.0.0",
      "model_name": "LayoutModel",
      "state": {
       "display": "inline-flex",
       "flex_flow": "row wrap",
       "visibility": "hidden",
       "width": "100%"
      }
     },
     "7b751a03a024418d955b5e63b8699d45": {
      "model_module": "@jupyter-widgets/base",
      "model_module_version": "2.0.0",
      "model_name": "LayoutModel",
      "state": {
       "flex": "2"
      }
     },
     "7b76625095b342428c8bc08367768b7c": {
      "model_module": "@jupyter-widgets/base",
      "model_module_version": "2.0.0",
      "model_name": "LayoutModel",
      "state": {}
     },
     "7b7f6942b4364c678227f62c5c524e2b": {
      "model_module": "@jupyter-widgets/controls",
      "model_module_version": "2.0.0",
      "model_name": "HTMLStyleModel",
      "state": {
       "description_width": "",
       "font_size": null,
       "text_color": null
      }
     },
     "7bb4601dd54e4c84b28b82cfe3618825": {
      "model_module": "@jupyter-widgets/controls",
      "model_module_version": "2.0.0",
      "model_name": "ProgressStyleModel",
      "state": {
       "description_width": ""
      }
     },
     "7be5e2126a7b49a983350ece82a929a2": {
      "model_module": "@jupyter-widgets/controls",
      "model_module_version": "2.0.0",
      "model_name": "HTMLModel",
      "state": {
       "layout": "IPY_MODEL_13b07eedcfd141d1a78261eb905a24db",
       "style": "IPY_MODEL_0fab9a1c07174a699aff4a1f32ee3f14",
       "value": " 1/1 [00:00&lt;00:00, 40.80it/s]"
      }
     },
     "7c6a1f621bf0404f9e2f82aefbce7e48": {
      "model_module": "@jupyter-widgets/base",
      "model_module_version": "2.0.0",
      "model_name": "LayoutModel",
      "state": {}
     },
     "7c83a411f4d44085aae96bac5e5d328e": {
      "model_module": "@jupyter-widgets/controls",
      "model_module_version": "2.0.0",
      "model_name": "HTMLStyleModel",
      "state": {
       "description_width": "",
       "font_size": null,
       "text_color": null
      }
     },
     "7c86ab7371504012b790f02b94dd2cc0": {
      "model_module": "@jupyter-widgets/base",
      "model_module_version": "2.0.0",
      "model_name": "LayoutModel",
      "state": {}
     },
     "7cb59a4a4648419a8859e48639c12cf2": {
      "model_module": "@jupyter-widgets/base",
      "model_module_version": "2.0.0",
      "model_name": "LayoutModel",
      "state": {}
     },
     "7cddfd8c55b9449b91fe7a3c14839d7e": {
      "model_module": "@jupyter-widgets/base",
      "model_module_version": "2.0.0",
      "model_name": "LayoutModel",
      "state": {
       "flex": "2"
      }
     },
     "7d0b14372db348e592108f030a67bcbd": {
      "model_module": "@jupyter-widgets/controls",
      "model_module_version": "2.0.0",
      "model_name": "HTMLStyleModel",
      "state": {
       "description_width": "",
       "font_size": null,
       "text_color": null
      }
     },
     "7d34e22461d54d8d893ea5d724b57b3d": {
      "model_module": "@jupyter-widgets/base",
      "model_module_version": "2.0.0",
      "model_name": "LayoutModel",
      "state": {
       "flex": "2"
      }
     },
     "7d52957cb0034ccfb244342bcaf51901": {
      "model_module": "@jupyter-widgets/controls",
      "model_module_version": "2.0.0",
      "model_name": "HTMLStyleModel",
      "state": {
       "description_width": "",
       "font_size": null,
       "text_color": null
      }
     },
     "7dc1061deb384ea9a9c243f052006de9": {
      "model_module": "@jupyter-widgets/base",
      "model_module_version": "2.0.0",
      "model_name": "LayoutModel",
      "state": {
       "display": "inline-flex",
       "flex_flow": "row wrap",
       "visibility": "hidden",
       "width": "100%"
      }
     },
     "7dc75dd36bc94ab689e0e65d4bcaf5c9": {
      "model_module": "@jupyter-widgets/base",
      "model_module_version": "2.0.0",
      "model_name": "LayoutModel",
      "state": {}
     },
     "7e7d499de0304a6e9e40a5f68ea918f9": {
      "model_module": "@jupyter-widgets/base",
      "model_module_version": "2.0.0",
      "model_name": "LayoutModel",
      "state": {}
     },
     "7e9fdf4a9fe545279ccfe23bbd5c9286": {
      "model_module": "@jupyter-widgets/base",
      "model_module_version": "2.0.0",
      "model_name": "LayoutModel",
      "state": {}
     },
     "7ea58810c1364f73b82a093b61ed14bf": {
      "model_module": "@jupyter-widgets/base",
      "model_module_version": "2.0.0",
      "model_name": "LayoutModel",
      "state": {
       "flex": "2"
      }
     },
     "7fbdd80ca3ce400d8e8b83df411faa59": {
      "model_module": "@jupyter-widgets/controls",
      "model_module_version": "2.0.0",
      "model_name": "HTMLStyleModel",
      "state": {
       "description_width": "",
       "font_size": null,
       "text_color": null
      }
     },
     "8009dd3da38d4082994682b82cc6d77f": {
      "model_module": "@jupyter-widgets/controls",
      "model_module_version": "2.0.0",
      "model_name": "HTMLModel",
      "state": {
       "layout": "IPY_MODEL_8c8f4d8fae7c49729a303ecd1bcd2e69",
       "style": "IPY_MODEL_b16d1b18ab164e8b8058e390e5e0846c",
       "value": " 1/1 [00:00&lt;00:00, 43.64it/s]"
      }
     },
     "803b7e3c543646e5ab379e563d34d5cd": {
      "model_module": "@jupyter-widgets/controls",
      "model_module_version": "2.0.0",
      "model_name": "HTMLModel",
      "state": {
       "layout": "IPY_MODEL_9a26f66a30a84ff0a30707d9996e35a3",
       "style": "IPY_MODEL_2c36fc5a6cdf4725b53522234c145041",
       "value": " 1/1 [00:00&lt;00:00,  2.92it/s, v_num=305, train_loss_step=0.000, train_loss_epoch=0.000, valid_loss=0.000]"
      }
     },
     "803fccd858be44fcb9b0bc31ea50c8b4": {
      "model_module": "@jupyter-widgets/controls",
      "model_module_version": "2.0.0",
      "model_name": "ProgressStyleModel",
      "state": {
       "description_width": ""
      }
     },
     "804311f3263149bea6e213fcece7f704": {
      "model_module": "@jupyter-widgets/base",
      "model_module_version": "2.0.0",
      "model_name": "LayoutModel",
      "state": {}
     },
     "804994375bf74662907dd7cba18ae5f4": {
      "model_module": "@jupyter-widgets/controls",
      "model_module_version": "2.0.0",
      "model_name": "HTMLModel",
      "state": {
       "layout": "IPY_MODEL_15540565d6074effb5dd28ace21f6b64",
       "style": "IPY_MODEL_d10f91e1b1494ce5a26e582f505d80d5",
       "value": " 1/1 [00:00&lt;00:00, 34.48it/s]"
      }
     },
     "8093739784a04d69b2b82fae4e5f9b77": {
      "model_module": "@jupyter-widgets/controls",
      "model_module_version": "2.0.0",
      "model_name": "FloatProgressModel",
      "state": {
       "layout": "IPY_MODEL_1ca7782613014bda882c8f39df481c26",
       "max": 1,
       "style": "IPY_MODEL_70371b9973c6457cbb51e27460bbe281",
       "value": 1
      }
     },
     "80ca6084e76d4bf6b08807371462e4e4": {
      "model_module": "@jupyter-widgets/controls",
      "model_module_version": "2.0.0",
      "model_name": "HTMLModel",
      "state": {
       "layout": "IPY_MODEL_efbad02e90424d9db040da9603a5af16",
       "style": "IPY_MODEL_d4aeb757a5e8468e82627ae777f67f2c",
       "value": " 500/500 [05:51&lt;00:00,  1.91it/s]"
      }
     },
     "80d25dadacd0405c86f7a8ac43de4080": {
      "model_module": "@jupyter-widgets/base",
      "model_module_version": "2.0.0",
      "model_name": "LayoutModel",
      "state": {}
     },
     "80ddc88b7cdb441e91016138341ea135": {
      "model_module": "@jupyter-widgets/base",
      "model_module_version": "2.0.0",
      "model_name": "LayoutModel",
      "state": {}
     },
     "8135d89584ad4e5191a3072fb2358ac0": {
      "model_module": "@jupyter-widgets/controls",
      "model_module_version": "2.0.0",
      "model_name": "HTMLStyleModel",
      "state": {
       "description_width": "",
       "font_size": null,
       "text_color": null
      }
     },
     "81575fcf89a941328cecf73f76ba4b17": {
      "model_module": "@jupyter-widgets/controls",
      "model_module_version": "2.0.0",
      "model_name": "HBoxModel",
      "state": {
       "children": [
        "IPY_MODEL_b751a3a704d749f5b07a019b075166df",
        "IPY_MODEL_28a1d27c4f9a4031b36df9c3eb2fb1b6",
        "IPY_MODEL_0002af17c1ab471dadbfe79cc985c2d0"
       ],
       "layout": "IPY_MODEL_b33f5a5eb9a843a3b5584b12a37de383"
      }
     },
     "81b15bf961424ffabec4387a1f51d24f": {
      "model_module": "@jupyter-widgets/base",
      "model_module_version": "2.0.0",
      "model_name": "LayoutModel",
      "state": {}
     },
     "81b83c76dd194dc1ac53dda37e587da2": {
      "model_module": "@jupyter-widgets/controls",
      "model_module_version": "2.0.0",
      "model_name": "HTMLModel",
      "state": {
       "layout": "IPY_MODEL_0d9066271d6546b1a032a26ac02f4289",
       "style": "IPY_MODEL_4b0811d2da7943eab37fafa638519b31",
       "value": "Epoch 999: 100%"
      }
     },
     "81be4570dbfb4672acca48a7d1107580": {
      "model_module": "@jupyter-widgets/controls",
      "model_module_version": "2.0.0",
      "model_name": "ProgressStyleModel",
      "state": {
       "description_width": ""
      }
     },
     "81d06f6e6b1548479c7decae53d85048": {
      "model_module": "@jupyter-widgets/base",
      "model_module_version": "2.0.0",
      "model_name": "LayoutModel",
      "state": {
       "display": "inline-flex",
       "flex_flow": "row wrap",
       "visibility": "hidden",
       "width": "100%"
      }
     },
     "81d97fb17e2343c4bad36f15cd6a19a8": {
      "model_module": "@jupyter-widgets/base",
      "model_module_version": "2.0.0",
      "model_name": "LayoutModel",
      "state": {
       "display": "inline-flex",
       "flex_flow": "row wrap",
       "visibility": "hidden",
       "width": "100%"
      }
     },
     "81e8887118d54407a1916b64da5f1e36": {
      "model_module": "@jupyter-widgets/controls",
      "model_module_version": "2.0.0",
      "model_name": "HTMLStyleModel",
      "state": {
       "description_width": "",
       "font_size": null,
       "text_color": null
      }
     },
     "81ee7727e6f745a48b0177afa75c0e4a": {
      "model_module": "@jupyter-widgets/controls",
      "model_module_version": "2.0.0",
      "model_name": "HTMLModel",
      "state": {
       "layout": "IPY_MODEL_ffee50aa0b7244b497a7ca90f3e905ce",
       "style": "IPY_MODEL_0568b27700fc416c9de0aa4f315367a6",
       "value": "Validation DataLoader 0: 100%"
      }
     },
     "823ece78103a43f7b73fe7f29bd13d59": {
      "model_module": "@jupyter-widgets/base",
      "model_module_version": "2.0.0",
      "model_name": "LayoutModel",
      "state": {}
     },
     "8286f7c2d06e4fcbbde06014ca29b45c": {
      "model_module": "@jupyter-widgets/base",
      "model_module_version": "2.0.0",
      "model_name": "LayoutModel",
      "state": {}
     },
     "828e6630c691447495e8dac9b82eb56d": {
      "model_module": "@jupyter-widgets/base",
      "model_module_version": "2.0.0",
      "model_name": "LayoutModel",
      "state": {
       "display": "inline-flex",
       "flex_flow": "row wrap",
       "visibility": "hidden",
       "width": "100%"
      }
     },
     "829604e333d34a038adcfdb2698c7687": {
      "model_module": "@jupyter-widgets/base",
      "model_module_version": "2.0.0",
      "model_name": "LayoutModel",
      "state": {}
     },
     "8311a5a96a1d43429a28ab7e07cf4115": {
      "model_module": "@jupyter-widgets/controls",
      "model_module_version": "2.0.0",
      "model_name": "HTMLModel",
      "state": {
       "layout": "IPY_MODEL_dcf313455e994ef2b7a5341da4399165",
       "style": "IPY_MODEL_5c93047fe6804d659a164c9b19a544a8",
       "value": "Epoch 99: 100%"
      }
     },
     "8359e31a469448b6a395c6ed29239bb2": {
      "model_module": "@jupyter-widgets/base",
      "model_module_version": "2.0.0",
      "model_name": "LayoutModel",
      "state": {}
     },
     "840045ea7d7747e99c7793a9d087d064": {
      "model_module": "@jupyter-widgets/base",
      "model_module_version": "2.0.0",
      "model_name": "LayoutModel",
      "state": {}
     },
     "84026cb234174a1e9234491c97499049": {
      "model_module": "@jupyter-widgets/controls",
      "model_module_version": "2.0.0",
      "model_name": "HTMLModel",
      "state": {
       "layout": "IPY_MODEL_63644d5c631d4e7d868dda06f0b8a067",
       "style": "IPY_MODEL_2de41242e3a9484fb26170937be5c4ac",
       "value": " 1/1 [00:00&lt;00:00, 48.11it/s]"
      }
     },
     "848c593e4e6447ca90f074e42bac9ce6": {
      "model_module": "@jupyter-widgets/controls",
      "model_module_version": "2.0.0",
      "model_name": "HTMLModel",
      "state": {
       "layout": "IPY_MODEL_296074c0bddf4876b31c0a54479f81e7",
       "style": "IPY_MODEL_f48eb13355f341c29d3946cc45f49890",
       "value": " 1/1 [00:00&lt;00:00,  5.69it/s]"
      }
     },
     "84d58c08b7304c41848ae51134847a2f": {
      "model_module": "@jupyter-widgets/controls",
      "model_module_version": "2.0.0",
      "model_name": "HTMLModel",
      "state": {
       "layout": "IPY_MODEL_884ec69a13ce492b81b85d34cda0103b",
       "style": "IPY_MODEL_130af6bb35f34390b8a983b6f7b34963",
       "value": "Validation DataLoader 0: 100%"
      }
     },
     "85326bd725dc4bc5a96bfd8b8b9d3907": {
      "model_module": "@jupyter-widgets/base",
      "model_module_version": "2.0.0",
      "model_name": "LayoutModel",
      "state": {}
     },
     "8587ed5d1fc5481aa6f32c817fb0debc": {
      "model_module": "@jupyter-widgets/controls",
      "model_module_version": "2.0.0",
      "model_name": "HTMLModel",
      "state": {
       "layout": "IPY_MODEL_15da75c706684e63896270f7664d41ed",
       "style": "IPY_MODEL_728e2a527370472e91a0245a79bd2997",
       "value": "Epoch 99: 100%"
      }
     },
     "85a6ecaa0c0146e4a27e5c718fc5977e": {
      "model_module": "@jupyter-widgets/controls",
      "model_module_version": "2.0.0",
      "model_name": "HBoxModel",
      "state": {
       "children": [
        "IPY_MODEL_73736d7819064e77b8a304aca4cc667c",
        "IPY_MODEL_bd1a9309a63c4e4593d4b8cdf03bdc84",
        "IPY_MODEL_90cd1c2ab8c44917b207eb64c18b595d"
       ],
       "layout": "IPY_MODEL_750ee4a8e728490fa8dd8a057545e351"
      }
     },
     "85d1a531f0244c7194aec2d0f43ca773": {
      "model_module": "@jupyter-widgets/controls",
      "model_module_version": "2.0.0",
      "model_name": "ProgressStyleModel",
      "state": {
       "description_width": ""
      }
     },
     "85f5f6a6f92c4bd4b1ce27b22a31b140": {
      "model_module": "@jupyter-widgets/controls",
      "model_module_version": "2.0.0",
      "model_name": "ProgressStyleModel",
      "state": {
       "description_width": ""
      }
     },
     "8625678125c448cbb122123b7517378e": {
      "model_module": "@jupyter-widgets/base",
      "model_module_version": "2.0.0",
      "model_name": "LayoutModel",
      "state": {
       "flex": "2"
      }
     },
     "863103a3655f4172a64a8088724c27ee": {
      "model_module": "@jupyter-widgets/controls",
      "model_module_version": "2.0.0",
      "model_name": "HTMLModel",
      "state": {
       "layout": "IPY_MODEL_db1ee6dee420459990dc8c0d79fad5d1",
       "style": "IPY_MODEL_ff3990da88974086bad9d5cc27a397d7",
       "value": " 1/1 [00:00&lt;00:00, 11.54it/s, v_num=282, train_loss_step=1.020, train_loss_epoch=1.020, valid_loss=294.0]"
      }
     },
     "8690c898f3d24126ac0d8b9dd50cd6f7": {
      "model_module": "@jupyter-widgets/controls",
      "model_module_version": "2.0.0",
      "model_name": "HTMLStyleModel",
      "state": {
       "description_width": "",
       "font_size": null,
       "text_color": null
      }
     },
     "869b42c31b6f4ee38273c4ea158ee7e8": {
      "model_module": "@jupyter-widgets/base",
      "model_module_version": "2.0.0",
      "model_name": "LayoutModel",
      "state": {
       "display": "inline-flex",
       "flex_flow": "row wrap",
       "visibility": "hidden",
       "width": "100%"
      }
     },
     "86accc68915b4cbe98a60bc2ae6bb619": {
      "model_module": "@jupyter-widgets/base",
      "model_module_version": "2.0.0",
      "model_name": "LayoutModel",
      "state": {
       "flex": "2"
      }
     },
     "86d70f393b6b410f8b496e2f72b769f0": {
      "model_module": "@jupyter-widgets/controls",
      "model_module_version": "2.0.0",
      "model_name": "FloatProgressModel",
      "state": {
       "layout": "IPY_MODEL_ca7c31fd7dac48bda6f898b36ab546b8",
       "max": 1,
       "style": "IPY_MODEL_962d525282254e5089cf6a0e4c535d37",
       "value": 1
      }
     },
     "86ef4a02ec564ca4bc5e24e603116637": {
      "model_module": "@jupyter-widgets/controls",
      "model_module_version": "2.0.0",
      "model_name": "HTMLModel",
      "state": {
       "layout": "IPY_MODEL_1f2985f14e9e4f4587e37662f8f9243b",
       "style": "IPY_MODEL_14f7fb33fd7a45a0a3c6b045dfcb8cd7",
       "value": " 1/1 [00:00&lt;00:00,  3.23it/s, train_loss_step=0.000, train_loss_epoch=0.000]"
      }
     },
     "86f894881b84446583ca0cb59b7a3a94": {
      "model_module": "@jupyter-widgets/controls",
      "model_module_version": "2.0.0",
      "model_name": "HTMLModel",
      "state": {
       "layout": "IPY_MODEL_fb07938e029b4229a48bffea7211e51a",
       "style": "IPY_MODEL_03050c7856b14b07a23c8a04991fc582",
       "value": " 1/1 [00:00&lt;00:00, 999.36it/s]"
      }
     },
     "870904874b8046e09d683cca741a16b2": {
      "model_module": "@jupyter-widgets/base",
      "model_module_version": "2.0.0",
      "model_name": "LayoutModel",
      "state": {}
     },
     "87133d5fa62f4029bfd72872825fa518": {
      "model_module": "@jupyter-widgets/base",
      "model_module_version": "2.0.0",
      "model_name": "LayoutModel",
      "state": {
       "flex": "2"
      }
     },
     "872ed4960b0f4f73a9af8a24565a9a23": {
      "model_module": "@jupyter-widgets/controls",
      "model_module_version": "2.0.0",
      "model_name": "HTMLModel",
      "state": {
       "layout": "IPY_MODEL_6a0b9f6286c9439d9d8caa3aa863ff40",
       "style": "IPY_MODEL_44086433741245708a2b99b853888e6a",
       "value": " 1/1 [00:00&lt;00:00, 124.71it/s]"
      }
     },
     "87a6f71a424a43dd989d00c6ddafb40c": {
      "model_module": "@jupyter-widgets/base",
      "model_module_version": "2.0.0",
      "model_name": "LayoutModel",
      "state": {
       "display": "inline-flex",
       "flex_flow": "row wrap",
       "width": "100%"
      }
     },
     "87ad91c883bd48f68e897e7bbc51c546": {
      "model_module": "@jupyter-widgets/controls",
      "model_module_version": "2.0.0",
      "model_name": "HTMLModel",
      "state": {
       "layout": "IPY_MODEL_f8808e596eea4a5ebcf21c0f38254680",
       "style": "IPY_MODEL_052f38d9cc0c477788af7b9e863134ac",
       "value": "Validation DataLoader 0: 100%"
      }
     },
     "87d7f232fa95418cb5f8ebbd257235b0": {
      "model_module": "@jupyter-widgets/controls",
      "model_module_version": "2.0.0",
      "model_name": "HTMLStyleModel",
      "state": {
       "description_width": "",
       "font_size": null,
       "text_color": null
      }
     },
     "882e950206c64ccd9ef4a5a9d4b8228a": {
      "model_module": "@jupyter-widgets/controls",
      "model_module_version": "2.0.0",
      "model_name": "HTMLStyleModel",
      "state": {
       "description_width": "",
       "font_size": null,
       "text_color": null
      }
     },
     "884ec69a13ce492b81b85d34cda0103b": {
      "model_module": "@jupyter-widgets/base",
      "model_module_version": "2.0.0",
      "model_name": "LayoutModel",
      "state": {}
     },
     "886a1d506f7c451390418f016dffde31": {
      "model_module": "@jupyter-widgets/base",
      "model_module_version": "2.0.0",
      "model_name": "LayoutModel",
      "state": {}
     },
     "8886b5a1b10c411f9fdb379e88b08db3": {
      "model_module": "@jupyter-widgets/controls",
      "model_module_version": "2.0.0",
      "model_name": "FloatProgressModel",
      "state": {
       "layout": "IPY_MODEL_a65997402fca4d79903514518ee4dc89",
       "max": 1,
       "style": "IPY_MODEL_8f8524c332d540e082f715a00156856d",
       "value": 1
      }
     },
     "888da1b478874326a499249969dad699": {
      "model_module": "@jupyter-widgets/base",
      "model_module_version": "2.0.0",
      "model_name": "LayoutModel",
      "state": {}
     },
     "89c8c4843a45406cbd4e74add0979d00": {
      "model_module": "@jupyter-widgets/controls",
      "model_module_version": "2.0.0",
      "model_name": "HTMLStyleModel",
      "state": {
       "description_width": "",
       "font_size": null,
       "text_color": null
      }
     },
     "8a03b66bea5446658ef8c5b93073924d": {
      "model_module": "@jupyter-widgets/base",
      "model_module_version": "2.0.0",
      "model_name": "LayoutModel",
      "state": {}
     },
     "8a28848e61594820afab664098770aae": {
      "model_module": "@jupyter-widgets/controls",
      "model_module_version": "2.0.0",
      "model_name": "HTMLModel",
      "state": {
       "layout": "IPY_MODEL_a83191647595493a833e75a9a7865e3d",
       "style": "IPY_MODEL_6756027605c84398bf5bca8f620dedbf",
       "value": " 0/1 [00:00&lt;?, ?it/s, train_loss_step=0.000, train_loss_epoch=0.000]"
      }
     },
     "8a40af13b6904a58a81deb7813601032": {
      "model_module": "@jupyter-widgets/controls",
      "model_module_version": "2.0.0",
      "model_name": "HTMLModel",
      "state": {
       "layout": "IPY_MODEL_0a70b73a081f454893236050bec1fffc",
       "style": "IPY_MODEL_d741b966281a4d0ea1a478b1f0fd0cd9",
       "value": " 1/1 [00:00&lt;00:00, 41.67it/s]"
      }
     },
     "8a660d9eaef648fdb8e2064eb79c46f6": {
      "model_module": "@jupyter-widgets/base",
      "model_module_version": "2.0.0",
      "model_name": "LayoutModel",
      "state": {}
     },
     "8aedafabf5ed434e80c0e398c0996d2a": {
      "model_module": "@jupyter-widgets/controls",
      "model_module_version": "2.0.0",
      "model_name": "HTMLStyleModel",
      "state": {
       "description_width": "",
       "font_size": null,
       "text_color": null
      }
     },
     "8b058d2b43ef478db8611fa91365b88e": {
      "model_module": "@jupyter-widgets/controls",
      "model_module_version": "2.0.0",
      "model_name": "ProgressStyleModel",
      "state": {
       "description_width": ""
      }
     },
     "8b19d337f1744a99976680ad71214d47": {
      "model_module": "@jupyter-widgets/controls",
      "model_module_version": "2.0.0",
      "model_name": "HTMLModel",
      "state": {
       "layout": "IPY_MODEL_2fa58b95bcde4af0893b7630b40bd2d0",
       "style": "IPY_MODEL_d53859d088a6476b9a9ac3b6015350eb",
       "value": " 1/1 [00:00&lt;00:00, 12.56it/s]"
      }
     },
     "8b2194b36e934a299cadd0edb6349a57": {
      "model_module": "@jupyter-widgets/base",
      "model_module_version": "2.0.0",
      "model_name": "LayoutModel",
      "state": {
       "flex": "2"
      }
     },
     "8b88e53ab5bd42168156cf4e10726c25": {
      "model_module": "@jupyter-widgets/controls",
      "model_module_version": "2.0.0",
      "model_name": "HTMLModel",
      "state": {
       "layout": "IPY_MODEL_3a8ab7b5c644472a80879a26dbffcd62",
       "style": "IPY_MODEL_fd6aa1d19deb4a11b011974effab27a6",
       "value": " 1/1 [00:00&lt;00:00, 76.92it/s]"
      }
     },
     "8bd2997e3f6f46b693d057fa3168905e": {
      "model_module": "@jupyter-widgets/controls",
      "model_module_version": "2.0.0",
      "model_name": "HTMLModel",
      "state": {
       "layout": "IPY_MODEL_ab737cce42da48719fa7c0b91dae98eb",
       "style": "IPY_MODEL_16f42178e09c47d39ddbbf3458842a48",
       "value": "Sanity Checking DataLoader 0: 100%"
      }
     },
     "8c11c5579eb247c289989388b8c42830": {
      "model_module": "@jupyter-widgets/controls",
      "model_module_version": "2.0.0",
      "model_name": "HTMLModel",
      "state": {
       "layout": "IPY_MODEL_735b14757d6c4b94bb9df1554f978431",
       "style": "IPY_MODEL_01915c45f17f491d9e58d92100185fbe",
       "value": " 1/1 [00:00&lt;00:00, 40.00it/s]"
      }
     },
     "8c571fb6ed5847f6b1aba9fddf3e247d": {
      "model_module": "@jupyter-widgets/base",
      "model_module_version": "2.0.0",
      "model_name": "LayoutModel",
      "state": {
       "display": "inline-flex",
       "flex_flow": "row wrap",
       "width": "100%"
      }
     },
     "8c5a5e98d0f84a4782eae2ee53f6c42f": {
      "model_module": "@jupyter-widgets/controls",
      "model_module_version": "2.0.0",
      "model_name": "HBoxModel",
      "state": {
       "children": [
        "IPY_MODEL_e52bd926cf1e4f81b7ae890883d26822",
        "IPY_MODEL_c8caad11ac06442ba38abbf181b63fc3",
        "IPY_MODEL_1b86e602050d43079b585d410882164a"
       ],
       "layout": "IPY_MODEL_bc075954c5fe44c29413f1d71c654334"
      }
     },
     "8c622f58117045c8acffca6942934a8f": {
      "model_module": "@jupyter-widgets/controls",
      "model_module_version": "2.0.0",
      "model_name": "ProgressStyleModel",
      "state": {
       "description_width": ""
      }
     },
     "8c8f4d8fae7c49729a303ecd1bcd2e69": {
      "model_module": "@jupyter-widgets/base",
      "model_module_version": "2.0.0",
      "model_name": "LayoutModel",
      "state": {}
     },
     "8cb376a0cae445fda24e99a1b6b287ce": {
      "model_module": "@jupyter-widgets/base",
      "model_module_version": "2.0.0",
      "model_name": "LayoutModel",
      "state": {
       "flex": "2"
      }
     },
     "8cb47963693a4406b902a5c9fd4024b7": {
      "model_module": "@jupyter-widgets/base",
      "model_module_version": "2.0.0",
      "model_name": "LayoutModel",
      "state": {}
     },
     "8d30d311c9ba43789d6035cbea24b95f": {
      "model_module": "@jupyter-widgets/base",
      "model_module_version": "2.0.0",
      "model_name": "LayoutModel",
      "state": {}
     },
     "8d9c7bdf4b55419298132969fd15bfb0": {
      "model_module": "@jupyter-widgets/base",
      "model_module_version": "2.0.0",
      "model_name": "LayoutModel",
      "state": {
       "flex": "2"
      }
     },
     "8dd0070713ac4bca9b108f4c95c831cb": {
      "model_module": "@jupyter-widgets/controls",
      "model_module_version": "2.0.0",
      "model_name": "FloatProgressModel",
      "state": {
       "layout": "IPY_MODEL_a149ee2e7a214d7798fb01c6f0f04369",
       "max": 1,
       "style": "IPY_MODEL_11863552a665475e9c84385accb0c647"
      }
     },
     "8e0043ad9bc042058bd47c813160a369": {
      "model_module": "@jupyter-widgets/base",
      "model_module_version": "2.0.0",
      "model_name": "LayoutModel",
      "state": {
       "display": "inline-flex",
       "flex_flow": "row wrap",
       "visibility": "hidden",
       "width": "100%"
      }
     },
     "8e26c4a86bda42e9ac8b65aec8e5c7e7": {
      "model_module": "@jupyter-widgets/base",
      "model_module_version": "2.0.0",
      "model_name": "LayoutModel",
      "state": {
       "display": "inline-flex",
       "flex_flow": "row wrap",
       "visibility": "hidden",
       "width": "100%"
      }
     },
     "8e482155e78c472dbf61c7cc1e0155bd": {
      "model_module": "@jupyter-widgets/base",
      "model_module_version": "2.0.0",
      "model_name": "LayoutModel",
      "state": {
       "flex": "2"
      }
     },
     "8e4931fb3cd542daa982254a2453202d": {
      "model_module": "@jupyter-widgets/base",
      "model_module_version": "2.0.0",
      "model_name": "LayoutModel",
      "state": {
       "display": "inline-flex",
       "flex_flow": "row wrap",
       "visibility": "hidden",
       "width": "100%"
      }
     },
     "8eb29482cd2646c6a1b8afa605c3043a": {
      "model_module": "@jupyter-widgets/base",
      "model_module_version": "2.0.0",
      "model_name": "LayoutModel",
      "state": {
       "display": "inline-flex",
       "flex_flow": "row wrap",
       "visibility": "hidden",
       "width": "100%"
      }
     },
     "8ec6b42586914ae3a2fe414d0529748a": {
      "model_module": "@jupyter-widgets/controls",
      "model_module_version": "2.0.0",
      "model_name": "HTMLStyleModel",
      "state": {
       "description_width": "",
       "font_size": null,
       "text_color": null
      }
     },
     "8ed7176530b44b32854c058ab2955402": {
      "model_module": "@jupyter-widgets/controls",
      "model_module_version": "2.0.0",
      "model_name": "ProgressStyleModel",
      "state": {
       "description_width": ""
      }
     },
     "8f0ea72b2040441bb5010683e8bd56d9": {
      "model_module": "@jupyter-widgets/controls",
      "model_module_version": "2.0.0",
      "model_name": "ProgressStyleModel",
      "state": {
       "description_width": ""
      }
     },
     "8f3c228742704ee48abb607b79f95b47": {
      "model_module": "@jupyter-widgets/controls",
      "model_module_version": "2.0.0",
      "model_name": "FloatProgressModel",
      "state": {
       "bar_style": "success",
       "layout": "IPY_MODEL_7cddfd8c55b9449b91fe7a3c14839d7e",
       "max": 1,
       "style": "IPY_MODEL_0bcd16ff68c84347acce86d950d7e569",
       "value": 1
      }
     },
     "8f6c216ea3ae4c47b4a7030896826d36": {
      "model_module": "@jupyter-widgets/base",
      "model_module_version": "2.0.0",
      "model_name": "LayoutModel",
      "state": {}
     },
     "8f8524c332d540e082f715a00156856d": {
      "model_module": "@jupyter-widgets/controls",
      "model_module_version": "2.0.0",
      "model_name": "ProgressStyleModel",
      "state": {
       "description_width": ""
      }
     },
     "904417c9f7f54dbeab4d315f47e12978": {
      "model_module": "@jupyter-widgets/controls",
      "model_module_version": "2.0.0",
      "model_name": "FloatProgressModel",
      "state": {
       "bar_style": "success",
       "layout": "IPY_MODEL_df8dcc129b6742a88c3c5ccb05b0ce26",
       "max": 1,
       "style": "IPY_MODEL_a61156c8784a46c2966234041a2fdca9",
       "value": 1
      }
     },
     "904d4ae54897441ab0022b36ad325c75": {
      "model_module": "@jupyter-widgets/controls",
      "model_module_version": "2.0.0",
      "model_name": "FloatProgressModel",
      "state": {
       "bar_style": "success",
       "layout": "IPY_MODEL_56083ae62193402b9553e1620f0792e9",
       "max": 1,
       "style": "IPY_MODEL_ad47f88a59354d1595be5cc80989e574",
       "value": 1
      }
     },
     "907b1bb5b6c5450d9cbb84c890a9a145": {
      "model_module": "@jupyter-widgets/controls",
      "model_module_version": "2.0.0",
      "model_name": "HTMLModel",
      "state": {
       "layout": "IPY_MODEL_2cb1d99477da404b9e7dc09f3901fd3f",
       "style": "IPY_MODEL_8ec6b42586914ae3a2fe414d0529748a",
       "value": "Validation DataLoader 0: 100%"
      }
     },
     "90cd1c2ab8c44917b207eb64c18b595d": {
      "model_module": "@jupyter-widgets/controls",
      "model_module_version": "2.0.0",
      "model_name": "HTMLModel",
      "state": {
       "layout": "IPY_MODEL_32f41026b3b945a3bce96a385f21b6f6",
       "style": "IPY_MODEL_4c743d2b41c4452eb84f35373624d314",
       "value": " 1/1 [00:00&lt;00:00,  4.69it/s, v_num=296, train_loss_step=0.290, train_loss_epoch=0.290, valid_loss=261.0]"
      }
     },
     "913d48d2ff624a1cb94d66ce63909f25": {
      "model_module": "@jupyter-widgets/controls",
      "model_module_version": "2.0.0",
      "model_name": "HTMLModel",
      "state": {
       "layout": "IPY_MODEL_b89bda940ddb4bf08017ab1457392333",
       "style": "IPY_MODEL_5007b86ec68243d88067f62542b9321d",
       "value": "Epoch 99: 100%"
      }
     },
     "917f98102d524b1d8e39c3426ddf46ec": {
      "model_module": "@jupyter-widgets/controls",
      "model_module_version": "2.0.0",
      "model_name": "HTMLModel",
      "state": {
       "layout": "IPY_MODEL_b61bd00296a1408aa317e861bd127acb",
       "style": "IPY_MODEL_278070e708944c72a995320e4a9b3370",
       "value": " 1/1 [00:00&lt;00:00, 73.89it/s]"
      }
     },
     "9198eda705d048c6834b0f432a02adb0": {
      "model_module": "@jupyter-widgets/base",
      "model_module_version": "2.0.0",
      "model_name": "LayoutModel",
      "state": {
       "display": "inline-flex",
       "flex_flow": "row wrap",
       "visibility": "hidden",
       "width": "100%"
      }
     },
     "919c4a2ed2174c9f9113c8f3ed543a54": {
      "model_module": "@jupyter-widgets/controls",
      "model_module_version": "2.0.0",
      "model_name": "FloatProgressModel",
      "state": {
       "bar_style": "success",
       "layout": "IPY_MODEL_47358e162425436bb758c2afb90caa9b",
       "max": 500,
       "style": "IPY_MODEL_60cc79a7d3254e128d6e2ed5d2439d64",
       "value": 500
      }
     },
     "91fa874c0891479d8c1c796ccc604945": {
      "model_module": "@jupyter-widgets/controls",
      "model_module_version": "2.0.0",
      "model_name": "HBoxModel",
      "state": {
       "children": [
        "IPY_MODEL_05733823ef5746a8af61a0d9fbf428cc",
        "IPY_MODEL_57800ef06691478191989890fed9862b",
        "IPY_MODEL_e3569e9ee9d54665b40143124a8d2ce4"
       ],
       "layout": "IPY_MODEL_0e207b45198d49b7bbea759978b8bb90"
      }
     },
     "92095af3046f4115819cda3d8574ddbd": {
      "model_module": "@jupyter-widgets/base",
      "model_module_version": "2.0.0",
      "model_name": "LayoutModel",
      "state": {}
     },
     "921b07090f644c42a04643eaadcaad39": {
      "model_module": "@jupyter-widgets/controls",
      "model_module_version": "2.0.0",
      "model_name": "HBoxModel",
      "state": {
       "children": [
        "IPY_MODEL_26dafc4cebc5488096edb616b14b7a55",
        "IPY_MODEL_8f3c228742704ee48abb607b79f95b47",
        "IPY_MODEL_54881b9758c745ab8f5970bf6d982ef4"
       ],
       "layout": "IPY_MODEL_8c571fb6ed5847f6b1aba9fddf3e247d"
      }
     },
     "922ad1abe0ac4727a60839b04cfeb78e": {
      "model_module": "@jupyter-widgets/controls",
      "model_module_version": "2.0.0",
      "model_name": "ProgressStyleModel",
      "state": {
       "description_width": ""
      }
     },
     "92c08a35e54246f8b94575d5522d223a": {
      "model_module": "@jupyter-widgets/base",
      "model_module_version": "2.0.0",
      "model_name": "LayoutModel",
      "state": {
       "display": "inline-flex",
       "flex_flow": "row wrap",
       "visibility": "hidden",
       "width": "100%"
      }
     },
     "92c448dd19ff4cedaa15b4c7d1813638": {
      "model_module": "@jupyter-widgets/controls",
      "model_module_version": "2.0.0",
      "model_name": "HTMLModel",
      "state": {
       "layout": "IPY_MODEL_27bb3185716940f5828d104446c896f7",
       "style": "IPY_MODEL_d17b047dd18a4bce8d4204fbc3478671",
       "value": "Validation DataLoader 0: 100%"
      }
     },
     "932113db41b94d8bb1187d5b98cfa7c8": {
      "model_module": "@jupyter-widgets/controls",
      "model_module_version": "2.0.0",
      "model_name": "ProgressStyleModel",
      "state": {
       "description_width": ""
      }
     },
     "9321a8bb7f9842938dd51e43c4c68627": {
      "model_module": "@jupyter-widgets/base",
      "model_module_version": "2.0.0",
      "model_name": "LayoutModel",
      "state": {
       "display": "inline-flex",
       "flex_flow": "row wrap",
       "visibility": "hidden",
       "width": "100%"
      }
     },
     "9376c5e1c50044c0a006c7bf0e1d29c7": {
      "model_module": "@jupyter-widgets/controls",
      "model_module_version": "2.0.0",
      "model_name": "HTMLModel",
      "state": {
       "layout": "IPY_MODEL_b366e3373b04409bb2f251e1107c294c",
       "style": "IPY_MODEL_d9899390766f4694b0802d5341627fa9",
       "value": "Validation DataLoader 0: 100%"
      }
     },
     "9384a4f4a8134c9c91e014268e93bed2": {
      "model_module": "@jupyter-widgets/base",
      "model_module_version": "2.0.0",
      "model_name": "LayoutModel",
      "state": {
       "flex": "2"
      }
     },
     "93a559ce26d2435189d156cf671375dc": {
      "model_module": "@jupyter-widgets/base",
      "model_module_version": "2.0.0",
      "model_name": "LayoutModel",
      "state": {
       "flex": "2"
      }
     },
     "93e63081a9874b9d87495f2de2ce9b01": {
      "model_module": "@jupyter-widgets/base",
      "model_module_version": "2.0.0",
      "model_name": "LayoutModel",
      "state": {}
     },
     "944e79ab10ab46859ccc0757fbe5e13d": {
      "model_module": "@jupyter-widgets/controls",
      "model_module_version": "2.0.0",
      "model_name": "HTMLModel",
      "state": {
       "layout": "IPY_MODEL_257746db377c47b78cc7eff83f8cbc1a",
       "style": "IPY_MODEL_d8631e686a8a47b7b985a2fb22580c8e",
       "value": " 1/1 [00:00&lt;00:00,  6.98it/s, v_num=284, train_loss_step=1.780, train_loss_epoch=1.780, valid_loss=478.0]"
      }
     },
     "9583d44c9e9e4b94944bc608b156aeb4": {
      "model_module": "@jupyter-widgets/base",
      "model_module_version": "2.0.0",
      "model_name": "LayoutModel",
      "state": {
       "display": "inline-flex",
       "flex_flow": "row wrap",
       "visibility": "hidden",
       "width": "100%"
      }
     },
     "95ac12437d57471b89cb3aa7ac6387ad": {
      "model_module": "@jupyter-widgets/controls",
      "model_module_version": "2.0.0",
      "model_name": "HTMLModel",
      "state": {
       "layout": "IPY_MODEL_7e9fdf4a9fe545279ccfe23bbd5c9286",
       "style": "IPY_MODEL_24f8244a654747759227941482131529",
       "value": "Epoch 99: 100%"
      }
     },
     "961f74c3a9564a10b5d88f9ed85349b6": {
      "model_module": "@jupyter-widgets/controls",
      "model_module_version": "2.0.0",
      "model_name": "HTMLStyleModel",
      "state": {
       "description_width": "",
       "font_size": null,
       "text_color": null
      }
     },
     "962d525282254e5089cf6a0e4c535d37": {
      "model_module": "@jupyter-widgets/controls",
      "model_module_version": "2.0.0",
      "model_name": "ProgressStyleModel",
      "state": {
       "description_width": ""
      }
     },
     "9631a55c1fcf47f783fd370ad50b85d6": {
      "model_module": "@jupyter-widgets/base",
      "model_module_version": "2.0.0",
      "model_name": "LayoutModel",
      "state": {
       "flex": "2"
      }
     },
     "96373e1c410e4619bb97e1e575960c50": {
      "model_module": "@jupyter-widgets/controls",
      "model_module_version": "2.0.0",
      "model_name": "FloatProgressModel",
      "state": {
       "layout": "IPY_MODEL_b78fe638207b427b89a1e7cade01df0a",
       "max": 1,
       "style": "IPY_MODEL_b9fea34e6c384c05b611fd3207355bd6",
       "value": 1
      }
     },
     "9643419a89b145ee94102111274ca28b": {
      "model_module": "@jupyter-widgets/base",
      "model_module_version": "2.0.0",
      "model_name": "LayoutModel",
      "state": {
       "flex": "2"
      }
     },
     "96783a845e024959858e8c95f83631ef": {
      "model_module": "@jupyter-widgets/base",
      "model_module_version": "2.0.0",
      "model_name": "LayoutModel",
      "state": {}
     },
     "9685b0f2bbe3430f9fede4d9ff2b9bc6": {
      "model_module": "@jupyter-widgets/controls",
      "model_module_version": "2.0.0",
      "model_name": "HTMLStyleModel",
      "state": {
       "description_width": "",
       "font_size": null,
       "text_color": null
      }
     },
     "971ec529ea544762aadd8b1e27f0af92": {
      "model_module": "@jupyter-widgets/base",
      "model_module_version": "2.0.0",
      "model_name": "LayoutModel",
      "state": {}
     },
     "9724eca741f4468d935a16ef29af8b04": {
      "model_module": "@jupyter-widgets/base",
      "model_module_version": "2.0.0",
      "model_name": "LayoutModel",
      "state": {
       "display": "inline-flex",
       "flex_flow": "row wrap",
       "width": "100%"
      }
     },
     "973e84241a4c4f609631a0cafd2e0760": {
      "model_module": "@jupyter-widgets/controls",
      "model_module_version": "2.0.0",
      "model_name": "HTMLStyleModel",
      "state": {
       "description_width": "",
       "font_size": null,
       "text_color": null
      }
     },
     "978350c3e23f4a2ab000fcd5a918846c": {
      "model_module": "@jupyter-widgets/controls",
      "model_module_version": "2.0.0",
      "model_name": "HTMLModel",
      "state": {
       "layout": "IPY_MODEL_693a23b1f2394491a998e06ab0e536db",
       "style": "IPY_MODEL_0fe37facfef94061adf03c417eb0faf8",
       "value": "Validation DataLoader 0: 100%"
      }
     },
     "9786f2f042aa452b8990b58b78505697": {
      "model_module": "@jupyter-widgets/controls",
      "model_module_version": "2.0.0",
      "model_name": "FloatProgressModel",
      "state": {
       "layout": "IPY_MODEL_bad086f42eaa416abd9016c7d1d324f3",
       "max": 1,
       "style": "IPY_MODEL_feaf8a4160324428b4316220fcaec2f0",
       "value": 1
      }
     },
     "97e702a5eee9494090e06d4c999470c0": {
      "model_module": "@jupyter-widgets/base",
      "model_module_version": "2.0.0",
      "model_name": "LayoutModel",
      "state": {}
     },
     "982968e8dff1435183548a5751d60f1b": {
      "model_module": "@jupyter-widgets/controls",
      "model_module_version": "2.0.0",
      "model_name": "FloatProgressModel",
      "state": {
       "bar_style": "success",
       "layout": "IPY_MODEL_dfcf98688fdc43dfa787823b04354055",
       "max": 1,
       "style": "IPY_MODEL_be985a8f46354332aa6dffd6b93e89fa",
       "value": 1
      }
     },
     "98635266a35a4785ad6e3ccc9b765f33": {
      "model_module": "@jupyter-widgets/controls",
      "model_module_version": "2.0.0",
      "model_name": "ProgressStyleModel",
      "state": {
       "description_width": ""
      }
     },
     "9870c4fbfe2a426681c2849058d903e2": {
      "model_module": "@jupyter-widgets/controls",
      "model_module_version": "2.0.0",
      "model_name": "HTMLModel",
      "state": {
       "layout": "IPY_MODEL_51cc561570af40719a212ef0b8df20a8",
       "style": "IPY_MODEL_b3c34e2752dd492f8db37239b567dc58",
       "value": " 1/1 [00:00&lt;00:00, 15.13it/s, v_num=299, train_loss_step=0.560, train_loss_epoch=0.560, valid_loss=473.0]"
      }
     },
     "9962f3e1919947139bcf81300a2ecbc0": {
      "model_module": "@jupyter-widgets/controls",
      "model_module_version": "2.0.0",
      "model_name": "HTMLModel",
      "state": {
       "layout": "IPY_MODEL_4c2649bb7fac4449a561f6c3fbd64aa7",
       "style": "IPY_MODEL_d697910b2d944ccd940c439c439d2548",
       "value": "Validation DataLoader 0: 100%"
      }
     },
     "996cd40cb6d54d77bc279e1c8debf8f7": {
      "model_module": "@jupyter-widgets/base",
      "model_module_version": "2.0.0",
      "model_name": "LayoutModel",
      "state": {
       "display": "inline-flex",
       "flex_flow": "row wrap",
       "visibility": "hidden",
       "width": "100%"
      }
     },
     "99ad4e1eb62c4d49b7907be9dc2d29a9": {
      "model_module": "@jupyter-widgets/controls",
      "model_module_version": "2.0.0",
      "model_name": "HTMLStyleModel",
      "state": {
       "description_width": "",
       "font_size": null,
       "text_color": null
      }
     },
     "99c7f8b939af43ec8df943a5b07473a6": {
      "model_module": "@jupyter-widgets/base",
      "model_module_version": "2.0.0",
      "model_name": "LayoutModel",
      "state": {}
     },
     "9a028c2656d1422d9af0e06962b1edea": {
      "model_module": "@jupyter-widgets/controls",
      "model_module_version": "2.0.0",
      "model_name": "HTMLStyleModel",
      "state": {
       "description_width": "",
       "font_size": null,
       "text_color": null
      }
     },
     "9a0bf139288a4338ab49d6d2a1449402": {
      "model_module": "@jupyter-widgets/base",
      "model_module_version": "2.0.0",
      "model_name": "LayoutModel",
      "state": {
       "flex": "2"
      }
     },
     "9a0d973087f14285b1d5e0bd5841edb5": {
      "model_module": "@jupyter-widgets/controls",
      "model_module_version": "2.0.0",
      "model_name": "HTMLModel",
      "state": {
       "layout": "IPY_MODEL_a621ae58728c46259819f4d9354c6bc2",
       "style": "IPY_MODEL_10c7491f752c466181b74dcd30aabd8b",
       "value": " 1/1 [00:00&lt;00:00,  8.45it/s, v_num=279, train_loss_step=0.561, train_loss_epoch=0.561, valid_loss=474.0]"
      }
     },
     "9a26f66a30a84ff0a30707d9996e35a3": {
      "model_module": "@jupyter-widgets/base",
      "model_module_version": "2.0.0",
      "model_name": "LayoutModel",
      "state": {}
     },
     "9a36179803bf47769182b2803e11ef37": {
      "model_module": "@jupyter-widgets/base",
      "model_module_version": "2.0.0",
      "model_name": "LayoutModel",
      "state": {}
     },
     "9a8cda259345451fa16a784d7bf7b200": {
      "model_module": "@jupyter-widgets/base",
      "model_module_version": "2.0.0",
      "model_name": "LayoutModel",
      "state": {
       "display": "inline-flex",
       "flex_flow": "row wrap",
       "visibility": "hidden",
       "width": "100%"
      }
     },
     "9ad9d277e40d47f4b103d7281e8db94d": {
      "model_module": "@jupyter-widgets/controls",
      "model_module_version": "2.0.0",
      "model_name": "HTMLStyleModel",
      "state": {
       "description_width": "",
       "font_size": null,
       "text_color": null
      }
     },
     "9b005c36df11419794139782cedd62e9": {
      "model_module": "@jupyter-widgets/base",
      "model_module_version": "2.0.0",
      "model_name": "LayoutModel",
      "state": {
       "flex": "2"
      }
     },
     "9b0f7e0a183540818d8cf1b11529db69": {
      "model_module": "@jupyter-widgets/base",
      "model_module_version": "2.0.0",
      "model_name": "LayoutModel",
      "state": {
       "display": "inline-flex",
       "flex_flow": "row wrap",
       "width": "100%"
      }
     },
     "9b3d60a1d7cc4e539e46e634dea91d81": {
      "model_module": "@jupyter-widgets/controls",
      "model_module_version": "2.0.0",
      "model_name": "HTMLModel",
      "state": {
       "layout": "IPY_MODEL_971ec529ea544762aadd8b1e27f0af92",
       "style": "IPY_MODEL_ab32ed43d4d54f209b3096d9fcd8b25a",
       "value": "Sanity Checking DataLoader 0: 100%"
      }
     },
     "9b3f991110d04f41a65e01cd33fe601c": {
      "model_module": "@jupyter-widgets/base",
      "model_module_version": "2.0.0",
      "model_name": "LayoutModel",
      "state": {}
     },
     "9b83a314bd794a30aeb698b9c48eaf46": {
      "model_module": "@jupyter-widgets/controls",
      "model_module_version": "2.0.0",
      "model_name": "HTMLModel",
      "state": {
       "layout": "IPY_MODEL_9e356b2691e9468e93329c5be078847f",
       "style": "IPY_MODEL_c75f2ba8285946beb71762a25ef91b5f",
       "value": "Sanity Checking DataLoader 0: 100%"
      }
     },
     "9b849c14fea3499ea5a6c942cc0ef0e1": {
      "model_module": "@jupyter-widgets/controls",
      "model_module_version": "2.0.0",
      "model_name": "HTMLStyleModel",
      "state": {
       "description_width": "",
       "font_size": null,
       "text_color": null
      }
     },
     "9bd5babb4e1b4833835e89e06bb5a3e2": {
      "model_module": "@jupyter-widgets/base",
      "model_module_version": "2.0.0",
      "model_name": "LayoutModel",
      "state": {}
     },
     "9be75f651f6e45328b4595c0d07a944b": {
      "model_module": "@jupyter-widgets/controls",
      "model_module_version": "2.0.0",
      "model_name": "HTMLModel",
      "state": {
       "layout": "IPY_MODEL_5b1991d348a145ec8b3e55370d842c4d",
       "style": "IPY_MODEL_cd8195672ef54fbe8710e335fd99dc90",
       "value": "Sanity Checking DataLoader 0: 100%"
      }
     },
     "9be85c37340749dc8b5e8fe9be26b082": {
      "model_module": "@jupyter-widgets/controls",
      "model_module_version": "2.0.0",
      "model_name": "HTMLModel",
      "state": {
       "layout": "IPY_MODEL_77a14cb345274b459df8faac833cf4f0",
       "style": "IPY_MODEL_1d1e3cced1c145078caedc0f3d0a725f",
       "value": " 1/1 [00:00&lt;00:00, 83.33it/s]"
      }
     },
     "9c5770cbb2b343f494b9aacd05c3b0c9": {
      "model_module": "@jupyter-widgets/controls",
      "model_module_version": "2.0.0",
      "model_name": "FloatProgressModel",
      "state": {
       "layout": "IPY_MODEL_16357dc6fb5944489bd424c2833845c2",
       "max": 1,
       "style": "IPY_MODEL_31491d8b7c694747b806036f752a92fe",
       "value": 1
      }
     },
     "9c649d9b60d840cba0303e3d3f6086b7": {
      "model_module": "@jupyter-widgets/controls",
      "model_module_version": "2.0.0",
      "model_name": "ProgressStyleModel",
      "state": {
       "description_width": ""
      }
     },
     "9c6617ecdc7a46c49c5e6a4af8ec0a8e": {
      "model_module": "@jupyter-widgets/base",
      "model_module_version": "2.0.0",
      "model_name": "LayoutModel",
      "state": {
       "display": "inline-flex",
       "flex_flow": "row wrap",
       "width": "100%"
      }
     },
     "9c6687ae526646ba9b7528656003bf08": {
      "model_module": "@jupyter-widgets/base",
      "model_module_version": "2.0.0",
      "model_name": "LayoutModel",
      "state": {
       "display": "inline-flex",
       "flex_flow": "row wrap",
       "visibility": "hidden",
       "width": "100%"
      }
     },
     "9c6f65ac8136495e85e44e613661c6a1": {
      "model_module": "@jupyter-widgets/controls",
      "model_module_version": "2.0.0",
      "model_name": "HTMLModel",
      "state": {
       "layout": "IPY_MODEL_80d25dadacd0405c86f7a8ac43de4080",
       "style": "IPY_MODEL_349d26ed695a41169ecee9659d2a5c4b",
       "value": "Validation DataLoader 0: 100%"
      }
     },
     "9d4158ec3cfd4f6e88c0295c3662a7f0": {
      "model_module": "@jupyter-widgets/controls",
      "model_module_version": "2.0.0",
      "model_name": "FloatProgressModel",
      "state": {
       "bar_style": "success",
       "layout": "IPY_MODEL_3d51547d76734f9a9df4022c09fc4db1",
       "max": 1,
       "style": "IPY_MODEL_db7f00f6437d40ff8ce980bb8e81a18a",
       "value": 1
      }
     },
     "9d451f23c6a54fada4d3cce6e993d63b": {
      "model_module": "@jupyter-widgets/controls",
      "model_module_version": "2.0.0",
      "model_name": "HTMLModel",
      "state": {
       "layout": "IPY_MODEL_9dd6042cde8c4a80b7848855e316ce26",
       "style": "IPY_MODEL_4a065d8d9c204b9893883a12d1f1d6db",
       "value": " 1/1 [00:00&lt;00:00, 820.16it/s]"
      }
     },
     "9d55d43d3fb74220913cc5ed2506be78": {
      "model_module": "@jupyter-widgets/controls",
      "model_module_version": "2.0.0",
      "model_name": "HTMLModel",
      "state": {
       "layout": "IPY_MODEL_4f4ce4b773cb4db4b8a22dcfef42e02a",
       "style": "IPY_MODEL_b9438735184f41c197e73378721c3d9e",
       "value": " 1/1 [00:00&lt;00:00,  5.98it/s]"
      }
     },
     "9dd6042cde8c4a80b7848855e316ce26": {
      "model_module": "@jupyter-widgets/base",
      "model_module_version": "2.0.0",
      "model_name": "LayoutModel",
      "state": {}
     },
     "9e293a6a60fc432a8402828b6666eba9": {
      "model_module": "@jupyter-widgets/base",
      "model_module_version": "2.0.0",
      "model_name": "LayoutModel",
      "state": {
       "display": "inline-flex",
       "flex_flow": "row wrap",
       "width": "100%"
      }
     },
     "9e307731b855489ea879ae684567a114": {
      "model_module": "@jupyter-widgets/base",
      "model_module_version": "2.0.0",
      "model_name": "LayoutModel",
      "state": {
       "flex": "2"
      }
     },
     "9e356b2691e9468e93329c5be078847f": {
      "model_module": "@jupyter-widgets/base",
      "model_module_version": "2.0.0",
      "model_name": "LayoutModel",
      "state": {}
     },
     "9e496fd767f442caa77f802a6fcdd61b": {
      "model_module": "@jupyter-widgets/base",
      "model_module_version": "2.0.0",
      "model_name": "LayoutModel",
      "state": {
       "display": "inline-flex",
       "flex_flow": "row wrap",
       "visibility": "hidden",
       "width": "100%"
      }
     },
     "9ea6670413b546bfa1f6e94979aecd38": {
      "model_module": "@jupyter-widgets/controls",
      "model_module_version": "2.0.0",
      "model_name": "HTMLStyleModel",
      "state": {
       "description_width": "",
       "font_size": null,
       "text_color": null
      }
     },
     "9eb4a987470242a18bedc3612b93ea6e": {
      "model_module": "@jupyter-widgets/controls",
      "model_module_version": "2.0.0",
      "model_name": "HTMLStyleModel",
      "state": {
       "description_width": "",
       "font_size": null,
       "text_color": null
      }
     },
     "9ec6cd2d96c6472caa1a3229b2c5b5f2": {
      "model_module": "@jupyter-widgets/base",
      "model_module_version": "2.0.0",
      "model_name": "LayoutModel",
      "state": {
       "display": "inline-flex",
       "flex_flow": "row wrap",
       "visibility": "hidden",
       "width": "100%"
      }
     },
     "9efd556794f441b3a51a030412b80fad": {
      "model_module": "@jupyter-widgets/base",
      "model_module_version": "2.0.0",
      "model_name": "LayoutModel",
      "state": {
       "display": "inline-flex",
       "flex_flow": "row wrap",
       "visibility": "hidden",
       "width": "100%"
      }
     },
     "9f43a7d7f975431881be3b35e94d8b36": {
      "model_module": "@jupyter-widgets/controls",
      "model_module_version": "2.0.0",
      "model_name": "HTMLModel",
      "state": {
       "layout": "IPY_MODEL_737495bc6f214ba7a3047a119ddcaf6c",
       "style": "IPY_MODEL_32c0f69ebf50413c9b0da92cd9c13bd5",
       "value": " 1/1 [00:00&lt;00:00, 1988.76it/s]"
      }
     },
     "9f5faa48ccf24b6a80e1a0ea4c7e9b33": {
      "model_module": "@jupyter-widgets/controls",
      "model_module_version": "2.0.0",
      "model_name": "HTMLModel",
      "state": {
       "layout": "IPY_MODEL_e7e9e53afb334600b26a6de5c117dce3",
       "style": "IPY_MODEL_786da17b456947cc88dfc1c75d289c70",
       "value": " 1/1 [00:00&lt;00:00, 76.05it/s]"
      }
     },
     "9fba950712f449179739081619d82cb5": {
      "model_module": "@jupyter-widgets/controls",
      "model_module_version": "2.0.0",
      "model_name": "HTMLModel",
      "state": {
       "layout": "IPY_MODEL_5625be6f21e84c03b863cc39cee2ab56",
       "style": "IPY_MODEL_c9a13946dfb34481ab207777371a3441",
       "value": " 1/1 [00:00&lt;00:00, 27.28it/s]"
      }
     },
     "9fcc4b47b37340d5881d6edaa055468d": {
      "model_module": "@jupyter-widgets/base",
      "model_module_version": "2.0.0",
      "model_name": "LayoutModel",
      "state": {
       "flex": "2"
      }
     },
     "9fe7f1d46a4547a1aefeb7e847d40e69": {
      "model_module": "@jupyter-widgets/controls",
      "model_module_version": "2.0.0",
      "model_name": "FloatProgressModel",
      "state": {
       "layout": "IPY_MODEL_f7cc6b7de43647c29b128d38a1aac029",
       "max": 1,
       "style": "IPY_MODEL_85f5f6a6f92c4bd4b1ce27b22a31b140",
       "value": 1
      }
     },
     "a05002dc466d4e3d96595c75cd594a67": {
      "model_module": "@jupyter-widgets/controls",
      "model_module_version": "2.0.0",
      "model_name": "HTMLStyleModel",
      "state": {
       "description_width": "",
       "font_size": null,
       "text_color": null
      }
     },
     "a06326558c5f433e9d688350cc391b34": {
      "model_module": "@jupyter-widgets/base",
      "model_module_version": "2.0.0",
      "model_name": "LayoutModel",
      "state": {}
     },
     "a06a0de9ac1841a593f71e5bad55d2a4": {
      "model_module": "@jupyter-widgets/controls",
      "model_module_version": "2.0.0",
      "model_name": "HTMLModel",
      "state": {
       "layout": "IPY_MODEL_9b3f991110d04f41a65e01cd33fe601c",
       "style": "IPY_MODEL_11d2330834a646a5b7eae1a9b3b03d36",
       "value": "Sanity Checking DataLoader 0: 100%"
      }
     },
     "a08678ad65d14e76b33c3560d7263438": {
      "model_module": "@jupyter-widgets/base",
      "model_module_version": "2.0.0",
      "model_name": "LayoutModel",
      "state": {
       "flex": "2"
      }
     },
     "a08f300db9f344eaa66b05a94366c0a4": {
      "model_module": "@jupyter-widgets/controls",
      "model_module_version": "2.0.0",
      "model_name": "FloatProgressModel",
      "state": {
       "bar_style": "success",
       "layout": "IPY_MODEL_edcfc16e26b5444abdd63ff3cd81e790",
       "max": 1,
       "style": "IPY_MODEL_a6b9b096b8054a7aa8d9096e825cdba5",
       "value": 1
      }
     },
     "a097f35e185d4fa38acf9d29115b40e4": {
      "model_module": "@jupyter-widgets/controls",
      "model_module_version": "2.0.0",
      "model_name": "ProgressStyleModel",
      "state": {
       "description_width": ""
      }
     },
     "a12598b959034884b21d7c6f11e2868c": {
      "model_module": "@jupyter-widgets/controls",
      "model_module_version": "2.0.0",
      "model_name": "HTMLModel",
      "state": {
       "layout": "IPY_MODEL_3e01a89a79854742a1b13a1497ffacf5",
       "style": "IPY_MODEL_882e950206c64ccd9ef4a5a9d4b8228a",
       "value": "Epoch 158:   0%"
      }
     },
     "a149ee2e7a214d7798fb01c6f0f04369": {
      "model_module": "@jupyter-widgets/base",
      "model_module_version": "2.0.0",
      "model_name": "LayoutModel",
      "state": {
       "flex": "2"
      }
     },
     "a184babb9404483ba5c8b87e5d23a970": {
      "model_module": "@jupyter-widgets/controls",
      "model_module_version": "2.0.0",
      "model_name": "FloatProgressModel",
      "state": {
       "bar_style": "success",
       "layout": "IPY_MODEL_8d9c7bdf4b55419298132969fd15bfb0",
       "max": 1,
       "style": "IPY_MODEL_cfe40923023549b59e0f14e86cfde5d7",
       "value": 1
      }
     },
     "a1a4e3b694094262b6c7d24c06320501": {
      "model_module": "@jupyter-widgets/controls",
      "model_module_version": "2.0.0",
      "model_name": "HTMLModel",
      "state": {
       "layout": "IPY_MODEL_a4fc9e4f65d54cb294ff1268c02d3fba",
       "style": "IPY_MODEL_cb440c30cb804b41b8e20edc3c633a43",
       "value": "Validation DataLoader 0: 100%"
      }
     },
     "a1d5926da3964d18b1570fa1a601b15a": {
      "model_module": "@jupyter-widgets/controls",
      "model_module_version": "2.0.0",
      "model_name": "HTMLModel",
      "state": {
       "layout": "IPY_MODEL_aec31f4cbca143b7899bb1e6d2ff7bcd",
       "style": "IPY_MODEL_d331a4e282b84d94bddd8ad36a7a91f0",
       "value": "Epoch 99: 100%"
      }
     },
     "a22baf22d97241a390e04ee3e6e3fb60": {
      "model_module": "@jupyter-widgets/controls",
      "model_module_version": "2.0.0",
      "model_name": "HTMLModel",
      "state": {
       "layout": "IPY_MODEL_b4112c173998453ab9a21e0dd5690819",
       "style": "IPY_MODEL_35dbf51d15764378aab9ba68329c3e50",
       "value": "Validation DataLoader 0: 100%"
      }
     },
     "a237e72793e242bd8ea0f6ea29662db8": {
      "model_module": "@jupyter-widgets/base",
      "model_module_version": "2.0.0",
      "model_name": "LayoutModel",
      "state": {
       "flex": "2"
      }
     },
     "a237ef3dfa5b470ba0b3ef0895dd63fb": {
      "model_module": "@jupyter-widgets/base",
      "model_module_version": "2.0.0",
      "model_name": "LayoutModel",
      "state": {}
     },
     "a282162854d64ecc88c357631d57c1d2": {
      "model_module": "@jupyter-widgets/base",
      "model_module_version": "2.0.0",
      "model_name": "LayoutModel",
      "state": {}
     },
     "a2e1f259ecc54f9e9e87377fc1f6a4dd": {
      "model_module": "@jupyter-widgets/controls",
      "model_module_version": "2.0.0",
      "model_name": "HTMLStyleModel",
      "state": {
       "description_width": "",
       "font_size": null,
       "text_color": null
      }
     },
     "a31e26fad00c49f2b75741ae0216120b": {
      "model_module": "@jupyter-widgets/controls",
      "model_module_version": "2.0.0",
      "model_name": "HBoxModel",
      "state": {
       "children": [
        "IPY_MODEL_3816f7f1b16f42f4be4dc2a8ec08d32b",
        "IPY_MODEL_5273fbf20cd9463cb1f04bf351025ffd",
        "IPY_MODEL_7acb5942836b4700822796324e535f22"
       ],
       "layout": "IPY_MODEL_390b95a12f8840779b6ea4991a051f4e"
      }
     },
     "a331254c10484e99abcd776e18048b32": {
      "model_module": "@jupyter-widgets/controls",
      "model_module_version": "2.0.0",
      "model_name": "FloatProgressModel",
      "state": {
       "layout": "IPY_MODEL_2890a053dd104975bcbdf2951cb4a949",
       "max": 1,
       "style": "IPY_MODEL_1653a13ad46a4d00b70af6ebbd36a10c",
       "value": 1
      }
     },
     "a337922883934f208fd2baa6d70da478": {
      "model_module": "@jupyter-widgets/base",
      "model_module_version": "2.0.0",
      "model_name": "LayoutModel",
      "state": {
       "display": "inline-flex",
       "flex_flow": "row wrap",
       "visibility": "hidden",
       "width": "100%"
      }
     },
     "a3866cb9de7f43cca40c011d4bb33696": {
      "model_module": "@jupyter-widgets/base",
      "model_module_version": "2.0.0",
      "model_name": "LayoutModel",
      "state": {}
     },
     "a38be18aae0549a99e1b6c563dc68bf7": {
      "model_module": "@jupyter-widgets/controls",
      "model_module_version": "2.0.0",
      "model_name": "HTMLStyleModel",
      "state": {
       "description_width": "",
       "font_size": null,
       "text_color": null
      }
     },
     "a3af5efc94f547fdb261a6ed51d1e7b3": {
      "model_module": "@jupyter-widgets/controls",
      "model_module_version": "2.0.0",
      "model_name": "HTMLStyleModel",
      "state": {
       "description_width": "",
       "font_size": null,
       "text_color": null
      }
     },
     "a3c45f4a1e1a48fc9d5994899e051b27": {
      "model_module": "@jupyter-widgets/base",
      "model_module_version": "2.0.0",
      "model_name": "LayoutModel",
      "state": {
       "flex": "2"
      }
     },
     "a3c85160a4a240ec9da7debdacf9f9c4": {
      "model_module": "@jupyter-widgets/base",
      "model_module_version": "2.0.0",
      "model_name": "LayoutModel",
      "state": {}
     },
     "a3e8f2512e9a4404adc636633d07a4c0": {
      "model_module": "@jupyter-widgets/controls",
      "model_module_version": "2.0.0",
      "model_name": "HTMLStyleModel",
      "state": {
       "description_width": "",
       "font_size": null,
       "text_color": null
      }
     },
     "a427fc1c73a94d948996664025eee3c5": {
      "model_module": "@jupyter-widgets/controls",
      "model_module_version": "2.0.0",
      "model_name": "ProgressStyleModel",
      "state": {
       "description_width": ""
      }
     },
     "a47cac169da2424bbdd481ffb173e064": {
      "model_module": "@jupyter-widgets/controls",
      "model_module_version": "2.0.0",
      "model_name": "HTMLStyleModel",
      "state": {
       "description_width": "",
       "font_size": null,
       "text_color": null
      }
     },
     "a48f05968d5c4d07be444a632a383254": {
      "model_module": "@jupyter-widgets/controls",
      "model_module_version": "2.0.0",
      "model_name": "ProgressStyleModel",
      "state": {
       "description_width": ""
      }
     },
     "a4d0cb3a448642349a6eb7141d3fd33b": {
      "model_module": "@jupyter-widgets/controls",
      "model_module_version": "2.0.0",
      "model_name": "HBoxModel",
      "state": {
       "children": [
        "IPY_MODEL_8587ed5d1fc5481aa6f32c817fb0debc",
        "IPY_MODEL_f5ef5049da064e5c86318cdbc52d6bdc",
        "IPY_MODEL_5e7dc55b3d6b40a3b8c335fa0778688b"
       ],
       "layout": "IPY_MODEL_08db1b9044d74d699d29f0c2ca4a2b1f"
      }
     },
     "a4fc9e4f65d54cb294ff1268c02d3fba": {
      "model_module": "@jupyter-widgets/base",
      "model_module_version": "2.0.0",
      "model_name": "LayoutModel",
      "state": {}
     },
     "a51ffbb9b80147e28b9ceb46e49b64ee": {
      "model_module": "@jupyter-widgets/base",
      "model_module_version": "2.0.0",
      "model_name": "LayoutModel",
      "state": {
       "flex": "2"
      }
     },
     "a54cb91f23c64b8cbb0276479fce4b9a": {
      "model_module": "@jupyter-widgets/controls",
      "model_module_version": "2.0.0",
      "model_name": "HTMLStyleModel",
      "state": {
       "description_width": "",
       "font_size": null,
       "text_color": null
      }
     },
     "a578d5186c6e408d923a01ef173bf33e": {
      "model_module": "@jupyter-widgets/controls",
      "model_module_version": "2.0.0",
      "model_name": "HTMLModel",
      "state": {
       "layout": "IPY_MODEL_d5c955dcf8d1465d92b6911766b3a337",
       "style": "IPY_MODEL_fcb3805eb2bb499e9f6ba71af45151dc",
       "value": " 1/1 [00:00&lt;00:00,  7.69it/s]"
      }
     },
     "a5976649d9874964a10b43640d89b658": {
      "model_module": "@jupyter-widgets/controls",
      "model_module_version": "2.0.0",
      "model_name": "HTMLModel",
      "state": {
       "layout": "IPY_MODEL_a06326558c5f433e9d688350cc391b34",
       "style": "IPY_MODEL_cd3a6f952c8f442e90dc75ea2a14986f",
       "value": " 1/1 [00:00&lt;00:00, 17.69it/s, v_num=294, train_loss_step=0.560, train_loss_epoch=0.560, valid_loss=474.0]"
      }
     },
     "a5991eba0a5a4634b3dc161f37e5fbef": {
      "model_module": "@jupyter-widgets/controls",
      "model_module_version": "2.0.0",
      "model_name": "HTMLModel",
      "state": {
       "layout": "IPY_MODEL_03fe2072f30a47d8aa99bd75a602dc61",
       "style": "IPY_MODEL_8135d89584ad4e5191a3072fb2358ac0",
       "value": "Validation DataLoader 0: 100%"
      }
     },
     "a5d0241f005941009abeb8fae504a0de": {
      "model_module": "@jupyter-widgets/controls",
      "model_module_version": "2.0.0",
      "model_name": "HTMLModel",
      "state": {
       "layout": "IPY_MODEL_3d88c500aa364537b5c92319cffd1ac0",
       "style": "IPY_MODEL_6304731b22a34f9a8d915db3d50f9171",
       "value": " 1/1 [00:00&lt;00:00, 41.29it/s]"
      }
     },
     "a5d578445f82491eaabf7230fb6e0db4": {
      "model_module": "@jupyter-widgets/controls",
      "model_module_version": "2.0.0",
      "model_name": "HBoxModel",
      "state": {
       "children": [
        "IPY_MODEL_b5e4fa0042304701882ef777bcd8f94f",
        "IPY_MODEL_a184babb9404483ba5c8b87e5d23a970",
        "IPY_MODEL_9a0d973087f14285b1d5e0bd5841edb5"
       ],
       "layout": "IPY_MODEL_9b0f7e0a183540818d8cf1b11529db69"
      }
     },
     "a5db69d53e9349f7b4ea4349c7f7d715": {
      "model_module": "@jupyter-widgets/controls",
      "model_module_version": "2.0.0",
      "model_name": "HTMLStyleModel",
      "state": {
       "description_width": "",
       "font_size": null,
       "text_color": null
      }
     },
     "a61156c8784a46c2966234041a2fdca9": {
      "model_module": "@jupyter-widgets/controls",
      "model_module_version": "2.0.0",
      "model_name": "ProgressStyleModel",
      "state": {
       "description_width": ""
      }
     },
     "a621ae58728c46259819f4d9354c6bc2": {
      "model_module": "@jupyter-widgets/base",
      "model_module_version": "2.0.0",
      "model_name": "LayoutModel",
      "state": {}
     },
     "a65997402fca4d79903514518ee4dc89": {
      "model_module": "@jupyter-widgets/base",
      "model_module_version": "2.0.0",
      "model_name": "LayoutModel",
      "state": {
       "flex": "2"
      }
     },
     "a67a9e21c41a421292b7bd6bb369a973": {
      "model_module": "@jupyter-widgets/base",
      "model_module_version": "2.0.0",
      "model_name": "LayoutModel",
      "state": {}
     },
     "a6b9b096b8054a7aa8d9096e825cdba5": {
      "model_module": "@jupyter-widgets/controls",
      "model_module_version": "2.0.0",
      "model_name": "ProgressStyleModel",
      "state": {
       "description_width": ""
      }
     },
     "a756ea84a141435a9e5c5964b7a495c6": {
      "model_module": "@jupyter-widgets/controls",
      "model_module_version": "2.0.0",
      "model_name": "HTMLStyleModel",
      "state": {
       "description_width": "",
       "font_size": null,
       "text_color": null
      }
     },
     "a77601b9ba7e4614ac4d084ac90de846": {
      "model_module": "@jupyter-widgets/controls",
      "model_module_version": "2.0.0",
      "model_name": "HTMLModel",
      "state": {
       "layout": "IPY_MODEL_13dfb19472304bae99eed41ca2e3d728",
       "style": "IPY_MODEL_9685b0f2bbe3430f9fede4d9ff2b9bc6",
       "value": "Validation DataLoader 0: 100%"
      }
     },
     "a7818934eea049a39064e775f224b5c1": {
      "model_module": "@jupyter-widgets/controls",
      "model_module_version": "2.0.0",
      "model_name": "HTMLModel",
      "state": {
       "layout": "IPY_MODEL_f402f6c4832a46bdab64bac368c7d4e6",
       "style": "IPY_MODEL_ed51381a627f4990afb8bbf454a8928a",
       "value": "Epoch 99: 100%"
      }
     },
     "a7adbb3a8150424098c06136ba70d8f9": {
      "model_module": "@jupyter-widgets/base",
      "model_module_version": "2.0.0",
      "model_name": "LayoutModel",
      "state": {}
     },
     "a7e372e18d624d23a7155ca61319dc97": {
      "model_module": "@jupyter-widgets/controls",
      "model_module_version": "2.0.0",
      "model_name": "HTMLModel",
      "state": {
       "layout": "IPY_MODEL_128e390b8b064c99b9dca4567e283705",
       "style": "IPY_MODEL_b1e8d0f7c28947ecae21b294f07299a7",
       "value": "Validation DataLoader 0: 100%"
      }
     },
     "a83191647595493a833e75a9a7865e3d": {
      "model_module": "@jupyter-widgets/base",
      "model_module_version": "2.0.0",
      "model_name": "LayoutModel",
      "state": {}
     },
     "a87537a80ab34e74bf6c853d69a9879e": {
      "model_module": "@jupyter-widgets/controls",
      "model_module_version": "2.0.0",
      "model_name": "HBoxModel",
      "state": {
       "children": [
        "IPY_MODEL_089592a6d4b74994863817f7a5d9c7e2",
        "IPY_MODEL_9d4158ec3cfd4f6e88c0295c3662a7f0",
        "IPY_MODEL_86ef4a02ec564ca4bc5e24e603116637"
       ],
       "layout": "IPY_MODEL_6bff57280061451486a39c7a07f4edaf"
      }
     },
     "a880691c5cc9465baa5d010f24d59bac": {
      "model_module": "@jupyter-widgets/controls",
      "model_module_version": "2.0.0",
      "model_name": "HTMLStyleModel",
      "state": {
       "description_width": "",
       "font_size": null,
       "text_color": null
      }
     },
     "a9175fa2a614426eb7f0e7bca7da0f38": {
      "model_module": "@jupyter-widgets/base",
      "model_module_version": "2.0.0",
      "model_name": "LayoutModel",
      "state": {}
     },
     "a9b467d4181c4193a3887bb15a086a18": {
      "model_module": "@jupyter-widgets/controls",
      "model_module_version": "2.0.0",
      "model_name": "HTMLModel",
      "state": {
       "layout": "IPY_MODEL_0df8c226b4a049c49db52814834d3dc9",
       "style": "IPY_MODEL_8690c898f3d24126ac0d8b9dd50cd6f7",
       "value": " 1/1 [00:00&lt;00:00, 16.48it/s]"
      }
     },
     "a9e324e2bebb488a9ec3c8058d15fa7c": {
      "model_module": "@jupyter-widgets/controls",
      "model_module_version": "2.0.0",
      "model_name": "HTMLStyleModel",
      "state": {
       "description_width": "",
       "font_size": null,
       "text_color": null
      }
     },
     "aa0dcb1f360446aab0c5f5f5d22ba22e": {
      "model_module": "@jupyter-widgets/base",
      "model_module_version": "2.0.0",
      "model_name": "LayoutModel",
      "state": {
       "display": "inline-flex",
       "flex_flow": "row wrap",
       "visibility": "hidden",
       "width": "100%"
      }
     },
     "aa3b7c484d2548f4933b6d8f0eef9b94": {
      "model_module": "@jupyter-widgets/base",
      "model_module_version": "2.0.0",
      "model_name": "LayoutModel",
      "state": {
       "display": "inline-flex",
       "flex_flow": "row wrap",
       "visibility": "hidden",
       "width": "100%"
      }
     },
     "aa43882fa50846ae8dd7354ba9881ce0": {
      "model_module": "@jupyter-widgets/controls",
      "model_module_version": "2.0.0",
      "model_name": "HBoxModel",
      "state": {
       "children": [
        "IPY_MODEL_2abff93557e149929b839f520140e720",
        "IPY_MODEL_1f7606849fa74e64bb0d94f56779d7c5",
        "IPY_MODEL_4c1505adc41e46c7b44a7c9b60fa81db"
       ],
       "layout": "IPY_MODEL_b85027472d1b4e86a27f76d225930dbf"
      }
     },
     "aa878d1ff6e042e5b1c62980a777dab1": {
      "model_module": "@jupyter-widgets/base",
      "model_module_version": "2.0.0",
      "model_name": "LayoutModel",
      "state": {
       "display": "inline-flex",
       "flex_flow": "row wrap",
       "width": "100%"
      }
     },
     "ab26a7f9413a41d983ca39b7f27edcde": {
      "model_module": "@jupyter-widgets/controls",
      "model_module_version": "2.0.0",
      "model_name": "FloatProgressModel",
      "state": {
       "layout": "IPY_MODEL_9a0bf139288a4338ab49d6d2a1449402",
       "max": 1,
       "style": "IPY_MODEL_283a30e91456495f9cdff189d679bb1f",
       "value": 1
      }
     },
     "ab32ed43d4d54f209b3096d9fcd8b25a": {
      "model_module": "@jupyter-widgets/controls",
      "model_module_version": "2.0.0",
      "model_name": "HTMLStyleModel",
      "state": {
       "description_width": "",
       "font_size": null,
       "text_color": null
      }
     },
     "ab537119ab924958a0ce92e904e07730": {
      "model_module": "@jupyter-widgets/base",
      "model_module_version": "2.0.0",
      "model_name": "LayoutModel",
      "state": {
       "display": "inline-flex",
       "flex_flow": "row wrap",
       "width": "100%"
      }
     },
     "ab737cce42da48719fa7c0b91dae98eb": {
      "model_module": "@jupyter-widgets/base",
      "model_module_version": "2.0.0",
      "model_name": "LayoutModel",
      "state": {}
     },
     "abd9726234f34d1a98274fedd6a8ae66": {
      "model_module": "@jupyter-widgets/base",
      "model_module_version": "2.0.0",
      "model_name": "LayoutModel",
      "state": {
       "display": "inline-flex",
       "flex_flow": "row wrap",
       "visibility": "hidden",
       "width": "100%"
      }
     },
     "abe83490724147708f305116063f8ff2": {
      "model_module": "@jupyter-widgets/controls",
      "model_module_version": "2.0.0",
      "model_name": "HTMLModel",
      "state": {
       "layout": "IPY_MODEL_b5a7b6afd48047d6b8aa7ebda01cb792",
       "style": "IPY_MODEL_e23977cf5e3446c4b84228369cc6dc37",
       "value": "Validation DataLoader 0: 100%"
      }
     },
     "ac3fd0e32b5d46c0ac95edbc8f72a23c": {
      "model_module": "@jupyter-widgets/controls",
      "model_module_version": "2.0.0",
      "model_name": "HTMLModel",
      "state": {
       "layout": "IPY_MODEL_52f16ae6709947a7b01c8ea1bd308c85",
       "style": "IPY_MODEL_baab5d789d2e4b12bb08738b67331b56",
       "value": " 1/1 [00:00&lt;00:00, 44.52it/s]"
      }
     },
     "ac72f87a41364a47bd881a680a03d0f0": {
      "model_module": "@jupyter-widgets/controls",
      "model_module_version": "2.0.0",
      "model_name": "HTMLStyleModel",
      "state": {
       "description_width": "",
       "font_size": null,
       "text_color": null
      }
     },
     "ac9ff801f98f40baa2f9c3f7ca0c2ca8": {
      "model_module": "@jupyter-widgets/base",
      "model_module_version": "2.0.0",
      "model_name": "LayoutModel",
      "state": {
       "flex": "2"
      }
     },
     "ad25d2049e44486cb55cd6f150fdfb6c": {
      "model_module": "@jupyter-widgets/base",
      "model_module_version": "2.0.0",
      "model_name": "LayoutModel",
      "state": {}
     },
     "ad44ce55e41a42b687158ee0794c9b38": {
      "model_module": "@jupyter-widgets/controls",
      "model_module_version": "2.0.0",
      "model_name": "ProgressStyleModel",
      "state": {
       "description_width": ""
      }
     },
     "ad45cbeb46f5410088511b1978d9a490": {
      "model_module": "@jupyter-widgets/controls",
      "model_module_version": "2.0.0",
      "model_name": "HTMLModel",
      "state": {
       "layout": "IPY_MODEL_4fa30507b87245f18a2ea987890a9a13",
       "style": "IPY_MODEL_a05002dc466d4e3d96595c75cd594a67",
       "value": " 1/1 [00:00&lt;00:00, 12.11it/s]"
      }
     },
     "ad47f88a59354d1595be5cc80989e574": {
      "model_module": "@jupyter-widgets/controls",
      "model_module_version": "2.0.0",
      "model_name": "ProgressStyleModel",
      "state": {
       "description_width": ""
      }
     },
     "ad8714f78c4a4832af2e03642a32f877": {
      "model_module": "@jupyter-widgets/controls",
      "model_module_version": "2.0.0",
      "model_name": "FloatProgressModel",
      "state": {
       "layout": "IPY_MODEL_07259e2448c540bead320a607e014847",
       "max": 1,
       "style": "IPY_MODEL_3ddb205e690b4942b06a5a901c347519",
       "value": 1
      }
     },
     "adef1f22e5ef4a688ed6adb9cdebf1d9": {
      "model_module": "@jupyter-widgets/controls",
      "model_module_version": "2.0.0",
      "model_name": "HTMLModel",
      "state": {
       "layout": "IPY_MODEL_514a89cfa9a4459f8d4d75bb722b2ff1",
       "style": "IPY_MODEL_edaeffd9e1bd4210975760e637a415cf",
       "value": " 1/1 [00:00&lt;00:00,  5.76it/s]"
      }
     },
     "ae549a9ad94e415e99387d80074da816": {
      "model_module": "@jupyter-widgets/controls",
      "model_module_version": "2.0.0",
      "model_name": "HTMLModel",
      "state": {
       "layout": "IPY_MODEL_6f4ba9d1be034783b1bdaaf6ba8e8ddd",
       "style": "IPY_MODEL_a54cb91f23c64b8cbb0276479fce4b9a",
       "value": " 1/1 [00:00&lt;00:00, 28.55it/s]"
      }
     },
     "ae5f1d313baf4066b20c1699745e566b": {
      "model_module": "@jupyter-widgets/base",
      "model_module_version": "2.0.0",
      "model_name": "LayoutModel",
      "state": {}
     },
     "ae71f2042c594d2796911322dcf1dd83": {
      "model_module": "@jupyter-widgets/controls",
      "model_module_version": "2.0.0",
      "model_name": "HTMLStyleModel",
      "state": {
       "description_width": "",
       "font_size": null,
       "text_color": null
      }
     },
     "aeac7db0ab0d48df9abb552d7e9e8598": {
      "model_module": "@jupyter-widgets/base",
      "model_module_version": "2.0.0",
      "model_name": "LayoutModel",
      "state": {}
     },
     "aec31f4cbca143b7899bb1e6d2ff7bcd": {
      "model_module": "@jupyter-widgets/base",
      "model_module_version": "2.0.0",
      "model_name": "LayoutModel",
      "state": {}
     },
     "aecf64ea7b3241f19f0fdae016eb83e1": {
      "model_module": "@jupyter-widgets/base",
      "model_module_version": "2.0.0",
      "model_name": "LayoutModel",
      "state": {}
     },
     "aed4f37438904f099b85dca9ee12312d": {
      "model_module": "@jupyter-widgets/controls",
      "model_module_version": "2.0.0",
      "model_name": "HTMLModel",
      "state": {
       "layout": "IPY_MODEL_193ea6b5109446a0b3707d414e86ffe3",
       "style": "IPY_MODEL_6ba629032b1048549ec8a5c0226777c7",
       "value": "Epoch 99: 100%"
      }
     },
     "aee14c731af34fe7ac61321f029e6d4d": {
      "model_module": "@jupyter-widgets/controls",
      "model_module_version": "2.0.0",
      "model_name": "ProgressStyleModel",
      "state": {
       "description_width": ""
      }
     },
     "af2358bb09e64ed98e91ea1d0ff08b85": {
      "model_module": "@jupyter-widgets/base",
      "model_module_version": "2.0.0",
      "model_name": "LayoutModel",
      "state": {
       "flex": "2"
      }
     },
     "af3900a6e96e41fda24f168c967dd22b": {
      "model_module": "@jupyter-widgets/controls",
      "model_module_version": "2.0.0",
      "model_name": "ProgressStyleModel",
      "state": {
       "description_width": ""
      }
     },
     "af7eb4a67999429986a0fa3274cb6d48": {
      "model_module": "@jupyter-widgets/controls",
      "model_module_version": "2.0.0",
      "model_name": "HTMLModel",
      "state": {
       "layout": "IPY_MODEL_888da1b478874326a499249969dad699",
       "style": "IPY_MODEL_a9e324e2bebb488a9ec3c8058d15fa7c",
       "value": " 1/1 [00:00&lt;00:00,  4.11it/s]"
      }
     },
     "b05c6e0ce8614f9c998c86674e846065": {
      "model_module": "@jupyter-widgets/base",
      "model_module_version": "2.0.0",
      "model_name": "LayoutModel",
      "state": {}
     },
     "b079da2de75747f8b1c22e29aac9ee42": {
      "model_module": "@jupyter-widgets/base",
      "model_module_version": "2.0.0",
      "model_name": "LayoutModel",
      "state": {
       "display": "inline-flex",
       "flex_flow": "row wrap",
       "visibility": "hidden",
       "width": "100%"
      }
     },
     "b0944361edc6489ba786c8f2e1bbc245": {
      "model_module": "@jupyter-widgets/controls",
      "model_module_version": "2.0.0",
      "model_name": "HTMLStyleModel",
      "state": {
       "description_width": "",
       "font_size": null,
       "text_color": null
      }
     },
     "b12a1a3ac0f844b3803ea0b6b8190de6": {
      "model_module": "@jupyter-widgets/controls",
      "model_module_version": "2.0.0",
      "model_name": "HTMLStyleModel",
      "state": {
       "description_width": "",
       "font_size": null,
       "text_color": null
      }
     },
     "b143f69e9fa44d1cae019aee0d8c206a": {
      "model_module": "@jupyter-widgets/base",
      "model_module_version": "2.0.0",
      "model_name": "LayoutModel",
      "state": {
       "flex": "2"
      }
     },
     "b151ae2df6c74683a40e6301ff20b338": {
      "model_module": "@jupyter-widgets/base",
      "model_module_version": "2.0.0",
      "model_name": "LayoutModel",
      "state": {
       "display": "inline-flex",
       "flex_flow": "row wrap",
       "visibility": "hidden",
       "width": "100%"
      }
     },
     "b16d1b18ab164e8b8058e390e5e0846c": {
      "model_module": "@jupyter-widgets/controls",
      "model_module_version": "2.0.0",
      "model_name": "HTMLStyleModel",
      "state": {
       "description_width": "",
       "font_size": null,
       "text_color": null
      }
     },
     "b17ac1c45e1141a1b7f7877dab185981": {
      "model_module": "@jupyter-widgets/controls",
      "model_module_version": "2.0.0",
      "model_name": "ProgressStyleModel",
      "state": {
       "description_width": ""
      }
     },
     "b1baa6ab00ee43588b6fb96126a51e4e": {
      "model_module": "@jupyter-widgets/controls",
      "model_module_version": "2.0.0",
      "model_name": "HTMLModel",
      "state": {
       "layout": "IPY_MODEL_07b1b6d60b1743b5b7bd08ce58203ca5",
       "style": "IPY_MODEL_0d989003a8714274bffdbc91c2f3f3ce",
       "value": " 1/1 [00:00&lt;00:00, 29.82it/s]"
      }
     },
     "b1db11f0e26b44bebeccc28a1a878147": {
      "model_module": "@jupyter-widgets/controls",
      "model_module_version": "2.0.0",
      "model_name": "FloatProgressModel",
      "state": {
       "layout": "IPY_MODEL_f407adefae8c475988234f31a2d10c4a",
       "max": 1,
       "style": "IPY_MODEL_4029c81109bb413094f6d04b13e17564",
       "value": 1
      }
     },
     "b1e8d0f7c28947ecae21b294f07299a7": {
      "model_module": "@jupyter-widgets/controls",
      "model_module_version": "2.0.0",
      "model_name": "HTMLStyleModel",
      "state": {
       "description_width": "",
       "font_size": null,
       "text_color": null
      }
     },
     "b24e2220b4a94fb9baaebc2a4063d266": {
      "model_module": "@jupyter-widgets/base",
      "model_module_version": "2.0.0",
      "model_name": "LayoutModel",
      "state": {
       "display": "inline-flex",
       "flex_flow": "row wrap",
       "visibility": "hidden",
       "width": "100%"
      }
     },
     "b2a56ca6cadb459d8ed47469d531327a": {
      "model_module": "@jupyter-widgets/base",
      "model_module_version": "2.0.0",
      "model_name": "LayoutModel",
      "state": {
       "flex": "2"
      }
     },
     "b2f3477a4dab4b6893277ccec1e6ceb2": {
      "model_module": "@jupyter-widgets/controls",
      "model_module_version": "2.0.0",
      "model_name": "HBoxModel",
      "state": {
       "children": [
        "IPY_MODEL_5f34e6aa0cab4da3b01feb4ab05aa97d",
        "IPY_MODEL_bc0040d3c2f14ea0a7c0333eff67e262",
        "IPY_MODEL_25b4ea683f3f4402aeb03245b215e0ae"
       ],
       "layout": "IPY_MODEL_6b4357923ebb488c9a65c2acf088e835"
      }
     },
     "b2f8a0e221ba4c468d33e288fd0116e1": {
      "model_module": "@jupyter-widgets/controls",
      "model_module_version": "2.0.0",
      "model_name": "HTMLModel",
      "state": {
       "layout": "IPY_MODEL_8a03b66bea5446658ef8c5b93073924d",
       "style": "IPY_MODEL_ff1cc64650884c8395f7a2d5bd788f04",
       "value": "Sanity Checking DataLoader 0: 100%"
      }
     },
     "b32626376a3e4284a2277fb4650318d1": {
      "model_module": "@jupyter-widgets/controls",
      "model_module_version": "2.0.0",
      "model_name": "HTMLModel",
      "state": {
       "layout": "IPY_MODEL_886a1d506f7c451390418f016dffde31",
       "style": "IPY_MODEL_571bcc1232cf446c9bb516b667cf24a5",
       "value": " 1/1 [00:00&lt;00:00, 78.38it/s]"
      }
     },
     "b333d8cc1228433793e08256a1da1b57": {
      "model_module": "@jupyter-widgets/controls",
      "model_module_version": "2.0.0",
      "model_name": "HBoxModel",
      "state": {
       "children": [
        "IPY_MODEL_339503ca41e540e8ada78f9b82456b11",
        "IPY_MODEL_919c4a2ed2174c9f9113c8f3ed543a54",
        "IPY_MODEL_80ca6084e76d4bf6b08807371462e4e4"
       ],
       "layout": "IPY_MODEL_bec9309f8c69461dab3c8eaec40378f8"
      }
     },
     "b33f5a5eb9a843a3b5584b12a37de383": {
      "model_module": "@jupyter-widgets/base",
      "model_module_version": "2.0.0",
      "model_name": "LayoutModel",
      "state": {
       "display": "inline-flex",
       "flex_flow": "row wrap",
       "width": "100%"
      }
     },
     "b349e3cfce02448db9d79abff80e93b2": {
      "model_module": "@jupyter-widgets/controls",
      "model_module_version": "2.0.0",
      "model_name": "HTMLModel",
      "state": {
       "layout": "IPY_MODEL_767ae468db3640f998bbf9c62372b9a0",
       "style": "IPY_MODEL_055a259a6e8a4204b60bdb9f4a3cec39",
       "value": "Sanity Checking DataLoader 0: 100%"
      }
     },
     "b35fc9b98def42e9a20570e2062cf52f": {
      "model_module": "@jupyter-widgets/base",
      "model_module_version": "2.0.0",
      "model_name": "LayoutModel",
      "state": {}
     },
     "b366e3373b04409bb2f251e1107c294c": {
      "model_module": "@jupyter-widgets/base",
      "model_module_version": "2.0.0",
      "model_name": "LayoutModel",
      "state": {}
     },
     "b38f31853ed9464b91eebb7492020bbf": {
      "model_module": "@jupyter-widgets/controls",
      "model_module_version": "2.0.0",
      "model_name": "HTMLModel",
      "state": {
       "layout": "IPY_MODEL_6582ee9cbc5b42698236609419afbbc1",
       "style": "IPY_MODEL_c60adfb88d0e4474a24412df26df6567",
       "value": " 1/1 [00:00&lt;00:00, 52.06it/s]"
      }
     },
     "b3a3de662e344c138ad79f771042b77d": {
      "model_module": "@jupyter-widgets/controls",
      "model_module_version": "2.0.0",
      "model_name": "HTMLModel",
      "state": {
       "layout": "IPY_MODEL_b670b4cba6184cc0a1e58c120322ed70",
       "style": "IPY_MODEL_ec23fd6b79494afca9eacff26afaf32c",
       "value": " 1/1 [00:00&lt;00:00, 499.92it/s]"
      }
     },
     "b3c34e2752dd492f8db37239b567dc58": {
      "model_module": "@jupyter-widgets/controls",
      "model_module_version": "2.0.0",
      "model_name": "HTMLStyleModel",
      "state": {
       "description_width": "",
       "font_size": null,
       "text_color": null
      }
     },
     "b3c5a630dd0d496f8039a6a824fc1c67": {
      "model_module": "@jupyter-widgets/controls",
      "model_module_version": "2.0.0",
      "model_name": "HTMLModel",
      "state": {
       "layout": "IPY_MODEL_5cdb618205374a869edf9d81b9b485fc",
       "style": "IPY_MODEL_eaa0c15a8a97412eb7b6c4d6a3578dc7",
       "value": "Validation DataLoader 0: 100%"
      }
     },
     "b3d40f650127490598c942ca2ffe0775": {
      "model_module": "@jupyter-widgets/controls",
      "model_module_version": "2.0.0",
      "model_name": "HTMLStyleModel",
      "state": {
       "description_width": "",
       "font_size": null,
       "text_color": null
      }
     },
     "b3edeb82224f49e6b6c1196792f96989": {
      "model_module": "@jupyter-widgets/controls",
      "model_module_version": "2.0.0",
      "model_name": "ProgressStyleModel",
      "state": {
       "description_width": ""
      }
     },
     "b3f19e5f0ac14077b3fdadc289e035d8": {
      "model_module": "@jupyter-widgets/controls",
      "model_module_version": "2.0.0",
      "model_name": "FloatProgressModel",
      "state": {
       "bar_style": "success",
       "layout": "IPY_MODEL_510c65fe7bc849e2849b75d1b627bb50",
       "max": 1,
       "style": "IPY_MODEL_3eb003363ba0439d92664b766cb95896",
       "value": 1
      }
     },
     "b3f1aee6cd0442fd902c4584723a7537": {
      "model_module": "@jupyter-widgets/controls",
      "model_module_version": "2.0.0",
      "model_name": "HTMLStyleModel",
      "state": {
       "description_width": "",
       "font_size": null,
       "text_color": null
      }
     },
     "b3f2da3c5e89459fa842ff39c2ec1702": {
      "model_module": "@jupyter-widgets/base",
      "model_module_version": "2.0.0",
      "model_name": "LayoutModel",
      "state": {}
     },
     "b4112c173998453ab9a21e0dd5690819": {
      "model_module": "@jupyter-widgets/base",
      "model_module_version": "2.0.0",
      "model_name": "LayoutModel",
      "state": {}
     },
     "b49571d24ce84ab6a312a89115fe2b41": {
      "model_module": "@jupyter-widgets/controls",
      "model_module_version": "2.0.0",
      "model_name": "HTMLModel",
      "state": {
       "layout": "IPY_MODEL_81b15bf961424ffabec4387a1f51d24f",
       "style": "IPY_MODEL_de0122dc068641c89b611534b3161b16",
       "value": "Sanity Checking DataLoader 0: 100%"
      }
     },
     "b4a29ced80674440a93109ea87de3c5e": {
      "model_module": "@jupyter-widgets/base",
      "model_module_version": "2.0.0",
      "model_name": "LayoutModel",
      "state": {}
     },
     "b4aff1e3384a444e8e69ba3c6c629ebf": {
      "model_module": "@jupyter-widgets/base",
      "model_module_version": "2.0.0",
      "model_name": "LayoutModel",
      "state": {
       "flex": "2"
      }
     },
     "b4c12db791e4465fa0ffb3ae6029c125": {
      "model_module": "@jupyter-widgets/controls",
      "model_module_version": "2.0.0",
      "model_name": "FloatProgressModel",
      "state": {
       "layout": "IPY_MODEL_6fd309b6dda24ddb9f4e822edc1af01b",
       "max": 1,
       "style": "IPY_MODEL_746471ede48f4129ac5ca21b5f3f1f44",
       "value": 1
      }
     },
     "b5352d3d398640ba8e905bed5eb95fd9": {
      "model_module": "@jupyter-widgets/controls",
      "model_module_version": "2.0.0",
      "model_name": "ProgressStyleModel",
      "state": {
       "description_width": ""
      }
     },
     "b5a7b6afd48047d6b8aa7ebda01cb792": {
      "model_module": "@jupyter-widgets/base",
      "model_module_version": "2.0.0",
      "model_name": "LayoutModel",
      "state": {}
     },
     "b5d3a252847d428bb3ea337bf37ff787": {
      "model_module": "@jupyter-widgets/controls",
      "model_module_version": "2.0.0",
      "model_name": "HBoxModel",
      "state": {
       "children": [
        "IPY_MODEL_00d10aa853e843ddbf25e555f928164c",
        "IPY_MODEL_bfef10d4139e456aaae0506156b86d75",
        "IPY_MODEL_fa9acd352ba341138d71859a45593803"
       ],
       "layout": "IPY_MODEL_7303d2fcd2ee4cc185f0111029e29ec4"
      }
     },
     "b5e4fa0042304701882ef777bcd8f94f": {
      "model_module": "@jupyter-widgets/controls",
      "model_module_version": "2.0.0",
      "model_name": "HTMLModel",
      "state": {
       "layout": "IPY_MODEL_52a31092b03246588e7dc48789d2a8ce",
       "style": "IPY_MODEL_71556fb6598947218a92283f3de662c0",
       "value": "Epoch 99: 100%"
      }
     },
     "b5fcf7282c7b4d689a75913533302087": {
      "model_module": "@jupyter-widgets/controls",
      "model_module_version": "2.0.0",
      "model_name": "ProgressStyleModel",
      "state": {
       "description_width": ""
      }
     },
     "b60d416558b9437caa1ed153848f2d94": {
      "model_module": "@jupyter-widgets/controls",
      "model_module_version": "2.0.0",
      "model_name": "HTMLStyleModel",
      "state": {
       "description_width": "",
       "font_size": null,
       "text_color": null
      }
     },
     "b61bd00296a1408aa317e861bd127acb": {
      "model_module": "@jupyter-widgets/base",
      "model_module_version": "2.0.0",
      "model_name": "LayoutModel",
      "state": {}
     },
     "b67058f4132c46bfb0a48900b398b2a7": {
      "model_module": "@jupyter-widgets/controls",
      "model_module_version": "2.0.0",
      "model_name": "HTMLModel",
      "state": {
       "layout": "IPY_MODEL_b794903a1e43427588b2870f68e073c8",
       "style": "IPY_MODEL_f0a473291e834a8d994f0770bf490952",
       "value": "Validation DataLoader 0: 100%"
      }
     },
     "b670b4cba6184cc0a1e58c120322ed70": {
      "model_module": "@jupyter-widgets/base",
      "model_module_version": "2.0.0",
      "model_name": "LayoutModel",
      "state": {}
     },
     "b687ebaf389d4ff08ad1df05d5247969": {
      "model_module": "@jupyter-widgets/base",
      "model_module_version": "2.0.0",
      "model_name": "LayoutModel",
      "state": {
       "flex": "2"
      }
     },
     "b69fdf1ab5df43b59ad9de9198aaf10d": {
      "model_module": "@jupyter-widgets/controls",
      "model_module_version": "2.0.0",
      "model_name": "HBoxModel",
      "state": {
       "children": [
        "IPY_MODEL_baf346d4162e4ae493db58db1beb45f9",
        "IPY_MODEL_2265254c61fd489493c2c47493e054f9",
        "IPY_MODEL_e2df52b28a3b4d948367325e88f68620"
       ],
       "layout": "IPY_MODEL_31b66b79404d459b9c72b1de3a3be81b"
      }
     },
     "b6e3b4f5e5bc48f28310e7705e699f0f": {
      "model_module": "@jupyter-widgets/controls",
      "model_module_version": "2.0.0",
      "model_name": "HTMLModel",
      "state": {
       "layout": "IPY_MODEL_bcaac12da89644059f31d18070cf6a19",
       "style": "IPY_MODEL_eaef78a7da744c91ba524154da6e4c4a",
       "value": " 1/1 [00:00&lt;00:00,  2.98it/s, v_num=309, train_loss_step=0.000, train_loss_epoch=0.000, valid_loss=0.000]"
      }
     },
     "b6e5af567bf34bdf9034c8488c875974": {
      "model_module": "@jupyter-widgets/controls",
      "model_module_version": "2.0.0",
      "model_name": "HTMLStyleModel",
      "state": {
       "description_width": "",
       "font_size": null,
       "text_color": null
      }
     },
     "b6ef6df9faf84c5ea2ed5770654afcea": {
      "model_module": "@jupyter-widgets/controls",
      "model_module_version": "2.0.0",
      "model_name": "HTMLModel",
      "state": {
       "layout": "IPY_MODEL_870904874b8046e09d683cca741a16b2",
       "style": "IPY_MODEL_3d239d710bad49eaa269e6766a2162f5",
       "value": "Sanity Checking DataLoader 0: 100%"
      }
     },
     "b75133fa821f4080bfd1818d16da65a9": {
      "model_module": "@jupyter-widgets/base",
      "model_module_version": "2.0.0",
      "model_name": "LayoutModel",
      "state": {}
     },
     "b751a3a704d749f5b07a019b075166df": {
      "model_module": "@jupyter-widgets/controls",
      "model_module_version": "2.0.0",
      "model_name": "HTMLModel",
      "state": {
       "layout": "IPY_MODEL_5cfe1cd22cb4492bbd7801648b946600",
       "style": "IPY_MODEL_4324db91e7bd49f8befbb3e3d5368a86",
       "value": "Epoch 99: 100%"
      }
     },
     "b75849b83b394e58b86f1e8eadc8db09": {
      "model_module": "@jupyter-widgets/base",
      "model_module_version": "2.0.0",
      "model_name": "LayoutModel",
      "state": {}
     },
     "b76c2c571a8742b49888fd7d724cfbb8": {
      "model_module": "@jupyter-widgets/base",
      "model_module_version": "2.0.0",
      "model_name": "LayoutModel",
      "state": {
       "display": "inline-flex",
       "flex_flow": "row wrap",
       "visibility": "hidden",
       "width": "100%"
      }
     },
     "b7761b141e7f46928292a795bda56724": {
      "model_module": "@jupyter-widgets/controls",
      "model_module_version": "2.0.0",
      "model_name": "HTMLModel",
      "state": {
       "layout": "IPY_MODEL_d57d8bfc73024fbca58721362ba9a685",
       "style": "IPY_MODEL_0c21bac42c3841169cf315aed1faaaca",
       "value": " 1/1 [00:00&lt;00:00, 1001.27it/s]"
      }
     },
     "b78fe638207b427b89a1e7cade01df0a": {
      "model_module": "@jupyter-widgets/base",
      "model_module_version": "2.0.0",
      "model_name": "LayoutModel",
      "state": {
       "flex": "2"
      }
     },
     "b794903a1e43427588b2870f68e073c8": {
      "model_module": "@jupyter-widgets/base",
      "model_module_version": "2.0.0",
      "model_name": "LayoutModel",
      "state": {}
     },
     "b7d9657d91444e6a82f4a28b2d1a4e42": {
      "model_module": "@jupyter-widgets/controls",
      "model_module_version": "2.0.0",
      "model_name": "HTMLModel",
      "state": {
       "layout": "IPY_MODEL_d5d08f85a4a24cf1b38ae07893c29ba0",
       "style": "IPY_MODEL_624e19af2e0d4432b54db81e5544ffd9",
       "value": " 1/1 [00:00&lt;00:00, 11.25it/s, v_num=283, train_loss_step=0.560, train_loss_epoch=0.560, valid_loss=474.0]"
      }
     },
     "b80e0b5bc33d41229103215fc82f5d2a": {
      "model_module": "@jupyter-widgets/base",
      "model_module_version": "2.0.0",
      "model_name": "LayoutModel",
      "state": {}
     },
     "b85027472d1b4e86a27f76d225930dbf": {
      "model_module": "@jupyter-widgets/base",
      "model_module_version": "2.0.0",
      "model_name": "LayoutModel",
      "state": {
       "display": "inline-flex",
       "flex_flow": "row wrap",
       "width": "100%"
      }
     },
     "b850d1fb42bc48d3a8a136fb770d9c62": {
      "model_module": "@jupyter-widgets/controls",
      "model_module_version": "2.0.0",
      "model_name": "ProgressStyleModel",
      "state": {
       "description_width": ""
      }
     },
     "b89a4756fb034f29a7bd7be008393260": {
      "model_module": "@jupyter-widgets/base",
      "model_module_version": "2.0.0",
      "model_name": "LayoutModel",
      "state": {}
     },
     "b89bda940ddb4bf08017ab1457392333": {
      "model_module": "@jupyter-widgets/base",
      "model_module_version": "2.0.0",
      "model_name": "LayoutModel",
      "state": {}
     },
     "b8bc09ba3bc54d5e98ecbfb47777a263": {
      "model_module": "@jupyter-widgets/controls",
      "model_module_version": "2.0.0",
      "model_name": "FloatProgressModel",
      "state": {
       "layout": "IPY_MODEL_3ded029c7c3e46d19cfeef39be654d7c",
       "max": 1,
       "style": "IPY_MODEL_d1ac6846c6934058b5536812a4739e56",
       "value": 1
      }
     },
     "b9438735184f41c197e73378721c3d9e": {
      "model_module": "@jupyter-widgets/controls",
      "model_module_version": "2.0.0",
      "model_name": "HTMLStyleModel",
      "state": {
       "description_width": "",
       "font_size": null,
       "text_color": null
      }
     },
     "b95e398817364f5197cbc557ef988077": {
      "model_module": "@jupyter-widgets/controls",
      "model_module_version": "2.0.0",
      "model_name": "HTMLModel",
      "state": {
       "layout": "IPY_MODEL_d6c9479914ea48f2845c196dc38e9c57",
       "style": "IPY_MODEL_2dd03f193763419d9e4611f8e807890b",
       "value": "Validation DataLoader 0: 100%"
      }
     },
     "b9ad51f6b3d34bfebdb616158d49e570": {
      "model_module": "@jupyter-widgets/base",
      "model_module_version": "2.0.0",
      "model_name": "LayoutModel",
      "state": {
       "flex": "2"
      }
     },
     "b9fea34e6c384c05b611fd3207355bd6": {
      "model_module": "@jupyter-widgets/controls",
      "model_module_version": "2.0.0",
      "model_name": "ProgressStyleModel",
      "state": {
       "description_width": ""
      }
     },
     "ba3e2040d6ab42008b61bfff1eda1794": {
      "model_module": "@jupyter-widgets/controls",
      "model_module_version": "2.0.0",
      "model_name": "ProgressStyleModel",
      "state": {
       "description_width": ""
      }
     },
     "ba46a3b0c312477b9773c26da5461380": {
      "model_module": "@jupyter-widgets/controls",
      "model_module_version": "2.0.0",
      "model_name": "ProgressStyleModel",
      "state": {
       "description_width": ""
      }
     },
     "ba5e2fc1271647849815ebb7179f7e26": {
      "model_module": "@jupyter-widgets/controls",
      "model_module_version": "2.0.0",
      "model_name": "FloatProgressModel",
      "state": {
       "layout": "IPY_MODEL_155cb3e32ad6487b8419f8046c54fa5f",
       "max": 1,
       "style": "IPY_MODEL_5bc783d8374f4de684d8fdcfc1c80b71",
       "value": 1
      }
     },
     "baab5d789d2e4b12bb08738b67331b56": {
      "model_module": "@jupyter-widgets/controls",
      "model_module_version": "2.0.0",
      "model_name": "HTMLStyleModel",
      "state": {
       "description_width": "",
       "font_size": null,
       "text_color": null
      }
     },
     "bab4abc8fb2143499e9c8d14b4c60736": {
      "model_module": "@jupyter-widgets/controls",
      "model_module_version": "2.0.0",
      "model_name": "ProgressStyleModel",
      "state": {
       "description_width": ""
      }
     },
     "bab75e5b9f974237baa977aec264231a": {
      "model_module": "@jupyter-widgets/controls",
      "model_module_version": "2.0.0",
      "model_name": "ProgressStyleModel",
      "state": {
       "description_width": ""
      }
     },
     "bad086f42eaa416abd9016c7d1d324f3": {
      "model_module": "@jupyter-widgets/base",
      "model_module_version": "2.0.0",
      "model_name": "LayoutModel",
      "state": {
       "flex": "2"
      }
     },
     "baf346d4162e4ae493db58db1beb45f9": {
      "model_module": "@jupyter-widgets/controls",
      "model_module_version": "2.0.0",
      "model_name": "HTMLModel",
      "state": {
       "layout": "IPY_MODEL_e5a01a0a81ad4e9f95fd6e209806d72b",
       "style": "IPY_MODEL_a756ea84a141435a9e5c5964b7a495c6",
       "value": "Predicting DataLoader 0: 100%"
      }
     },
     "bb0e98cdea9147fa9c4f863d0b7b48e9": {
      "model_module": "@jupyter-widgets/controls",
      "model_module_version": "2.0.0",
      "model_name": "HTMLStyleModel",
      "state": {
       "description_width": "",
       "font_size": null,
       "text_color": null
      }
     },
     "bb38000948df48d4b189801ed02e6689": {
      "model_module": "@jupyter-widgets/controls",
      "model_module_version": "2.0.0",
      "model_name": "FloatProgressModel",
      "state": {
       "layout": "IPY_MODEL_b2a56ca6cadb459d8ed47469d531327a",
       "max": 1,
       "style": "IPY_MODEL_8f0ea72b2040441bb5010683e8bd56d9",
       "value": 1
      }
     },
     "bb9322301c834096a34e44faf6f0276a": {
      "model_module": "@jupyter-widgets/base",
      "model_module_version": "2.0.0",
      "model_name": "LayoutModel",
      "state": {
       "display": "inline-flex",
       "flex_flow": "row wrap",
       "width": "100%"
      }
     },
     "bbdaf4b105d34113af3382492e6a4051": {
      "model_module": "@jupyter-widgets/controls",
      "model_module_version": "2.0.0",
      "model_name": "HTMLModel",
      "state": {
       "layout": "IPY_MODEL_6774a3fae55d4734a5bed7b1e6816fb9",
       "style": "IPY_MODEL_b12a1a3ac0f844b3803ea0b6b8190de6",
       "value": "Sanity Checking DataLoader 0: 100%"
      }
     },
     "bbf704e7107b4fd6b21086050a71b57c": {
      "model_module": "@jupyter-widgets/controls",
      "model_module_version": "2.0.0",
      "model_name": "HTMLModel",
      "state": {
       "layout": "IPY_MODEL_829604e333d34a038adcfdb2698c7687",
       "style": "IPY_MODEL_6f51ad3a65d84eb6940669368129895f",
       "value": " 1/1 [00:00&lt;00:00, 10.33it/s]"
      }
     },
     "bc0040d3c2f14ea0a7c0333eff67e262": {
      "model_module": "@jupyter-widgets/controls",
      "model_module_version": "2.0.0",
      "model_name": "FloatProgressModel",
      "state": {
       "bar_style": "success",
       "layout": "IPY_MODEL_28526b4a4f3e43dbadad91a1efc95abe",
       "max": 1,
       "style": "IPY_MODEL_c9017a3e1191474d8675ed0fc7321e5b",
       "value": 1
      }
     },
     "bc075954c5fe44c29413f1d71c654334": {
      "model_module": "@jupyter-widgets/base",
      "model_module_version": "2.0.0",
      "model_name": "LayoutModel",
      "state": {}
     },
     "bc5d2cf244744352adea18c00a0294c5": {
      "model_module": "@jupyter-widgets/base",
      "model_module_version": "2.0.0",
      "model_name": "LayoutModel",
      "state": {
       "flex": "2"
      }
     },
     "bcaac12da89644059f31d18070cf6a19": {
      "model_module": "@jupyter-widgets/base",
      "model_module_version": "2.0.0",
      "model_name": "LayoutModel",
      "state": {}
     },
     "bcee7a9f083e4c6d951ecca27248c125": {
      "model_module": "@jupyter-widgets/controls",
      "model_module_version": "2.0.0",
      "model_name": "HTMLStyleModel",
      "state": {
       "description_width": "",
       "font_size": null,
       "text_color": null
      }
     },
     "bcf28afbc6dc490da2743964056e7eed": {
      "model_module": "@jupyter-widgets/base",
      "model_module_version": "2.0.0",
      "model_name": "LayoutModel",
      "state": {
       "flex": "2"
      }
     },
     "bd17c06d25374d008c9734b95c1722f6": {
      "model_module": "@jupyter-widgets/base",
      "model_module_version": "2.0.0",
      "model_name": "LayoutModel",
      "state": {
       "flex": "2"
      }
     },
     "bd1a9309a63c4e4593d4b8cdf03bdc84": {
      "model_module": "@jupyter-widgets/controls",
      "model_module_version": "2.0.0",
      "model_name": "FloatProgressModel",
      "state": {
       "bar_style": "success",
       "layout": "IPY_MODEL_af2358bb09e64ed98e91ea1d0ff08b85",
       "max": 1,
       "style": "IPY_MODEL_ecd0608798614aba835c8724025577b5",
       "value": 1
      }
     },
     "bd300ef5462c468285c9a31b27fd8cb4": {
      "model_module": "@jupyter-widgets/controls",
      "model_module_version": "2.0.0",
      "model_name": "HTMLStyleModel",
      "state": {
       "description_width": "",
       "font_size": null,
       "text_color": null
      }
     },
     "be25b3f0af904aa0bea33077e8689264": {
      "model_module": "@jupyter-widgets/base",
      "model_module_version": "2.0.0",
      "model_name": "LayoutModel",
      "state": {
       "flex": "2"
      }
     },
     "be58227cb2e54c6faf210504987c6d90": {
      "model_module": "@jupyter-widgets/base",
      "model_module_version": "2.0.0",
      "model_name": "LayoutModel",
      "state": {}
     },
     "be88ec72411042efbe7eaeadb3ce171a": {
      "model_module": "@jupyter-widgets/base",
      "model_module_version": "2.0.0",
      "model_name": "LayoutModel",
      "state": {
       "display": "inline-flex",
       "flex_flow": "row wrap",
       "visibility": "hidden",
       "width": "100%"
      }
     },
     "be891e4594d04b10a55d705bbd8a5866": {
      "model_module": "@jupyter-widgets/controls",
      "model_module_version": "2.0.0",
      "model_name": "FloatProgressModel",
      "state": {
       "layout": "IPY_MODEL_79fd4f6d4161484f89496d81a649e95c",
       "max": 1,
       "style": "IPY_MODEL_2b93c56d548e4a93a8d2ecab44b9c6f2",
       "value": 1
      }
     },
     "be979bad512e416aac4a42ab812cc9b6": {
      "model_module": "@jupyter-widgets/controls",
      "model_module_version": "2.0.0",
      "model_name": "ProgressStyleModel",
      "state": {
       "description_width": ""
      }
     },
     "be985a8f46354332aa6dffd6b93e89fa": {
      "model_module": "@jupyter-widgets/controls",
      "model_module_version": "2.0.0",
      "model_name": "ProgressStyleModel",
      "state": {
       "description_width": ""
      }
     },
     "bec9309f8c69461dab3c8eaec40378f8": {
      "model_module": "@jupyter-widgets/base",
      "model_module_version": "2.0.0",
      "model_name": "LayoutModel",
      "state": {}
     },
     "beeeffca9baf43dc9feb183db1ec5e69": {
      "model_module": "@jupyter-widgets/controls",
      "model_module_version": "2.0.0",
      "model_name": "HTMLStyleModel",
      "state": {
       "description_width": "",
       "font_size": null,
       "text_color": null
      }
     },
     "bef20cd2944847238b7f792fbc84fabf": {
      "model_module": "@jupyter-widgets/controls",
      "model_module_version": "2.0.0",
      "model_name": "HTMLStyleModel",
      "state": {
       "description_width": "",
       "font_size": null,
       "text_color": null
      }
     },
     "bf05f61a916f4f1c816b83a956af59ee": {
      "model_module": "@jupyter-widgets/controls",
      "model_module_version": "2.0.0",
      "model_name": "HTMLStyleModel",
      "state": {
       "description_width": "",
       "font_size": null,
       "text_color": null
      }
     },
     "bf10d913deea414090dee0fd59bc2e19": {
      "model_module": "@jupyter-widgets/base",
      "model_module_version": "2.0.0",
      "model_name": "LayoutModel",
      "state": {}
     },
     "bf380ea5510345698b57d7d0db4ef4e9": {
      "model_module": "@jupyter-widgets/controls",
      "model_module_version": "2.0.0",
      "model_name": "HTMLModel",
      "state": {
       "layout": "IPY_MODEL_3229d0c4b08d4fb09c8fed089303a535",
       "style": "IPY_MODEL_fdb77d193a5b4dfbb95c451ea45c8804",
       "value": " 1/1 [00:00&lt;00:00,  5.30it/s]"
      }
     },
     "bf6df3ebff684fceb1ddcec6ec0ff838": {
      "model_module": "@jupyter-widgets/controls",
      "model_module_version": "2.0.0",
      "model_name": "FloatProgressModel",
      "state": {
       "layout": "IPY_MODEL_4e4f230451cf44a5baf5cee78c223d51",
       "max": 1,
       "style": "IPY_MODEL_e581793d1b9649db97ddf2c07fb7a2a7",
       "value": 1
      }
     },
     "bfef10d4139e456aaae0506156b86d75": {
      "model_module": "@jupyter-widgets/controls",
      "model_module_version": "2.0.0",
      "model_name": "FloatProgressModel",
      "state": {
       "bar_style": "success",
       "layout": "IPY_MODEL_2dd6e832943c4d098e3c50592ace545c",
       "max": 1,
       "style": "IPY_MODEL_bab75e5b9f974237baa977aec264231a",
       "value": 1
      }
     },
     "bff0f4f39cc74ec3b9ca238b9d95f76e": {
      "model_module": "@jupyter-widgets/controls",
      "model_module_version": "2.0.0",
      "model_name": "HTMLModel",
      "state": {
       "layout": "IPY_MODEL_a67a9e21c41a421292b7bd6bb369a973",
       "style": "IPY_MODEL_e0d1040f9c484b2cad1f72b3bd96aa51",
       "value": " 1/1 [00:00&lt;00:00, 72.20it/s]"
      }
     },
     "c0150b0b0fcf4fbfb654b531f73bd769": {
      "model_module": "@jupyter-widgets/controls",
      "model_module_version": "2.0.0",
      "model_name": "HTMLStyleModel",
      "state": {
       "description_width": "",
       "font_size": null,
       "text_color": null
      }
     },
     "c05a3d9dc1ee4b99ab9b7981a8141f25": {
      "model_module": "@jupyter-widgets/controls",
      "model_module_version": "2.0.0",
      "model_name": "HTMLStyleModel",
      "state": {
       "description_width": "",
       "font_size": null,
       "text_color": null
      }
     },
     "c0ac7b2462634f9cafcc2d619edd92f5": {
      "model_module": "@jupyter-widgets/controls",
      "model_module_version": "2.0.0",
      "model_name": "ProgressStyleModel",
      "state": {
       "description_width": ""
      }
     },
     "c0d43dd08b86444d9a925ad09247223d": {
      "model_module": "@jupyter-widgets/base",
      "model_module_version": "2.0.0",
      "model_name": "LayoutModel",
      "state": {}
     },
     "c1076e5a455c4628af0d9f88ac548279": {
      "model_module": "@jupyter-widgets/base",
      "model_module_version": "2.0.0",
      "model_name": "LayoutModel",
      "state": {
       "flex": "2"
      }
     },
     "c10df38808db4822a43a5401618cce8a": {
      "model_module": "@jupyter-widgets/controls",
      "model_module_version": "2.0.0",
      "model_name": "HTMLStyleModel",
      "state": {
       "description_width": "",
       "font_size": null,
       "text_color": null
      }
     },
     "c1225856f0d242e58c0eec2a6d5a2379": {
      "model_module": "@jupyter-widgets/controls",
      "model_module_version": "2.0.0",
      "model_name": "HTMLStyleModel",
      "state": {
       "description_width": "",
       "font_size": null,
       "text_color": null
      }
     },
     "c13f83ad6e4741319a91632b72aad76e": {
      "model_module": "@jupyter-widgets/base",
      "model_module_version": "2.0.0",
      "model_name": "LayoutModel",
      "state": {
       "flex": "2"
      }
     },
     "c17b504fb44a49c19898096ce0e5bc45": {
      "model_module": "@jupyter-widgets/controls",
      "model_module_version": "2.0.0",
      "model_name": "HTMLModel",
      "state": {
       "layout": "IPY_MODEL_c746f00e09c945e6af173cc57c4ddf96",
       "style": "IPY_MODEL_a3af5efc94f547fdb261a6ed51d1e7b3",
       "value": " 1/1 [00:00&lt;00:00, 12.27it/s]"
      }
     },
     "c1c321cab0d14c95a002956e069879f2": {
      "model_module": "@jupyter-widgets/controls",
      "model_module_version": "2.0.0",
      "model_name": "HTMLStyleModel",
      "state": {
       "description_width": "",
       "font_size": null,
       "text_color": null
      }
     },
     "c28a2e5c799549f09227c0dc7433e381": {
      "model_module": "@jupyter-widgets/controls",
      "model_module_version": "2.0.0",
      "model_name": "HTMLStyleModel",
      "state": {
       "description_width": "",
       "font_size": null,
       "text_color": null
      }
     },
     "c297926b7cca4f698c5ee81e595c0ece": {
      "model_module": "@jupyter-widgets/controls",
      "model_module_version": "2.0.0",
      "model_name": "FloatProgressModel",
      "state": {
       "layout": "IPY_MODEL_237ebfdbaadf42838e0a6b5ca7868cb9",
       "max": 1,
       "style": "IPY_MODEL_ca13fca79d054ccbaa1fe3326c7dcc0b",
       "value": 1
      }
     },
     "c2af0eab00a7482699fde70e3cf4d417": {
      "model_module": "@jupyter-widgets/controls",
      "model_module_version": "2.0.0",
      "model_name": "HTMLStyleModel",
      "state": {
       "description_width": "",
       "font_size": null,
       "text_color": null
      }
     },
     "c2ba4741851b4a1f88597660dabea52d": {
      "model_module": "@jupyter-widgets/controls",
      "model_module_version": "2.0.0",
      "model_name": "FloatProgressModel",
      "state": {
       "layout": "IPY_MODEL_7b751a03a024418d955b5e63b8699d45",
       "max": 1,
       "style": "IPY_MODEL_f4ce297db5e1469cb00a17f20e3778ce",
       "value": 1
      }
     },
     "c2dd9ecda7a640d5841662c840b2c2e9": {
      "model_module": "@jupyter-widgets/controls",
      "model_module_version": "2.0.0",
      "model_name": "ProgressStyleModel",
      "state": {
       "description_width": ""
      }
     },
     "c3b7dddbc1534ad79cce02e7a119bac8": {
      "model_module": "@jupyter-widgets/controls",
      "model_module_version": "2.0.0",
      "model_name": "HTMLModel",
      "state": {
       "layout": "IPY_MODEL_4013d78baf2745e1989ff1af04e67d42",
       "style": "IPY_MODEL_fc5c568a4e6345348fd5bede594ce9aa",
       "value": "Epoch 99: 100%"
      }
     },
     "c431662bc0464dceb55b80bd3971a83f": {
      "model_module": "@jupyter-widgets/base",
      "model_module_version": "2.0.0",
      "model_name": "LayoutModel",
      "state": {
       "display": "inline-flex",
       "flex_flow": "row wrap",
       "visibility": "hidden",
       "width": "100%"
      }
     },
     "c447683e00e64ceeb90d02362ba19332": {
      "model_module": "@jupyter-widgets/controls",
      "model_module_version": "2.0.0",
      "model_name": "HBoxModel",
      "state": {
       "children": [
        "IPY_MODEL_e7e026a0971744c89dee862df3c65492",
        "IPY_MODEL_265359d62ebb4b49854c2cc3a8f93624",
        "IPY_MODEL_f9743c9efb97493c9af25231f7f2025d"
       ],
       "layout": "IPY_MODEL_cd5ac8a79e6b48a58f994721a4786bfc"
      }
     },
     "c452882e20cc43b0a223117a33c355af": {
      "model_module": "@jupyter-widgets/controls",
      "model_module_version": "2.0.0",
      "model_name": "ProgressStyleModel",
      "state": {
       "description_width": ""
      }
     },
     "c478d97291e64b56bc4b80ef55b553f9": {
      "model_module": "@jupyter-widgets/controls",
      "model_module_version": "2.0.0",
      "model_name": "FloatProgressModel",
      "state": {
       "layout": "IPY_MODEL_388520d22afe49f68abe0eb438c9d64a",
       "max": 1,
       "style": "IPY_MODEL_f4c75a67fbe947b882cd8b2225eb3b23",
       "value": 1
      }
     },
     "c485d3645013482bb17a3ad36d770252": {
      "model_module": "@jupyter-widgets/controls",
      "model_module_version": "2.0.0",
      "model_name": "ProgressStyleModel",
      "state": {
       "description_width": ""
      }
     },
     "c49c1b1dea974b06a9e07149071679e9": {
      "model_module": "@jupyter-widgets/controls",
      "model_module_version": "2.0.0",
      "model_name": "FloatProgressModel",
      "state": {
       "layout": "IPY_MODEL_86accc68915b4cbe98a60bc2ae6bb619",
       "max": 1,
       "style": "IPY_MODEL_042f2407769d44968c9f2a55813a88bc",
       "value": 1
      }
     },
     "c4a6a8a5c82c4326be2e58f15ae4337a": {
      "model_module": "@jupyter-widgets/controls",
      "model_module_version": "2.0.0",
      "model_name": "ProgressStyleModel",
      "state": {
       "description_width": ""
      }
     },
     "c4d380f6c3c24eecbdb9042d57b4a132": {
      "model_module": "@jupyter-widgets/controls",
      "model_module_version": "2.0.0",
      "model_name": "HTMLModel",
      "state": {
       "layout": "IPY_MODEL_fbb4bbb65f9044f98d8f5a6328a1fc50",
       "style": "IPY_MODEL_486b685aed654889a2e524ba55abfef1",
       "value": " 1/1 [00:00&lt;00:00, 12.13it/s]"
      }
     },
     "c5af8041698a43a88df630c6f8fead28": {
      "model_module": "@jupyter-widgets/base",
      "model_module_version": "2.0.0",
      "model_name": "LayoutModel",
      "state": {}
     },
     "c5becf3834514589aaf5a9a676606ba4": {
      "model_module": "@jupyter-widgets/controls",
      "model_module_version": "2.0.0",
      "model_name": "HTMLModel",
      "state": {
       "layout": "IPY_MODEL_3c6c74893ccb4a80b50e5a2e2ade558e",
       "style": "IPY_MODEL_462fd826931c481abd0a33219e8a5cca",
       "value": " 1/1 [00:00&lt;00:00, 69.48it/s]"
      }
     },
     "c5dcf01db7dd4ad9ab53759c7a8dccf8": {
      "model_module": "@jupyter-widgets/base",
      "model_module_version": "2.0.0",
      "model_name": "LayoutModel",
      "state": {}
     },
     "c5efbbf7cc1a4e2fbdf464102dc874d8": {
      "model_module": "@jupyter-widgets/controls",
      "model_module_version": "2.0.0",
      "model_name": "FloatProgressModel",
      "state": {
       "layout": "IPY_MODEL_00e39adb54aa466fae03ea0c7078b4d6",
       "max": 1,
       "style": "IPY_MODEL_922ad1abe0ac4727a60839b04cfeb78e",
       "value": 1
      }
     },
     "c60adfb88d0e4474a24412df26df6567": {
      "model_module": "@jupyter-widgets/controls",
      "model_module_version": "2.0.0",
      "model_name": "HTMLStyleModel",
      "state": {
       "description_width": "",
       "font_size": null,
       "text_color": null
      }
     },
     "c60cfca56b4c4c0ba2da4b75428559e3": {
      "model_module": "@jupyter-widgets/controls",
      "model_module_version": "2.0.0",
      "model_name": "HBoxModel",
      "state": {
       "children": [
        "IPY_MODEL_913d48d2ff624a1cb94d66ce63909f25",
        "IPY_MODEL_33eb3434788f4052a970ef8cad63ed17",
        "IPY_MODEL_6ca4928320284e52a6adef718d597a4d"
       ],
       "layout": "IPY_MODEL_bb9322301c834096a34e44faf6f0276a"
      }
     },
     "c60e685a3a8c4dafa15b6cee7fec2eed": {
      "model_module": "@jupyter-widgets/controls",
      "model_module_version": "2.0.0",
      "model_name": "FloatProgressModel",
      "state": {
       "layout": "IPY_MODEL_625ffcb2e16c4535ad34c19027ccf8d6",
       "max": 1,
       "style": "IPY_MODEL_0d04b20ad9e74ff3a6b76fc92e2d70e1",
       "value": 1
      }
     },
     "c6253869ad9a48b0bb3af3ec3962479a": {
      "model_module": "@jupyter-widgets/controls",
      "model_module_version": "2.0.0",
      "model_name": "ProgressStyleModel",
      "state": {
       "description_width": ""
      }
     },
     "c65696bdfad4470f877f25a982cf1be6": {
      "model_module": "@jupyter-widgets/base",
      "model_module_version": "2.0.0",
      "model_name": "LayoutModel",
      "state": {
       "display": "inline-flex",
       "flex_flow": "row wrap",
       "width": "100%"
      }
     },
     "c65ca42185d94fa2b618e7c07eb95378": {
      "model_module": "@jupyter-widgets/controls",
      "model_module_version": "2.0.0",
      "model_name": "HTMLModel",
      "state": {
       "layout": "IPY_MODEL_be58227cb2e54c6faf210504987c6d90",
       "style": "IPY_MODEL_9ad9d277e40d47f4b103d7281e8db94d",
       "value": " 1/1 [00:00&lt;00:00, 55.53it/s]"
      }
     },
     "c66210d423744c5fb0a7b59e02669677": {
      "model_module": "@jupyter-widgets/base",
      "model_module_version": "2.0.0",
      "model_name": "LayoutModel",
      "state": {}
     },
     "c6779f97e2114ec1bb1903bf8f9ee6df": {
      "model_module": "@jupyter-widgets/base",
      "model_module_version": "2.0.0",
      "model_name": "LayoutModel",
      "state": {
       "display": "inline-flex",
       "flex_flow": "row wrap",
       "visibility": "hidden",
       "width": "100%"
      }
     },
     "c69ced0d736c45ed9da2fa4c232e6750": {
      "model_module": "@jupyter-widgets/controls",
      "model_module_version": "2.0.0",
      "model_name": "HTMLModel",
      "state": {
       "layout": "IPY_MODEL_34bec62c34004d7db26112d1955ab76d",
       "style": "IPY_MODEL_f5b79d0c01b34a9da7bbdd68c8a73601",
       "value": "Sanity Checking DataLoader 0: 100%"
      }
     },
     "c738836c9fa241998aa3dbf0eaff096d": {
      "model_module": "@jupyter-widgets/base",
      "model_module_version": "2.0.0",
      "model_name": "LayoutModel",
      "state": {}
     },
     "c746f00e09c945e6af173cc57c4ddf96": {
      "model_module": "@jupyter-widgets/base",
      "model_module_version": "2.0.0",
      "model_name": "LayoutModel",
      "state": {}
     },
     "c75f2ba8285946beb71762a25ef91b5f": {
      "model_module": "@jupyter-widgets/controls",
      "model_module_version": "2.0.0",
      "model_name": "HTMLStyleModel",
      "state": {
       "description_width": "",
       "font_size": null,
       "text_color": null
      }
     },
     "c776bb9331924ff3b66478f5bdf9acbb": {
      "model_module": "@jupyter-widgets/controls",
      "model_module_version": "2.0.0",
      "model_name": "HTMLStyleModel",
      "state": {
       "description_width": "",
       "font_size": null,
       "text_color": null
      }
     },
     "c77c5c48d6f74fbf9cc5dc556610f877": {
      "model_module": "@jupyter-widgets/base",
      "model_module_version": "2.0.0",
      "model_name": "LayoutModel",
      "state": {}
     },
     "c7e7a4552a034d7e94450bab51171576": {
      "model_module": "@jupyter-widgets/controls",
      "model_module_version": "2.0.0",
      "model_name": "HTMLStyleModel",
      "state": {
       "description_width": "",
       "font_size": null,
       "text_color": null
      }
     },
     "c82fa472b4234532aa8f7514ad74e119": {
      "model_module": "@jupyter-widgets/controls",
      "model_module_version": "2.0.0",
      "model_name": "HTMLModel",
      "state": {
       "layout": "IPY_MODEL_33a036b6d27148cf83f71fa8ce76449b",
       "style": "IPY_MODEL_b6e5af567bf34bdf9034c8488c875974",
       "value": "Sanity Checking DataLoader 0: 100%"
      }
     },
     "c86419ede7624817ba3f450f7a3e2097": {
      "model_module": "@jupyter-widgets/controls",
      "model_module_version": "2.0.0",
      "model_name": "HTMLModel",
      "state": {
       "layout": "IPY_MODEL_7dc75dd36bc94ab689e0e65d4bcaf5c9",
       "style": "IPY_MODEL_d2d6ec63e7d6426395e705bc3009221e",
       "value": " 1/1 [00:00&lt;00:00, 14.08it/s, v_num=288, train_loss_step=1.780, train_loss_epoch=1.780, valid_loss=476.0]"
      }
     },
     "c87d857df859439f92e0e27d9e31b12e": {
      "model_module": "@jupyter-widgets/controls",
      "model_module_version": "2.0.0",
      "model_name": "HTMLStyleModel",
      "state": {
       "description_width": "",
       "font_size": null,
       "text_color": null
      }
     },
     "c8caad11ac06442ba38abbf181b63fc3": {
      "model_module": "@jupyter-widgets/controls",
      "model_module_version": "2.0.0",
      "model_name": "FloatProgressModel",
      "state": {
       "bar_style": "success",
       "layout": "IPY_MODEL_610f931c11174a65a442f5e4918fb372",
       "max": 500,
       "style": "IPY_MODEL_199c25faf2ee401ca98f7bf4399d1d1e",
       "value": 500
      }
     },
     "c9017a3e1191474d8675ed0fc7321e5b": {
      "model_module": "@jupyter-widgets/controls",
      "model_module_version": "2.0.0",
      "model_name": "ProgressStyleModel",
      "state": {
       "description_width": ""
      }
     },
     "c96e971ccfeb43a088e7896ce0f7acd9": {
      "model_module": "@jupyter-widgets/controls",
      "model_module_version": "2.0.0",
      "model_name": "HTMLStyleModel",
      "state": {
       "description_width": "",
       "font_size": null,
       "text_color": null
      }
     },
     "c9a13946dfb34481ab207777371a3441": {
      "model_module": "@jupyter-widgets/controls",
      "model_module_version": "2.0.0",
      "model_name": "HTMLStyleModel",
      "state": {
       "description_width": "",
       "font_size": null,
       "text_color": null
      }
     },
     "c9cd801f8c174c65b58bc474cf3cfda0": {
      "model_module": "@jupyter-widgets/controls",
      "model_module_version": "2.0.0",
      "model_name": "HTMLModel",
      "state": {
       "layout": "IPY_MODEL_0669e970257c4a9fbc8c825fcdeb4935",
       "style": "IPY_MODEL_c05a3d9dc1ee4b99ab9b7981a8141f25",
       "value": " 1/1 [00:00&lt;00:00, 34.89it/s]"
      }
     },
     "ca13fca79d054ccbaa1fe3326c7dcc0b": {
      "model_module": "@jupyter-widgets/controls",
      "model_module_version": "2.0.0",
      "model_name": "ProgressStyleModel",
      "state": {
       "description_width": ""
      }
     },
     "ca7c31fd7dac48bda6f898b36ab546b8": {
      "model_module": "@jupyter-widgets/base",
      "model_module_version": "2.0.0",
      "model_name": "LayoutModel",
      "state": {
       "flex": "2"
      }
     },
     "caa43e2266354e5788960a5a04392851": {
      "model_module": "@jupyter-widgets/controls",
      "model_module_version": "2.0.0",
      "model_name": "ProgressStyleModel",
      "state": {
       "description_width": ""
      }
     },
     "cac02533a3684c3e83c2bd48855d7e3b": {
      "model_module": "@jupyter-widgets/base",
      "model_module_version": "2.0.0",
      "model_name": "LayoutModel",
      "state": {
       "display": "inline-flex",
       "flex_flow": "row wrap",
       "visibility": "hidden",
       "width": "100%"
      }
     },
     "cb0ad2d549424014b76cedc848526d12": {
      "model_module": "@jupyter-widgets/controls",
      "model_module_version": "2.0.0",
      "model_name": "FloatProgressModel",
      "state": {
       "layout": "IPY_MODEL_00d8f0a5c1c04f51b3cd1ff50f679644",
       "max": 1,
       "style": "IPY_MODEL_65f2f1dd39fe43dd9d10c8de299b53ca",
       "value": 1
      }
     },
     "cb1abb00510f4d498da8481e943e9135": {
      "model_module": "@jupyter-widgets/controls",
      "model_module_version": "2.0.0",
      "model_name": "HTMLStyleModel",
      "state": {
       "description_width": "",
       "font_size": null,
       "text_color": null
      }
     },
     "cb1ea36a9e10493dad189a2d32a67c46": {
      "model_module": "@jupyter-widgets/controls",
      "model_module_version": "2.0.0",
      "model_name": "ProgressStyleModel",
      "state": {
       "description_width": ""
      }
     },
     "cb440c30cb804b41b8e20edc3c633a43": {
      "model_module": "@jupyter-widgets/controls",
      "model_module_version": "2.0.0",
      "model_name": "HTMLStyleModel",
      "state": {
       "description_width": "",
       "font_size": null,
       "text_color": null
      }
     },
     "cb49589120674177b4ec3a51f7660920": {
      "model_module": "@jupyter-widgets/controls",
      "model_module_version": "2.0.0",
      "model_name": "HTMLModel",
      "state": {
       "layout": "IPY_MODEL_e88219cac2e6494696be6fe60a04d335",
       "style": "IPY_MODEL_5f46455ddbb84fd3aa8070d8e03e1727",
       "value": " 1/1 [00:00&lt;00:00,  2.88it/s, v_num=308, train_loss_step=0.639, train_loss_epoch=0.639, valid_loss=4.28e+3]"
      }
     },
     "cbb1dac16cb64344ab963293943b1e17": {
      "model_module": "@jupyter-widgets/controls",
      "model_module_version": "2.0.0",
      "model_name": "HTMLModel",
      "state": {
       "layout": "IPY_MODEL_aecf64ea7b3241f19f0fdae016eb83e1",
       "style": "IPY_MODEL_b0944361edc6489ba786c8f2e1bbc245",
       "value": " 1/1 [00:00&lt;00:00, 79.24it/s]"
      }
     },
     "cbccbbe2272f42e595b0554a6980f1d5": {
      "model_module": "@jupyter-widgets/controls",
      "model_module_version": "2.0.0",
      "model_name": "HBoxModel",
      "state": {
       "children": [
        "IPY_MODEL_05a584e922cc4a5f9215eca862073207",
        "IPY_MODEL_21fa47aaa66a4c55b6355a866bdfa9f1",
        "IPY_MODEL_863103a3655f4172a64a8088724c27ee"
       ],
       "layout": "IPY_MODEL_9724eca741f4468d935a16ef29af8b04"
      }
     },
     "cbe9bc99c5bc433da05e583b43eaafa6": {
      "model_module": "@jupyter-widgets/controls",
      "model_module_version": "2.0.0",
      "model_name": "HTMLStyleModel",
      "state": {
       "description_width": "",
       "font_size": null,
       "text_color": null
      }
     },
     "cc1e1523c1fd4c7bb0b283fae8af67a0": {
      "model_module": "@jupyter-widgets/controls",
      "model_module_version": "2.0.0",
      "model_name": "HBoxModel",
      "state": {
       "children": [
        "IPY_MODEL_a12598b959034884b21d7c6f11e2868c",
        "IPY_MODEL_8dd0070713ac4bca9b108f4c95c831cb",
        "IPY_MODEL_8a28848e61594820afab664098770aae"
       ],
       "layout": "IPY_MODEL_f5e99c165d694b25b3f1454ac6544629"
      }
     },
     "cc6e5f2598074c3a9018a086cda1ca95": {
      "model_module": "@jupyter-widgets/controls",
      "model_module_version": "2.0.0",
      "model_name": "HBoxModel",
      "state": {
       "children": [
        "IPY_MODEL_5c241d340aee43318e894df01c56adb1",
        "IPY_MODEL_e5471fb623764bc8b0f8b47d420f464d",
        "IPY_MODEL_68c6ee0d3e914861bde06fbec1d3b5d6"
       ],
       "layout": "IPY_MODEL_f1cc993a2b9a44c387e9f79b230b20b3"
      }
     },
     "cc88545bf69c48beaf6e27e26340f358": {
      "model_module": "@jupyter-widgets/base",
      "model_module_version": "2.0.0",
      "model_name": "LayoutModel",
      "state": {}
     },
     "cccf7854018b4cd9ab4bd7683b587176": {
      "model_module": "@jupyter-widgets/controls",
      "model_module_version": "2.0.0",
      "model_name": "HTMLModel",
      "state": {
       "layout": "IPY_MODEL_3665134f297b4bbbb231834bbd5c7b48",
       "style": "IPY_MODEL_beeeffca9baf43dc9feb183db1ec5e69",
       "value": " 1/1 [00:00&lt;00:00, 47.46it/s]"
      }
     },
     "ccdd9b4db10b4870930b1930bef2d8a0": {
      "model_module": "@jupyter-widgets/base",
      "model_module_version": "2.0.0",
      "model_name": "LayoutModel",
      "state": {
       "display": "inline-flex",
       "flex_flow": "row wrap",
       "visibility": "hidden",
       "width": "100%"
      }
     },
     "cd3a6f952c8f442e90dc75ea2a14986f": {
      "model_module": "@jupyter-widgets/controls",
      "model_module_version": "2.0.0",
      "model_name": "HTMLStyleModel",
      "state": {
       "description_width": "",
       "font_size": null,
       "text_color": null
      }
     },
     "cd560a611ae245689f9d07ca0f01bfc7": {
      "model_module": "@jupyter-widgets/base",
      "model_module_version": "2.0.0",
      "model_name": "LayoutModel",
      "state": {
       "display": "inline-flex",
       "flex_flow": "row wrap",
       "width": "100%"
      }
     },
     "cd5ac8a79e6b48a58f994721a4786bfc": {
      "model_module": "@jupyter-widgets/base",
      "model_module_version": "2.0.0",
      "model_name": "LayoutModel",
      "state": {}
     },
     "cd8195672ef54fbe8710e335fd99dc90": {
      "model_module": "@jupyter-widgets/controls",
      "model_module_version": "2.0.0",
      "model_name": "HTMLStyleModel",
      "state": {
       "description_width": "",
       "font_size": null,
       "text_color": null
      }
     },
     "cd967552ed194d4aa27ae3fda39af7f2": {
      "model_module": "@jupyter-widgets/controls",
      "model_module_version": "2.0.0",
      "model_name": "ProgressStyleModel",
      "state": {
       "description_width": ""
      }
     },
     "cec43e787ea54257a71da71e4e961416": {
      "model_module": "@jupyter-widgets/controls",
      "model_module_version": "2.0.0",
      "model_name": "HTMLModel",
      "state": {
       "layout": "IPY_MODEL_590003e01b534994abb158a0c7b0ea50",
       "style": "IPY_MODEL_6b62a701e2c64656a9df0fc678fe14a4",
       "value": " 1/1 [00:00&lt;00:00, 10.52it/s]"
      }
     },
     "cf020a0ce39a488bb57d5cc5893130bc": {
      "model_module": "@jupyter-widgets/controls",
      "model_module_version": "2.0.0",
      "model_name": "ProgressStyleModel",
      "state": {
       "description_width": ""
      }
     },
     "cfe40923023549b59e0f14e86cfde5d7": {
      "model_module": "@jupyter-widgets/controls",
      "model_module_version": "2.0.0",
      "model_name": "ProgressStyleModel",
      "state": {
       "description_width": ""
      }
     },
     "d00ff08752394d86a76bdac78613ca23": {
      "model_module": "@jupyter-widgets/base",
      "model_module_version": "2.0.0",
      "model_name": "LayoutModel",
      "state": {
       "flex": "2"
      }
     },
     "d02e8f814b594438ad642bfad9297c2e": {
      "model_module": "@jupyter-widgets/base",
      "model_module_version": "2.0.0",
      "model_name": "LayoutModel",
      "state": {
       "display": "inline-flex",
       "flex_flow": "row wrap",
       "visibility": "hidden",
       "width": "100%"
      }
     },
     "d08e6627375d45659bdfa7c672469421": {
      "model_module": "@jupyter-widgets/controls",
      "model_module_version": "2.0.0",
      "model_name": "HTMLStyleModel",
      "state": {
       "description_width": "",
       "font_size": null,
       "text_color": null
      }
     },
     "d0d2a70fff13407b87b6bbf4dd40d790": {
      "model_module": "@jupyter-widgets/controls",
      "model_module_version": "2.0.0",
      "model_name": "ProgressStyleModel",
      "state": {
       "description_width": ""
      }
     },
     "d0e64ba431ed42d59c14611997bcde91": {
      "model_module": "@jupyter-widgets/controls",
      "model_module_version": "2.0.0",
      "model_name": "HTMLStyleModel",
      "state": {
       "description_width": "",
       "font_size": null,
       "text_color": null
      }
     },
     "d10f91e1b1494ce5a26e582f505d80d5": {
      "model_module": "@jupyter-widgets/controls",
      "model_module_version": "2.0.0",
      "model_name": "HTMLStyleModel",
      "state": {
       "description_width": "",
       "font_size": null,
       "text_color": null
      }
     },
     "d17b047dd18a4bce8d4204fbc3478671": {
      "model_module": "@jupyter-widgets/controls",
      "model_module_version": "2.0.0",
      "model_name": "HTMLStyleModel",
      "state": {
       "description_width": "",
       "font_size": null,
       "text_color": null
      }
     },
     "d1ac6846c6934058b5536812a4739e56": {
      "model_module": "@jupyter-widgets/controls",
      "model_module_version": "2.0.0",
      "model_name": "ProgressStyleModel",
      "state": {
       "description_width": ""
      }
     },
     "d1c5911031094d459f8488014b1e6523": {
      "model_module": "@jupyter-widgets/base",
      "model_module_version": "2.0.0",
      "model_name": "LayoutModel",
      "state": {}
     },
     "d1eba45ceb4f4ade98dfca9f69e80e7f": {
      "model_module": "@jupyter-widgets/controls",
      "model_module_version": "2.0.0",
      "model_name": "HTMLModel",
      "state": {
       "layout": "IPY_MODEL_96783a845e024959858e8c95f83631ef",
       "style": "IPY_MODEL_052ffd08e5db4dd6b9ab41531eedd871",
       "value": " 1/1 [00:00&lt;00:00, 95.12it/s]"
      }
     },
     "d24f0fc085154530bd7b33e301ec4e9e": {
      "model_module": "@jupyter-widgets/base",
      "model_module_version": "2.0.0",
      "model_name": "LayoutModel",
      "state": {}
     },
     "d2963f5fef8a4101ba6f7fb20b490a67": {
      "model_module": "@jupyter-widgets/controls",
      "model_module_version": "2.0.0",
      "model_name": "HTMLModel",
      "state": {
       "layout": "IPY_MODEL_cc88545bf69c48beaf6e27e26340f358",
       "style": "IPY_MODEL_2ab529fb000b4750b616bd6591b9ba9f",
       "value": " 1/1 [00:00&lt;00:00, 1000.55it/s]"
      }
     },
     "d2d6ec63e7d6426395e705bc3009221e": {
      "model_module": "@jupyter-widgets/controls",
      "model_module_version": "2.0.0",
      "model_name": "HTMLStyleModel",
      "state": {
       "description_width": "",
       "font_size": null,
       "text_color": null
      }
     },
     "d3253f6d04bd4a4da3877c0b3c4ef3e4": {
      "model_module": "@jupyter-widgets/base",
      "model_module_version": "2.0.0",
      "model_name": "LayoutModel",
      "state": {
       "flex": "2"
      }
     },
     "d331a4e282b84d94bddd8ad36a7a91f0": {
      "model_module": "@jupyter-widgets/controls",
      "model_module_version": "2.0.0",
      "model_name": "HTMLStyleModel",
      "state": {
       "description_width": "",
       "font_size": null,
       "text_color": null
      }
     },
     "d3d49c0e10b34dad97b084c93455b144": {
      "model_module": "@jupyter-widgets/controls",
      "model_module_version": "2.0.0",
      "model_name": "HTMLStyleModel",
      "state": {
       "description_width": "",
       "font_size": null,
       "text_color": null
      }
     },
     "d46ecf46ca5b4a8c94b6921af25d1cd3": {
      "model_module": "@jupyter-widgets/controls",
      "model_module_version": "2.0.0",
      "model_name": "HTMLStyleModel",
      "state": {
       "description_width": "",
       "font_size": null,
       "text_color": null
      }
     },
     "d48698b9dd554c09acd23fba6daa2382": {
      "model_module": "@jupyter-widgets/controls",
      "model_module_version": "2.0.0",
      "model_name": "ProgressStyleModel",
      "state": {
       "description_width": ""
      }
     },
     "d4a155cfb92b4fbab7ee253d1d741021": {
      "model_module": "@jupyter-widgets/base",
      "model_module_version": "2.0.0",
      "model_name": "LayoutModel",
      "state": {
       "display": "inline-flex",
       "flex_flow": "row wrap",
       "width": "100%"
      }
     },
     "d4aa84db0fc64aed87ab44b3f1e2d478": {
      "model_module": "@jupyter-widgets/base",
      "model_module_version": "2.0.0",
      "model_name": "LayoutModel",
      "state": {
       "flex": "2"
      }
     },
     "d4aeb757a5e8468e82627ae777f67f2c": {
      "model_module": "@jupyter-widgets/controls",
      "model_module_version": "2.0.0",
      "model_name": "HTMLStyleModel",
      "state": {
       "description_width": "",
       "font_size": null,
       "text_color": null
      }
     },
     "d4eacac881964354b8a7606e75588f4a": {
      "model_module": "@jupyter-widgets/controls",
      "model_module_version": "2.0.0",
      "model_name": "HTMLModel",
      "state": {
       "layout": "IPY_MODEL_b80e0b5bc33d41229103215fc82f5d2a",
       "style": "IPY_MODEL_6a70909bea7e435f80f072137177610e",
       "value": "Sanity Checking DataLoader 0: 100%"
      }
     },
     "d507b83f15b94bd692bfadf48db449e1": {
      "model_module": "@jupyter-widgets/base",
      "model_module_version": "2.0.0",
      "model_name": "LayoutModel",
      "state": {
       "display": "inline-flex",
       "flex_flow": "row wrap",
       "visibility": "hidden",
       "width": "100%"
      }
     },
     "d508cb5d7e0e477495c920dc380f9d75": {
      "model_module": "@jupyter-widgets/controls",
      "model_module_version": "2.0.0",
      "model_name": "HTMLModel",
      "state": {
       "layout": "IPY_MODEL_50aef5e8bf0b468f8871b4f18f5d96e1",
       "style": "IPY_MODEL_12bca9a44aaa494ca717d3479650fc72",
       "value": "Sanity Checking DataLoader 0: 100%"
      }
     },
     "d519c337d1db4bb5a1c29a50fc9ce6d7": {
      "model_module": "@jupyter-widgets/base",
      "model_module_version": "2.0.0",
      "model_name": "LayoutModel",
      "state": {}
     },
     "d53859d088a6476b9a9ac3b6015350eb": {
      "model_module": "@jupyter-widgets/controls",
      "model_module_version": "2.0.0",
      "model_name": "HTMLStyleModel",
      "state": {
       "description_width": "",
       "font_size": null,
       "text_color": null
      }
     },
     "d5405553a4e74a0996eff3cef9f12c37": {
      "model_module": "@jupyter-widgets/base",
      "model_module_version": "2.0.0",
      "model_name": "LayoutModel",
      "state": {
       "display": "inline-flex",
       "flex_flow": "row wrap",
       "width": "100%"
      }
     },
     "d54aa1178548412192b2fc09a31437b8": {
      "model_module": "@jupyter-widgets/controls",
      "model_module_version": "2.0.0",
      "model_name": "HTMLModel",
      "state": {
       "layout": "IPY_MODEL_2729149f260c435f8cebe50ee7a77dd9",
       "style": "IPY_MODEL_c776bb9331924ff3b66478f5bdf9acbb",
       "value": " 1/1 [00:00&lt;00:00, 42.48it/s]"
      }
     },
     "d54f8e9183b14ef1a8011ac32a28a317": {
      "model_module": "@jupyter-widgets/base",
      "model_module_version": "2.0.0",
      "model_name": "LayoutModel",
      "state": {}
     },
     "d57d8bfc73024fbca58721362ba9a685": {
      "model_module": "@jupyter-widgets/base",
      "model_module_version": "2.0.0",
      "model_name": "LayoutModel",
      "state": {}
     },
     "d5892a16b293424dbe3ecb493f0df7bc": {
      "model_module": "@jupyter-widgets/base",
      "model_module_version": "2.0.0",
      "model_name": "LayoutModel",
      "state": {}
     },
     "d58c7b52ec9c46778a89ad83c05eb7e3": {
      "model_module": "@jupyter-widgets/base",
      "model_module_version": "2.0.0",
      "model_name": "LayoutModel",
      "state": {
       "display": "inline-flex",
       "flex_flow": "row wrap",
       "visibility": "hidden",
       "width": "100%"
      }
     },
     "d5c955dcf8d1465d92b6911766b3a337": {
      "model_module": "@jupyter-widgets/base",
      "model_module_version": "2.0.0",
      "model_name": "LayoutModel",
      "state": {}
     },
     "d5d08f85a4a24cf1b38ae07893c29ba0": {
      "model_module": "@jupyter-widgets/base",
      "model_module_version": "2.0.0",
      "model_name": "LayoutModel",
      "state": {}
     },
     "d5ea4655fcc1408fada33903160a990a": {
      "model_module": "@jupyter-widgets/base",
      "model_module_version": "2.0.0",
      "model_name": "LayoutModel",
      "state": {
       "display": "inline-flex",
       "flex_flow": "row wrap",
       "visibility": "hidden",
       "width": "100%"
      }
     },
     "d697910b2d944ccd940c439c439d2548": {
      "model_module": "@jupyter-widgets/controls",
      "model_module_version": "2.0.0",
      "model_name": "HTMLStyleModel",
      "state": {
       "description_width": "",
       "font_size": null,
       "text_color": null
      }
     },
     "d6c1027026e2423398765b1aa663488e": {
      "model_module": "@jupyter-widgets/controls",
      "model_module_version": "2.0.0",
      "model_name": "HTMLStyleModel",
      "state": {
       "description_width": "",
       "font_size": null,
       "text_color": null
      }
     },
     "d6c9479914ea48f2845c196dc38e9c57": {
      "model_module": "@jupyter-widgets/base",
      "model_module_version": "2.0.0",
      "model_name": "LayoutModel",
      "state": {}
     },
     "d6f12f4c153e4b969fbd75a606a24f88": {
      "model_module": "@jupyter-widgets/base",
      "model_module_version": "2.0.0",
      "model_name": "LayoutModel",
      "state": {
       "display": "inline-flex",
       "flex_flow": "row wrap",
       "visibility": "hidden",
       "width": "100%"
      }
     },
     "d74111230f374641b101220ce85ef90f": {
      "model_module": "@jupyter-widgets/base",
      "model_module_version": "2.0.0",
      "model_name": "LayoutModel",
      "state": {}
     },
     "d741b966281a4d0ea1a478b1f0fd0cd9": {
      "model_module": "@jupyter-widgets/controls",
      "model_module_version": "2.0.0",
      "model_name": "HTMLStyleModel",
      "state": {
       "description_width": "",
       "font_size": null,
       "text_color": null
      }
     },
     "d77d744b6f2841e495f1bfc018fe4581": {
      "model_module": "@jupyter-widgets/controls",
      "model_module_version": "2.0.0",
      "model_name": "HTMLModel",
      "state": {
       "layout": "IPY_MODEL_040fe3f253f943fe80eb1bccad070fd6",
       "style": "IPY_MODEL_bef20cd2944847238b7f792fbc84fabf",
       "value": " 1/1 [00:00&lt;00:00,  1.65it/s, train_loss_step=0.175, train_loss_epoch=0.175, valid_loss=313.0]"
      }
     },
     "d7ac78fccce94b2d91974dd37ad6dc8e": {
      "model_module": "@jupyter-widgets/controls",
      "model_module_version": "2.0.0",
      "model_name": "HTMLModel",
      "state": {
       "layout": "IPY_MODEL_3e87c6cab9ec406eb1beeab90d56414d",
       "style": "IPY_MODEL_669b5073cbae4dec9bd7427d1f466f66",
       "value": "Validation DataLoader 0: 100%"
      }
     },
     "d7e206ba832241d1be601423eb57abce": {
      "model_module": "@jupyter-widgets/controls",
      "model_module_version": "2.0.0",
      "model_name": "HTMLModel",
      "state": {
       "layout": "IPY_MODEL_4cb82bbe89f84e23b60e6921186aa5bc",
       "style": "IPY_MODEL_9ea6670413b546bfa1f6e94979aecd38",
       "value": " 1/1 [00:00&lt;00:00,  5.68it/s]"
      }
     },
     "d7f20e1bd36f47f0be0494044333bf39": {
      "model_module": "@jupyter-widgets/base",
      "model_module_version": "2.0.0",
      "model_name": "LayoutModel",
      "state": {}
     },
     "d7f3acb58438467dbd3ba04dda5aa183": {
      "model_module": "@jupyter-widgets/base",
      "model_module_version": "2.0.0",
      "model_name": "LayoutModel",
      "state": {}
     },
     "d8536da1445f41b4b1cdbbb19e4c0404": {
      "model_module": "@jupyter-widgets/controls",
      "model_module_version": "2.0.0",
      "model_name": "HTMLStyleModel",
      "state": {
       "description_width": "",
       "font_size": null,
       "text_color": null
      }
     },
     "d8631e686a8a47b7b985a2fb22580c8e": {
      "model_module": "@jupyter-widgets/controls",
      "model_module_version": "2.0.0",
      "model_name": "HTMLStyleModel",
      "state": {
       "description_width": "",
       "font_size": null,
       "text_color": null
      }
     },
     "d8a768a0acff446799216f47b882b8b5": {
      "model_module": "@jupyter-widgets/base",
      "model_module_version": "2.0.0",
      "model_name": "LayoutModel",
      "state": {}
     },
     "d926f7ae3919464d9345c76215e484d0": {
      "model_module": "@jupyter-widgets/controls",
      "model_module_version": "2.0.0",
      "model_name": "HTMLStyleModel",
      "state": {
       "description_width": "",
       "font_size": null,
       "text_color": null
      }
     },
     "d92ac285947c4563aea2055bc2358cdb": {
      "model_module": "@jupyter-widgets/base",
      "model_module_version": "2.0.0",
      "model_name": "LayoutModel",
      "state": {
       "display": "inline-flex",
       "flex_flow": "row wrap",
       "visibility": "hidden",
       "width": "100%"
      }
     },
     "d92bfcaff78347a6b6ae70c3d05d6567": {
      "model_module": "@jupyter-widgets/base",
      "model_module_version": "2.0.0",
      "model_name": "LayoutModel",
      "state": {
       "display": "inline-flex",
       "flex_flow": "row wrap",
       "visibility": "hidden",
       "width": "100%"
      }
     },
     "d94f6f135561453881335c6dfb0933c5": {
      "model_module": "@jupyter-widgets/controls",
      "model_module_version": "2.0.0",
      "model_name": "HTMLStyleModel",
      "state": {
       "description_width": "",
       "font_size": null,
       "text_color": null
      }
     },
     "d9899390766f4694b0802d5341627fa9": {
      "model_module": "@jupyter-widgets/controls",
      "model_module_version": "2.0.0",
      "model_name": "HTMLStyleModel",
      "state": {
       "description_width": "",
       "font_size": null,
       "text_color": null
      }
     },
     "d98a18b9fd854e24ab7088f046b8cf65": {
      "model_module": "@jupyter-widgets/controls",
      "model_module_version": "2.0.0",
      "model_name": "HTMLModel",
      "state": {
       "layout": "IPY_MODEL_3491c44daf324adb9e33d3a78b965344",
       "style": "IPY_MODEL_22f92676342846a683a3dc2110e63a85",
       "value": "Validation DataLoader 0: 100%"
      }
     },
     "d9c473089b074a61b44aefec2a29a388": {
      "model_module": "@jupyter-widgets/base",
      "model_module_version": "2.0.0",
      "model_name": "LayoutModel",
      "state": {}
     },
     "d9cc8ce3065d44d2a43cade2ebae6cf2": {
      "model_module": "@jupyter-widgets/controls",
      "model_module_version": "2.0.0",
      "model_name": "ProgressStyleModel",
      "state": {
       "description_width": ""
      }
     },
     "d9e2dbc27eac418b8a9f1727e402e290": {
      "model_module": "@jupyter-widgets/base",
      "model_module_version": "2.0.0",
      "model_name": "LayoutModel",
      "state": {}
     },
     "da28cde516e841f38fa6fa6dc01425c1": {
      "model_module": "@jupyter-widgets/controls",
      "model_module_version": "2.0.0",
      "model_name": "HTMLModel",
      "state": {
       "layout": "IPY_MODEL_2a37da80c8384cbdb9749cbc7119647d",
       "style": "IPY_MODEL_6443e33669894d8d9a2f628f81f06668",
       "value": "Epoch 99: 100%"
      }
     },
     "dac6d30ca98e4765a0e57311bab55e35": {
      "model_module": "@jupyter-widgets/base",
      "model_module_version": "2.0.0",
      "model_name": "LayoutModel",
      "state": {
       "flex": "2"
      }
     },
     "db1b3242515f4ce98f5e8589b606b501": {
      "model_module": "@jupyter-widgets/base",
      "model_module_version": "2.0.0",
      "model_name": "LayoutModel",
      "state": {
       "flex": "2"
      }
     },
     "db1ee6dee420459990dc8c0d79fad5d1": {
      "model_module": "@jupyter-widgets/base",
      "model_module_version": "2.0.0",
      "model_name": "LayoutModel",
      "state": {}
     },
     "db26b5a181a543b5a29075bc5c91e625": {
      "model_module": "@jupyter-widgets/base",
      "model_module_version": "2.0.0",
      "model_name": "LayoutModel",
      "state": {}
     },
     "db2a1e304dbc4d0abf196349de6a3007": {
      "model_module": "@jupyter-widgets/base",
      "model_module_version": "2.0.0",
      "model_name": "LayoutModel",
      "state": {}
     },
     "db40295d8003485db6dec1dc2b3fc7c3": {
      "model_module": "@jupyter-widgets/base",
      "model_module_version": "2.0.0",
      "model_name": "LayoutModel",
      "state": {}
     },
     "db6b0656a8704b9e9e0ab0e152fb4721": {
      "model_module": "@jupyter-widgets/base",
      "model_module_version": "2.0.0",
      "model_name": "LayoutModel",
      "state": {}
     },
     "db70a7af62f745878ceb9135f0a8838b": {
      "model_module": "@jupyter-widgets/controls",
      "model_module_version": "2.0.0",
      "model_name": "HTMLStyleModel",
      "state": {
       "description_width": "",
       "font_size": null,
       "text_color": null
      }
     },
     "db7f00f6437d40ff8ce980bb8e81a18a": {
      "model_module": "@jupyter-widgets/controls",
      "model_module_version": "2.0.0",
      "model_name": "ProgressStyleModel",
      "state": {
       "description_width": ""
      }
     },
     "dca7fe650379455c83c1da31a389048a": {
      "model_module": "@jupyter-widgets/base",
      "model_module_version": "2.0.0",
      "model_name": "LayoutModel",
      "state": {}
     },
     "dcbadf20becf4fa2a460b2706b08567f": {
      "model_module": "@jupyter-widgets/base",
      "model_module_version": "2.0.0",
      "model_name": "LayoutModel",
      "state": {
       "flex": "2"
      }
     },
     "dcc7101649bf42d3b1f25d7d0e66e006": {
      "model_module": "@jupyter-widgets/controls",
      "model_module_version": "2.0.0",
      "model_name": "HTMLStyleModel",
      "state": {
       "description_width": "",
       "font_size": null,
       "text_color": null
      }
     },
     "dcd06d95f11f4fc99e73419f526d686d": {
      "model_module": "@jupyter-widgets/controls",
      "model_module_version": "2.0.0",
      "model_name": "HTMLStyleModel",
      "state": {
       "description_width": "",
       "font_size": null,
       "text_color": null
      }
     },
     "dcd31ed2904c4536a0dee49e207ce718": {
      "model_module": "@jupyter-widgets/base",
      "model_module_version": "2.0.0",
      "model_name": "LayoutModel",
      "state": {
       "display": "inline-flex",
       "flex_flow": "row wrap",
       "visibility": "hidden",
       "width": "100%"
      }
     },
     "dcf313455e994ef2b7a5341da4399165": {
      "model_module": "@jupyter-widgets/base",
      "model_module_version": "2.0.0",
      "model_name": "LayoutModel",
      "state": {}
     },
     "dd4c142b35f2422791e098993501e25a": {
      "model_module": "@jupyter-widgets/controls",
      "model_module_version": "2.0.0",
      "model_name": "HTMLStyleModel",
      "state": {
       "description_width": "",
       "font_size": null,
       "text_color": null
      }
     },
     "dd668cb2a79c4871bab4e4cdf0ba1015": {
      "model_module": "@jupyter-widgets/controls",
      "model_module_version": "2.0.0",
      "model_name": "FloatProgressModel",
      "state": {
       "layout": "IPY_MODEL_e28b1523dfd544a58177ae460b2519b8",
       "max": 1,
       "style": "IPY_MODEL_8ed7176530b44b32854c058ab2955402",
       "value": 1
      }
     },
     "dde2d966931d4bba9521d5dc29cb70d2": {
      "model_module": "@jupyter-widgets/controls",
      "model_module_version": "2.0.0",
      "model_name": "FloatProgressModel",
      "state": {
       "layout": "IPY_MODEL_5be7f65f83f1447aa940503adaa26564",
       "max": 1,
       "style": "IPY_MODEL_f3ac48af70da4daba08134f1c3f4cba0",
       "value": 1
      }
     },
     "ddeb7983155b402ba3ebd2422c446369": {
      "model_module": "@jupyter-widgets/base",
      "model_module_version": "2.0.0",
      "model_name": "LayoutModel",
      "state": {
       "flex": "2"
      }
     },
     "de0122dc068641c89b611534b3161b16": {
      "model_module": "@jupyter-widgets/controls",
      "model_module_version": "2.0.0",
      "model_name": "HTMLStyleModel",
      "state": {
       "description_width": "",
       "font_size": null,
       "text_color": null
      }
     },
     "de02a13efbf8403c8776887c4beec1b9": {
      "model_module": "@jupyter-widgets/controls",
      "model_module_version": "2.0.0",
      "model_name": "HTMLStyleModel",
      "state": {
       "description_width": "",
       "font_size": null,
       "text_color": null
      }
     },
     "de0b035671b2455b959ab515438d373f": {
      "model_module": "@jupyter-widgets/controls",
      "model_module_version": "2.0.0",
      "model_name": "HTMLModel",
      "state": {
       "layout": "IPY_MODEL_8a660d9eaef648fdb8e2064eb79c46f6",
       "style": "IPY_MODEL_89c8c4843a45406cbd4e74add0979d00",
       "value": "Sanity Checking DataLoader 0: 100%"
      }
     },
     "dea200a560c848f89e1b0a151b4aa76d": {
      "model_module": "@jupyter-widgets/controls",
      "model_module_version": "2.0.0",
      "model_name": "FloatProgressModel",
      "state": {
       "layout": "IPY_MODEL_fe4a9ff166934d8d92e2928390b62483",
       "max": 1,
       "style": "IPY_MODEL_ad44ce55e41a42b687158ee0794c9b38",
       "value": 1
      }
     },
     "dec2a1ff63a1430f974d39aa0379ceee": {
      "model_module": "@jupyter-widgets/base",
      "model_module_version": "2.0.0",
      "model_name": "LayoutModel",
      "state": {
       "display": "inline-flex",
       "flex_flow": "row wrap",
       "visibility": "hidden",
       "width": "100%"
      }
     },
     "dee72b95b2d84ad1850e425e584fee00": {
      "model_module": "@jupyter-widgets/controls",
      "model_module_version": "2.0.0",
      "model_name": "HTMLStyleModel",
      "state": {
       "description_width": "",
       "font_size": null,
       "text_color": null
      }
     },
     "df8dcc129b6742a88c3c5ccb05b0ce26": {
      "model_module": "@jupyter-widgets/base",
      "model_module_version": "2.0.0",
      "model_name": "LayoutModel",
      "state": {
       "flex": "2"
      }
     },
     "dfcf98688fdc43dfa787823b04354055": {
      "model_module": "@jupyter-widgets/base",
      "model_module_version": "2.0.0",
      "model_name": "LayoutModel",
      "state": {
       "flex": "2"
      }
     },
     "dfe4ef3c73d44a94bb18516dfe8a3236": {
      "model_module": "@jupyter-widgets/controls",
      "model_module_version": "2.0.0",
      "model_name": "HTMLModel",
      "state": {
       "layout": "IPY_MODEL_92095af3046f4115819cda3d8574ddbd",
       "style": "IPY_MODEL_973e84241a4c4f609631a0cafd2e0760",
       "value": " 1/1 [00:00&lt;00:00, 100.00it/s]"
      }
     },
     "e078a98f3bfd4b3da4551e72ee6d319a": {
      "model_module": "@jupyter-widgets/controls",
      "model_module_version": "2.0.0",
      "model_name": "ProgressStyleModel",
      "state": {
       "description_width": ""
      }
     },
     "e0837693162a4d028522100decec03ea": {
      "model_module": "@jupyter-widgets/base",
      "model_module_version": "2.0.0",
      "model_name": "LayoutModel",
      "state": {}
     },
     "e0985f00cfdd4da9a24be0d934bdb1b0": {
      "model_module": "@jupyter-widgets/base",
      "model_module_version": "2.0.0",
      "model_name": "LayoutModel",
      "state": {
       "display": "inline-flex",
       "flex_flow": "row wrap",
       "visibility": "hidden",
       "width": "100%"
      }
     },
     "e09ca4f8fe924352a2d0d112da54a581": {
      "model_module": "@jupyter-widgets/base",
      "model_module_version": "2.0.0",
      "model_name": "LayoutModel",
      "state": {
       "display": "inline-flex",
       "flex_flow": "row wrap",
       "width": "100%"
      }
     },
     "e09d84b646f34ed7bebc28ef10a05bd5": {
      "model_module": "@jupyter-widgets/controls",
      "model_module_version": "2.0.0",
      "model_name": "HTMLStyleModel",
      "state": {
       "description_width": "",
       "font_size": null,
       "text_color": null
      }
     },
     "e0a059b8feef4e34b871c9d3951c9a47": {
      "model_module": "@jupyter-widgets/base",
      "model_module_version": "2.0.0",
      "model_name": "LayoutModel",
      "state": {
       "display": "inline-flex",
       "flex_flow": "row wrap",
       "visibility": "hidden",
       "width": "100%"
      }
     },
     "e0b6cba9c8bb47489a7507f7a3a1afdb": {
      "model_module": "@jupyter-widgets/controls",
      "model_module_version": "2.0.0",
      "model_name": "ProgressStyleModel",
      "state": {
       "description_width": ""
      }
     },
     "e0d1040f9c484b2cad1f72b3bd96aa51": {
      "model_module": "@jupyter-widgets/controls",
      "model_module_version": "2.0.0",
      "model_name": "HTMLStyleModel",
      "state": {
       "description_width": "",
       "font_size": null,
       "text_color": null
      }
     },
     "e14168be1ad4426da9278b4564add012": {
      "model_module": "@jupyter-widgets/base",
      "model_module_version": "2.0.0",
      "model_name": "LayoutModel",
      "state": {
       "flex": "2"
      }
     },
     "e15c74221ffe406b8c415c5d2eddedc2": {
      "model_module": "@jupyter-widgets/controls",
      "model_module_version": "2.0.0",
      "model_name": "HTMLModel",
      "state": {
       "layout": "IPY_MODEL_a282162854d64ecc88c357631d57c1d2",
       "style": "IPY_MODEL_c1c321cab0d14c95a002956e069879f2",
       "value": "Sanity Checking DataLoader 0: 100%"
      }
     },
     "e166dbaa3613468b9734b2d9963d77f4": {
      "model_module": "@jupyter-widgets/base",
      "model_module_version": "2.0.0",
      "model_name": "LayoutModel",
      "state": {
       "flex": "2"
      }
     },
     "e20a5ddc69404c9b8d08b5a4ba7b4956": {
      "model_module": "@jupyter-widgets/controls",
      "model_module_version": "2.0.0",
      "model_name": "HTMLModel",
      "state": {
       "layout": "IPY_MODEL_eb5132934a314e44bfe8f9f09778e819",
       "style": "IPY_MODEL_7466fbd2808c4811b2f46e941d21cc56",
       "value": "Validation DataLoader 0: 100%"
      }
     },
     "e234e31b74bd4d049b899bd422544852": {
      "model_module": "@jupyter-widgets/base",
      "model_module_version": "2.0.0",
      "model_name": "LayoutModel",
      "state": {
       "flex": "2"
      }
     },
     "e23977cf5e3446c4b84228369cc6dc37": {
      "model_module": "@jupyter-widgets/controls",
      "model_module_version": "2.0.0",
      "model_name": "HTMLStyleModel",
      "state": {
       "description_width": "",
       "font_size": null,
       "text_color": null
      }
     },
     "e2510ce069864a35849d5762f5636d8f": {
      "model_module": "@jupyter-widgets/controls",
      "model_module_version": "2.0.0",
      "model_name": "ProgressStyleModel",
      "state": {
       "description_width": ""
      }
     },
     "e25873ffbd1746f9af6ab40cff35b5c8": {
      "model_module": "@jupyter-widgets/base",
      "model_module_version": "2.0.0",
      "model_name": "LayoutModel",
      "state": {}
     },
     "e28b1523dfd544a58177ae460b2519b8": {
      "model_module": "@jupyter-widgets/base",
      "model_module_version": "2.0.0",
      "model_name": "LayoutModel",
      "state": {
       "flex": "2"
      }
     },
     "e2b83989bb304b029db4cbd52fcae762": {
      "model_module": "@jupyter-widgets/controls",
      "model_module_version": "2.0.0",
      "model_name": "HTMLModel",
      "state": {
       "layout": "IPY_MODEL_f9f76f1b7f674400b936dc1de13eaf3f",
       "style": "IPY_MODEL_56b0aa690b4f4b9ea2d55a78641bc0d2",
       "value": "Predicting DataLoader 0: 100%"
      }
     },
     "e2bde5b416f6466c879aa790c2a790b5": {
      "model_module": "@jupyter-widgets/controls",
      "model_module_version": "2.0.0",
      "model_name": "FloatProgressModel",
      "state": {
       "layout": "IPY_MODEL_21521a46d470443b8d9a570096882b9e",
       "max": 1,
       "style": "IPY_MODEL_2f1bab2c574c41d7a4c5ad2e19f11209",
       "value": 1
      }
     },
     "e2df52b28a3b4d948367325e88f68620": {
      "model_module": "@jupyter-widgets/controls",
      "model_module_version": "2.0.0",
      "model_name": "HTMLModel",
      "state": {
       "layout": "IPY_MODEL_0d23d4040d05495291eca9c036fb6c56",
       "style": "IPY_MODEL_3355f75a55984afa88abe7c0591a2c6c",
       "value": " 1/1 [00:00&lt;00:00,  9.85it/s]"
      }
     },
     "e30230266dcf47508420c01ccc733d52": {
      "model_module": "@jupyter-widgets/controls",
      "model_module_version": "2.0.0",
      "model_name": "HTMLModel",
      "state": {
       "layout": "IPY_MODEL_7158375c0ec247bba80a71067733fa92",
       "style": "IPY_MODEL_5734dccefd9d4dc397b0869f1361416a",
       "value": "Sanity Checking DataLoader 0: 100%"
      }
     },
     "e30de9d0dfdd499882a27365454d4c94": {
      "model_module": "@jupyter-widgets/controls",
      "model_module_version": "2.0.0",
      "model_name": "HTMLModel",
      "state": {
       "layout": "IPY_MODEL_15557fe7d5f64da89c0c917da345f98c",
       "style": "IPY_MODEL_19f5c14973804be9ba4e685236673626",
       "value": " 1/1 [00:00&lt;00:00,  5.45it/s, v_num=303, train_loss_step=0.310, train_loss_epoch=0.310, valid_loss=209.0]"
      }
     },
     "e33692df60fe4f2ca46d70f24c5e9950": {
      "model_module": "@jupyter-widgets/controls",
      "model_module_version": "2.0.0",
      "model_name": "FloatProgressModel",
      "state": {
       "layout": "IPY_MODEL_d4aa84db0fc64aed87ab44b3f1e2d478",
       "max": 1,
       "style": "IPY_MODEL_c6253869ad9a48b0bb3af3ec3962479a",
       "value": 1
      }
     },
     "e33cbed4fbfa4a2b8312e181785fedd3": {
      "model_module": "@jupyter-widgets/controls",
      "model_module_version": "2.0.0",
      "model_name": "FloatProgressModel",
      "state": {
       "bar_style": "success",
       "layout": "IPY_MODEL_dac6d30ca98e4765a0e57311bab55e35",
       "max": 1,
       "style": "IPY_MODEL_3d7e57cd954b4f028b7176c35992a09a",
       "value": 1
      }
     },
     "e3569e9ee9d54665b40143124a8d2ce4": {
      "model_module": "@jupyter-widgets/controls",
      "model_module_version": "2.0.0",
      "model_name": "HTMLModel",
      "state": {
       "layout": "IPY_MODEL_97e702a5eee9494090e06d4c999470c0",
       "style": "IPY_MODEL_34cee47adaf247af963861f019d71828",
       "value": " 1/1 [00:00&lt;00:00, 15.88it/s, v_num=293, train_loss_step=0.318, train_loss_epoch=0.318, valid_loss=240.0]"
      }
     },
     "e3e9ce229d8b4b76bb2224c993ac4e98": {
      "model_module": "@jupyter-widgets/base",
      "model_module_version": "2.0.0",
      "model_name": "LayoutModel",
      "state": {}
     },
     "e3f53d89e1e74742ad271156c4e9b6c7": {
      "model_module": "@jupyter-widgets/controls",
      "model_module_version": "2.0.0",
      "model_name": "HTMLStyleModel",
      "state": {
       "description_width": "",
       "font_size": null,
       "text_color": null
      }
     },
     "e449b42ba49543258e9c0663b19d4bcf": {
      "model_module": "@jupyter-widgets/controls",
      "model_module_version": "2.0.0",
      "model_name": "HTMLModel",
      "state": {
       "layout": "IPY_MODEL_7cb59a4a4648419a8859e48639c12cf2",
       "style": "IPY_MODEL_4500e009931e4d56a10cb10b353fc39c",
       "value": "Validation DataLoader 0: 100%"
      }
     },
     "e48c7f7588604c8ba7cd02f63015c8f2": {
      "model_module": "@jupyter-widgets/base",
      "model_module_version": "2.0.0",
      "model_name": "LayoutModel",
      "state": {
       "display": "inline-flex",
       "flex_flow": "row wrap",
       "width": "100%"
      }
     },
     "e48c98867fc247e0a17c383a9792f94b": {
      "model_module": "@jupyter-widgets/base",
      "model_module_version": "2.0.0",
      "model_name": "LayoutModel",
      "state": {
       "display": "inline-flex",
       "flex_flow": "row wrap",
       "visibility": "hidden",
       "width": "100%"
      }
     },
     "e4c0fcc73fed496e8dcbea0129b672db": {
      "model_module": "@jupyter-widgets/base",
      "model_module_version": "2.0.0",
      "model_name": "LayoutModel",
      "state": {}
     },
     "e520bad0e9704fc0ad19fb81f99ee864": {
      "model_module": "@jupyter-widgets/base",
      "model_module_version": "2.0.0",
      "model_name": "LayoutModel",
      "state": {}
     },
     "e5251f9f680a4e43af5ab1fafe98fdeb": {
      "model_module": "@jupyter-widgets/base",
      "model_module_version": "2.0.0",
      "model_name": "LayoutModel",
      "state": {}
     },
     "e525d03a52b142329dba47f3d12e01fa": {
      "model_module": "@jupyter-widgets/base",
      "model_module_version": "2.0.0",
      "model_name": "LayoutModel",
      "state": {}
     },
     "e52bd926cf1e4f81b7ae890883d26822": {
      "model_module": "@jupyter-widgets/controls",
      "model_module_version": "2.0.0",
      "model_name": "HTMLModel",
      "state": {
       "layout": "IPY_MODEL_1b03c756ea2c4bb3a09011d2b61cb816",
       "style": "IPY_MODEL_15566ae4096d4e4899e338948d403ad4",
       "value": "Best trial: 426. Best value: 0.148465: 100%"
      }
     },
     "e5471fb623764bc8b0f8b47d420f464d": {
      "model_module": "@jupyter-widgets/controls",
      "model_module_version": "2.0.0",
      "model_name": "FloatProgressModel",
      "state": {
       "bar_style": "success",
       "layout": "IPY_MODEL_a3c45f4a1e1a48fc9d5994899e051b27",
       "max": 1,
       "style": "IPY_MODEL_2aa10c8b55394af4973c717c6e8ae531",
       "value": 1
      }
     },
     "e581793d1b9649db97ddf2c07fb7a2a7": {
      "model_module": "@jupyter-widgets/controls",
      "model_module_version": "2.0.0",
      "model_name": "ProgressStyleModel",
      "state": {
       "description_width": ""
      }
     },
     "e5a01a0a81ad4e9f95fd6e209806d72b": {
      "model_module": "@jupyter-widgets/base",
      "model_module_version": "2.0.0",
      "model_name": "LayoutModel",
      "state": {}
     },
     "e5c3da9eef6f489abcd706d41b734cdc": {
      "model_module": "@jupyter-widgets/base",
      "model_module_version": "2.0.0",
      "model_name": "LayoutModel",
      "state": {}
     },
     "e5e2b9a5009f47d9b797978f9b1e5c7b": {
      "model_module": "@jupyter-widgets/controls",
      "model_module_version": "2.0.0",
      "model_name": "ProgressStyleModel",
      "state": {
       "description_width": ""
      }
     },
     "e62be33f782d429db1022515e7a5cf9a": {
      "model_module": "@jupyter-widgets/controls",
      "model_module_version": "2.0.0",
      "model_name": "HBoxModel",
      "state": {
       "children": [
        "IPY_MODEL_f07d62f25e584cffb1a9ad5eac41ef02",
        "IPY_MODEL_1196a0b9cbc642b9b56759344e28f1aa",
        "IPY_MODEL_c86419ede7624817ba3f450f7a3e2097"
       ],
       "layout": "IPY_MODEL_e09ca4f8fe924352a2d0d112da54a581"
      }
     },
     "e669fabf59ff4cb1a32790aa213e46c0": {
      "model_module": "@jupyter-widgets/controls",
      "model_module_version": "2.0.0",
      "model_name": "FloatProgressModel",
      "state": {
       "bar_style": "success",
       "layout": "IPY_MODEL_53fd63d101174720b7168fc4b09d1f81",
       "max": 1,
       "style": "IPY_MODEL_33f5a6d2b95e44a3ba76644b3e561f6d",
       "value": 1
      }
     },
     "e6903b637d9047b7a55a42eadc804bdb": {
      "model_module": "@jupyter-widgets/base",
      "model_module_version": "2.0.0",
      "model_name": "LayoutModel",
      "state": {}
     },
     "e78c44a28ff5429ea32896834e7ae0e9": {
      "model_module": "@jupyter-widgets/base",
      "model_module_version": "2.0.0",
      "model_name": "LayoutModel",
      "state": {}
     },
     "e7965331281d4052ad41005942d05e55": {
      "model_module": "@jupyter-widgets/controls",
      "model_module_version": "2.0.0",
      "model_name": "FloatProgressModel",
      "state": {
       "layout": "IPY_MODEL_9e307731b855489ea879ae684567a114",
       "max": 1,
       "style": "IPY_MODEL_803fccd858be44fcb9b0bc31ea50c8b4",
       "value": 1
      }
     },
     "e7a59a519ca84865889a025002f70f62": {
      "model_module": "@jupyter-widgets/controls",
      "model_module_version": "2.0.0",
      "model_name": "ProgressStyleModel",
      "state": {
       "description_width": ""
      }
     },
     "e7e026a0971744c89dee862df3c65492": {
      "model_module": "@jupyter-widgets/controls",
      "model_module_version": "2.0.0",
      "model_name": "HTMLModel",
      "state": {
       "layout": "IPY_MODEL_eac2a7ade89a46a2ae6ac2657532b2e3",
       "style": "IPY_MODEL_eca6d4a14fcc45039bcefb8bd1b47988",
       "value": "Best trial: 19. Best value: 0.192454: 100%"
      }
     },
     "e7e9e53afb334600b26a6de5c117dce3": {
      "model_module": "@jupyter-widgets/base",
      "model_module_version": "2.0.0",
      "model_name": "LayoutModel",
      "state": {}
     },
     "e88219cac2e6494696be6fe60a04d335": {
      "model_module": "@jupyter-widgets/base",
      "model_module_version": "2.0.0",
      "model_name": "LayoutModel",
      "state": {}
     },
     "e887e57f52534059b7e58931c40c8311": {
      "model_module": "@jupyter-widgets/controls",
      "model_module_version": "2.0.0",
      "model_name": "HTMLModel",
      "state": {
       "layout": "IPY_MODEL_20a493f11c114562b0e88676d86299ea",
       "style": "IPY_MODEL_39beee475ed94f8b829fe357c0783b5f",
       "value": "Validation DataLoader 0: 100%"
      }
     },
     "e888963fb74c4a30bf278f7169a04711": {
      "model_module": "@jupyter-widgets/base",
      "model_module_version": "2.0.0",
      "model_name": "LayoutModel",
      "state": {}
     },
     "e88ebb117f9d4a09a5d86f94cf166924": {
      "model_module": "@jupyter-widgets/controls",
      "model_module_version": "2.0.0",
      "model_name": "FloatProgressModel",
      "state": {
       "bar_style": "success",
       "layout": "IPY_MODEL_1fd06737a7c3469f9f437de101a0bb19",
       "max": 1,
       "style": "IPY_MODEL_5e786b30d1ff4c65b9f3fb7cfa277ad2",
       "value": 1
      }
     },
     "e911d19d6f4f4f7e9c502b16ae83c9a4": {
      "model_module": "@jupyter-widgets/controls",
      "model_module_version": "2.0.0",
      "model_name": "HTMLModel",
      "state": {
       "layout": "IPY_MODEL_a237ef3dfa5b470ba0b3ef0895dd63fb",
       "style": "IPY_MODEL_bcee7a9f083e4c6d951ecca27248c125",
       "value": "Epoch 99: 100%"
      }
     },
     "e94ffe2631dd412bb0ba2b8b10df8633": {
      "model_module": "@jupyter-widgets/base",
      "model_module_version": "2.0.0",
      "model_name": "LayoutModel",
      "state": {}
     },
     "e99a55a4812849a1acb63cf7a8c6bd5d": {
      "model_module": "@jupyter-widgets/controls",
      "model_module_version": "2.0.0",
      "model_name": "HTMLModel",
      "state": {
       "layout": "IPY_MODEL_99c7f8b939af43ec8df943a5b07473a6",
       "style": "IPY_MODEL_99ad4e1eb62c4d49b7907be9dc2d29a9",
       "value": " 1/1 [00:00&lt;00:00, 1002.22it/s]"
      }
     },
     "e9ab6d6c75d8466e93f545a0151104dd": {
      "model_module": "@jupyter-widgets/controls",
      "model_module_version": "2.0.0",
      "model_name": "HTMLModel",
      "state": {
       "layout": "IPY_MODEL_e78c44a28ff5429ea32896834e7ae0e9",
       "style": "IPY_MODEL_106cd5fc581e483d80e05a1c6b21323b",
       "value": "Sanity Checking DataLoader 0: 100%"
      }
     },
     "e9bce989158e4eec913d756327fd82e8": {
      "model_module": "@jupyter-widgets/controls",
      "model_module_version": "2.0.0",
      "model_name": "ProgressStyleModel",
      "state": {
       "description_width": ""
      }
     },
     "e9feb37165f245548432e6a4db25253a": {
      "model_module": "@jupyter-widgets/controls",
      "model_module_version": "2.0.0",
      "model_name": "HTMLModel",
      "state": {
       "layout": "IPY_MODEL_482fe342ccc04869b1d94a57ac2e7195",
       "style": "IPY_MODEL_8aedafabf5ed434e80c0e398c0996d2a",
       "value": "Validation DataLoader 0: 100%"
      }
     },
     "eaa0c15a8a97412eb7b6c4d6a3578dc7": {
      "model_module": "@jupyter-widgets/controls",
      "model_module_version": "2.0.0",
      "model_name": "HTMLStyleModel",
      "state": {
       "description_width": "",
       "font_size": null,
       "text_color": null
      }
     },
     "eac2a7ade89a46a2ae6ac2657532b2e3": {
      "model_module": "@jupyter-widgets/base",
      "model_module_version": "2.0.0",
      "model_name": "LayoutModel",
      "state": {}
     },
     "eac6a9e38de047d29e4fffc0a5b66f49": {
      "model_module": "@jupyter-widgets/controls",
      "model_module_version": "2.0.0",
      "model_name": "HTMLStyleModel",
      "state": {
       "description_width": "",
       "font_size": null,
       "text_color": null
      }
     },
     "eacaebaf473641f1b0dcd71a5c9f5b51": {
      "model_module": "@jupyter-widgets/controls",
      "model_module_version": "2.0.0",
      "model_name": "HTMLStyleModel",
      "state": {
       "description_width": "",
       "font_size": null,
       "text_color": null
      }
     },
     "ead834609ece4fb29b7549037c95724c": {
      "model_module": "@jupyter-widgets/controls",
      "model_module_version": "2.0.0",
      "model_name": "ProgressStyleModel",
      "state": {
       "description_width": ""
      }
     },
     "eaef78a7da744c91ba524154da6e4c4a": {
      "model_module": "@jupyter-widgets/controls",
      "model_module_version": "2.0.0",
      "model_name": "HTMLStyleModel",
      "state": {
       "description_width": "",
       "font_size": null,
       "text_color": null
      }
     },
     "eaf670babd784f3ab790077f36d7ce25": {
      "model_module": "@jupyter-widgets/controls",
      "model_module_version": "2.0.0",
      "model_name": "HTMLStyleModel",
      "state": {
       "description_width": "",
       "font_size": null,
       "text_color": null
      }
     },
     "eb0469a46e934179bda3a3f16ebf6f1b": {
      "model_module": "@jupyter-widgets/controls",
      "model_module_version": "2.0.0",
      "model_name": "FloatProgressModel",
      "state": {
       "layout": "IPY_MODEL_2916984ebd494289aa6b41c411f58b2b",
       "max": 1,
       "style": "IPY_MODEL_85d1a531f0244c7194aec2d0f43ca773",
       "value": 1
      }
     },
     "eb5132934a314e44bfe8f9f09778e819": {
      "model_module": "@jupyter-widgets/base",
      "model_module_version": "2.0.0",
      "model_name": "LayoutModel",
      "state": {}
     },
     "eb55a0a01f184d2b85fdd0c370405b2e": {
      "model_module": "@jupyter-widgets/controls",
      "model_module_version": "2.0.0",
      "model_name": "ProgressStyleModel",
      "state": {
       "description_width": ""
      }
     },
     "eb5f9194ef85418588baf970e4aa10f9": {
      "model_module": "@jupyter-widgets/controls",
      "model_module_version": "2.0.0",
      "model_name": "ProgressStyleModel",
      "state": {
       "description_width": ""
      }
     },
     "ebb4a0981fd149d0858cb8ba84e1a1ed": {
      "model_module": "@jupyter-widgets/base",
      "model_module_version": "2.0.0",
      "model_name": "LayoutModel",
      "state": {
       "display": "inline-flex",
       "flex_flow": "row wrap",
       "visibility": "hidden",
       "width": "100%"
      }
     },
     "ebc54285206c43c986d52411364fa5d1": {
      "model_module": "@jupyter-widgets/controls",
      "model_module_version": "2.0.0",
      "model_name": "HTMLModel",
      "state": {
       "layout": "IPY_MODEL_e25873ffbd1746f9af6ab40cff35b5c8",
       "style": "IPY_MODEL_bf05f61a916f4f1c816b83a956af59ee",
       "value": "Validation DataLoader 0: 100%"
      }
     },
     "ec23fd6b79494afca9eacff26afaf32c": {
      "model_module": "@jupyter-widgets/controls",
      "model_module_version": "2.0.0",
      "model_name": "HTMLStyleModel",
      "state": {
       "description_width": "",
       "font_size": null,
       "text_color": null
      }
     },
     "ec5f164cbb9343e5ad650b12fbf90687": {
      "model_module": "@jupyter-widgets/controls",
      "model_module_version": "2.0.0",
      "model_name": "HBoxModel",
      "state": {
       "children": [
        "IPY_MODEL_0a893799bdca42f5a69c59feb32e0686",
        "IPY_MODEL_37d1a8a1adcf453180a64fac29283313",
        "IPY_MODEL_803b7e3c543646e5ab379e563d34d5cd"
       ],
       "layout": "IPY_MODEL_9e293a6a60fc432a8402828b6666eba9"
      }
     },
     "ec73754ecb464728acabcfe00aa1ba8a": {
      "model_module": "@jupyter-widgets/base",
      "model_module_version": "2.0.0",
      "model_name": "LayoutModel",
      "state": {
       "display": "inline-flex",
       "flex_flow": "row wrap",
       "visibility": "hidden",
       "width": "100%"
      }
     },
     "ec866d6b1997474092724df4562fb82c": {
      "model_module": "@jupyter-widgets/base",
      "model_module_version": "2.0.0",
      "model_name": "LayoutModel",
      "state": {}
     },
     "eca6d4a14fcc45039bcefb8bd1b47988": {
      "model_module": "@jupyter-widgets/controls",
      "model_module_version": "2.0.0",
      "model_name": "HTMLStyleModel",
      "state": {
       "description_width": "",
       "font_size": null,
       "text_color": null
      }
     },
     "ecd0608798614aba835c8724025577b5": {
      "model_module": "@jupyter-widgets/controls",
      "model_module_version": "2.0.0",
      "model_name": "ProgressStyleModel",
      "state": {
       "description_width": ""
      }
     },
     "ed51381a627f4990afb8bbf454a8928a": {
      "model_module": "@jupyter-widgets/controls",
      "model_module_version": "2.0.0",
      "model_name": "HTMLStyleModel",
      "state": {
       "description_width": "",
       "font_size": null,
       "text_color": null
      }
     },
     "edaeffd9e1bd4210975760e637a415cf": {
      "model_module": "@jupyter-widgets/controls",
      "model_module_version": "2.0.0",
      "model_name": "HTMLStyleModel",
      "state": {
       "description_width": "",
       "font_size": null,
       "text_color": null
      }
     },
     "edc765e9726942709a3eb1a983d003e5": {
      "model_module": "@jupyter-widgets/base",
      "model_module_version": "2.0.0",
      "model_name": "LayoutModel",
      "state": {
       "display": "inline-flex",
       "flex_flow": "row wrap",
       "width": "100%"
      }
     },
     "edcfc16e26b5444abdd63ff3cd81e790": {
      "model_module": "@jupyter-widgets/base",
      "model_module_version": "2.0.0",
      "model_name": "LayoutModel",
      "state": {
       "flex": "2"
      }
     },
     "ee5126d982f74666832165d5a2b27f79": {
      "model_module": "@jupyter-widgets/base",
      "model_module_version": "2.0.0",
      "model_name": "LayoutModel",
      "state": {
       "display": "inline-flex",
       "flex_flow": "row wrap",
       "visibility": "hidden",
       "width": "100%"
      }
     },
     "ee88f50012dd4504861b140fec1bd248": {
      "model_module": "@jupyter-widgets/controls",
      "model_module_version": "2.0.0",
      "model_name": "HTMLStyleModel",
      "state": {
       "description_width": "",
       "font_size": null,
       "text_color": null
      }
     },
     "eed6957f7b404ae992cbeb77f8f3fe3f": {
      "model_module": "@jupyter-widgets/base",
      "model_module_version": "2.0.0",
      "model_name": "LayoutModel",
      "state": {
       "display": "inline-flex",
       "flex_flow": "row wrap",
       "visibility": "hidden",
       "width": "100%"
      }
     },
     "eeee7bc71cad4dff9b5f799274e07910": {
      "model_module": "@jupyter-widgets/controls",
      "model_module_version": "2.0.0",
      "model_name": "HTMLModel",
      "state": {
       "layout": "IPY_MODEL_5a1d3ee78a6743ea91021aeef8f5187b",
       "style": "IPY_MODEL_4f6036eef20546bd8809eb2e95dbf650",
       "value": " 1/1 [00:00&lt;00:00, 31.87it/s]"
      }
     },
     "eefa8dbcd28940b0aeccdb583f513bec": {
      "model_module": "@jupyter-widgets/base",
      "model_module_version": "2.0.0",
      "model_name": "LayoutModel",
      "state": {}
     },
     "ef2dee376d034d38a00b8579f70649e6": {
      "model_module": "@jupyter-widgets/controls",
      "model_module_version": "2.0.0",
      "model_name": "HBoxModel",
      "state": {
       "children": [
        "IPY_MODEL_c3b7dddbc1534ad79cce02e7a119bac8",
        "IPY_MODEL_3df8c9ac7d4a4326b52a76adee1f7976",
        "IPY_MODEL_28eea74388b1485088b64618e2ebfb67"
       ],
       "layout": "IPY_MODEL_3492f1730db74c43a2aefbeb7209bf8f"
      }
     },
     "ef7896f6ac074f31a30c6b9a64064071": {
      "model_module": "@jupyter-widgets/base",
      "model_module_version": "2.0.0",
      "model_name": "LayoutModel",
      "state": {
       "flex": "2"
      }
     },
     "efbad02e90424d9db040da9603a5af16": {
      "model_module": "@jupyter-widgets/base",
      "model_module_version": "2.0.0",
      "model_name": "LayoutModel",
      "state": {}
     },
     "f05e628bb128411194c6cc388e5b1b19": {
      "model_module": "@jupyter-widgets/base",
      "model_module_version": "2.0.0",
      "model_name": "LayoutModel",
      "state": {}
     },
     "f0637496b1d34e0dbe680302122f8a2c": {
      "model_module": "@jupyter-widgets/controls",
      "model_module_version": "2.0.0",
      "model_name": "ProgressStyleModel",
      "state": {
       "description_width": ""
      }
     },
     "f07d62f25e584cffb1a9ad5eac41ef02": {
      "model_module": "@jupyter-widgets/controls",
      "model_module_version": "2.0.0",
      "model_name": "HTMLModel",
      "state": {
       "layout": "IPY_MODEL_fe80f0a162934d2485f60439770ad689",
       "style": "IPY_MODEL_a47cac169da2424bbdd481ffb173e064",
       "value": "Epoch 99: 100%"
      }
     },
     "f0819a26efac4b34849c3deee899ed14": {
      "model_module": "@jupyter-widgets/base",
      "model_module_version": "2.0.0",
      "model_name": "LayoutModel",
      "state": {}
     },
     "f090a6ab237b4c4d9c053562661c322a": {
      "model_module": "@jupyter-widgets/base",
      "model_module_version": "2.0.0",
      "model_name": "LayoutModel",
      "state": {
       "display": "inline-flex",
       "flex_flow": "row wrap",
       "visibility": "hidden",
       "width": "100%"
      }
     },
     "f09f279057f3442bb8a7cb98e1862bbf": {
      "model_module": "@jupyter-widgets/base",
      "model_module_version": "2.0.0",
      "model_name": "LayoutModel",
      "state": {}
     },
     "f0a473291e834a8d994f0770bf490952": {
      "model_module": "@jupyter-widgets/controls",
      "model_module_version": "2.0.0",
      "model_name": "HTMLStyleModel",
      "state": {
       "description_width": "",
       "font_size": null,
       "text_color": null
      }
     },
     "f0fe08f09959497a899a46edf73b66bc": {
      "model_module": "@jupyter-widgets/controls",
      "model_module_version": "2.0.0",
      "model_name": "HBoxModel",
      "state": {
       "children": [
        "IPY_MODEL_e911d19d6f4f4f7e9c502b16ae83c9a4",
        "IPY_MODEL_f3531437a5cb443a8ac22c805b8512af",
        "IPY_MODEL_e30de9d0dfdd499882a27365454d4c94"
       ],
       "layout": "IPY_MODEL_49f6ade3a5b74b06ac7c52a613068874"
      }
     },
     "f179980b062a455fb54bb2180c6a5e1c": {
      "model_module": "@jupyter-widgets/controls",
      "model_module_version": "2.0.0",
      "model_name": "HTMLModel",
      "state": {
       "layout": "IPY_MODEL_c66210d423744c5fb0a7b59e02669677",
       "style": "IPY_MODEL_0bad845fca124d53a03bff71f95dd8d6",
       "value": "Sanity Checking DataLoader 0: 100%"
      }
     },
     "f1abc1c3c1774f179f3ade60e307518c": {
      "model_module": "@jupyter-widgets/controls",
      "model_module_version": "2.0.0",
      "model_name": "HTMLModel",
      "state": {
       "layout": "IPY_MODEL_a3c85160a4a240ec9da7debdacf9f9c4",
       "style": "IPY_MODEL_dcd06d95f11f4fc99e73419f526d686d",
       "value": "Validation DataLoader 0: 100%"
      }
     },
     "f1cc993a2b9a44c387e9f79b230b20b3": {
      "model_module": "@jupyter-widgets/base",
      "model_module_version": "2.0.0",
      "model_name": "LayoutModel",
      "state": {
       "display": "inline-flex",
       "flex_flow": "row wrap",
       "width": "100%"
      }
     },
     "f1f6b46dddb74decba3d134c59c3067d": {
      "model_module": "@jupyter-widgets/base",
      "model_module_version": "2.0.0",
      "model_name": "LayoutModel",
      "state": {}
     },
     "f2159fe82b7741aa9a765e9d6391f118": {
      "model_module": "@jupyter-widgets/controls",
      "model_module_version": "2.0.0",
      "model_name": "FloatProgressModel",
      "state": {
       "layout": "IPY_MODEL_fb29bbe06390477780fa56b556bd2303",
       "max": 1,
       "style": "IPY_MODEL_10dec19a12f2447f882eeb81a41dc1d0",
       "value": 1
      }
     },
     "f2864451164e47918c434f3340023b16": {
      "model_module": "@jupyter-widgets/base",
      "model_module_version": "2.0.0",
      "model_name": "LayoutModel",
      "state": {}
     },
     "f2e8d66e282c45b48579df635d6a5184": {
      "model_module": "@jupyter-widgets/controls",
      "model_module_version": "2.0.0",
      "model_name": "HTMLModel",
      "state": {
       "layout": "IPY_MODEL_8cb47963693a4406b902a5c9fd4024b7",
       "style": "IPY_MODEL_cb1abb00510f4d498da8481e943e9135",
       "value": " 1/1 [00:00&lt;00:00, 33.02it/s]"
      }
     },
     "f3531437a5cb443a8ac22c805b8512af": {
      "model_module": "@jupyter-widgets/controls",
      "model_module_version": "2.0.0",
      "model_name": "FloatProgressModel",
      "state": {
       "bar_style": "success",
       "layout": "IPY_MODEL_7ea58810c1364f73b82a093b61ed14bf",
       "max": 1,
       "style": "IPY_MODEL_739d8c4ffea14553b4e60305b60e4be0",
       "value": 1
      }
     },
     "f3a6322de00a4c4792165e5458be46c1": {
      "model_module": "@jupyter-widgets/base",
      "model_module_version": "2.0.0",
      "model_name": "LayoutModel",
      "state": {}
     },
     "f3ac48af70da4daba08134f1c3f4cba0": {
      "model_module": "@jupyter-widgets/controls",
      "model_module_version": "2.0.0",
      "model_name": "ProgressStyleModel",
      "state": {
       "description_width": ""
      }
     },
     "f3d0eb17e3c44e698d56134e0beff146": {
      "model_module": "@jupyter-widgets/controls",
      "model_module_version": "2.0.0",
      "model_name": "FloatProgressModel",
      "state": {
       "layout": "IPY_MODEL_b687ebaf389d4ff08ad1df05d5247969",
       "max": 1,
       "style": "IPY_MODEL_c4a6a8a5c82c4326be2e58f15ae4337a",
       "value": 1
      }
     },
     "f3ea454af9f74c99a5de3d0e2466fad1": {
      "model_module": "@jupyter-widgets/controls",
      "model_module_version": "2.0.0",
      "model_name": "FloatProgressModel",
      "state": {
       "bar_style": "success",
       "layout": "IPY_MODEL_563d1055888c4199a8b103434ed7de63",
       "max": 1,
       "style": "IPY_MODEL_618e5197c44d45818ed78aa02712796b",
       "value": 1
      }
     },
     "f402f6c4832a46bdab64bac368c7d4e6": {
      "model_module": "@jupyter-widgets/base",
      "model_module_version": "2.0.0",
      "model_name": "LayoutModel",
      "state": {}
     },
     "f407adefae8c475988234f31a2d10c4a": {
      "model_module": "@jupyter-widgets/base",
      "model_module_version": "2.0.0",
      "model_name": "LayoutModel",
      "state": {
       "flex": "2"
      }
     },
     "f48eb13355f341c29d3946cc45f49890": {
      "model_module": "@jupyter-widgets/controls",
      "model_module_version": "2.0.0",
      "model_name": "HTMLStyleModel",
      "state": {
       "description_width": "",
       "font_size": null,
       "text_color": null
      }
     },
     "f4c75a67fbe947b882cd8b2225eb3b23": {
      "model_module": "@jupyter-widgets/controls",
      "model_module_version": "2.0.0",
      "model_name": "ProgressStyleModel",
      "state": {
       "description_width": ""
      }
     },
     "f4cc2155cd254a4aaaebbf631181e7c5": {
      "model_module": "@jupyter-widgets/controls",
      "model_module_version": "2.0.0",
      "model_name": "HTMLModel",
      "state": {
       "layout": "IPY_MODEL_f09f279057f3442bb8a7cb98e1862bbf",
       "style": "IPY_MODEL_0ce8a1bbae144bebb9f420cf14f0c3a6",
       "value": " 1/1 [00:00&lt;00:00, 999.36it/s]"
      }
     },
     "f4ce297db5e1469cb00a17f20e3778ce": {
      "model_module": "@jupyter-widgets/controls",
      "model_module_version": "2.0.0",
      "model_name": "ProgressStyleModel",
      "state": {
       "description_width": ""
      }
     },
     "f4e2afc4543748d29bfb939229707221": {
      "model_module": "@jupyter-widgets/controls",
      "model_module_version": "2.0.0",
      "model_name": "FloatProgressModel",
      "state": {
       "layout": "IPY_MODEL_9631a55c1fcf47f783fd370ad50b85d6",
       "max": 1,
       "style": "IPY_MODEL_77de866470044e28b5d2a929f4f76a5d",
       "value": 1
      }
     },
     "f508af51800b4cc988b7f81c0ab3b983": {
      "model_module": "@jupyter-widgets/controls",
      "model_module_version": "2.0.0",
      "model_name": "FloatProgressModel",
      "state": {
       "layout": "IPY_MODEL_a51ffbb9b80147e28b9ceb46e49b64ee",
       "max": 1,
       "style": "IPY_MODEL_cf020a0ce39a488bb57d5cc5893130bc",
       "value": 1
      }
     },
     "f55d062f5d11427fbfb712edf0014867": {
      "model_module": "@jupyter-widgets/base",
      "model_module_version": "2.0.0",
      "model_name": "LayoutModel",
      "state": {
       "display": "inline-flex",
       "flex_flow": "row wrap",
       "width": "100%"
      }
     },
     "f56d2577ef8b4ac1a7a7d4a9a4e3e35b": {
      "model_module": "@jupyter-widgets/base",
      "model_module_version": "2.0.0",
      "model_name": "LayoutModel",
      "state": {}
     },
     "f58f0eb2d2dd4f82a1da9607e7102b26": {
      "model_module": "@jupyter-widgets/controls",
      "model_module_version": "2.0.0",
      "model_name": "HTMLStyleModel",
      "state": {
       "description_width": "",
       "font_size": null,
       "text_color": null
      }
     },
     "f5ac18f6ad574ebabbed7ef1708fbe9d": {
      "model_module": "@jupyter-widgets/controls",
      "model_module_version": "2.0.0",
      "model_name": "HTMLStyleModel",
      "state": {
       "description_width": "",
       "font_size": null,
       "text_color": null
      }
     },
     "f5b79d0c01b34a9da7bbdd68c8a73601": {
      "model_module": "@jupyter-widgets/controls",
      "model_module_version": "2.0.0",
      "model_name": "HTMLStyleModel",
      "state": {
       "description_width": "",
       "font_size": null,
       "text_color": null
      }
     },
     "f5e99c165d694b25b3f1454ac6544629": {
      "model_module": "@jupyter-widgets/base",
      "model_module_version": "2.0.0",
      "model_name": "LayoutModel",
      "state": {
       "display": "inline-flex",
       "flex_flow": "row wrap",
       "width": "100%"
      }
     },
     "f5ef5049da064e5c86318cdbc52d6bdc": {
      "model_module": "@jupyter-widgets/controls",
      "model_module_version": "2.0.0",
      "model_name": "FloatProgressModel",
      "state": {
       "bar_style": "success",
       "layout": "IPY_MODEL_44205801ea714155aaf29873253f9229",
       "max": 1,
       "style": "IPY_MODEL_05aaaedba44c41e1b299500694b32955",
       "value": 1
      }
     },
     "f6067b68fd1b4d21a9897f3d0569249b": {
      "model_module": "@jupyter-widgets/controls",
      "model_module_version": "2.0.0",
      "model_name": "HTMLModel",
      "state": {
       "layout": "IPY_MODEL_279b6f01b01a405cbaca584404563c89",
       "style": "IPY_MODEL_c28a2e5c799549f09227c0dc7433e381",
       "value": "Validation DataLoader 0: 100%"
      }
     },
     "f624e4bb49bc4e24a623c6e778f0fd45": {
      "model_module": "@jupyter-widgets/controls",
      "model_module_version": "2.0.0",
      "model_name": "HTMLStyleModel",
      "state": {
       "description_width": "",
       "font_size": null,
       "text_color": null
      }
     },
     "f625e42e987945fcb6338dbe5475f388": {
      "model_module": "@jupyter-widgets/base",
      "model_module_version": "2.0.0",
      "model_name": "LayoutModel",
      "state": {}
     },
     "f6ae239cf27c4128aa63dd78236e15cb": {
      "model_module": "@jupyter-widgets/controls",
      "model_module_version": "2.0.0",
      "model_name": "FloatProgressModel",
      "state": {
       "layout": "IPY_MODEL_25c8de20748c46918ff61c93a4a1786d",
       "max": 1,
       "style": "IPY_MODEL_cd967552ed194d4aa27ae3fda39af7f2",
       "value": 1
      }
     },
     "f7b1151770ee41298b52b297fee5794b": {
      "model_module": "@jupyter-widgets/controls",
      "model_module_version": "2.0.0",
      "model_name": "HTMLModel",
      "state": {
       "layout": "IPY_MODEL_c0d43dd08b86444d9a925ad09247223d",
       "style": "IPY_MODEL_cbe9bc99c5bc433da05e583b43eaafa6",
       "value": "Sanity Checking DataLoader 0: 100%"
      }
     },
     "f7cc6b7de43647c29b128d38a1aac029": {
      "model_module": "@jupyter-widgets/base",
      "model_module_version": "2.0.0",
      "model_name": "LayoutModel",
      "state": {
       "flex": "2"
      }
     },
     "f7f4b3522f7f4c5faa629da49e7c38ba": {
      "model_module": "@jupyter-widgets/controls",
      "model_module_version": "2.0.0",
      "model_name": "HTMLStyleModel",
      "state": {
       "description_width": "",
       "font_size": null,
       "text_color": null
      }
     },
     "f81fe92f810e46de90d728934d045e99": {
      "model_module": "@jupyter-widgets/controls",
      "model_module_version": "2.0.0",
      "model_name": "HTMLStyleModel",
      "state": {
       "description_width": "",
       "font_size": null,
       "text_color": null
      }
     },
     "f879d53c77474c4c8841a4347913872b": {
      "model_module": "@jupyter-widgets/base",
      "model_module_version": "2.0.0",
      "model_name": "LayoutModel",
      "state": {}
     },
     "f8808e596eea4a5ebcf21c0f38254680": {
      "model_module": "@jupyter-widgets/base",
      "model_module_version": "2.0.0",
      "model_name": "LayoutModel",
      "state": {}
     },
     "f8d63b43c41b4e579ce6e7be77b19014": {
      "model_module": "@jupyter-widgets/controls",
      "model_module_version": "2.0.0",
      "model_name": "HTMLStyleModel",
      "state": {
       "description_width": "",
       "font_size": null,
       "text_color": null
      }
     },
     "f8f7d3ec77fe44059c062583cef10e6d": {
      "model_module": "@jupyter-widgets/controls",
      "model_module_version": "2.0.0",
      "model_name": "HTMLModel",
      "state": {
       "layout": "IPY_MODEL_8286f7c2d06e4fcbbde06014ca29b45c",
       "style": "IPY_MODEL_db70a7af62f745878ceb9135f0a8838b",
       "value": "Validation DataLoader 0: 100%"
      }
     },
     "f9743c9efb97493c9af25231f7f2025d": {
      "model_module": "@jupyter-widgets/controls",
      "model_module_version": "2.0.0",
      "model_name": "HTMLModel",
      "state": {
       "layout": "IPY_MODEL_2b98f99be6be41d5a79c512c5186ce17",
       "style": "IPY_MODEL_33e0486493df46c381a5e59cee6ae3e4",
       "value": " 100/100 [00:11&lt;00:00,  9.10it/s]"
      }
     },
     "f986be7390e24fac909320b4c7791597": {
      "model_module": "@jupyter-widgets/controls",
      "model_module_version": "2.0.0",
      "model_name": "FloatProgressModel",
      "state": {
       "layout": "IPY_MODEL_77ca849a5cf84819b3f3a5986333676d",
       "max": 1,
       "style": "IPY_MODEL_22db527db3be4f3190b523966062777a",
       "value": 1
      }
     },
     "f9cdea09cc024bd897b9758ff03d5438": {
      "model_module": "@jupyter-widgets/controls",
      "model_module_version": "2.0.0",
      "model_name": "HTMLModel",
      "state": {
       "layout": "IPY_MODEL_db2a1e304dbc4d0abf196349de6a3007",
       "style": "IPY_MODEL_39ae6371395546f59a75efbeef80d7fd",
       "value": " 1/1 [00:00&lt;00:00, 47.62it/s]"
      }
     },
     "f9d2d3b58a454d8a95526d2b8fabd131": {
      "model_module": "@jupyter-widgets/controls",
      "model_module_version": "2.0.0",
      "model_name": "FloatProgressModel",
      "state": {
       "layout": "IPY_MODEL_1252f9f320b849cf954283928748e00d",
       "max": 1,
       "style": "IPY_MODEL_3a9943adf01946209cee0562016b707f",
       "value": 1
      }
     },
     "f9f76f1b7f674400b936dc1de13eaf3f": {
      "model_module": "@jupyter-widgets/base",
      "model_module_version": "2.0.0",
      "model_name": "LayoutModel",
      "state": {}
     },
     "fa54a0c29b184cdb87a6f5049d96cad0": {
      "model_module": "@jupyter-widgets/controls",
      "model_module_version": "2.0.0",
      "model_name": "FloatProgressModel",
      "state": {
       "layout": "IPY_MODEL_bd17c06d25374d008c9734b95c1722f6",
       "max": 1,
       "style": "IPY_MODEL_e078a98f3bfd4b3da4551e72ee6d319a",
       "value": 1
      }
     },
     "fa5ae2d72e854eb39a80244159cf971a": {
      "model_module": "@jupyter-widgets/controls",
      "model_module_version": "2.0.0",
      "model_name": "HTMLStyleModel",
      "state": {
       "description_width": "",
       "font_size": null,
       "text_color": null
      }
     },
     "fa904794a06345c9b927feb974738ca7": {
      "model_module": "@jupyter-widgets/controls",
      "model_module_version": "2.0.0",
      "model_name": "FloatProgressModel",
      "state": {
       "layout": "IPY_MODEL_9384a4f4a8134c9c91e014268e93bed2",
       "max": 1,
       "style": "IPY_MODEL_7bb4601dd54e4c84b28b82cfe3618825",
       "value": 1
      }
     },
     "fa99b0007452461d9fe0bb829723d76b": {
      "model_module": "@jupyter-widgets/controls",
      "model_module_version": "2.0.0",
      "model_name": "FloatProgressModel",
      "state": {
       "layout": "IPY_MODEL_126bc52f1a824766b9f879609129a2a5",
       "max": 1,
       "style": "IPY_MODEL_be979bad512e416aac4a42ab812cc9b6",
       "value": 1
      }
     },
     "fa9acd352ba341138d71859a45593803": {
      "model_module": "@jupyter-widgets/controls",
      "model_module_version": "2.0.0",
      "model_name": "HTMLModel",
      "state": {
       "layout": "IPY_MODEL_d8a768a0acff446799216f47b882b8b5",
       "style": "IPY_MODEL_ee88f50012dd4504861b140fec1bd248",
       "value": " 1/1 [00:00&lt;00:00,  8.35it/s, v_num=304, train_loss_step=0.0235, train_loss_epoch=0.0235, valid_loss=407.0]"
      }
     },
     "faa6840e5eaa4e89881bfdb4a5acd4ea": {
      "model_module": "@jupyter-widgets/base",
      "model_module_version": "2.0.0",
      "model_name": "LayoutModel",
      "state": {}
     },
     "fb07938e029b4229a48bffea7211e51a": {
      "model_module": "@jupyter-widgets/base",
      "model_module_version": "2.0.0",
      "model_name": "LayoutModel",
      "state": {}
     },
     "fb1c012cc7b043df8b5cc6373e77dc18": {
      "model_module": "@jupyter-widgets/controls",
      "model_module_version": "2.0.0",
      "model_name": "HTMLModel",
      "state": {
       "layout": "IPY_MODEL_6a14e4b6dbf4491a8b5a1f3933baa13d",
       "style": "IPY_MODEL_32ac71e2b75b4d5f80b470366edf0c2d",
       "value": "Sanity Checking DataLoader 0: 100%"
      }
     },
     "fb29bbe06390477780fa56b556bd2303": {
      "model_module": "@jupyter-widgets/base",
      "model_module_version": "2.0.0",
      "model_name": "LayoutModel",
      "state": {
       "flex": "2"
      }
     },
     "fb689c102265488384ab5742eeadc424": {
      "model_module": "@jupyter-widgets/controls",
      "model_module_version": "2.0.0",
      "model_name": "HTMLModel",
      "state": {
       "layout": "IPY_MODEL_10e68718d5d54fd4bd03ec66a57962b5",
       "style": "IPY_MODEL_dee72b95b2d84ad1850e425e584fee00",
       "value": "Sanity Checking DataLoader 0: 100%"
      }
     },
     "fbb4bbb65f9044f98d8f5a6328a1fc50": {
      "model_module": "@jupyter-widgets/base",
      "model_module_version": "2.0.0",
      "model_name": "LayoutModel",
      "state": {}
     },
     "fbe4b9d5613d45ee9084d47c63bd169f": {
      "model_module": "@jupyter-widgets/controls",
      "model_module_version": "2.0.0",
      "model_name": "HTMLModel",
      "state": {
       "layout": "IPY_MODEL_8f6c216ea3ae4c47b4a7030896826d36",
       "style": "IPY_MODEL_56e44d8d22df480a802cb09d776e7202",
       "value": " 1/1 [00:00&lt;00:00, 58.81it/s]"
      }
     },
     "fbef1a27ee114f68beb3f329a8e606d2": {
      "model_module": "@jupyter-widgets/base",
      "model_module_version": "2.0.0",
      "model_name": "LayoutModel",
      "state": {
       "display": "inline-flex",
       "flex_flow": "row wrap",
       "visibility": "hidden",
       "width": "100%"
      }
     },
     "fc0afbc6c5d042f69fb1483f411f2349": {
      "model_module": "@jupyter-widgets/base",
      "model_module_version": "2.0.0",
      "model_name": "LayoutModel",
      "state": {
       "display": "inline-flex",
       "flex_flow": "row wrap",
       "width": "100%"
      }
     },
     "fc4b77f0a3854640bc47e615ec32b765": {
      "model_module": "@jupyter-widgets/controls",
      "model_module_version": "2.0.0",
      "model_name": "HTMLModel",
      "state": {
       "layout": "IPY_MODEL_5f1d39f2f9b2409e9fcb6b8f8c74920a",
       "style": "IPY_MODEL_2dc9ea45195641eb8975b912a3226ba4",
       "value": " 1/1 [00:00&lt;00:00, 111.07it/s]"
      }
     },
     "fc5c568a4e6345348fd5bede594ce9aa": {
      "model_module": "@jupyter-widgets/controls",
      "model_module_version": "2.0.0",
      "model_name": "HTMLStyleModel",
      "state": {
       "description_width": "",
       "font_size": null,
       "text_color": null
      }
     },
     "fcb3805eb2bb499e9f6ba71af45151dc": {
      "model_module": "@jupyter-widgets/controls",
      "model_module_version": "2.0.0",
      "model_name": "HTMLStyleModel",
      "state": {
       "description_width": "",
       "font_size": null,
       "text_color": null
      }
     },
     "fcc42351b250439fbf4e91a99fab4360": {
      "model_module": "@jupyter-widgets/base",
      "model_module_version": "2.0.0",
      "model_name": "LayoutModel",
      "state": {
       "flex": "2"
      }
     },
     "fd1340ecd0224f5c9aa2785d6ea177d3": {
      "model_module": "@jupyter-widgets/controls",
      "model_module_version": "2.0.0",
      "model_name": "ProgressStyleModel",
      "state": {
       "description_width": ""
      }
     },
     "fd4c208d1f6c49e6b087f4bb08924729": {
      "model_module": "@jupyter-widgets/controls",
      "model_module_version": "2.0.0",
      "model_name": "FloatProgressModel",
      "state": {
       "layout": "IPY_MODEL_4f7377ac0015487290bd9efdb946cf2a",
       "max": 1,
       "style": "IPY_MODEL_2e730cb960e94fa0ab9b65e042debd44",
       "value": 1
      }
     },
     "fd6aa1d19deb4a11b011974effab27a6": {
      "model_module": "@jupyter-widgets/controls",
      "model_module_version": "2.0.0",
      "model_name": "HTMLStyleModel",
      "state": {
       "description_width": "",
       "font_size": null,
       "text_color": null
      }
     },
     "fdb77d193a5b4dfbb95c451ea45c8804": {
      "model_module": "@jupyter-widgets/controls",
      "model_module_version": "2.0.0",
      "model_name": "HTMLStyleModel",
      "state": {
       "description_width": "",
       "font_size": null,
       "text_color": null
      }
     },
     "fe0ca728b4a44769bb30dcb4ffb32dfe": {
      "model_module": "@jupyter-widgets/controls",
      "model_module_version": "2.0.0",
      "model_name": "FloatProgressModel",
      "state": {
       "layout": "IPY_MODEL_101e259b714b49a99039ebafd1175955",
       "max": 1,
       "style": "IPY_MODEL_6bb6a225e2a046fb8c359f538c2001f1",
       "value": 1
      }
     },
     "fe28eda3e5bc4e10abdea51cacf40c90": {
      "model_module": "@jupyter-widgets/controls",
      "model_module_version": "2.0.0",
      "model_name": "FloatProgressModel",
      "state": {
       "layout": "IPY_MODEL_5228c31e7aa243659a15a1c9944cc57a",
       "max": 1,
       "style": "IPY_MODEL_b5352d3d398640ba8e905bed5eb95fd9",
       "value": 1
      }
     },
     "fe4a9ff166934d8d92e2928390b62483": {
      "model_module": "@jupyter-widgets/base",
      "model_module_version": "2.0.0",
      "model_name": "LayoutModel",
      "state": {
       "flex": "2"
      }
     },
     "fe620623dfbb4e5c96bd472effe10a53": {
      "model_module": "@jupyter-widgets/controls",
      "model_module_version": "2.0.0",
      "model_name": "FloatProgressModel",
      "state": {
       "bar_style": "success",
       "layout": "IPY_MODEL_93a559ce26d2435189d156cf671375dc",
       "max": 1,
       "style": "IPY_MODEL_59c3e6c34250476a8c475b2c6991db15",
       "value": 1
      }
     },
     "fe635e91d9c04b37a77b6a76682074ee": {
      "model_module": "@jupyter-widgets/base",
      "model_module_version": "2.0.0",
      "model_name": "LayoutModel",
      "state": {
       "flex": "2"
      }
     },
     "fe80f0a162934d2485f60439770ad689": {
      "model_module": "@jupyter-widgets/base",
      "model_module_version": "2.0.0",
      "model_name": "LayoutModel",
      "state": {}
     },
     "feaf8a4160324428b4316220fcaec2f0": {
      "model_module": "@jupyter-widgets/controls",
      "model_module_version": "2.0.0",
      "model_name": "ProgressStyleModel",
      "state": {
       "description_width": ""
      }
     },
     "fec021a334404222b6d9b05d1dd1746a": {
      "model_module": "@jupyter-widgets/controls",
      "model_module_version": "2.0.0",
      "model_name": "ProgressStyleModel",
      "state": {
       "description_width": ""
      }
     },
     "ff1cc64650884c8395f7a2d5bd788f04": {
      "model_module": "@jupyter-widgets/controls",
      "model_module_version": "2.0.0",
      "model_name": "HTMLStyleModel",
      "state": {
       "description_width": "",
       "font_size": null,
       "text_color": null
      }
     },
     "ff3990da88974086bad9d5cc27a397d7": {
      "model_module": "@jupyter-widgets/controls",
      "model_module_version": "2.0.0",
      "model_name": "HTMLStyleModel",
      "state": {
       "description_width": "",
       "font_size": null,
       "text_color": null
      }
     },
     "ff4a53e04c2f4983acd1e40c49487fbb": {
      "model_module": "@jupyter-widgets/base",
      "model_module_version": "2.0.0",
      "model_name": "LayoutModel",
      "state": {
       "display": "inline-flex",
       "flex_flow": "row wrap",
       "visibility": "hidden",
       "width": "100%"
      }
     },
     "ffd25d67a5a74c008938637c9b4a3c45": {
      "model_module": "@jupyter-widgets/base",
      "model_module_version": "2.0.0",
      "model_name": "LayoutModel",
      "state": {}
     },
     "ffee50aa0b7244b497a7ca90f3e905ce": {
      "model_module": "@jupyter-widgets/base",
      "model_module_version": "2.0.0",
      "model_name": "LayoutModel",
      "state": {}
     }
    },
    "version_major": 2,
    "version_minor": 0
   }
  }
 },
 "nbformat": 4,
 "nbformat_minor": 4
}
