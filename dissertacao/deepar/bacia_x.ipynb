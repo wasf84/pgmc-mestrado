{
 "cells": [
  {
   "cell_type": "code",
   "execution_count": 3,
   "metadata": {},
   "outputs": [
    {
     "ename": "ModuleNotFoundError",
     "evalue": "No module named 'mxnet'",
     "output_type": "error",
     "traceback": [
      "\u001b[1;31m---------------------------------------------------------------------------\u001b[0m",
      "\u001b[1;31mModuleNotFoundError\u001b[0m                       Traceback (most recent call last)",
      "\u001b[1;32mc:\\Users\\welson\\Documents\\git-repos\\pgmc-mestrado\\dissertacao\\deepar\\bacia_.ipynb Célula 1\u001b[0m line \u001b[0;36m2\n\u001b[0;32m      <a href='vscode-notebook-cell:/c%3A/Users/welson/Documents/git-repos/pgmc-mestrado/dissertacao/deepar/bacia_.ipynb#W1sZmlsZQ%3D%3D?line=0'>1</a>\u001b[0m \u001b[39mimport\u001b[39;00m \u001b[39mpandas\u001b[39;00m \u001b[39mas\u001b[39;00m \u001b[39mpd\u001b[39;00m\n\u001b[1;32m----> <a href='vscode-notebook-cell:/c%3A/Users/welson/Documents/git-repos/pgmc-mestrado/dissertacao/deepar/bacia_.ipynb#W1sZmlsZQ%3D%3D?line=1'>2</a>\u001b[0m \u001b[39mfrom\u001b[39;00m \u001b[39mgluonts\u001b[39;00m\u001b[39m.\u001b[39;00m\u001b[39mmx\u001b[39;00m\u001b[39m.\u001b[39;00m\u001b[39mmodel\u001b[39;00m\u001b[39m.\u001b[39;00m\u001b[39mdeepar\u001b[39;00m \u001b[39mimport\u001b[39;00m DeepAREstimator\n",
      "File \u001b[1;32mc:\\Users\\welson\\anaconda3\\envs\\dissertacao_py38\\lib\\site-packages\\gluonts\\mx\\__init__.py:21\u001b[0m\n\u001b[0;32m     18\u001b[0m \u001b[39mimport\u001b[39;00m \u001b[39mtyping\u001b[39;00m\n\u001b[0;32m     19\u001b[0m \u001b[39mfrom\u001b[39;00m \u001b[39mpkgutil\u001b[39;00m \u001b[39mimport\u001b[39;00m extend_path\n\u001b[1;32m---> 21\u001b[0m \u001b[39mimport\u001b[39;00m \u001b[39mmxnet\u001b[39;00m \u001b[39mas\u001b[39;00m \u001b[39mmx\u001b[39;00m\n\u001b[0;32m     23\u001b[0m __path__ \u001b[39m=\u001b[39m extend_path(__path__, \u001b[39m__name__\u001b[39m)  \u001b[39m# type: ignore\u001b[39;00m\n\u001b[0;32m     25\u001b[0m \u001b[39m# Tensor type for HybridBlocks in Gluon\u001b[39;00m\n",
      "\u001b[1;31mModuleNotFoundError\u001b[0m: No module named 'mxnet'"
     ]
    }
   ],
   "source": [
    "import pandas as pd\n",
    "from gluonts.mx.model.deepar import DeepAREstimator\n",
    "#from gluonts.trainer import Trainer\n",
    "#from gluonts.dataset.common import ListDataset\n",
    "#import matplotlib.pyplot as plt"
   ]
  }
 ],
 "metadata": {
  "kernelspec": {
   "display_name": "dissertacao_py38",
   "language": "python",
   "name": "python3"
  },
  "language_info": {
   "codemirror_mode": {
    "name": "ipython",
    "version": 3
   },
   "file_extension": ".py",
   "mimetype": "text/x-python",
   "name": "python",
   "nbconvert_exporter": "python",
   "pygments_lexer": "ipython3",
   "version": "3.8.18"
  }
 },
 "nbformat": 4,
 "nbformat_minor": 2
}
